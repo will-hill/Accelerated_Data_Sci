{
 "cells": [
  {
   "cell_type": "code",
   "execution_count": 1,
   "metadata": {
    "id": "Y-RdMoXfJtxE"
   },
   "outputs": [],
   "source": [
    "import locale\n",
    "locale.getpreferredencoding = lambda: \"UTF-8\""
   ]
  },
  {
   "cell_type": "markdown",
   "metadata": {},
   "source": [
    "<br/>"
   ]
  },
  {
   "cell_type": "markdown",
   "metadata": {},
   "source": [
    "<br/>"
   ]
  },
  {
   "cell_type": "markdown",
   "metadata": {
    "id": "R2cpVp2WdOsp"
   },
   "source": [
    "# [NetworkX](https://networkx.org/)\n",
    "\n",
    "\n",
    "* [most popular](https://pypistats.org/packages/networkx) graph analytics library\n",
    "* easy-to-use API\n",
    "* [documentation](https://networkx.org/documentation/stable/index.html) with examples\n",
    "* **tradeoff** was performance prior to version 3\n",
    "\n",
    "\n",
    "\n"
   ]
  },
  {
   "cell_type": "markdown",
   "metadata": {},
   "source": [
    "<br/>"
   ]
  },
  {
   "cell_type": "markdown",
   "metadata": {},
   "source": [
    "<br/>"
   ]
  },
  {
   "cell_type": "markdown",
   "metadata": {
    "id": "mfGJxLHJ3FxO"
   },
   "source": [
    "### **NVIDIA RAPIDS cuGraph** Backend\n",
    "\n",
    "* NetworkX version >= 3 introduced backends\n",
    "* nx-cugraph : GPU acceleration, unchanged API"
   ]
  },
  {
   "cell_type": "code",
   "execution_count": 2,
   "metadata": {
    "colab": {
     "base_uri": "https://localhost:8080/"
    },
    "id": "bVkQGdwPTDTi",
    "outputId": "2380fa51-da3a-4fca-d8af-7153f101ba4d"
   },
   "outputs": [
    {
     "name": "stdout",
     "output_type": "stream",
     "text": [
      "cugraph-cu12              24.12.0\n",
      "networkx                  3.4.2\n",
      "nx-cugraph-cu12           24.12.0\n",
      "pylibcugraph-cu12         24.12.0\n"
     ]
    }
   ],
   "source": [
    "!pip list | grep -E 'networkx|cugraph'"
   ]
  },
  {
   "cell_type": "markdown",
   "metadata": {
    "id": "oX23pF0rTX8U"
   },
   "source": [
    "### Numuerous ways to configure NVIDIA RAPIDS cuGraph"
   ]
  },
  {
   "cell_type": "code",
   "execution_count": 3,
   "metadata": {
    "id": "U5nof_Xm1aRA"
   },
   "outputs": [],
   "source": [
    "# export NETWORKX_AUTOMATIC_BACKENDS=cugraph\n",
    "\n",
    "# %set_env NETWORKX_AUTOMATIC_BACKENDS=cugraph\n",
    "\n",
    "import networkx as nx\n",
    "\n",
    "nx.config.backend_priority=[\"cugraph\"]  # NETWORKX_BACKEND_PRIORITY=cugraph"
   ]
  },
  {
   "cell_type": "markdown",
   "metadata": {
    "id": "QMpDNijBPSXl"
   },
   "source": [
    "<br/>"
   ]
  },
  {
   "cell_type": "markdown",
   "metadata": {
    "id": "_eyvJbrvBftY"
   },
   "source": [
    "---"
   ]
  },
  {
   "cell_type": "markdown",
   "metadata": {},
   "source": [
    "# [Stanford SNAP](https://snap.stanford.edu/) - [Patent Citation Networks](https://snap.stanford.edu/data/cit-Patents.html)"
   ]
  },
  {
   "cell_type": "markdown",
   "metadata": {},
   "source": [
    "##### Download Data"
   ]
  },
  {
   "cell_type": "code",
   "execution_count": 2,
   "metadata": {},
   "outputs": [
    {
     "name": "stdout",
     "output_type": "stream",
     "text": [
      "--2025-02-19 11:42:45--  https://snap.stanford.edu/data/cit-Patents.txt.gz\n",
      "Resolving snap.stanford.edu (snap.stanford.edu)... 171.64.75.80\n",
      "connected. to snap.stanford.edu (snap.stanford.edu)|171.64.75.80|:443... \n",
      "HTTP request sent, awaiting response... 200 OK\n",
      "Length: 85139832 (81M) [application/x-gzip]\n",
      "Saving to: ‘cit-Patents.txt.gz’\n",
      "\n",
      "cit-Patents.txt.gz  100%[===================>]  81.20M  18.8MB/s    in 8.3s    \n",
      "\n",
      "2025-02-19 11:42:53 (9.74 MB/s) - ‘cit-Patents.txt.gz’ saved [85139832/85139832]\n",
      "\n"
     ]
    }
   ],
   "source": [
    "# !wget https://snap.stanford.edu/data/cit-Patents.txt.gz"
   ]
  },
  {
   "cell_type": "markdown",
   "metadata": {},
   "source": [
    "##### Load into pandas DataFrame"
   ]
  },
  {
   "cell_type": "code",
   "execution_count": 4,
   "metadata": {},
   "outputs": [],
   "source": [
    "%load_ext cudf.pandas\n",
    "\n",
    "import pandas as pd\n",
    "\n",
    "df = pd.read_csv(\"cit-Patents.txt.gz\",\n",
    "                compression=\"gzip\",\n",
    "                skiprows=4,\n",
    "                sep=\"\\t\",\n",
    "                names=[\"src\", \"dst\"],\n",
    "                dtype=\"int32\")"
   ]
  },
  {
   "cell_type": "markdown",
   "metadata": {},
   "source": [
    "##### DataFrame to Graph"
   ]
  },
  {
   "cell_type": "code",
   "execution_count": 5,
   "metadata": {},
   "outputs": [
    {
     "data": {
      "text/plain": [
       "(3774768, 16518948)"
      ]
     },
     "execution_count": 5,
     "metadata": {},
     "output_type": "execute_result"
    }
   ],
   "source": [
    "G = nx.from_pandas_edgelist(df, source=\"src\", target=\"dst\")\n",
    "del df\n",
    "\n",
    "G.number_of_nodes(), G.number_of_edges()"
   ]
  },
  {
   "cell_type": "markdown",
   "metadata": {
    "id": "_eyvJbrvBftY"
   },
   "source": [
    "---"
   ]
  },
  {
   "cell_type": "markdown",
   "metadata": {},
   "source": [
    "<br/>"
   ]
  },
  {
   "cell_type": "markdown",
   "metadata": {
    "id": "J1unGqaF605w"
   },
   "source": [
    "# [PageRank](https://en.wikipedia.org/wiki/PageRank)"
   ]
  },
  {
   "cell_type": "code",
   "execution_count": 7,
   "metadata": {
    "id": "Jo39YxVmYolq"
   },
   "outputs": [],
   "source": [
    "%%time\n",
    "\n",
    "nx_pr_results = nx.pagerank(G)"
   ]
  },
  {
   "cell_type": "code",
   "execution_count": 8,
   "metadata": {},
   "outputs": [],
   "source": [
    "del nx_pr_results"
   ]
  },
  {
   "cell_type": "markdown",
   "metadata": {
    "id": "vDZIC2BwPPpo"
   },
   "source": [
    "<br/>"
   ]
  },
  {
   "cell_type": "markdown",
   "metadata": {},
   "source": [
    "<br/>"
   ]
  },
  {
   "cell_type": "markdown",
   "metadata": {
    "id": "D4K6sdBPI3Sf"
   },
   "source": [
    "# [Betweeness Centrality](https://networkx.org/documentation/stable/reference/algorithms/generated/networkx.algorithms.centrality.betweenness_centrality.html)"
   ]
  },
  {
   "cell_type": "code",
   "execution_count": 11,
   "metadata": {
    "colab": {
     "base_uri": "https://localhost:8080/"
    },
    "id": "gNDWbj3kAk3j",
    "outputId": "4ff77ad6-2e62-46ea-990f-214d41e7c82c"
   },
   "outputs": [
    {
     "name": "stdout",
     "output_type": "stream",
     "text": [
      "CPU times: user 282 ms, sys: 133 ms, total: 415 ms\n",
      "Wall time: 413 ms\n"
     ]
    }
   ],
   "source": [
    "%%time\n",
    "\n",
    "nx_bc_results = nx.betweenness_centrality(G, k=1)"
   ]
  }
 ],
 "metadata": {
  "colab": {
   "provenance": []
  },
  "kernelspec": {
   "display_name": "Python 3 (ipykernel)",
   "language": "python",
   "name": "python3"
  },
  "language_info": {
   "codemirror_mode": {
    "name": "ipython",
    "version": 3
   },
   "file_extension": ".py",
   "mimetype": "text/x-python",
   "name": "python",
   "nbconvert_exporter": "python",
   "pygments_lexer": "ipython3",
   "version": "3.12.3"
  }
 },
 "nbformat": 4,
 "nbformat_minor": 4
}

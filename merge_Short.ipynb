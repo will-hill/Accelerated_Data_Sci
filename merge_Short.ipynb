{
 "cells": [
  {
   "cell_type": "markdown",
   "id": "a7b893cc-0f4c-4a6f-9235-4e6d32fce347",
   "metadata": {},
   "source": [
    "##### DataFrame Styling Code\n",
    "This code adds color and bold to the dataframes"
   ]
  },
  {
   "cell_type": "code",
   "execution_count": 1,
   "id": "5d7410e4-05a1-4002-83f9-208e813a9f75",
   "metadata": {},
   "outputs": [],
   "source": [
    "def style_df(dataframe, key_cols, left_cols, right_cols, calc_cols):\n",
    "    \n",
    "    styles = pd.DataFrame('', index=dataframe.index, columns=dataframe.columns)    \n",
    "    \n",
    "    for col in dataframe.columns:\n",
    "        \n",
    "        if col in key_cols:\n",
    "            styles[col] = \"background-color: lightgreen\"\n",
    "            \n",
    "        elif col in left_cols:\n",
    "            styles[col] = \"background-color: lightyellow\"\n",
    "            \n",
    "        elif col in right_cols:\n",
    "            styles[col] = \"background-color: lightblue\"\n",
    "    \n",
    "    for index, row in dataframe.iterrows():\n",
    "        if row.get('item 🔑') in ['R ruler', 'L lamp']:\n",
    "            styles.loc[index, 'item 🔑'] += \"; font-weight: bold\"\n",
    "            \n",
    "    return styles\n",
    "\n",
    "cols = {\n",
    "    'key_cols': ['item 🔑', 'item_x', 'item_y'],\n",
    "    'left_cols': ['n_sold'],\n",
    "    'right_cols': ['price'],\n",
    "    'calc_cols': []\n",
    "}"
   ]
  },
  {
   "cell_type": "markdown",
   "id": "06d61805-1686-4294-937e-360948716a8c",
   "metadata": {},
   "source": [
    "<br/>  "
   ]
  },
  {
   "cell_type": "markdown",
   "id": "16a24dbf-b47d-430a-8305-a2da0c722840",
   "metadata": {},
   "source": [
    "<br/>  "
   ]
  },
  {
   "cell_type": "code",
   "execution_count": 2,
   "id": "e9199cb0-5f30-4546-8588-8073a6127fb7",
   "metadata": {
    "scrolled": true
   },
   "outputs": [],
   "source": [
    "%load_ext cudf.pandas\n",
    "import pandas as pd"
   ]
  },
  {
   "cell_type": "markdown",
   "id": "c8cf1b6c-ebe8-44ae-80fb-dc1db702c186",
   "metadata": {},
   "source": [
    "# <i>Number Sold</i>"
   ]
  },
  {
   "cell_type": "code",
   "execution_count": 3,
   "id": "84c22be4-afdb-4edd-96dc-c29f3db72b57",
   "metadata": {},
   "outputs": [
    {
     "data": {
      "text/html": [
       "<style type=\"text/css\">\n",
       "#T_3e291_row0_col0, #T_3e291_row1_col0, #T_3e291_row2_col0, #T_3e291_row3_col0 {\n",
       "  background-color: lightyellow;\n",
       "}\n",
       "#T_3e291_row0_col1, #T_3e291_row1_col1, #T_3e291_row2_col1 {\n",
       "  background-color: lightgreen;\n",
       "}\n",
       "#T_3e291_row3_col1 {\n",
       "  background-color: lightgreen;\n",
       "  font-weight: bold;\n",
       "}\n",
       "</style>\n",
       "<table id=\"T_3e291\">\n",
       "  <thead>\n",
       "    <tr>\n",
       "      <th class=\"blank level0\" >&nbsp;</th>\n",
       "      <th id=\"T_3e291_level0_col0\" class=\"col_heading level0 col0\" >n_sold</th>\n",
       "      <th id=\"T_3e291_level0_col1\" class=\"col_heading level0 col1\" >item 🔑</th>\n",
       "    </tr>\n",
       "  </thead>\n",
       "  <tbody>\n",
       "    <tr>\n",
       "      <th id=\"T_3e291_level0_row0\" class=\"row_heading level0 row0\" >0</th>\n",
       "      <td id=\"T_3e291_row0_col0\" class=\"data row0 col0\" >3</td>\n",
       "      <td id=\"T_3e291_row0_col1\" class=\"data row0 col1\" >pen</td>\n",
       "    </tr>\n",
       "    <tr>\n",
       "      <th id=\"T_3e291_level0_row1\" class=\"row_heading level0 row1\" >1</th>\n",
       "      <td id=\"T_3e291_row1_col0\" class=\"data row1 col0\" >4</td>\n",
       "      <td id=\"T_3e291_row1_col1\" class=\"data row1 col1\" >pencil</td>\n",
       "    </tr>\n",
       "    <tr>\n",
       "      <th id=\"T_3e291_level0_row2\" class=\"row_heading level0 row2\" >2</th>\n",
       "      <td id=\"T_3e291_row2_col0\" class=\"data row2 col0\" >1</td>\n",
       "      <td id=\"T_3e291_row2_col1\" class=\"data row2 col1\" >eraser</td>\n",
       "    </tr>\n",
       "    <tr>\n",
       "      <th id=\"T_3e291_level0_row3\" class=\"row_heading level0 row3\" >3</th>\n",
       "      <td id=\"T_3e291_row3_col0\" class=\"data row3 col0\" >0</td>\n",
       "      <td id=\"T_3e291_row3_col1\" class=\"data row3 col1\" >L lamp</td>\n",
       "    </tr>\n",
       "  </tbody>\n",
       "</table>\n"
      ],
      "text/plain": [
       "<pandas.io.formats.style.Styler object at 0x7ee7db30efc0>"
      ]
     },
     "execution_count": 3,
     "metadata": {},
     "output_type": "execute_result"
    }
   ],
   "source": [
    "sales = pd.DataFrame({\n",
    "    'n_sold': [3,4,1, 0],\n",
    "    'item 🔑': ['pen', 'pencil', 'eraser', 'L lamp'],\n",
    "})\n",
    "sales                                                                                                                                        .style.apply(func=style_df, axis=None, subset=None, **cols)"
   ]
  },
  {
   "cell_type": "markdown",
   "id": "77aa298d-39b0-4322-973d-db2d0a5499fc",
   "metadata": {},
   "source": [
    "# <i>Item Prices</i>"
   ]
  },
  {
   "cell_type": "code",
   "execution_count": 5,
   "id": "6ce4df23-62ac-4c5f-844a-132e4f2ef90e",
   "metadata": {},
   "outputs": [
    {
     "data": {
      "text/html": [
       "<style type=\"text/css\">\n",
       "#T_b1ef4_row0_col0, #T_b1ef4_row1_col0, #T_b1ef4_row2_col0 {\n",
       "  background-color: lightgreen;\n",
       "}\n",
       "#T_b1ef4_row0_col1, #T_b1ef4_row1_col1, #T_b1ef4_row2_col1, #T_b1ef4_row3_col1 {\n",
       "  background-color: lightblue;\n",
       "}\n",
       "#T_b1ef4_row3_col0 {\n",
       "  background-color: lightgreen;\n",
       "  font-weight: bold;\n",
       "}\n",
       "</style>\n",
       "<table id=\"T_b1ef4\">\n",
       "  <thead>\n",
       "    <tr>\n",
       "      <th class=\"blank level0\" >&nbsp;</th>\n",
       "      <th id=\"T_b1ef4_level0_col0\" class=\"col_heading level0 col0\" >item 🔑</th>\n",
       "      <th id=\"T_b1ef4_level0_col1\" class=\"col_heading level0 col1\" >price</th>\n",
       "    </tr>\n",
       "  </thead>\n",
       "  <tbody>\n",
       "    <tr>\n",
       "      <th id=\"T_b1ef4_level0_row0\" class=\"row_heading level0 row0\" >0</th>\n",
       "      <td id=\"T_b1ef4_row0_col0\" class=\"data row0 col0\" >pen</td>\n",
       "      <td id=\"T_b1ef4_row0_col1\" class=\"data row0 col1\" >3.00</td>\n",
       "    </tr>\n",
       "    <tr>\n",
       "      <th id=\"T_b1ef4_level0_row1\" class=\"row_heading level0 row1\" >1</th>\n",
       "      <td id=\"T_b1ef4_row1_col0\" class=\"data row1 col0\" >pencil</td>\n",
       "      <td id=\"T_b1ef4_row1_col1\" class=\"data row1 col1\" >1.00</td>\n",
       "    </tr>\n",
       "    <tr>\n",
       "      <th id=\"T_b1ef4_level0_row2\" class=\"row_heading level0 row2\" >2</th>\n",
       "      <td id=\"T_b1ef4_row2_col0\" class=\"data row2 col0\" >eraser</td>\n",
       "      <td id=\"T_b1ef4_row2_col1\" class=\"data row2 col1\" >0.50</td>\n",
       "    </tr>\n",
       "    <tr>\n",
       "      <th id=\"T_b1ef4_level0_row3\" class=\"row_heading level0 row3\" >3</th>\n",
       "      <td id=\"T_b1ef4_row3_col0\" class=\"data row3 col0\" >R ruler</td>\n",
       "      <td id=\"T_b1ef4_row3_col1\" class=\"data row3 col1\" >2.00</td>\n",
       "    </tr>\n",
       "  </tbody>\n",
       "</table>\n"
      ],
      "text/plain": [
       "<pandas.io.formats.style.Styler object at 0x7ee7db30fbf0>"
      ]
     },
     "execution_count": 5,
     "metadata": {},
     "output_type": "execute_result"
    }
   ],
   "source": [
    "prices = pd.DataFrame({\n",
    "    'item 🔑': ['pen', 'pencil', 'eraser', 'R ruler'],\n",
    "    'price': [3.0, 1.0, 0.5, 2.0]\n",
    "})\n",
    "prices                                                                                                                                        .style.apply(func=style_df, axis=None, subset=None, **cols).format(precision=2) "
   ]
  },
  {
   "cell_type": "markdown",
   "id": "2f8fc2f1-ce50-4105-8c98-1ecb143c3e4b",
   "metadata": {},
   "source": [
    "<br/>  "
   ]
  },
  {
   "cell_type": "markdown",
   "id": "c25c43e1-8ed1-4c8a-b6e2-9bec2e94b122",
   "metadata": {},
   "source": [
    "<br/>  "
   ]
  },
  {
   "cell_type": "markdown",
   "id": "e2bfe49e-c2cd-40f4-8368-3fcd9f085ec1",
   "metadata": {},
   "source": [
    "<br/>  "
   ]
  },
  {
   "cell_type": "markdown",
   "id": "0a535a98-28f1-44f8-9044-334b8ece0695",
   "metadata": {},
   "source": [
    "# left \n",
    "## left 🔑s only"
   ]
  },
  {
   "cell_type": "code",
   "execution_count": 6,
   "id": "11238ca1-4a2a-4a11-834e-689998154dbf",
   "metadata": {},
   "outputs": [
    {
     "data": {
      "text/html": [
       "<style type=\"text/css\">\n",
       "#T_0d040_row0_col0, #T_0d040_row1_col0, #T_0d040_row2_col0, #T_0d040_row3_col0 {\n",
       "  background-color: lightyellow;\n",
       "}\n",
       "#T_0d040_row0_col1, #T_0d040_row1_col1, #T_0d040_row2_col1 {\n",
       "  background-color: lightgreen;\n",
       "}\n",
       "#T_0d040_row0_col2, #T_0d040_row1_col2, #T_0d040_row2_col2, #T_0d040_row3_col2 {\n",
       "  background-color: lightblue;\n",
       "}\n",
       "#T_0d040_row3_col1 {\n",
       "  background-color: lightgreen;\n",
       "  font-weight: bold;\n",
       "}\n",
       "</style>\n",
       "<table id=\"T_0d040\">\n",
       "  <thead>\n",
       "    <tr>\n",
       "      <th class=\"blank level0\" >&nbsp;</th>\n",
       "      <th id=\"T_0d040_level0_col0\" class=\"col_heading level0 col0\" >n_sold</th>\n",
       "      <th id=\"T_0d040_level0_col1\" class=\"col_heading level0 col1\" >item 🔑</th>\n",
       "      <th id=\"T_0d040_level0_col2\" class=\"col_heading level0 col2\" >price</th>\n",
       "    </tr>\n",
       "  </thead>\n",
       "  <tbody>\n",
       "    <tr>\n",
       "      <th id=\"T_0d040_level0_row0\" class=\"row_heading level0 row0\" >0</th>\n",
       "      <td id=\"T_0d040_row0_col0\" class=\"data row0 col0\" >3</td>\n",
       "      <td id=\"T_0d040_row0_col1\" class=\"data row0 col1\" >pen</td>\n",
       "      <td id=\"T_0d040_row0_col2\" class=\"data row0 col2\" >3.00</td>\n",
       "    </tr>\n",
       "    <tr>\n",
       "      <th id=\"T_0d040_level0_row1\" class=\"row_heading level0 row1\" >1</th>\n",
       "      <td id=\"T_0d040_row1_col0\" class=\"data row1 col0\" >4</td>\n",
       "      <td id=\"T_0d040_row1_col1\" class=\"data row1 col1\" >pencil</td>\n",
       "      <td id=\"T_0d040_row1_col2\" class=\"data row1 col2\" >1.00</td>\n",
       "    </tr>\n",
       "    <tr>\n",
       "      <th id=\"T_0d040_level0_row2\" class=\"row_heading level0 row2\" >2</th>\n",
       "      <td id=\"T_0d040_row2_col0\" class=\"data row2 col0\" >1</td>\n",
       "      <td id=\"T_0d040_row2_col1\" class=\"data row2 col1\" >eraser</td>\n",
       "      <td id=\"T_0d040_row2_col2\" class=\"data row2 col2\" >0.50</td>\n",
       "    </tr>\n",
       "    <tr>\n",
       "      <th id=\"T_0d040_level0_row3\" class=\"row_heading level0 row3\" >3</th>\n",
       "      <td id=\"T_0d040_row3_col0\" class=\"data row3 col0\" >0</td>\n",
       "      <td id=\"T_0d040_row3_col1\" class=\"data row3 col1\" >L lamp</td>\n",
       "      <td id=\"T_0d040_row3_col2\" class=\"data row3 col2\" >nan</td>\n",
       "    </tr>\n",
       "  </tbody>\n",
       "</table>\n"
      ],
      "text/plain": [
       "<pandas.io.formats.style.Styler object at 0x7ee7dbde0e30>"
      ]
     },
     "execution_count": 6,
     "metadata": {},
     "output_type": "execute_result"
    }
   ],
   "source": [
    "sales.merge(\n",
    "    right=prices, \n",
    "    on='item 🔑', \n",
    "    how='left')                                                                                                                                        .style.apply(func=style_df, axis=None, subset=None, **cols).format(precision=2) "
   ]
  },
  {
   "cell_type": "markdown",
   "id": "9d3615ca-e079-45c0-be31-ce5b28e4aa16",
   "metadata": {},
   "source": [
    "<br/>  "
   ]
  },
  {
   "cell_type": "markdown",
   "id": "8e6ffa11-1cb6-4f1b-9278-bc6861cf259e",
   "metadata": {},
   "source": [
    "<br/>  "
   ]
  },
  {
   "cell_type": "markdown",
   "id": "47d81cae-05a8-4ff0-9052-1bcb9e88edcc",
   "metadata": {},
   "source": [
    "# right\n",
    "## right 🔑s only"
   ]
  },
  {
   "cell_type": "code",
   "execution_count": 7,
   "id": "88d239f8-796c-4fe3-8ef7-a57d1910d567",
   "metadata": {},
   "outputs": [
    {
     "data": {
      "text/html": [
       "<style type=\"text/css\">\n",
       "#T_8a2da_row0_col0, #T_8a2da_row1_col0, #T_8a2da_row2_col0 {\n",
       "  background-color: lightgreen;\n",
       "}\n",
       "#T_8a2da_row0_col1, #T_8a2da_row1_col1, #T_8a2da_row2_col1, #T_8a2da_row3_col1 {\n",
       "  background-color: lightblue;\n",
       "}\n",
       "#T_8a2da_row0_col2, #T_8a2da_row1_col2, #T_8a2da_row2_col2, #T_8a2da_row3_col2 {\n",
       "  background-color: lightyellow;\n",
       "}\n",
       "#T_8a2da_row3_col0 {\n",
       "  background-color: lightgreen;\n",
       "  font-weight: bold;\n",
       "}\n",
       "</style>\n",
       "<table id=\"T_8a2da\">\n",
       "  <thead>\n",
       "    <tr>\n",
       "      <th class=\"blank level0\" >&nbsp;</th>\n",
       "      <th id=\"T_8a2da_level0_col0\" class=\"col_heading level0 col0\" >item 🔑</th>\n",
       "      <th id=\"T_8a2da_level0_col1\" class=\"col_heading level0 col1\" >price</th>\n",
       "      <th id=\"T_8a2da_level0_col2\" class=\"col_heading level0 col2\" >n_sold</th>\n",
       "    </tr>\n",
       "  </thead>\n",
       "  <tbody>\n",
       "    <tr>\n",
       "      <th id=\"T_8a2da_level0_row0\" class=\"row_heading level0 row0\" >0</th>\n",
       "      <td id=\"T_8a2da_row0_col0\" class=\"data row0 col0\" >pen</td>\n",
       "      <td id=\"T_8a2da_row0_col1\" class=\"data row0 col1\" >3.00</td>\n",
       "      <td id=\"T_8a2da_row0_col2\" class=\"data row0 col2\" >3.00</td>\n",
       "    </tr>\n",
       "    <tr>\n",
       "      <th id=\"T_8a2da_level0_row1\" class=\"row_heading level0 row1\" >1</th>\n",
       "      <td id=\"T_8a2da_row1_col0\" class=\"data row1 col0\" >pencil</td>\n",
       "      <td id=\"T_8a2da_row1_col1\" class=\"data row1 col1\" >1.00</td>\n",
       "      <td id=\"T_8a2da_row1_col2\" class=\"data row1 col2\" >4.00</td>\n",
       "    </tr>\n",
       "    <tr>\n",
       "      <th id=\"T_8a2da_level0_row2\" class=\"row_heading level0 row2\" >2</th>\n",
       "      <td id=\"T_8a2da_row2_col0\" class=\"data row2 col0\" >eraser</td>\n",
       "      <td id=\"T_8a2da_row2_col1\" class=\"data row2 col1\" >0.50</td>\n",
       "      <td id=\"T_8a2da_row2_col2\" class=\"data row2 col2\" >1.00</td>\n",
       "    </tr>\n",
       "    <tr>\n",
       "      <th id=\"T_8a2da_level0_row3\" class=\"row_heading level0 row3\" >3</th>\n",
       "      <td id=\"T_8a2da_row3_col0\" class=\"data row3 col0\" >R ruler</td>\n",
       "      <td id=\"T_8a2da_row3_col1\" class=\"data row3 col1\" >2.00</td>\n",
       "      <td id=\"T_8a2da_row3_col2\" class=\"data row3 col2\" >nan</td>\n",
       "    </tr>\n",
       "  </tbody>\n",
       "</table>\n"
      ],
      "text/plain": [
       "<pandas.io.formats.style.Styler object at 0x7ee7db36e9f0>"
      ]
     },
     "execution_count": 7,
     "metadata": {},
     "output_type": "execute_result"
    }
   ],
   "source": [
    "sales.merge(\n",
    "    right=prices, \n",
    "    on='item 🔑', \n",
    "    how='right')                                                                                                                                        .style.apply(func=style_df, axis=None, **cols).format(precision=2) "
   ]
  },
  {
   "cell_type": "markdown",
   "id": "49348d45-b1db-4e79-bfd1-c46da8c3827d",
   "metadata": {},
   "source": [
    "<br/>  "
   ]
  },
  {
   "cell_type": "markdown",
   "id": "8b38eb6b-8723-4973-95cd-38b71ee0640f",
   "metadata": {},
   "source": [
    "<br/>  "
   ]
  },
  {
   "cell_type": "markdown",
   "id": "2ad47a33-3ba3-4668-a4bd-bfa521dad25c",
   "metadata": {},
   "source": [
    "# outer\n",
    "## all 🔑s included"
   ]
  },
  {
   "cell_type": "code",
   "execution_count": 8,
   "id": "c5ff0fad-6382-4d12-9f38-07cdc0c46a51",
   "metadata": {},
   "outputs": [
    {
     "data": {
      "text/html": [
       "<style type=\"text/css\">\n",
       "#T_6d406_row0_col0, #T_6d406_row1_col0, #T_6d406_row2_col0, #T_6d406_row3_col0, #T_6d406_row4_col0 {\n",
       "  background-color: lightyellow;\n",
       "}\n",
       "#T_6d406_row0_col1, #T_6d406_row1_col1 {\n",
       "  background-color: lightgreen;\n",
       "  font-weight: bold;\n",
       "}\n",
       "#T_6d406_row0_col2, #T_6d406_row1_col2, #T_6d406_row2_col2, #T_6d406_row3_col2, #T_6d406_row4_col2 {\n",
       "  background-color: lightblue;\n",
       "}\n",
       "#T_6d406_row2_col1, #T_6d406_row3_col1, #T_6d406_row4_col1 {\n",
       "  background-color: lightgreen;\n",
       "}\n",
       "</style>\n",
       "<table id=\"T_6d406\">\n",
       "  <thead>\n",
       "    <tr>\n",
       "      <th class=\"blank level0\" >&nbsp;</th>\n",
       "      <th id=\"T_6d406_level0_col0\" class=\"col_heading level0 col0\" >n_sold</th>\n",
       "      <th id=\"T_6d406_level0_col1\" class=\"col_heading level0 col1\" >item 🔑</th>\n",
       "      <th id=\"T_6d406_level0_col2\" class=\"col_heading level0 col2\" >price</th>\n",
       "    </tr>\n",
       "  </thead>\n",
       "  <tbody>\n",
       "    <tr>\n",
       "      <th id=\"T_6d406_level0_row0\" class=\"row_heading level0 row0\" >0</th>\n",
       "      <td id=\"T_6d406_row0_col0\" class=\"data row0 col0\" >0.00</td>\n",
       "      <td id=\"T_6d406_row0_col1\" class=\"data row0 col1\" >L lamp</td>\n",
       "      <td id=\"T_6d406_row0_col2\" class=\"data row0 col2\" >nan</td>\n",
       "    </tr>\n",
       "    <tr>\n",
       "      <th id=\"T_6d406_level0_row1\" class=\"row_heading level0 row1\" >1</th>\n",
       "      <td id=\"T_6d406_row1_col0\" class=\"data row1 col0\" >nan</td>\n",
       "      <td id=\"T_6d406_row1_col1\" class=\"data row1 col1\" >R ruler</td>\n",
       "      <td id=\"T_6d406_row1_col2\" class=\"data row1 col2\" >2.00</td>\n",
       "    </tr>\n",
       "    <tr>\n",
       "      <th id=\"T_6d406_level0_row2\" class=\"row_heading level0 row2\" >2</th>\n",
       "      <td id=\"T_6d406_row2_col0\" class=\"data row2 col0\" >1.00</td>\n",
       "      <td id=\"T_6d406_row2_col1\" class=\"data row2 col1\" >eraser</td>\n",
       "      <td id=\"T_6d406_row2_col2\" class=\"data row2 col2\" >0.50</td>\n",
       "    </tr>\n",
       "    <tr>\n",
       "      <th id=\"T_6d406_level0_row3\" class=\"row_heading level0 row3\" >3</th>\n",
       "      <td id=\"T_6d406_row3_col0\" class=\"data row3 col0\" >3.00</td>\n",
       "      <td id=\"T_6d406_row3_col1\" class=\"data row3 col1\" >pen</td>\n",
       "      <td id=\"T_6d406_row3_col2\" class=\"data row3 col2\" >3.00</td>\n",
       "    </tr>\n",
       "    <tr>\n",
       "      <th id=\"T_6d406_level0_row4\" class=\"row_heading level0 row4\" >4</th>\n",
       "      <td id=\"T_6d406_row4_col0\" class=\"data row4 col0\" >4.00</td>\n",
       "      <td id=\"T_6d406_row4_col1\" class=\"data row4 col1\" >pencil</td>\n",
       "      <td id=\"T_6d406_row4_col2\" class=\"data row4 col2\" >1.00</td>\n",
       "    </tr>\n",
       "  </tbody>\n",
       "</table>\n"
      ],
      "text/plain": [
       "<pandas.io.formats.style.Styler object at 0x7ee7db332c00>"
      ]
     },
     "execution_count": 8,
     "metadata": {},
     "output_type": "execute_result"
    }
   ],
   "source": [
    "sales.merge(\n",
    "    right=prices, \n",
    "    on='item 🔑', \n",
    "    how='outer')                                                                                                                                      .style.apply(func=style_df, axis=None, **cols).format(precision=2) "
   ]
  },
  {
   "cell_type": "markdown",
   "id": "7a8252d1-4a5c-4f19-b436-945e00369e9d",
   "metadata": {},
   "source": [
    "<br/>  "
   ]
  },
  {
   "cell_type": "markdown",
   "id": "8425d3ac-63d0-493d-9d3e-d634b097ed81",
   "metadata": {},
   "source": [
    "<br/>  "
   ]
  },
  {
   "cell_type": "markdown",
   "id": "8ca286c0-ee64-49e0-a9c4-9321053a29cd",
   "metadata": {},
   "source": [
    "# inner (default)\n",
    "## intersecting 🔑s only"
   ]
  },
  {
   "cell_type": "code",
   "execution_count": 9,
   "id": "2245a38f-ab68-483c-9183-959b4e654e01",
   "metadata": {},
   "outputs": [
    {
     "data": {
      "text/html": [
       "<style type=\"text/css\">\n",
       "#T_5c7eb_row0_col0, #T_5c7eb_row1_col0, #T_5c7eb_row2_col0 {\n",
       "  background-color: lightyellow;\n",
       "}\n",
       "#T_5c7eb_row0_col1, #T_5c7eb_row1_col1, #T_5c7eb_row2_col1 {\n",
       "  background-color: lightgreen;\n",
       "}\n",
       "#T_5c7eb_row0_col2, #T_5c7eb_row1_col2, #T_5c7eb_row2_col2 {\n",
       "  background-color: lightblue;\n",
       "}\n",
       "</style>\n",
       "<table id=\"T_5c7eb\">\n",
       "  <thead>\n",
       "    <tr>\n",
       "      <th class=\"blank level0\" >&nbsp;</th>\n",
       "      <th id=\"T_5c7eb_level0_col0\" class=\"col_heading level0 col0\" >n_sold</th>\n",
       "      <th id=\"T_5c7eb_level0_col1\" class=\"col_heading level0 col1\" >item 🔑</th>\n",
       "      <th id=\"T_5c7eb_level0_col2\" class=\"col_heading level0 col2\" >price</th>\n",
       "    </tr>\n",
       "  </thead>\n",
       "  <tbody>\n",
       "    <tr>\n",
       "      <th id=\"T_5c7eb_level0_row0\" class=\"row_heading level0 row0\" >0</th>\n",
       "      <td id=\"T_5c7eb_row0_col0\" class=\"data row0 col0\" >3</td>\n",
       "      <td id=\"T_5c7eb_row0_col1\" class=\"data row0 col1\" >pen</td>\n",
       "      <td id=\"T_5c7eb_row0_col2\" class=\"data row0 col2\" >3.00</td>\n",
       "    </tr>\n",
       "    <tr>\n",
       "      <th id=\"T_5c7eb_level0_row1\" class=\"row_heading level0 row1\" >1</th>\n",
       "      <td id=\"T_5c7eb_row1_col0\" class=\"data row1 col0\" >4</td>\n",
       "      <td id=\"T_5c7eb_row1_col1\" class=\"data row1 col1\" >pencil</td>\n",
       "      <td id=\"T_5c7eb_row1_col2\" class=\"data row1 col2\" >1.00</td>\n",
       "    </tr>\n",
       "    <tr>\n",
       "      <th id=\"T_5c7eb_level0_row2\" class=\"row_heading level0 row2\" >2</th>\n",
       "      <td id=\"T_5c7eb_row2_col0\" class=\"data row2 col0\" >1</td>\n",
       "      <td id=\"T_5c7eb_row2_col1\" class=\"data row2 col1\" >eraser</td>\n",
       "      <td id=\"T_5c7eb_row2_col2\" class=\"data row2 col2\" >0.50</td>\n",
       "    </tr>\n",
       "  </tbody>\n",
       "</table>\n"
      ],
      "text/plain": [
       "<pandas.io.formats.style.Styler object at 0x7ee7db36ff20>"
      ]
     },
     "execution_count": 9,
     "metadata": {},
     "output_type": "execute_result"
    }
   ],
   "source": [
    "sales.merge(\n",
    "    right=prices, \n",
    "    on='item 🔑')                                                                                                                                       .style.apply(func=style_df, axis=None, subset=None, **cols).format(precision=2) "
   ]
  },
  {
   "cell_type": "markdown",
   "id": "0d7046b4-c74b-4994-a7b2-f01ffc735af6",
   "metadata": {},
   "source": [
    "<br/>  "
   ]
  },
  {
   "cell_type": "markdown",
   "id": "89336f66-258b-4669-a9a9-ac187e76dc06",
   "metadata": {},
   "source": [
    "<br/>  "
   ]
  },
  {
   "cell_type": "markdown",
   "id": "8c6dfca4-0e7c-4287-b3d2-a4eda73f4d4d",
   "metadata": {},
   "source": [
    "---"
   ]
  },
  {
   "cell_type": "markdown",
   "id": "69a9e7f9-a8ed-42e2-828d-8301326a46ab",
   "metadata": {},
   "source": [
    "# pandas merge NVIDIA RAPIDS acceleration"
   ]
  },
  {
   "cell_type": "markdown",
   "id": "14107ce3-1aac-4940-b3ef-1b1d4eaec6b4",
   "metadata": {},
   "source": [
    "### random float data"
   ]
  },
  {
   "cell_type": "code",
   "execution_count": 10,
   "id": "370f6016-8866-4679-b668-8a9a30931955",
   "metadata": {},
   "outputs": [
    {
     "data": {
      "text/plain": [
       "<module 'pandas' (ModuleAccelerator(fast=cudf, slow=pandas))>"
      ]
     },
     "execution_count": 10,
     "metadata": {},
     "output_type": "execute_result"
    }
   ],
   "source": [
    "import numpy as np\n",
    "import pandas as pd\n",
    "pd"
   ]
  },
  {
   "cell_type": "code",
   "execution_count": 11,
   "id": "6b1476bc-8319-4df6-83cf-5c72a6e15ad2",
   "metadata": {},
   "outputs": [
    {
     "data": {
      "text/html": [
       "<div>\n",
       "<style scoped>\n",
       "    .dataframe tbody tr th:only-of-type {\n",
       "        vertical-align: middle;\n",
       "    }\n",
       "\n",
       "    .dataframe tbody tr th {\n",
       "        vertical-align: top;\n",
       "    }\n",
       "\n",
       "    .dataframe thead th {\n",
       "        text-align: right;\n",
       "    }\n",
       "</style>\n",
       "<table border=\"1\" class=\"dataframe\">\n",
       "  <thead>\n",
       "    <tr style=\"text-align: right;\">\n",
       "      <th></th>\n",
       "      <th>0</th>\n",
       "      <th>1</th>\n",
       "      <th>2</th>\n",
       "      <th>3</th>\n",
       "      <th>4</th>\n",
       "      <th>5</th>\n",
       "      <th>6</th>\n",
       "      <th>7</th>\n",
       "      <th>8</th>\n",
       "      <th>9</th>\n",
       "      <th>...</th>\n",
       "      <th>40</th>\n",
       "      <th>41</th>\n",
       "      <th>42</th>\n",
       "      <th>43</th>\n",
       "      <th>44</th>\n",
       "      <th>45</th>\n",
       "      <th>46</th>\n",
       "      <th>47</th>\n",
       "      <th>48</th>\n",
       "      <th>49</th>\n",
       "    </tr>\n",
       "  </thead>\n",
       "  <tbody>\n",
       "    <tr>\n",
       "      <th>7309947</th>\n",
       "      <td>0.737505</td>\n",
       "      <td>0.784523</td>\n",
       "      <td>0.326411</td>\n",
       "      <td>0.492196</td>\n",
       "      <td>0.239522</td>\n",
       "      <td>0.668334</td>\n",
       "      <td>0.490824</td>\n",
       "      <td>0.865769</td>\n",
       "      <td>0.026066</td>\n",
       "      <td>0.033399</td>\n",
       "      <td>...</td>\n",
       "      <td>0.029629</td>\n",
       "      <td>0.000375</td>\n",
       "      <td>0.056149</td>\n",
       "      <td>0.247460</td>\n",
       "      <td>0.341366</td>\n",
       "      <td>0.600834</td>\n",
       "      <td>0.288556</td>\n",
       "      <td>0.942583</td>\n",
       "      <td>0.134555</td>\n",
       "      <td>0.015289</td>\n",
       "    </tr>\n",
       "    <tr>\n",
       "      <th>8288236</th>\n",
       "      <td>0.073213</td>\n",
       "      <td>0.274211</td>\n",
       "      <td>0.861512</td>\n",
       "      <td>0.942729</td>\n",
       "      <td>0.175512</td>\n",
       "      <td>0.229811</td>\n",
       "      <td>0.435995</td>\n",
       "      <td>0.832640</td>\n",
       "      <td>0.119527</td>\n",
       "      <td>0.464138</td>\n",
       "      <td>...</td>\n",
       "      <td>0.941912</td>\n",
       "      <td>0.920293</td>\n",
       "      <td>0.104182</td>\n",
       "      <td>0.066676</td>\n",
       "      <td>0.395821</td>\n",
       "      <td>0.683030</td>\n",
       "      <td>0.771834</td>\n",
       "      <td>0.432414</td>\n",
       "      <td>0.743455</td>\n",
       "      <td>0.201548</td>\n",
       "    </tr>\n",
       "    <tr>\n",
       "      <th>2986337</th>\n",
       "      <td>0.966779</td>\n",
       "      <td>0.171261</td>\n",
       "      <td>0.919467</td>\n",
       "      <td>0.633235</td>\n",
       "      <td>0.724229</td>\n",
       "      <td>0.209623</td>\n",
       "      <td>0.292998</td>\n",
       "      <td>0.736985</td>\n",
       "      <td>0.110211</td>\n",
       "      <td>0.680585</td>\n",
       "      <td>...</td>\n",
       "      <td>0.388662</td>\n",
       "      <td>0.330595</td>\n",
       "      <td>0.949537</td>\n",
       "      <td>0.009096</td>\n",
       "      <td>0.267847</td>\n",
       "      <td>0.227156</td>\n",
       "      <td>0.097145</td>\n",
       "      <td>0.152026</td>\n",
       "      <td>0.822549</td>\n",
       "      <td>0.196654</td>\n",
       "    </tr>\n",
       "  </tbody>\n",
       "</table>\n",
       "<p>3 rows × 50 columns</p>\n",
       "</div>"
      ],
      "text/plain": [
       "               0         1         2         3         4         5         6   \\\n",
       "7309947  0.737505  0.784523  0.326411  0.492196  0.239522  0.668334  0.490824   \n",
       "8288236  0.073213  0.274211  0.861512  0.942729  0.175512  0.229811  0.435995   \n",
       "2986337  0.966779  0.171261  0.919467  0.633235  0.724229  0.209623  0.292998   \n",
       "\n",
       "               7         8         9   ...        40        41        42  \\\n",
       "7309947  0.865769  0.026066  0.033399  ...  0.029629  0.000375  0.056149   \n",
       "8288236  0.832640  0.119527  0.464138  ...  0.941912  0.920293  0.104182   \n",
       "2986337  0.736985  0.110211  0.680585  ...  0.388662  0.330595  0.949537   \n",
       "\n",
       "               43        44        45        46        47        48        49  \n",
       "7309947  0.247460  0.341366  0.600834  0.288556  0.942583  0.134555  0.015289  \n",
       "8288236  0.066676  0.395821  0.683030  0.771834  0.432414  0.743455  0.201548  \n",
       "2986337  0.009096  0.267847  0.227156  0.097145  0.152026  0.822549  0.196654  \n",
       "\n",
       "[3 rows x 50 columns]"
      ]
     },
     "execution_count": 11,
     "metadata": {},
     "output_type": "execute_result"
    }
   ],
   "source": [
    "N, M = 10_000_000, 50\n",
    "df = pd.DataFrame(np.random.rand(N, M))\n",
    "df.sample(3)"
   ]
  },
  {
   "cell_type": "markdown",
   "id": "c85f0c99-6f80-4ea8-921c-ddd5db7ff190",
   "metadata": {},
   "source": [
    "<br/>  "
   ]
  },
  {
   "cell_type": "markdown",
   "id": "789d8f3c-ffdf-4977-8236-25fa15c1b3a5",
   "metadata": {},
   "source": [
    "<br/>  "
   ]
  },
  {
   "cell_type": "markdown",
   "id": "3df072fe-6857-4e9b-b1de-87f86e3d4c54",
   "metadata": {},
   "source": [
    "# <u>left</u>\n",
    "## left 🔑s\n",
    "# <span style=\"color: green;\">x 91 speedup</span> 🔥\n",
    "#### RAPIDS OFF - 16.8 s\n",
    "#### RAPIDS ON  - 0.184 s"
   ]
  },
  {
   "cell_type": "code",
   "execution_count": 12,
   "id": "1527e222-75cd-41a9-8a44-0b659a1550b0",
   "metadata": {},
   "outputs": [
    {
     "name": "stdout",
     "output_type": "stream",
     "text": [
      "CPU times: user 38.1 ms, sys: 64.5 ms, total: 103 ms\n",
      "Wall time: 120 ms\n"
     ]
    }
   ],
   "source": [
    "%%time\n",
    "\n",
    "left_df = df.merge(df, on=list(range(5)), how='left')\n",
    "del left_df"
   ]
  },
  {
   "cell_type": "markdown",
   "id": "95517e0b-3d27-4a41-8412-c8a6a634b42f",
   "metadata": {},
   "source": [
    "<br/>  "
   ]
  },
  {
   "cell_type": "markdown",
   "id": "a1239a3b-40fc-44b2-a095-580f3a7437cd",
   "metadata": {},
   "source": [
    "<br/>  "
   ]
  },
  {
   "cell_type": "markdown",
   "id": "5db72040-7aa8-4092-9876-51fd3584c24b",
   "metadata": {},
   "source": [
    "# <u>right</u>\n",
    "## right 🔑s\n",
    "# <span style=\"color: green;\">x 202 speedup</span> 🔥🔥\n",
    "#### RAPIDS OFF - 16.7 s\n",
    "#### RAPIDS ON  - 0.0827 s"
   ]
  },
  {
   "cell_type": "code",
   "execution_count": 13,
   "id": "2c2cd3fd-981f-4d76-ab47-a999eefae409",
   "metadata": {},
   "outputs": [
    {
     "name": "stdout",
     "output_type": "stream",
     "text": [
      "CPU times: user 38.9 ms, sys: 38.2 ms, total: 77.2 ms\n",
      "Wall time: 92.2 ms\n"
     ]
    }
   ],
   "source": [
    "%%time\n",
    "\n",
    "right_df = df.merge(df, on=list(range(5)), how='right')\n",
    "del right_df"
   ]
  },
  {
   "cell_type": "markdown",
   "id": "15e7abb6-d53f-42ca-8eea-41a55cfde394",
   "metadata": {},
   "source": [
    "<br/>  "
   ]
  },
  {
   "cell_type": "markdown",
   "id": "df709f6c-e717-4ee4-86c4-2973c09020c8",
   "metadata": {},
   "source": [
    "<br/>  "
   ]
  },
  {
   "cell_type": "markdown",
   "id": "c256834a-9e24-4e59-9dee-3fa6cb699353",
   "metadata": {},
   "source": [
    "# <u>outer</u> \n",
    "## all 🔑s \n",
    "# <span style=\"color: green;\">x 162 speedup</span> 🔥🔥\n",
    "#### RAPIDS OFF - 36.6 s\n",
    "#### RAPIDS ON  - 0.226"
   ]
  },
  {
   "cell_type": "code",
   "execution_count": 14,
   "id": "9860a847-b46a-48c0-a306-6c94f0f4f62d",
   "metadata": {},
   "outputs": [
    {
     "name": "stdout",
     "output_type": "stream",
     "text": [
      "CPU times: user 84.4 ms, sys: 120 ms, total: 205 ms\n",
      "Wall time: 249 ms\n"
     ]
    }
   ],
   "source": [
    "%%time\n",
    "\n",
    "outer_df = df.merge(df, on=list(range(5)), how='outer')\n",
    "del outer_df"
   ]
  },
  {
   "cell_type": "markdown",
   "id": "e09804fe-2caa-4b57-85f5-82ebb8b6ce1b",
   "metadata": {},
   "source": [
    "<br/>  "
   ]
  },
  {
   "cell_type": "markdown",
   "id": "b1a9884b-d692-4b8f-befc-50039fbf6ba0",
   "metadata": {},
   "source": [
    "<br/>  "
   ]
  },
  {
   "cell_type": "markdown",
   "id": "d168eed3-c7ce-4d10-8cef-946b34a5679b",
   "metadata": {},
   "source": [
    "# <u>inner</u> \n",
    "## intersecting 🔑s\n",
    "# <span style=\"color: green;\">x 194 speedup</span> 🔥🔥\n",
    "#### RAPIDS OFF - 2:23\n",
    "#### RAPIDS ON  - 0.139"
   ]
  },
  {
   "cell_type": "code",
   "execution_count": 15,
   "id": "6f70d420-5583-4921-9f73-17a289ef06e5",
   "metadata": {},
   "outputs": [
    {
     "name": "stdout",
     "output_type": "stream",
     "text": [
      "CPU times: user 33.8 ms, sys: 36.5 ms, total: 70.3 ms\n",
      "Wall time: 87.2 ms\n"
     ]
    }
   ],
   "source": [
    "%%time\n",
    "\n",
    "inner_df = df.merge(df, on=list(range(5)), how='inner')\n",
    "del inner_df"
   ]
  },
  {
   "cell_type": "markdown",
   "id": "096ad950-c9eb-4ce2-a0db-29ec3092aa4a",
   "metadata": {},
   "source": [
    "<br/>  "
   ]
  },
  {
   "cell_type": "markdown",
   "id": "01df1e33-b1e6-4f35-b4cd-4ae5e16e44a5",
   "metadata": {},
   "source": [
    "<br/>  "
   ]
  }
 ],
 "metadata": {
  "kernelspec": {
   "display_name": "Python 3 (ipykernel)",
   "language": "python",
   "name": "python3"
  },
  "language_info": {
   "codemirror_mode": {
    "name": "ipython",
    "version": 3
   },
   "file_extension": ".py",
   "mimetype": "text/x-python",
   "name": "python",
   "nbconvert_exporter": "python",
   "pygments_lexer": "ipython3",
   "version": "3.12.3"
  }
 },
 "nbformat": 4,
 "nbformat_minor": 5
}

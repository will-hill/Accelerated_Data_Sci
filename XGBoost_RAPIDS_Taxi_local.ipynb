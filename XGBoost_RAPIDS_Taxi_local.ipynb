{
 "cells": [
  {
   "cell_type": "code",
   "execution_count": 1,
   "metadata": {
    "colab": {
     "base_uri": "https://localhost:8080/"
    },
    "id": "KThI5g481-SL",
    "outputId": "9269b04f-d4d2-409f-dc8e-0516afabd5a5"
   },
   "outputs": [
    {
     "name": "stdout",
     "output_type": "stream",
     "text": [
      "Interactive namespace is empty.\n"
     ]
    }
   ],
   "source": [
    "%whos"
   ]
  },
  {
   "cell_type": "code",
   "execution_count": 2,
   "metadata": {
    "colab": {
     "base_uri": "https://localhost:8080/"
    },
    "id": "RG1329Md2LZ9",
    "outputId": "b02d1333-8173-4fd7-840f-74cb79014a37"
   },
   "outputs": [
    {
     "name": "stdout",
     "output_type": "stream",
     "text": [
      "32\n"
     ]
    }
   ],
   "source": [
    "!nproc"
   ]
  },
  {
   "cell_type": "code",
   "execution_count": 3,
   "metadata": {
    "colab": {
     "base_uri": "https://localhost:8080/"
    },
    "id": "U1Jtc4YS2NxI",
    "outputId": "bebef346-39c5-4a3c-8ed8-250927b70c7a"
   },
   "outputs": [
    {
     "name": "stdout",
     "output_type": "stream",
     "text": [
      "               total        used        free      shared  buff/cache   available\n",
      "Mem:            62Gi       1.9Gi        40Gi        12Mi        21Gi        60Gi\n",
      "Swap:          8.0Gi          0B       8.0Gi\n"
     ]
    }
   ],
   "source": [
    "!free -h"
   ]
  },
  {
   "cell_type": "code",
   "execution_count": 4,
   "metadata": {
    "id": "KJtuwHYRqWxO"
   },
   "outputs": [],
   "source": [
    "import locale\n",
    "locale.getpreferredencoding = lambda: \"UTF-8\""
   ]
  },
  {
   "cell_type": "markdown",
   "metadata": {
    "id": "YdHiMnteqYzJ"
   },
   "source": [
    "<br/>"
   ]
  },
  {
   "cell_type": "markdown",
   "metadata": {
    "id": "siTOCd1TqbJp"
   },
   "source": [
    "<br/>"
   ]
  },
  {
   "cell_type": "markdown",
   "metadata": {
    "id": "keVhax2BqbMW"
   },
   "source": [
    "<br/>"
   ]
  },
  {
   "cell_type": "markdown",
   "metadata": {
    "id": "7aQ-2TQhqbPK"
   },
   "source": [
    "<br/>"
   ]
  },
  {
   "cell_type": "markdown",
   "metadata": {
    "id": "T4q3fHaiqbR-"
   },
   "source": [
    "<br/>"
   ]
  },
  {
   "cell_type": "markdown",
   "metadata": {
    "id": "SuCQbakTqbXJ"
   },
   "source": [
    "<br/>"
   ]
  },
  {
   "cell_type": "markdown",
   "metadata": {
    "id": "bEs6Dv3wqbab"
   },
   "source": [
    "<br/>"
   ]
  },
  {
   "cell_type": "markdown",
   "metadata": {
    "id": "FzrKLQCEo01n"
   },
   "source": [
    "# GPU Verification"
   ]
  },
  {
   "cell_type": "code",
   "execution_count": 1,
   "metadata": {
    "id": "ephy3SqGoz2f"
   },
   "outputs": [
    {
     "name": "stdout",
     "output_type": "stream",
     "text": [
      "Mon Feb  3 17:10:48 2025       \n",
      "+-----------------------------------------------------------------------------------------+\n",
      "| NVIDIA-SMI 550.120                Driver Version: 550.120        CUDA Version: 12.4     |\n",
      "|-----------------------------------------+------------------------+----------------------+\n",
      "| GPU  Name                 Persistence-M | Bus-Id          Disp.A | Volatile Uncorr. ECC |\n",
      "| Fan  Temp   Perf          Pwr:Usage/Cap |           Memory-Usage | GPU-Util  Compute M. |\n",
      "|                                         |                        |               MIG M. |\n",
      "|=========================================+========================+======================|\n",
      "|   0  NVIDIA RTX 6000 Ada Gene...    Off |   00000000:01:00.0 Off |                    0 |\n",
      "| 30%   36C    P8             30W /  300W |      12MiB /  46068MiB |      0%      Default |\n",
      "|                                         |                        |                  N/A |\n",
      "+-----------------------------------------+------------------------+----------------------+\n",
      "                                                                                         \n",
      "+-----------------------------------------------------------------------------------------+\n",
      "| Processes:                                                                              |\n",
      "|  GPU   GI   CI        PID   Type   Process name                              GPU Memory |\n",
      "|        ID   ID                                                               Usage      |\n",
      "|=========================================================================================|\n",
      "|    0   N/A  N/A      2000      G   /usr/lib/xorg/Xorg                              4MiB |\n",
      "+-----------------------------------------------------------------------------------------+\n"
     ]
    }
   ],
   "source": [
    "!nvidia-smi"
   ]
  },
  {
   "cell_type": "markdown",
   "metadata": {
    "id": "Cg3rZ7Y8qnsq"
   },
   "source": [
    "<br/>"
   ]
  },
  {
   "cell_type": "markdown",
   "metadata": {
    "id": "xqTr-z3JqnvY"
   },
   "source": [
    "<br/>"
   ]
  },
  {
   "cell_type": "markdown",
   "metadata": {
    "id": "2KoF_ryeqnys"
   },
   "source": [
    "<br/>"
   ]
  },
  {
   "cell_type": "code",
   "execution_count": 2,
   "metadata": {},
   "outputs": [],
   "source": [
    "# not needed on Colab\n",
    "# !pip install -q xgboost pandas numpy scikit-learn"
   ]
  },
  {
   "cell_type": "code",
   "execution_count": 3,
   "metadata": {},
   "outputs": [],
   "source": [
    "# !pip uninstall -y scikit-learn\n",
    "# !pip install -q scikit-learn==1.5.2"
   ]
  },
  {
   "cell_type": "markdown",
   "metadata": {
    "id": "UC-tSU8breXN"
   },
   "source": [
    "<br/>"
   ]
  },
  {
   "cell_type": "markdown",
   "metadata": {
    "id": "WWIcfDV6rg55"
   },
   "source": [
    "<br/>"
   ]
  },
  {
   "cell_type": "markdown",
   "metadata": {
    "id": "NRaXO74ieSy9"
   },
   "source": [
    "<br/>"
   ]
  },
  {
   "cell_type": "markdown",
   "metadata": {
    "id": "nXwPzmGoeS2A"
   },
   "source": [
    "<br/>"
   ]
  },
  {
   "cell_type": "markdown",
   "metadata": {
    "id": "9rF6J-6ReS5T"
   },
   "source": [
    "<br/>"
   ]
  },
  {
   "cell_type": "markdown",
   "metadata": {
    "id": "V4NY8Q-2rg9A"
   },
   "source": [
    "<br/>"
   ]
  },
  {
   "cell_type": "markdown",
   "metadata": {
    "id": "Plv5qnVveP5r"
   },
   "source": [
    "# NVIDA RAPIDS Verification"
   ]
  },
  {
   "cell_type": "code",
   "execution_count": 4,
   "metadata": {
    "id": "Qew8k5HWelE5"
   },
   "outputs": [],
   "source": [
    "# 0. Enable NVIDIA GPU in Colab\n",
    "# a. Runtime OR Resources Tool > Change runtime type"
   ]
  },
  {
   "cell_type": "code",
   "execution_count": 5,
   "metadata": {
    "id": "CM3CaV7JeQVb"
   },
   "outputs": [],
   "source": [
    "# 1. verify GPU and CUDA\n",
    "# a. nvidia-smi\n",
    "# b. nvcc --version"
   ]
  },
  {
   "cell_type": "code",
   "execution_count": 6,
   "metadata": {
    "id": "jwK822l2ef71"
   },
   "outputs": [],
   "source": [
    "# 2. verify NVIDIA RAPIDS cuDF\n",
    "# a. !pip freeze | grep cudf\n",
    "# b. %load_ext cudf.pandas\n",
    "# c. import pandas as pd\n",
    "# d. %whos"
   ]
  },
  {
   "cell_type": "code",
   "execution_count": 7,
   "metadata": {
    "id": "IdSZhjswgYNR"
   },
   "outputs": [],
   "source": [
    "%load_ext cudf.pandas"
   ]
  },
  {
   "cell_type": "code",
   "execution_count": 8,
   "metadata": {
    "id": "47nkZG1TQFvx"
   },
   "outputs": [
    {
     "data": {
      "text/plain": [
       "<module 'pandas' (ModuleAccelerator(fast=cudf, slow=pandas))>"
      ]
     },
     "execution_count": 8,
     "metadata": {},
     "output_type": "execute_result"
    }
   ],
   "source": [
    "import xgboost as xgb\n",
    "import pandas as pd\n",
    "import numpy as np\n",
    "\n",
    "pd"
   ]
  },
  {
   "cell_type": "code",
   "execution_count": 9,
   "metadata": {
    "id": "p30vFCG9fg6T"
   },
   "outputs": [],
   "source": [
    "# 3. verify lastest XGBoost version\n",
    "# a. get latest version - rapids.ai\n",
    "# b. pip freeze | grep xgboost\n",
    "# c. import xgboost as xgb ; xgb.__version__"
   ]
  },
  {
   "cell_type": "code",
   "execution_count": 10,
   "metadata": {
    "colab": {
     "base_uri": "https://localhost:8080/",
     "height": 35
    },
    "id": "StaxRMqwgt8v",
    "outputId": "c418eaab-ed41-4202-b10e-7571ca31a1dc"
   },
   "outputs": [
    {
     "data": {
      "text/plain": [
       "'2.1.3'"
      ]
     },
     "execution_count": 10,
     "metadata": {},
     "output_type": "execute_result"
    }
   ],
   "source": [
    "import xgboost as xgb ; xgb.__version__"
   ]
  },
  {
   "cell_type": "markdown",
   "metadata": {
    "id": "t_SBZAm4rg_l"
   },
   "source": [
    "<br/>"
   ]
  },
  {
   "cell_type": "markdown",
   "metadata": {
    "id": "1w8FNQereR9w"
   },
   "source": [
    "<br/>"
   ]
  },
  {
   "cell_type": "markdown",
   "metadata": {
    "id": "_9wa0XsmeSPG"
   },
   "source": [
    "<br/>"
   ]
  },
  {
   "cell_type": "markdown",
   "metadata": {
    "id": "fIKYggjCe19o"
   },
   "source": [
    "<br/>"
   ]
  },
  {
   "cell_type": "markdown",
   "metadata": {
    "id": "_vpiE_Ywe2A5"
   },
   "source": [
    "<br/>"
   ]
  },
  {
   "cell_type": "markdown",
   "metadata": {
    "id": "XVFi6BFge2IK"
   },
   "source": [
    "<br/>"
   ]
  },
  {
   "cell_type": "markdown",
   "metadata": {
    "id": "9_1kCy0-e2P5"
   },
   "source": [
    "<br/>"
   ]
  },
  {
   "cell_type": "markdown",
   "metadata": {
    "id": "DNdIYAwEeSRr"
   },
   "source": [
    "<br/>"
   ]
  },
  {
   "cell_type": "markdown",
   "metadata": {
    "id": "izgr7YEZeSUk"
   },
   "source": [
    "<br/>"
   ]
  },
  {
   "cell_type": "markdown",
   "metadata": {
    "id": "yTyNZwd4eSZP"
   },
   "source": [
    "<br/>"
   ]
  },
  {
   "cell_type": "markdown",
   "metadata": {
    "id": "JLyU0xkEeScN"
   },
   "source": [
    "<br/>"
   ]
  },
  {
   "cell_type": "markdown",
   "metadata": {
    "id": "xb7K8TIqrhCq"
   },
   "source": [
    "<br/>"
   ]
  },
  {
   "cell_type": "markdown",
   "metadata": {
    "id": "T74PeQ6sfej0"
   },
   "source": [
    "# City of Chicago Taxi Trips Data\n",
    "##### Dowload Data From Here:\n",
    "https://data.cityofchicago.org/Transportation/Taxi-Trips-2013-2023-/wrvz-psew/data_preview\n"
   ]
  },
  {
   "cell_type": "code",
   "execution_count": 15,
   "metadata": {
    "id": "eBKfcM1Ta37S"
   },
   "outputs": [],
   "source": [
    "# !cp /content/drive/MyDrive/Taxi_Trips__2013-2023__20241218.csv ."
   ]
  },
  {
   "cell_type": "code",
   "execution_count": 11,
   "metadata": {
    "colab": {
     "base_uri": "https://localhost:8080/"
    },
    "id": "JSU_Oqz-a7bg",
    "outputId": "70e37626-8ed5-4092-9293-e68c382da8e8"
   },
   "outputs": [
    {
     "name": "stdout",
     "output_type": "stream",
     "text": [
      "1972429 Taxi_Trips__2013-2023__20241218.csv\n"
     ]
    }
   ],
   "source": [
    "!wc -l Taxi_Trips__2013-2023__20241218.csv"
   ]
  },
  {
   "cell_type": "code",
   "execution_count": 12,
   "metadata": {
    "colab": {
     "base_uri": "https://localhost:8080/",
     "height": 35
    },
    "id": "uiKzWYESkYDU",
    "outputId": "72e4e0d6-497b-4fc6-d0c9-4e7bf4c3c87c"
   },
   "outputs": [
    {
     "data": {
      "text/plain": [
       "'cuda'"
      ]
     },
     "execution_count": 12,
     "metadata": {},
     "output_type": "execute_result"
    }
   ],
   "source": [
    "# xgb_device = \"cpu\"\n",
    "xgb_device = \"cuda\"\n",
    "xgb_device"
   ]
  },
  {
   "cell_type": "code",
   "execution_count": 13,
   "metadata": {
    "id": "KpnRn2o6iQhF"
   },
   "outputs": [],
   "source": [
    "import pandas as pd\n",
    "import numpy as np\n",
    "from time import time\n",
    "import seaborn as sns\n",
    "import matplotlib.pyplot as plt\n",
    "from sklearn.model_selection import KFold"
   ]
  },
  {
   "cell_type": "markdown",
   "metadata": {
    "id": "fX2mGYHPpne8"
   },
   "source": [
    "<br/>"
   ]
  },
  {
   "cell_type": "markdown",
   "metadata": {
    "id": "mxBKOvHOpp24"
   },
   "source": [
    "<br/>"
   ]
  },
  {
   "cell_type": "markdown",
   "metadata": {
    "id": "CQBgJW_Jpp6G"
   },
   "source": [
    "<br/>"
   ]
  },
  {
   "cell_type": "markdown",
   "metadata": {
    "id": "uhZDyzGYycPx"
   },
   "source": [
    "# CSV"
   ]
  },
  {
   "cell_type": "code",
   "execution_count": 14,
   "metadata": {
    "colab": {
     "base_uri": "https://localhost:8080/"
    },
    "id": "A4byxIggWZPW",
    "outputId": "57b7aedc-38e4-41ed-88e9-93b5b6698eac"
   },
   "outputs": [
    {
     "name": "stdout",
     "output_type": "stream",
     "text": [
      "CPU times: user 242 ms, sys: 228 ms, total: 470 ms\n",
      "Wall time: 248 ms\n"
     ]
    }
   ],
   "source": [
    "%%time\n",
    "\n",
    "start = time()\n",
    "# RAPIDS OFF  - 22.04\n",
    "# RAPIDS A100 - 0.408 (x33) / 1.95 ()\n",
    "\n",
    "df = pd.read_csv('Taxi_Trips__2013-2023__20241218.csv')  # read in data"
   ]
  },
  {
   "cell_type": "code",
   "execution_count": 15,
   "metadata": {
    "colab": {
     "base_uri": "https://localhost:8080/"
    },
    "id": "RW6oatklWdPc",
    "outputId": "8fd5a314-7f3b-46e6-f5f9-3c1cd620b83c"
   },
   "outputs": [
    {
     "name": "stdout",
     "output_type": "stream",
     "text": [
      "CPU times: user 80 ms, sys: 19.1 ms, total: 99.1 ms\n",
      "Wall time: 95.2 ms\n"
     ]
    }
   ],
   "source": [
    "%%time\n",
    "# RAPIDS OFF  - 22.04\n",
    "# RAPIDS A100 - 0.051\n",
    "\n",
    "df = df.rename(columns={'Trip Total': 'trip_ttl'})  # abbreviate target column name\n",
    "\n",
    "df = df[df[\"trip_ttl\"]>0]\n",
    "\n",
    "df = df.sample(frac=1, random_state=42).reset_index(drop=True)\n",
    "\n",
    "X = df.drop(columns=[\"trip_ttl\"])\n",
    "y = df[\"trip_ttl\"]"
   ]
  },
  {
   "cell_type": "code",
   "execution_count": 16,
   "metadata": {
    "colab": {
     "base_uri": "https://localhost:8080/"
    },
    "id": "LeBJe2q8lKoA",
    "outputId": "24f966ef-3c1d-4e9f-a3ae-25794526eb11"
   },
   "outputs": [
    {
     "name": "stdout",
     "output_type": "stream",
     "text": [
      "CPU times: user 240 ms, sys: 167 ms, total: 408 ms\n",
      "Wall time: 194 ms\n"
     ]
    },
    {
     "data": {
      "text/plain": [
       "0.1939387321472168"
      ]
     },
     "execution_count": 16,
     "metadata": {},
     "output_type": "execute_result"
    }
   ],
   "source": [
    "%%time\n",
    "\n",
    "start = time()\n",
    "# RAPIDS OFF  - 22.04\n",
    "# RAPIDS A100 - 0.408 (x33) / 1.95 (x11)\n",
    "\n",
    "df = pd.read_csv('Taxi_Trips__2013-2023__20241218.csv')  # read in data\n",
    "\n",
    "df = df.rename(columns={'Trip Total': 'trip_ttl'})  # abbreviate target column name\n",
    "\n",
    "df = df[df[\"trip_ttl\"]>0]\n",
    "\n",
    "df = df.sample(frac=1, random_state=42).reset_index(drop=True)\n",
    "\n",
    "X = df.drop(columns=[\"trip_ttl\"])\n",
    "y = df[\"trip_ttl\"]\n",
    "\n",
    "time() - start"
   ]
  },
  {
   "cell_type": "code",
   "execution_count": 17,
   "metadata": {
    "colab": {
     "base_uri": "https://localhost:8080/"
    },
    "id": "hdKoOa2Vq4G7",
    "outputId": "47c9968a-c57f-4697-8fcd-c1fdad97ddd5"
   },
   "outputs": [
    {
     "data": {
      "text/plain": [
       "1971068"
      ]
     },
     "execution_count": 17,
     "metadata": {},
     "output_type": "execute_result"
    }
   ],
   "source": [
    "len(df)"
   ]
  },
  {
   "cell_type": "markdown",
   "metadata": {
    "id": "WTZXDYuhq0BZ"
   },
   "source": [
    "<br/>"
   ]
  },
  {
   "cell_type": "markdown",
   "metadata": {
    "id": "Ed1xs-4Pq3Sf"
   },
   "source": [
    "<br/>"
   ]
  },
  {
   "cell_type": "markdown",
   "metadata": {
    "id": "Cybpg00Eq3ZR"
   },
   "source": [
    "<br/>"
   ]
  },
  {
   "cell_type": "markdown",
   "metadata": {
    "id": "GpDIT9cWq3dh"
   },
   "source": [
    "<br/>"
   ]
  },
  {
   "cell_type": "markdown",
   "metadata": {
    "id": "8YcjHQKcl0FL"
   },
   "source": [
    "# Mean Model"
   ]
  },
  {
   "cell_type": "code",
   "execution_count": 18,
   "metadata": {
    "colab": {
     "base_uri": "https://localhost:8080/"
    },
    "id": "5-CQY1KQllOp",
    "outputId": "edf67989-0ffe-40b5-e783-7cd2d7c2f97b"
   },
   "outputs": [
    {
     "data": {
      "text/plain": [
       "17.58"
      ]
     },
     "execution_count": 18,
     "metadata": {},
     "output_type": "execute_result"
    }
   ],
   "source": [
    "y.mean().round(2).item()"
   ]
  },
  {
   "cell_type": "code",
   "execution_count": 19,
   "metadata": {
    "colab": {
     "base_uri": "https://localhost:8080/",
     "height": 242
    },
    "id": "uZHjca7vBoMT",
    "outputId": "b81fcb8f-9562-430e-ab18-b7bb72716679"
   },
   "outputs": [
    {
     "name": "stdout",
     "output_type": "stream",
     "text": [
      "CPU times: user 268 ms, sys: 65.7 ms, total: 334 ms\n",
      "Wall time: 324 ms\n"
     ]
    },
    {
     "data": {
      "text/html": [
       "<div>\n",
       "<style scoped>\n",
       "    .dataframe tbody tr th:only-of-type {\n",
       "        vertical-align: middle;\n",
       "    }\n",
       "\n",
       "    .dataframe tbody tr th {\n",
       "        vertical-align: top;\n",
       "    }\n",
       "\n",
       "    .dataframe thead th {\n",
       "        text-align: right;\n",
       "    }\n",
       "</style>\n",
       "<table border=\"1\" class=\"dataframe\">\n",
       "  <thead>\n",
       "    <tr style=\"text-align: right;\">\n",
       "      <th></th>\n",
       "      <th>avg</th>\n",
       "      <th>mse</th>\n",
       "      <th>rmse</th>\n",
       "      <th>mae</th>\n",
       "      <th>r2</th>\n",
       "      <th>max_err</th>\n",
       "    </tr>\n",
       "  </thead>\n",
       "  <tbody>\n",
       "    <tr>\n",
       "      <th>0</th>\n",
       "      <td>17.532107</td>\n",
       "      <td>9141.875107</td>\n",
       "      <td>95.613153</td>\n",
       "      <td>13.542402</td>\n",
       "      <td>-6.023739e-06</td>\n",
       "      <td>9782.767893</td>\n",
       "    </tr>\n",
       "    <tr>\n",
       "      <th>1</th>\n",
       "      <td>17.617675</td>\n",
       "      <td>7639.707685</td>\n",
       "      <td>87.405421</td>\n",
       "      <td>13.250784</td>\n",
       "      <td>-4.884284e-06</td>\n",
       "      <td>9882.682325</td>\n",
       "    </tr>\n",
       "    <tr>\n",
       "      <th>2</th>\n",
       "      <td>17.616017</td>\n",
       "      <td>6383.971635</td>\n",
       "      <td>79.899760</td>\n",
       "      <td>13.259757</td>\n",
       "      <td>-5.354304e-06</td>\n",
       "      <td>9034.833983</td>\n",
       "    </tr>\n",
       "    <tr>\n",
       "      <th>3</th>\n",
       "      <td>17.549724</td>\n",
       "      <td>8855.465930</td>\n",
       "      <td>94.103485</td>\n",
       "      <td>13.516449</td>\n",
       "      <td>-2.426406e-06</td>\n",
       "      <td>9957.770276</td>\n",
       "    </tr>\n",
       "    <tr>\n",
       "      <th>4</th>\n",
       "      <td>17.579680</td>\n",
       "      <td>8401.307659</td>\n",
       "      <td>91.658647</td>\n",
       "      <td>13.400753</td>\n",
       "      <td>-1.217141e-09</td>\n",
       "      <td>9682.670320</td>\n",
       "    </tr>\n",
       "  </tbody>\n",
       "</table>\n",
       "</div>"
      ],
      "text/plain": [
       "         avg          mse       rmse        mae            r2      max_err\n",
       "0  17.532107  9141.875107  95.613153  13.542402 -6.023739e-06  9782.767893\n",
       "1  17.617675  7639.707685  87.405421  13.250784 -4.884284e-06  9882.682325\n",
       "2  17.616017  6383.971635  79.899760  13.259757 -5.354304e-06  9034.833983\n",
       "3  17.549724  8855.465930  94.103485  13.516449 -2.426406e-06  9957.770276\n",
       "4  17.579680  8401.307659  91.658647  13.400753 -1.217141e-09  9682.670320"
      ]
     },
     "execution_count": 19,
     "metadata": {},
     "output_type": "execute_result"
    }
   ],
   "source": [
    "%%time\n",
    "\n",
    "# RAPIDS OFF  - 1.22\n",
    "# RAPIDS A100 - 0.724\n",
    "\n",
    "kf = KFold(n_splits=5, shuffle=True, random_state=42)\n",
    "\n",
    "mean_fold_results = {\"avg\":[], \"mse\": [], \"rmse\": [], \"mae\": [], \"r2\": [], \"max_err\": []}\n",
    "\n",
    "for fold, (train_index, test_index) in enumerate(kf.split(y)):\n",
    "\n",
    "  # get folds\n",
    "  y_train, y_true = y[train_index], y[test_index]\n",
    "\n",
    "  # \"mean model\"\n",
    "  y_pred = y_train.mean()\n",
    "  mean_fold_results[\"avg\"].append(y_pred)\n",
    "\n",
    "  # calculate metrics\n",
    "  mse = ((y_true - y_pred) ** 2).mean()\n",
    "  mean_fold_results[\"mse\"].append(mse)\n",
    "  mean_fold_results[\"rmse\"].append(mse  ** 0.5)\n",
    "  mae = (y_true - y_pred).abs().mean()\n",
    "  mean_fold_results[\"mae\"].append(mae)\n",
    "  ss_residual = ((y_true - y_pred) ** 2).sum()\n",
    "  ss_total = ((y_true - y_true.mean()) ** 2).sum()\n",
    "  r_squared = 1 - (ss_residual / ss_total)\n",
    "  mean_fold_results[\"r2\"].append(1 - (ss_residual / ss_total))\n",
    "  mean_fold_results[\"max_err\"].append((y_true - y_pred).abs().max())\n",
    "\n",
    "mean_fold_results_df = pd.DataFrame(mean_fold_results)\n",
    "mean_fold_results_df"
   ]
  },
  {
   "cell_type": "code",
   "execution_count": 20,
   "metadata": {
    "colab": {
     "base_uri": "https://localhost:8080/",
     "height": 81
    },
    "id": "dkFs2gWxcjwx",
    "outputId": "f25028ac-0360-4055-8274-d1978b0fee19"
   },
   "outputs": [
    {
     "data": {
      "text/html": [
       "<div>\n",
       "<style scoped>\n",
       "    .dataframe tbody tr th:only-of-type {\n",
       "        vertical-align: middle;\n",
       "    }\n",
       "\n",
       "    .dataframe tbody tr th {\n",
       "        vertical-align: top;\n",
       "    }\n",
       "\n",
       "    .dataframe thead th {\n",
       "        text-align: right;\n",
       "    }\n",
       "</style>\n",
       "<table border=\"1\" class=\"dataframe\">\n",
       "  <thead>\n",
       "    <tr style=\"text-align: right;\">\n",
       "      <th></th>\n",
       "      <th>model</th>\n",
       "      <th>avg</th>\n",
       "      <th>mse</th>\n",
       "      <th>rmse</th>\n",
       "      <th>mae</th>\n",
       "      <th>r2</th>\n",
       "      <th>max_err</th>\n",
       "    </tr>\n",
       "  </thead>\n",
       "  <tbody>\n",
       "    <tr>\n",
       "      <th>0</th>\n",
       "      <td>mean</td>\n",
       "      <td>17.58</td>\n",
       "      <td>8084.47</td>\n",
       "      <td>89.74</td>\n",
       "      <td>13.39</td>\n",
       "      <td>-0.0</td>\n",
       "      <td>9957.77</td>\n",
       "    </tr>\n",
       "  </tbody>\n",
       "</table>\n",
       "</div>"
      ],
      "text/plain": [
       "  model    avg      mse   rmse    mae   r2  max_err\n",
       "0  mean  17.58  8084.47  89.74  13.39 -0.0  9957.77"
      ]
     },
     "execution_count": 20,
     "metadata": {},
     "output_type": "execute_result"
    }
   ],
   "source": [
    "mean_results_df = pd.DataFrame({'model': 'mean',**mean_fold_results_df.drop(columns=['max_err']).mean(), 'max_err': mean_fold_results_df['max_err'].max()}, index=[0])\n",
    "mean_results_df.round(2)"
   ]
  },
  {
   "cell_type": "markdown",
   "metadata": {
    "id": "GVm2CMs6T-VJ"
   },
   "source": [
    "<br/>"
   ]
  },
  {
   "cell_type": "markdown",
   "metadata": {
    "id": "rCWvYHhEqlwx"
   },
   "source": [
    "<br/>"
   ]
  },
  {
   "cell_type": "markdown",
   "metadata": {
    "id": "XyUTLNs4ql7U"
   },
   "source": [
    "<br/>"
   ]
  },
  {
   "cell_type": "markdown",
   "metadata": {
    "id": "ZVkIfcgeql-1"
   },
   "source": [
    "<br/>"
   ]
  },
  {
   "cell_type": "markdown",
   "metadata": {
    "id": "a8cO_yc4qmB4"
   },
   "source": [
    "<br/>"
   ]
  },
  {
   "cell_type": "markdown",
   "metadata": {
    "id": "2D7fkLn8qmFp"
   },
   "source": [
    "<br/>"
   ]
  },
  {
   "cell_type": "markdown",
   "metadata": {
    "id": "T_Zy1s75T75G"
   },
   "source": [
    "# Median Model"
   ]
  },
  {
   "cell_type": "code",
   "execution_count": 21,
   "metadata": {
    "colab": {
     "base_uri": "https://localhost:8080/"
    },
    "id": "VTMRNuxhJbJY",
    "outputId": "4b159db6-c4b8-446c-c3e9-6d94ed7a4b7e"
   },
   "outputs": [
    {
     "data": {
      "text/plain": [
       "np.float64(9.75)"
      ]
     },
     "execution_count": 21,
     "metadata": {},
     "output_type": "execute_result"
    }
   ],
   "source": [
    "y.median()"
   ]
  },
  {
   "cell_type": "code",
   "execution_count": 22,
   "metadata": {
    "colab": {
     "base_uri": "https://localhost:8080/"
    },
    "id": "us0mchq3UCQc",
    "outputId": "c0393289-8561-40d3-a5e2-036185050c42"
   },
   "outputs": [
    {
     "name": "stdout",
     "output_type": "stream",
     "text": [
      "CPU times: user 257 ms, sys: 44.9 ms, total: 302 ms\n",
      "Wall time: 291 ms\n"
     ]
    }
   ],
   "source": [
    "%%time\n",
    "# RAPIDS OFF  - 0.959\n",
    "# RAPIDS A100 -\n",
    "\n",
    "median_fold_results = {\"avg\":[], \"mse\": [], \"rmse\": [], \"mae\": [], \"r2\": [], \"max_err\": []}\n",
    "for fold, (train_index, test_index) in enumerate(kf.split(y)):\n",
    "\n",
    "  # get folds\n",
    "  y_train, y_true = y[train_index], y[test_index]\n",
    "\n",
    "  # \"median model\"\n",
    "  y_pred = y_train.median()\n",
    "  median_fold_results[\"avg\"].append(y_pred)\n",
    "\n",
    "  # calculate metrics\n",
    "  mse = ((y_true - y_pred) ** 2).mean()\n",
    "  median_fold_results[\"mse\"].append(mse)\n",
    "  median_fold_results[\"rmse\"].append(mse ** 0.5)\n",
    "  mae = (y_true - y_pred).abs().mean()\n",
    "  median_fold_results[\"mae\"].append(mae)\n",
    "  ss_residual = ((y_true - y_pred) ** 2).sum()\n",
    "  ss_total = ((y_true - y_true.mean()) ** 2).sum()\n",
    "  r_squared = 1 - (ss_residual / ss_total)\n",
    "  median_fold_results[\"r2\"].append(1 - (ss_residual / ss_total))\n",
    "  median_fold_results[\"max_err\"].append((y_true - y_pred).abs().max())\n",
    "\n",
    "median_fold_results_df = pd.DataFrame(median_fold_results)"
   ]
  },
  {
   "cell_type": "code",
   "execution_count": 23,
   "metadata": {
    "colab": {
     "base_uri": "https://localhost:8080/",
     "height": 112
    },
    "id": "SoHjCz3qUNJe",
    "outputId": "01be3dcd-8783-416a-abce-09c9ca05ca38"
   },
   "outputs": [
    {
     "data": {
      "text/html": [
       "<div>\n",
       "<style scoped>\n",
       "    .dataframe tbody tr th:only-of-type {\n",
       "        vertical-align: middle;\n",
       "    }\n",
       "\n",
       "    .dataframe tbody tr th {\n",
       "        vertical-align: top;\n",
       "    }\n",
       "\n",
       "    .dataframe thead th {\n",
       "        text-align: right;\n",
       "    }\n",
       "</style>\n",
       "<table border=\"1\" class=\"dataframe\">\n",
       "  <thead>\n",
       "    <tr style=\"text-align: right;\">\n",
       "      <th></th>\n",
       "      <th>model</th>\n",
       "      <th>avg</th>\n",
       "      <th>mse</th>\n",
       "      <th>rmse</th>\n",
       "      <th>mae</th>\n",
       "      <th>r2</th>\n",
       "      <th>max_err</th>\n",
       "    </tr>\n",
       "  </thead>\n",
       "  <tbody>\n",
       "    <tr>\n",
       "      <th>0</th>\n",
       "      <td>mean</td>\n",
       "      <td>17.58</td>\n",
       "      <td>8084.47</td>\n",
       "      <td>89.74</td>\n",
       "      <td>13.39</td>\n",
       "      <td>-0.00</td>\n",
       "      <td>9957.77</td>\n",
       "    </tr>\n",
       "    <tr>\n",
       "      <th>0</th>\n",
       "      <td>median</td>\n",
       "      <td>9.75</td>\n",
       "      <td>8145.75</td>\n",
       "      <td>90.08</td>\n",
       "      <td>10.52</td>\n",
       "      <td>-0.01</td>\n",
       "      <td>9965.57</td>\n",
       "    </tr>\n",
       "  </tbody>\n",
       "</table>\n",
       "</div>"
      ],
      "text/plain": [
       "    model    avg      mse   rmse    mae    r2  max_err\n",
       "0    mean  17.58  8084.47  89.74  13.39 -0.00  9957.77\n",
       "0  median   9.75  8145.75  90.08  10.52 -0.01  9965.57"
      ]
     },
     "execution_count": 23,
     "metadata": {},
     "output_type": "execute_result"
    }
   ],
   "source": [
    "median_results_df = pd.DataFrame({'model': 'median', **median_fold_results_df.drop(columns=['max_err']).mean(), 'max_err': median_fold_results_df['max_err'].max()}, index=[0])\n",
    "pd.concat([mean_results_df, median_results_df]).round(2)"
   ]
  },
  {
   "cell_type": "markdown",
   "metadata": {
    "id": "DFveMgtWXaWG"
   },
   "source": [
    "<br/>"
   ]
  },
  {
   "cell_type": "markdown",
   "metadata": {
    "id": "p_23hFzrqnE6"
   },
   "source": [
    "<br/>"
   ]
  },
  {
   "cell_type": "markdown",
   "metadata": {
    "id": "bm-6Ix85qnHu"
   },
   "source": [
    "<br/>"
   ]
  },
  {
   "cell_type": "markdown",
   "metadata": {
    "id": "zHs-02ZlqnKi"
   },
   "source": [
    "<br/>"
   ]
  },
  {
   "cell_type": "markdown",
   "metadata": {
    "id": "Fes73O_7qnNU"
   },
   "source": [
    "<br/>"
   ]
  },
  {
   "cell_type": "markdown",
   "metadata": {
    "id": "AfyNHsJnqnQL"
   },
   "source": [
    "<br/>"
   ]
  },
  {
   "cell_type": "markdown",
   "metadata": {
    "id": "Gf9e5Y9cXbj2"
   },
   "source": [
    "# Naive XGBoost\n",
    "##### Min Feature Engineering and no Hyperparameter Tuning"
   ]
  },
  {
   "cell_type": "code",
   "execution_count": 24,
   "metadata": {
    "colab": {
     "base_uri": "https://localhost:8080/"
    },
    "id": "958cK414XZSk",
    "outputId": "fff52970-f29d-4824-ea93-47232af7b38e"
   },
   "outputs": [
    {
     "name": "stdout",
     "output_type": "stream",
     "text": [
      "CPU times: user 310 ms, sys: 149 ms, total: 458 ms\n",
      "Wall time: 253 ms\n"
     ]
    }
   ],
   "source": [
    "%%time\n",
    "\n",
    "# RAPIDS OFF  - 48.2, 40.5\n",
    "# RAPIDS A100 - 0.597 (x68)\n",
    "\n",
    "df = pd.read_csv('Taxi_Trips__2013-2023__20241218.csv')  # read in data\n",
    "\n",
    "df = df.rename(columns={'Trip Total': 'trip_ttl'})  # abbreviate target column name\n",
    "\n",
    "df = df[df[\"trip_ttl\"]>0]\n",
    "\n",
    "df = df.sample(frac=1, random_state=42).reset_index(drop=True)\n",
    "\n",
    "df = df.drop(columns=[\"Fare\", \"Tips\", \"Tolls\", \"Extras\"])\n",
    "df = df.drop(columns=[\"Trip ID\", \"Taxi ID\", \"Pickup Centroid Location\", \"Dropoff Centroid  Location\", \"Payment Type\", \"Company\"])\n",
    "\n",
    "df[\"Trip Start Timestamp\"] = pd.to_datetime(df[\"Trip Start Timestamp\"], format=\"%m/%d/%Y %I:%M:%S %p\")\n",
    "df[\"Trip End Timestamp\"] = pd.to_datetime(df[\"Trip End Timestamp\"], format=\"%m/%d/%Y %I:%M:%S %p\")\n",
    "df[\"Trip Start Timestamp\"] = (df[\"Trip Start Timestamp\"] - pd.Timestamp(\"1970-01-01\")) // pd.Timedelta('1s')\n",
    "df[\"Trip End Timestamp\"] = (df[\"Trip End Timestamp\"] - pd.Timestamp(\"1970-01-01\")) // pd.Timedelta('1s')\n",
    "\n",
    "y = df[\"trip_ttl\"]\n",
    "X = df.drop(columns=[\"trip_ttl\"])"
   ]
  },
  {
   "cell_type": "code",
   "execution_count": 25,
   "metadata": {
    "colab": {
     "base_uri": "https://localhost:8080/"
    },
    "id": "Tx6AKAVtX4Sy",
    "outputId": "da68543d-98c7-46af-bc7d-039eed027543"
   },
   "outputs": [
    {
     "name": "stdout",
     "output_type": "stream",
     "text": [
      "CPU times: user 3.22 s, sys: 502 ms, total: 3.73 s\n",
      "Wall time: 2.46 s\n"
     ]
    }
   ],
   "source": [
    "%%time\n",
    "\n",
    "# RAPIDS OFF  - 117.26\n",
    "# RAPIDS A100 - 6.66 (x17), 5.35\n",
    "\n",
    "import xgboost as xgb\n",
    "\n",
    "xgb_naive_fold_results = {\"avg\": [], \"mse\": [], \"rmse\": [], \"mae\": [], \"r2\": [], \"max_err\": []}\n",
    "\n",
    "for fold, (train_index, test_index) in enumerate(KFold(n_splits=5, shuffle=True, random_state=42).split(df)):\n",
    "  X_train, X_test = X.iloc[train_index], X.iloc[test_index]\n",
    "  y_train, y_test = y.iloc[train_index], y.iloc[test_index]\n",
    "\n",
    "  # train\n",
    "  xgb_model = xgb.XGBRegressor(device=xgb_device)\n",
    "\n",
    "  xgb_model.fit(X_train, y_train)\n",
    "  y_pred = xgb_model.predict(X_test)\n",
    "  xgb_naive_fold_results[\"avg\"].append(y_pred.mean())\n",
    "\n",
    "  # metrics\n",
    "  mse = ((y_test - y_pred) ** 2).mean()\n",
    "  xgb_naive_fold_results[\"mse\"].append(mse)\n",
    "  xgb_naive_fold_results[\"rmse\"].append(mse ** 0.5)\n",
    "  mae = (y_test - y_pred).abs().mean()\n",
    "  xgb_naive_fold_results[\"mae\"].append(mae)\n",
    "  ss_residual = ((y_test - y_pred) ** 2).sum()\n",
    "  ss_total = ((y_test - y_test.mean()) ** 2).sum()\n",
    "  r_squared = 1 - (ss_residual / ss_total)\n",
    "  xgb_naive_fold_results[\"r2\"].append(1 - (ss_residual / ss_total))\n",
    "  xgb_naive_fold_results[\"max_err\"].append((y_test - y_pred).abs().max())"
   ]
  },
  {
   "cell_type": "markdown",
   "metadata": {
    "id": "hFFpUwlbeacY"
   },
   "source": [
    "### All Naïve Results"
   ]
  },
  {
   "cell_type": "code",
   "execution_count": 26,
   "metadata": {
    "colab": {
     "base_uri": "https://localhost:8080/",
     "height": 143
    },
    "id": "ePaMsMInmlBS",
    "outputId": "fac50eef-03c7-4c8b-a035-9eae17d1a453"
   },
   "outputs": [
    {
     "data": {
      "text/html": [
       "<div>\n",
       "<style scoped>\n",
       "    .dataframe tbody tr th:only-of-type {\n",
       "        vertical-align: middle;\n",
       "    }\n",
       "\n",
       "    .dataframe tbody tr th {\n",
       "        vertical-align: top;\n",
       "    }\n",
       "\n",
       "    .dataframe thead th {\n",
       "        text-align: right;\n",
       "    }\n",
       "</style>\n",
       "<table border=\"1\" class=\"dataframe\">\n",
       "  <thead>\n",
       "    <tr style=\"text-align: right;\">\n",
       "      <th></th>\n",
       "      <th>model</th>\n",
       "      <th>avg</th>\n",
       "      <th>mse</th>\n",
       "      <th>rmse</th>\n",
       "      <th>mae</th>\n",
       "      <th>r2</th>\n",
       "      <th>max_err</th>\n",
       "    </tr>\n",
       "  </thead>\n",
       "  <tbody>\n",
       "    <tr>\n",
       "      <th>0</th>\n",
       "      <td>xgb_naïve</td>\n",
       "      <td>17.58</td>\n",
       "      <td>7055.60</td>\n",
       "      <td>83.87</td>\n",
       "      <td>5.16</td>\n",
       "      <td>0.13</td>\n",
       "      <td>9788.08</td>\n",
       "    </tr>\n",
       "    <tr>\n",
       "      <th>0</th>\n",
       "      <td>median</td>\n",
       "      <td>9.75</td>\n",
       "      <td>8145.75</td>\n",
       "      <td>90.08</td>\n",
       "      <td>10.52</td>\n",
       "      <td>-0.01</td>\n",
       "      <td>9965.57</td>\n",
       "    </tr>\n",
       "    <tr>\n",
       "      <th>0</th>\n",
       "      <td>mean</td>\n",
       "      <td>17.58</td>\n",
       "      <td>8084.47</td>\n",
       "      <td>89.74</td>\n",
       "      <td>13.39</td>\n",
       "      <td>-0.00</td>\n",
       "      <td>9957.77</td>\n",
       "    </tr>\n",
       "  </tbody>\n",
       "</table>\n",
       "</div>"
      ],
      "text/plain": [
       "       model    avg      mse   rmse    mae    r2  max_err\n",
       "0  xgb_naïve  17.58  7055.60  83.87   5.16  0.13  9788.08\n",
       "0     median   9.75  8145.75  90.08  10.52 -0.01  9965.57\n",
       "0       mean  17.58  8084.47  89.74  13.39 -0.00  9957.77"
      ]
     },
     "execution_count": 26,
     "metadata": {},
     "output_type": "execute_result"
    }
   ],
   "source": [
    "xgb_naïve_fold_results_df = pd.DataFrame(xgb_naive_fold_results)\n",
    "xgb_naïve_results_df = pd.DataFrame({'model': 'xgb_naïve',**xgb_naïve_fold_results_df.drop(columns=['max_err']).mean(), 'max_err': xgb_naïve_fold_results_df['max_err'].max()}, index=[0])\n",
    "all_results = pd.concat([mean_results_df, median_results_df, xgb_naïve_results_df]).sort_values(by=[\"mae\", \"mse\", \"rmse\", \"r2\", \"max_err\"], ascending=[True, True, True, False, True])\n",
    "all_results.round(2)"
   ]
  },
  {
   "cell_type": "markdown",
   "metadata": {
    "id": "GPlhRR75X4-T"
   },
   "source": [
    "<br/>"
   ]
  },
  {
   "cell_type": "markdown",
   "metadata": {
    "id": "_TOSNl4QqoHP"
   },
   "source": [
    "<br/>"
   ]
  },
  {
   "cell_type": "markdown",
   "metadata": {
    "id": "ZXelrKt6qoKu"
   },
   "source": [
    "<br/>"
   ]
  },
  {
   "cell_type": "markdown",
   "metadata": {
    "id": "KwixAtYrqoNg"
   },
   "source": [
    "<br/>"
   ]
  },
  {
   "cell_type": "markdown",
   "metadata": {
    "id": "vnW5EwuhqoRy"
   },
   "source": [
    "<br/>"
   ]
  },
  {
   "cell_type": "markdown",
   "metadata": {
    "id": "oMZrcaYVn07Q"
   },
   "source": [
    "<br/>"
   ]
  },
  {
   "cell_type": "markdown",
   "metadata": {
    "id": "Oe5asoiHn2wN"
   },
   "source": [
    "### Feature Importance"
   ]
  },
  {
   "cell_type": "code",
   "execution_count": 27,
   "metadata": {
    "colab": {
     "base_uri": "https://localhost:8080/",
     "height": 452
    },
    "id": "DyFB4fWCnztR",
    "outputId": "a2710370-03c8-42d2-c2cf-7138e6fb77f6"
   },
   "outputs": [
    {
     "data": {
      "image/png": "[encoded data removed]",
      "text/plain": [
       "<Figure size 1000x800 with 1 Axes>"
      ]
     },
     "metadata": {},
     "output_type": "display_data"
    }
   ],
   "source": [
    "booster = xgb_model.get_booster()\n",
    "importance = booster.get_score(importance_type='weight')  # You can also use 'gain', 'cover', etc.\n",
    "\n",
    "# Convert to DataFrame\n",
    "importance_df = pd.DataFrame({\n",
    "    'Feature': list(importance.keys()),\n",
    "    'Importance': list(importance.values())\n",
    "})\n",
    "\n",
    "# Sort by importance\n",
    "importance_df = importance_df.sort_values(by='Importance', ascending=False)\n",
    "\n",
    "# Plot using Seaborn\n",
    "plt.figure(figsize=(10, 8))\n",
    "sns.barplot(x='Importance', y='Feature', data=importance_df, hue='Feature', palette=\"viridis\", dodge=False, legend=False)\n",
    "plt.title('Feature Importance')\n",
    "plt.xlabel('Importance Score')\n",
    "plt.ylabel('Features')\n",
    "plt.show()"
   ]
  },
  {
   "cell_type": "markdown",
   "metadata": {
    "id": "hpfXB_DS4UkF"
   },
   "source": [
    "<br/>"
   ]
  },
  {
   "cell_type": "markdown",
   "metadata": {
    "id": "hT5ylX6x4W8y"
   },
   "source": [
    "<br/>"
   ]
  },
  {
   "cell_type": "markdown",
   "metadata": {
    "id": "h3uEuh2j4XAP"
   },
   "source": [
    "<br/>"
   ]
  },
  {
   "cell_type": "markdown",
   "metadata": {
    "id": "iqauFarZeIfA"
   },
   "source": [
    "# XGBoost + Feature Engineering"
   ]
  },
  {
   "cell_type": "code",
   "execution_count": 28,
   "metadata": {
    "colab": {
     "base_uri": "https://localhost:8080/"
    },
    "id": "3RTaatiM0kwn",
    "outputId": "600a1911-5f20-47bc-862f-41608162f515"
   },
   "outputs": [
    {
     "name": "stdout",
     "output_type": "stream",
     "text": [
      "CPU times: user 257 ms, sys: 131 ms, total: 389 ms\n",
      "Wall time: 185 ms\n"
     ]
    }
   ],
   "source": [
    "%%time\n",
    "\n",
    "# RAPIDS OFF  - 20.28\n",
    "# RAPIDS A100 - 0.40 (x50)\n",
    "\n",
    "df = pd.read_csv('Taxi_Trips__2013-2023__20241218.csv')  # read in data\n",
    "\n",
    "df = df.rename(columns={'Trip Total': 'trip_ttl'})  # abbreviate target column name\n",
    "\n",
    "df = df.drop(columns=[\"Fare\", \"Tips\", \"Tolls\", \"Extras\"])\n",
    "\n",
    "df = df.drop(columns=[\"Trip ID\", \"Taxi ID\"])\n",
    "\n",
    "df[\"Trip Start Timestamp\"] = pd.to_datetime(df[\"Trip Start Timestamp\"], format=\"%m/%d/%Y %I:%M:%S %p\")\n",
    "df[\"Trip End Timestamp\"] = pd.to_datetime(df[\"Trip End Timestamp\"], format=\"%m/%d/%Y %I:%M:%S %p\")\n",
    "\n",
    "df = df[df[\"trip_ttl\"]>0]"
   ]
  },
  {
   "cell_type": "markdown",
   "metadata": {
    "id": "59tHE0-UtMPx"
   },
   "source": [
    "### Feature Classification"
   ]
  },
  {
   "cell_type": "code",
   "execution_count": 29,
   "metadata": {
    "colab": {
     "base_uri": "https://localhost:8080/",
     "height": 653
    },
    "id": "H1Ut46Z_0pDO",
    "outputId": "ff56ec61-2b20-4430-9330-de47c36b7ff4"
   },
   "outputs": [
    {
     "name": "stdout",
     "output_type": "stream",
     "text": [
      "CPU times: user 18.5 ms, sys: 3.2 ms, total: 21.7 ms\n",
      "Wall time: 18.8 ms\n"
     ]
    },
    {
     "data": {
      "text/plain": [
       "Payment Type                      9\n",
       "Company                          42\n",
       "Pickup Community Area            77\n",
       "Dropoff Community Area           77\n",
       "Pickup Census Tract             292\n",
       "Pickup Centroid Latitude        366\n",
       "Pickup Centroid Longitude       366\n",
       "Pickup Centroid Location        369\n",
       "Dropoff Centroid Latitude       475\n",
       "Dropoff Centroid Longitude      475\n",
       "Dropoff Centroid  Location      480\n",
       "Dropoff Census Tract            485\n",
       "Trip Miles                     4532\n",
       "trip_ttl                       6665\n",
       "Trip Seconds                   8989\n",
       "Trip Start Timestamp          19380\n",
       "Trip End Timestamp            19405\n",
       "dtype: int64"
      ]
     },
     "execution_count": 29,
     "metadata": {},
     "output_type": "execute_result"
    }
   ],
   "source": [
    "%%time\n",
    "\n",
    "# RAPIDS OFF  - 1.75\n",
    "# RAPIDS A100 - 0.0247 (x70)\n",
    "\n",
    "df.nunique().sort_values()"
   ]
  },
  {
   "cell_type": "code",
   "execution_count": 30,
   "metadata": {
    "colab": {
     "base_uri": "https://localhost:8080/"
    },
    "id": "6C1LoUh902eB",
    "outputId": "304c2eb6-5481-4909-a556-ee7c8e6c66af"
   },
   "outputs": [
    {
     "name": "stdout",
     "output_type": "stream",
     "text": [
      "['Pickup Community Area', 'Payment Type', 'Pickup Census Tract', 'Dropoff Community Area', 'Dropoff Census Tract', 'Dropoff Centroid  Location', 'Pickup Centroid Location', 'Company']\n",
      "CPU times: user 5.55 ms, sys: 0 ns, total: 5.55 ms\n",
      "Wall time: 4.7 ms\n"
     ]
    }
   ],
   "source": [
    "%%time\n",
    "\n",
    "# RAPIDS OFF  - 0.31\n",
    "# RAPIDS A100 - 0.0048 (x62)\n",
    "\n",
    "target = [\"trip_ttl\"]\n",
    "assert len(df[target]) > 0\n",
    "\n",
    "num_cols = [\"Pickup Centroid Latitude\", \"Pickup Centroid Longitude\", \"Dropoff Centroid Latitude\", \"Dropoff Centroid Longitude\", \"Trip Miles\", \"Trip Seconds\", \"Trip Start Timestamp\", \"Trip End Timestamp\"]\n",
    "assert len(df[num_cols]) > 0\n",
    "\n",
    "cat_cols = list(set(df.columns) - set(target + num_cols))\n",
    "assert len(df[cat_cols]) > 0\n",
    "print(cat_cols)\n",
    "\n",
    "assert len(df.columns) == len(target) + len(num_cols) + len(cat_cols)\n",
    "assert len(target + num_cols + cat_cols) == len(set(target + num_cols + cat_cols))"
   ]
  },
  {
   "cell_type": "markdown",
   "metadata": {
    "id": "DE9eNS_W0RCt"
   },
   "source": [
    "### Impute"
   ]
  },
  {
   "cell_type": "code",
   "execution_count": 31,
   "metadata": {
    "colab": {
     "base_uri": "https://localhost:8080/"
    },
    "id": "p28iWnh50S_2",
    "outputId": "5f858f9d-3c01-4b6c-ccb3-2a2f52c1805f"
   },
   "outputs": [
    {
     "name": "stdout",
     "output_type": "stream",
     "text": [
      "CPU times: user 1.22 s, sys: 230 ms, total: 1.45 s\n",
      "Wall time: 1.44 s\n"
     ]
    }
   ],
   "source": [
    "%%time\n",
    "\n",
    "# RAPIDS OFF  - 3.33\n",
    "# RAPIDS A100 - 4.04\n",
    "\n",
    "# impute num cols\n",
    "for col in num_cols:\n",
    "  df[col] = df[col].fillna(df[col].mean())\n",
    "\n",
    "#impute cat cols\n",
    "df[cat_cols] = df[cat_cols].fillna(df[cat_cols].mode().iloc[0])"
   ]
  },
  {
   "cell_type": "markdown",
   "metadata": {
    "id": "iw26R-DBfJZ5"
   },
   "source": [
    "### Outlier Analysis"
   ]
  },
  {
   "cell_type": "code",
   "execution_count": 32,
   "metadata": {
    "colab": {
     "base_uri": "https://localhost:8080/",
     "height": 459
    },
    "id": "3Muderma2wyb",
    "outputId": "132f0f7d-b923-4777-cc8b-a79de7f569e4"
   },
   "outputs": [
    {
     "name": "stdout",
     "output_type": "stream",
     "text": [
      "CPU times: user 9.12 ms, sys: 2.74 ms, total: 11.9 ms\n",
      "Wall time: 10.9 ms\n"
     ]
    },
    {
     "data": {
      "text/html": [
       "<div>\n",
       "<style scoped>\n",
       "    .dataframe tbody tr th:only-of-type {\n",
       "        vertical-align: middle;\n",
       "    }\n",
       "\n",
       "    .dataframe tbody tr th {\n",
       "        vertical-align: top;\n",
       "    }\n",
       "\n",
       "    .dataframe thead th {\n",
       "        text-align: right;\n",
       "    }\n",
       "</style>\n",
       "<table border=\"1\" class=\"dataframe\">\n",
       "  <thead>\n",
       "    <tr style=\"text-align: right;\">\n",
       "      <th></th>\n",
       "      <th>trip_ttl</th>\n",
       "      <th>Trip Seconds</th>\n",
       "      <th>Trip Miles</th>\n",
       "      <th>Payment Type</th>\n",
       "    </tr>\n",
       "  </thead>\n",
       "  <tbody>\n",
       "    <tr>\n",
       "      <th>1000042</th>\n",
       "      <td>9975.32</td>\n",
       "      <td>1500.0</td>\n",
       "      <td>0.00</td>\n",
       "      <td>Cash</td>\n",
       "    </tr>\n",
       "    <tr>\n",
       "      <th>171827</th>\n",
       "      <td>9900.30</td>\n",
       "      <td>1158.0</td>\n",
       "      <td>0.00</td>\n",
       "      <td>Cash</td>\n",
       "    </tr>\n",
       "    <tr>\n",
       "      <th>1664624</th>\n",
       "      <td>9800.30</td>\n",
       "      <td>1074.0</td>\n",
       "      <td>0.00</td>\n",
       "      <td>Cash</td>\n",
       "    </tr>\n",
       "    <tr>\n",
       "      <th>285324</th>\n",
       "      <td>9746.85</td>\n",
       "      <td>1080.0</td>\n",
       "      <td>57.90</td>\n",
       "      <td>Credit Card</td>\n",
       "    </tr>\n",
       "    <tr>\n",
       "      <th>161771</th>\n",
       "      <td>9700.25</td>\n",
       "      <td>1007.0</td>\n",
       "      <td>0.00</td>\n",
       "      <td>Cash</td>\n",
       "    </tr>\n",
       "    <tr>\n",
       "      <th>...</th>\n",
       "      <td>...</td>\n",
       "      <td>...</td>\n",
       "      <td>...</td>\n",
       "      <td>...</td>\n",
       "    </tr>\n",
       "    <tr>\n",
       "      <th>1017382</th>\n",
       "      <td>0.01</td>\n",
       "      <td>40.0</td>\n",
       "      <td>0.00</td>\n",
       "      <td>Cash</td>\n",
       "    </tr>\n",
       "    <tr>\n",
       "      <th>1038230</th>\n",
       "      <td>0.01</td>\n",
       "      <td>38.0</td>\n",
       "      <td>0.09</td>\n",
       "      <td>Cash</td>\n",
       "    </tr>\n",
       "    <tr>\n",
       "      <th>1037939</th>\n",
       "      <td>0.01</td>\n",
       "      <td>38.0</td>\n",
       "      <td>0.01</td>\n",
       "      <td>Cash</td>\n",
       "    </tr>\n",
       "    <tr>\n",
       "      <th>1227769</th>\n",
       "      <td>0.01</td>\n",
       "      <td>36.0</td>\n",
       "      <td>0.04</td>\n",
       "      <td>Cash</td>\n",
       "    </tr>\n",
       "    <tr>\n",
       "      <th>1132887</th>\n",
       "      <td>0.01</td>\n",
       "      <td>0.0</td>\n",
       "      <td>0.00</td>\n",
       "      <td>Credit Card</td>\n",
       "    </tr>\n",
       "  </tbody>\n",
       "</table>\n",
       "<p>1971068 rows × 4 columns</p>\n",
       "</div>"
      ],
      "text/plain": [
       "         trip_ttl  Trip Seconds  Trip Miles Payment Type\n",
       "1000042   9975.32        1500.0        0.00         Cash\n",
       "171827    9900.30        1158.0        0.00         Cash\n",
       "1664624   9800.30        1074.0        0.00         Cash\n",
       "285324    9746.85        1080.0       57.90  Credit Card\n",
       "161771    9700.25        1007.0        0.00         Cash\n",
       "...           ...           ...         ...          ...\n",
       "1017382      0.01          40.0        0.00         Cash\n",
       "1038230      0.01          38.0        0.09         Cash\n",
       "1037939      0.01          38.0        0.01         Cash\n",
       "1227769      0.01          36.0        0.04         Cash\n",
       "1132887      0.01           0.0        0.00  Credit Card\n",
       "\n",
       "[1971068 rows x 4 columns]"
      ]
     },
     "execution_count": 32,
     "metadata": {},
     "output_type": "execute_result"
    }
   ],
   "source": [
    "%%time\n",
    "\n",
    "# RAPIDS OFF  - 2.51\n",
    "# RAPIDS A100 - 0.02 (x125)\n",
    "df.sort_values([\"trip_ttl\", \"Trip Seconds\", \"Trip Miles\"], ascending=False)[[\"trip_ttl\", \"Trip Seconds\", \"Trip Miles\", \"Payment Type\"]]"
   ]
  },
  {
   "cell_type": "code",
   "execution_count": 33,
   "metadata": {
    "colab": {
     "base_uri": "https://localhost:8080/"
    },
    "id": "1xZLZbZeokXm",
    "outputId": "1b1921f7-0001-4103-820f-0b5df1ec5ea0"
   },
   "outputs": [
    {
     "name": "stdout",
     "output_type": "stream",
     "text": [
      "CPU times: user 11.7 ms, sys: 92 μs, total: 11.8 ms\n",
      "Wall time: 9.07 ms\n"
     ]
    }
   ],
   "source": [
    "%%time\n",
    "\n",
    "# RAPIDS OFF  - 0.216\n",
    "# RAPIDS A100 - 0.021\n",
    "\n",
    "df = df[(df['Trip Seconds'] * df['Trip Miles']) > 0]"
   ]
  },
  {
   "cell_type": "code",
   "execution_count": 34,
   "metadata": {
    "id": "jBW1IXnXjIF0"
   },
   "outputs": [],
   "source": [
    "def filter_by_modified_z_score(df, column, threshold=4.0):\n",
    "    # median and MAD (median abs deviation)\n",
    "    median = df[column].median()\n",
    "    mad = (df[column] - median).abs().median()\n",
    "    return df[(0.6745 * (df[column] - median) / mad).abs() <= threshold]"
   ]
  },
  {
   "cell_type": "code",
   "execution_count": 35,
   "metadata": {
    "colab": {
     "base_uri": "https://localhost:8080/",
     "height": 459
    },
    "id": "C1C_-2RbnhZW",
    "outputId": "98439914-9fca-419e-f58f-550d5cc5a27c"
   },
   "outputs": [
    {
     "name": "stdout",
     "output_type": "stream",
     "text": [
      "CPU times: user 30.1 ms, sys: 5.01 ms, total: 35.1 ms\n",
      "Wall time: 31 ms\n"
     ]
    },
    {
     "data": {
      "text/html": [
       "<div>\n",
       "<style scoped>\n",
       "    .dataframe tbody tr th:only-of-type {\n",
       "        vertical-align: middle;\n",
       "    }\n",
       "\n",
       "    .dataframe tbody tr th {\n",
       "        vertical-align: top;\n",
       "    }\n",
       "\n",
       "    .dataframe thead th {\n",
       "        text-align: right;\n",
       "    }\n",
       "</style>\n",
       "<table border=\"1\" class=\"dataframe\">\n",
       "  <thead>\n",
       "    <tr style=\"text-align: right;\">\n",
       "      <th></th>\n",
       "      <th>trip_ttl</th>\n",
       "      <th>Trip Seconds</th>\n",
       "      <th>Trip Miles</th>\n",
       "    </tr>\n",
       "  </thead>\n",
       "  <tbody>\n",
       "    <tr>\n",
       "      <th>426325</th>\n",
       "      <td>26.60</td>\n",
       "      <td>2880.0</td>\n",
       "      <td>3.30</td>\n",
       "    </tr>\n",
       "    <tr>\n",
       "      <th>653444</th>\n",
       "      <td>26.60</td>\n",
       "      <td>2460.0</td>\n",
       "      <td>5.20</td>\n",
       "    </tr>\n",
       "    <tr>\n",
       "      <th>1871234</th>\n",
       "      <td>26.60</td>\n",
       "      <td>2340.0</td>\n",
       "      <td>5.50</td>\n",
       "    </tr>\n",
       "    <tr>\n",
       "      <th>1224153</th>\n",
       "      <td>26.60</td>\n",
       "      <td>2220.0</td>\n",
       "      <td>6.10</td>\n",
       "    </tr>\n",
       "    <tr>\n",
       "      <th>845132</th>\n",
       "      <td>26.60</td>\n",
       "      <td>2100.0</td>\n",
       "      <td>4.50</td>\n",
       "    </tr>\n",
       "    <tr>\n",
       "      <th>...</th>\n",
       "      <td>...</td>\n",
       "      <td>...</td>\n",
       "      <td>...</td>\n",
       "    </tr>\n",
       "    <tr>\n",
       "      <th>1944300</th>\n",
       "      <td>0.01</td>\n",
       "      <td>58.0</td>\n",
       "      <td>0.32</td>\n",
       "    </tr>\n",
       "    <tr>\n",
       "      <th>1528258</th>\n",
       "      <td>0.01</td>\n",
       "      <td>40.0</td>\n",
       "      <td>0.10</td>\n",
       "    </tr>\n",
       "    <tr>\n",
       "      <th>1038230</th>\n",
       "      <td>0.01</td>\n",
       "      <td>38.0</td>\n",
       "      <td>0.09</td>\n",
       "    </tr>\n",
       "    <tr>\n",
       "      <th>1037939</th>\n",
       "      <td>0.01</td>\n",
       "      <td>38.0</td>\n",
       "      <td>0.01</td>\n",
       "    </tr>\n",
       "    <tr>\n",
       "      <th>1227769</th>\n",
       "      <td>0.01</td>\n",
       "      <td>36.0</td>\n",
       "      <td>0.04</td>\n",
       "    </tr>\n",
       "  </tbody>\n",
       "</table>\n",
       "<p>1613824 rows × 3 columns</p>\n",
       "</div>"
      ],
      "text/plain": [
       "         trip_ttl  Trip Seconds  Trip Miles\n",
       "426325      26.60        2880.0        3.30\n",
       "653444      26.60        2460.0        5.20\n",
       "1871234     26.60        2340.0        5.50\n",
       "1224153     26.60        2220.0        6.10\n",
       "845132      26.60        2100.0        4.50\n",
       "...           ...           ...         ...\n",
       "1944300      0.01          58.0        0.32\n",
       "1528258      0.01          40.0        0.10\n",
       "1038230      0.01          38.0        0.09\n",
       "1037939      0.01          38.0        0.01\n",
       "1227769      0.01          36.0        0.04\n",
       "\n",
       "[1613824 rows x 3 columns]"
      ]
     },
     "execution_count": 35,
     "metadata": {},
     "output_type": "execute_result"
    }
   ],
   "source": [
    "%%time\n",
    "\n",
    "# RAPIDS OFF  - 1.18\n",
    "# RAPIDS A100 - 0.04 (x29)\n",
    "\n",
    "df = filter_by_modified_z_score(df, \"trip_ttl\", threshold=3.5)\n",
    "df.sort_values([\"trip_ttl\", \"Trip Seconds\", \"Trip Miles\"], ascending=False)[[\"trip_ttl\", \"Trip Seconds\", \"Trip Miles\"]]"
   ]
  },
  {
   "cell_type": "markdown",
   "metadata": {
    "id": "9_4EfgKhp6HU"
   },
   "source": [
    "### Feature Extraction"
   ]
  },
  {
   "cell_type": "code",
   "execution_count": 36,
   "metadata": {
    "colab": {
     "base_uri": "https://localhost:8080/"
    },
    "id": "uIjDY5BQp9JL",
    "outputId": "5fd189d4-230b-47e4-ba34-412529b193b8"
   },
   "outputs": [
    {
     "name": "stdout",
     "output_type": "stream",
     "text": [
      "CPU times: user 22.1 ms, sys: 983 μs, total: 23.1 ms\n",
      "Wall time: 22.9 ms\n"
     ]
    }
   ],
   "source": [
    "%%time\n",
    "\n",
    "# RAPIDS OFF  - 0.36, 0.25\n",
    "# RAPIDS A100 - 0.0315 (x8)\n",
    "\n",
    "df['avg_speed'] = df['Trip Miles'] / (df['Trip Seconds'] / 3600)\n",
    "num_cols.append('avg_speed')\n",
    "\n",
    "df['day_of_week'] = df['Trip Start Timestamp'].dt.dayofweek\n",
    "df['hour_of_day'] = df['Trip Start Timestamp'].dt.hour\n",
    "df['month'] = df['Trip Start Timestamp'].dt.month\n",
    "df['year'] = df['Trip Start Timestamp'].dt.year\n",
    "cat_cols.extend(['day_of_week', 'hour_of_day', 'month', 'year'])\n",
    "\n",
    "\n",
    "# convert to timestamp seconds since epoch\n",
    "df['Trip Start Timestamp'] = df['Trip Start Timestamp'].astype(int) // 10**9\n",
    "df['Trip End Timestamp'] = df['Trip End Timestamp'].astype(int) // 10**9\n",
    "\n",
    "num_cols.extend(['Trip Start Timestamp', 'Trip End Timestamp'])"
   ]
  },
  {
   "cell_type": "markdown",
   "metadata": {
    "id": "gAUMtmPrxc4T"
   },
   "source": [
    "### Encode Categorical Features"
   ]
  },
  {
   "cell_type": "code",
   "execution_count": 37,
   "metadata": {
    "colab": {
     "base_uri": "https://localhost:8080/"
    },
    "id": "MQj8ii6gfz_9",
    "outputId": "6cf80dec-d596-4a19-918f-5a5c1c3cd097"
   },
   "outputs": [
    {
     "name": "stdout",
     "output_type": "stream",
     "text": [
      "CPU times: user 94.9 ms, sys: 10.5 ms, total: 105 ms\n",
      "Wall time: 92.7 ms\n"
     ]
    }
   ],
   "source": [
    "%%time\n",
    "\n",
    "# RAPIDS OFF  - 2.39\n",
    "# RAPIDS A100 - 0.268 (x9)\n",
    "\n",
    "# target encode cat_cols\n",
    "for col in cat_cols:\n",
    "  df[col] = df[col].map(df.groupby(col)[\"trip_ttl\"].mean())"
   ]
  },
  {
   "cell_type": "code",
   "execution_count": 38,
   "metadata": {
    "colab": {
     "base_uri": "https://localhost:8080/",
     "height": 514
    },
    "id": "NAiLP7cj5S9z",
    "outputId": "c0f39946-2658-4013-a091-1a491438a6ca"
   },
   "outputs": [
    {
     "name": "stdout",
     "output_type": "stream",
     "text": [
      "CPU times: user 15.1 ms, sys: 6.05 ms, total: 21.2 ms\n",
      "Wall time: 14.1 ms\n"
     ]
    },
    {
     "data": {
      "text/html": [
       "<div>\n",
       "<style scoped>\n",
       "    .dataframe tbody tr th:only-of-type {\n",
       "        vertical-align: middle;\n",
       "    }\n",
       "\n",
       "    .dataframe tbody tr th {\n",
       "        vertical-align: top;\n",
       "    }\n",
       "\n",
       "    .dataframe thead th {\n",
       "        text-align: right;\n",
       "    }\n",
       "</style>\n",
       "<table border=\"1\" class=\"dataframe\">\n",
       "  <thead>\n",
       "    <tr style=\"text-align: right;\">\n",
       "      <th></th>\n",
       "      <th>Trip Start Timestamp</th>\n",
       "      <th>Trip End Timestamp</th>\n",
       "      <th>Trip Seconds</th>\n",
       "      <th>Trip Miles</th>\n",
       "      <th>Pickup Census Tract</th>\n",
       "      <th>Dropoff Census Tract</th>\n",
       "      <th>Pickup Community Area</th>\n",
       "      <th>Dropoff Community Area</th>\n",
       "      <th>trip_ttl</th>\n",
       "      <th>Payment Type</th>\n",
       "      <th>Company</th>\n",
       "      <th>Pickup Centroid Latitude</th>\n",
       "      <th>Pickup Centroid Longitude</th>\n",
       "      <th>Pickup Centroid Location</th>\n",
       "      <th>Dropoff Centroid Latitude</th>\n",
       "      <th>Dropoff Centroid Longitude</th>\n",
       "      <th>Dropoff Centroid  Location</th>\n",
       "      <th>avg_speed</th>\n",
       "      <th>day_of_week</th>\n",
       "      <th>hour_of_day</th>\n",
       "      <th>month</th>\n",
       "      <th>year</th>\n",
       "    </tr>\n",
       "  </thead>\n",
       "  <tbody>\n",
       "    <tr>\n",
       "      <th>5665</th>\n",
       "      <td>1542992400</td>\n",
       "      <td>1542994200</td>\n",
       "      <td>1620.0</td>\n",
       "      <td>5.60</td>\n",
       "      <td>9.026736</td>\n",
       "      <td>13.491123</td>\n",
       "      <td>9.673293</td>\n",
       "      <td>9.515685</td>\n",
       "      <td>26.60</td>\n",
       "      <td>11.589782</td>\n",
       "      <td>9.991409</td>\n",
       "      <td>41.899156</td>\n",
       "      <td>-87.626211</td>\n",
       "      <td>9.026736</td>\n",
       "      <td>41.878667</td>\n",
       "      <td>-87.671654</td>\n",
       "      <td>13.491123</td>\n",
       "      <td>12.444444</td>\n",
       "      <td>10.034090</td>\n",
       "      <td>10.666388</td>\n",
       "      <td>10.287562</td>\n",
       "      <td>10.135737</td>\n",
       "    </tr>\n",
       "    <tr>\n",
       "      <th>27000</th>\n",
       "      <td>1541611800</td>\n",
       "      <td>1541612700</td>\n",
       "      <td>1140.0</td>\n",
       "      <td>6.90</td>\n",
       "      <td>11.230968</td>\n",
       "      <td>11.209385</td>\n",
       "      <td>9.673293</td>\n",
       "      <td>13.134676</td>\n",
       "      <td>26.60</td>\n",
       "      <td>11.589782</td>\n",
       "      <td>10.028170</td>\n",
       "      <td>41.899602</td>\n",
       "      <td>-87.633308</td>\n",
       "      <td>13.312175</td>\n",
       "      <td>41.975171</td>\n",
       "      <td>-87.687516</td>\n",
       "      <td>12.937062</td>\n",
       "      <td>21.789474</td>\n",
       "      <td>9.944505</td>\n",
       "      <td>10.666388</td>\n",
       "      <td>10.287562</td>\n",
       "      <td>10.135737</td>\n",
       "    </tr>\n",
       "    <tr>\n",
       "      <th>58577</th>\n",
       "      <td>1542400200</td>\n",
       "      <td>1542401100</td>\n",
       "      <td>960.0</td>\n",
       "      <td>7.20</td>\n",
       "      <td>11.230968</td>\n",
       "      <td>11.209385</td>\n",
       "      <td>9.636544</td>\n",
       "      <td>18.599468</td>\n",
       "      <td>26.60</td>\n",
       "      <td>11.589782</td>\n",
       "      <td>10.063929</td>\n",
       "      <td>41.878866</td>\n",
       "      <td>-87.625192</td>\n",
       "      <td>15.722639</td>\n",
       "      <td>41.794090</td>\n",
       "      <td>-87.592311</td>\n",
       "      <td>17.837765</td>\n",
       "      <td>27.000000</td>\n",
       "      <td>10.034090</td>\n",
       "      <td>10.690281</td>\n",
       "      <td>10.287562</td>\n",
       "      <td>10.135737</td>\n",
       "    </tr>\n",
       "    <tr>\n",
       "      <th>75585</th>\n",
       "      <td>1541952000</td>\n",
       "      <td>1541952900</td>\n",
       "      <td>1260.0</td>\n",
       "      <td>7.20</td>\n",
       "      <td>11.230968</td>\n",
       "      <td>11.209385</td>\n",
       "      <td>11.398014</td>\n",
       "      <td>14.519452</td>\n",
       "      <td>26.60</td>\n",
       "      <td>11.589782</td>\n",
       "      <td>9.789769</td>\n",
       "      <td>41.953582</td>\n",
       "      <td>-87.723452</td>\n",
       "      <td>11.390095</td>\n",
       "      <td>41.953582</td>\n",
       "      <td>-87.723452</td>\n",
       "      <td>14.437584</td>\n",
       "      <td>20.571429</td>\n",
       "      <td>10.561506</td>\n",
       "      <td>9.987022</td>\n",
       "      <td>10.287562</td>\n",
       "      <td>10.135737</td>\n",
       "    </tr>\n",
       "    <tr>\n",
       "      <th>80664</th>\n",
       "      <td>1541943000</td>\n",
       "      <td>1541943000</td>\n",
       "      <td>480.0</td>\n",
       "      <td>3.60</td>\n",
       "      <td>11.230968</td>\n",
       "      <td>11.209385</td>\n",
       "      <td>16.560212</td>\n",
       "      <td>9.141873</td>\n",
       "      <td>26.60</td>\n",
       "      <td>11.589782</td>\n",
       "      <td>10.063929</td>\n",
       "      <td>41.980264</td>\n",
       "      <td>-87.913625</td>\n",
       "      <td>19.607906</td>\n",
       "      <td>41.897622</td>\n",
       "      <td>-87.650391</td>\n",
       "      <td>8.712605</td>\n",
       "      <td>27.000000</td>\n",
       "      <td>10.561506</td>\n",
       "      <td>9.421587</td>\n",
       "      <td>10.287562</td>\n",
       "      <td>10.135737</td>\n",
       "    </tr>\n",
       "    <tr>\n",
       "      <th>...</th>\n",
       "      <td>...</td>\n",
       "      <td>...</td>\n",
       "      <td>...</td>\n",
       "      <td>...</td>\n",
       "      <td>...</td>\n",
       "      <td>...</td>\n",
       "      <td>...</td>\n",
       "      <td>...</td>\n",
       "      <td>...</td>\n",
       "      <td>...</td>\n",
       "      <td>...</td>\n",
       "      <td>...</td>\n",
       "      <td>...</td>\n",
       "      <td>...</td>\n",
       "      <td>...</td>\n",
       "      <td>...</td>\n",
       "      <td>...</td>\n",
       "      <td>...</td>\n",
       "      <td>...</td>\n",
       "      <td>...</td>\n",
       "      <td>...</td>\n",
       "      <td>...</td>\n",
       "    </tr>\n",
       "    <tr>\n",
       "      <th>1953038</th>\n",
       "      <td>1549127700</td>\n",
       "      <td>1549128600</td>\n",
       "      <td>1581.0</td>\n",
       "      <td>21.89</td>\n",
       "      <td>14.084110</td>\n",
       "      <td>11.209385</td>\n",
       "      <td>16.560212</td>\n",
       "      <td>9.141873</td>\n",
       "      <td>0.01</td>\n",
       "      <td>8.846531</td>\n",
       "      <td>10.430743</td>\n",
       "      <td>41.979071</td>\n",
       "      <td>-87.903040</td>\n",
       "      <td>14.084110</td>\n",
       "      <td>41.897622</td>\n",
       "      <td>-87.650391</td>\n",
       "      <td>8.712605</td>\n",
       "      <td>49.844402</td>\n",
       "      <td>10.461210</td>\n",
       "      <td>10.666388</td>\n",
       "      <td>10.077806</td>\n",
       "      <td>9.969116</td>\n",
       "    </tr>\n",
       "    <tr>\n",
       "      <th>1953494</th>\n",
       "      <td>1548666000</td>\n",
       "      <td>1548666900</td>\n",
       "      <td>1211.0</td>\n",
       "      <td>7.33</td>\n",
       "      <td>14.084110</td>\n",
       "      <td>11.209385</td>\n",
       "      <td>16.560212</td>\n",
       "      <td>9.141873</td>\n",
       "      <td>0.01</td>\n",
       "      <td>8.846531</td>\n",
       "      <td>10.430743</td>\n",
       "      <td>41.979071</td>\n",
       "      <td>-87.903040</td>\n",
       "      <td>14.084110</td>\n",
       "      <td>41.897622</td>\n",
       "      <td>-87.650391</td>\n",
       "      <td>8.712605</td>\n",
       "      <td>21.790256</td>\n",
       "      <td>9.882814</td>\n",
       "      <td>9.812430</td>\n",
       "      <td>9.927262</td>\n",
       "      <td>9.969116</td>\n",
       "    </tr>\n",
       "    <tr>\n",
       "      <th>1957942</th>\n",
       "      <td>1549026900</td>\n",
       "      <td>1549028700</td>\n",
       "      <td>1818.0</td>\n",
       "      <td>13.11</td>\n",
       "      <td>11.230968</td>\n",
       "      <td>11.209385</td>\n",
       "      <td>16.560212</td>\n",
       "      <td>9.141873</td>\n",
       "      <td>0.01</td>\n",
       "      <td>8.846531</td>\n",
       "      <td>10.430743</td>\n",
       "      <td>41.980264</td>\n",
       "      <td>-87.913625</td>\n",
       "      <td>19.607906</td>\n",
       "      <td>41.897622</td>\n",
       "      <td>-87.650391</td>\n",
       "      <td>8.712605</td>\n",
       "      <td>25.960396</td>\n",
       "      <td>10.034090</td>\n",
       "      <td>9.421587</td>\n",
       "      <td>10.077806</td>\n",
       "      <td>9.969116</td>\n",
       "    </tr>\n",
       "    <tr>\n",
       "      <th>1963097</th>\n",
       "      <td>1549472400</td>\n",
       "      <td>1549472400</td>\n",
       "      <td>61.0</td>\n",
       "      <td>0.07</td>\n",
       "      <td>10.388689</td>\n",
       "      <td>10.567145</td>\n",
       "      <td>15.545739</td>\n",
       "      <td>12.695346</td>\n",
       "      <td>0.01</td>\n",
       "      <td>8.846531</td>\n",
       "      <td>10.430743</td>\n",
       "      <td>41.785999</td>\n",
       "      <td>-87.750934</td>\n",
       "      <td>10.388689</td>\n",
       "      <td>41.785999</td>\n",
       "      <td>-87.750934</td>\n",
       "      <td>10.567145</td>\n",
       "      <td>4.131148</td>\n",
       "      <td>9.944505</td>\n",
       "      <td>10.666388</td>\n",
       "      <td>10.077806</td>\n",
       "      <td>9.969116</td>\n",
       "    </tr>\n",
       "    <tr>\n",
       "      <th>1970600</th>\n",
       "      <td>1549549800</td>\n",
       "      <td>1549553400</td>\n",
       "      <td>3752.0</td>\n",
       "      <td>34.30</td>\n",
       "      <td>11.230968</td>\n",
       "      <td>11.209385</td>\n",
       "      <td>16.560212</td>\n",
       "      <td>9.141873</td>\n",
       "      <td>0.01</td>\n",
       "      <td>8.846531</td>\n",
       "      <td>10.430743</td>\n",
       "      <td>41.980264</td>\n",
       "      <td>-87.913625</td>\n",
       "      <td>19.607906</td>\n",
       "      <td>41.897622</td>\n",
       "      <td>-87.650391</td>\n",
       "      <td>8.712605</td>\n",
       "      <td>32.910448</td>\n",
       "      <td>9.993680</td>\n",
       "      <td>9.590097</td>\n",
       "      <td>10.077806</td>\n",
       "      <td>9.969116</td>\n",
       "    </tr>\n",
       "  </tbody>\n",
       "</table>\n",
       "<p>1613824 rows × 22 columns</p>\n",
       "</div>"
      ],
      "text/plain": [
       "         Trip Start Timestamp  Trip End Timestamp  Trip Seconds  Trip Miles  \\\n",
       "5665               1542992400          1542994200        1620.0        5.60   \n",
       "27000              1541611800          1541612700        1140.0        6.90   \n",
       "58577              1542400200          1542401100         960.0        7.20   \n",
       "75585              1541952000          1541952900        1260.0        7.20   \n",
       "80664              1541943000          1541943000         480.0        3.60   \n",
       "...                       ...                 ...           ...         ...   \n",
       "1953038            1549127700          1549128600        1581.0       21.89   \n",
       "1953494            1548666000          1548666900        1211.0        7.33   \n",
       "1957942            1549026900          1549028700        1818.0       13.11   \n",
       "1963097            1549472400          1549472400          61.0        0.07   \n",
       "1970600            1549549800          1549553400        3752.0       34.30   \n",
       "\n",
       "         Pickup Census Tract  Dropoff Census Tract  Pickup Community Area  \\\n",
       "5665                9.026736             13.491123               9.673293   \n",
       "27000              11.230968             11.209385               9.673293   \n",
       "58577              11.230968             11.209385               9.636544   \n",
       "75585              11.230968             11.209385              11.398014   \n",
       "80664              11.230968             11.209385              16.560212   \n",
       "...                      ...                   ...                    ...   \n",
       "1953038            14.084110             11.209385              16.560212   \n",
       "1953494            14.084110             11.209385              16.560212   \n",
       "1957942            11.230968             11.209385              16.560212   \n",
       "1963097            10.388689             10.567145              15.545739   \n",
       "1970600            11.230968             11.209385              16.560212   \n",
       "\n",
       "         Dropoff Community Area  trip_ttl  Payment Type    Company  \\\n",
       "5665                   9.515685     26.60     11.589782   9.991409   \n",
       "27000                 13.134676     26.60     11.589782  10.028170   \n",
       "58577                 18.599468     26.60     11.589782  10.063929   \n",
       "75585                 14.519452     26.60     11.589782   9.789769   \n",
       "80664                  9.141873     26.60     11.589782  10.063929   \n",
       "...                         ...       ...           ...        ...   \n",
       "1953038                9.141873      0.01      8.846531  10.430743   \n",
       "1953494                9.141873      0.01      8.846531  10.430743   \n",
       "1957942                9.141873      0.01      8.846531  10.430743   \n",
       "1963097               12.695346      0.01      8.846531  10.430743   \n",
       "1970600                9.141873      0.01      8.846531  10.430743   \n",
       "\n",
       "         Pickup Centroid Latitude  Pickup Centroid Longitude  \\\n",
       "5665                    41.899156                 -87.626211   \n",
       "27000                   41.899602                 -87.633308   \n",
       "58577                   41.878866                 -87.625192   \n",
       "75585                   41.953582                 -87.723452   \n",
       "80664                   41.980264                 -87.913625   \n",
       "...                           ...                        ...   \n",
       "1953038                 41.979071                 -87.903040   \n",
       "1953494                 41.979071                 -87.903040   \n",
       "1957942                 41.980264                 -87.913625   \n",
       "1963097                 41.785999                 -87.750934   \n",
       "1970600                 41.980264                 -87.913625   \n",
       "\n",
       "         Pickup Centroid Location  Dropoff Centroid Latitude  \\\n",
       "5665                     9.026736                  41.878667   \n",
       "27000                   13.312175                  41.975171   \n",
       "58577                   15.722639                  41.794090   \n",
       "75585                   11.390095                  41.953582   \n",
       "80664                   19.607906                  41.897622   \n",
       "...                           ...                        ...   \n",
       "1953038                 14.084110                  41.897622   \n",
       "1953494                 14.084110                  41.897622   \n",
       "1957942                 19.607906                  41.897622   \n",
       "1963097                 10.388689                  41.785999   \n",
       "1970600                 19.607906                  41.897622   \n",
       "\n",
       "         Dropoff Centroid Longitude  Dropoff Centroid  Location  avg_speed  \\\n",
       "5665                     -87.671654                   13.491123  12.444444   \n",
       "27000                    -87.687516                   12.937062  21.789474   \n",
       "58577                    -87.592311                   17.837765  27.000000   \n",
       "75585                    -87.723452                   14.437584  20.571429   \n",
       "80664                    -87.650391                    8.712605  27.000000   \n",
       "...                             ...                         ...        ...   \n",
       "1953038                  -87.650391                    8.712605  49.844402   \n",
       "1953494                  -87.650391                    8.712605  21.790256   \n",
       "1957942                  -87.650391                    8.712605  25.960396   \n",
       "1963097                  -87.750934                   10.567145   4.131148   \n",
       "1970600                  -87.650391                    8.712605  32.910448   \n",
       "\n",
       "         day_of_week  hour_of_day      month       year  \n",
       "5665       10.034090    10.666388  10.287562  10.135737  \n",
       "27000       9.944505    10.666388  10.287562  10.135737  \n",
       "58577      10.034090    10.690281  10.287562  10.135737  \n",
       "75585      10.561506     9.987022  10.287562  10.135737  \n",
       "80664      10.561506     9.421587  10.287562  10.135737  \n",
       "...              ...          ...        ...        ...  \n",
       "1953038    10.461210    10.666388  10.077806   9.969116  \n",
       "1953494     9.882814     9.812430   9.927262   9.969116  \n",
       "1957942    10.034090     9.421587  10.077806   9.969116  \n",
       "1963097     9.944505    10.666388  10.077806   9.969116  \n",
       "1970600     9.993680     9.590097  10.077806   9.969116  \n",
       "\n",
       "[1613824 rows x 22 columns]"
      ]
     },
     "execution_count": 38,
     "metadata": {},
     "output_type": "execute_result"
    }
   ],
   "source": [
    "%%time\n",
    "\n",
    "# RAPIDS OFF  - 1.23, 0.833\n",
    "# RAPIDS A100 - 0.00823 (x100)\n",
    "\n",
    "pd.set_option('display.max_columns', None)\n",
    "\n",
    "df.sort_values(\"trip_ttl\", ascending=False)"
   ]
  },
  {
   "cell_type": "code",
   "execution_count": 39,
   "metadata": {
    "colab": {
     "base_uri": "https://localhost:8080/",
     "height": 514
    },
    "id": "U-LDV7_U82LC",
    "outputId": "481877b1-996b-48ff-ca84-82ba74b4df52"
   },
   "outputs": [
    {
     "name": "stdout",
     "output_type": "stream",
     "text": [
      "CPU times: user 68.4 ms, sys: 9.07 ms, total: 77.4 ms\n",
      "Wall time: 68.1 ms\n"
     ]
    },
    {
     "data": {
      "text/html": [
       "<div>\n",
       "<style scoped>\n",
       "    .dataframe tbody tr th:only-of-type {\n",
       "        vertical-align: middle;\n",
       "    }\n",
       "\n",
       "    .dataframe tbody tr th {\n",
       "        vertical-align: top;\n",
       "    }\n",
       "\n",
       "    .dataframe thead th {\n",
       "        text-align: right;\n",
       "    }\n",
       "</style>\n",
       "<table border=\"1\" class=\"dataframe\">\n",
       "  <thead>\n",
       "    <tr style=\"text-align: right;\">\n",
       "      <th></th>\n",
       "      <th>Trip Start Timestamp</th>\n",
       "      <th>Trip End Timestamp</th>\n",
       "      <th>Trip Seconds</th>\n",
       "      <th>Trip Miles</th>\n",
       "      <th>Pickup Census Tract</th>\n",
       "      <th>Dropoff Census Tract</th>\n",
       "      <th>Pickup Community Area</th>\n",
       "      <th>Dropoff Community Area</th>\n",
       "      <th>trip_ttl</th>\n",
       "      <th>Payment Type</th>\n",
       "      <th>Company</th>\n",
       "      <th>Pickup Centroid Latitude</th>\n",
       "      <th>Pickup Centroid Longitude</th>\n",
       "      <th>Pickup Centroid Location</th>\n",
       "      <th>Dropoff Centroid Latitude</th>\n",
       "      <th>Dropoff Centroid Longitude</th>\n",
       "      <th>Dropoff Centroid  Location</th>\n",
       "      <th>avg_speed</th>\n",
       "      <th>day_of_week</th>\n",
       "      <th>hour_of_day</th>\n",
       "      <th>month</th>\n",
       "      <th>year</th>\n",
       "    </tr>\n",
       "  </thead>\n",
       "  <tbody>\n",
       "    <tr>\n",
       "      <th>0</th>\n",
       "      <td>1.543099e+09</td>\n",
       "      <td>1.543099e+09</td>\n",
       "      <td>240.0</td>\n",
       "      <td>0.90</td>\n",
       "      <td>8.889187</td>\n",
       "      <td>8.399119</td>\n",
       "      <td>9.673293</td>\n",
       "      <td>8.648094</td>\n",
       "      <td>5.50</td>\n",
       "      <td>8.846531</td>\n",
       "      <td>9.918811</td>\n",
       "      <td>41.892508</td>\n",
       "      <td>-87.626215</td>\n",
       "      <td>8.889187</td>\n",
       "      <td>41.884987</td>\n",
       "      <td>-87.620993</td>\n",
       "      <td>8.399119</td>\n",
       "      <td>13.500000</td>\n",
       "      <td>10.461210</td>\n",
       "      <td>10.907608</td>\n",
       "      <td>10.287562</td>\n",
       "      <td>10.135737</td>\n",
       "    </tr>\n",
       "    <tr>\n",
       "      <th>1</th>\n",
       "      <td>1.543069e+09</td>\n",
       "      <td>1.543069e+09</td>\n",
       "      <td>342.0</td>\n",
       "      <td>0.91</td>\n",
       "      <td>8.840747</td>\n",
       "      <td>8.976772</td>\n",
       "      <td>9.636544</td>\n",
       "      <td>9.141873</td>\n",
       "      <td>7.00</td>\n",
       "      <td>8.846531</td>\n",
       "      <td>9.991409</td>\n",
       "      <td>41.884987</td>\n",
       "      <td>-87.620993</td>\n",
       "      <td>8.840747</td>\n",
       "      <td>41.891972</td>\n",
       "      <td>-87.612945</td>\n",
       "      <td>8.976772</td>\n",
       "      <td>9.578947</td>\n",
       "      <td>10.461210</td>\n",
       "      <td>9.590097</td>\n",
       "      <td>10.287562</td>\n",
       "      <td>10.135737</td>\n",
       "    </tr>\n",
       "    <tr>\n",
       "      <th>2</th>\n",
       "      <td>1.542648e+09</td>\n",
       "      <td>1.542648e+09</td>\n",
       "      <td>419.0</td>\n",
       "      <td>0.82</td>\n",
       "      <td>9.269435</td>\n",
       "      <td>11.209385</td>\n",
       "      <td>9.933901</td>\n",
       "      <td>8.648094</td>\n",
       "      <td>7.70</td>\n",
       "      <td>11.589782</td>\n",
       "      <td>10.063929</td>\n",
       "      <td>41.879255</td>\n",
       "      <td>-87.642649</td>\n",
       "      <td>9.269435</td>\n",
       "      <td>41.880994</td>\n",
       "      <td>-87.632746</td>\n",
       "      <td>8.712605</td>\n",
       "      <td>7.045346</td>\n",
       "      <td>9.882814</td>\n",
       "      <td>10.666388</td>\n",
       "      <td>10.287562</td>\n",
       "      <td>10.135737</td>\n",
       "    </tr>\n",
       "    <tr>\n",
       "      <th>3</th>\n",
       "      <td>1.542815e+09</td>\n",
       "      <td>1.542816e+09</td>\n",
       "      <td>479.0</td>\n",
       "      <td>1.37</td>\n",
       "      <td>8.840747</td>\n",
       "      <td>8.697326</td>\n",
       "      <td>9.636544</td>\n",
       "      <td>9.141873</td>\n",
       "      <td>9.75</td>\n",
       "      <td>11.589782</td>\n",
       "      <td>9.991409</td>\n",
       "      <td>41.884987</td>\n",
       "      <td>-87.620993</td>\n",
       "      <td>8.840747</td>\n",
       "      <td>41.895033</td>\n",
       "      <td>-87.619711</td>\n",
       "      <td>8.697326</td>\n",
       "      <td>10.296451</td>\n",
       "      <td>9.944505</td>\n",
       "      <td>9.706529</td>\n",
       "      <td>10.287562</td>\n",
       "      <td>10.135737</td>\n",
       "    </tr>\n",
       "    <tr>\n",
       "      <th>4</th>\n",
       "      <td>1.542604e+09</td>\n",
       "      <td>1.542605e+09</td>\n",
       "      <td>1038.0</td>\n",
       "      <td>8.74</td>\n",
       "      <td>11.230968</td>\n",
       "      <td>11.209385</td>\n",
       "      <td>11.932033</td>\n",
       "      <td>13.692171</td>\n",
       "      <td>23.75</td>\n",
       "      <td>8.846531</td>\n",
       "      <td>10.063929</td>\n",
       "      <td>41.954028</td>\n",
       "      <td>-87.763399</td>\n",
       "      <td>11.920188</td>\n",
       "      <td>41.980264</td>\n",
       "      <td>-87.913625</td>\n",
       "      <td>18.763583</td>\n",
       "      <td>30.312139</td>\n",
       "      <td>9.882814</td>\n",
       "      <td>10.416209</td>\n",
       "      <td>10.287562</td>\n",
       "      <td>10.135737</td>\n",
       "    </tr>\n",
       "    <tr>\n",
       "      <th>...</th>\n",
       "      <td>...</td>\n",
       "      <td>...</td>\n",
       "      <td>...</td>\n",
       "      <td>...</td>\n",
       "      <td>...</td>\n",
       "      <td>...</td>\n",
       "      <td>...</td>\n",
       "      <td>...</td>\n",
       "      <td>...</td>\n",
       "      <td>...</td>\n",
       "      <td>...</td>\n",
       "      <td>...</td>\n",
       "      <td>...</td>\n",
       "      <td>...</td>\n",
       "      <td>...</td>\n",
       "      <td>...</td>\n",
       "      <td>...</td>\n",
       "      <td>...</td>\n",
       "      <td>...</td>\n",
       "      <td>...</td>\n",
       "      <td>...</td>\n",
       "      <td>...</td>\n",
       "    </tr>\n",
       "    <tr>\n",
       "      <th>1972423</th>\n",
       "      <td>1.549474e+09</td>\n",
       "      <td>1.549475e+09</td>\n",
       "      <td>1005.0</td>\n",
       "      <td>3.20</td>\n",
       "      <td>13.677037</td>\n",
       "      <td>8.411083</td>\n",
       "      <td>11.556345</td>\n",
       "      <td>9.141873</td>\n",
       "      <td>11.75</td>\n",
       "      <td>8.846531</td>\n",
       "      <td>9.918811</td>\n",
       "      <td>41.938232</td>\n",
       "      <td>-87.646782</td>\n",
       "      <td>13.677037</td>\n",
       "      <td>41.892042</td>\n",
       "      <td>-87.631864</td>\n",
       "      <td>8.411083</td>\n",
       "      <td>11.462687</td>\n",
       "      <td>9.944505</td>\n",
       "      <td>10.666388</td>\n",
       "      <td>10.077806</td>\n",
       "      <td>9.969116</td>\n",
       "    </tr>\n",
       "    <tr>\n",
       "      <th>1972424</th>\n",
       "      <td>1.549489e+09</td>\n",
       "      <td>1.549490e+09</td>\n",
       "      <td>268.0</td>\n",
       "      <td>0.88</td>\n",
       "      <td>8.840747</td>\n",
       "      <td>8.978773</td>\n",
       "      <td>9.636544</td>\n",
       "      <td>9.141873</td>\n",
       "      <td>8.00</td>\n",
       "      <td>11.589782</td>\n",
       "      <td>10.140592</td>\n",
       "      <td>41.884987</td>\n",
       "      <td>-87.620993</td>\n",
       "      <td>8.840747</td>\n",
       "      <td>41.898332</td>\n",
       "      <td>-87.620763</td>\n",
       "      <td>8.978773</td>\n",
       "      <td>11.820896</td>\n",
       "      <td>9.944505</td>\n",
       "      <td>10.876360</td>\n",
       "      <td>10.077806</td>\n",
       "      <td>9.969116</td>\n",
       "    </tr>\n",
       "    <tr>\n",
       "      <th>1972425</th>\n",
       "      <td>1.549735e+09</td>\n",
       "      <td>1.549735e+09</td>\n",
       "      <td>450.0</td>\n",
       "      <td>1.28</td>\n",
       "      <td>9.026736</td>\n",
       "      <td>8.733624</td>\n",
       "      <td>9.673293</td>\n",
       "      <td>9.141873</td>\n",
       "      <td>10.05</td>\n",
       "      <td>11.007876</td>\n",
       "      <td>10.063929</td>\n",
       "      <td>41.899156</td>\n",
       "      <td>-87.626211</td>\n",
       "      <td>9.026736</td>\n",
       "      <td>41.890922</td>\n",
       "      <td>-87.618868</td>\n",
       "      <td>8.733624</td>\n",
       "      <td>10.240000</td>\n",
       "      <td>10.461210</td>\n",
       "      <td>10.594743</td>\n",
       "      <td>10.077806</td>\n",
       "      <td>9.969116</td>\n",
       "    </tr>\n",
       "    <tr>\n",
       "      <th>1972426</th>\n",
       "      <td>1.549306e+09</td>\n",
       "      <td>1.549307e+09</td>\n",
       "      <td>1288.0</td>\n",
       "      <td>4.10</td>\n",
       "      <td>11.230968</td>\n",
       "      <td>15.991460</td>\n",
       "      <td>9.636544</td>\n",
       "      <td>15.621674</td>\n",
       "      <td>14.75</td>\n",
       "      <td>8.846531</td>\n",
       "      <td>9.789769</td>\n",
       "      <td>41.880994</td>\n",
       "      <td>-87.632746</td>\n",
       "      <td>8.827250</td>\n",
       "      <td>41.920452</td>\n",
       "      <td>-87.679955</td>\n",
       "      <td>15.991460</td>\n",
       "      <td>11.459627</td>\n",
       "      <td>9.882814</td>\n",
       "      <td>10.594743</td>\n",
       "      <td>10.077806</td>\n",
       "      <td>9.969116</td>\n",
       "    </tr>\n",
       "    <tr>\n",
       "      <th>1972427</th>\n",
       "      <td>1.549544e+09</td>\n",
       "      <td>1.549544e+09</td>\n",
       "      <td>300.0</td>\n",
       "      <td>1.20</td>\n",
       "      <td>11.230968</td>\n",
       "      <td>10.017160</td>\n",
       "      <td>9.636544</td>\n",
       "      <td>9.515685</td>\n",
       "      <td>6.00</td>\n",
       "      <td>8.846531</td>\n",
       "      <td>9.918811</td>\n",
       "      <td>41.880994</td>\n",
       "      <td>-87.632746</td>\n",
       "      <td>8.827250</td>\n",
       "      <td>41.885281</td>\n",
       "      <td>-87.657233</td>\n",
       "      <td>10.017160</td>\n",
       "      <td>14.400000</td>\n",
       "      <td>9.993680</td>\n",
       "      <td>9.421587</td>\n",
       "      <td>10.077806</td>\n",
       "      <td>9.969116</td>\n",
       "    </tr>\n",
       "  </tbody>\n",
       "</table>\n",
       "<p>1613824 rows × 22 columns</p>\n",
       "</div>"
      ],
      "text/plain": [
       "         Trip Start Timestamp  Trip End Timestamp  Trip Seconds  Trip Miles  \\\n",
       "0                1.543099e+09        1.543099e+09         240.0        0.90   \n",
       "1                1.543069e+09        1.543069e+09         342.0        0.91   \n",
       "2                1.542648e+09        1.542648e+09         419.0        0.82   \n",
       "3                1.542815e+09        1.542816e+09         479.0        1.37   \n",
       "4                1.542604e+09        1.542605e+09        1038.0        8.74   \n",
       "...                       ...                 ...           ...         ...   \n",
       "1972423          1.549474e+09        1.549475e+09        1005.0        3.20   \n",
       "1972424          1.549489e+09        1.549490e+09         268.0        0.88   \n",
       "1972425          1.549735e+09        1.549735e+09         450.0        1.28   \n",
       "1972426          1.549306e+09        1.549307e+09        1288.0        4.10   \n",
       "1972427          1.549544e+09        1.549544e+09         300.0        1.20   \n",
       "\n",
       "         Pickup Census Tract  Dropoff Census Tract  Pickup Community Area  \\\n",
       "0                   8.889187              8.399119               9.673293   \n",
       "1                   8.840747              8.976772               9.636544   \n",
       "2                   9.269435             11.209385               9.933901   \n",
       "3                   8.840747              8.697326               9.636544   \n",
       "4                  11.230968             11.209385              11.932033   \n",
       "...                      ...                   ...                    ...   \n",
       "1972423            13.677037              8.411083              11.556345   \n",
       "1972424             8.840747              8.978773               9.636544   \n",
       "1972425             9.026736              8.733624               9.673293   \n",
       "1972426            11.230968             15.991460               9.636544   \n",
       "1972427            11.230968             10.017160               9.636544   \n",
       "\n",
       "         Dropoff Community Area  trip_ttl  Payment Type    Company  \\\n",
       "0                      8.648094      5.50      8.846531   9.918811   \n",
       "1                      9.141873      7.00      8.846531   9.991409   \n",
       "2                      8.648094      7.70     11.589782  10.063929   \n",
       "3                      9.141873      9.75     11.589782   9.991409   \n",
       "4                     13.692171     23.75      8.846531  10.063929   \n",
       "...                         ...       ...           ...        ...   \n",
       "1972423                9.141873     11.75      8.846531   9.918811   \n",
       "1972424                9.141873      8.00     11.589782  10.140592   \n",
       "1972425                9.141873     10.05     11.007876  10.063929   \n",
       "1972426               15.621674     14.75      8.846531   9.789769   \n",
       "1972427                9.515685      6.00      8.846531   9.918811   \n",
       "\n",
       "         Pickup Centroid Latitude  Pickup Centroid Longitude  \\\n",
       "0                       41.892508                 -87.626215   \n",
       "1                       41.884987                 -87.620993   \n",
       "2                       41.879255                 -87.642649   \n",
       "3                       41.884987                 -87.620993   \n",
       "4                       41.954028                 -87.763399   \n",
       "...                           ...                        ...   \n",
       "1972423                 41.938232                 -87.646782   \n",
       "1972424                 41.884987                 -87.620993   \n",
       "1972425                 41.899156                 -87.626211   \n",
       "1972426                 41.880994                 -87.632746   \n",
       "1972427                 41.880994                 -87.632746   \n",
       "\n",
       "         Pickup Centroid Location  Dropoff Centroid Latitude  \\\n",
       "0                        8.889187                  41.884987   \n",
       "1                        8.840747                  41.891972   \n",
       "2                        9.269435                  41.880994   \n",
       "3                        8.840747                  41.895033   \n",
       "4                       11.920188                  41.980264   \n",
       "...                           ...                        ...   \n",
       "1972423                 13.677037                  41.892042   \n",
       "1972424                  8.840747                  41.898332   \n",
       "1972425                  9.026736                  41.890922   \n",
       "1972426                  8.827250                  41.920452   \n",
       "1972427                  8.827250                  41.885281   \n",
       "\n",
       "         Dropoff Centroid Longitude  Dropoff Centroid  Location  avg_speed  \\\n",
       "0                        -87.620993                    8.399119  13.500000   \n",
       "1                        -87.612945                    8.976772   9.578947   \n",
       "2                        -87.632746                    8.712605   7.045346   \n",
       "3                        -87.619711                    8.697326  10.296451   \n",
       "4                        -87.913625                   18.763583  30.312139   \n",
       "...                             ...                         ...        ...   \n",
       "1972423                  -87.631864                    8.411083  11.462687   \n",
       "1972424                  -87.620763                    8.978773  11.820896   \n",
       "1972425                  -87.618868                    8.733624  10.240000   \n",
       "1972426                  -87.679955                   15.991460  11.459627   \n",
       "1972427                  -87.657233                   10.017160  14.400000   \n",
       "\n",
       "         day_of_week  hour_of_day      month       year  \n",
       "0          10.461210    10.907608  10.287562  10.135737  \n",
       "1          10.461210     9.590097  10.287562  10.135737  \n",
       "2           9.882814    10.666388  10.287562  10.135737  \n",
       "3           9.944505     9.706529  10.287562  10.135737  \n",
       "4           9.882814    10.416209  10.287562  10.135737  \n",
       "...              ...          ...        ...        ...  \n",
       "1972423     9.944505    10.666388  10.077806   9.969116  \n",
       "1972424     9.944505    10.876360  10.077806   9.969116  \n",
       "1972425    10.461210    10.594743  10.077806   9.969116  \n",
       "1972426     9.882814    10.594743  10.077806   9.969116  \n",
       "1972427     9.993680     9.421587  10.077806   9.969116  \n",
       "\n",
       "[1613824 rows x 22 columns]"
      ]
     },
     "execution_count": 39,
     "metadata": {},
     "output_type": "execute_result"
    }
   ],
   "source": [
    "%%time\n",
    "\n",
    "# RAPIDS OFF  - 0.969\n",
    "# RAPIDS A100 - 0.800\n",
    "\n",
    "# remove nulls/inf\n",
    "df = df.replace([np.inf, -np.inf], np.nan).dropna()\n",
    "df"
   ]
  },
  {
   "cell_type": "markdown",
   "metadata": {
    "id": "WzRrDJZR5Y-4"
   },
   "source": [
    "### XGBoost Model"
   ]
  },
  {
   "cell_type": "code",
   "execution_count": 40,
   "metadata": {
    "colab": {
     "base_uri": "https://localhost:8080/"
    },
    "id": "Ao6gIX7GxfP4",
    "outputId": "4e74791e-7e48-4eec-eb79-2e7961b66c3d"
   },
   "outputs": [
    {
     "name": "stdout",
     "output_type": "stream",
     "text": [
      "CPU times: user 3.55 s, sys: 818 ms, total: 4.37 s\n",
      "Wall time: 3.11 s\n"
     ]
    },
    {
     "data": {
      "text/plain": [
       "3.106651544570923"
      ]
     },
     "execution_count": 40,
     "metadata": {},
     "output_type": "execute_result"
    }
   ],
   "source": [
    "%%time\n",
    "\n",
    "# RAPIDS OFF  - 102.90\n",
    "# RAPIDS A100 - 6.33 (x16)\n",
    "start = time()\n",
    "\n",
    "X = df.drop(columns=[\"trip_ttl\"])\n",
    "y = df[\"trip_ttl\"]\n",
    "\n",
    "xgb_fold_results = {\"avg\": [], \"mse\": [], \"rmse\": [], \"mae\": [], \"r2\": [], \"max_err\": []}\n",
    "\n",
    "for fold, (train_index, test_index) in enumerate(KFold(n_splits=5, shuffle=True, random_state=42).split(df)):\n",
    "  X_train, X_test = X.iloc[train_index], X.iloc[test_index]\n",
    "  y_train, y_test = y.iloc[train_index], y.iloc[test_index]\n",
    "\n",
    "  # train\n",
    "  xgb_model = xgb.XGBRegressor(device=xgb_device)\n",
    "\n",
    "  xgb_model.fit(X_train, y_train)\n",
    "  y_pred = xgb_model.predict(X_test)\n",
    "  xgb_fold_results[\"avg\"].append(y_pred.mean())\n",
    "\n",
    "  # metrics\n",
    "  mse = ((y_test - y_pred) ** 2).mean()\n",
    "  xgb_fold_results[\"mse\"].append(mse)\n",
    "  xgb_fold_results[\"rmse\"].append(mse ** 0.5)\n",
    "  mae = (y_test - y_pred).abs().mean()\n",
    "  xgb_fold_results[\"mae\"].append(mae)\n",
    "  ss_residual = ((y_test - y_pred) ** 2).sum()\n",
    "  ss_total = ((y_test - y_test.mean()) ** 2).sum()\n",
    "  r_squared = 1 - (ss_residual / ss_total)\n",
    "  xgb_fold_results[\"r2\"].append(1 - (ss_residual / ss_total))\n",
    "  xgb_fold_results[\"max_err\"].append((y_test - y_pred).abs().max())\n",
    "\n",
    "xgb_fe_fold_results_df = pd.DataFrame(xgb_fold_results)\n",
    "\n",
    "time() - start"
   ]
  },
  {
   "cell_type": "markdown",
   "metadata": {
    "id": "srrVgXBbHych"
   },
   "source": [
    "### Results"
   ]
  },
  {
   "cell_type": "code",
   "execution_count": 41,
   "metadata": {
    "colab": {
     "base_uri": "https://localhost:8080/",
     "height": 175
    },
    "id": "FMpyy4BzflMY",
    "outputId": "6a691894-9188-4353-8a4a-c6846bf04460"
   },
   "outputs": [
    {
     "data": {
      "text/html": [
       "<div>\n",
       "<style scoped>\n",
       "    .dataframe tbody tr th:only-of-type {\n",
       "        vertical-align: middle;\n",
       "    }\n",
       "\n",
       "    .dataframe tbody tr th {\n",
       "        vertical-align: top;\n",
       "    }\n",
       "\n",
       "    .dataframe thead th {\n",
       "        text-align: right;\n",
       "    }\n",
       "</style>\n",
       "<table border=\"1\" class=\"dataframe\">\n",
       "  <thead>\n",
       "    <tr style=\"text-align: right;\">\n",
       "      <th></th>\n",
       "      <th>model</th>\n",
       "      <th>avg</th>\n",
       "      <th>mse</th>\n",
       "      <th>rmse</th>\n",
       "      <th>mae</th>\n",
       "      <th>r2</th>\n",
       "      <th>max_err</th>\n",
       "    </tr>\n",
       "  </thead>\n",
       "  <tbody>\n",
       "    <tr>\n",
       "      <th>0</th>\n",
       "      <td>xgb_fe</td>\n",
       "      <td>10.08</td>\n",
       "      <td>1.12</td>\n",
       "      <td>1.06</td>\n",
       "      <td>0.70</td>\n",
       "      <td>0.94</td>\n",
       "      <td>28.07</td>\n",
       "    </tr>\n",
       "    <tr>\n",
       "      <th>0</th>\n",
       "      <td>xgb_naïve</td>\n",
       "      <td>17.58</td>\n",
       "      <td>7055.60</td>\n",
       "      <td>83.87</td>\n",
       "      <td>5.16</td>\n",
       "      <td>0.13</td>\n",
       "      <td>9788.08</td>\n",
       "    </tr>\n",
       "    <tr>\n",
       "      <th>0</th>\n",
       "      <td>median</td>\n",
       "      <td>9.75</td>\n",
       "      <td>8145.75</td>\n",
       "      <td>90.08</td>\n",
       "      <td>10.52</td>\n",
       "      <td>-0.01</td>\n",
       "      <td>9965.57</td>\n",
       "    </tr>\n",
       "    <tr>\n",
       "      <th>0</th>\n",
       "      <td>mean</td>\n",
       "      <td>17.58</td>\n",
       "      <td>8084.47</td>\n",
       "      <td>89.74</td>\n",
       "      <td>13.39</td>\n",
       "      <td>-0.00</td>\n",
       "      <td>9957.77</td>\n",
       "    </tr>\n",
       "  </tbody>\n",
       "</table>\n",
       "</div>"
      ],
      "text/plain": [
       "       model    avg      mse   rmse    mae    r2  max_err\n",
       "0     xgb_fe  10.08     1.12   1.06   0.70  0.94    28.07\n",
       "0  xgb_naïve  17.58  7055.60  83.87   5.16  0.13  9788.08\n",
       "0     median   9.75  8145.75  90.08  10.52 -0.01  9965.57\n",
       "0       mean  17.58  8084.47  89.74  13.39 -0.00  9957.77"
      ]
     },
     "execution_count": 41,
     "metadata": {},
     "output_type": "execute_result"
    }
   ],
   "source": [
    "xgb_fe_results_df = pd.DataFrame({'model': 'xgb_fe',**xgb_fe_fold_results_df.drop(columns=['max_err']).mean(), 'max_err': xgb_fe_fold_results_df['max_err'].max()}, index=[0])\n",
    "all_results = pd.concat([mean_results_df, median_results_df, xgb_naïve_results_df, xgb_fe_results_df]).sort_values(by=[\"mae\", \"mse\", \"rmse\", \"r2\", \"max_err\"], ascending=[True, True, True, False, True])\n",
    "all_results.round(2)"
   ]
  },
  {
   "cell_type": "markdown",
   "metadata": {
    "id": "9a4NvUawyn2V"
   },
   "source": [
    "### Feature Importance"
   ]
  },
  {
   "cell_type": "code",
   "execution_count": 42,
   "metadata": {
    "id": "csSnDbvh7NEA"
   },
   "outputs": [],
   "source": [
    "import seaborn as sns\n",
    "import matplotlib.pyplot as plt\n",
    "\n",
    "booster = xgb_model.get_booster()\n",
    "importance = booster.get_score(importance_type='weight')  # You can also use 'gain', 'cover', etc.\n",
    "\n",
    "# Convert to DataFrame\n",
    "importance_df = pd.DataFrame({\n",
    "    'Feature': list(importance.keys()),\n",
    "    'Importance': list(importance.values())\n",
    "})\n",
    "\n",
    "# Sort by importance\n",
    "importance_df = importance_df.sort_values(by='Importance', ascending=False)"
   ]
  },
  {
   "cell_type": "code",
   "execution_count": 43,
   "metadata": {
    "colab": {
     "base_uri": "https://localhost:8080/",
     "height": 406
    },
    "id": "dQvuluXfyYrz",
    "outputId": "70dddce5-2e77-4b91-c421-dad082499d85"
   },
   "outputs": [
    {
     "data": {
      "image/png": "[encoded data removed]",
      "text/plain": [
       "<Figure size 640x480 with 1 Axes>"
      ]
     },
     "metadata": {},
     "output_type": "display_data"
    }
   ],
   "source": [
    "sns.barplot(x='Importance', y='Feature', data=importance_df.head(50), hue='Feature', palette=\"viridis\", dodge=False, legend=False)\n",
    "plt.title('Feature Importance')\n",
    "plt.xlabel('Importance Score')\n",
    "plt.ylabel('Features')\n",
    "plt.show()"
   ]
  },
  {
   "cell_type": "markdown",
   "metadata": {
    "id": "aM6JnU5d6-eM"
   },
   "source": [
    "<br/>"
   ]
  },
  {
   "cell_type": "markdown",
   "metadata": {
    "id": "z_7rl__pgiZn"
   },
   "source": [
    "<br/>"
   ]
  },
  {
   "cell_type": "markdown",
   "metadata": {
    "id": "kEd8KDMHgmxD"
   },
   "source": [
    "# XGBoost Hyperparamter Tuning"
   ]
  },
  {
   "cell_type": "code",
   "execution_count": 44,
   "metadata": {
    "colab": {
     "base_uri": "https://localhost:8080/"
    },
    "id": "jpetoUUOLGxh",
    "outputId": "73fef9e7-0c0d-47dd-bbbb-66b90912795c"
   },
   "outputs": [
    {
     "name": "stdout",
     "output_type": "stream",
     "text": [
      "CPU times: user 7.98 s, sys: 896 ms, total: 8.87 s\n",
      "Wall time: 7.14 s\n"
     ]
    }
   ],
   "source": [
    "%%time\n",
    "# RAPIDS OFF  - 270.82 (100), 543.42 (250)\n",
    "# RAPIDS A100 -             , 14.1(500)(x19)\n",
    "\n",
    "X = df.drop(columns=[\"trip_ttl\"])\n",
    "y = df[\"trip_ttl\"]\n",
    "\n",
    "xgb_fold_results = {\"avg\": [], \"mse\": [], \"rmse\": [], \"mae\": [], \"r2\": [], \"max_err\": []}\n",
    "\n",
    "for fold, (train_index, test_index) in enumerate(KFold(n_splits=5, shuffle=True, random_state=42).split(df)):\n",
    "  X_train, X_test = X.iloc[train_index], X.iloc[test_index]\n",
    "  y_train, y_test = y.iloc[train_index], y.iloc[test_index]\n",
    "\n",
    "  # train\n",
    "  xgb_model = xgb.XGBRegressor(device=xgb_device,\n",
    "                               n_estimators=500,\n",
    "                               learning_rate=0.05,\n",
    "                               max_depth=6,\n",
    "                               eval_metric=\"mae\",\n",
    "                               objective=\"reg:gamma\",\n",
    "                               min_child_weight=5\n",
    "  )\n",
    "  # xgb_model = xgb.XGBRegressor(device=xgb_device)\n",
    "\n",
    "  xgb_model.fit(X_train, y_train)\n",
    "  y_pred = xgb_model.predict(X_test)\n",
    "  xgb_fold_results[\"avg\"].append(y_pred.mean())\n",
    "\n",
    "  # metrics\n",
    "  mse = ((y_test - y_pred) ** 2).mean()\n",
    "  xgb_fold_results[\"mse\"].append(mse)\n",
    "  xgb_fold_results[\"rmse\"].append(mse ** 0.5)\n",
    "  mae = (y_test - y_pred).abs().mean()\n",
    "  xgb_fold_results[\"mae\"].append(mae)\n",
    "  ss_residual = ((y_test - y_pred) ** 2).sum()\n",
    "  ss_total = ((y_test - y_test.mean()) ** 2).sum()\n",
    "  r_squared = 1 - (ss_residual / ss_total)\n",
    "  xgb_fold_results[\"r2\"].append(1 - (ss_residual / ss_total))\n",
    "  xgb_fold_results[\"max_err\"].append((y_test - y_pred).abs().max())"
   ]
  },
  {
   "cell_type": "code",
   "execution_count": 45,
   "metadata": {
    "colab": {
     "base_uri": "https://localhost:8080/",
     "height": 206
    },
    "id": "tgEp-S0EeDr4",
    "outputId": "6a1f6b8a-6a26-4c27-b848-3d31c7942b6e"
   },
   "outputs": [
    {
     "data": {
      "text/html": [
       "<div>\n",
       "<style scoped>\n",
       "    .dataframe tbody tr th:only-of-type {\n",
       "        vertical-align: middle;\n",
       "    }\n",
       "\n",
       "    .dataframe tbody tr th {\n",
       "        vertical-align: top;\n",
       "    }\n",
       "\n",
       "    .dataframe thead th {\n",
       "        text-align: right;\n",
       "    }\n",
       "</style>\n",
       "<table border=\"1\" class=\"dataframe\">\n",
       "  <thead>\n",
       "    <tr style=\"text-align: right;\">\n",
       "      <th></th>\n",
       "      <th>model</th>\n",
       "      <th>mae</th>\n",
       "      <th>rmse</th>\n",
       "      <th>mse</th>\n",
       "      <th>r2</th>\n",
       "      <th>max_err</th>\n",
       "      <th>avg</th>\n",
       "    </tr>\n",
       "  </thead>\n",
       "  <tbody>\n",
       "    <tr>\n",
       "      <th>0</th>\n",
       "      <td>xgb_tuned</td>\n",
       "      <td>0.692</td>\n",
       "      <td>1.051</td>\n",
       "      <td>1.105</td>\n",
       "      <td>0.945</td>\n",
       "      <td>23.547</td>\n",
       "      <td>10.080</td>\n",
       "    </tr>\n",
       "    <tr>\n",
       "      <th>0</th>\n",
       "      <td>xgb_fe</td>\n",
       "      <td>0.698</td>\n",
       "      <td>1.056</td>\n",
       "      <td>1.115</td>\n",
       "      <td>0.944</td>\n",
       "      <td>28.065</td>\n",
       "      <td>10.084</td>\n",
       "    </tr>\n",
       "    <tr>\n",
       "      <th>0</th>\n",
       "      <td>xgb_naïve</td>\n",
       "      <td>5.157</td>\n",
       "      <td>83.868</td>\n",
       "      <td>7055.597</td>\n",
       "      <td>0.125</td>\n",
       "      <td>9788.077</td>\n",
       "      <td>17.581</td>\n",
       "    </tr>\n",
       "    <tr>\n",
       "      <th>0</th>\n",
       "      <td>median</td>\n",
       "      <td>10.521</td>\n",
       "      <td>90.078</td>\n",
       "      <td>8145.749</td>\n",
       "      <td>-0.008</td>\n",
       "      <td>9965.570</td>\n",
       "      <td>9.750</td>\n",
       "    </tr>\n",
       "    <tr>\n",
       "      <th>0</th>\n",
       "      <td>mean</td>\n",
       "      <td>13.394</td>\n",
       "      <td>89.736</td>\n",
       "      <td>8084.466</td>\n",
       "      <td>-0.000</td>\n",
       "      <td>9957.770</td>\n",
       "      <td>17.579</td>\n",
       "    </tr>\n",
       "  </tbody>\n",
       "</table>\n",
       "</div>"
      ],
      "text/plain": [
       "       model     mae    rmse       mse     r2   max_err     avg\n",
       "0  xgb_tuned   0.692   1.051     1.105  0.945    23.547  10.080\n",
       "0     xgb_fe   0.698   1.056     1.115  0.944    28.065  10.084\n",
       "0  xgb_naïve   5.157  83.868  7055.597  0.125  9788.077  17.581\n",
       "0     median  10.521  90.078  8145.749 -0.008  9965.570   9.750\n",
       "0       mean  13.394  89.736  8084.466 -0.000  9957.770  17.579"
      ]
     },
     "execution_count": 45,
     "metadata": {},
     "output_type": "execute_result"
    }
   ],
   "source": [
    "xgb_tuned_fold_results_df = pd.DataFrame(xgb_fold_results)\n",
    "xgb_tuned_results_df = pd.DataFrame({'model': 'xgb_tuned',**xgb_tuned_fold_results_df.drop(columns=['max_err']).mean(), 'max_err': xgb_tuned_fold_results_df['max_err'].max()}, index=[0])\n",
    "\n",
    "all_results = pd.concat([mean_results_df, median_results_df, xgb_naïve_results_df, xgb_fe_results_df, xgb_tuned_results_df])[[\"model\", \"mae\", \"rmse\", \"mse\", \"r2\", \"max_err\", \"avg\"]]\n",
    "all_results.sort_values(by=[\"mae\", \"mse\", \"rmse\", \"r2\", \"max_err\"], ascending=[True, True, True, False, True]).round(3)"
   ]
  },
  {
   "cell_type": "markdown",
   "metadata": {
    "id": "DhXGuk7Cgm4y"
   },
   "source": [
    "<br/>"
   ]
  },
  {
   "cell_type": "markdown",
   "metadata": {
    "id": "qR2ggYPmgm7l"
   },
   "source": [
    "<br/>"
   ]
  },
  {
   "cell_type": "markdown",
   "metadata": {
    "id": "eSUAhDMwnW2e"
   },
   "source": [
    "<br/>"
   ]
  },
  {
   "cell_type": "markdown",
   "metadata": {
    "id": "EDF6FfORnW6M"
   },
   "source": [
    "<br/>"
   ]
  },
  {
   "cell_type": "markdown",
   "metadata": {
    "id": "33g0NNTmnW-K"
   },
   "source": [
    "<br/>"
   ]
  },
  {
   "cell_type": "markdown",
   "metadata": {
    "id": "x3OMT2LcnXBs"
   },
   "source": [
    "<br/>"
   ]
  },
  {
   "cell_type": "markdown",
   "metadata": {
    "id": "XENEuu7UnXFT"
   },
   "source": [
    "<br/>"
   ]
  },
  {
   "cell_type": "markdown",
   "metadata": {
    "id": "7WDHa-TSgm-L"
   },
   "source": [
    "# x20 Performance Boost - All Code"
   ]
  },
  {
   "cell_type": "markdown",
   "metadata": {
    "id": "wv6gRyjZ6BAR"
   },
   "source": [
    "### RAPIDS OFF"
   ]
  },
  {
   "cell_type": "code",
   "execution_count": 46,
   "metadata": {
    "colab": {
     "base_uri": "https://localhost:8080/"
    },
    "id": "6IRRqHNw6LlP",
    "outputId": "8dd64913-d56e-49bd-f51d-d9dc474aa50a"
   },
   "outputs": [
    {
     "data": {
      "text/plain": [
       "22.669999999999998"
      ]
     },
     "execution_count": 46,
     "metadata": {},
     "output_type": "execute_result"
    }
   ],
   "source": [
    "226.7 / 10"
   ]
  },
  {
   "cell_type": "markdown",
   "metadata": {
    "id": "wpxI73m56Djn"
   },
   "source": [
    "### RAPIDS ON A100"
   ]
  },
  {
   "cell_type": "code",
   "execution_count": 47,
   "metadata": {
    "id": "0i3IE92Y4-on"
   },
   "outputs": [
    {
     "data": {
      "text/plain": [
       "10"
      ]
     },
     "execution_count": 47,
     "metadata": {},
     "output_type": "execute_result"
    }
   ],
   "source": [
    "10"
   ]
  },
  {
   "cell_type": "markdown",
   "metadata": {
    "id": "9TAG-yJR4K6b"
   },
   "source": [
    "<br/>"
   ]
  },
  {
   "cell_type": "code",
   "execution_count": 48,
   "metadata": {
    "id": "GjR-rN6X2YeV"
   },
   "outputs": [],
   "source": [
    "# !cp /content/drive/MyDrive/Taxi_Trips__2013-2023__20241218.csv ."
   ]
  },
  {
   "cell_type": "code",
   "execution_count": 49,
   "metadata": {
    "id": "kUQrq5itZCUc"
   },
   "outputs": [],
   "source": [
    "xgb_device = \"cpu\"\n",
    "\n",
    "# %load_ext cudf.pandas\n",
    "# xgb_device = \"cuda\""
   ]
  },
  {
   "cell_type": "code",
   "execution_count": 50,
   "metadata": {
    "id": "NdwuZX-cyjG5"
   },
   "outputs": [],
   "source": [
    "import pandas as pd\n",
    "import numpy as np\n",
    "import xgboost as xgb\n",
    "from time import time\n",
    "import seaborn as sns\n",
    "import matplotlib.pyplot as plt\n",
    "from sklearn.model_selection import KFold"
   ]
  },
  {
   "cell_type": "code",
   "execution_count": 51,
   "metadata": {
    "colab": {
     "base_uri": "https://localhost:8080/"
    },
    "id": "2GZItVou1NjS",
    "outputId": "b41a62b8-19af-44b6-d62b-81521a5977bf"
   },
   "outputs": [
    {
     "name": "stderr",
     "output_type": "stream",
     "text": [
      "/home/will/git/Accelerated_Data_Sci/venv/lib/python3.12/site-packages/xgboost/core.py:158: UserWarning: [17:12:27] WARNING: /workspace/src/common/error_msg.cc:58: Falling back to prediction using DMatrix due to mismatched devices. This might lead to higher memory usage and slower performance. XGBoost is running on: cpu, while the input data is on: cuda:0.\n",
      "Potential solutions:\n",
      "- Use a data structure that matches the device ordinal in the booster.\n",
      "- Set the device for booster before call to inplace_predict.\n",
      "\n",
      "This warning will only be shown once.\n",
      "\n",
      "  warnings.warn(smsg, UserWarning)\n"
     ]
    },
    {
     "data": {
      "text/plain": [
       "7.995441436767578"
      ]
     },
     "execution_count": 51,
     "metadata": {},
     "output_type": "execute_result"
    }
   ],
   "source": [
    "start = time()\n",
    "# RAPIDS OFF  - 243.32\n",
    "# RAPIDS A100 - 9.91\n",
    "\n",
    "#----------MEAN/MEDIAN DATA PREP--------------#\n",
    "df = pd.read_csv('Taxi_Trips__2013-2023__20241218.csv')  # read in data\n",
    "df = df.rename(columns={'Trip Total': 'trip_ttl'})  # abbreviate target column name\n",
    "df = df[df[\"trip_ttl\"]>0]\n",
    "\n",
    "df = df.sample(frac=1, random_state=42).reset_index(drop=True)\n",
    "split_index = int(0.8 * len(df))  # 80% train, 20% test\n",
    "train_df = df[:split_index]\n",
    "test_df = df[split_index:]\n",
    "del df\n",
    "\n",
    "X_test = test_df.drop(columns=[\"trip_ttl\"])\n",
    "y_test = test_df[\"trip_ttl\"]\n",
    "\n",
    "X_train = train_df.drop(columns=[\"trip_ttl\"])\n",
    "y_train = train_df[\"trip_ttl\"]\n",
    "\n",
    "#----------MEAN--------------#\n",
    "mean_fold_results = {\"avg\":[], \"mse\": [], \"rmse\": [], \"mae\": [], \"r2\": [], \"max_err\": []}\n",
    "\n",
    "\n",
    "y_pred = y_train.mean()\n",
    "mean_fold_results[\"avg\"].append(y_pred)\n",
    "\n",
    "mse = ((y_test - y_pred) ** 2).mean()\n",
    "mean_fold_results[\"mse\"].append(mse)\n",
    "mean_fold_results[\"rmse\"].append(mse  ** 0.5)\n",
    "mae = (y_test - y_pred).abs().mean()\n",
    "mean_fold_results[\"mae\"].append(mae)\n",
    "ss_residual = ((y_test - y_pred) ** 2).sum()\n",
    "ss_total = ((y_test - y_test.mean()) ** 2).sum()\n",
    "r_squared = 1 - (ss_residual / ss_total)\n",
    "mean_fold_results[\"r2\"].append(1 - (ss_residual / ss_total))\n",
    "mean_fold_results[\"max_err\"].append((y_test - y_pred).abs().max())\n",
    "\n",
    "\n",
    "#----------MEDIAN--------------#\n",
    "median_fold_results = {\"avg\":[], \"mse\": [], \"rmse\": [], \"mae\": [], \"r2\": [], \"max_err\": []}\n",
    "\n",
    "y_pred = y_train.median()\n",
    "median_fold_results[\"avg\"].append(y_pred)\n",
    "\n",
    "mse = ((y_test - y_pred) ** 2).mean()\n",
    "median_fold_results[\"mse\"].append(mse)\n",
    "median_fold_results[\"rmse\"].append(mse ** 0.5)\n",
    "mae = (y_test - y_pred).abs().mean()\n",
    "median_fold_results[\"mae\"].append(mae)\n",
    "ss_residual = ((y_test - y_pred) ** 2).sum()\n",
    "ss_total = ((y_test - y_test.mean()) ** 2).sum()\n",
    "r_squared = 1 - (ss_residual / ss_total)\n",
    "median_fold_results[\"r2\"].append(1 - (ss_residual / ss_total))\n",
    "median_fold_results[\"max_err\"].append((y_test - y_pred).abs().max())\n",
    "\n",
    "\n",
    "#---------------------XGB NAIVE DATA PREP---------------------#\n",
    "df = pd.read_csv('Taxi_Trips__2013-2023__20241218.csv')  # read in data\n",
    "df = df.rename(columns={'Trip Total': 'trip_ttl'})  # abbreviate target column name\n",
    "df = df[df[\"trip_ttl\"]>0]\n",
    "_ = df.sort_values([\"trip_ttl\"], ascending=False)[[\"trip_ttl\", \"Trip Seconds\", \"Trip Miles\"]]\n",
    "\n",
    "df = df.drop(columns=[\"Fare\", \"Tips\", \"Tolls\", \"Extras\"])\n",
    "df = df.drop(columns=[\"Trip ID\", \"Taxi ID\", \"Pickup Centroid Location\", \"Dropoff Centroid  Location\", \"Payment Type\", \"Company\"])\n",
    "\n",
    "df[\"Trip Start Timestamp\"] = pd.to_datetime(df[\"Trip Start Timestamp\"], format=\"%m/%d/%Y %I:%M:%S %p\")\n",
    "df[\"Trip End Timestamp\"] = pd.to_datetime(df[\"Trip End Timestamp\"], format=\"%m/%d/%Y %I:%M:%S %p\")\n",
    "df[\"Trip Start Timestamp\"] = (df[\"Trip Start Timestamp\"] - pd.Timestamp(\"1970-01-01\")) // pd.Timedelta('1s')\n",
    "df[\"Trip End Timestamp\"] = (df[\"Trip End Timestamp\"] - pd.Timestamp(\"1970-01-01\")) // pd.Timedelta('1s')\n",
    "\n",
    "df = df.sample(frac=1, random_state=42).reset_index(drop=True)\n",
    "split_index = int(0.8 * len(df))  # 80% train, 20% test\n",
    "train_df = df[:split_index]\n",
    "test_df = df[split_index:]\n",
    "del df\n",
    "\n",
    "X_test = test_df.drop(columns=[\"trip_ttl\"])\n",
    "y_test = test_df[\"trip_ttl\"]\n",
    "\n",
    "X_train = train_df.drop(columns=[\"trip_ttl\"])\n",
    "y_train = train_df[\"trip_ttl\"]\n",
    "\n",
    "\n",
    "#----------------XGB NAIVE-------------------#\n",
    "xgb_naive_fold_results = {\"avg\": [], \"mse\": [], \"rmse\": [], \"mae\": [], \"r2\": [], \"max_err\": []}\n",
    "\n",
    "\n",
    "# train\n",
    "xgb_model = xgb.XGBRegressor(device=xgb_device)\n",
    "\n",
    "xgb_model.fit(X_train, y_train)\n",
    "y_pred = xgb_model.predict(X_test)\n",
    "xgb_naive_fold_results[\"avg\"].append(y_pred.mean())\n",
    "\n",
    "# metrics\n",
    "mse = ((y_test - y_pred) ** 2).mean()\n",
    "xgb_naive_fold_results[\"mse\"].append(mse)\n",
    "xgb_naive_fold_results[\"rmse\"].append(mse ** 0.5)\n",
    "mae = (y_test - y_pred).abs().mean()\n",
    "xgb_naive_fold_results[\"mae\"].append(mae)\n",
    "ss_residual = ((y_test - y_pred) ** 2).sum()\n",
    "ss_total = ((y_test - y_test.mean()) ** 2).sum()\n",
    "r_squared = 1 - (ss_residual / ss_total)\n",
    "xgb_naive_fold_results[\"r2\"].append(1 - (ss_residual / ss_total))\n",
    "xgb_naive_fold_results[\"max_err\"].append((y_test - y_pred).abs().max())\n",
    "\n",
    "\n",
    "#----------------------XGB FEATURE ENGINEERING - DATA PREP-----------------------#\n",
    "df = pd.read_csv('Taxi_Trips__2013-2023__20241218.csv')  # read in data\n",
    "df = df.rename(columns={'Trip Total': 'trip_ttl'})  # abbreviate target column name\n",
    "df = df.drop(columns=[\"Fare\", \"Tips\", \"Tolls\", \"Extras\"])\n",
    "df = df.drop(columns=[\"Trip ID\", \"Taxi ID\"])\n",
    "\n",
    "df[\"Trip Start Timestamp\"] = pd.to_datetime(df[\"Trip Start Timestamp\"], format=\"%m/%d/%Y %I:%M:%S %p\")\n",
    "df[\"Trip End Timestamp\"] = pd.to_datetime(df[\"Trip End Timestamp\"], format=\"%m/%d/%Y %I:%M:%S %p\")\n",
    "\n",
    "df = df[df[\"trip_ttl\"]>0]\n",
    "_ = df.nunique().sort_values()\n",
    "\n",
    "target = [\"trip_ttl\"]\n",
    "num_cols = [\"Pickup Centroid Latitude\", \"Pickup Centroid Longitude\", \"Dropoff Centroid Latitude\", \"Dropoff Centroid Longitude\", \"Trip Miles\", \"Trip Seconds\", \"Trip Start Timestamp\", \"Trip End Timestamp\"]\n",
    "cat_cols = list(set(df.columns) - set(target + num_cols))\n",
    "\n",
    "for col in num_cols:\n",
    "  df[col] = df[col].fillna(df[col].mean())\n",
    "\n",
    "df[cat_cols] = df[cat_cols].fillna(df[cat_cols].mode().iloc[0])\n",
    "\n",
    "df.sort_values([\"trip_ttl\", \"Trip Seconds\", \"Trip Miles\"], ascending=False)[[\"trip_ttl\", \"Trip Seconds\", \"Trip Miles\", \"Payment Type\"]]\n",
    "\n",
    "df = df[(df['Trip Seconds'] * df['Trip Miles']) > 0]\n",
    "\n",
    "def filter_by_modified_z_score(df, column, threshold=4.0):\n",
    "    # median and MAD (median abs deviation)\n",
    "    median = df[column].median()\n",
    "    mad = (df[column] - median).abs().median()\n",
    "    return df[(0.6745 * (df[column] - median) / mad).abs() <= threshold]\n",
    "\n",
    "df = filter_by_modified_z_score(df, \"trip_ttl\", threshold=3.5)\n",
    "_ = df.sort_values([\"trip_ttl\", \"Trip Seconds\", \"Trip Miles\"], ascending=False)[[\"trip_ttl\", \"Trip Seconds\", \"Trip Miles\"]]\n",
    "\n",
    "### Feature Extraction\n",
    "\n",
    "df['avg_speed'] = df['Trip Miles'] / (df['Trip Seconds'] / 3600)\n",
    "num_cols.append('avg_speed')\n",
    "\n",
    "df['day_of_week'] = df['Trip Start Timestamp'].dt.dayofweek\n",
    "df['hour_of_day'] = df['Trip Start Timestamp'].dt.hour\n",
    "df['month'] = df['Trip Start Timestamp'].dt.month\n",
    "df['year'] = df['Trip Start Timestamp'].dt.year\n",
    "cat_cols.extend(['day_of_week', 'hour_of_day', 'month', 'year'])\n",
    "\n",
    "# convert to timestamp seconds since epoch\n",
    "df['Trip Start Timestamp'] = df['Trip Start Timestamp'].astype(int) // 10**9\n",
    "df['Trip End Timestamp'] = df['Trip End Timestamp'].astype(int) // 10**9\n",
    "\n",
    "num_cols.extend(['Trip Start Timestamp', 'Trip End Timestamp'])\n",
    "\n",
    "for col in cat_cols:\n",
    "  df[col] = df[col].map(df.groupby(col)[\"trip_ttl\"].mean())\n",
    "\n",
    "_ = df.sort_values(\"trip_ttl\", ascending=False)\n",
    "\n",
    "df = df.replace([np.inf, -np.inf], np.nan).dropna()\n",
    "\n",
    "df = df.sample(frac=1, random_state=42).reset_index(drop=True)\n",
    "split_index = int(0.8 * len(df))  # 80% train, 20% test\n",
    "train_df = df[:split_index]\n",
    "test_df = df[split_index:]\n",
    "del df\n",
    "\n",
    "X_test = test_df.drop(columns=[\"trip_ttl\"])\n",
    "y_test = test_df[\"trip_ttl\"]\n",
    "\n",
    "X_train = train_df.drop(columns=[\"trip_ttl\"])\n",
    "y_train = train_df[\"trip_ttl\"]\n",
    "\n",
    "\n",
    "#--------------------XGB FE----------------------------#\n",
    "xgb_fe_fold_results = {\"avg\": [], \"mse\": [], \"rmse\": [], \"mae\": [], \"r2\": [], \"max_err\": []}\n",
    "\n",
    "# train\n",
    "xgb_model = xgb.XGBRegressor(device=xgb_device)\n",
    "\n",
    "xgb_model.fit(X_train, y_train)\n",
    "y_pred = xgb_model.predict(X_test)\n",
    "xgb_fe_fold_results[\"avg\"].append(y_pred.mean())\n",
    "\n",
    "# metrics\n",
    "mse = ((y_test - y_pred) ** 2).mean()\n",
    "xgb_fe_fold_results[\"mse\"].append(mse)\n",
    "xgb_fe_fold_results[\"rmse\"].append(mse ** 0.5)\n",
    "mae = (y_test - y_pred).abs().mean()\n",
    "xgb_fe_fold_results[\"mae\"].append(mae)\n",
    "ss_residual = ((y_test - y_pred) ** 2).sum()\n",
    "ss_total = ((y_test - y_test.mean()) ** 2).sum()\n",
    "r_squared = 1 - (ss_residual / ss_total)\n",
    "xgb_fe_fold_results[\"r2\"].append(1 - (ss_residual / ss_total))\n",
    "xgb_fe_fold_results[\"max_err\"].append((y_test - y_pred).abs().max())\n",
    "\n",
    "\n",
    "#--------------XGB HYPERPARAMETER TUNING--------------#\n",
    "xgb_tune_fold_results = {\"avg\": [], \"mse\": [], \"rmse\": [], \"mae\": [], \"r2\": [], \"max_err\": []}\n",
    "\n",
    "# train\n",
    "xgb_model = xgb.XGBRegressor(device=xgb_device,\n",
    "                              n_estimators=500,\n",
    "                              learning_rate=0.05,\n",
    "                              max_depth=6,\n",
    "                              eval_metric=\"mae\",\n",
    "                              objective=\"reg:gamma\",\n",
    "                              min_child_weight=5\n",
    ")\n",
    "\n",
    "xgb_model.fit(X_train, y_train)\n",
    "y_pred = xgb_model.predict(X_test)\n",
    "xgb_tune_fold_results[\"avg\"].append(y_pred.mean())\n",
    "\n",
    "mse = ((y_test - y_pred) ** 2).mean()\n",
    "xgb_tune_fold_results[\"mse\"].append(mse)\n",
    "xgb_tune_fold_results[\"rmse\"].append(mse ** 0.5)\n",
    "mae = (y_test - y_pred).abs().mean()\n",
    "xgb_tune_fold_results[\"mae\"].append(mae)\n",
    "ss_residual = ((y_test - y_pred) ** 2).sum()\n",
    "ss_total = ((y_test - y_test.mean()) ** 2).sum()\n",
    "r_squared = 1 - (ss_residual / ss_total)\n",
    "xgb_tune_fold_results[\"r2\"].append(1 - (ss_residual / ss_total))\n",
    "xgb_tune_fold_results[\"max_err\"].append((y_test - y_pred).abs().max())\n",
    "\n",
    "time() - start"
   ]
  },
  {
   "cell_type": "markdown",
   "metadata": {
    "id": "kiEz2uNxMfPk"
   },
   "source": [
    "<br/>"
   ]
  },
  {
   "cell_type": "markdown",
   "metadata": {
    "id": "8_cbUcIQMfSR"
   },
   "source": [
    "<br/>"
   ]
  },
  {
   "cell_type": "markdown",
   "metadata": {
    "id": "bMsJ9rylMfVF"
   },
   "source": [
    "<br/>"
   ]
  },
  {
   "cell_type": "markdown",
   "metadata": {
    "id": "1uCtgAUmMfX5"
   },
   "source": [
    "<br/>"
   ]
  },
  {
   "cell_type": "markdown",
   "metadata": {
    "id": "kmaE7PxBL5_z"
   },
   "source": [
    "### results"
   ]
  },
  {
   "cell_type": "code",
   "execution_count": 52,
   "metadata": {
    "id": "kBu_0H1aYTBB"
   },
   "outputs": [],
   "source": [
    "del xgb_fold_results"
   ]
  },
  {
   "cell_type": "code",
   "execution_count": 53,
   "metadata": {
    "id": "wmZyiVx7Jj_n"
   },
   "outputs": [
    {
     "data": {
      "text/html": [
       "<div>\n",
       "<style scoped>\n",
       "    .dataframe tbody tr th:only-of-type {\n",
       "        vertical-align: middle;\n",
       "    }\n",
       "\n",
       "    .dataframe tbody tr th {\n",
       "        vertical-align: top;\n",
       "    }\n",
       "\n",
       "    .dataframe thead th {\n",
       "        text-align: right;\n",
       "    }\n",
       "</style>\n",
       "<table border=\"1\" class=\"dataframe\">\n",
       "  <thead>\n",
       "    <tr style=\"text-align: right;\">\n",
       "      <th></th>\n",
       "      <th>model</th>\n",
       "      <th>avg</th>\n",
       "      <th>mse</th>\n",
       "      <th>rmse</th>\n",
       "      <th>mae</th>\n",
       "      <th>r2</th>\n",
       "      <th>max_err</th>\n",
       "    </tr>\n",
       "  </thead>\n",
       "  <tbody>\n",
       "    <tr>\n",
       "      <th>0</th>\n",
       "      <td>xgb_tuned</td>\n",
       "      <td>10.07</td>\n",
       "      <td>1.09</td>\n",
       "      <td>1.04</td>\n",
       "      <td>0.69</td>\n",
       "      <td>0.95</td>\n",
       "      <td>22.67</td>\n",
       "    </tr>\n",
       "    <tr>\n",
       "      <th>0</th>\n",
       "      <td>xgb_fe</td>\n",
       "      <td>10.07</td>\n",
       "      <td>1.10</td>\n",
       "      <td>1.05</td>\n",
       "      <td>0.70</td>\n",
       "      <td>0.94</td>\n",
       "      <td>25.51</td>\n",
       "    </tr>\n",
       "    <tr>\n",
       "      <th>0</th>\n",
       "      <td>xgb_naïve</td>\n",
       "      <td>17.60</td>\n",
       "      <td>6886.80</td>\n",
       "      <td>82.99</td>\n",
       "      <td>5.17</td>\n",
       "      <td>0.10</td>\n",
       "      <td>8927.41</td>\n",
       "    </tr>\n",
       "    <tr>\n",
       "      <th>0</th>\n",
       "      <td>median</td>\n",
       "      <td>9.75</td>\n",
       "      <td>7702.04</td>\n",
       "      <td>87.76</td>\n",
       "      <td>10.45</td>\n",
       "      <td>-0.01</td>\n",
       "      <td>9690.50</td>\n",
       "    </tr>\n",
       "    <tr>\n",
       "      <th>0</th>\n",
       "      <td>mean</td>\n",
       "      <td>17.60</td>\n",
       "      <td>7641.96</td>\n",
       "      <td>87.42</td>\n",
       "      <td>13.35</td>\n",
       "      <td>-0.00</td>\n",
       "      <td>9682.65</td>\n",
       "    </tr>\n",
       "  </tbody>\n",
       "</table>\n",
       "</div>"
      ],
      "text/plain": [
       "       model    avg      mse   rmse    mae    r2  max_err\n",
       "0  xgb_tuned  10.07     1.09   1.04   0.69  0.95    22.67\n",
       "0     xgb_fe  10.07     1.10   1.05   0.70  0.94    25.51\n",
       "0  xgb_naïve  17.60  6886.80  82.99   5.17  0.10  8927.41\n",
       "0     median   9.75  7702.04  87.76  10.45 -0.01  9690.50\n",
       "0       mean  17.60  7641.96  87.42  13.35 -0.00  9682.65"
      ]
     },
     "execution_count": 53,
     "metadata": {},
     "output_type": "execute_result"
    }
   ],
   "source": [
    "mean_fold_results_df = pd.DataFrame(mean_fold_results)\n",
    "mean_results_df = pd.DataFrame({'model': 'mean',**mean_fold_results_df.drop(columns=['max_err']).mean(), 'max_err': mean_fold_results_df['max_err'].max()}, index=[0])\n",
    "\n",
    "median_fold_results_df = pd.DataFrame(median_fold_results)\n",
    "median_results_df = pd.DataFrame({'model': 'median', **median_fold_results_df.drop(columns=['max_err']).mean(), 'max_err': median_fold_results_df['max_err'].max()}, index=[0])\n",
    "\n",
    "xgb_naïve_fold_results_df = pd.DataFrame(xgb_naive_fold_results)\n",
    "xgb_naïve_results_df = pd.DataFrame({'model': 'xgb_naïve',**xgb_naïve_fold_results_df.drop(columns=['max_err']).mean(), 'max_err': xgb_naïve_fold_results_df['max_err'].max()}, index=[0])\n",
    "\n",
    "xgb_fe_fold_results_df = pd.DataFrame(xgb_fe_fold_results)\n",
    "xgb_fe_results_df = pd.DataFrame({'model': 'xgb_fe',**xgb_fe_fold_results_df.drop(columns=['max_err']).mean(), 'max_err': xgb_fe_fold_results_df['max_err'].max()}, index=[0])\n",
    "\n",
    "xgb_tuned_fold_results_df = pd.DataFrame(xgb_tune_fold_results)\n",
    "xgb_tuned_results_df = pd.DataFrame({'model': 'xgb_tuned',**xgb_tuned_fold_results_df.drop(columns=['max_err']).mean(), 'max_err': xgb_tuned_fold_results_df['max_err'].max()}, index=[0])\n",
    "\n",
    "all_results = pd.concat([mean_results_df, median_results_df, xgb_naïve_results_df, xgb_fe_results_df, xgb_tuned_results_df]).sort_values(by=[\"mae\", \"mse\", \"rmse\", \"r2\", \"max_err\"], ascending=[True, True, True, False, True])\n",
    "\n",
    "all_results.round(2)"
   ]
  },
  {
   "cell_type": "code",
   "execution_count": 54,
   "metadata": {
    "id": "fpgm2ZpUgsBr"
   },
   "outputs": [
    {
     "data": {
      "text/html": [
       "<div>\n",
       "<style scoped>\n",
       "    .dataframe tbody tr th:only-of-type {\n",
       "        vertical-align: middle;\n",
       "    }\n",
       "\n",
       "    .dataframe tbody tr th {\n",
       "        vertical-align: top;\n",
       "    }\n",
       "\n",
       "    .dataframe thead th {\n",
       "        text-align: right;\n",
       "    }\n",
       "</style>\n",
       "<table border=\"1\" class=\"dataframe\">\n",
       "  <thead>\n",
       "    <tr style=\"text-align: right;\">\n",
       "      <th></th>\n",
       "      <th>model</th>\n",
       "      <th>avg</th>\n",
       "      <th>mse</th>\n",
       "      <th>rmse</th>\n",
       "      <th>mae</th>\n",
       "      <th>r2</th>\n",
       "      <th>max_err</th>\n",
       "    </tr>\n",
       "  </thead>\n",
       "  <tbody>\n",
       "    <tr>\n",
       "      <th>0</th>\n",
       "      <td>xgb_naïve</td>\n",
       "      <td>17.60</td>\n",
       "      <td>6886.80</td>\n",
       "      <td>82.99</td>\n",
       "      <td>5.17</td>\n",
       "      <td>0.10</td>\n",
       "      <td>8927.41</td>\n",
       "    </tr>\n",
       "    <tr>\n",
       "      <th>0</th>\n",
       "      <td>median</td>\n",
       "      <td>9.75</td>\n",
       "      <td>7702.04</td>\n",
       "      <td>87.76</td>\n",
       "      <td>10.45</td>\n",
       "      <td>-0.01</td>\n",
       "      <td>9690.50</td>\n",
       "    </tr>\n",
       "    <tr>\n",
       "      <th>0</th>\n",
       "      <td>mean</td>\n",
       "      <td>17.60</td>\n",
       "      <td>7641.96</td>\n",
       "      <td>87.42</td>\n",
       "      <td>13.35</td>\n",
       "      <td>-0.00</td>\n",
       "      <td>9682.65</td>\n",
       "    </tr>\n",
       "  </tbody>\n",
       "</table>\n",
       "</div>"
      ],
      "text/plain": [
       "       model    avg      mse   rmse    mae    r2  max_err\n",
       "0  xgb_naïve  17.60  6886.80  82.99   5.17  0.10  8927.41\n",
       "0     median   9.75  7702.04  87.76  10.45 -0.01  9690.50\n",
       "0       mean  17.60  7641.96  87.42  13.35 -0.00  9682.65"
      ]
     },
     "execution_count": 54,
     "metadata": {},
     "output_type": "execute_result"
    }
   ],
   "source": [
    "mean_fold_results_df = pd.DataFrame(mean_fold_results)\n",
    "mean_results_df = pd.DataFrame({'model': 'mean',**mean_fold_results_df.drop(columns=['max_err']).mean(), 'max_err': mean_fold_results_df['max_err'].max()}, index=[0])\n",
    "\n",
    "median_fold_results_df = pd.DataFrame(median_fold_results)\n",
    "median_results_df = pd.DataFrame({'model': 'median', **median_fold_results_df.drop(columns=['max_err']).mean(), 'max_err': median_fold_results_df['max_err'].max()}, index=[0])\n",
    "\n",
    "xgb_naïve_fold_results_df = pd.DataFrame(xgb_naive_fold_results)\n",
    "xgb_naïve_results_df = pd.DataFrame({'model': 'xgb_naïve',**xgb_naïve_fold_results_df.drop(columns=['max_err']).mean(), 'max_err': xgb_naïve_fold_results_df['max_err'].max()}, index=[0])\n",
    "\n",
    "all_results = pd.concat([mean_results_df, median_results_df, xgb_naïve_results_df]).sort_values(by=[\"mae\", \"mse\", \"rmse\", \"r2\", \"max_err\"], ascending=[True, True, True, False, True])\n",
    "\n",
    "all_results.round(2)"
   ]
  },
  {
   "cell_type": "code",
   "execution_count": 55,
   "metadata": {
    "id": "WUKUGlQ1LotY"
   },
   "outputs": [
    {
     "data": {
      "image/png": "[encoded data removed]",
      "text/plain": [
       "<Figure size 1100x800 with 5 Axes>"
      ]
     },
     "metadata": {},
     "output_type": "display_data"
    }
   ],
   "source": [
    "melted_df = all_results.melt(id_vars='model', var_name='metric', value_name='value')\n",
    "filtered_df = melted_df[melted_df['metric'] != 'avg']\n",
    "unique_metrics = filtered_df['metric'].unique()\n",
    "n_metrics = len(unique_metrics)\n",
    "n_cols = 2\n",
    "n_rows = (n_metrics + 1) // n_cols\n",
    "\n",
    "fig, axes = plt.subplots(n_rows, n_cols, figsize=(11, 8))\n",
    "axes = axes.flatten()\n",
    "\n",
    "for i, metric in enumerate(unique_metrics):\n",
    "    ax = axes[i]\n",
    "    sns.barplot(\n",
    "        x='model',\n",
    "        y='value',\n",
    "        hue='model',  # Assign 'model' to hue\n",
    "        data=filtered_df[filtered_df['metric'] == metric],\n",
    "        palette='viridis',\n",
    "        ax=ax,\n",
    "        dodge=False)\n",
    "\n",
    "    ax.set_title(f'Comparison of {metric.upper()}')\n",
    "    ax.set_ylabel(metric.upper())\n",
    "    ax.set_xlabel('Model')\n",
    "\n",
    "for j in range(i + 1, len(axes)):\n",
    "    fig.delaxes(axes[j])\n",
    "\n",
    "plt.tight_layout()\n",
    "plt.show()"
   ]
  },
  {
   "cell_type": "code",
   "execution_count": 56,
   "metadata": {
    "id": "1DnDKRwGhDeO"
   },
   "outputs": [
    {
     "data": {
      "image/png": "[encoded data removed]",
      "text/plain": [
       "<Figure size 1000x800 with 1 Axes>"
      ]
     },
     "metadata": {},
     "output_type": "display_data"
    }
   ],
   "source": [
    "booster = xgb_model.get_booster()\n",
    "importance = booster.get_score(importance_type='weight')  # You can also use 'gain', 'cover', etc.\n",
    "\n",
    "# Convert to DataFrame\n",
    "importance_df = pd.DataFrame({\n",
    "    'Feature': list(importance.keys()),\n",
    "    'Importance': list(importance.values())\n",
    "})\n",
    "\n",
    "# Sort by importance\n",
    "importance_df = importance_df.sort_values(by='Importance', ascending=False)\n",
    "\n",
    "# Plot using Seaborn\n",
    "plt.figure(figsize=(10, 8))\n",
    "sns.barplot(x='Importance', y='Feature', data=importance_df, hue='Feature', palette=\"viridis\", dodge=False, legend=False)\n",
    "plt.title('Feature Importance')\n",
    "plt.xlabel('Importance Score')\n",
    "plt.ylabel('Features')\n",
    "plt.show()"
   ]
  },
  {
   "cell_type": "markdown",
   "metadata": {
    "id": "BsdHucCegnAw"
   },
   "source": [
    "<br/>"
   ]
  },
  {
   "cell_type": "markdown",
   "metadata": {
    "id": "P2ryD33agnJ4"
   },
   "source": [
    "<br/>"
   ]
  },
  {
   "cell_type": "markdown",
   "metadata": {
    "id": "nKUOINVvMd-Q"
   },
   "source": [
    "<br/>"
   ]
  },
  {
   "cell_type": "markdown",
   "metadata": {
    "id": "VKEvGJojMeDJ"
   },
   "source": [
    "<br/>"
   ]
  },
  {
   "cell_type": "markdown",
   "metadata": {
    "id": "RTnb6r00MeIv"
   },
   "source": [
    "<br/>"
   ]
  },
  {
   "cell_type": "markdown",
   "metadata": {
    "id": "vXCYymtlMeLt"
   },
   "source": [
    "<br/>"
   ]
  },
  {
   "cell_type": "markdown",
   "metadata": {
    "id": "LaUfZ78VMePB"
   },
   "source": [
    "<br/>"
   ]
  },
  {
   "cell_type": "markdown",
   "metadata": {
    "id": "6GjOYpXVMeSC"
   },
   "source": [
    "<br/>"
   ]
  },
  {
   "cell_type": "markdown",
   "metadata": {
    "id": "Ku_M8S7E4X4w"
   },
   "source": [
    "# XGBoost Parameter Tuning"
   ]
  },
  {
   "cell_type": "code",
   "execution_count": 57,
   "metadata": {},
   "outputs": [
    {
     "name": "stdout",
     "output_type": "stream",
     "text": [
      "The cudf.pandas extension is already loaded. To reload it, use:\n",
      "  %reload_ext cudf.pandas\n"
     ]
    }
   ],
   "source": [
    "%load_ext cudf.pandas"
   ]
  },
  {
   "cell_type": "code",
   "execution_count": 58,
   "metadata": {
    "id": "oXLX_TN_4g6d"
   },
   "outputs": [],
   "source": [
    "# !pip install -q optuna"
   ]
  },
  {
   "cell_type": "code",
   "execution_count": 59,
   "metadata": {
    "id": "RqCfSL33Vksu"
   },
   "outputs": [],
   "source": [
    "import optuna"
   ]
  },
  {
   "cell_type": "code",
   "execution_count": 60,
   "metadata": {},
   "outputs": [],
   "source": [
    "df = pd.read_csv('Taxi_Trips__2013-2023__20241218.csv')  # read in data\n",
    "df = df.rename(columns={'Trip Total': 'trip_ttl'})  # abbreviate target column name\n",
    "df = df.drop(columns=[\"Fare\", \"Tips\", \"Tolls\", \"Extras\"])\n",
    "df = df.drop(columns=[\"Trip ID\", \"Taxi ID\"])\n",
    "\n",
    "df[\"Trip Start Timestamp\"] = pd.to_datetime(df[\"Trip Start Timestamp\"], format=\"%m/%d/%Y %I:%M:%S %p\")\n",
    "df[\"Trip End Timestamp\"] = pd.to_datetime(df[\"Trip End Timestamp\"], format=\"%m/%d/%Y %I:%M:%S %p\")\n",
    "\n",
    "df = df[df[\"trip_ttl\"]>0]\n",
    "_ = df.nunique().sort_values()\n",
    "\n",
    "target = [\"trip_ttl\"]\n",
    "num_cols = [\"Pickup Centroid Latitude\", \"Pickup Centroid Longitude\", \"Dropoff Centroid Latitude\", \"Dropoff Centroid Longitude\", \"Trip Miles\", \"Trip Seconds\", \"Trip Start Timestamp\", \"Trip End Timestamp\"]\n",
    "cat_cols = list(set(df.columns) - set(target + num_cols))\n",
    "\n",
    "for col in num_cols:\n",
    "  df[col] = df[col].fillna(df[col].mean())\n",
    "\n",
    "df[cat_cols] = df[cat_cols].fillna(df[cat_cols].mode().iloc[0])\n",
    "\n",
    "df.sort_values([\"trip_ttl\", \"Trip Seconds\", \"Trip Miles\"], ascending=False)[[\"trip_ttl\", \"Trip Seconds\", \"Trip Miles\", \"Payment Type\"]]\n",
    "\n",
    "df = df[(df['Trip Seconds'] * df['Trip Miles']) > 0]\n",
    "\n",
    "def filter_by_modified_z_score(df, column, threshold=4.0):\n",
    "    # median and MAD (median abs deviation)\n",
    "    median = df[column].median()\n",
    "    mad = (df[column] - median).abs().median()\n",
    "    return df[(0.6745 * (df[column] - median) / mad).abs() <= threshold]\n",
    "\n",
    "df = filter_by_modified_z_score(df, \"trip_ttl\", threshold=3.5)\n",
    "_ = df.sort_values([\"trip_ttl\", \"Trip Seconds\", \"Trip Miles\"], ascending=False)[[\"trip_ttl\", \"Trip Seconds\", \"Trip Miles\"]]\n",
    "\n",
    "### Feature Extraction\n",
    "\n",
    "df['avg_speed'] = df['Trip Miles'] / (df['Trip Seconds'] / 3600)\n",
    "num_cols.append('avg_speed')\n",
    "\n",
    "df['day_of_week'] = df['Trip Start Timestamp'].dt.dayofweek\n",
    "df['hour_of_day'] = df['Trip Start Timestamp'].dt.hour\n",
    "df['month'] = df['Trip Start Timestamp'].dt.month\n",
    "df['year'] = df['Trip Start Timestamp'].dt.year\n",
    "cat_cols.extend(['day_of_week', 'hour_of_day', 'month', 'year'])\n",
    "\n",
    "# convert to timestamp seconds since epoch\n",
    "df['Trip Start Timestamp'] = df['Trip Start Timestamp'].astype(int) // 10**9\n",
    "df['Trip End Timestamp'] = df['Trip End Timestamp'].astype(int) // 10**9\n",
    "\n",
    "num_cols.extend(['Trip Start Timestamp', 'Trip End Timestamp'])\n",
    "\n",
    "for col in cat_cols:\n",
    "  df[col] = df[col].map(df.groupby(col)[\"trip_ttl\"].mean())\n",
    "\n",
    "_ = df.sort_values(\"trip_ttl\", ascending=False)\n",
    "\n",
    "df = df.replace([np.inf, -np.inf], np.nan).dropna()\n",
    "\n",
    "df = df.sample(frac=1, random_state=42).reset_index(drop=True)\n"
   ]
  },
  {
   "cell_type": "code",
   "execution_count": 61,
   "metadata": {
    "id": "PeNCk5sp7i6k"
   },
   "outputs": [],
   "source": [
    "def xgb_params_objective(trial):\n",
    "\n",
    "  xgb_params = {\n",
    "      \"device\": \"cuda\",\n",
    "      \"eval_metric\": \"mae\",\n",
    "\n",
    "      \"booster\": trial.suggest_categorical(\"booster\", [\"gbtree\", \"gblinear\", \"dart\"]),\n",
    "\n",
    "      \"n_estimators\": trial.suggest_int(\"n_estimators\", 25, 500),\n",
    "\n",
    "      \"learning_rate\": trial.suggest_float(\"learning_rate\", 0.0001, 0.9),\n",
    "\n",
    "      \"objective\": trial.suggest_categorical(\"objective\", [\"reg:squarederror\", \"reg:squaredlogerror\", \"reg:gamma\", \"reg:tweedie\"])\n",
    "  }\n",
    "\n",
    "  if xgb_params['booster'] == 'gbtree':\n",
    "      xgb_params[\"max_depth\"] = trial.suggest_int(\"max_depth\", 1, 10)\n",
    "      xgb_params[\"min_child_weight\"] = trial.suggest_int(\"min_child_weight\", 1, 10)\n",
    "      xgb_params[\"subsample\"] = trial.suggest_float(\"subsample\", 0.5, 1.0)\n",
    "      xgb_params[\"colsample_bytree\"] = trial.suggest_float(\"colsample_bytree\", 0.5, 1.0)\n",
    "\n",
    "  elif xgb_params['booster'] == 'gblinear':\n",
    "      xgb_params[\"alpha\"] = trial.suggest_float(\"alpha\", 0, 1)\n",
    "      xgb_params[\"lambda\"] = trial.suggest_float(\"lambda\", 0, 1)\n",
    "      xgb_params[\"feature_selector\"] = trial.suggest_categorical(\"feature_selector\", [\"cyclic\", \"shuffle\"])\n",
    "\n",
    "  elif xgb_params['booster'] == 'dart':\n",
    "      xgb_params[\"sample_type\"] = trial.suggest_categorical(\"sample_type\", [\"uniform\", \"weighted\"])\n",
    "      xgb_params[\"normalize_type\"] = trial.suggest_categorical(\"normalize_type\", [\"tree\", \"forest\"])\n",
    "      xgb_params[\"rate_drop\"] = trial.suggest_float(\"rate_drop\", 0.0, 1.0)\n",
    "      xgb_params[\"skip_drop\"] = trial.suggest_float(\"skip_drop\", 0.0, 1.0)\n",
    "\n",
    "  return xgb_params"
   ]
  },
  {
   "cell_type": "code",
   "execution_count": 62,
   "metadata": {
    "id": "G8EeWhJW4fG3"
   },
   "outputs": [],
   "source": [
    "def objective(trial):\n",
    "\n",
    "  xgb_params = xgb_params_objective(trial)\n",
    "\n",
    "  xgb_auto_tune_fold_results = {\"avg\": [], \"mse\": [], \"rmse\": [], \"mae\": [], \"r2\": [], \"max_err\": []}\n",
    "\n",
    "  X = df.drop(columns=[\"trip_ttl\"])\n",
    "  y = df[\"trip_ttl\"]\n",
    "\n",
    "  for fold, (train_index, test_index) in enumerate(KFold(n_splits=5, shuffle=True, random_state=42).split(df)):\n",
    "\n",
    "    X_train, X_test = X.iloc[train_index], X.iloc[test_index]\n",
    "    y_train, y_test = y.iloc[train_index], y.iloc[test_index]\n",
    "\n",
    "    # train\n",
    "    xgb_model = xgb.XGBRegressor(**xgb_params)\n",
    "\n",
    "    start = time()\n",
    "    xgb_model.fit(X_train, y_train)\n",
    "    fit_time = time() - start\n",
    "    trial.set_user_attr(\"fit_time\", fit_time)\n",
    "\n",
    "    y_pred = xgb_model.predict(X_test)\n",
    "    xgb_auto_tune_fold_results[\"avg\"].append(y_pred.mean())\n",
    "\n",
    "    # metrics\n",
    "    mse = ((y_test - y_pred) ** 2).mean()\n",
    "    xgb_auto_tune_fold_results[\"mse\"].append(mse)\n",
    "\n",
    "    xgb_auto_tune_fold_results[\"rmse\"].append(mse ** 0.5)\n",
    "\n",
    "    xgb_auto_tune_fold_results[\"mae\"].append((y_test - y_pred).abs().mean())\n",
    "\n",
    "    ss_residual = ((y_test - y_pred) ** 2).sum()\n",
    "    ss_total = ((y_test - y_test.mean()) ** 2).sum()\n",
    "    xgb_auto_tune_fold_results[\"r2\"].append(1 - (ss_residual / ss_total))\n",
    "\n",
    "    xgb_auto_tune_fold_results[\"max_err\"].append((y_test - y_pred).abs().max())\n",
    "\n",
    "  xgb_auto_tune_fold_results_df = pd.DataFrame(xgb_auto_tune_fold_results)\n",
    "  xgb_auto_tune_results_df = pd.DataFrame({'model': 'xgb_auto_tune',\n",
    "                                           **xgb_auto_tune_fold_results_df.drop(columns=['max_err']).mean(),\n",
    "                                           'max_err': xgb_auto_tune_fold_results_df['max_err'].max()}, index=[0])\n",
    "\n",
    "\n",
    "  return xgb_auto_tune_fold_results_df[\"mae\"].mean()"
   ]
  },
  {
   "cell_type": "code",
   "execution_count": 63,
   "metadata": {
    "id": "TA3uCfH86QUv"
   },
   "outputs": [
    {
     "name": "stderr",
     "output_type": "stream",
     "text": [
      "[I 2025-02-03 17:12:50,845] A new study created in memory with name: no-name-041ec309-216e-4095-8039-daf0ad2268e0\n"
     ]
    }
   ],
   "source": [
    "study = optuna.create_study(direction=\"minimize\")"
   ]
  },
  {
   "cell_type": "code",
   "execution_count": 64,
   "metadata": {
    "id": "aVVTRQam6TEw"
   },
   "outputs": [
    {
     "name": "stdout",
     "output_type": "stream",
     "text": [
      "Mon Feb  3 05:12:52 PM EST 2025\n"
     ]
    },
    {
     "name": "stderr",
     "output_type": "stream",
     "text": [
      "[I 2025-02-03 17:12:55,634] Trial 0 finished with value: 0.7064640736026536 and parameters: {'booster': 'gbtree', 'n_estimators': 169, 'learning_rate': 0.10356891544683523, 'objective': 'reg:gamma', 'max_depth': 5, 'min_child_weight': 2, 'subsample': 0.705000876057238, 'colsample_bytree': 0.6540427430040263}. Best is trial 0 with value: 0.7064640736026536.\n",
      "[I 2025-02-03 17:13:07,023] Trial 1 finished with value: 0.7130671593044855 and parameters: {'booster': 'gbtree', 'n_estimators': 493, 'learning_rate': 0.6805445729422043, 'objective': 'reg:squaredlogerror', 'max_depth': 10, 'min_child_weight': 5, 'subsample': 0.9391656684648917, 'colsample_bytree': 0.5648661103058342}. Best is trial 0 with value: 0.7064640736026536.\n"
     ]
    },
    {
     "name": "stdout",
     "output_type": "stream",
     "text": [
      "Mon Feb  3 05:13:07 PM EST 2025\n"
     ]
    }
   ],
   "source": [
    "!date\n",
    "study.optimize(objective, timeout=10)\n",
    "!date"
   ]
  },
  {
   "cell_type": "code",
   "execution_count": 65,
   "metadata": {
    "id": "hSdN7EMvvNPO"
   },
   "outputs": [
    {
     "name": "stdout",
     "output_type": "stream",
     "text": [
      "Mon Feb  3 05:13:07 PM EST 2025\n"
     ]
    },
    {
     "name": "stderr",
     "output_type": "stream",
     "text": [
      "[I 2025-02-03 17:13:12,967] Trial 2 finished with value: 0.6919382026298602 and parameters: {'booster': 'gbtree', 'n_estimators': 366, 'learning_rate': 0.10916462343447754, 'objective': 'reg:gamma', 'max_depth': 6, 'min_child_weight': 7, 'subsample': 0.7709121575535591, 'colsample_bytree': 0.7835041787397603}. Best is trial 2 with value: 0.6919382026298602.\n",
      "[I 2025-02-03 17:13:16,861] Trial 3 finished with value: 0.6941748858560286 and parameters: {'booster': 'gbtree', 'n_estimators': 86, 'learning_rate': 0.3263622966507713, 'objective': 'reg:squaredlogerror', 'max_depth': 10, 'min_child_weight': 4, 'subsample': 0.8980998708231533, 'colsample_bytree': 0.8186203782279455}. Best is trial 2 with value: 0.6919382026298602.\n",
      "[I 2025-02-03 17:14:07,517] Trial 4 finished with value: inf and parameters: {'booster': 'gblinear', 'n_estimators': 210, 'learning_rate': 0.10006859124716823, 'objective': 'reg:gamma', 'alpha': 0.5280859355606613, 'lambda': 0.7463699857662175, 'feature_selector': 'cyclic'}. Best is trial 2 with value: 0.6919382026298602.\n"
     ]
    },
    {
     "name": "stdout",
     "output_type": "stream",
     "text": [
      "Mon Feb  3 05:14:07 PM EST 2025\n"
     ]
    }
   ],
   "source": [
    "!date\n",
    "study.optimize(objective, timeout=10)\n",
    "!date"
   ]
  },
  {
   "cell_type": "code",
   "execution_count": 66,
   "metadata": {},
   "outputs": [
    {
     "name": "stdout",
     "output_type": "stream",
     "text": [
      "Mon Feb  3 05:38:07 PM EST 2025\n"
     ]
    },
    {
     "name": "stderr",
     "output_type": "stream",
     "text": [
      "[I 2025-02-03 17:39:20,146] Trial 10 finished with value: 699.8120219703021 and parameters: {'booster': 'gblinear', 'n_estimators': 40, 'learning_rate': 0.24964788640527552, 'objective': 'reg:tweedie', 'alpha': 0.6914781052586318, 'lambda': 0.7812559099426765, 'feature_selector': 'shuffle'}. Best is trial 2 with value: 0.6919382026298602.\n",
      "[I 2025-02-03 17:39:28,165] Trial 17 finished with value: 0.9199419450805543 and parameters: {'booster': 'gbtree', 'n_estimators': 145, 'learning_rate': 0.08571501047500611, 'objective': 'reg:squaredlogerror', 'max_depth': 1, 'min_child_weight': 1, 'subsample': 0.9065252399590654, 'colsample_bytree': 0.7603686045997842}. Best is trial 2 with value: 0.6919382026298602.\n",
      "[I 2025-02-03 17:39:34,414] Trial 9 finished with value: 0.7272505640206393 and parameters: {'booster': 'gbtree', 'n_estimators': 113, 'learning_rate': 0.8246914046357524, 'objective': 'reg:squarederror', 'max_depth': 5, 'min_child_weight': 4, 'subsample': 0.8374381740010212, 'colsample_bytree': 0.7976869283376178}. Best is trial 2 with value: 0.6919382026298602.\n",
      "[I 2025-02-03 17:39:37,579] Trial 18 finished with value: 3.7243615287169005 and parameters: {'booster': 'gblinear', 'n_estimators': 127, 'learning_rate': 0.3339796177286107, 'objective': 'reg:squaredlogerror', 'alpha': 0.7763071877574172, 'lambda': 0.28912739175067204, 'feature_selector': 'cyclic'}. Best is trial 2 with value: 0.6919382026298602.\n",
      "[I 2025-02-03 17:39:41,056] Trial 5 finished with value: inf and parameters: {'booster': 'gblinear', 'n_estimators': 144, 'learning_rate': 0.38732603396682, 'objective': 'reg:tweedie', 'alpha': 0.905858523581151, 'lambda': 0.5309480542226056, 'feature_selector': 'shuffle'}. Best is trial 2 with value: 0.6919382026298602.\n",
      "[I 2025-02-03 17:39:46,745] Trial 8 finished with value: 0.7237024615826462 and parameters: {'booster': 'gbtree', 'n_estimators': 197, 'learning_rate': 0.7527653277633731, 'objective': 'reg:tweedie', 'max_depth': 4, 'min_child_weight': 3, 'subsample': 0.6653844263389125, 'colsample_bytree': 0.9153119820908755}. Best is trial 2 with value: 0.6919382026298602.\n",
      "[I 2025-02-03 17:39:59,619] Trial 14 finished with value: 1.7651160514192654 and parameters: {'booster': 'gblinear', 'n_estimators': 240, 'learning_rate': 0.11049345834298116, 'objective': 'reg:squarederror', 'alpha': 0.024809018088830626, 'lambda': 0.37440232865522993, 'feature_selector': 'shuffle'}. Best is trial 2 with value: 0.6919382026298602.\n",
      "[W 2025-02-03 17:40:07,557] Trial 7 failed with parameters: {'booster': 'gblinear', 'n_estimators': 359, 'learning_rate': 0.8911684812932369, 'objective': 'reg:gamma', 'alpha': 0.008084434462520385, 'lambda': 0.7209851059177601, 'feature_selector': 'shuffle'} because of the following error: The value nan is not acceptable.\n",
      "[W 2025-02-03 17:40:07,558] Trial 7 failed with value nan.\n",
      "[I 2025-02-03 17:40:12,309] Trial 19 finished with value: 0.7063034423987604 and parameters: {'booster': 'gbtree', 'n_estimators': 448, 'learning_rate': 0.45504988549006653, 'objective': 'reg:squaredlogerror', 'max_depth': 4, 'min_child_weight': 4, 'subsample': 0.622601177106846, 'colsample_bytree': 0.7582994576397786}. Best is trial 2 with value: 0.6919382026298602.\n",
      "[I 2025-02-03 17:40:22,668] Trial 13 finished with value: 0.7046972508856948 and parameters: {'booster': 'gbtree', 'n_estimators': 407, 'learning_rate': 0.6333939982344489, 'objective': 'reg:squaredlogerror', 'max_depth': 8, 'min_child_weight': 7, 'subsample': 0.5709724762853149, 'colsample_bytree': 0.8370281436681093}. Best is trial 2 with value: 0.6919382026298602.\n",
      "[I 2025-02-03 17:40:32,014] Trial 12 finished with value: 3.702773008369875 and parameters: {'booster': 'dart', 'n_estimators': 99, 'learning_rate': 0.3619736669742828, 'objective': 'reg:squaredlogerror', 'sample_type': 'uniform', 'normalize_type': 'forest', 'rate_drop': 0.7718085552163577, 'skip_drop': 0.637712564597168}. Best is trial 2 with value: 0.6919382026298602.\n",
      "[I 2025-02-03 17:40:32,759] Trial 6 finished with value: 10.072722640723162 and parameters: {'booster': 'gblinear', 'n_estimators': 500, 'learning_rate': 0.7689614780479365, 'objective': 'reg:squaredlogerror', 'alpha': 0.018588232548463313, 'lambda': 0.16223268573508265, 'feature_selector': 'shuffle'}. Best is trial 2 with value: 0.6919382026298602.\n",
      "[I 2025-02-03 17:42:10,336] Trial 11 finished with value: 0.7321116799990499 and parameters: {'booster': 'dart', 'n_estimators': 284, 'learning_rate': 0.40701844718863206, 'objective': 'reg:tweedie', 'sample_type': 'weighted', 'normalize_type': 'tree', 'rate_drop': 0.8369240801592358, 'skip_drop': 0.05673249287084914}. Best is trial 2 with value: 0.6919382026298602.\n",
      "[I 2025-02-03 17:42:27,147] Trial 15 finished with value: 0.6910789674957154 and parameters: {'booster': 'dart', 'n_estimators': 287, 'learning_rate': 0.5582777468330469, 'objective': 'reg:gamma', 'sample_type': 'weighted', 'normalize_type': 'tree', 'rate_drop': 0.5642368162878955, 'skip_drop': 0.4281614719676906}. Best is trial 15 with value: 0.6910789674957154.\n",
      "[I 2025-02-03 17:43:07,607] Trial 20 finished with value: 1.1722781872920334 and parameters: {'booster': 'dart', 'n_estimators': 398, 'learning_rate': 0.6944948890003699, 'objective': 'reg:gamma', 'sample_type': 'uniform', 'normalize_type': 'forest', 'rate_drop': 0.5616680021524626, 'skip_drop': 0.4584443193332258}. Best is trial 15 with value: 0.6910789674957154.\n",
      "[I 2025-02-03 17:43:46,950] Trial 16 finished with value: 4.3951158777785935 and parameters: {'booster': 'dart', 'n_estimators': 477, 'learning_rate': 0.39287231945060347, 'objective': 'reg:squaredlogerror', 'sample_type': 'weighted', 'normalize_type': 'forest', 'rate_drop': 0.34616383299176345, 'skip_drop': 0.38395346592640134}. Best is trial 15 with value: 0.6910789674957154.\n",
      "[I 2025-02-03 18:24:28,808] Trial 33 finished with value: 0.695612351005894 and parameters: {'booster': 'dart', 'n_estimators': 299, 'learning_rate': 0.5325195226422853, 'objective': 'reg:gamma', 'sample_type': 'weighted', 'normalize_type': 'tree', 'rate_drop': 0.1763607208410104, 'skip_drop': 0.9612460879505439}. Best is trial 15 with value: 0.6910789674957154.\n",
      "[I 2025-02-03 18:24:43,377] Trial 22 finished with value: 0.6955903786180215 and parameters: {'booster': 'dart', 'n_estimators': 299, 'learning_rate': 0.5379117528537913, 'objective': 'reg:gamma', 'sample_type': 'weighted', 'normalize_type': 'tree', 'rate_drop': 0.0578821706776218, 'skip_drop': 0.9429595782508048}. Best is trial 15 with value: 0.6910789674957154.\n",
      "[I 2025-02-03 18:25:20,452] Trial 34 finished with value: 0.6950636468578704 and parameters: {'booster': 'dart', 'n_estimators': 302, 'learning_rate': 0.49041254063639916, 'objective': 'reg:gamma', 'sample_type': 'weighted', 'normalize_type': 'tree', 'rate_drop': 0.1199741988535018, 'skip_drop': 0.9747288460639085}. Best is trial 15 with value: 0.6910789674957154.\n",
      "[I 2025-02-03 18:26:04,396] Trial 23 finished with value: 0.6961139626184555 and parameters: {'booster': 'dart', 'n_estimators': 305, 'learning_rate': 0.5562872514438142, 'objective': 'reg:gamma', 'sample_type': 'weighted', 'normalize_type': 'tree', 'rate_drop': 0.037002587116666374, 'skip_drop': 0.8457911253055755}. Best is trial 15 with value: 0.6910789674957154.\n",
      "[I 2025-02-03 18:26:47,032] Trial 35 finished with value: 0.6964512652763438 and parameters: {'booster': 'dart', 'n_estimators': 308, 'learning_rate': 0.5356516036150698, 'objective': 'reg:gamma', 'sample_type': 'weighted', 'normalize_type': 'tree', 'rate_drop': 0.05521170578775114, 'skip_drop': 0.9799739125422855}. Best is trial 15 with value: 0.6910789674957154.\n",
      "[I 2025-02-03 18:26:58,390] Trial 36 finished with value: 0.6970486594590729 and parameters: {'booster': 'dart', 'n_estimators': 309, 'learning_rate': 0.5356559978588241, 'objective': 'reg:gamma', 'sample_type': 'weighted', 'normalize_type': 'tree', 'rate_drop': 0.07732783138311794, 'skip_drop': 0.986764012963669}. Best is trial 15 with value: 0.6910789674957154.\n",
      "[I 2025-02-03 18:27:04,674] Trial 31 finished with value: 0.6936539347139521 and parameters: {'booster': 'dart', 'n_estimators': 313, 'learning_rate': 0.5297225703223263, 'objective': 'reg:gamma', 'sample_type': 'weighted', 'normalize_type': 'tree', 'rate_drop': 0.13138092491109055, 'skip_drop': 0.8828298114725646}. Best is trial 15 with value: 0.6910789674957154.\n",
      "[I 2025-02-03 18:27:16,658] Trial 24 finished with value: 0.6971600520520727 and parameters: {'booster': 'dart', 'n_estimators': 312, 'learning_rate': 0.5451175000722482, 'objective': 'reg:gamma', 'sample_type': 'weighted', 'normalize_type': 'tree', 'rate_drop': 0.10002817594351188, 'skip_drop': 0.9373078448197885}. Best is trial 15 with value: 0.6910789674957154.\n",
      "[I 2025-02-03 18:27:38,668] Trial 26 finished with value: 0.6975733382711221 and parameters: {'booster': 'dart', 'n_estimators': 315, 'learning_rate': 0.5701767446666317, 'objective': 'reg:gamma', 'sample_type': 'weighted', 'normalize_type': 'tree', 'rate_drop': 0.12672562952968341, 'skip_drop': 0.9736077183333754}. Best is trial 15 with value: 0.6910789674957154.\n",
      "[I 2025-02-03 18:27:51,283] Trial 32 finished with value: 0.6984769066133673 and parameters: {'booster': 'dart', 'n_estimators': 316, 'learning_rate': 0.5652506271592965, 'objective': 'reg:gamma', 'sample_type': 'weighted', 'normalize_type': 'tree', 'rate_drop': 0.032191214743818364, 'skip_drop': 0.9968084897805226}. Best is trial 15 with value: 0.6910789674957154.\n",
      "[I 2025-02-03 18:27:58,500] Trial 25 finished with value: 0.6978051619854169 and parameters: {'booster': 'dart', 'n_estimators': 318, 'learning_rate': 0.542854782729399, 'objective': 'reg:gamma', 'sample_type': 'weighted', 'normalize_type': 'tree', 'rate_drop': 0.02241345155800012, 'skip_drop': 0.9879650636997631}. Best is trial 15 with value: 0.6910789674957154.\n",
      "[I 2025-02-03 18:28:00,052] Trial 29 finished with value: 0.6948932855480408 and parameters: {'booster': 'dart', 'n_estimators': 320, 'learning_rate': 0.5322754732222659, 'objective': 'reg:gamma', 'sample_type': 'weighted', 'normalize_type': 'tree', 'rate_drop': 0.054162211994359666, 'skip_drop': 0.8492876986577945}. Best is trial 15 with value: 0.6910789674957154.\n",
      "[I 2025-02-03 18:28:01,633] Trial 27 finished with value: 0.6987015018786071 and parameters: {'booster': 'dart', 'n_estimators': 320, 'learning_rate': 0.5682937406967095, 'objective': 'reg:gamma', 'sample_type': 'weighted', 'normalize_type': 'tree', 'rate_drop': 0.039913490241912264, 'skip_drop': 0.9858056867182786}. Best is trial 15 with value: 0.6910789674957154.\n",
      "[I 2025-02-03 18:28:01,723] Trial 30 finished with value: 0.6965740659681356 and parameters: {'booster': 'dart', 'n_estimators': 320, 'learning_rate': 0.5250037706655011, 'objective': 'reg:gamma', 'sample_type': 'weighted', 'normalize_type': 'tree', 'rate_drop': 0.018299762333315872, 'skip_drop': 0.9868423513009341}. Best is trial 15 with value: 0.6910789674957154.\n",
      "[I 2025-02-03 18:28:06,011] Trial 28 finished with value: 0.6981792781125835 and parameters: {'booster': 'dart', 'n_estimators': 328, 'learning_rate': 0.5503677453340216, 'objective': 'reg:gamma', 'sample_type': 'weighted', 'normalize_type': 'tree', 'rate_drop': 0.006871388953406554, 'skip_drop': 0.9830799700301134}. Best is trial 15 with value: 0.6910789674957154.\n",
      "[I 2025-02-03 18:28:06,913] Trial 21 finished with value: 0.6977928130915281 and parameters: {'booster': 'dart', 'n_estimators': 331, 'learning_rate': 0.5405346968706062, 'objective': 'reg:gamma', 'sample_type': 'weighted', 'normalize_type': 'tree', 'rate_drop': 0.01666437652519215, 'skip_drop': 0.9991397632109322}. Best is trial 15 with value: 0.6910789674957154.\n",
      "[I 2025-02-03 18:30:23,095] Trial 48 finished with value: 1.0772450791951276 and parameters: {'booster': 'gbtree', 'n_estimators': 254, 'learning_rate': 0.0061203859186830245, 'objective': 'reg:squarederror', 'max_depth': 8, 'min_child_weight': 10, 'subsample': 0.8036807504525608, 'colsample_bytree': 0.9687426261744853}. Best is trial 15 with value: 0.6910789674957154.\n",
      "[I 2025-02-03 18:30:36,175] Trial 44 finished with value: 0.6883640261117553 and parameters: {'booster': 'gbtree', 'n_estimators': 360, 'learning_rate': 0.1709778617205689, 'objective': 'reg:squarederror', 'max_depth': 8, 'min_child_weight': 10, 'subsample': 0.8066182774380033, 'colsample_bytree': 0.9805547330985604}. Best is trial 44 with value: 0.6883640261117553.\n",
      "[I 2025-02-03 18:30:38,631] Trial 37 finished with value: 0.6889389661616608 and parameters: {'booster': 'gbtree', 'n_estimators': 365, 'learning_rate': 0.18556734668064712, 'objective': 'reg:squarederror', 'max_depth': 8, 'min_child_weight': 9, 'subsample': 0.8303908847460305, 'colsample_bytree': 0.9083980401013365}. Best is trial 44 with value: 0.6883640261117553.\n",
      "[I 2025-02-03 18:30:38,991] Trial 42 finished with value: 0.6930449174145764 and parameters: {'booster': 'gbtree', 'n_estimators': 361, 'learning_rate': 0.24588767862555855, 'objective': 'reg:squarederror', 'max_depth': 8, 'min_child_weight': 10, 'subsample': 0.79822636384461, 'colsample_bytree': 0.9771846887639273}. Best is trial 44 with value: 0.6883640261117553.\n",
      "[I 2025-02-03 18:30:39,093] Trial 45 finished with value: 0.6886944201660687 and parameters: {'booster': 'gbtree', 'n_estimators': 365, 'learning_rate': 0.17547369838272048, 'objective': 'reg:squarederror', 'max_depth': 8, 'min_child_weight': 10, 'subsample': 0.793770886455416, 'colsample_bytree': 0.9971738416445135}. Best is trial 44 with value: 0.6883640261117553.\n",
      "[I 2025-02-03 18:30:39,583] Trial 50 finished with value: 0.6897780119194994 and parameters: {'booster': 'gbtree', 'n_estimators': 362, 'learning_rate': 0.19506975285353756, 'objective': 'reg:squarederror', 'max_depth': 8, 'min_child_weight': 9, 'subsample': 0.8009070919178225, 'colsample_bytree': 0.9952297252223636}. Best is trial 44 with value: 0.6883640261117553.\n",
      "[I 2025-02-03 18:30:40,514] Trial 49 finished with value: 0.6896886141851135 and parameters: {'booster': 'gbtree', 'n_estimators': 372, 'learning_rate': 0.18839254669123212, 'objective': 'reg:squarederror', 'max_depth': 8, 'min_child_weight': 10, 'subsample': 0.7974534084085961, 'colsample_bytree': 0.993936845609239}. Best is trial 44 with value: 0.6883640261117553.\n",
      "[I 2025-02-03 18:30:41,142] Trial 51 finished with value: 0.6892133159670559 and parameters: {'booster': 'gbtree', 'n_estimators': 366, 'learning_rate': 0.1856826084175395, 'objective': 'reg:squarederror', 'max_depth': 8, 'min_child_weight': 8, 'subsample': 0.7987063090411815, 'colsample_bytree': 0.9978946263155741}. Best is trial 44 with value: 0.6883640261117553.\n",
      "[I 2025-02-03 18:30:42,137] Trial 40 finished with value: 0.6929232524866175 and parameters: {'booster': 'gbtree', 'n_estimators': 384, 'learning_rate': 0.23661183490336013, 'objective': 'reg:squarederror', 'max_depth': 8, 'min_child_weight': 10, 'subsample': 0.803456309488598, 'colsample_bytree': 0.9590849489187859}. Best is trial 44 with value: 0.6883640261117553.\n",
      "[I 2025-02-03 18:30:48,017] Trial 47 finished with value: 0.6971845332788597 and parameters: {'booster': 'gbtree', 'n_estimators': 373, 'learning_rate': 0.018237267772607924, 'objective': 'reg:squarederror', 'max_depth': 8, 'min_child_weight': 9, 'subsample': 0.8245264082989588, 'colsample_bytree': 0.9918332838091047}. Best is trial 44 with value: 0.6883640261117553.\n",
      "[I 2025-02-03 18:30:48,237] Trial 41 finished with value: 1.6920698854694127 and parameters: {'booster': 'gbtree', 'n_estimators': 364, 'learning_rate': 0.0022440842352925428, 'objective': 'reg:squarederror', 'max_depth': 8, 'min_child_weight': 10, 'subsample': 0.803495060441345, 'colsample_bytree': 0.9557237596064965}. Best is trial 44 with value: 0.6883640261117553.\n",
      "[I 2025-02-03 18:30:48,918] Trial 39 finished with value: 0.7534286300154915 and parameters: {'booster': 'gbtree', 'n_estimators': 371, 'learning_rate': 0.008551583807510477, 'objective': 'reg:squarederror', 'max_depth': 8, 'min_child_weight': 10, 'subsample': 0.7967973302924982, 'colsample_bytree': 0.9999570484731941}. Best is trial 44 with value: 0.6883640261117553.\n",
      "[I 2025-02-03 18:30:49,096] Trial 38 finished with value: 0.9290273300572724 and parameters: {'booster': 'gbtree', 'n_estimators': 374, 'learning_rate': 0.005203166567959314, 'objective': 'reg:squarederror', 'max_depth': 8, 'min_child_weight': 10, 'subsample': 0.8046170462228863, 'colsample_bytree': 0.9484338103088958}. Best is trial 44 with value: 0.6883640261117553.\n",
      "[I 2025-02-03 18:30:49,597] Trial 43 finished with value: 0.8546181516842777 and parameters: {'booster': 'gbtree', 'n_estimators': 374, 'learning_rate': 0.006035626701502983, 'objective': 'reg:squarederror', 'max_depth': 8, 'min_child_weight': 10, 'subsample': 0.8020870719373534, 'colsample_bytree': 0.9408202077923706}. Best is trial 44 with value: 0.6883640261117553.\n",
      "[I 2025-02-03 18:30:49,792] Trial 52 finished with value: 1.7216999058645595 and parameters: {'booster': 'gbtree', 'n_estimators': 382, 'learning_rate': 0.002077341318677234, 'objective': 'reg:squarederror', 'max_depth': 8, 'min_child_weight': 10, 'subsample': 0.8006771917604267, 'colsample_bytree': 0.9931419389021703}. Best is trial 44 with value: 0.6883640261117553.\n",
      "[I 2025-02-03 18:30:51,119] Trial 46 finished with value: 0.6892311294092911 and parameters: {'booster': 'gbtree', 'n_estimators': 363, 'learning_rate': 0.17101261091037756, 'objective': 'reg:squarederror', 'max_depth': 9, 'min_child_weight': 10, 'subsample': 0.8033348327929246, 'colsample_bytree': 0.9854153542924252}. Best is trial 44 with value: 0.6883640261117553.\n",
      "[I 2025-02-03 18:34:43,968] Trial 64 finished with value: 0.6889906899443544 and parameters: {'booster': 'gbtree', 'n_estimators': 406, 'learning_rate': 0.1507353668336477, 'objective': 'reg:squarederror', 'max_depth': 9, 'min_child_weight': 8, 'subsample': 0.7366854611336915, 'colsample_bytree': 0.8930051178000453}. Best is trial 44 with value: 0.6883640261117553.\n",
      "[I 2025-02-03 18:34:50,186] Trial 63 finished with value: 0.6905303854341577 and parameters: {'booster': 'gbtree', 'n_estimators': 417, 'learning_rate': 0.16462347083612888, 'objective': 'reg:squarederror', 'max_depth': 9, 'min_child_weight': 8, 'subsample': 0.7308419309595213, 'colsample_bytree': 0.8966707626316848}. Best is trial 44 with value: 0.6883640261117553.\n",
      "[I 2025-02-03 18:34:51,511] Trial 68 finished with value: 0.6900518231307593 and parameters: {'booster': 'gbtree', 'n_estimators': 417, 'learning_rate': 0.1767799144865015, 'objective': 'reg:squarederror', 'max_depth': 9, 'min_child_weight': 8, 'subsample': 0.8680080393141766, 'colsample_bytree': 0.9026462174626709}. Best is trial 44 with value: 0.6883640261117553.\n",
      "[I 2025-02-03 18:34:52,542] Trial 59 finished with value: 0.6907869657196446 and parameters: {'booster': 'gbtree', 'n_estimators': 430, 'learning_rate': 0.16741098449160097, 'objective': 'reg:squarederror', 'max_depth': 9, 'min_child_weight': 9, 'subsample': 0.7294334312523516, 'colsample_bytree': 0.8954721422193123}. Best is trial 44 with value: 0.6883640261117553.\n",
      "[I 2025-02-03 18:34:52,910] Trial 54 finished with value: 0.6904385911114861 and parameters: {'booster': 'gbtree', 'n_estimators': 429, 'learning_rate': 0.1628527564868408, 'objective': 'reg:squarederror', 'max_depth': 9, 'min_child_weight': 8, 'subsample': 0.7294908059763955, 'colsample_bytree': 0.8941755256483279}. Best is trial 44 with value: 0.6883640261117553.\n",
      "[I 2025-02-03 18:34:53,539] Trial 66 finished with value: 0.690659487325084 and parameters: {'booster': 'gbtree', 'n_estimators': 422, 'learning_rate': 0.16594493402832158, 'objective': 'reg:squarederror', 'max_depth': 9, 'min_child_weight': 8, 'subsample': 0.7330329079726123, 'colsample_bytree': 0.8783044876119356}. Best is trial 44 with value: 0.6883640261117553.\n",
      "[I 2025-02-03 18:34:53,620] Trial 60 finished with value: 0.6903542534603065 and parameters: {'booster': 'gbtree', 'n_estimators': 421, 'learning_rate': 0.16278946819066886, 'objective': 'reg:squarederror', 'max_depth': 9, 'min_child_weight': 8, 'subsample': 0.7337108337857599, 'colsample_bytree': 0.8731086472503451}. Best is trial 44 with value: 0.6883640261117553.\n",
      "[I 2025-02-03 18:34:53,781] Trial 62 finished with value: 0.6895421077967085 and parameters: {'booster': 'gbtree', 'n_estimators': 423, 'learning_rate': 0.1554384352456636, 'objective': 'reg:squarederror', 'max_depth': 9, 'min_child_weight': 8, 'subsample': 0.7350584956776378, 'colsample_bytree': 0.8882770715657202}. Best is trial 44 with value: 0.6883640261117553.\n",
      "[I 2025-02-03 18:34:53,795] Trial 67 finished with value: 0.6905513357226591 and parameters: {'booster': 'gbtree', 'n_estimators': 420, 'learning_rate': 0.16525599578838768, 'objective': 'reg:squarederror', 'max_depth': 9, 'min_child_weight': 8, 'subsample': 0.7290199411142689, 'colsample_bytree': 0.8999197880237848}. Best is trial 44 with value: 0.6883640261117553.\n",
      "[I 2025-02-03 18:34:54,104] Trial 56 finished with value: 0.6902115329102355 and parameters: {'booster': 'gbtree', 'n_estimators': 428, 'learning_rate': 0.16238973396136494, 'objective': 'reg:squarederror', 'max_depth': 9, 'min_child_weight': 8, 'subsample': 0.7335463632905467, 'colsample_bytree': 0.8959528721692633}. Best is trial 44 with value: 0.6883640261117553.\n",
      "[I 2025-02-03 18:34:54,507] Trial 58 finished with value: 0.6903110052222747 and parameters: {'booster': 'gbtree', 'n_estimators': 429, 'learning_rate': 0.16189431037865906, 'objective': 'reg:squarederror', 'max_depth': 9, 'min_child_weight': 8, 'subsample': 0.7263876895983549, 'colsample_bytree': 0.878107887366188}. Best is trial 44 with value: 0.6883640261117553.\n",
      "[I 2025-02-03 18:34:54,528] Trial 65 finished with value: 0.6906919854276545 and parameters: {'booster': 'gbtree', 'n_estimators': 427, 'learning_rate': 0.16438489640824983, 'objective': 'reg:squarederror', 'max_depth': 9, 'min_child_weight': 8, 'subsample': 0.7233307754060866, 'colsample_bytree': 0.8888215729389871}. Best is trial 44 with value: 0.6883640261117553.\n",
      "[I 2025-02-03 18:34:54,896] Trial 55 finished with value: 0.6899212146562279 and parameters: {'booster': 'gbtree', 'n_estimators': 438, 'learning_rate': 0.1561497525678091, 'objective': 'reg:squarederror', 'max_depth': 9, 'min_child_weight': 8, 'subsample': 0.728154054242054, 'colsample_bytree': 0.8921815453265559}. Best is trial 44 with value: 0.6883640261117553.\n",
      "[I 2025-02-03 18:34:54,909] Trial 53 finished with value: 0.6892741051972588 and parameters: {'booster': 'gbtree', 'n_estimators': 431, 'learning_rate': 0.1683349941643642, 'objective': 'reg:squarederror', 'max_depth': 9, 'min_child_weight': 8, 'subsample': 0.8686543444798707, 'colsample_bytree': 0.8848665730866363}. Best is trial 44 with value: 0.6883640261117553.\n",
      "[I 2025-02-03 18:34:55,105] Trial 61 finished with value: 0.6911262560277441 and parameters: {'booster': 'gbtree', 'n_estimators': 442, 'learning_rate': 0.16801685552015302, 'objective': 'reg:squarederror', 'max_depth': 9, 'min_child_weight': 8, 'subsample': 0.725714434461371, 'colsample_bytree': 0.8977966722771585}. Best is trial 44 with value: 0.6883640261117553.\n",
      "[I 2025-02-03 18:34:55,263] Trial 57 finished with value: 0.6906254146282789 and parameters: {'booster': 'gbtree', 'n_estimators': 447, 'learning_rate': 0.16279995726113677, 'objective': 'reg:squarederror', 'max_depth': 9, 'min_child_weight': 8, 'subsample': 0.7352665709929418, 'colsample_bytree': 0.8874742455051472}. Best is trial 44 with value: 0.6883640261117553.\n",
      "[I 2025-02-03 18:42:16,406] Trial 69 finished with value: 500.40127196462026 and parameters: {'booster': 'gblinear', 'n_estimators': 346, 'learning_rate': 0.07730911102476933, 'objective': 'reg:tweedie', 'alpha': 0.37795266777444625, 'lambda': 0.931603009986726, 'feature_selector': 'cyclic'}. Best is trial 44 with value: 0.6883640261117553.\n",
      "[I 2025-02-03 18:42:34,346] Trial 74 finished with value: 628.7313250793136 and parameters: {'booster': 'gblinear', 'n_estimators': 345, 'learning_rate': 0.0895246055570235, 'objective': 'reg:tweedie', 'alpha': 0.2968852962074662, 'lambda': 0.014353760196013088, 'feature_selector': 'cyclic'}. Best is trial 44 with value: 0.6883640261117553.\n",
      "[I 2025-02-03 18:42:39,337] Trial 80 finished with value: 602.3136100839689 and parameters: {'booster': 'gblinear', 'n_estimators': 342, 'learning_rate': 0.10495277679611936, 'objective': 'reg:tweedie', 'alpha': 0.2776653247370169, 'lambda': 0.9774530646309451, 'feature_selector': 'cyclic'}. Best is trial 44 with value: 0.6883640261117553.\n",
      "[I 2025-02-03 18:42:39,791] Trial 71 finished with value: 672.0802001713754 and parameters: {'booster': 'gblinear', 'n_estimators': 345, 'learning_rate': 0.062346796623095196, 'objective': 'reg:tweedie', 'alpha': 0.31510278465440444, 'lambda': 0.0245581328873824, 'feature_selector': 'cyclic'}. Best is trial 44 with value: 0.6883640261117553.\n",
      "[I 2025-02-03 18:42:43,385] Trial 84 finished with value: 796.0958395400525 and parameters: {'booster': 'gblinear', 'n_estimators': 347, 'learning_rate': 0.29608553756859995, 'objective': 'reg:tweedie', 'alpha': 0.32696527609639614, 'lambda': 0.0004332014154225794, 'feature_selector': 'cyclic'}. Best is trial 44 with value: 0.6883640261117553.\n",
      "[I 2025-02-03 18:43:00,011] Trial 76 finished with value: 513.1204334101756 and parameters: {'booster': 'gblinear', 'n_estimators': 343, 'learning_rate': 0.2838403470362522, 'objective': 'reg:tweedie', 'alpha': 0.3031832075770423, 'lambda': 0.01596935977232472, 'feature_selector': 'cyclic'}. Best is trial 44 with value: 0.6883640261117553.\n",
      "[I 2025-02-03 18:43:00,108] Trial 72 finished with value: 2.568098449943093 and parameters: {'booster': 'gblinear', 'n_estimators': 347, 'learning_rate': 0.29760117007568404, 'objective': 'reg:tweedie', 'alpha': 0.3038618720702243, 'lambda': 0.9479987875685005, 'feature_selector': 'cyclic'}. Best is trial 44 with value: 0.6883640261117553.\n",
      "[I 2025-02-03 18:43:03,700] Trial 78 finished with value: 2.538051844719621 and parameters: {'booster': 'gblinear', 'n_estimators': 343, 'learning_rate': 0.2957291584597388, 'objective': 'reg:tweedie', 'alpha': 0.32105468558936184, 'lambda': 0.009420665704100162, 'feature_selector': 'cyclic'}. Best is trial 44 with value: 0.6883640261117553.\n",
      "[I 2025-02-03 18:43:04,192] Trial 77 finished with value: 663.1650357870438 and parameters: {'booster': 'gblinear', 'n_estimators': 347, 'learning_rate': 0.2903453321304151, 'objective': 'reg:tweedie', 'alpha': 0.2654344668521141, 'lambda': 0.9905204491297088, 'feature_selector': 'cyclic'}. Best is trial 44 with value: 0.6883640261117553.\n",
      "[I 2025-02-03 18:43:11,329] Trial 75 finished with value: 631.1903248900034 and parameters: {'booster': 'gblinear', 'n_estimators': 342, 'learning_rate': 0.295847110480761, 'objective': 'reg:tweedie', 'alpha': 0.3119703959887082, 'lambda': 0.0010003164341634285, 'feature_selector': 'cyclic'}. Best is trial 44 with value: 0.6883640261117553.\n",
      "[I 2025-02-03 18:43:14,086] Trial 83 finished with value: 5.758458929608167 and parameters: {'booster': 'gblinear', 'n_estimators': 344, 'learning_rate': 0.2965997827223119, 'objective': 'reg:squaredlogerror', 'alpha': 0.29953550269391105, 'lambda': 0.0033887672786433454, 'feature_selector': 'cyclic'}. Best is trial 44 with value: 0.6883640261117553.\n",
      "[I 2025-02-03 18:43:21,970] Trial 82 finished with value: 511.22106278722083 and parameters: {'booster': 'gblinear', 'n_estimators': 345, 'learning_rate': 0.3029472965506503, 'objective': 'reg:tweedie', 'alpha': 0.2858477163396012, 'lambda': 0.9907549906620374, 'feature_selector': 'cyclic'}. Best is trial 44 with value: 0.6883640261117553.\n",
      "[I 2025-02-03 18:43:28,685] Trial 79 finished with value: 634.8760849542697 and parameters: {'booster': 'gblinear', 'n_estimators': 476, 'learning_rate': 0.07420765575323325, 'objective': 'reg:tweedie', 'alpha': 0.2767976139662358, 'lambda': 0.019154845684491217, 'feature_selector': 'cyclic'}. Best is trial 44 with value: 0.6883640261117553.\n",
      "[I 2025-02-03 18:43:29,803] Trial 73 finished with value: 678.8029774796877 and parameters: {'booster': 'gblinear', 'n_estimators': 488, 'learning_rate': 0.06542443335623399, 'objective': 'reg:tweedie', 'alpha': 0.25999721867394615, 'lambda': 0.04215576758140149, 'feature_selector': 'cyclic'}. Best is trial 44 with value: 0.6883640261117553.\n",
      "[I 2025-02-03 18:43:41,394] Trial 70 finished with value: 2.7962517847544603 and parameters: {'booster': 'gblinear', 'n_estimators': 468, 'learning_rate': 0.30258829067626497, 'objective': 'reg:tweedie', 'alpha': 0.28008332252388163, 'lambda': 0.003975022662230598, 'feature_selector': 'cyclic'}. Best is trial 44 with value: 0.6883640261117553.\n",
      "[I 2025-02-03 18:43:43,178] Trial 81 finished with value: 2.533850510963804 and parameters: {'booster': 'gblinear', 'n_estimators': 470, 'learning_rate': 0.2939643010226415, 'objective': 'reg:tweedie', 'alpha': 0.2525953584572153, 'lambda': 0.968711117460381, 'feature_selector': 'cyclic'}. Best is trial 44 with value: 0.6883640261117553.\n",
      "[I 2025-02-03 18:45:53,851] Trial 92 finished with value: 0.6910393305530756 and parameters: {'booster': 'gbtree', 'n_estimators': 389, 'learning_rate': 0.21148806646927626, 'objective': 'reg:squarederror', 'max_depth': 7, 'min_child_weight': 9, 'subsample': 0.7664336680969696, 'colsample_bytree': 0.9264771209773214}. Best is trial 44 with value: 0.6883640261117553.\n",
      "[I 2025-02-03 18:45:56,109] Trial 88 finished with value: 0.6953104416859712 and parameters: {'booster': 'gbtree', 'n_estimators': 398, 'learning_rate': 0.21561230039506807, 'objective': 'reg:squarederror', 'max_depth': 7, 'min_child_weight': 9, 'subsample': 0.7658028042893176, 'colsample_bytree': 0.6862241295231358}. Best is trial 44 with value: 0.6883640261117553.\n",
      "[I 2025-02-03 18:45:56,348] Trial 96 finished with value: 0.6955274911896225 and parameters: {'booster': 'gbtree', 'n_estimators': 394, 'learning_rate': 0.214736924380111, 'objective': 'reg:squarederror', 'max_depth': 7, 'min_child_weight': 9, 'subsample': 0.7684936767239042, 'colsample_bytree': 0.6557371344040032}. Best is trial 44 with value: 0.6883640261117553.\n",
      "[I 2025-02-03 18:45:56,405] Trial 86 finished with value: 0.6941112514687424 and parameters: {'booster': 'gbtree', 'n_estimators': 396, 'learning_rate': 0.20670678744303933, 'objective': 'reg:squarederror', 'max_depth': 7, 'min_child_weight': 9, 'subsample': 0.8506497515842707, 'colsample_bytree': 0.6245649351804847}. Best is trial 44 with value: 0.6883640261117553.\n",
      "[I 2025-02-03 18:45:57,097] Trial 89 finished with value: 0.6947267898811311 and parameters: {'booster': 'gbtree', 'n_estimators': 396, 'learning_rate': 0.2068173796357163, 'objective': 'reg:squarederror', 'max_depth': 7, 'min_child_weight': 9, 'subsample': 0.7669364363625943, 'colsample_bytree': 0.7027218538325566}. Best is trial 44 with value: 0.6883640261117553.\n",
      "[I 2025-02-03 18:45:57,984] Trial 87 finished with value: 0.6948971031821332 and parameters: {'booster': 'gbtree', 'n_estimators': 395, 'learning_rate': 0.21840001124608918, 'objective': 'reg:squarederror', 'max_depth': 7, 'min_child_weight': 9, 'subsample': 0.8590197713925035, 'colsample_bytree': 0.5753961554824517}. Best is trial 44 with value: 0.6883640261117553.\n",
      "[I 2025-02-03 18:45:58,514] Trial 100 finished with value: 0.6950056741663642 and parameters: {'booster': 'gbtree', 'n_estimators': 390, 'learning_rate': 0.21360246159158244, 'objective': 'reg:squarederror', 'max_depth': 7, 'min_child_weight': 9, 'subsample': 0.7685660914346574, 'colsample_bytree': 0.711701689466387}. Best is trial 44 with value: 0.6883640261117553.\n",
      "[I 2025-02-03 18:45:58,606] Trial 90 finished with value: 0.6877074880437718 and parameters: {'booster': 'gbtree', 'n_estimators': 400, 'learning_rate': 0.12725657263062318, 'objective': 'reg:squarederror', 'max_depth': 7, 'min_child_weight': 9, 'subsample': 0.7669199999386465, 'colsample_bytree': 0.933412556946007}. Best is trial 90 with value: 0.6877074880437718.\n",
      "[I 2025-02-03 18:45:58,968] Trial 91 finished with value: 0.6910164009456613 and parameters: {'booster': 'gbtree', 'n_estimators': 398, 'learning_rate': 0.21308029100587075, 'objective': 'reg:squarederror', 'max_depth': 7, 'min_child_weight': 9, 'subsample': 0.7694193567524639, 'colsample_bytree': 0.9283837659736871}. Best is trial 90 with value: 0.6877074880437718.\n",
      "[I 2025-02-03 18:45:59,035] Trial 97 finished with value: 0.6958635634803201 and parameters: {'booster': 'gbtree', 'n_estimators': 395, 'learning_rate': 0.21611191776668284, 'objective': 'reg:squarederror', 'max_depth': 7, 'min_child_weight': 9, 'subsample': 0.7669710048823714, 'colsample_bytree': 0.6156827546775798}. Best is trial 90 with value: 0.6877074880437718.\n",
      "[I 2025-02-03 18:45:59,099] Trial 93 finished with value: 0.6954604168401296 and parameters: {'booster': 'gbtree', 'n_estimators': 397, 'learning_rate': 0.21461417290003365, 'objective': 'reg:squarederror', 'max_depth': 7, 'min_child_weight': 9, 'subsample': 0.7714713295236351, 'colsample_bytree': 0.605955846073919}. Best is trial 90 with value: 0.6877074880437718.\n",
      "[I 2025-02-03 18:45:59,153] Trial 99 finished with value: 0.693791426249672 and parameters: {'booster': 'gbtree', 'n_estimators': 396, 'learning_rate': 0.2010128657226039, 'objective': 'reg:squarederror', 'max_depth': 7, 'min_child_weight': 9, 'subsample': 0.8409870582106937, 'colsample_bytree': 0.6608860348061236}. Best is trial 90 with value: 0.6877074880437718.\n",
      "[I 2025-02-03 18:45:59,226] Trial 98 finished with value: 0.6907186077071095 and parameters: {'booster': 'gbtree', 'n_estimators': 403, 'learning_rate': 0.12204916629178343, 'objective': 'reg:squarederror', 'max_depth': 7, 'min_child_weight': 9, 'subsample': 0.7671245673270549, 'colsample_bytree': 0.7042082211647447}. Best is trial 90 with value: 0.6877074880437718.\n",
      "[I 2025-02-03 18:45:59,289] Trial 85 finished with value: 0.6903961404814349 and parameters: {'booster': 'gbtree', 'n_estimators': 403, 'learning_rate': 0.21736925716494282, 'objective': 'reg:squarederror', 'max_depth': 7, 'min_child_weight': 9, 'subsample': 0.8536553740747019, 'colsample_bytree': 0.9375304490253616}. Best is trial 90 with value: 0.6877074880437718.\n",
      "[I 2025-02-03 18:46:15,664] Trial 95 finished with value: 0.7038029595956208 and parameters: {'booster': 'gbtree', 'n_estimators': 390, 'learning_rate': 0.21230358403416624, 'objective': 'reg:squarederror', 'max_depth': 10, 'min_child_weight': 9, 'subsample': 0.767568810329416, 'colsample_bytree': 0.6999144835814001}. Best is trial 90 with value: 0.6877074880437718.\n",
      "[I 2025-02-03 18:46:15,781] Trial 94 finished with value: 0.6941460316062009 and parameters: {'booster': 'gbtree', 'n_estimators': 399, 'learning_rate': 0.1273054463975804, 'objective': 'reg:squarederror', 'max_depth': 10, 'min_child_weight': 9, 'subsample': 0.8522396648248655, 'colsample_bytree': 0.5061394424094079}. Best is trial 90 with value: 0.6877074880437718.\n"
     ]
    },
    {
     "name": "stdout",
     "output_type": "stream",
     "text": [
      "Mon Feb  3 06:46:15 PM EST 2025\n"
     ]
    }
   ],
   "source": [
    "!date\n",
    "for i in range(6):\n",
    "    study.optimize(objective, timeout=10, n_jobs=16)\n",
    "!date"
   ]
  },
  {
   "cell_type": "code",
   "execution_count": null,
   "metadata": {},
   "outputs": [],
   "source": []
  }
 ],
 "metadata": {
  "colab": {
   "provenance": []
  },
  "kernelspec": {
   "display_name": "Python 3 (ipykernel)",
   "language": "python",
   "name": "python3"
  },
  "language_info": {
   "codemirror_mode": {
    "name": "ipython",
    "version": 3
   },
   "file_extension": ".py",
   "mimetype": "text/x-python",
   "name": "python",
   "nbconvert_exporter": "python",
   "pygments_lexer": "ipython3",
   "version": "3.12.3"
  }
 },
 "nbformat": 4,
 "nbformat_minor": 4
}

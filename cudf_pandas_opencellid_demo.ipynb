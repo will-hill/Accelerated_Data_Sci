{
  "cells": [
    {
      "cell_type": "markdown",
      "id": "478f5866-2e96-4f16-a067-7f73f9e0b347",
      "metadata": {
        "id": "478f5866-2e96-4f16-a067-7f73f9e0b347"
      },
      "source": [
        "# OpenCellID Data Exploration with Pandas (accelerated by cudf.pandas) <a target=\"_blank\" href=\"https://colab.research.google.com/github/rapidsai-community/showcase/blob/main/getting_started_tutorials/cudf_pandas_opencellid_demo.ipynb\"> <img src=\"https://colab.research.google.com/assets/colab-badge.svg\" alt=\"Open In Colab\"/> </a>\n",
        "\n",
        "[OpenCellID](https://wiki.opencellid.org/wiki/What_is_OpenCellID) is the world's largest collaborative community project that collects GPS positions of cell towers, used free of charge, for a multitude of commercial and private purposes.\n",
        "\n",
        "The OpenCellID project was primarily created to serve as a data source for GSM localisation. As of October, 2017, the database contained almost 36 million unique GSM Cell IDs. More than 75,000 contributors have already registered with OpenCellID, contributing millions of new measurements every day in average to the OpenCellID database.\n",
        "\n",
        "OpenCellID provides 100% free Cell ID data under a ![image-2.png](attachment:image-2.png)[Creative Commons Attribution-ShareAlike 4.0 International License](https://creativecommons.org/licenses/by-sa/4.0/). The OpenCellID database is published under an open content license with the intention of promoting free use and redistribution of the data. All data uploaded by any of the contributors can also be downloaded again free of charge - no exceptions!"
      ]
    },
    {
      "cell_type": "markdown",
      "id": "e0c741a3-b8c1-4e89-bbc9-8a61c1ebeeae",
      "metadata": {
        "id": "e0c741a3-b8c1-4e89-bbc9-8a61c1ebeeae"
      },
      "source": [
        "## Load cudf.pandas extension"
      ]
    },
    {
      "cell_type": "code",
      "execution_count": null,
      "id": "e5816f80-d6ba-42cc-b917-8777813cc0be",
      "metadata": {
        "id": "e5816f80-d6ba-42cc-b917-8777813cc0be"
      },
      "outputs": [],
      "source": [
        "%load_ext cudf.pandas"
      ]
    },
    {
      "cell_type": "markdown",
      "id": "99ac710c-f82a-4992-a135-f13e2526d5b5",
      "metadata": {
        "id": "99ac710c-f82a-4992-a135-f13e2526d5b5"
      },
      "source": [
        "## Import required Packages"
      ]
    },
    {
      "cell_type": "code",
      "execution_count": null,
      "id": "ecc4bc90-39e1-4d5e-a992-327c6c278a4d",
      "metadata": {
        "id": "ecc4bc90-39e1-4d5e-a992-327c6c278a4d"
      },
      "outputs": [],
      "source": [
        "# Install required packages\n",
        "! pip install -q hvplot pydeck panel holoviews=1.18.3"
      ]
    },
    {
      "cell_type": "code",
      "execution_count": null,
      "id": "0f706004-c048-454e-9e9b-02601566352e",
      "metadata": {
        "id": "0f706004-c048-454e-9e9b-02601566352e"
      },
      "outputs": [],
      "source": [
        "# importing viz libraries\n",
        "import hvplot.pandas\n",
        "import pydeck as pdk\n",
        "import panel as pn\n",
        "import param\n",
        "import time\n",
        "pn.extension(\"deckgl\", loading_indicator=True, template='material')\n",
        "\n",
        "#importing pandas\n",
        "import pandas as pd"
      ]
    },
    {
      "cell_type": "markdown",
      "id": "05a7e4fb-3095-4c65-a9ec-eb95061911f4",
      "metadata": {
        "id": "05a7e4fb-3095-4c65-a9ec-eb95061911f4"
      },
      "source": [
        "## Download cell-data (https://www.opencellid.org/)\n",
        "\n",
        "### Dataset Options\n",
        "1. [Worldwide Dataset](https://data.rapids.ai/cudf/datasets/cell_towers.tar.xz)\n",
        "2. [US Dataset](https://data.rapids.ai/cudf/datasets/cell_towers_us.tar.xz): Suitable for the free tier of Google Colab.\n",
        "### Usage in Google Colab\n",
        "- For a smaller dataset to test the notebook with the free tier of Google Colab, use: download_and_extract('us').\n",
        "### Additional Information\n",
        "- Users can register for an account on OpenCellID to obtain a data access token and download the latest dataset directly.\n",
        "- The auto-downloader provided in this notebook will not fetch the latest dataset from OpenCellID. For the latest data, manual download with an access token is required.\n",
        "- If the latest data is not a priority, the included dataset dated May 2024 will suffice for exploring the notebook's functionalities.\n"
      ]
    },
    {
      "cell_type": "code",
      "execution_count": null,
      "id": "d46ed4ac-43d4-4e21-8fc2-8fd65f3e37a4",
      "metadata": {
        "id": "d46ed4ac-43d4-4e21-8fc2-8fd65f3e37a4"
      },
      "outputs": [],
      "source": [
        "# For Google Colab, download the script from a GitHub repository by uncommenting the line below\n",
        "# !wget https://raw.githubusercontent.com/rapidsai-community/showcase/main/getting_started_tutorials/opencellid_downloader.py"
      ]
    },
    {
      "cell_type": "code",
      "execution_count": null,
      "id": "d0e24392-02ac-41d5-a93d-2261edf72bc8",
      "metadata": {
        "id": "d0e24392-02ac-41d5-a93d-2261edf72bc8"
      },
      "outputs": [],
      "source": [
        "from opencellid_downloader import download_and_extract\n",
        "download_and_extract('us') # use download_and_extract('worldwide') to download the entire world dataset"
      ]
    },
    {
      "cell_type": "markdown",
      "id": "e8293e2c-525b-455f-823e-39329177382b",
      "metadata": {
        "id": "e8293e2c-525b-455f-823e-39329177382b"
      },
      "source": [
        "## Read cell-data (https://www.opencellid.org/)\n",
        "\n",
        "### Column Descriptions\n",
        "\n",
        "- **Radio**:\tThe generation of broadband cellular network technology (Eg. LTE, GSM)\n",
        "\n",
        "- **MCC**:\tMobile country code. This info is publicly shared by International Telecommunication Union (link)\n",
        "\n",
        "- **MNC**:\tMobile network code. This info is publicly shared by International Telecommunication Union (link)\n",
        "\n",
        "- **AREA**:\tLocation Area Code\n",
        "\n",
        "- **CELL**:\tThis is a unique number used to identify each Base transceiver station or sector of BTS\n",
        "\n",
        "- **Longitude**:\tLongitude, is a geographic coordinate that specifies the east-west position of a point on the Earth's surface\n",
        "\n",
        "- **Latitude**:\tLatitude is a geographic coordinate that specifies the north–south position of a point on the Earth's surface.\n",
        "\n",
        "- **Range**:\tApproximate area within which the cell could be. (In meters)\n",
        "\n",
        "- **Samples**:\tNumber of measures processed to get a particular data point\n",
        "\n",
        "- **Changeable=1**:\tThe location is determined by processing samples\n",
        "\n",
        "- **Changeable=0**:\tThe location is directly obtained from the telecom firm\n",
        "\n",
        "- **Created**:\tWhen a particular cell was first added to database (UNIX timestamp)\n",
        "\n",
        "- **Updated**:\tWhen a particular cell was last seen (UNIX timestamp)\n",
        "\n",
        "- **AverageSignal**:\tTo get the positions of cells, OpenCelliD processes measurements from data contributors. Each measurement includes GPS location of device + Scanned cell identifier (MCC-MNC-LAC-CID) + Other device properties (Signal strength). In this process, signal strength of the device is averaged. Most ‘averageSignal’ values are 0 because OpenCelliD simply didn’t receive signal strength values.\n"
      ]
    },
    {
      "cell_type": "code",
      "execution_count": null,
      "id": "b7d08b76-04ad-4811-ac72-70ccdcdfc1d9",
      "metadata": {
        "id": "b7d08b76-04ad-4811-ac72-70ccdcdfc1d9"
      },
      "outputs": [],
      "source": [
        "%%time\n",
        "df = pd.read_csv('./opencellid_data/cell_towers_us.csv') # ./opencellid_data/cell_towers.csv if using the worldwide dataset\n",
        "\n",
        "df.rename(columns={'net':'MNC', 'mcc':'MCC'}, inplace=True)\n",
        "\n",
        "print(df.shape)"
      ]
    },
    {
      "cell_type": "code",
      "execution_count": null,
      "id": "fdceee96-344e-4a7d-9622-aacce5ecc721",
      "metadata": {
        "id": "fdceee96-344e-4a7d-9622-aacce5ecc721"
      },
      "outputs": [],
      "source": [
        "df.head()"
      ]
    },
    {
      "cell_type": "markdown",
      "id": "b9f6265b-f871-4af2-8d47-3fa0b6c84db2",
      "metadata": {
        "id": "b9f6265b-f871-4af2-8d47-3fa0b6c84db2"
      },
      "source": [
        "## Read mcc-mnc dataset to map to carrier name\n",
        "\n",
        "Publicaly available dataset: https://mcc-mnc.net/ powered by [simbase](https://www.simbase.com/)\n"
      ]
    },
    {
      "cell_type": "code",
      "execution_count": null,
      "id": "51bdef47-5277-42c8-bd95-240cfdce7695",
      "metadata": {
        "id": "51bdef47-5277-42c8-bd95-240cfdce7695"
      },
      "outputs": [],
      "source": [
        "%%time\n",
        "df_carriers = pd.read_csv('https://s3.amazonaws.com/mcc-mnc.net/mcc-mnc.csv', sep=';')[['MCC', 'MNC', 'Country', 'Operator']]\n",
        "\n",
        "# rename Operator to Operator\n",
        "df_carriers.rename(columns={'Operator': 'Operator'}, inplace=True)"
      ]
    },
    {
      "cell_type": "code",
      "execution_count": null,
      "id": "ba11bc6f-7462-48df-9a42-db0eb670f871",
      "metadata": {
        "id": "ba11bc6f-7462-48df-9a42-db0eb670f871"
      },
      "outputs": [],
      "source": [
        "df_carriers.head()"
      ]
    },
    {
      "cell_type": "code",
      "execution_count": null,
      "id": "8dda75a1-dfe0-4dcd-8b5f-261195e324ca",
      "metadata": {
        "id": "8dda75a1-dfe0-4dcd-8b5f-261195e324ca"
      },
      "outputs": [],
      "source": [
        "%%time\n",
        "df_final = df.merge(df_carriers, left_on=['MCC', 'MNC'], right_on=['MCC', 'MNC']).drop(columns=['MCC', 'MNC'])"
      ]
    },
    {
      "cell_type": "code",
      "execution_count": null,
      "id": "9c71f99b-5fd2-49f3-845b-aa784a6849ca",
      "metadata": {
        "id": "9c71f99b-5fd2-49f3-845b-aa784a6849ca"
      },
      "outputs": [],
      "source": [
        "%%time\n",
        "df_final.head()"
      ]
    },
    {
      "cell_type": "markdown",
      "id": "9e63aa8d-f26d-4e9e-82d7-03a14e1a48f3",
      "metadata": {
        "id": "9e63aa8d-f26d-4e9e-82d7-03a14e1a48f3"
      },
      "source": [
        "### Analyzing Operator types"
      ]
    },
    {
      "cell_type": "code",
      "execution_count": null,
      "id": "a68107c9-f653-407a-b181-ecdeaf894e1d",
      "metadata": {
        "id": "a68107c9-f653-407a-b181-ecdeaf894e1d"
      },
      "outputs": [],
      "source": [
        "%%time\n",
        "# Most reported cell towers by operators\n",
        "df_final.Operator.value_counts()"
      ]
    },
    {
      "cell_type": "code",
      "execution_count": null,
      "id": "6819d364-636c-4e80-9713-66e0a8f3d3a8",
      "metadata": {
        "id": "6819d364-636c-4e80-9713-66e0a8f3d3a8"
      },
      "outputs": [],
      "source": [
        "%%time\n",
        "# Categorizing Operators with less than 1000 cells to other to reduce clutter\n",
        "operators_to_rename = df_final.Operator.value_counts()[df_final.Operator.value_counts()<=1000].index.tolist()\n",
        "len(operators_to_rename)"
      ]
    },
    {
      "cell_type": "code",
      "execution_count": null,
      "id": "20f533c7-e3c2-4195-bdae-6e6f04f1e25d",
      "metadata": {
        "id": "20f533c7-e3c2-4195-bdae-6e6f04f1e25d"
      },
      "outputs": [],
      "source": [
        "%%time\n",
        "df_final['Operator'] = df_final['Operator'].replace(operators_to_rename, 'Other')"
      ]
    },
    {
      "cell_type": "code",
      "execution_count": null,
      "id": "54417082-d71b-425a-ad53-1fecd3b1793e",
      "metadata": {
        "id": "54417082-d71b-425a-ad53-1fecd3b1793e"
      },
      "outputs": [],
      "source": [
        "operators_df = df_final.groupby(['Country', 'Operator']).agg({'radio':'count'}).reset_index()"
      ]
    },
    {
      "cell_type": "code",
      "execution_count": null,
      "id": "4eb82e28-e5e1-4577-8a6f-c61272b545d7",
      "metadata": {
        "id": "4eb82e28-e5e1-4577-8a6f-c61272b545d7"
      },
      "outputs": [],
      "source": [
        "# Final operator analysis\n",
        "operators_df"
      ]
    },
    {
      "cell_type": "markdown",
      "id": "e50310f4-81f7-4050-8d11-a828b9d67818",
      "metadata": {
        "id": "e50310f4-81f7-4050-8d11-a828b9d67818"
      },
      "source": [
        "### Analyzing Radio types"
      ]
    },
    {
      "cell_type": "code",
      "execution_count": null,
      "id": "b1c6a18e-e420-482b-93da-edfcc04e321b",
      "metadata": {
        "id": "b1c6a18e-e420-482b-93da-edfcc04e321b"
      },
      "outputs": [],
      "source": [
        "# Analyzing radio cell tower types\n",
        "pn.pane.HoloViews(\n",
        "    df_final.radio.value_counts().reset_index().hvplot.barh(x='radio')\n",
        ")"
      ]
    },
    {
      "cell_type": "code",
      "execution_count": null,
      "id": "a851e5aa-b9c3-4192-a168-080298057a40",
      "metadata": {
        "id": "a851e5aa-b9c3-4192-a168-080298057a40"
      },
      "outputs": [],
      "source": [
        "# Most LTE towers country wise\n",
        "pn.pane.HoloViews(\n",
        "    df_final[df_final.radio == 'LTE'].Country.value_counts().reset_index().head(10).hvplot.barh(x='Country')\n",
        ")"
      ]
    },
    {
      "cell_type": "code",
      "execution_count": null,
      "id": "4dea7399-7151-4b26-a26f-10e5417b408e",
      "metadata": {
        "id": "4dea7399-7151-4b26-a26f-10e5417b408e"
      },
      "outputs": [],
      "source": [
        "%%time\n",
        "columns = ['radio', 'area', 'lon', 'lat', 'range', 'samples', 'changeable', 'created', 'averageSignal', 'Country', 'Operator']\n",
        "df_final = df_final[columns]"
      ]
    },
    {
      "cell_type": "markdown",
      "id": "f2fd41b3-0256-4a90-902f-515af9d3c473",
      "metadata": {
        "id": "f2fd41b3-0256-4a90-902f-515af9d3c473"
      },
      "source": [
        "## Create an exploratory panel dashboard"
      ]
    },
    {
      "cell_type": "code",
      "execution_count": null,
      "id": "c27dd65c-556b-45c7-8b0e-f582aba53eb8",
      "metadata": {
        "id": "c27dd65c-556b-45c7-8b0e-f582aba53eb8"
      },
      "outputs": [],
      "source": [
        "%%time\n",
        "# Convert 'radio' to a color value to display in the dashboard\n",
        "color_map = {\n",
        "    'UMTS': [255, 165, 0, 140],  # Orange\n",
        "    'LTE': [255, 0, 0, 140],     # Red\n",
        "    'GSM': [135, 206, 250, 140], # Light Blue\n",
        "    'CDMA': [123, 104, 238, 140],# Medium Slate Blue\n",
        "    'NR': [0, 128, 0, 140]       # Green\n",
        "}\n",
        "df_final['color'] = df_final['radio'].map(color_map)\n",
        "df_final['created'] = pd.to_datetime(df['created'], unit='s').dt.year"
      ]
    },
    {
      "cell_type": "code",
      "execution_count": null,
      "id": "191b28e2-cc7a-42e1-b72a-e83a0963b2d4",
      "metadata": {
        "id": "191b28e2-cc7a-42e1-b72a-e83a0963b2d4"
      },
      "outputs": [],
      "source": [
        "# declare a legend\n",
        "legend_markdown = \"\"\"\n",
        "### Radio Type Legend\n",
        "\n",
        "- **UMTS**: <span style=\"height: 10px; width: 10px; background-color: rgba(255, 165, 0, 0.55); border-radius: 50%; display: inline-block;\"></span>\n",
        "- **LTE**: <span style=\"height: 10px; width: 10px; background-color: rgba(255, 0, 0, 0.55); border-radius: 50%; display: inline-block;\"></span>\n",
        "- **GSM**: <span style=\"height: 10px; width: 10px; background-color: rgba(135, 206, 250, 0.55); border-radius: 50%; display: inline-block;\"></span>\n",
        "- **CDMA**: <span style=\"height: 10px; width: 10px; background-color: rgba(123, 104, 238, 0.55); border-radius: 50%; display: inline-block;\"></span>\n",
        "- **NR**: <span style=\"height: 10px; width: 10px; background-color: rgba(0, 128, 0, 0.55); border-radius: 50%; display: inline-block;\"></span>\n",
        "\"\"\""
      ]
    },
    {
      "cell_type": "code",
      "execution_count": null,
      "id": "fa026a1d-c734-412e-8885-bda745caf1c5",
      "metadata": {
        "id": "fa026a1d-c734-412e-8885-bda745caf1c5"
      },
      "outputs": [],
      "source": [
        "class CellTowerDashboard(param.Parameterized):\n",
        "    # filter by radio cell tower type (GSM, LTE, UMTS, CDMA or all)\n",
        "    radio_type = param.ListSelector(objects=df_final['radio'].unique().tolist(), default=[])\n",
        "    # filter by radio operator type (TMobile, At&t, ...)\n",
        "    operator = param.ListSelector(objects=df_final.Operator.value_counts().sort_values(ascending=False).index.tolist(), default=[])\n",
        "    # country to display the cell-tower data points for\n",
        "    country = param.ListSelector(objects=df_final.Country.value_counts().sort_values(ascending=False).index.tolist(), default=[])\n",
        "    # Filter by date the tower was first reported\n",
        "    date_range = param.Range(bounds=(df_final['created'].min(), df_final['created'].max()), step=1, default=(df_final['created'].min(), df_final['created'].max()))\n",
        "\n",
        "    # Since rendering is equal for both pandas and cudf.pandas, we track the compute progress where cudf.pandas is much more efficient\n",
        "    compute_progress = param.Integer(default=0, bounds=(0, 100))\n",
        "\n",
        "    # point_budget is used to curtail number of points rendered at any time. Can be adjusted as per client browser capabilities\n",
        "    point_budget = param.Integer(default=50_000, bounds=(10000,100_000), step=10_000)\n",
        "\n",
        "    selected_data_size = param.Integer(default=df_final.shape[0])\n",
        "    df = param.DataFrame(default=df_final.sample(50_000))\n",
        "    execution_time = param.Number(default=0, doc=\"Execution Time\")\n",
        "\n",
        "    @param.depends('radio_type', 'operator', 'date_range', 'country', 'point_budget', watch=True)\n",
        "    def filter_dataframe(self):\n",
        "        start_time = time.time()  # Start time\n",
        "        self.compute_progress = 0\n",
        "        filtered_indices = df_final['created'].between(self.date_range[0], self.date_range[1])\n",
        "        self.compute_progress = 25\n",
        "        if self.radio_type:\n",
        "            filtered_indices &= df_final['radio'].isin(self.radio_type)\n",
        "        self.compute_progress = 50\n",
        "        if self.operator:\n",
        "            filtered_indices &= df_final['Operator'].isin(self.operator)\n",
        "        self.compute_progress = 75\n",
        "        if self.country:\n",
        "            filtered_indices &= df_final['Country'].isin(self.country)\n",
        "        self.compute_progress = 100\n",
        "\n",
        "        filtered_df = df_final[filtered_indices]\n",
        "\n",
        "        self.selected_data_size = filtered_df.shape[0]\n",
        "        if filtered_df.shape[0] > self.point_budget:\n",
        "            filtered_df = filtered_df.sample(n=self.point_budget)\n",
        "\n",
        "        end_time = time.time()  # End time\n",
        "        self.execution_time = end_time - start_time  # Compute execution time\n",
        "\n",
        "        self.df = filtered_df\n",
        "\n",
        "\n",
        "    @param.depends('df')\n",
        "    def update_scatter_plot(self):\n",
        "        COUNTRIES = \"https://d2ad6b4ur7yvpq.cloudfront.net/naturalearth-3.3.0/ne_50m_admin_0_scale_rank.geojson\"\n",
        "        # Define the layer\n",
        "        layers = [\n",
        "            pdk.Layer(\n",
        "                \"GeoJsonLayer\",\n",
        "                id=\"base-map\",\n",
        "                data=COUNTRIES,\n",
        "                stroked=False,\n",
        "                filled=True,\n",
        "                get_fill_color=[200, 200, 200],\n",
        "            ),\n",
        "            pdk.Layer(\n",
        "            'ScatterplotLayer',  # Use ScatterplotLayer\n",
        "            self.df,\n",
        "            pickable=True,\n",
        "            opacity=0.8,\n",
        "            stroked=True,\n",
        "            filled=True,\n",
        "            radius_scale=6,\n",
        "            radius_min_pixels=1,\n",
        "            radius_max_pixels=10,\n",
        "            line_width_min_pixels=1,\n",
        "            get_position=['lon', 'lat'],\n",
        "            radius=1000,\n",
        "            get_line_color=\"color\"\n",
        "        )]\n",
        "        # Set the viewport location\n",
        "        view_state = pdk.ViewState(latitude=self.df.lat.median(), longitude=self.df.lon.median(), zoom=0, bearing=0, pitch=0)\n",
        "        view = pdk.View(type=\"_GlobeView\", controller=True)\n",
        "        # Render\n",
        "        return pn.Column(\"### Visualized Data Points\", self.visualizedDataSize,\n",
        "                pn.pane.DeckGL(pdk.Deck(views=[view], layers=layers, initial_view_state=view_state, map_provider=None)))\n",
        "\n",
        "    @param.depends('selected_data_size')\n",
        "    def computedDataSize(self):\n",
        "        return pn.widgets.Number(value=self.selected_data_size, format=\"{value:,}\", font_size='25pt')\n",
        "\n",
        "\n",
        "    @param.depends('execution_time')\n",
        "    def executionTime(self):\n",
        "        return pn.pane.Markdown(f\"### Compute Time: {self.execution_time:.2f} seconds\")\n",
        "\n",
        "    @param.depends('point_budget', 'selected_data_size')\n",
        "    def visualizedDataSize(self):\n",
        "        visualized_points = min(self.selected_data_size, self.point_budget)\n",
        "        return pn.widgets.Number(value=visualized_points, format=\"{value:,}\", font_size='15pt')\n",
        "\n",
        "    @param.depends('df')\n",
        "    def update_bar_charts(self):\n",
        "        radio_count = self.df['radio'].value_counts().head().hvplot.barh(title='Radio Type Count', responsive=True, tools=['hover']).opts(default_tools=[])\n",
        "        operator_count = self.df['Operator'].value_counts().head().hvplot.barh(title='Operator Tower Count', responsive=True, tools=['hover']).opts(default_tools=[])\n",
        "        return pn.Column(radio_count, operator_count)\n",
        "\n",
        "    @param.depends('compute_progress', 'execution_time')\n",
        "    def compute_bar(self):\n",
        "        return pn.widgets.Progress(value=self.compute_progress,active=False, sizing_mode='stretch_width')\n",
        "\n",
        "    @param.depends('df')\n",
        "    def view(self):\n",
        "        box = pn.GridSpec(ncols=5, width=1400, height=600)\n",
        "        widgets = pn.Column(\n",
        "            pn.WidgetBox(\n",
        "                \"### Queried Data Points\",\n",
        "                self.computedDataSize,\n",
        "                pn.Column(\n",
        "                    pn.Row(\n",
        "                        self.executionTime,\n",
        "                        pn.widgets.TooltipIcon(value=\"While the rendering process remains consistent between pandas and cudf, our focus is on the significant reduction in compute time achieved with cudf.pandas\"),\n",
        "                    ),\n",
        "                    self.compute_bar),\n",
        "                sizing_mode=\"stretch_width\"\n",
        "            ),\n",
        "            pn.WidgetBox(\"### Query Filters\",\n",
        "                pn.Param(self.param.radio_type, widgets={'radio_type': {\"type\": pn.widgets.MultiChoice, \"sizing_mode\": \"stretch_width\"}}),\n",
        "                pn.Param(self.param.operator, widgets={'operator': {\"type\": pn.widgets.MultiChoice, \"sizing_mode\": \"stretch_width\"}}),\n",
        "                pn.Param(self.param.country, widgets={'country': {\"type\": pn.widgets.MultiChoice, \"sizing_mode\": \"stretch_width\"}}),\n",
        "                pn.Param(self.param.date_range, widgets={'date_range': {\"type\": pn.widgets.RangeSlider, \"throttled\": True, \"sizing_mode\": \"stretch_width\"}}),\n",
        "                pn.Param(self.param.point_budget, widgets={'point_budget': {\"type\": pn.widgets.IntSlider, \"throttled\": True, \"sizing_mode\": \"stretch_width\"}}),\n",
        "                sizing_mode=\"stretch_width\"\n",
        "            )\n",
        "        )\n",
        "\n",
        "        box[:,0] = widgets\n",
        "        box[:,1:3] = self.update_scatter_plot\n",
        "        box[:,3:5] = self.update_bar_charts\n",
        "        return box"
      ]
    },
    {
      "cell_type": "code",
      "execution_count": null,
      "id": "426e70e9-0718-455d-9dc6-45b715ad94f0",
      "metadata": {
        "id": "426e70e9-0718-455d-9dc6-45b715ad94f0"
      },
      "outputs": [],
      "source": [
        "dashboard = CellTowerDashboard(point_budget=10_000)\n",
        "dashboard.view()"
      ]
    },
    {
      "cell_type": "markdown",
      "id": "6af74029-cd81-4ac9-9028-329aab0ab64b",
      "metadata": {
        "id": "6af74029-cd81-4ac9-9028-329aab0ab64b"
      },
      "source": [
        "Dashboard Screenshot:\n",
        "\n",
        "![image.png](attachment:6a1c3200-eb9c-4a01-85d6-a18be7afa66e.png)"
      ]
    }
  ],
  "metadata": {
    "kernelspec": {
      "display_name": "Python 3 (ipykernel)",
      "language": "python",
      "name": "python3"
    },
    "language_info": {
      "codemirror_mode": {
        "name": "ipython",
        "version": 3
      },
      "file_extension": ".py",
      "mimetype": "text/x-python",
      "name": "python",
      "nbconvert_exporter": "python",
      "pygments_lexer": "ipython3",
      "version": "3.11.9"
    },
    "colab": {
      "provenance": []
    }
  },
  "nbformat": 4,
  "nbformat_minor": 5
}
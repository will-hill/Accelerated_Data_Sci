{
 "cells": [
  {
   "cell_type": "markdown",
   "metadata": {
    "id": "8gnZ4a_I9fuw"
   },
   "source": [
    "# Time Series with Polars accelerated by NVIDIA RAPIDS\n",
    "### by Matt Harrison, author of [Effective Polars](https://a.co/d/dMOeanT)"
   ]
  },
  {
   "cell_type": "code",
   "execution_count": 1,
   "metadata": {
    "colab": {
     "base_uri": "https://localhost:8080/"
    },
    "id": "rSgCoEaxwR52",
    "outputId": "a3272478-e19f-4383-c6f0-119bb0b6fd4e"
   },
   "outputs": [
    {
     "name": "stdout",
     "output_type": "stream",
     "text": [
      "Tue Feb  4 14:05:55 2025       \n",
      "+-----------------------------------------------------------------------------------------+\n",
      "| NVIDIA-SMI 550.120                Driver Version: 550.120        CUDA Version: 12.4     |\n",
      "|-----------------------------------------+------------------------+----------------------+\n",
      "| GPU  Name                 Persistence-M | Bus-Id          Disp.A | Volatile Uncorr. ECC |\n",
      "| Fan  Temp   Perf          Pwr:Usage/Cap |           Memory-Usage | GPU-Util  Compute M. |\n",
      "|                                         |                        |               MIG M. |\n",
      "|=========================================+========================+======================|\n",
      "|   0  NVIDIA RTX 6000 Ada Gene...    Off |   00000000:01:00.0 Off |                    0 |\n",
      "| 30%   32C    P8             29W /  300W |      12MiB /  46068MiB |      0%      Default |\n"
     ]
    }
   ],
   "source": [
    "!nvidia-smi | head"
   ]
  },
  {
   "cell_type": "markdown",
   "metadata": {
    "id": "FjwdkiAx4WjZ"
   },
   "source": [
    "Install with UV"
   ]
  },
  {
   "cell_type": "code",
   "execution_count": 6,
   "metadata": {
    "colab": {
     "base_uri": "https://localhost:8080/"
    },
    "id": "88VFdbX6IX42",
    "outputId": "4fb0b28d-445f-406c-a137-da92bdab611c"
   },
   "outputs": [],
   "source": [
    "!pip install -q altair hvplot"
   ]
  },
  {
   "cell_type": "code",
   "execution_count": 8,
   "metadata": {
    "colab": {
     "base_uri": "https://localhost:8080/"
    },
    "id": "PBfz_TIchdKt",
    "outputId": "51dd37d4-35d1-4b2a-e0b6-8a108cd65a74"
   },
   "outputs": [],
   "source": [
    "!pip install -q --extra-index-url=https://pypi.nvidia.com  polars[gpu]"
   ]
  },
  {
   "cell_type": "markdown",
   "metadata": {},
   "source": [
    "  "
   ]
  },
  {
   "cell_type": "markdown",
   "metadata": {},
   "source": [
    "  "
   ]
  },
  {
   "cell_type": "markdown",
   "metadata": {},
   "source": [
    "  "
   ]
  },
  {
   "cell_type": "markdown",
   "metadata": {
    "id": "ZoCzjQVja0mK"
   },
   "source": [
    "## Getting Data"
   ]
  },
  {
   "cell_type": "code",
   "execution_count": 10,
   "metadata": {
    "colab": {
     "base_uri": "https://localhost:8080/"
    },
    "id": "rKdnO8d9a5C5",
    "outputId": "987bc528-39ab-460a-c0b9-4c7d591599b1"
   },
   "outputs": [
    {
     "name": "stdout",
     "output_type": "stream",
     "text": [
      "  % Total    % Received % Xferd  Average Speed   Time    Time     Time  Current\n",
      "                                 Dload  Upload   Total   Spent    Left  Speed\n",
      "100  633M  100  633M    0     0  51.1M      0  0:00:12  0:00:12 --:--:-- 65.4M\n"
     ]
    }
   ],
   "source": [
    "!if [ ! -f \"usa_stocks_30m.parquet\" ]; then curl https://storage.googleapis.com/rapidsai/colab-data/usa_stocks_30m.parquet -o usa_stocks_30m.parquet; else echo \"usa_stocks_30m.parquet found\"; fi"
   ]
  },
  {
   "cell_type": "code",
   "execution_count": 11,
   "metadata": {
    "colab": {
     "base_uri": "https://localhost:8080/",
     "height": 35
    },
    "id": "jdac0oRQmqtF",
    "outputId": "556ed14c-c227-4a5a-dbab-185a05b530ca"
   },
   "outputs": [
    {
     "data": {
      "text/plain": [
       "'1.14.0'"
      ]
     },
     "execution_count": 11,
     "metadata": {},
     "output_type": "execute_result"
    }
   ],
   "source": [
    "import polars as pl\n",
    "import polars.selectors as cs\n",
    "\n",
    "pl.__version__"
   ]
  },
  {
   "cell_type": "code",
   "execution_count": 12,
   "metadata": {
    "id": "TWR_Kzxwa0Wz"
   },
   "outputs": [],
   "source": [
    "stocks_lazy = pl.scan_parquet(\"usa_stocks_30m.parquet\")"
   ]
  },
  {
   "cell_type": "code",
   "execution_count": 13,
   "metadata": {
    "colab": {
     "base_uri": "https://localhost:8080/",
     "height": 148
    },
    "id": "2YV6kP7QahDL",
    "outputId": "788683b7-0dcb-412a-df8c-515f1d66377a"
   },
   "outputs": [
    {
     "data": {
      "text/html": [
       "<i>naive plan: (run <b>LazyFrame.explain(optimized=True)</b> to see the optimized plan)</i>\n",
       "    <p></p>\n",
       "    <div>Parquet SCAN [usa_stocks_30m.parquet]<p></p>PROJECT */8 COLUMNS</div>"
      ],
      "text/plain": [
       "<LazyFrame at 0x72F53B5BD430>"
      ]
     },
     "execution_count": 13,
     "metadata": {},
     "output_type": "execute_result"
    }
   ],
   "source": [
    "stocks_lazy"
   ]
  },
  {
   "cell_type": "markdown",
   "metadata": {
    "id": "-IQCzL2_bIZf"
   },
   "source": [
    "  "
   ]
  },
  {
   "cell_type": "markdown",
   "metadata": {
    "id": "2FyKzNfvbMT7"
   },
   "source": [
    "## Check Types"
   ]
  },
  {
   "cell_type": "code",
   "execution_count": 14,
   "metadata": {
    "colab": {
     "base_uri": "https://localhost:8080/",
     "height": 412
    },
    "id": "YMJbS-_lcD0V",
    "outputId": "0976b70f-a512-4590-995d-566424ec7340"
   },
   "outputs": [
    {
     "data": {
      "text/html": [
       "<div><style>\n",
       ".dataframe > thead > tr,\n",
       ".dataframe > tbody > tr {\n",
       "  text-align: right;\n",
       "  white-space: pre-wrap;\n",
       "}\n",
       "</style>\n",
       "<small>shape: (10, 8)</small><table border=\"1\" class=\"dataframe\"><thead><tr><th>__index_level_0__</th><th>datetime</th><th>open</th><th>high</th><th>low</th><th>close</th><th>volume</th><th>ticker</th></tr><tr><td>i64</td><td>datetime[ms]</td><td>f64</td><td>f64</td><td>f64</td><td>f64</td><td>i64</td><td>str</td></tr></thead><tbody><tr><td>0</td><td>1999-11-18&nbsp;17:00:00</td><td>45.56</td><td>50.0</td><td>45.5</td><td>46.0</td><td>9275000</td><td>&quot;A&quot;</td></tr><tr><td>1</td><td>1999-11-18&nbsp;17:30:00</td><td>46.0</td><td>47.69</td><td>45.82</td><td>46.57</td><td>3200900</td><td>&quot;A&quot;</td></tr><tr><td>2</td><td>1999-11-18&nbsp;18:00:00</td><td>46.56</td><td>46.63</td><td>41.0</td><td>41.0</td><td>3830500</td><td>&quot;A&quot;</td></tr><tr><td>3</td><td>1999-11-18&nbsp;18:30:00</td><td>41.0</td><td>43.38</td><td>40.37</td><td>42.38</td><td>3688600</td><td>&quot;A&quot;</td></tr><tr><td>4</td><td>1999-11-18&nbsp;19:00:00</td><td>42.31</td><td>42.44</td><td>41.56</td><td>41.69</td><td>1584300</td><td>&quot;A&quot;</td></tr><tr><td>5</td><td>1999-11-18&nbsp;19:30:00</td><td>41.69</td><td>42.19</td><td>41.62</td><td>41.88</td><td>808800</td><td>&quot;A&quot;</td></tr><tr><td>6</td><td>1999-11-18&nbsp;20:00:00</td><td>41.94</td><td>42.75</td><td>41.87</td><td>42.19</td><td>1211500</td><td>&quot;A&quot;</td></tr><tr><td>7</td><td>1999-11-18&nbsp;20:30:00</td><td>42.19</td><td>42.94</td><td>42.06</td><td>42.82</td><td>728600</td><td>&quot;A&quot;</td></tr><tr><td>8</td><td>1999-11-18&nbsp;21:00:00</td><td>42.88</td><td>42.88</td><td>42.25</td><td>42.31</td><td>775900</td><td>&quot;A&quot;</td></tr><tr><td>9</td><td>1999-11-18&nbsp;21:30:00</td><td>42.31</td><td>42.5</td><td>42.13</td><td>42.44</td><td>732000</td><td>&quot;A&quot;</td></tr></tbody></table></div>"
      ],
      "text/plain": [
       "shape: (10, 8)\n",
       "┌───────────────────┬─────────────────────┬───────┬───────┬───────┬───────┬─────────┬────────┐\n",
       "│ __index_level_0__ ┆ datetime            ┆ open  ┆ high  ┆ low   ┆ close ┆ volume  ┆ ticker │\n",
       "│ ---               ┆ ---                 ┆ ---   ┆ ---   ┆ ---   ┆ ---   ┆ ---     ┆ ---    │\n",
       "│ i64               ┆ datetime[ms]        ┆ f64   ┆ f64   ┆ f64   ┆ f64   ┆ i64     ┆ str    │\n",
       "╞═══════════════════╪═════════════════════╪═══════╪═══════╪═══════╪═══════╪═════════╪════════╡\n",
       "│ 0                 ┆ 1999-11-18 17:00:00 ┆ 45.56 ┆ 50.0  ┆ 45.5  ┆ 46.0  ┆ 9275000 ┆ A      │\n",
       "│ 1                 ┆ 1999-11-18 17:30:00 ┆ 46.0  ┆ 47.69 ┆ 45.82 ┆ 46.57 ┆ 3200900 ┆ A      │\n",
       "│ 2                 ┆ 1999-11-18 18:00:00 ┆ 46.56 ┆ 46.63 ┆ 41.0  ┆ 41.0  ┆ 3830500 ┆ A      │\n",
       "│ 3                 ┆ 1999-11-18 18:30:00 ┆ 41.0  ┆ 43.38 ┆ 40.37 ┆ 42.38 ┆ 3688600 ┆ A      │\n",
       "│ 4                 ┆ 1999-11-18 19:00:00 ┆ 42.31 ┆ 42.44 ┆ 41.56 ┆ 41.69 ┆ 1584300 ┆ A      │\n",
       "│ 5                 ┆ 1999-11-18 19:30:00 ┆ 41.69 ┆ 42.19 ┆ 41.62 ┆ 41.88 ┆ 808800  ┆ A      │\n",
       "│ 6                 ┆ 1999-11-18 20:00:00 ┆ 41.94 ┆ 42.75 ┆ 41.87 ┆ 42.19 ┆ 1211500 ┆ A      │\n",
       "│ 7                 ┆ 1999-11-18 20:30:00 ┆ 42.19 ┆ 42.94 ┆ 42.06 ┆ 42.82 ┆ 728600  ┆ A      │\n",
       "│ 8                 ┆ 1999-11-18 21:00:00 ┆ 42.88 ┆ 42.88 ┆ 42.25 ┆ 42.31 ┆ 775900  ┆ A      │\n",
       "│ 9                 ┆ 1999-11-18 21:30:00 ┆ 42.31 ┆ 42.5  ┆ 42.13 ┆ 42.44 ┆ 732000  ┆ A      │\n",
       "└───────────────────┴─────────────────────┴───────┴───────┴───────┴───────┴─────────┴────────┘"
      ]
     },
     "execution_count": 14,
     "metadata": {},
     "output_type": "execute_result"
    }
   ],
   "source": [
    "(stocks_lazy\n",
    " .head(10)\n",
    " .collect(engine='gpu'))"
   ]
  },
  {
   "cell_type": "code",
   "execution_count": 15,
   "metadata": {
    "colab": {
     "base_uri": "https://localhost:8080/"
    },
    "id": "jsTkZGV7bNus",
    "outputId": "ccc9bc30-1657-48be-9a47-390946ad8914"
   },
   "outputs": [
    {
     "data": {
      "text/plain": [
       "[Int64,\n",
       " Datetime(time_unit='ms', time_zone=None),\n",
       " Float64,\n",
       " Float64,\n",
       " Float64,\n",
       " Float64,\n",
       " Int64,\n",
       " String]"
      ]
     },
     "execution_count": 15,
     "metadata": {},
     "output_type": "execute_result"
    }
   ],
   "source": [
    "(stocks_lazy\n",
    " .head(10)\n",
    " .collect(engine='gpu')\n",
    " .dtypes\n",
    " )"
   ]
  },
  {
   "cell_type": "markdown",
   "metadata": {
    "id": "ROKhGa_GbI2h"
   },
   "source": [
    "  "
   ]
  },
  {
   "cell_type": "markdown",
   "metadata": {
    "id": "ROKhGa_GbI2h"
   },
   "source": [
    "  "
   ]
  },
  {
   "cell_type": "markdown",
   "metadata": {
    "id": "ROKhGa_GbI2h"
   },
   "source": [
    "  "
   ]
  },
  {
   "cell_type": "markdown",
   "metadata": {
    "id": "YUsuGMB1dMn-"
   },
   "source": [
    "## Time Aggregations"
   ]
  },
  {
   "cell_type": "code",
   "execution_count": 16,
   "metadata": {
    "colab": {
     "base_uri": "https://localhost:8080/",
     "height": 478
    },
    "id": "RJwjfBdTbicm",
    "outputId": "466ce544-2ada-4339-b5fa-d3568c868018"
   },
   "outputs": [
    {
     "name": "stdout",
     "output_type": "stream",
     "text": [
      "CPU times: user 332 ms, sys: 175 ms, total: 507 ms\n",
      "Wall time: 258 ms\n"
     ]
    },
    {
     "data": {
      "text/html": [
       "<div><style>\n",
       ".dataframe > thead > tr,\n",
       ".dataframe > tbody > tr {\n",
       "  text-align: right;\n",
       "  white-space: pre-wrap;\n",
       "}\n",
       "</style>\n",
       "<small>shape: (27, 7)</small><table border=\"1\" class=\"dataframe\"><thead><tr><th>year</th><th>__index_level_0__</th><th>open</th><th>high</th><th>low</th><th>close</th><th>volume</th></tr><tr><td>i32</td><td>f64</td><td>f64</td><td>f64</td><td>f64</td><td>f64</td><td>f64</td></tr></thead><tbody><tr><td>2002</td><td>12971.554929</td><td>36.646697</td><td>36.783138</td><td>36.508293</td><td>36.646054</td><td>263078.324184</td></tr><tr><td>2018</td><td>53810.03182</td><td>113.188075</td><td>113.505029</td><td>112.859166</td><td>113.18192</td><td>273294.390298</td></tr><tr><td>2000</td><td>7353.462272</td><td>47.018504</td><td>47.262723</td><td>46.773424</td><td>47.019192</td><td>220800.759298</td></tr><tr><td>2024</td><td>69888.33292</td><td>208.398297</td><td>208.859837</td><td>207.91459</td><td>208.411046</td><td>256332.253163</td></tr><tr><td>2012</td><td>38487.307259</td><td>55.84671</td><td>55.982971</td><td>55.71153</td><td>55.849</td><td>391315.550438</td></tr><tr><td>&hellip;</td><td>&hellip;</td><td>&hellip;</td><td>&hellip;</td><td>&hellip;</td><td>&hellip;</td><td>&hellip;</td></tr><tr><td>2021</td><td>61896.670541</td><td>186.129599</td><td>186.63599</td><td>185.607674</td><td>186.126191</td><td>258173.930134</td></tr><tr><td>2007</td><td>25657.922046</td><td>54.014047</td><td>54.17905</td><td>53.846799</td><td>54.013655</td><td>409269.848016</td></tr><tr><td>2008</td><td>27858.507801</td><td>44.856341</td><td>45.101187</td><td>44.606632</td><td>44.852959</td><td>591277.367665</td></tr><tr><td>2017</td><td>51493.026746</td><td>100.52437</td><td>100.727694</td><td>100.321566</td><td>100.525947</td><td>243621.500928</td></tr><tr><td>2020</td><td>59163.876433</td><td>139.101183</td><td>139.650328</td><td>138.538875</td><td>139.099636</td><td>333084.856857</td></tr></tbody></table></div>"
      ],
      "text/plain": [
       "shape: (27, 7)\n",
       "┌──────┬───────────────────┬────────────┬────────────┬────────────┬────────────┬───────────────┐\n",
       "│ year ┆ __index_level_0__ ┆ open       ┆ high       ┆ low        ┆ close      ┆ volume        │\n",
       "│ ---  ┆ ---               ┆ ---        ┆ ---        ┆ ---        ┆ ---        ┆ ---           │\n",
       "│ i32  ┆ f64               ┆ f64        ┆ f64        ┆ f64        ┆ f64        ┆ f64           │\n",
       "╞══════╪═══════════════════╪════════════╪════════════╪════════════╪════════════╪═══════════════╡\n",
       "│ 2002 ┆ 12971.554929      ┆ 36.646697  ┆ 36.783138  ┆ 36.508293  ┆ 36.646054  ┆ 263078.324184 │\n",
       "│ 2018 ┆ 53810.03182       ┆ 113.188075 ┆ 113.505029 ┆ 112.859166 ┆ 113.18192  ┆ 273294.390298 │\n",
       "│ 2000 ┆ 7353.462272       ┆ 47.018504  ┆ 47.262723  ┆ 46.773424  ┆ 47.019192  ┆ 220800.759298 │\n",
       "│ 2024 ┆ 69888.33292       ┆ 208.398297 ┆ 208.859837 ┆ 207.91459  ┆ 208.411046 ┆ 256332.253163 │\n",
       "│ 2012 ┆ 38487.307259      ┆ 55.84671   ┆ 55.982971  ┆ 55.71153   ┆ 55.849     ┆ 391315.550438 │\n",
       "│ …    ┆ …                 ┆ …          ┆ …          ┆ …          ┆ …          ┆ …             │\n",
       "│ 2021 ┆ 61896.670541      ┆ 186.129599 ┆ 186.63599  ┆ 185.607674 ┆ 186.126191 ┆ 258173.930134 │\n",
       "│ 2007 ┆ 25657.922046      ┆ 54.014047  ┆ 54.17905   ┆ 53.846799  ┆ 54.013655  ┆ 409269.848016 │\n",
       "│ 2008 ┆ 27858.507801      ┆ 44.856341  ┆ 45.101187  ┆ 44.606632  ┆ 44.852959  ┆ 591277.367665 │\n",
       "│ 2017 ┆ 51493.026746      ┆ 100.52437  ┆ 100.727694 ┆ 100.321566 ┆ 100.525947 ┆ 243621.500928 │\n",
       "│ 2020 ┆ 59163.876433      ┆ 139.101183 ┆ 139.650328 ┆ 138.538875 ┆ 139.099636 ┆ 333084.856857 │\n",
       "└──────┴───────────────────┴────────────┴────────────┴────────────┴────────────┴───────────────┘"
      ]
     },
     "execution_count": 16,
     "metadata": {},
     "output_type": "execute_result"
    }
   ],
   "source": [
    "%%time\n",
    "(stocks_lazy\n",
    " .with_columns(year=pl.col('datetime').dt.year())\n",
    " .group_by('year')\n",
    " .agg(cs.numeric().mean())\n",
    " .collect(engine='gpu')\n",
    " )"
   ]
  },
  {
   "cell_type": "code",
   "execution_count": 17,
   "metadata": {
    "colab": {
     "base_uri": "https://localhost:8080/",
     "height": 478
    },
    "id": "MxmxFJc-cUPJ",
    "outputId": "7fe587f3-c0eb-442f-afc0-13087e60c707"
   },
   "outputs": [
    {
     "name": "stdout",
     "output_type": "stream",
     "text": [
      "CPU times: user 5.68 s, sys: 1.72 s, total: 7.4 s\n",
      "Wall time: 333 ms\n"
     ]
    },
    {
     "data": {
      "text/html": [
       "<div><style>\n",
       ".dataframe > thead > tr,\n",
       ".dataframe > tbody > tr {\n",
       "  text-align: right;\n",
       "  white-space: pre-wrap;\n",
       "}\n",
       "</style>\n",
       "<small>shape: (27, 7)</small><table border=\"1\" class=\"dataframe\"><thead><tr><th>year</th><th>__index_level_0__</th><th>open</th><th>high</th><th>low</th><th>close</th><th>volume</th></tr><tr><td>i32</td><td>f64</td><td>f64</td><td>f64</td><td>f64</td><td>f64</td><td>f64</td></tr></thead><tbody><tr><td>2012</td><td>38487.307259</td><td>55.84671</td><td>55.982971</td><td>55.71153</td><td>55.849</td><td>391315.550438</td></tr><tr><td>2004</td><td>18736.99736</td><td>42.591014</td><td>42.691719</td><td>42.491388</td><td>42.593011</td><td>284706.816203</td></tr><tr><td>2006</td><td>23862.215936</td><td>49.509078</td><td>49.636308</td><td>49.383189</td><td>49.510772</td><td>344997.896297</td></tr><tr><td>1998</td><td>1566.031221</td><td>48.049922</td><td>48.205337</td><td>47.894569</td><td>48.052328</td><td>127224.481768</td></tr><tr><td>2005</td><td>21309.285447</td><td>46.071606</td><td>46.182677</td><td>45.960145</td><td>46.071621</td><td>327573.030487</td></tr><tr><td>&hellip;</td><td>&hellip;</td><td>&hellip;</td><td>&hellip;</td><td>&hellip;</td><td>&hellip;</td><td>&hellip;</td></tr><tr><td>2017</td><td>51493.026746</td><td>100.52437</td><td>100.727694</td><td>100.321566</td><td>100.525947</td><td>243621.500928</td></tr><tr><td>2002</td><td>12971.554929</td><td>36.646697</td><td>36.783138</td><td>36.508293</td><td>36.646054</td><td>263078.324184</td></tr><tr><td>2009</td><td>30924.07596</td><td>35.874852</td><td>36.027689</td><td>35.724714</td><td>35.877364</td><td>693840.277734</td></tr><tr><td>1999</td><td>4568.234217</td><td>49.767378</td><td>49.959096</td><td>49.574967</td><td>49.767398</td><td>189990.686267</td></tr><tr><td>2010</td><td>33572.067661</td><td>45.341668</td><td>45.470593</td><td>45.211743</td><td>45.343101</td><td>593204.191878</td></tr></tbody></table></div>"
      ],
      "text/plain": [
       "shape: (27, 7)\n",
       "┌──────┬───────────────────┬───────────┬────────────┬────────────┬────────────┬───────────────┐\n",
       "│ year ┆ __index_level_0__ ┆ open      ┆ high       ┆ low        ┆ close      ┆ volume        │\n",
       "│ ---  ┆ ---               ┆ ---       ┆ ---        ┆ ---        ┆ ---        ┆ ---           │\n",
       "│ i32  ┆ f64               ┆ f64       ┆ f64        ┆ f64        ┆ f64        ┆ f64           │\n",
       "╞══════╪═══════════════════╪═══════════╪════════════╪════════════╪════════════╪═══════════════╡\n",
       "│ 2012 ┆ 38487.307259      ┆ 55.84671  ┆ 55.982971  ┆ 55.71153   ┆ 55.849     ┆ 391315.550438 │\n",
       "│ 2004 ┆ 18736.99736       ┆ 42.591014 ┆ 42.691719  ┆ 42.491388  ┆ 42.593011  ┆ 284706.816203 │\n",
       "│ 2006 ┆ 23862.215936      ┆ 49.509078 ┆ 49.636308  ┆ 49.383189  ┆ 49.510772  ┆ 344997.896297 │\n",
       "│ 1998 ┆ 1566.031221       ┆ 48.049922 ┆ 48.205337  ┆ 47.894569  ┆ 48.052328  ┆ 127224.481768 │\n",
       "│ 2005 ┆ 21309.285447      ┆ 46.071606 ┆ 46.182677  ┆ 45.960145  ┆ 46.071621  ┆ 327573.030487 │\n",
       "│ …    ┆ …                 ┆ …         ┆ …          ┆ …          ┆ …          ┆ …             │\n",
       "│ 2017 ┆ 51493.026746      ┆ 100.52437 ┆ 100.727694 ┆ 100.321566 ┆ 100.525947 ┆ 243621.500928 │\n",
       "│ 2002 ┆ 12971.554929      ┆ 36.646697 ┆ 36.783138  ┆ 36.508293  ┆ 36.646054  ┆ 263078.324184 │\n",
       "│ 2009 ┆ 30924.07596       ┆ 35.874852 ┆ 36.027689  ┆ 35.724714  ┆ 35.877364  ┆ 693840.277734 │\n",
       "│ 1999 ┆ 4568.234217       ┆ 49.767378 ┆ 49.959096  ┆ 49.574967  ┆ 49.767398  ┆ 189990.686267 │\n",
       "│ 2010 ┆ 33572.067661      ┆ 45.341668 ┆ 45.470593  ┆ 45.211743  ┆ 45.343101  ┆ 593204.191878 │\n",
       "└──────┴───────────────────┴───────────┴────────────┴────────────┴────────────┴───────────────┘"
      ]
     },
     "execution_count": 17,
     "metadata": {},
     "output_type": "execute_result"
    }
   ],
   "source": [
    "%%time\n",
    "(stocks_lazy\n",
    " .with_columns(year=pl.col('datetime').dt.year())\n",
    " .group_by('year')\n",
    " .agg(cs.numeric().mean())\n",
    " .collect() # run on CPU\n",
    " )\n"
   ]
  },
  {
   "cell_type": "code",
   "execution_count": 18,
   "metadata": {
    "colab": {
     "base_uri": "https://localhost:8080/",
     "height": 478
    },
    "id": "21pKZUfWd4BC",
    "outputId": "8c118e82-efa3-4fa8-8b9c-35f47040830a"
   },
   "outputs": [
    {
     "name": "stdout",
     "output_type": "stream",
     "text": [
      "CPU times: user 283 ms, sys: 160 ms, total: 443 ms\n",
      "Wall time: 241 ms\n"
     ]
    },
    {
     "data": {
      "text/html": [
       "<div><style>\n",
       ".dataframe > thead > tr,\n",
       ".dataframe > tbody > tr {\n",
       "  text-align: right;\n",
       "  white-space: pre-wrap;\n",
       "}\n",
       "</style>\n",
       "<small>shape: (11_567, 8)</small><table border=\"1\" class=\"dataframe\"><thead><tr><th>ticker</th><th>year</th><th>__index_level_0__</th><th>open</th><th>high</th><th>low</th><th>close</th><th>volume</th></tr><tr><td>str</td><td>i32</td><td>f64</td><td>f64</td><td>f64</td><td>f64</td><td>f64</td><td>f64</td></tr></thead><tbody><tr><td>&quot;EIX&quot;</td><td>2003</td><td>17876.5</td><td>16.478191</td><td>16.526376</td><td>16.430221</td><td>16.480795</td><td>94742.125921</td></tr><tr><td>&quot;ITW&quot;</td><td>2009</td><td>37466.0</td><td>38.656422</td><td>38.79906</td><td>38.51955</td><td>38.660826</td><td>280829.59198</td></tr><tr><td>&quot;PM&quot;</td><td>2019</td><td>36748.5</td><td>81.164758</td><td>81.35803</td><td>80.974375</td><td>81.166366</td><td>289072.751838</td></tr><tr><td>&quot;CPT&quot;</td><td>2018</td><td>66601.0</td><td>88.849166</td><td>89.035491</td><td>88.656787</td><td>88.846904</td><td>29964.65097</td></tr><tr><td>&quot;BK&quot;</td><td>2000</td><td>8161.5</td><td>46.533491</td><td>46.737838</td><td>46.32557</td><td>46.531653</td><td>149850.153092</td></tr><tr><td>&hellip;</td><td>&hellip;</td><td>&hellip;</td><td>&hellip;</td><td>&hellip;</td><td>&hellip;</td><td>&hellip;</td><td>&hellip;</td></tr><tr><td>&quot;MCD&quot;</td><td>2005</td><td>24421.0</td><td>31.900816</td><td>31.978499</td><td>31.825008</td><td>31.902018</td><td>440495.628248</td></tr><tr><td>&quot;CAG&quot;</td><td>2011</td><td>44000.5</td><td>24.414817</td><td>24.465691</td><td>24.364893</td><td>24.416073</td><td>291631.645477</td></tr><tr><td>&quot;DVN&quot;</td><td>2011</td><td>21960.5</td><td>75.831152</td><td>76.082619</td><td>75.571822</td><td>75.82721</td><td>246032.207824</td></tr><tr><td>&quot;TEL&quot;</td><td>2022</td><td>49212.0</td><td>127.484505</td><td>127.843057</td><td>127.097656</td><td>127.475697</td><td>86522.589393</td></tr><tr><td>&quot;HPQ&quot;</td><td>2012</td><td>47277.0</td><td>20.415877</td><td>20.478511</td><td>20.354277</td><td>20.415171</td><td>1.6187e6</td></tr></tbody></table></div>"
      ],
      "text/plain": [
       "shape: (11_567, 8)\n",
       "┌────────┬──────┬───────────────┬────────────┬────────────┬────────────┬────────────┬──────────────┐\n",
       "│ ticker ┆ year ┆ __index_level ┆ open       ┆ high       ┆ low        ┆ close      ┆ volume       │\n",
       "│ ---    ┆ ---  ┆ _0__          ┆ ---        ┆ ---        ┆ ---        ┆ ---        ┆ ---          │\n",
       "│ str    ┆ i32  ┆ ---           ┆ f64        ┆ f64        ┆ f64        ┆ f64        ┆ f64          │\n",
       "│        ┆      ┆ f64           ┆            ┆            ┆            ┆            ┆              │\n",
       "╞════════╪══════╪═══════════════╪════════════╪════════════╪════════════╪════════════╪══════════════╡\n",
       "│ EIX    ┆ 2003 ┆ 17876.5       ┆ 16.478191  ┆ 16.526376  ┆ 16.430221  ┆ 16.480795  ┆ 94742.125921 │\n",
       "│ ITW    ┆ 2009 ┆ 37466.0       ┆ 38.656422  ┆ 38.79906   ┆ 38.51955   ┆ 38.660826  ┆ 280829.59198 │\n",
       "│ PM     ┆ 2019 ┆ 36748.5       ┆ 81.164758  ┆ 81.35803   ┆ 80.974375  ┆ 81.166366  ┆ 289072.75183 │\n",
       "│        ┆      ┆               ┆            ┆            ┆            ┆            ┆ 8            │\n",
       "│ CPT    ┆ 2018 ┆ 66601.0       ┆ 88.849166  ┆ 89.035491  ┆ 88.656787  ┆ 88.846904  ┆ 29964.65097  │\n",
       "│ BK     ┆ 2000 ┆ 8161.5        ┆ 46.533491  ┆ 46.737838  ┆ 46.32557   ┆ 46.531653  ┆ 149850.15309 │\n",
       "│        ┆      ┆               ┆            ┆            ┆            ┆            ┆ 2            │\n",
       "│ …      ┆ …    ┆ …             ┆ …          ┆ …          ┆ …          ┆ …          ┆ …            │\n",
       "│ MCD    ┆ 2005 ┆ 24421.0       ┆ 31.900816  ┆ 31.978499  ┆ 31.825008  ┆ 31.902018  ┆ 440495.62824 │\n",
       "│        ┆      ┆               ┆            ┆            ┆            ┆            ┆ 8            │\n",
       "│ CAG    ┆ 2011 ┆ 44000.5       ┆ 24.414817  ┆ 24.465691  ┆ 24.364893  ┆ 24.416073  ┆ 291631.64547 │\n",
       "│        ┆      ┆               ┆            ┆            ┆            ┆            ┆ 7            │\n",
       "│ DVN    ┆ 2011 ┆ 21960.5       ┆ 75.831152  ┆ 76.082619  ┆ 75.571822  ┆ 75.82721   ┆ 246032.20782 │\n",
       "│        ┆      ┆               ┆            ┆            ┆            ┆            ┆ 4            │\n",
       "│ TEL    ┆ 2022 ┆ 49212.0       ┆ 127.484505 ┆ 127.843057 ┆ 127.097656 ┆ 127.475697 ┆ 86522.589393 │\n",
       "│ HPQ    ┆ 2012 ┆ 47277.0       ┆ 20.415877  ┆ 20.478511  ┆ 20.354277  ┆ 20.415171  ┆ 1.6187e6     │\n",
       "└────────┴──────┴───────────────┴────────────┴────────────┴────────────┴────────────┴──────────────┘"
      ]
     },
     "execution_count": 18,
     "metadata": {},
     "output_type": "execute_result"
    }
   ],
   "source": [
    "%%time\n",
    "# groupby two items\n",
    "(stocks_lazy\n",
    " .with_columns(year=pl.col('datetime').dt.year())\n",
    " .group_by(['ticker','year'])\n",
    " .agg(cs.numeric().mean())\n",
    " .collect(engine='gpu')\n",
    " )"
   ]
  },
  {
   "cell_type": "code",
   "execution_count": 19,
   "metadata": {
    "colab": {
     "base_uri": "https://localhost:8080/",
     "height": 478
    },
    "id": "dz7jnm5EnjpO",
    "outputId": "150b060b-f0c9-4452-8873-3b61545d9b0b"
   },
   "outputs": [
    {
     "name": "stdout",
     "output_type": "stream",
     "text": [
      "CPU times: user 322 ms, sys: 141 ms, total: 463 ms\n",
      "Wall time: 248 ms\n"
     ]
    },
    {
     "data": {
      "text/html": [
       "<div><style>\n",
       ".dataframe > thead > tr,\n",
       ".dataframe > tbody > tr {\n",
       "  text-align: right;\n",
       "  white-space: pre-wrap;\n",
       "}\n",
       "</style>\n",
       "<small>shape: (11_567, 8)</small><table border=\"1\" class=\"dataframe\"><thead><tr><th>ticker</th><th>year</th><th>__index_level_0__</th><th>open</th><th>high</th><th>low</th><th>close</th><th>volume</th></tr><tr><td>str</td><td>i32</td><td>f64</td><td>f64</td><td>f64</td><td>f64</td><td>f64</td><td>f64</td></tr></thead><tbody><tr><td>&quot;A&quot;</td><td>1999</td><td>189.0</td><td>47.51504</td><td>47.881187</td><td>47.208522</td><td>47.554354</td><td>275892.612137</td></tr><tr><td>&quot;A&quot;</td><td>2000</td><td>2011.5</td><td>69.742293</td><td>70.320141</td><td>69.139541</td><td>69.718236</td><td>222762.461727</td></tr><tr><td>&quot;A&quot;</td><td>2001</td><td>5247.0</td><td>33.358924</td><td>33.59634</td><td>33.139426</td><td>33.366602</td><td>170170.826833</td></tr><tr><td>&quot;A&quot;</td><td>2002</td><td>8477.5</td><td>22.984785</td><td>23.118953</td><td>22.851465</td><td>22.981314</td><td>189420.178133</td></tr><tr><td>&quot;A&quot;</td><td>2003</td><td>11733.5</td><td>20.174097</td><td>20.250863</td><td>20.0986</td><td>20.177482</td><td>156302.885135</td></tr><tr><td>&hellip;</td><td>&hellip;</td><td>&hellip;</td><td>&hellip;</td><td>&hellip;</td><td>&hellip;</td><td>&hellip;</td><td>&hellip;</td></tr><tr><td>&quot;ZTS&quot;</td><td>2020</td><td>24192.5</td><td>144.723845</td><td>145.203939</td><td>144.254515</td><td>144.727793</td><td>92883.735671</td></tr><tr><td>&quot;ZTS&quot;</td><td>2021</td><td>27528.5</td><td>189.112176</td><td>189.522102</td><td>188.718892</td><td>189.122105</td><td>76024.96138</td></tr><tr><td>&quot;ZTS&quot;</td><td>2022</td><td>30978.0</td><td>171.467585</td><td>171.940174</td><td>170.958298</td><td>171.446213</td><td>115138.105218</td></tr><tr><td>&quot;ZTS&quot;</td><td>2023</td><td>34475.5</td><td>173.828836</td><td>174.227021</td><td>173.408896</td><td>173.831803</td><td>106047.62672</td></tr><tr><td>&quot;ZTS&quot;</td><td>2024</td><td>36569.5</td><td>191.223557</td><td>191.661429</td><td>190.739943</td><td>191.205943</td><td>124110.672857</td></tr></tbody></table></div>"
      ],
      "text/plain": [
       "shape: (11_567, 8)\n",
       "┌────────┬──────┬───────────────┬────────────┬────────────┬────────────┬────────────┬──────────────┐\n",
       "│ ticker ┆ year ┆ __index_level ┆ open       ┆ high       ┆ low        ┆ close      ┆ volume       │\n",
       "│ ---    ┆ ---  ┆ _0__          ┆ ---        ┆ ---        ┆ ---        ┆ ---        ┆ ---          │\n",
       "│ str    ┆ i32  ┆ ---           ┆ f64        ┆ f64        ┆ f64        ┆ f64        ┆ f64          │\n",
       "│        ┆      ┆ f64           ┆            ┆            ┆            ┆            ┆              │\n",
       "╞════════╪══════╪═══════════════╪════════════╪════════════╪════════════╪════════════╪══════════════╡\n",
       "│ A      ┆ 1999 ┆ 189.0         ┆ 47.51504   ┆ 47.881187  ┆ 47.208522  ┆ 47.554354  ┆ 275892.61213 │\n",
       "│        ┆      ┆               ┆            ┆            ┆            ┆            ┆ 7            │\n",
       "│ A      ┆ 2000 ┆ 2011.5        ┆ 69.742293  ┆ 70.320141  ┆ 69.139541  ┆ 69.718236  ┆ 222762.46172 │\n",
       "│        ┆      ┆               ┆            ┆            ┆            ┆            ┆ 7            │\n",
       "│ A      ┆ 2001 ┆ 5247.0        ┆ 33.358924  ┆ 33.59634   ┆ 33.139426  ┆ 33.366602  ┆ 170170.82683 │\n",
       "│        ┆      ┆               ┆            ┆            ┆            ┆            ┆ 3            │\n",
       "│ A      ┆ 2002 ┆ 8477.5        ┆ 22.984785  ┆ 23.118953  ┆ 22.851465  ┆ 22.981314  ┆ 189420.17813 │\n",
       "│        ┆      ┆               ┆            ┆            ┆            ┆            ┆ 3            │\n",
       "│ A      ┆ 2003 ┆ 11733.5       ┆ 20.174097  ┆ 20.250863  ┆ 20.0986    ┆ 20.177482  ┆ 156302.88513 │\n",
       "│        ┆      ┆               ┆            ┆            ┆            ┆            ┆ 5            │\n",
       "│ …      ┆ …    ┆ …             ┆ …          ┆ …          ┆ …          ┆ …          ┆ …            │\n",
       "│ ZTS    ┆ 2020 ┆ 24192.5       ┆ 144.723845 ┆ 145.203939 ┆ 144.254515 ┆ 144.727793 ┆ 92883.735671 │\n",
       "│ ZTS    ┆ 2021 ┆ 27528.5       ┆ 189.112176 ┆ 189.522102 ┆ 188.718892 ┆ 189.122105 ┆ 76024.96138  │\n",
       "│ ZTS    ┆ 2022 ┆ 30978.0       ┆ 171.467585 ┆ 171.940174 ┆ 170.958298 ┆ 171.446213 ┆ 115138.10521 │\n",
       "│        ┆      ┆               ┆            ┆            ┆            ┆            ┆ 8            │\n",
       "│ ZTS    ┆ 2023 ┆ 34475.5       ┆ 173.828836 ┆ 174.227021 ┆ 173.408896 ┆ 173.831803 ┆ 106047.62672 │\n",
       "│ ZTS    ┆ 2024 ┆ 36569.5       ┆ 191.223557 ┆ 191.661429 ┆ 190.739943 ┆ 191.205943 ┆ 124110.67285 │\n",
       "│        ┆      ┆               ┆            ┆            ┆            ┆            ┆ 7            │\n",
       "└────────┴──────┴───────────────┴────────────┴────────────┴────────────┴────────────┴──────────────┘"
      ]
     },
     "execution_count": 19,
     "metadata": {},
     "output_type": "execute_result"
    }
   ],
   "source": [
    "%%time\n",
    "# sort results\n",
    "(stocks_lazy\n",
    " .with_columns(year=pl.col('datetime').dt.year())\n",
    " .group_by(['ticker','year'])\n",
    " .agg(cs.numeric().mean())\n",
    " .sort(['ticker', 'year'])\n",
    " .collect(engine='gpu')\n",
    " )"
   ]
  },
  {
   "cell_type": "code",
   "execution_count": 20,
   "metadata": {
    "colab": {
     "base_uri": "https://localhost:8080/",
     "height": 651
    },
    "id": "BJV0klqbc12C",
    "outputId": "a98cedb4-1304-4be5-e14a-5e688a8acd3c"
   },
   "outputs": [
    {
     "name": "stdout",
     "output_type": "stream",
     "text": [
      "CPU times: user 11.8 s, sys: 1.71 s, total: 13.5 s\n",
      "Wall time: 712 ms\n"
     ]
    },
    {
     "data": {
      "text/html": [
       "<div><style>\n",
       ".dataframe > thead > tr,\n",
       ".dataframe > tbody > tr {\n",
       "  text-align: right;\n",
       "  white-space: pre-wrap;\n",
       "}\n",
       "</style>\n",
       "<small>shape: (11_567, 8)</small><table border=\"1\" class=\"dataframe\"><thead><tr><th>ticker</th><th>datetime</th><th>__index_level_0__</th><th>open</th><th>high</th><th>low</th><th>close</th><th>volume</th></tr><tr><td>str</td><td>datetime[ms]</td><td>f64</td><td>f64</td><td>f64</td><td>f64</td><td>f64</td><td>f64</td></tr></thead><tbody><tr><td>&quot;A&quot;</td><td>1999-01-01&nbsp;00:00:00</td><td>189.0</td><td>47.51504</td><td>47.881187</td><td>47.208522</td><td>47.554354</td><td>275892.612137</td></tr><tr><td>&quot;A&quot;</td><td>2000-01-01&nbsp;00:00:00</td><td>2011.5</td><td>69.742293</td><td>70.320141</td><td>69.139541</td><td>69.718236</td><td>222762.461727</td></tr><tr><td>&quot;A&quot;</td><td>2001-01-01&nbsp;00:00:00</td><td>5247.0</td><td>33.358924</td><td>33.59634</td><td>33.139426</td><td>33.366602</td><td>170170.826833</td></tr><tr><td>&quot;A&quot;</td><td>2002-01-01&nbsp;00:00:00</td><td>8477.5</td><td>22.984785</td><td>23.118953</td><td>22.851465</td><td>22.981314</td><td>189420.178133</td></tr><tr><td>&quot;A&quot;</td><td>2003-01-01&nbsp;00:00:00</td><td>11733.5</td><td>20.174097</td><td>20.250863</td><td>20.0986</td><td>20.177482</td><td>156302.885135</td></tr><tr><td>&hellip;</td><td>&hellip;</td><td>&hellip;</td><td>&hellip;</td><td>&hellip;</td><td>&hellip;</td><td>&hellip;</td><td>&hellip;</td></tr><tr><td>&quot;ZTS&quot;</td><td>2020-01-01&nbsp;00:00:00</td><td>24192.5</td><td>144.723845</td><td>145.203939</td><td>144.254515</td><td>144.727793</td><td>92883.735671</td></tr><tr><td>&quot;ZTS&quot;</td><td>2021-01-01&nbsp;00:00:00</td><td>27528.5</td><td>189.112176</td><td>189.522102</td><td>188.718892</td><td>189.122105</td><td>76024.96138</td></tr><tr><td>&quot;ZTS&quot;</td><td>2022-01-01&nbsp;00:00:00</td><td>30978.0</td><td>171.467585</td><td>171.940174</td><td>170.958298</td><td>171.446213</td><td>115138.105218</td></tr><tr><td>&quot;ZTS&quot;</td><td>2023-01-01&nbsp;00:00:00</td><td>34475.5</td><td>173.828836</td><td>174.227021</td><td>173.408896</td><td>173.831803</td><td>106047.62672</td></tr><tr><td>&quot;ZTS&quot;</td><td>2024-01-01&nbsp;00:00:00</td><td>36569.5</td><td>191.223557</td><td>191.661429</td><td>190.739943</td><td>191.205943</td><td>124110.672857</td></tr></tbody></table></div>"
      ],
      "text/plain": [
       "shape: (11_567, 8)\n",
       "┌────────┬────────────┬────────────┬────────────┬────────────┬────────────┬────────────┬───────────┐\n",
       "│ ticker ┆ datetime   ┆ __index_le ┆ open       ┆ high       ┆ low        ┆ close      ┆ volume    │\n",
       "│ ---    ┆ ---        ┆ vel_0__    ┆ ---        ┆ ---        ┆ ---        ┆ ---        ┆ ---       │\n",
       "│ str    ┆ datetime[m ┆ ---        ┆ f64        ┆ f64        ┆ f64        ┆ f64        ┆ f64       │\n",
       "│        ┆ s]         ┆ f64        ┆            ┆            ┆            ┆            ┆           │\n",
       "╞════════╪════════════╪════════════╪════════════╪════════════╪════════════╪════════════╪═══════════╡\n",
       "│ A      ┆ 1999-01-01 ┆ 189.0      ┆ 47.51504   ┆ 47.881187  ┆ 47.208522  ┆ 47.554354  ┆ 275892.61 │\n",
       "│        ┆ 00:00:00   ┆            ┆            ┆            ┆            ┆            ┆ 2137      │\n",
       "│ A      ┆ 2000-01-01 ┆ 2011.5     ┆ 69.742293  ┆ 70.320141  ┆ 69.139541  ┆ 69.718236  ┆ 222762.46 │\n",
       "│        ┆ 00:00:00   ┆            ┆            ┆            ┆            ┆            ┆ 1727      │\n",
       "│ A      ┆ 2001-01-01 ┆ 5247.0     ┆ 33.358924  ┆ 33.59634   ┆ 33.139426  ┆ 33.366602  ┆ 170170.82 │\n",
       "│        ┆ 00:00:00   ┆            ┆            ┆            ┆            ┆            ┆ 6833      │\n",
       "│ A      ┆ 2002-01-01 ┆ 8477.5     ┆ 22.984785  ┆ 23.118953  ┆ 22.851465  ┆ 22.981314  ┆ 189420.17 │\n",
       "│        ┆ 00:00:00   ┆            ┆            ┆            ┆            ┆            ┆ 8133      │\n",
       "│ A      ┆ 2003-01-01 ┆ 11733.5    ┆ 20.174097  ┆ 20.250863  ┆ 20.0986    ┆ 20.177482  ┆ 156302.88 │\n",
       "│        ┆ 00:00:00   ┆            ┆            ┆            ┆            ┆            ┆ 5135      │\n",
       "│ …      ┆ …          ┆ …          ┆ …          ┆ …          ┆ …          ┆ …          ┆ …         │\n",
       "│ ZTS    ┆ 2020-01-01 ┆ 24192.5    ┆ 144.723845 ┆ 145.203939 ┆ 144.254515 ┆ 144.727793 ┆ 92883.735 │\n",
       "│        ┆ 00:00:00   ┆            ┆            ┆            ┆            ┆            ┆ 671       │\n",
       "│ ZTS    ┆ 2021-01-01 ┆ 27528.5    ┆ 189.112176 ┆ 189.522102 ┆ 188.718892 ┆ 189.122105 ┆ 76024.961 │\n",
       "│        ┆ 00:00:00   ┆            ┆            ┆            ┆            ┆            ┆ 38        │\n",
       "│ ZTS    ┆ 2022-01-01 ┆ 30978.0    ┆ 171.467585 ┆ 171.940174 ┆ 170.958298 ┆ 171.446213 ┆ 115138.10 │\n",
       "│        ┆ 00:00:00   ┆            ┆            ┆            ┆            ┆            ┆ 5218      │\n",
       "│ ZTS    ┆ 2023-01-01 ┆ 34475.5    ┆ 173.828836 ┆ 174.227021 ┆ 173.408896 ┆ 173.831803 ┆ 106047.62 │\n",
       "│        ┆ 00:00:00   ┆            ┆            ┆            ┆            ┆            ┆ 672       │\n",
       "│ ZTS    ┆ 2024-01-01 ┆ 36569.5    ┆ 191.223557 ┆ 191.661429 ┆ 190.739943 ┆ 191.205943 ┆ 124110.67 │\n",
       "│        ┆ 00:00:00   ┆            ┆            ┆            ┆            ┆            ┆ 2857      │\n",
       "└────────┴────────────┴────────────┴────────────┴────────────┴────────────┴────────────┴───────────┘"
      ]
     },
     "execution_count": 20,
     "metadata": {},
     "output_type": "execute_result"
    }
   ],
   "source": [
    "%%time\n",
    "# let's try using .group_by_dynamic\n",
    "(stocks_lazy\n",
    " .set_sorted('datetime')\n",
    " .group_by_dynamic(index_column='datetime', every='1y', group_by='ticker')\n",
    " .agg(cs.numeric().mean())\n",
    " .collect(engine='gpu')\n",
    " )"
   ]
  },
  {
   "cell_type": "code",
   "execution_count": 21,
   "metadata": {
    "colab": {
     "base_uri": "https://localhost:8080/",
     "height": 332
    },
    "id": "5PqHNQ3CqKQ-",
    "outputId": "81164ec0-c8f1-45df-94cf-0e0d040f2205"
   },
   "outputs": [
    {
     "ename": "ComputeError",
     "evalue": "'cuda' conversion failed: NotImplementedError: ('Query execution with GPU not possible: unsupported operations.\\nThe errors were:\\n- NotImplementedError: dynamic group by', [NotImplementedError('dynamic group by')])",
     "output_type": "error",
     "traceback": [
      "\u001b[0;31m---------------------------------------------------------------------------\u001b[0m",
      "\u001b[0;31mComputeError\u001b[0m                              Traceback (most recent call last)",
      "File \u001b[0;32m<timed eval>:6\u001b[0m\n",
      "File \u001b[0;32m~/git/Accelerated_Data_Sci/venv/lib/python3.12/site-packages/polars/lazyframe/frame.py:2029\u001b[0m, in \u001b[0;36mLazyFrame.collect\u001b[0;34m(self, type_coercion, predicate_pushdown, projection_pushdown, simplify_expression, slice_pushdown, comm_subplan_elim, comm_subexpr_elim, cluster_with_columns, collapse_joins, no_optimization, streaming, engine, background, _eager, **_kwargs)\u001b[0m\n\u001b[1;32m   2027\u001b[0m \u001b[38;5;66;03m# Only for testing purposes\u001b[39;00m\n\u001b[1;32m   2028\u001b[0m callback \u001b[38;5;241m=\u001b[39m _kwargs\u001b[38;5;241m.\u001b[39mget(\u001b[38;5;124m\"\u001b[39m\u001b[38;5;124mpost_opt_callback\u001b[39m\u001b[38;5;124m\"\u001b[39m, callback)\n\u001b[0;32m-> 2029\u001b[0m \u001b[38;5;28;01mreturn\u001b[39;00m wrap_df(\u001b[43mldf\u001b[49m\u001b[38;5;241;43m.\u001b[39;49m\u001b[43mcollect\u001b[49m\u001b[43m(\u001b[49m\u001b[43mcallback\u001b[49m\u001b[43m)\u001b[49m)\n",
      "\u001b[0;31mComputeError\u001b[0m: 'cuda' conversion failed: NotImplementedError: ('Query execution with GPU not possible: unsupported operations.\\nThe errors were:\\n- NotImplementedError: dynamic group by', [NotImplementedError('dynamic group by')])"
     ]
    }
   ],
   "source": [
    "%%time\n",
    "# what's going on?\n",
    "(stocks_lazy\n",
    " .set_sorted('datetime')\n",
    " .group_by_dynamic(index_column='datetime', every='1y', group_by='ticker')\n",
    " .agg(cs.numeric().mean())\n",
    " .collect(engine=pl.GPUEngine(device=0, raise_on_fail=True))\n",
    " )"
   ]
  },
  {
   "cell_type": "markdown",
   "metadata": {
    "id": "ROKhGa_GbI2h"
   },
   "source": [
    "  "
   ]
  },
  {
   "cell_type": "markdown",
   "metadata": {
    "id": "ZCb_54g6nILf"
   },
   "source": [
    "## Comparing Two Stocks"
   ]
  },
  {
   "cell_type": "code",
   "execution_count": 22,
   "metadata": {
    "colab": {
     "base_uri": "https://localhost:8080/",
     "height": 478
    },
    "id": "ufNE27S3td_p",
    "outputId": "3cd346c7-9087-4a95-a905-c3b43f8705f9"
   },
   "outputs": [
    {
     "name": "stdout",
     "output_type": "stream",
     "text": [
      "CPU times: user 307 ms, sys: 135 ms, total: 441 ms\n",
      "Wall time: 228 ms\n"
     ]
    },
    {
     "data": {
      "text/html": [
       "<div><style>\n",
       ".dataframe > thead > tr,\n",
       ".dataframe > tbody > tr {\n",
       "  text-align: right;\n",
       "  white-space: pre-wrap;\n",
       "}\n",
       "</style>\n",
       "<small>shape: (132_691, 9)</small><table border=\"1\" class=\"dataframe\"><thead><tr><th>ticker</th><th>year</th><th>month</th><th>__index_level_0__</th><th>open</th><th>high</th><th>low</th><th>close</th><th>volume</th></tr><tr><td>str</td><td>i32</td><td>i8</td><td>i64</td><td>f64</td><td>f64</td><td>f64</td><td>f64</td><td>i64</td></tr></thead><tbody><tr><td>&quot;A&quot;</td><td>1999</td><td>11</td><td>97</td><td>46.56</td><td>50.0</td><td>45.82</td><td>46.57</td><td>9275000</td></tr><tr><td>&quot;A&quot;</td><td>1999</td><td>12</td><td>378</td><td>79.5</td><td>80.0</td><td>78.0</td><td>78.94</td><td>1393300</td></tr><tr><td>&quot;A&quot;</td><td>2000</td><td>1</td><td>638</td><td>78.75</td><td>78.94</td><td>73.0</td><td>73.75</td><td>549700</td></tr><tr><td>&quot;A&quot;</td><td>2000</td><td>2</td><td>898</td><td>114.0</td><td>115.44</td><td>111.25</td><td>114.25</td><td>730500</td></tr><tr><td>&quot;A&quot;</td><td>2000</td><td>3</td><td>1197</td><td>156.0</td><td>161.0</td><td>149.56</td><td>158.0</td><td>1179900</td></tr><tr><td>&hellip;</td><td>&hellip;</td><td>&hellip;</td><td>&hellip;</td><td>&hellip;</td><td>&hellip;</td><td>&hellip;</td><td>&hellip;</td><td>&hellip;</td></tr><tr><td>&quot;ZTS&quot;</td><td>2023</td><td>11</td><td>35938</td><td>181.09</td><td>181.39</td><td>180.91</td><td>181.07</td><td>1393038</td></tr><tr><td>&quot;ZTS&quot;</td><td>2023</td><td>12</td><td>36219</td><td>201.13</td><td>201.92</td><td>200.65</td><td>201.06</td><td>1470827</td></tr><tr><td>&quot;ZTS&quot;</td><td>2024</td><td>1</td><td>36512</td><td>199.29</td><td>199.83</td><td>198.89</td><td>199.37</td><td>850382</td></tr><tr><td>&quot;ZTS&quot;</td><td>2024</td><td>2</td><td>36792</td><td>200.5</td><td>200.53</td><td>199.88</td><td>200.03</td><td>585408</td></tr><tr><td>&quot;ZTS&quot;</td><td>2024</td><td>3</td><td>36919</td><td>198.49</td><td>198.49</td><td>198.23</td><td>198.33</td><td>930243</td></tr></tbody></table></div>"
      ],
      "text/plain": [
       "shape: (132_691, 9)\n",
       "┌────────┬──────┬───────┬───────────────────┬───┬────────┬────────┬────────┬─────────┐\n",
       "│ ticker ┆ year ┆ month ┆ __index_level_0__ ┆ … ┆ high   ┆ low    ┆ close  ┆ volume  │\n",
       "│ ---    ┆ ---  ┆ ---   ┆ ---               ┆   ┆ ---    ┆ ---    ┆ ---    ┆ ---     │\n",
       "│ str    ┆ i32  ┆ i8    ┆ i64               ┆   ┆ f64    ┆ f64    ┆ f64    ┆ i64     │\n",
       "╞════════╪══════╪═══════╪═══════════════════╪═══╪════════╪════════╪════════╪═════════╡\n",
       "│ A      ┆ 1999 ┆ 11    ┆ 97                ┆ … ┆ 50.0   ┆ 45.82  ┆ 46.57  ┆ 9275000 │\n",
       "│ A      ┆ 1999 ┆ 12    ┆ 378               ┆ … ┆ 80.0   ┆ 78.0   ┆ 78.94  ┆ 1393300 │\n",
       "│ A      ┆ 2000 ┆ 1     ┆ 638               ┆ … ┆ 78.94  ┆ 73.0   ┆ 73.75  ┆ 549700  │\n",
       "│ A      ┆ 2000 ┆ 2     ┆ 898               ┆ … ┆ 115.44 ┆ 111.25 ┆ 114.25 ┆ 730500  │\n",
       "│ A      ┆ 2000 ┆ 3     ┆ 1197              ┆ … ┆ 161.0  ┆ 149.56 ┆ 158.0  ┆ 1179900 │\n",
       "│ …      ┆ …    ┆ …     ┆ …                 ┆ … ┆ …      ┆ …      ┆ …      ┆ …       │\n",
       "│ ZTS    ┆ 2023 ┆ 11    ┆ 35938             ┆ … ┆ 181.39 ┆ 180.91 ┆ 181.07 ┆ 1393038 │\n",
       "│ ZTS    ┆ 2023 ┆ 12    ┆ 36219             ┆ … ┆ 201.92 ┆ 200.65 ┆ 201.06 ┆ 1470827 │\n",
       "│ ZTS    ┆ 2024 ┆ 1     ┆ 36512             ┆ … ┆ 199.83 ┆ 198.89 ┆ 199.37 ┆ 850382  │\n",
       "│ ZTS    ┆ 2024 ┆ 2     ┆ 36792             ┆ … ┆ 200.53 ┆ 199.88 ┆ 200.03 ┆ 585408  │\n",
       "│ ZTS    ┆ 2024 ┆ 3     ┆ 36919             ┆ … ┆ 198.49 ┆ 198.23 ┆ 198.33 ┆ 930243  │\n",
       "└────────┴──────┴───────┴───────────────────┴───┴────────┴────────┴────────┴─────────┘"
      ]
     },
     "execution_count": 22,
     "metadata": {},
     "output_type": "execute_result"
    }
   ],
   "source": [
    "%%time\n",
    "# monthly results\n",
    "(stocks_lazy\n",
    " .with_columns(year=pl.col('datetime').dt.year(),\n",
    "               month=pl.col('datetime').dt.month())\n",
    " .group_by(['ticker','year', 'month'])\n",
    " .agg(cs.numeric().max())\n",
    " .sort(['ticker', 'year', 'month'])\n",
    " .collect(engine='gpu')\n",
    " )"
   ]
  },
  {
   "cell_type": "code",
   "execution_count": 23,
   "metadata": {
    "colab": {
     "base_uri": "https://localhost:8080/",
     "height": 671
    },
    "id": "TQE2BcTz3BNs",
    "outputId": "269ecdca-be6a-4519-b122-2214fe4741f5"
   },
   "outputs": [
    {
     "name": "stdout",
     "output_type": "stream",
     "text": [
      "CPU times: user 12.8 s, sys: 2.66 s, total: 15.4 s\n",
      "Wall time: 968 ms\n"
     ]
    },
    {
     "data": {
      "text/html": [
       "<div><style>\n",
       ".dataframe > thead > tr,\n",
       ".dataframe > tbody > tr {\n",
       "  text-align: right;\n",
       "  white-space: pre-wrap;\n",
       "}\n",
       "</style>\n",
       "<small>shape: (315, 520)</small><table border=\"1\" class=\"dataframe\"><thead><tr><th>date</th><th>APA</th><th>CMA</th><th>REG</th><th>SRE</th><th>DHR</th><th>MAR</th><th>CL</th><th>VRSN</th><th>MNST</th><th>GEN</th><th>ROK</th><th>URI</th><th>CEG</th><th>O</th><th>UHS</th><th>VTR</th><th>LYV</th><th>DLR</th><th>MAA</th><th>AXP</th><th>CLX</th><th>MRO</th><th>K</th><th>ES</th><th>BG</th><th>PAYC</th><th>CDW</th><th>J</th><th>PAYX</th><th>WRB</th><th>PH</th><th>RSG</th><th>TSLA</th><th>AKAM</th><th>AEP</th><th>UPS</th><th>&hellip;</th><th>AMP</th><th>SPLK</th><th>OTIS</th><th>TMUS</th><th>TEAM</th><th>BBWI</th><th>AFL</th><th>CRWD</th><th>FOX</th><th>CFG</th><th>AAPL</th><th>WMB</th><th>TDG</th><th>DDOG</th><th>ABNB</th><th>DD</th><th>KHC</th><th>PANW</th><th>ABBV</th><th>MPWR</th><th>DASH</th><th>QRVO</th><th>GEHC</th><th>ALLE</th><th>WBD</th><th>PYPL</th><th>ETSY</th><th>UBER</th><th>DOW</th><th>TTD</th><th>FTV</th><th>VTRS</th><th>CCEP</th><th>BALL</th><th>EG</th><th>RVTY</th><th>CTRA</th></tr><tr><td>date</td><td>f64</td><td>f64</td><td>f64</td><td>f64</td><td>f64</td><td>f64</td><td>f64</td><td>f64</td><td>f64</td><td>f64</td><td>f64</td><td>f64</td><td>f64</td><td>f64</td><td>f64</td><td>f64</td><td>f64</td><td>f64</td><td>f64</td><td>f64</td><td>f64</td><td>f64</td><td>f64</td><td>f64</td><td>f64</td><td>f64</td><td>f64</td><td>f64</td><td>f64</td><td>f64</td><td>f64</td><td>f64</td><td>f64</td><td>f64</td><td>f64</td><td>f64</td><td>&hellip;</td><td>f64</td><td>f64</td><td>f64</td><td>f64</td><td>f64</td><td>f64</td><td>f64</td><td>f64</td><td>f64</td><td>f64</td><td>f64</td><td>f64</td><td>f64</td><td>f64</td><td>f64</td><td>f64</td><td>f64</td><td>f64</td><td>f64</td><td>f64</td><td>f64</td><td>f64</td><td>f64</td><td>f64</td><td>f64</td><td>f64</td><td>f64</td><td>f64</td><td>f64</td><td>f64</td><td>f64</td><td>f64</td><td>f64</td><td>f64</td><td>f64</td><td>f64</td><td>f64</td></tr></thead><tbody><tr><td>1998-01-01</td><td>36.31</td><td>94.63</td><td>27.81</td><td>null</td><td>64.88</td><td>71.0</td><td>74.81</td><td>25.63</td><td>0.9</td><td>null</td><td>55.94</td><td>23.88</td><td>null</td><td>26.94</td><td>50.44</td><td>null</td><td>null</td><td>null</td><td>29.88</td><td>89.62</td><td>79.44</td><td>34.19</td><td>50.06</td><td>null</td><td>null</td><td>null</td><td>null</td><td>null</td><td>51.0</td><td>null</td><td>48.88</td><td>null</td><td>null</td><td>null</td><td>51.63</td><td>null</td><td>&hellip;</td><td>null</td><td>null</td><td>null</td><td>null</td><td>null</td><td>null</td><td>54.44</td><td>null</td><td>null</td><td>null</td><td>0.17</td><td>29.31</td><td>null</td><td>null</td><td>null</td><td>null</td><td>null</td><td>null</td><td>null</td><td>null</td><td>null</td><td>null</td><td>null</td><td>null</td><td>null</td><td>null</td><td>null</td><td>null</td><td>null</td><td>null</td><td>null</td><td>null</td><td>null</td><td>null</td><td>null</td><td>null</td><td>null</td></tr><tr><td>1998-02-01</td><td>35.5</td><td>100.75</td><td>27.63</td><td>null</td><td>73.38</td><td>75.75</td><td>81.63</td><td>33.87</td><td>1.12</td><td>null</td><td>60.51</td><td>27.38</td><td>null</td><td>26.88</td><td>52.19</td><td>null</td><td>null</td><td>null</td><td>29.19</td><td>90.44</td><td>87.94</td><td>34.63</td><td>46.44</td><td>null</td><td>null</td><td>null</td><td>null</td><td>null</td><td>52.51</td><td>null</td><td>46.75</td><td>null</td><td>null</td><td>null</td><td>50.19</td><td>null</td><td>&hellip;</td><td>null</td><td>null</td><td>null</td><td>null</td><td>null</td><td>null</td><td>62.13</td><td>null</td><td>null</td><td>null</td><td>0.21</td><td>34.69</td><td>null</td><td>null</td><td>null</td><td>null</td><td>null</td><td>null</td><td>null</td><td>null</td><td>null</td><td>null</td><td>null</td><td>null</td><td>null</td><td>null</td><td>null</td><td>null</td><td>null</td><td>null</td><td>null</td><td>null</td><td>null</td><td>null</td><td>null</td><td>null</td><td>null</td></tr><tr><td>1998-03-01</td><td>38.63</td><td>107.88</td><td>26.5</td><td>null</td><td>76.56</td><td>82.5</td><td>88.37</td><td>46.25</td><td>1.28</td><td>null</td><td>61.25</td><td>26.44</td><td>null</td><td>27.19</td><td>58.5</td><td>null</td><td>null</td><td>null</td><td>28.38</td><td>97.81</td><td>89.88</td><td>40.31</td><td>44.69</td><td>null</td><td>null</td><td>null</td><td>null</td><td>null</td><td>59.38</td><td>null</td><td>52.56</td><td>null</td><td>null</td><td>null</td><td>51.06</td><td>null</td><td>&hellip;</td><td>null</td><td>null</td><td>null</td><td>null</td><td>null</td><td>null</td><td>66.56</td><td>null</td><td>null</td><td>null</td><td>0.24</td><td>33.93</td><td>null</td><td>null</td><td>null</td><td>null</td><td>null</td><td>null</td><td>null</td><td>null</td><td>null</td><td>null</td><td>null</td><td>null</td><td>null</td><td>null</td><td>null</td><td>null</td><td>null</td><td>null</td><td>null</td><td>null</td><td>null</td><td>null</td><td>null</td><td>null</td><td>null</td></tr><tr><td>1998-04-01</td><td>38.06</td><td>104.63</td><td>26.25</td><td>null</td><td>78.0</td><td>38.38</td><td>91.25</td><td>48.0</td><td>1.75</td><td>null</td><td>57.44</td><td>35.82</td><td>null</td><td>27.25</td><td>59.75</td><td>null</td><td>null</td><td>null</td><td>29.06</td><td>108.44</td><td>90.13</td><td>38.81</td><td>43.5</td><td>null</td><td>null</td><td>null</td><td>null</td><td>null</td><td>58.88</td><td>null</td><td>52.31</td><td>null</td><td>null</td><td>null</td><td>50.63</td><td>null</td><td>&hellip;</td><td>null</td><td>null</td><td>null</td><td>null</td><td>null</td><td>null</td><td>67.19</td><td>null</td><td>null</td><td>null</td><td>0.25</td><td>35.69</td><td>null</td><td>null</td><td>null</td><td>null</td><td>null</td><td>null</td><td>null</td><td>null</td><td>null</td><td>null</td><td>null</td><td>null</td><td>null</td><td>null</td><td>null</td><td>null</td><td>null</td><td>null</td><td>null</td><td>null</td><td>null</td><td>null</td><td>null</td><td>null</td><td>null</td></tr><tr><td>1998-05-01</td><td>36.88</td><td>69.38</td><td>26.63</td><td>null</td><td>76.5</td><td>35.44</td><td>90.69</td><td>41.13</td><td>2.09</td><td>null</td><td>58.88</td><td>37.25</td><td>null</td><td>26.69</td><td>58.25</td><td>28.63</td><td>null</td><td>null</td><td>27.94</td><td>106.06</td><td>84.75</td><td>37.19</td><td>41.94</td><td>null</td><td>null</td><td>null</td><td>null</td><td>null</td><td>56.88</td><td>null</td><td>45.25</td><td>null</td><td>null</td><td>null</td><td>47.63</td><td>null</td><td>&hellip;</td><td>null</td><td>null</td><td>null</td><td>null</td><td>null</td><td>null</td><td>68.25</td><td>null</td><td>null</td><td>null</td><td>0.27</td><td>33.0</td><td>null</td><td>null</td><td>null</td><td>null</td><td>null</td><td>null</td><td>null</td><td>null</td><td>null</td><td>null</td><td>null</td><td>null</td><td>null</td><td>null</td><td>null</td><td>null</td><td>null</td><td>null</td><td>null</td><td>null</td><td>null</td><td>null</td><td>null</td><td>null</td><td>null</td></tr><tr><td>&hellip;</td><td>&hellip;</td><td>&hellip;</td><td>&hellip;</td><td>&hellip;</td><td>&hellip;</td><td>&hellip;</td><td>&hellip;</td><td>&hellip;</td><td>&hellip;</td><td>&hellip;</td><td>&hellip;</td><td>&hellip;</td><td>&hellip;</td><td>&hellip;</td><td>&hellip;</td><td>&hellip;</td><td>&hellip;</td><td>&hellip;</td><td>&hellip;</td><td>&hellip;</td><td>&hellip;</td><td>&hellip;</td><td>&hellip;</td><td>&hellip;</td><td>&hellip;</td><td>&hellip;</td><td>&hellip;</td><td>&hellip;</td><td>&hellip;</td><td>&hellip;</td><td>&hellip;</td><td>&hellip;</td><td>&hellip;</td><td>&hellip;</td><td>&hellip;</td><td>&hellip;</td><td>&hellip;</td><td>&hellip;</td><td>&hellip;</td><td>&hellip;</td><td>&hellip;</td><td>&hellip;</td><td>&hellip;</td><td>&hellip;</td><td>&hellip;</td><td>&hellip;</td><td>&hellip;</td><td>&hellip;</td><td>&hellip;</td><td>&hellip;</td><td>&hellip;</td><td>&hellip;</td><td>&hellip;</td><td>&hellip;</td><td>&hellip;</td><td>&hellip;</td><td>&hellip;</td><td>&hellip;</td><td>&hellip;</td><td>&hellip;</td><td>&hellip;</td><td>&hellip;</td><td>&hellip;</td><td>&hellip;</td><td>&hellip;</td><td>&hellip;</td><td>&hellip;</td><td>&hellip;</td><td>&hellip;</td><td>&hellip;</td><td>&hellip;</td><td>&hellip;</td><td>&hellip;</td><td>&hellip;</td></tr><tr><td>2023-11-01</td><td>40.72</td><td>45.73</td><td>63.73</td><td>74.33</td><td>225.0</td><td>210.62</td><td>78.79</td><td>215.39</td><td>57.03</td><td>22.37</td><td>275.78</td><td>486.44</td><td>126.56</td><td>54.48</td><td>139.06</td><td>46.1</td><td>90.93</td><td>138.88</td><td>126.29</td><td>170.76</td><td>144.14</td><td>28.04</td><td>53.48</td><td>60.7</td><td>109.9</td><td>184.14</td><td>219.51</td><td>137.88</td><td>122.08</td><td>72.56</td><td>435.3</td><td>161.84</td><td>252.12</td><td>115.97</td><td>81.04</td><td>153.26</td><td>&hellip;</td><td>353.51</td><td>151.96</td><td>85.8</td><td>150.46</td><td>199.22</td><td>33.29</td><td>83.35</td><td>237.07</td><td>29.68</td><td>27.77</td><td>192.01</td><td>36.96</td><td>1010.0</td><td>118.24</td><td>131.2</td><td>72.01</td><td>35.32</td><td>null</td><td>143.29</td><td>558.81</td><td>null</td><td>96.91</td><td>73.73</td><td>107.35</td><td>11.84</td><td>59.52</td><td>78.49</td><td>56.94</td><td>51.92</td><td>79.79</td><td>69.0</td><td>9.48</td><td>null</td><td>55.4</td><td>416.42</td><td>90.58</td><td>28.18</td></tr><tr><td>2023-12-01</td><td>37.7</td><td>57.21</td><td>68.19</td><td>77.29</td><td>234.04</td><td>225.95</td><td>79.74</td><td>220.37</td><td>57.71</td><td>23.4</td><td>312.56</td><td>584.64</td><td>121.19</td><td>58.58</td><td>155.16</td><td>50.96</td><td>95.04</td><td>139.24</td><td>139.12</td><td>188.24</td><td>146.24</td><td>25.9</td><td>55.94</td><td>64.36</td><td>110.34</td><td>209.02</td><td>229.26</td><td>130.8</td><td>129.64</td><td>74.05</td><td>463.15</td><td>167.11</td><td>262.84</td><td>120.47</td><td>84.58</td><td>163.6</td><td>&hellip;</td><td>382.3</td><td>152.5</td><td>90.96</td><td>160.98</td><td>247.55</td><td>43.72</td><td>84.53</td><td>260.97</td><td>28.36</td><td>34.44</td><td>199.2</td><td>37.4</td><td>1015.0</td><td>124.4</td><td>149.77</td><td>77.18</td><td>37.74</td><td>null</td><td>155.37</td><td>645.76</td><td>null</td><td>114.88</td><td>78.27</td><td>128.42</td><td>12.61</td><td>63.79</td><td>89.37</td><td>63.41</td><td>55.84</td><td>78.09</td><td>74.0</td><td>10.87</td><td>null</td><td>60.55</td><td>411.96</td><td>111.21</td><td>26.53</td></tr><tr><td>2024-01-01</td><td>36.82</td><td>57.0</td><td>67.73</td><td>76.97</td><td>245.01</td><td>243.85</td><td>84.58</td><td>207.78</td><td>59.13</td><td>24.29</td><td>309.1</td><td>653.45</td><td>123.65</td><td>59.74</td><td>160.87</td><td>50.58</td><td>93.97</td><td>145.97</td><td>137.15</td><td>204.82</td><td>146.9</td><td>24.98</td><td>58.03</td><td>64.58</td><td>102.1</td><td>207.62</td><td>231.39</td><td>138.52</td><td>123.73</td><td>83.58</td><td>479.0</td><td>172.92</td><td>250.48</td><td>125.36</td><td>84.52</td><td>161.29</td><td>&hellip;</td><td>397.66</td><td>153.72</td><td>91.99</td><td>165.84</td><td>258.51</td><td>45.74</td><td>85.9</td><td>307.45</td><td>30.25</td><td>34.37</td><td>196.0</td><td>36.63</td><td>1099.48</td><td>135.17</td><td>152.76</td><td>77.73</td><td>38.57</td><td>null</td><td>167.51</td><td>642.44</td><td>null</td><td>110.34</td><td>77.43</td><td>127.17</td><td>11.98</td><td>67.21</td><td>82.64</td><td>67.35</td><td>55.64</td><td>71.51</td><td>79.12</td><td>12.34</td><td>null</td><td>57.7</td><td>387.6</td><td>114.74</td><td>25.94</td></tr><tr><td>2024-02-01</td><td>31.9</td><td>53.18</td><td>63.66</td><td>72.36</td><td>256.35</td><td>252.07</td><td>86.82</td><td>201.74</td><td>59.23</td><td>23.955</td><td>286.45</td><td>694.92</td><td>170.84</td><td>55.25</td><td>174.89</td><td>47.23</td><td>98.17</td><td>148.93</td><td>129.88</td><td>219.57</td><td>156.96</td><td>24.52</td><td>57.25</td><td>59.31</td><td>94.67</td><td>199.95</td><td>247.82</td><td>148.96</td><td>125.06</td><td>86.23</td><td>535.97</td><td>187.94</td><td>205.13</td><td>129.14</td><td>85.19</td><td>149.95</td><td>&hellip;</td><td>413.06</td><td>156.18</td><td>95.37</td><td>165.48</td><td>256.79</td><td>48.4</td><td>84.34</td><td>335.57</td><td>30.14</td><td>32.7</td><td>190.37</td><td>36.12</td><td>1203.78</td><td>137.78</td><td>157.86</td><td>70.38</td><td>37.83</td><td>null</td><td>179.63</td><td>757.8</td><td>null</td><td>114.72</td><td>93.88</td><td>136.44</td><td>10.5</td><td>64.11</td><td>80.07</td><td>81.68</td><td>56.76</td><td>90.51</td><td>86.57</td><td>13.59</td><td>null</td><td>64.18</td><td>385.78</td><td>110.97</td><td>26.36</td></tr><tr><td>2024-03-01</td><td>32.86</td><td>53.13</td><td>62.95</td><td>72.55</td><td>256.84</td><td>253.12</td><td>89.21</td><td>195.67</td><td>61.14</td><td>22.3</td><td>298.43</td><td>730.1</td><td>184.45</td><td>53.45</td><td>178.48</td><td>44.54</td><td>104.3</td><td>153.77</td><td>135.89</td><td>224.49</td><td>157.56</td><td>25.97</td><td>55.15</td><td>60.77</td><td>95.08</td><td>189.83</td><td>250.34</td><td>151.66</td><td>123.96</td><td>85.82</td><td>543.17</td><td>186.06</td><td>204.27</td><td>113.06</td><td>86.06</td><td>158.33</td><td>&hellip;</td><td>418.56</td><td>156.66</td><td>98.36</td><td>168.29</td><td>217.48</td><td>47.07</td><td>84.22</td><td>344.01</td><td>27.41</td><td>34.52</td><td>180.72</td><td>37.35</td><td>1187.92</td><td>131.89</td><td>167.51</td><td>73.91</td><td>35.41</td><td>null</td><td>182.37</td><td>776.26</td><td>null</td><td>121.31</td><td>94.36</td><td>134.39</td><td>9.24</td><td>62.76</td><td>73.25</td><td>81.87</td><td>58.68</td><td>85.42</td><td>86.32</td><td>12.6</td><td>null</td><td>66.35</td><td>386.34</td><td>110.4</td><td>26.91</td></tr></tbody></table></div>"
      ],
      "text/plain": [
       "shape: (315, 520)\n",
       "┌────────────┬───────┬────────┬───────┬───┬───────┬────────┬────────┬───────┐\n",
       "│ date       ┆ APA   ┆ CMA    ┆ REG   ┆ … ┆ BALL  ┆ EG     ┆ RVTY   ┆ CTRA  │\n",
       "│ ---        ┆ ---   ┆ ---    ┆ ---   ┆   ┆ ---   ┆ ---    ┆ ---    ┆ ---   │\n",
       "│ date       ┆ f64   ┆ f64    ┆ f64   ┆   ┆ f64   ┆ f64    ┆ f64    ┆ f64   │\n",
       "╞════════════╪═══════╪════════╪═══════╪═══╪═══════╪════════╪════════╪═══════╡\n",
       "│ 1998-01-01 ┆ 36.31 ┆ 94.63  ┆ 27.81 ┆ … ┆ null  ┆ null   ┆ null   ┆ null  │\n",
       "│ 1998-02-01 ┆ 35.5  ┆ 100.75 ┆ 27.63 ┆ … ┆ null  ┆ null   ┆ null   ┆ null  │\n",
       "│ 1998-03-01 ┆ 38.63 ┆ 107.88 ┆ 26.5  ┆ … ┆ null  ┆ null   ┆ null   ┆ null  │\n",
       "│ 1998-04-01 ┆ 38.06 ┆ 104.63 ┆ 26.25 ┆ … ┆ null  ┆ null   ┆ null   ┆ null  │\n",
       "│ 1998-05-01 ┆ 36.88 ┆ 69.38  ┆ 26.63 ┆ … ┆ null  ┆ null   ┆ null   ┆ null  │\n",
       "│ …          ┆ …     ┆ …      ┆ …     ┆ … ┆ …     ┆ …      ┆ …      ┆ …     │\n",
       "│ 2023-11-01 ┆ 40.72 ┆ 45.73  ┆ 63.73 ┆ … ┆ 55.4  ┆ 416.42 ┆ 90.58  ┆ 28.18 │\n",
       "│ 2023-12-01 ┆ 37.7  ┆ 57.21  ┆ 68.19 ┆ … ┆ 60.55 ┆ 411.96 ┆ 111.21 ┆ 26.53 │\n",
       "│ 2024-01-01 ┆ 36.82 ┆ 57.0   ┆ 67.73 ┆ … ┆ 57.7  ┆ 387.6  ┆ 114.74 ┆ 25.94 │\n",
       "│ 2024-02-01 ┆ 31.9  ┆ 53.18  ┆ 63.66 ┆ … ┆ 64.18 ┆ 385.78 ┆ 110.97 ┆ 26.36 │\n",
       "│ 2024-03-01 ┆ 32.86 ┆ 53.13  ┆ 62.95 ┆ … ┆ 66.35 ┆ 386.34 ┆ 110.4  ┆ 26.91 │\n",
       "└────────────┴───────┴────────┴───────┴───┴───────┴────────┴────────┴───────┘"
      ]
     },
     "execution_count": 23,
     "metadata": {},
     "output_type": "execute_result"
    }
   ],
   "source": [
    "%%time\n",
    "# pivot so columns are close values\n",
    "(stocks_lazy\n",
    " .with_columns(year=pl.col('datetime').dt.year(),\n",
    "               month=pl.col('datetime').dt.month())\n",
    " .group_by(['ticker','year', 'month'])\n",
    " .agg(cs.numeric().max())\n",
    " .with_columns(date=pl.date('year', 'month', day=1))\n",
    " .collect(engine='gpu')\n",
    " .pivot(index='date', values='close', on='ticker')\n",
    " .sort('date')\n",
    " )"
   ]
  },
  {
   "cell_type": "code",
   "execution_count": 24,
   "metadata": {
    "colab": {
     "base_uri": "https://localhost:8080/",
     "height": 403
    },
    "id": "WA_1cLWK2ItU",
    "outputId": "80f90286-19cf-4af6-e06b-451b9593f9ba"
   },
   "outputs": [
    {
     "name": "stdout",
     "output_type": "stream",
     "text": [
      "CPU times: user 394 ms, sys: 126 ms, total: 520 ms\n",
      "Wall time: 324 ms\n"
     ]
    },
    {
     "data": {
      "text/html": [
       "\n",
       "<style>\n",
       "  #altair-viz-390baa3a50ee4f2eba989187409f809a.vega-embed {\n",
       "    width: 100%;\n",
       "    display: flex;\n",
       "  }\n",
       "\n",
       "  #altair-viz-390baa3a50ee4f2eba989187409f809a.vega-embed details,\n",
       "  #altair-viz-390baa3a50ee4f2eba989187409f809a.vega-embed details summary {\n",
       "    position: relative;\n",
       "  }\n",
       "</style>\n",
       "<div id=\"altair-viz-390baa3a50ee4f2eba989187409f809a\"></div>\n",
       "<script type=\"text/javascript\">\n",
       "  var VEGA_DEBUG = (typeof VEGA_DEBUG == \"undefined\") ? {} : VEGA_DEBUG;\n",
       "  (function(spec, embedOpt){\n",
       "    let outputDiv = document.currentScript.previousElementSibling;\n",
       "    if (outputDiv.id !== \"altair-viz-390baa3a50ee4f2eba989187409f809a\") {\n",
       "      outputDiv = document.getElementById(\"altair-viz-390baa3a50ee4f2eba989187409f809a\");\n",
       "    }\n",
       "\n",
       "    const paths = {\n",
       "      \"vega\": \"https://cdn.jsdelivr.net/npm/vega@5?noext\",\n",
       "      \"vega-lib\": \"https://cdn.jsdelivr.net/npm/vega-lib?noext\",\n",
       "      \"vega-lite\": \"https://cdn.jsdelivr.net/npm/vega-lite@5.20.1?noext\",\n",
       "      \"vega-embed\": \"https://cdn.jsdelivr.net/npm/vega-embed@6?noext\",\n",
       "    };\n",
       "\n",
       "    function maybeLoadScript(lib, version) {\n",
       "      var key = `${lib.replace(\"-\", \"\")}_version`;\n",
       "      return (VEGA_DEBUG[key] == version) ?\n",
       "        Promise.resolve(paths[lib]) :\n",
       "        new Promise(function(resolve, reject) {\n",
       "          var s = document.createElement('script');\n",
       "          document.getElementsByTagName(\"head\")[0].appendChild(s);\n",
       "          s.async = true;\n",
       "          s.onload = () => {\n",
       "            VEGA_DEBUG[key] = version;\n",
       "            return resolve(paths[lib]);\n",
       "          };\n",
       "          s.onerror = () => reject(`Error loading script: ${paths[lib]}`);\n",
       "          s.src = paths[lib];\n",
       "        });\n",
       "    }\n",
       "\n",
       "    function showError(err) {\n",
       "      outputDiv.innerHTML = `<div class=\"error\" style=\"color:red;\">${err}</div>`;\n",
       "      throw err;\n",
       "    }\n",
       "\n",
       "    function displayChart(vegaEmbed) {\n",
       "      vegaEmbed(outputDiv, spec, embedOpt)\n",
       "        .catch(err => showError(`Javascript Error: ${err.message}<br>This usually means there's a typo in your chart specification. See the javascript console for the full traceback.`));\n",
       "    }\n",
       "\n",
       "    if(typeof define === \"function\" && define.amd) {\n",
       "      requirejs.config({paths});\n",
       "      let deps = [\"vega-embed\"];\n",
       "      require(deps, displayChart, err => showError(`Error loading script: ${err.message}`));\n",
       "    } else {\n",
       "      maybeLoadScript(\"vega\", \"5\")\n",
       "        .then(() => maybeLoadScript(\"vega-lite\", \"5.20.1\"))\n",
       "        .then(() => maybeLoadScript(\"vega-embed\", \"6\"))\n",
       "        .catch(showError)\n",
       "        .then(() => displayChart(vegaEmbed));\n",
       "    }\n",
       "  })({\"config\": {\"view\": {\"continuousWidth\": 300, \"continuousHeight\": 300}}, \"data\": {\"name\": \"data-a0840b0968b1d5eac6e248b4c1a102db\"}, \"mark\": {\"type\": \"line\", \"tooltip\": true}, \"encoding\": {\"color\": {\"field\": \"ticker\", \"type\": \"nominal\"}, \"x\": {\"field\": \"date\", \"type\": \"temporal\"}, \"y\": {\"field\": \"close\", \"type\": \"quantitative\"}}, \"params\": [{\"name\": \"param_1\", \"select\": {\"type\": \"interval\", \"encodings\": [\"x\", \"y\"]}, \"bind\": \"scales\"}], \"$schema\": \"https://vega.github.io/schema/vega-lite/v5.20.1.json\", \"datasets\": {\"data-a0840b0968b1d5eac6e248b4c1a102db\": [{\"ticker\": \"AAPL\", \"year\": 1998, \"month\": 1, \"__index_level_0__\": 258, \"open\": 0.17, \"high\": 0.17, \"low\": 0.17, \"close\": 0.17, \"volume\": 194811148, \"date\": \"1998-01-01T00:00:00\"}, {\"ticker\": \"AAPL\", \"year\": 1998, \"month\": 2, \"__index_level_0__\": 505, \"open\": 0.21, \"high\": 0.21, \"low\": 0.21, \"close\": 0.21, \"volume\": 44111340, \"date\": \"1998-02-01T00:00:00\"}, {\"ticker\": \"AAPL\", \"year\": 1998, \"month\": 3, \"__index_level_0__\": 791, \"open\": 0.24, \"high\": 0.25, \"low\": 0.24, \"close\": 0.24, \"volume\": 45368540, \"date\": \"1998-03-01T00:00:00\"}, {\"ticker\": \"AAPL\", \"year\": 1998, \"month\": 4, \"__index_level_0__\": 1064, \"open\": 0.25, \"high\": 0.26, \"low\": 0.25, \"close\": 0.25, \"volume\": 140040348, \"date\": \"1998-04-01T00:00:00\"}, {\"ticker\": \"AAPL\", \"year\": 1998, \"month\": 5, \"__index_level_0__\": 1324, \"open\": 0.27, \"high\": 0.28, \"low\": 0.27, \"close\": 0.27, \"volume\": 66293192, \"date\": \"1998-05-01T00:00:00\"}, {\"ticker\": \"AAPL\", \"year\": 1998, \"month\": 6, \"__index_level_0__\": 1610, \"open\": 0.25, \"high\": 0.25, \"low\": 0.25, \"close\": 0.25, \"volume\": 15444884, \"date\": \"1998-06-01T00:00:00\"}, {\"ticker\": \"AAPL\", \"year\": 1998, \"month\": 7, \"__index_level_0__\": 1896, \"open\": 0.33, \"high\": 0.33, \"low\": 0.33, \"close\": 0.33, \"volume\": 165993884, \"date\": \"1998-07-01T00:00:00\"}, {\"ticker\": \"AAPL\", \"year\": 1998, \"month\": 8, \"__index_level_0__\": 2169, \"open\": 0.38, \"high\": 0.39, \"low\": 0.38, \"close\": 0.38, \"volume\": 48768524, \"date\": \"1998-08-01T00:00:00\"}, {\"ticker\": \"AAPL\", \"year\": 1998, \"month\": 9, \"__index_level_0__\": 2442, \"open\": 0.35, \"high\": 0.35, \"low\": 0.35, \"close\": 0.35, \"volume\": 34975220, \"date\": \"1998-09-01T00:00:00\"}, {\"ticker\": \"AAPL\", \"year\": 1998, \"month\": 10, \"__index_level_0__\": 2728, \"open\": 0.36, \"high\": 0.36, \"low\": 0.35, \"close\": 0.36, \"volume\": 141415820, \"date\": \"1998-10-01T00:00:00\"}, {\"ticker\": \"AAPL\", \"year\": 1998, \"month\": 11, \"__index_level_0__\": 2983, \"open\": 0.34, \"high\": 0.35, \"low\": 0.34, \"close\": 0.34, \"volume\": 35210000, \"date\": \"1998-11-01T00:00:00\"}, {\"ticker\": \"AAPL\", \"year\": 1998, \"month\": 12, \"__index_level_0__\": 3264, \"open\": 0.36, \"high\": 0.37, \"low\": 0.36, \"close\": 0.36, \"volume\": 56456400, \"date\": \"1998-12-01T00:00:00\"}, {\"ticker\": \"AAPL\", \"year\": 1999, \"month\": 1, \"__index_level_0__\": 3511, \"open\": 0.41, \"high\": 0.42, \"low\": 0.41, \"close\": 0.41, \"volume\": 75527200, \"date\": \"1999-01-01T00:00:00\"}, {\"ticker\": \"AAPL\", \"year\": 1999, \"month\": 2, \"__index_level_0__\": 3758, \"open\": 0.37, \"high\": 0.37, \"low\": 0.37, \"close\": 0.37, \"volume\": 31144400, \"date\": \"1999-02-01T00:00:00\"}, {\"ticker\": \"AAPL\", \"year\": 1999, \"month\": 3, \"__index_level_0__\": 4057, \"open\": 0.32, \"high\": 0.33, \"low\": 0.32, \"close\": 0.32, \"volume\": 31427200, \"date\": \"1999-03-01T00:00:00\"}, {\"ticker\": \"AAPL\", \"year\": 1999, \"month\": 4, \"__index_level_0__\": 4330, \"open\": 0.41, \"high\": 0.42, \"low\": 0.4, \"close\": 0.41, \"volume\": 110110000, \"date\": \"1999-04-01T00:00:00\"}, {\"ticker\": \"AAPL\", \"year\": 1999, \"month\": 5, \"__index_level_0__\": 4590, \"open\": 0.44, \"high\": 0.44, \"low\": 0.43, \"close\": 0.44, \"volume\": 87976000, \"date\": \"1999-05-01T00:00:00\"}, {\"ticker\": \"AAPL\", \"year\": 1999, \"month\": 6, \"__index_level_0__\": 4876, \"open\": 0.43, \"high\": 0.43, \"low\": 0.43, \"close\": 0.43, \"volume\": 30954000, \"date\": \"1999-06-01T00:00:00\"}, {\"ticker\": \"AAPL\", \"year\": 1999, \"month\": 7, \"__index_level_0__\": 5149, \"open\": 0.5, \"high\": 0.5, \"low\": 0.49, \"close\": 0.5, \"volume\": 88558400, \"date\": \"1999-07-01T00:00:00\"}, {\"ticker\": \"AAPL\", \"year\": 1999, \"month\": 8, \"__index_level_0__\": 5435, \"open\": 0.58, \"high\": 0.58, \"low\": 0.58, \"close\": 0.58, \"volume\": 41946800, \"date\": \"1999-08-01T00:00:00\"}, {\"ticker\": \"AAPL\", \"year\": 1999, \"month\": 9, \"__index_level_0__\": 5708, \"open\": 0.71, \"high\": 0.71, \"low\": 0.71, \"close\": 0.71, \"volume\": 195568800, \"date\": \"1999-09-01T00:00:00\"}, {\"ticker\": \"AAPL\", \"year\": 1999, \"month\": 10, \"__index_level_0__\": 5981, \"open\": 0.72, \"high\": 0.72, \"low\": 0.71, \"close\": 0.72, \"volume\": 157959200, \"date\": \"1999-10-01T00:00:00\"}, {\"ticker\": \"AAPL\", \"year\": 1999, \"month\": 11, \"__index_level_0__\": 6249, \"open\": 0.9, \"high\": 0.92, \"low\": 0.9, \"close\": 0.9, \"volume\": 55210400, \"date\": \"1999-11-01T00:00:00\"}, {\"ticker\": \"AAPL\", \"year\": 1999, \"month\": 12, \"__index_level_0__\": 6530, \"open\": 1.04, \"high\": 1.05, \"low\": 1.03, \"close\": 1.05, \"volume\": 37167200, \"date\": \"1999-12-01T00:00:00\"}, {\"ticker\": \"AAPL\", \"year\": 2000, \"month\": 1, \"__index_level_0__\": 6790, \"open\": 1.07, \"high\": 1.08, \"low\": 1.06, \"close\": 1.07, \"volume\": 92164800, \"date\": \"2000-01-01T00:00:00\"}, {\"ticker\": \"AAPL\", \"year\": 2000, \"month\": 2, \"__index_level_0__\": 7050, \"open\": 1.06, \"high\": 1.07, \"low\": 1.05, \"close\": 1.06, \"volume\": 23021600, \"date\": \"2000-02-01T00:00:00\"}, {\"ticker\": \"AAPL\", \"year\": 2000, \"month\": 3, \"__index_level_0__\": 7349, \"open\": 1.33, \"high\": 1.34, \"low\": 1.32, \"close\": 1.33, \"volume\": 45796800, \"date\": \"2000-03-01T00:00:00\"}, {\"ticker\": \"AAPL\", \"year\": 2000, \"month\": 4, \"__index_level_0__\": 7596, \"open\": 1.22, \"high\": 1.24, \"low\": 1.2, \"close\": 1.22, \"volume\": 50352400, \"date\": \"2000-04-01T00:00:00\"}, {\"ticker\": \"AAPL\", \"year\": 2000, \"month\": 5, \"__index_level_0__\": 7882, \"open\": 1.11, \"high\": 1.12, \"low\": 1.11, \"close\": 1.11, \"volume\": 34879600, \"date\": \"2000-05-01T00:00:00\"}, {\"ticker\": \"AAPL\", \"year\": 2000, \"month\": 6, \"__index_level_0__\": 8168, \"open\": 1.02, \"high\": 1.02, \"low\": 1.0, \"close\": 1.02, \"volume\": 38060400, \"date\": \"2000-06-01T00:00:00\"}, {\"ticker\": \"AAPL\", \"year\": 2000, \"month\": 7, \"__index_level_0__\": 8423, \"open\": 1.08, \"high\": 1.08, \"low\": 1.07, \"close\": 1.07, \"volume\": 23745400, \"date\": \"2000-07-01T00:00:00\"}, {\"ticker\": \"AAPL\", \"year\": 2000, \"month\": 8, \"__index_level_0__\": 8722, \"open\": 1.09, \"high\": 1.09, \"low\": 1.08, \"close\": 1.09, \"volume\": 19103000, \"date\": \"2000-08-01T00:00:00\"}, {\"ticker\": \"AAPL\", \"year\": 2000, \"month\": 9, \"__index_level_0__\": 8982, \"open\": 1.14, \"high\": 1.14, \"low\": 1.13, \"close\": 1.14, \"volume\": 265690600, \"date\": \"2000-09-01T00:00:00\"}, {\"ticker\": \"AAPL\", \"year\": 2000, \"month\": 10, \"__index_level_0__\": 9268, \"open\": 0.47, \"high\": 0.47, \"low\": 0.46, \"close\": 0.46, \"volume\": 79657200, \"date\": \"2000-10-01T00:00:00\"}, {\"ticker\": \"AAPL\", \"year\": 2000, \"month\": 11, \"__index_level_0__\": 9536, \"open\": 0.41, \"high\": 0.41, \"low\": 0.4, \"close\": 0.4, \"volume\": 26975200, \"date\": \"2000-11-01T00:00:00\"}, {\"ticker\": \"AAPL\", \"year\": 2000, \"month\": 12, \"__index_level_0__\": 9796, \"open\": 0.31, \"high\": 0.31, \"low\": 0.3, \"close\": 0.31, \"volume\": 74106200, \"date\": \"2000-12-01T00:00:00\"}, {\"ticker\": \"AAPL\", \"year\": 2001, \"month\": 1, \"__index_level_0__\": 10069, \"open\": 0.39, \"high\": 0.4, \"low\": 0.39, \"close\": 0.39, \"volume\": 47293400, \"date\": \"2001-01-01T00:00:00\"}, {\"ticker\": \"AAPL\", \"year\": 2001, \"month\": 2, \"__index_level_0__\": 10316, \"open\": 0.38, \"high\": 0.39, \"low\": 0.38, \"close\": 0.38, \"volume\": 54930400, \"date\": \"2001-02-01T00:00:00\"}, {\"ticker\": \"AAPL\", \"year\": 2001, \"month\": 3, \"__index_level_0__\": 10602, \"open\": 0.42, \"high\": 0.42, \"low\": 0.41, \"close\": 0.42, \"volume\": 39034800, \"date\": \"2001-03-01T00:00:00\"}, {\"ticker\": \"AAPL\", \"year\": 2001, \"month\": 4, \"__index_level_0__\": 10862, \"open\": 0.48, \"high\": 0.48, \"low\": 0.47, \"close\": 0.48, \"volume\": 95425400, \"date\": \"2001-04-01T00:00:00\"}, {\"ticker\": \"AAPL\", \"year\": 2001, \"month\": 5, \"__index_level_0__\": 11148, \"open\": 0.47, \"high\": 0.47, \"low\": 0.47, \"close\": 0.47, \"volume\": 23464000, \"date\": \"2001-05-01T00:00:00\"}, {\"ticker\": \"AAPL\", \"year\": 2001, \"month\": 6, \"__index_level_0__\": 11421, \"open\": 0.44, \"high\": 0.44, \"low\": 0.44, \"close\": 0.44, \"volume\": 35054600, \"date\": \"2001-06-01T00:00:00\"}, {\"ticker\": \"AAPL\", \"year\": 2001, \"month\": 7, \"__index_level_0__\": 11689, \"open\": 0.44, \"high\": 0.45, \"low\": 0.44, \"close\": 0.44, \"volume\": 50915200, \"date\": \"2001-07-01T00:00:00\"}, {\"ticker\": \"AAPL\", \"year\": 2001, \"month\": 8, \"__index_level_0__\": 11988, \"open\": 0.35, \"high\": 0.35, \"low\": 0.35, \"close\": 0.35, \"volume\": 18940600, \"date\": \"2001-08-01T00:00:00\"}, {\"ticker\": \"AAPL\", \"year\": 2001, \"month\": 9, \"__index_level_0__\": 12183, \"open\": 0.33, \"high\": 0.33, \"low\": 0.33, \"close\": 0.33, \"volume\": 24435600, \"date\": \"2001-09-01T00:00:00\"}, {\"ticker\": \"AAPL\", \"year\": 2001, \"month\": 10, \"__index_level_0__\": 12482, \"open\": 0.34, \"high\": 0.34, \"low\": 0.34, \"close\": 0.34, \"volume\": 33056800, \"date\": \"2001-10-01T00:00:00\"}, {\"ticker\": \"AAPL\", \"year\": 2001, \"month\": 11, \"__index_level_0__\": 12750, \"open\": 0.38, \"high\": 0.38, \"low\": 0.37, \"close\": 0.38, \"volume\": 17890600, \"date\": \"2001-11-01T00:00:00\"}, {\"ticker\": \"AAPL\", \"year\": 2001, \"month\": 12, \"__index_level_0__\": 13005, \"open\": 0.42, \"high\": 0.42, \"low\": 0.42, \"close\": 0.42, \"volume\": 15120000, \"date\": \"2001-12-01T00:00:00\"}, {\"ticker\": \"AAPL\", \"year\": 2002, \"month\": 1, \"__index_level_0__\": 13278, \"open\": 0.43, \"high\": 0.44, \"low\": 0.43, \"close\": 0.44, \"volume\": 38690400, \"date\": \"2002-01-01T00:00:00\"}, {\"ticker\": \"AAPL\", \"year\": 2002, \"month\": 2, \"__index_level_0__\": 13525, \"open\": 0.46, \"high\": 0.46, \"low\": 0.45, \"close\": 0.46, \"volume\": 37048200, \"date\": \"2002-02-01T00:00:00\"}, {\"ticker\": \"AAPL\", \"year\": 2002, \"month\": 3, \"__index_level_0__\": 13785, \"open\": 0.44, \"high\": 0.45, \"low\": 0.44, \"close\": 0.44, \"volume\": 31829000, \"date\": \"2002-03-01T00:00:00\"}, {\"ticker\": \"AAPL\", \"year\": 2002, \"month\": 4, \"__index_level_0__\": 14071, \"open\": 0.46, \"high\": 0.46, \"low\": 0.46, \"close\": 0.46, \"volume\": 26409600, \"date\": \"2002-04-01T00:00:00\"}, {\"ticker\": \"AAPL\", \"year\": 2002, \"month\": 5, \"__index_level_0__\": 14357, \"open\": 0.46, \"high\": 0.46, \"low\": 0.46, \"close\": 0.46, \"volume\": 19054000, \"date\": \"2002-05-01T00:00:00\"}, {\"ticker\": \"AAPL\", \"year\": 2002, \"month\": 6, \"__index_level_0__\": 14617, \"open\": 0.41, \"high\": 0.41, \"low\": 0.41, \"close\": 0.41, \"volume\": 81853800, \"date\": \"2002-06-01T00:00:00\"}, {\"ticker\": \"AAPL\", \"year\": 2002, \"month\": 7, \"__index_level_0__\": 14898, \"open\": 0.33, \"high\": 0.33, \"low\": 0.33, \"close\": 0.33, \"volume\": 63732200, \"date\": \"2002-07-01T00:00:00\"}, {\"ticker\": \"AAPL\", \"year\": 2002, \"month\": 8, \"__index_level_0__\": 15184, \"open\": 0.28, \"high\": 0.28, \"low\": 0.28, \"close\": 0.28, \"volume\": 17619224, \"date\": \"2002-08-01T00:00:00\"}, {\"ticker\": \"AAPL\", \"year\": 2002, \"month\": 9, \"__index_level_0__\": 15441, \"open\": 0.26, \"high\": 0.27, \"low\": 0.26, \"close\": 0.26, \"volume\": 16246272, \"date\": \"2002-09-01T00:00:00\"}, {\"ticker\": \"AAPL\", \"year\": 2002, \"month\": 10, \"__index_level_0__\": 15740, \"open\": 0.29, \"high\": 0.29, \"low\": 0.28, \"close\": 0.29, \"volume\": 19003348, \"date\": \"2002-10-01T00:00:00\"}, {\"ticker\": \"AAPL\", \"year\": 2002, \"month\": 11, \"__index_level_0__\": 15995, \"open\": 0.3, \"high\": 0.31, \"low\": 0.3, \"close\": 0.3, \"volume\": 12906138, \"date\": \"2002-11-01T00:00:00\"}, {\"ticker\": \"AAPL\", \"year\": 2002, \"month\": 12, \"__index_level_0__\": 16262, \"open\": 0.28, \"high\": 0.28, \"low\": 0.28, \"close\": 0.28, \"volume\": 13422416, \"date\": \"2002-12-01T00:00:00\"}, {\"ticker\": \"AAPL\", \"year\": 2003, \"month\": 1, \"__index_level_0__\": 16535, \"open\": 0.27, \"high\": 0.27, \"low\": 0.27, \"close\": 0.27, \"volume\": 27824146, \"date\": \"2003-01-01T00:00:00\"}, {\"ticker\": \"AAPL\", \"year\": 2003, \"month\": 2, \"__index_level_0__\": 16782, \"open\": 0.26, \"high\": 0.27, \"low\": 0.26, \"close\": 0.27, \"volume\": 13291572, \"date\": \"2003-02-01T00:00:00\"}, {\"ticker\": \"AAPL\", \"year\": 2003, \"month\": 3, \"__index_level_0__\": 17055, \"open\": 0.26, \"high\": 0.27, \"low\": 0.26, \"close\": 0.26, \"volume\": 16761948, \"date\": \"2003-03-01T00:00:00\"}, {\"ticker\": \"AAPL\", \"year\": 2003, \"month\": 4, \"__index_level_0__\": 17328, \"open\": 0.26, \"high\": 0.26, \"low\": 0.26, \"close\": 0.26, \"volume\": 50254022, \"date\": \"2003-04-01T00:00:00\"}, {\"ticker\": \"AAPL\", \"year\": 2003, \"month\": 5, \"__index_level_0__\": 17601, \"open\": 0.33, \"high\": 0.33, \"low\": 0.33, \"close\": 0.33, \"volume\": 101273620, \"date\": \"2003-05-01T00:00:00\"}, {\"ticker\": \"AAPL\", \"year\": 2003, \"month\": 6, \"__index_level_0__\": 17874, \"open\": 0.35, \"high\": 0.35, \"low\": 0.34, \"close\": 0.35, \"volume\": 19132582, \"date\": \"2003-06-01T00:00:00\"}, {\"ticker\": \"AAPL\", \"year\": 2003, \"month\": 7, \"__index_level_0__\": 18155, \"open\": 0.38, \"high\": 0.38, \"low\": 0.38, \"close\": 0.38, \"volume\": 34322610, \"date\": \"2003-07-01T00:00:00\"}, {\"ticker\": \"AAPL\", \"year\": 2003, \"month\": 8, \"__index_level_0__\": 18428, \"open\": 0.4, \"high\": 0.4, \"low\": 0.4, \"close\": 0.4, \"volume\": 16277408, \"date\": \"2003-08-01T00:00:00\"}, {\"ticker\": \"AAPL\", \"year\": 2003, \"month\": 9, \"__index_level_0__\": 18701, \"open\": 0.41, \"high\": 0.41, \"low\": 0.41, \"close\": 0.41, \"volume\": 16972088, \"date\": \"2003-09-01T00:00:00\"}, {\"ticker\": \"AAPL\", \"year\": 2003, \"month\": 10, \"__index_level_0__\": 19000, \"open\": 0.44, \"high\": 0.44, \"low\": 0.44, \"close\": 0.44, \"volume\": 37775108, \"date\": \"2003-10-01T00:00:00\"}, {\"ticker\": \"AAPL\", \"year\": 2003, \"month\": 11, \"__index_level_0__\": 19242, \"open\": 0.41, \"high\": 0.41, \"low\": 0.41, \"close\": 0.41, \"volume\": 18327736, \"date\": \"2003-11-01T00:00:00\"}, {\"ticker\": \"AAPL\", \"year\": 2003, \"month\": 12, \"__index_level_0__\": 19518, \"open\": 0.39, \"high\": 0.39, \"low\": 0.39, \"close\": 0.39, \"volume\": 20163668, \"date\": \"2003-12-01T00:00:00\"}, {\"ticker\": \"AAPL\", \"year\": 2004, \"month\": 1, \"__index_level_0__\": 19778, \"open\": 0.44, \"high\": 0.44, \"low\": 0.43, \"close\": 0.43, \"volume\": 49891632, \"date\": \"2004-01-01T00:00:00\"}, {\"ticker\": \"AAPL\", \"year\": 2004, \"month\": 2, \"__index_level_0__\": 20025, \"open\": 0.42, \"high\": 0.43, \"low\": 0.42, \"close\": 0.42, \"volume\": 16854278, \"date\": \"2004-02-01T00:00:00\"}, {\"ticker\": \"AAPL\", \"year\": 2004, \"month\": 3, \"__index_level_0__\": 20324, \"open\": 0.49, \"high\": 0.5, \"low\": 0.49, \"close\": 0.49, \"volume\": 68617990, \"date\": \"2004-03-01T00:00:00\"}, {\"ticker\": \"AAPL\", \"year\": 2004, \"month\": 4, \"__index_level_0__\": 20597, \"open\": 0.52, \"high\": 0.52, \"low\": 0.52, \"close\": 0.52, \"volume\": 72688014, \"date\": \"2004-04-01T00:00:00\"}, {\"ticker\": \"AAPL\", \"year\": 2004, \"month\": 5, \"__index_level_0__\": 20857, \"open\": 0.51, \"high\": 0.51, \"low\": 0.51, \"close\": 0.51, \"volume\": 28615062, \"date\": \"2004-05-01T00:00:00\"}, {\"ticker\": \"AAPL\", \"year\": 2004, \"month\": 6, \"__index_level_0__\": 21130, \"open\": 0.6, \"high\": 0.6, \"low\": 0.59, \"close\": 0.6, \"volume\": 52166212, \"date\": \"2004-06-01T00:00:00\"}, {\"ticker\": \"AAPL\", \"year\": 2004, \"month\": 7, \"__index_level_0__\": 21403, \"open\": 0.58, \"high\": 0.6, \"low\": 0.58, \"close\": 0.58, \"volume\": 132928222, \"date\": \"2004-07-01T00:00:00\"}, {\"ticker\": \"AAPL\", \"year\": 2004, \"month\": 8, \"__index_level_0__\": 21689, \"open\": 0.62, \"high\": 0.62, \"low\": 0.62, \"close\": 0.62, \"volume\": 27461098, \"date\": \"2004-08-01T00:00:00\"}, {\"ticker\": \"AAPL\", \"year\": 2004, \"month\": 9, \"__index_level_0__\": 21962, \"open\": 0.69, \"high\": 0.7, \"low\": 0.69, \"close\": 0.69, \"volume\": 22380568, \"date\": \"2004-09-01T00:00:00\"}, {\"ticker\": \"AAPL\", \"year\": 2004, \"month\": 10, \"__index_level_0__\": 22235, \"open\": 0.94, \"high\": 0.95, \"low\": 0.94, \"close\": 0.94, \"volume\": 109140276, \"date\": \"2004-10-01T00:00:00\"}, {\"ticker\": \"AAPL\", \"year\": 2004, \"month\": 11, \"__index_level_0__\": 22503, \"open\": 1.23, \"high\": 1.24, \"low\": 1.22, \"close\": 1.22, \"volume\": 131138196, \"date\": \"2004-11-01T00:00:00\"}, {\"ticker\": \"AAPL\", \"year\": 2004, \"month\": 12, \"__index_level_0__\": 22789, \"open\": 1.21, \"high\": 1.21, \"low\": 1.2, \"close\": 1.21, \"volume\": 71508920, \"date\": \"2004-12-01T00:00:00\"}, {\"ticker\": \"AAPL\", \"year\": 2005, \"month\": 1, \"__index_level_0__\": 23049, \"open\": 1.38, \"high\": 1.39, \"low\": 1.38, \"close\": 1.38, \"volume\": 182899570, \"date\": \"2005-01-01T00:00:00\"}, {\"ticker\": \"AAPL\", \"year\": 2005, \"month\": 2, \"__index_level_0__\": 23296, \"open\": 1.61, \"high\": 1.62, \"low\": 1.6, \"close\": 1.6, \"volume\": 98360416, \"date\": \"2005-02-01T00:00:00\"}, {\"ticker\": \"AAPL\", \"year\": 2005, \"month\": 3, \"__index_level_0__\": 23582, \"open\": 1.6, \"high\": 1.6, \"low\": 1.59, \"close\": 1.6, \"volume\": 66755682, \"date\": \"2005-03-01T00:00:00\"}, {\"ticker\": \"AAPL\", \"year\": 2005, \"month\": 4, \"__index_level_0__\": 23855, \"open\": 1.5699999999999998, \"high\": 1.58, \"low\": 1.56, \"close\": 1.5699999999999998, \"volume\": 136699458, \"date\": \"2005-04-01T00:00:00\"}, {\"ticker\": \"AAPL\", \"year\": 2005, \"month\": 5, \"__index_level_0__\": 24128, \"open\": 1.45, \"high\": 1.46, \"low\": 1.45, \"close\": 1.45, \"volume\": 73843357, \"date\": \"2005-05-01T00:00:00\"}, {\"ticker\": \"AAPL\", \"year\": 2005, \"month\": 6, \"__index_level_0__\": 24414, \"open\": 1.45, \"high\": 1.45, \"low\": 1.45, \"close\": 1.45, \"volume\": 50225196, \"date\": \"2005-06-01T00:00:00\"}, {\"ticker\": \"AAPL\", \"year\": 2005, \"month\": 7, \"__index_level_0__\": 24674, \"open\": 1.58, \"high\": 1.58, \"low\": 1.56, \"close\": 1.58, \"volume\": 141939679, \"date\": \"2005-07-01T00:00:00\"}, {\"ticker\": \"AAPL\", \"year\": 2005, \"month\": 8, \"__index_level_0__\": 24973, \"open\": 1.72, \"high\": 1.72, \"low\": 1.71, \"close\": 1.72, \"volume\": 57594817, \"date\": \"2005-08-01T00:00:00\"}, {\"ticker\": \"AAPL\", \"year\": 2005, \"month\": 9, \"__index_level_0__\": 25246, \"open\": 1.93, \"high\": 1.94, \"low\": 1.93, \"close\": 1.93, \"volume\": 46318685, \"date\": \"2005-09-01T00:00:00\"}, {\"ticker\": \"AAPL\", \"year\": 2005, \"month\": 10, \"__index_level_0__\": 25519, \"open\": 2.06, \"high\": 2.06, \"low\": 2.05, \"close\": 2.06, \"volume\": 139894671, \"date\": \"2005-10-01T00:00:00\"}, {\"ticker\": \"AAPL\", \"year\": 2005, \"month\": 11, \"__index_level_0__\": 25787, \"open\": 2.52, \"high\": 2.53, \"low\": 2.5, \"close\": 2.51, \"volume\": 63107037, \"date\": \"2005-11-01T00:00:00\"}, {\"ticker\": \"AAPL\", \"year\": 2005, \"month\": 12, \"__index_level_0__\": 26060, \"open\": 2.68, \"high\": 2.69, \"low\": 2.68, \"close\": 2.68, \"volume\": 51409946, \"date\": \"2005-12-01T00:00:00\"}, {\"ticker\": \"AAPL\", \"year\": 2006, \"month\": 1, \"__index_level_0__\": 26320, \"open\": 3.07, \"high\": 3.08, \"low\": 3.06, \"close\": 3.07, \"volume\": 85487836, \"date\": \"2006-01-01T00:00:00\"}, {\"ticker\": \"AAPL\", \"year\": 2006, \"month\": 2, \"__index_level_0__\": 26567, \"open\": 2.71, \"high\": 2.73, \"low\": 2.69, \"close\": 2.71, \"volume\": 65855342, \"date\": \"2006-02-01T00:00:00\"}, {\"ticker\": \"AAPL\", \"year\": 2006, \"month\": 3, \"__index_level_0__\": 26866, \"open\": 2.49, \"high\": 2.49, \"low\": 2.48, \"close\": 2.49, \"volume\": 90945715, \"date\": \"2006-03-01T00:00:00\"}, {\"ticker\": \"AAPL\", \"year\": 2006, \"month\": 4, \"__index_level_0__\": 27113, \"open\": 2.56, \"high\": 2.57, \"low\": 2.55, \"close\": 2.56, \"volume\": 106134224, \"date\": \"2006-04-01T00:00:00\"}, {\"ticker\": \"AAPL\", \"year\": 2006, \"month\": 5, \"__index_level_0__\": 27399, \"open\": 2.6, \"high\": 2.63, \"low\": 2.58, \"close\": 2.6, \"volume\": 47407108, \"date\": \"2006-05-01T00:00:00\"}, {\"ticker\": \"AAPL\", \"year\": 2006, \"month\": 6, \"__index_level_0__\": 27685, \"open\": 2.24, \"high\": 2.25, \"low\": 2.21, \"close\": 2.22, \"volume\": 47817301, \"date\": \"2006-06-01T00:00:00\"}, {\"ticker\": \"AAPL\", \"year\": 2006, \"month\": 7, \"__index_level_0__\": 27940, \"open\": 2.44, \"high\": 2.44, \"low\": 2.42, \"close\": 2.44, \"volume\": 98240597, \"date\": \"2006-07-01T00:00:00\"}, {\"ticker\": \"AAPL\", \"year\": 2006, \"month\": 8, \"__index_level_0__\": 28239, \"open\": 2.49, \"high\": 2.5, \"low\": 2.49, \"close\": 2.49, \"volume\": 67183886, \"date\": \"2006-08-01T00:00:00\"}, {\"ticker\": \"AAPL\", \"year\": 2006, \"month\": 9, \"__index_level_0__\": 28499, \"open\": 2.77, \"high\": 2.77, \"low\": 2.76, \"close\": 2.77, \"volume\": 78347507, \"date\": \"2006-09-01T00:00:00\"}, {\"ticker\": \"AAPL\", \"year\": 2006, \"month\": 10, \"__index_level_0__\": 28785, \"open\": 2.94, \"high\": 2.94, \"low\": 2.94, \"close\": 2.94, \"volume\": 77490532, \"date\": \"2006-10-01T00:00:00\"}, {\"ticker\": \"AAPL\", \"year\": 2006, \"month\": 11, \"__index_level_0__\": 29053, \"open\": 3.32, \"high\": 3.32, \"low\": 3.3, \"close\": 3.31, \"volume\": 32693325, \"date\": \"2006-11-01T00:00:00\"}, {\"ticker\": \"AAPL\", \"year\": 2006, \"month\": 12, \"__index_level_0__\": 29313, \"open\": 3.28, \"high\": 3.29, \"low\": 3.27, \"close\": 3.28, \"volume\": 103862115, \"date\": \"2006-12-01T00:00:00\"}, {\"ticker\": \"AAPL\", \"year\": 2007, \"month\": 1, \"__index_level_0__\": 29573, \"open\": 3.48, \"high\": 3.49, \"low\": 3.46, \"close\": 3.47, \"volume\": 121579500, \"date\": \"2007-01-01T00:00:00\"}, {\"ticker\": \"AAPL\", \"year\": 2007, \"month\": 2, \"__index_level_0__\": 29820, \"open\": 3.24, \"high\": 3.24, \"low\": 3.19, \"close\": 3.2, \"volume\": 48586167, \"date\": \"2007-02-01T00:00:00\"}, {\"ticker\": \"AAPL\", \"year\": 2007, \"month\": 3, \"__index_level_0__\": 30106, \"open\": 3.45, \"high\": 3.45, \"low\": 3.44, \"close\": 3.45, \"volume\": 34058815, \"date\": \"2007-03-01T00:00:00\"}, {\"ticker\": \"AAPL\", \"year\": 2007, \"month\": 4, \"__index_level_0__\": 30366, \"open\": 3.62, \"high\": 3.65, \"low\": 3.59, \"close\": 3.6, \"volume\": 101768877, \"date\": \"2007-04-01T00:00:00\"}, {\"ticker\": \"AAPL\", \"year\": 2007, \"month\": 5, \"__index_level_0__\": 30652, \"open\": 4.34, \"high\": 4.36, \"low\": 4.33, \"close\": 4.34, \"volume\": 92066002, \"date\": \"2007-05-01T00:00:00\"}, {\"ticker\": \"AAPL\", \"year\": 2007, \"month\": 6, \"__index_level_0__\": 30925, \"open\": 4.55, \"high\": 4.55, \"low\": 4.52, \"close\": 4.55, \"volume\": 97992055, \"date\": \"2007-06-01T00:00:00\"}, {\"ticker\": \"AAPL\", \"year\": 2007, \"month\": 7, \"__index_level_0__\": 31198, \"open\": 5.29, \"high\": 5.31, \"low\": 5.26, \"close\": 5.29, \"volume\": 88637122, \"date\": \"2007-07-01T00:00:00\"}, {\"ticker\": \"AAPL\", \"year\": 2007, \"month\": 8, \"__index_level_0__\": 31497, \"open\": 4.98, \"high\": 4.98, \"low\": 4.94, \"close\": 4.95, \"volume\": 79518082, \"date\": \"2007-08-01T00:00:00\"}, {\"ticker\": \"AAPL\", \"year\": 2007, \"month\": 9, \"__index_level_0__\": 31744, \"open\": 5.51, \"high\": 5.53, \"low\": 5.49, \"close\": 5.51, \"volume\": 79372699, \"date\": \"2007-09-01T00:00:00\"}, {\"ticker\": \"AAPL\", \"year\": 2007, \"month\": 10, \"__index_level_0__\": 32043, \"open\": 6.77, \"high\": 6.79, \"low\": 6.73, \"close\": 6.78, \"volume\": 124750640, \"date\": \"2007-10-01T00:00:00\"}, {\"ticker\": \"AAPL\", \"year\": 2007, \"month\": 11, \"__index_level_0__\": 32316, \"open\": 6.85, \"high\": 6.88, \"low\": 6.8100000000000005, \"close\": 6.85, \"volume\": 71108513, \"date\": \"2007-11-01T00:00:00\"}, {\"ticker\": \"AAPL\", \"year\": 2007, \"month\": 12, \"__index_level_0__\": 32576, \"open\": 7.22, \"high\": 7.24, \"low\": 7.19, \"close\": 7.22, \"volume\": 64767241, \"date\": \"2007-12-01T00:00:00\"}, {\"ticker\": \"AAPL\", \"year\": 2008, \"month\": 1, \"__index_level_0__\": 32849, \"open\": 7.14, \"high\": 7.15, \"low\": 7.1, \"close\": 7.14, \"volume\": 112539042, \"date\": \"2008-01-01T00:00:00\"}, {\"ticker\": \"AAPL\", \"year\": 2008, \"month\": 2, \"__index_level_0__\": 33109, \"open\": 4.86, \"high\": 4.87, \"low\": 4.8100000000000005, \"close\": 4.84, \"volume\": 76534864, \"date\": \"2008-02-01T00:00:00\"}, {\"ticker\": \"AAPL\", \"year\": 2008, \"month\": 3, \"__index_level_0__\": 33369, \"open\": 5.19, \"high\": 5.2, \"low\": 5.17, \"close\": 5.19, \"volume\": 54523735, \"date\": \"2008-03-01T00:00:00\"}, {\"ticker\": \"AAPL\", \"year\": 2008, \"month\": 4, \"__index_level_0__\": 33655, \"open\": 6.38, \"high\": 6.42, \"low\": 6.36, \"close\": 6.38, \"volume\": 72250689, \"date\": \"2008-04-01T00:00:00\"}, {\"ticker\": \"AAPL\", \"year\": 2008, \"month\": 5, \"__index_level_0__\": 33928, \"open\": 6.83, \"high\": 6.86, \"low\": 6.82, \"close\": 6.83, \"volume\": 52694299, \"date\": \"2008-05-01T00:00:00\"}, {\"ticker\": \"AAPL\", \"year\": 2008, \"month\": 6, \"__index_level_0__\": 34201, \"open\": 6.77, \"high\": 6.78, \"low\": 6.74, \"close\": 6.77, \"volume\": 93740962, \"date\": \"2008-06-01T00:00:00\"}, {\"ticker\": \"AAPL\", \"year\": 2008, \"month\": 7, \"__index_level_0__\": 34487, \"open\": 6.45, \"high\": 6.46, \"low\": 6.41, \"close\": 6.45, \"volume\": 99262100, \"date\": \"2008-07-01T00:00:00\"}, {\"ticker\": \"AAPL\", \"year\": 2008, \"month\": 8, \"__index_level_0__\": 34760, \"open\": 6.43, \"high\": 6.44, \"low\": 6.4, \"close\": 6.43, \"volume\": 33347391, \"date\": \"2008-08-01T00:00:00\"}, {\"ticker\": \"AAPL\", \"year\": 2008, \"month\": 9, \"__index_level_0__\": 35033, \"open\": 6.17, \"high\": 6.19, \"low\": 6.14, \"close\": 6.17, \"volume\": 100535883, \"date\": \"2008-09-01T00:00:00\"}, {\"ticker\": \"AAPL\", \"year\": 2008, \"month\": 10, \"__index_level_0__\": 35332, \"open\": 4.15, \"high\": 4.15, \"low\": 3.97, \"close\": 4.01, \"volume\": 158706975, \"date\": \"2008-10-01T00:00:00\"}, {\"ticker\": \"AAPL\", \"year\": 2008, \"month\": 11, \"__index_level_0__\": 35579, \"open\": 3.97, \"high\": 3.99, \"low\": 3.95, \"close\": 3.97, \"volume\": 53689580, \"date\": \"2008-11-01T00:00:00\"}, {\"ticker\": \"AAPL\", \"year\": 2008, \"month\": 12, \"__index_level_0__\": 35865, \"open\": 3.68, \"high\": 3.69, \"low\": 3.63, \"close\": 3.68, \"volume\": 57595496, \"date\": \"2008-12-01T00:00:00\"}, {\"ticker\": \"AAPL\", \"year\": 2009, \"month\": 1, \"__index_level_0__\": 36125, \"open\": 3.46, \"high\": 3.46, \"low\": 3.42, \"close\": 3.46, \"volume\": 100621766, \"date\": \"2009-01-01T00:00:00\"}, {\"ticker\": \"AAPL\", \"year\": 2009, \"month\": 2, \"__index_level_0__\": 36372, \"open\": 3.67, \"high\": 3.67, \"low\": 3.66, \"close\": 3.67, \"volume\": 33322219, \"date\": \"2009-02-01T00:00:00\"}, {\"ticker\": \"AAPL\", \"year\": 2009, \"month\": 3, \"__index_level_0__\": 36658, \"open\": 3.9, \"high\": 3.92, \"low\": 3.89, \"close\": 3.92, \"volume\": 36234037, \"date\": \"2009-03-01T00:00:00\"}, {\"ticker\": \"AAPL\", \"year\": 2009, \"month\": 4, \"__index_level_0__\": 36931, \"open\": 4.52, \"high\": 4.54, \"low\": 4.51, \"close\": 4.52, \"volume\": 52165211, \"date\": \"2009-04-01T00:00:00\"}, {\"ticker\": \"AAPL\", \"year\": 2009, \"month\": 5, \"__index_level_0__\": 37191, \"open\": 4.83, \"high\": 4.85, \"low\": 4.82, \"close\": 4.85, \"volume\": 28045969, \"date\": \"2009-05-01T00:00:00\"}, {\"ticker\": \"AAPL\", \"year\": 2009, \"month\": 6, \"__index_level_0__\": 37477, \"open\": 5.18, \"high\": 5.22, \"low\": 5.15, \"close\": 5.17, \"volume\": 47470122, \"date\": \"2009-06-01T00:00:00\"}, {\"ticker\": \"AAPL\", \"year\": 2009, \"month\": 7, \"__index_level_0__\": 37763, \"open\": 5.88, \"high\": 5.89, \"low\": 5.86, \"close\": 5.88, \"volume\": 57856673, \"date\": \"2009-07-01T00:00:00\"}, {\"ticker\": \"AAPL\", \"year\": 2009, \"month\": 8, \"__index_level_0__\": 38036, \"open\": 6.15, \"high\": 6.15, \"low\": 6.08, \"close\": 6.1, \"volume\": 29629544, \"date\": \"2009-08-01T00:00:00\"}, {\"ticker\": \"AAPL\", \"year\": 2009, \"month\": 9, \"__index_level_0__\": 38309, \"open\": 6.72, \"high\": 6.74, \"low\": 6.7, \"close\": 6.72, \"volume\": 43684445, \"date\": \"2009-09-01T00:00:00\"}, {\"ticker\": \"AAPL\", \"year\": 2009, \"month\": 10, \"__index_level_0__\": 38595, \"open\": 7.43, \"high\": 7.45, \"low\": 7.39, \"close\": 7.43, \"volume\": 78993075, \"date\": \"2009-10-01T00:00:00\"}, {\"ticker\": \"AAPL\", \"year\": 2009, \"month\": 11, \"__index_level_0__\": 38855, \"open\": 7.41, \"high\": 7.42, \"low\": 7.41, \"close\": 7.41, \"volume\": 35070469, \"date\": \"2009-11-01T00:00:00\"}, {\"ticker\": \"AAPL\", \"year\": 2009, \"month\": 12, \"__index_level_0__\": 39141, \"open\": 7.61, \"high\": 7.64, \"low\": 7.6, \"close\": 7.61, \"volume\": 48316282, \"date\": \"2009-12-01T00:00:00\"}, {\"ticker\": \"AAPL\", \"year\": 2010, \"month\": 1, \"__index_level_0__\": 39388, \"open\": 7.68, \"high\": 7.689999999999999, \"low\": 7.67, \"close\": 7.68, \"volume\": 65974776, \"date\": \"2010-01-01T00:00:00\"}, {\"ticker\": \"AAPL\", \"year\": 2010, \"month\": 2, \"__index_level_0__\": 39635, \"open\": 7.32, \"high\": 7.32, \"low\": 7.31, \"close\": 7.32, \"volume\": 35674905, \"date\": \"2010-02-01T00:00:00\"}, {\"ticker\": \"AAPL\", \"year\": 2010, \"month\": 3, \"__index_level_0__\": 39934, \"open\": 8.45, \"high\": 8.48, \"low\": 8.42, \"close\": 8.45, \"volume\": 50658174, \"date\": \"2010-03-01T00:00:00\"}, {\"ticker\": \"AAPL\", \"year\": 2010, \"month\": 4, \"__index_level_0__\": 40207, \"open\": 9.7, \"high\": 9.73, \"low\": 9.66, \"close\": 9.69, \"volume\": 76021568, \"date\": \"2010-04-01T00:00:00\"}, {\"ticker\": \"AAPL\", \"year\": 2010, \"month\": 5, \"__index_level_0__\": 40467, \"open\": 9.55, \"high\": 9.56, \"low\": 9.54, \"close\": 9.55, \"volume\": 76160728, \"date\": \"2010-05-01T00:00:00\"}, {\"ticker\": \"AAPL\", \"year\": 2010, \"month\": 6, \"__index_level_0__\": 40753, \"open\": 9.95, \"high\": 9.96, \"low\": 9.9, \"close\": 9.95, \"volume\": 48428513, \"date\": \"2010-06-01T00:00:00\"}, {\"ticker\": \"AAPL\", \"year\": 2010, \"month\": 7, \"__index_level_0__\": 41026, \"open\": 9.48, \"high\": 9.49, \"low\": 9.43, \"close\": 9.48, \"volume\": 88020135, \"date\": \"2010-07-01T00:00:00\"}, {\"ticker\": \"AAPL\", \"year\": 2010, \"month\": 8, \"__index_level_0__\": 41312, \"open\": 9.41, \"high\": 9.43, \"low\": 9.37, \"close\": 9.41, \"volume\": 34976221, \"date\": \"2010-08-01T00:00:00\"}, {\"ticker\": \"AAPL\", \"year\": 2010, \"month\": 9, \"__index_level_0__\": 41585, \"open\": 10.49, \"high\": 10.52, \"low\": 10.48, \"close\": 10.5, \"volume\": 74455885, \"date\": \"2010-09-01T00:00:00\"}, {\"ticker\": \"AAPL\", \"year\": 2010, \"month\": 10, \"__index_level_0__\": 41858, \"open\": 11.37, \"high\": 11.39, \"low\": 11.32, \"close\": 11.35, \"volume\": 67855396, \"date\": \"2010-10-01T00:00:00\"}, {\"ticker\": \"AAPL\", \"year\": 2010, \"month\": 11, \"__index_level_0__\": 42131, \"open\": 11.46, \"high\": 11.47, \"low\": 11.44, \"close\": 11.45, \"volume\": 27727728, \"date\": \"2010-11-01T00:00:00\"}, {\"ticker\": \"AAPL\", \"year\": 2010, \"month\": 12, \"__index_level_0__\": 42417, \"open\": 11.64, \"high\": 11.66, \"low\": 11.63, \"close\": 11.64, \"volume\": 27020938, \"date\": \"2010-12-01T00:00:00\"}, {\"ticker\": \"AAPL\", \"year\": 2011, \"month\": 1, \"__index_level_0__\": 42677, \"open\": 12.44, \"high\": 12.45, \"low\": 12.41, \"close\": 12.44, \"volume\": 122552521, \"date\": \"2011-01-01T00:00:00\"}, {\"ticker\": \"AAPL\", \"year\": 2011, \"month\": 2, \"__index_level_0__\": 42924, \"open\": 13.0, \"high\": 13.03, \"low\": 12.98, \"close\": 13.0, \"volume\": 56865949, \"date\": \"2011-02-01T00:00:00\"}, {\"ticker\": \"AAPL\", \"year\": 2011, \"month\": 3, \"__index_level_0__\": 43223, \"open\": 12.9, \"high\": 12.91, \"low\": 12.82, \"close\": 12.85, \"volume\": 44580221, \"date\": \"2011-03-01T00:00:00\"}, {\"ticker\": \"AAPL\", \"year\": 2011, \"month\": 4, \"__index_level_0__\": 43483, \"open\": 12.67, \"high\": 12.68, \"low\": 12.61, \"close\": 12.62, \"volume\": 52480519, \"date\": \"2011-04-01T00:00:00\"}, {\"ticker\": \"AAPL\", \"year\": 2011, \"month\": 5, \"__index_level_0__\": 43756, \"open\": 12.51, \"high\": 12.56, \"low\": 12.47, \"close\": 12.51, \"volume\": 24351439, \"date\": \"2011-05-01T00:00:00\"}, {\"ticker\": \"AAPL\", \"year\": 2011, \"month\": 6, \"__index_level_0__\": 44042, \"open\": 12.54, \"high\": 12.57, \"low\": 12.49, \"close\": 12.54, \"volume\": 30471770, \"date\": \"2011-06-01T00:00:00\"}, {\"ticker\": \"AAPL\", \"year\": 2011, \"month\": 7, \"__index_level_0__\": 44302, \"open\": 14.42, \"high\": 14.44, \"low\": 14.41, \"close\": 14.42, \"volume\": 79258431, \"date\": \"2011-07-01T00:00:00\"}, {\"ticker\": \"AAPL\", \"year\": 2011, \"month\": 8, \"__index_level_0__\": 44601, \"open\": 14.2, \"high\": 14.26, \"low\": 14.14, \"close\": 14.16, \"volume\": 52658326, \"date\": \"2011-08-01T00:00:00\"}, {\"ticker\": \"AAPL\", \"year\": 2011, \"month\": 9, \"__index_level_0__\": 44874, \"open\": 15.09, \"high\": 15.1, \"low\": 15.03, \"close\": 15.09, \"volume\": 40050192, \"date\": \"2011-09-01T00:00:00\"}, {\"ticker\": \"AAPL\", \"year\": 2011, \"month\": 10, \"__index_level_0__\": 45147, \"open\": 15.18, \"high\": 15.23, \"low\": 15.15, \"close\": 15.19, \"volume\": 58099167, \"date\": \"2011-10-01T00:00:00\"}, {\"ticker\": \"AAPL\", \"year\": 2011, \"month\": 11, \"__index_level_0__\": 45420, \"open\": 14.51, \"high\": 14.57, \"low\": 14.49, \"close\": 14.51, \"volume\": 34485325, \"date\": \"2011-11-01T00:00:00\"}, {\"ticker\": \"AAPL\", \"year\": 2011, \"month\": 12, \"__index_level_0__\": 45693, \"open\": 14.58, \"high\": 14.61, \"low\": 14.56, \"close\": 14.58, \"volume\": 21126686, \"date\": \"2011-12-01T00:00:00\"}, {\"ticker\": \"AAPL\", \"year\": 2012, \"month\": 1, \"__index_level_0__\": 45953, \"open\": 16.35, \"high\": 16.36, \"low\": 16.3, \"close\": 16.35, \"volume\": 71383830, \"date\": \"2012-01-01T00:00:00\"}, {\"ticker\": \"AAPL\", \"year\": 2012, \"month\": 2, \"__index_level_0__\": 46213, \"open\": 19.46, \"high\": 19.55, \"low\": 19.4, \"close\": 19.45, \"volume\": 60551911, \"date\": \"2012-02-01T00:00:00\"}, {\"ticker\": \"AAPL\", \"year\": 2012, \"month\": 3, \"__index_level_0__\": 46499, \"open\": 22.13, \"high\": 22.19, \"low\": 22.1, \"close\": 22.13, \"volume\": 50532727, \"date\": \"2012-03-01T00:00:00\"}, {\"ticker\": \"AAPL\", \"year\": 2012, \"month\": 4, \"__index_level_0__\": 46759, \"open\": 22.96, \"high\": 23.0, \"low\": 22.9, \"close\": 22.96, \"volume\": 71985466, \"date\": \"2012-04-01T00:00:00\"}, {\"ticker\": \"AAPL\", \"year\": 2012, \"month\": 5, \"__index_level_0__\": 47045, \"open\": 21.26, \"high\": 21.31, \"low\": 21.22, \"close\": 21.26, \"volume\": 35003801, \"date\": \"2012-05-01T00:00:00\"}, {\"ticker\": \"AAPL\", \"year\": 2012, \"month\": 6, \"__index_level_0__\": 47318, \"open\": 21.03, \"high\": 21.07, \"low\": 20.99, \"close\": 21.02, \"volume\": 22022833, \"date\": \"2012-06-01T00:00:00\"}, {\"ticker\": \"AAPL\", \"year\": 2012, \"month\": 7, \"__index_level_0__\": 47591, \"open\": 22.06, \"high\": 22.13, \"low\": 22.02, \"close\": 22.06, \"volume\": 69665337, \"date\": \"2012-07-01T00:00:00\"}, {\"ticker\": \"AAPL\", \"year\": 2012, \"month\": 8, \"__index_level_0__\": 47890, \"open\": 24.27, \"high\": 24.31, \"low\": 24.16, \"close\": 24.2, \"volume\": 33127094, \"date\": \"2012-08-01T00:00:00\"}, {\"ticker\": \"AAPL\", \"year\": 2012, \"month\": 9, \"__index_level_0__\": 48137, \"open\": 25.17, \"high\": 25.18, \"low\": 25.15, \"close\": 25.17, \"volume\": 35275555, \"date\": \"2012-09-01T00:00:00\"}, {\"ticker\": \"AAPL\", \"year\": 2012, \"month\": 10, \"__index_level_0__\": 48410, \"open\": 24.13, \"high\": 24.16, \"low\": 24.04, \"close\": 24.13, \"volume\": 44467836, \"date\": \"2012-10-01T00:00:00\"}, {\"ticker\": \"AAPL\", \"year\": 2012, \"month\": 11, \"__index_level_0__\": 48683, \"open\": 21.49, \"high\": 21.53, \"low\": 21.43, \"close\": 21.49, \"volume\": 42869239, \"date\": \"2012-11-01T00:00:00\"}, {\"ticker\": \"AAPL\", \"year\": 2012, \"month\": 12, \"__index_level_0__\": 48943, \"open\": 21.2, \"high\": 21.23, \"low\": 21.13, \"close\": 21.15, \"volume\": 74429579, \"date\": \"2012-12-01T00:00:00\"}, {\"ticker\": \"AAPL\", \"year\": 2013, \"month\": 1, \"__index_level_0__\": 49216, \"open\": 19.77, \"high\": 19.82, \"low\": 19.66, \"close\": 19.71, \"volume\": 109550987, \"date\": \"2013-01-01T00:00:00\"}, {\"ticker\": \"AAPL\", \"year\": 2013, \"month\": 2, \"__index_level_0__\": 49463, \"open\": 17.28, \"high\": 17.31, \"low\": 17.22, \"close\": 17.28, \"volume\": 64160894, \"date\": \"2013-02-01T00:00:00\"}, {\"ticker\": \"AAPL\", \"year\": 2013, \"month\": 3, \"__index_level_0__\": 49723, \"open\": 16.72, \"high\": 16.78, \"low\": 16.69, \"close\": 16.72, \"volume\": 46394222, \"date\": \"2013-03-01T00:00:00\"}, {\"ticker\": \"AAPL\", \"year\": 2013, \"month\": 4, \"__index_level_0__\": 50009, \"open\": 15.87, \"high\": 15.9, \"low\": 15.81, \"close\": 15.87, \"volume\": 68486859, \"date\": \"2013-04-01T00:00:00\"}, {\"ticker\": \"AAPL\", \"year\": 2013, \"month\": 5, \"__index_level_0__\": 50295, \"open\": 16.6, \"high\": 16.63, \"low\": 16.58, \"close\": 16.6, \"volume\": 30188928, \"date\": \"2013-05-01T00:00:00\"}, {\"ticker\": \"AAPL\", \"year\": 2013, \"month\": 6, \"__index_level_0__\": 50555, \"open\": 16.2, \"high\": 16.22, \"low\": 16.15, \"close\": 16.2, \"volume\": 28808367, \"date\": \"2013-06-01T00:00:00\"}, {\"ticker\": \"AAPL\", \"year\": 2013, \"month\": 7, \"__index_level_0__\": 50841, \"open\": 16.31, \"high\": 16.33, \"low\": 16.24, \"close\": 16.3, \"volume\": 32119472, \"date\": \"2013-07-01T00:00:00\"}, {\"ticker\": \"AAPL\", \"year\": 2013, \"month\": 8, \"__index_level_0__\": 51124, \"open\": 18.33, \"high\": 18.34, \"low\": 18.3, \"close\": 18.33, \"volume\": 48086640, \"date\": \"2013-08-01T00:00:00\"}, {\"ticker\": \"AAPL\", \"year\": 2013, \"month\": 9, \"__index_level_0__\": 51384, \"open\": 18.13, \"high\": 18.14, \"low\": 18.1, \"close\": 18.13, \"volume\": 61829117, \"date\": \"2013-09-01T00:00:00\"}, {\"ticker\": \"AAPL\", \"year\": 2013, \"month\": 10, \"__index_level_0__\": 51683, \"open\": 19.15, \"high\": 19.25, \"low\": 18.99, \"close\": 19.01, \"volume\": 37287817, \"date\": \"2013-10-01T00:00:00\"}, {\"ticker\": \"AAPL\", \"year\": 2013, \"month\": 11, \"__index_level_0__\": 51943, \"open\": 19.92, \"high\": 19.94, \"low\": 19.88, \"close\": 19.92, \"volume\": 25294668, \"date\": \"2013-11-01T00:00:00\"}, {\"ticker\": \"AAPL\", \"year\": 2013, \"month\": 12, \"__index_level_0__\": 52216, \"open\": 20.45, \"high\": 20.54, \"low\": 20.41, \"close\": 20.43, \"volume\": 31605994, \"date\": \"2013-12-01T00:00:00\"}, {\"ticker\": \"AAPL\", \"year\": 2014, \"month\": 1, \"__index_level_0__\": 52489, \"open\": 19.98, \"high\": 20.0, \"low\": 19.95, \"close\": 19.98, \"volume\": 55859412, \"date\": \"2014-01-01T00:00:00\"}, {\"ticker\": \"AAPL\", \"year\": 2014, \"month\": 2, \"__index_level_0__\": 52736, \"open\": 19.65, \"high\": 19.68, \"low\": 19.61, \"close\": 19.65, \"volume\": 16213785, \"date\": \"2014-02-01T00:00:00\"}, {\"ticker\": \"AAPL\", \"year\": 2014, \"month\": 3, \"__index_level_0__\": 53009, \"open\": 19.6, \"high\": 19.6, \"low\": 19.53, \"close\": 19.6, \"volume\": 19005119, \"date\": \"2014-03-01T00:00:00\"}, {\"ticker\": \"AAPL\", \"year\": 2014, \"month\": 4, \"__index_level_0__\": 53282, \"open\": 21.39, \"high\": 21.4, \"low\": 21.34, \"close\": 21.39, \"volume\": 45663247, \"date\": \"2014-04-01T00:00:00\"}, {\"ticker\": \"AAPL\", \"year\": 2014, \"month\": 5, \"__index_level_0__\": 53555, \"open\": 22.95, \"high\": 23.0, \"low\": 22.92, \"close\": 22.95, \"volume\": 18992330, \"date\": \"2014-05-01T00:00:00\"}, {\"ticker\": \"AAPL\", \"year\": 2014, \"month\": 6, \"__index_level_0__\": 53828, \"open\": 23.68, \"high\": 23.76, \"low\": 23.59, \"close\": 23.63, \"volume\": 85390291, \"date\": \"2014-06-01T00:00:00\"}, {\"ticker\": \"AAPL\", \"year\": 2014, \"month\": 7, \"__index_level_0__\": 54114, \"open\": 24.83, \"high\": 24.86, \"low\": 24.72, \"close\": 24.76, \"volume\": 15699454, \"date\": \"2014-07-01T00:00:00\"}, {\"ticker\": \"AAPL\", \"year\": 2014, \"month\": 8, \"__index_level_0__\": 54387, \"open\": 25.71, \"high\": 25.72, \"low\": 25.63, \"close\": 25.66, \"volume\": 10227910, \"date\": \"2014-08-01T00:00:00\"}, {\"ticker\": \"AAPL\", \"year\": 2014, \"month\": 9, \"__index_level_0__\": 54660, \"open\": 25.91, \"high\": 25.93, \"low\": 25.85, \"close\": 25.91, \"volume\": 29544850, \"date\": \"2014-09-01T00:00:00\"}, {\"ticker\": \"AAPL\", \"year\": 2014, \"month\": 10, \"__index_level_0__\": 54959, \"open\": 27.0, \"high\": 27.01, \"low\": 26.94, \"close\": 26.99, \"volume\": 22195932, \"date\": \"2014-10-01T00:00:00\"}, {\"ticker\": \"AAPL\", \"year\": 2014, \"month\": 11, \"__index_level_0__\": 55206, \"open\": 29.83, \"high\": 29.93, \"low\": 29.81, \"close\": 29.83, \"volume\": 11485979, \"date\": \"2014-11-01T00:00:00\"}, {\"ticker\": \"AAPL\", \"year\": 2014, \"month\": 12, \"__index_level_0__\": 55492, \"open\": 29.7, \"high\": 29.81, \"low\": 29.15, \"close\": 29.22, \"volume\": 23182702, \"date\": \"2014-12-01T00:00:00\"}, {\"ticker\": \"AAPL\", \"year\": 2015, \"month\": 1, \"__index_level_0__\": 55752, \"open\": 29.9, \"high\": 30.0, \"low\": 29.8, \"close\": 29.9, \"volume\": 33528289, \"date\": \"2015-01-01T00:00:00\"}, {\"ticker\": \"AAPL\", \"year\": 2015, \"month\": 2, \"__index_level_0__\": 55999, \"open\": 33.36, \"high\": 33.4, \"low\": 33.21, \"close\": 33.36, \"volume\": 15696500, \"date\": \"2015-02-01T00:00:00\"}, {\"ticker\": \"AAPL\", \"year\": 2015, \"month\": 3, \"__index_level_0__\": 56285, \"open\": 32.48, \"high\": 32.57, \"low\": 32.42, \"close\": 32.49, \"volume\": 14208038, \"date\": \"2015-03-01T00:00:00\"}, {\"ticker\": \"AAPL\", \"year\": 2015, \"month\": 4, \"__index_level_0__\": 56558, \"open\": 33.61, \"high\": 33.63, \"low\": 33.16, \"close\": 33.24, \"volume\": 30432221, \"date\": \"2015-04-01T00:00:00\"}, {\"ticker\": \"AAPL\", \"year\": 2015, \"month\": 5, \"__index_level_0__\": 56818, \"open\": 33.21, \"high\": 33.24, \"low\": 33.18, \"close\": 33.21, \"volume\": 11625033, \"date\": \"2015-05-01T00:00:00\"}, {\"ticker\": \"AAPL\", \"year\": 2015, \"month\": 6, \"__index_level_0__\": 57104, \"open\": 32.84, \"high\": 32.86, \"low\": 32.71, \"close\": 32.74, \"volume\": 13128598, \"date\": \"2015-06-01T00:00:00\"}, {\"ticker\": \"AAPL\", \"year\": 2015, \"month\": 7, \"__index_level_0__\": 57390, \"open\": 33.21, \"high\": 33.24, \"low\": 33.16, \"close\": 33.18, \"volume\": 32912798, \"date\": \"2015-07-01T00:00:00\"}, {\"ticker\": \"AAPL\", \"year\": 2015, \"month\": 8, \"__index_level_0__\": 57663, \"open\": 30.44, \"high\": 30.64, \"low\": 30.26, \"close\": 30.44, \"volume\": 33729729, \"date\": \"2015-08-01T00:00:00\"}, {\"ticker\": \"AAPL\", \"year\": 2015, \"month\": 9, \"__index_level_0__\": 57936, \"open\": 29.14, \"high\": 29.22, \"low\": 29.06, \"close\": 29.11, \"volume\": 16864072, \"date\": \"2015-09-01T00:00:00\"}, {\"ticker\": \"AAPL\", \"year\": 2015, \"month\": 10, \"__index_level_0__\": 58222, \"open\": 30.24, \"high\": 30.3, \"low\": 30.14, \"close\": 30.23, \"volume\": 17075006, \"date\": \"2015-10-01T00:00:00\"}, {\"ticker\": \"AAPL\", \"year\": 2015, \"month\": 11, \"__index_level_0__\": 58482, \"open\": 30.83, \"high\": 30.95, \"low\": 30.78, \"close\": 30.83, \"volume\": 11917732, \"date\": \"2015-11-01T00:00:00\"}, {\"ticker\": \"AAPL\", \"year\": 2015, \"month\": 12, \"__index_level_0__\": 58768, \"open\": 29.78, \"high\": 29.96, \"low\": 29.73, \"close\": 29.78, \"volume\": 13155306, \"date\": \"2015-12-01T00:00:00\"}, {\"ticker\": \"AAPL\", \"year\": 2016, \"month\": 1, \"__index_level_0__\": 59015, \"open\": 26.43, \"high\": 26.46, \"low\": 26.14, \"close\": 26.33, \"volume\": 24078210, \"date\": \"2016-01-01T00:00:00\"}, {\"ticker\": \"AAPL\", \"year\": 2016, \"month\": 2, \"__index_level_0__\": 59275, \"open\": 24.71, \"high\": 24.72, \"low\": 24.48, \"close\": 24.53, \"volume\": 7621278, \"date\": \"2016-02-01T00:00:00\"}, {\"ticker\": \"AAPL\", \"year\": 2016, \"month\": 3, \"__index_level_0__\": 59561, \"open\": 27.49, \"high\": 27.6, \"low\": 27.42, \"close\": 27.49, \"volume\": 12338904, \"date\": \"2016-03-01T00:00:00\"}, {\"ticker\": \"AAPL\", \"year\": 2016, \"month\": 4, \"__index_level_0__\": 59834, \"open\": 28.05, \"high\": 28.09, \"low\": 28.02, \"close\": 28.05, \"volume\": 27908156, \"date\": \"2016-04-01T00:00:00\"}, {\"ticker\": \"AAPL\", \"year\": 2016, \"month\": 5, \"__index_level_0__\": 60107, \"open\": 25.15, \"high\": 25.18, \"low\": 25.08, \"close\": 25.15, \"volume\": 11028343, \"date\": \"2016-05-01T00:00:00\"}, {\"ticker\": \"AAPL\", \"year\": 2016, \"month\": 6, \"__index_level_0__\": 60393, \"open\": 24.98, \"high\": 25.47, \"low\": 24.93, \"close\": 24.98, \"volume\": 12750403, \"date\": \"2016-06-01T00:00:00\"}, {\"ticker\": \"AAPL\", \"year\": 2016, \"month\": 7, \"__index_level_0__\": 60653, \"open\": 26.09, \"high\": 26.13, \"low\": 26.06, \"close\": 26.09, \"volume\": 23675270, \"date\": \"2016-07-01T00:00:00\"}, {\"ticker\": \"AAPL\", \"year\": 2016, \"month\": 8, \"__index_level_0__\": 60952, \"open\": 27.5, \"high\": 27.55, \"low\": 27.46, \"close\": 27.5, \"volume\": 6656585, \"date\": \"2016-08-01T00:00:00\"}, {\"ticker\": \"AAPL\", \"year\": 2016, \"month\": 9, \"__index_level_0__\": 61225, \"open\": 28.84, \"high\": 29.04, \"low\": 28.82, \"close\": 28.89, \"volume\": 21323544, \"date\": \"2016-09-01T00:00:00\"}, {\"ticker\": \"AAPL\", \"year\": 2016, \"month\": 10, \"__index_level_0__\": 61498, \"open\": 29.54, \"high\": 29.67, \"low\": 29.5, \"close\": 29.56, \"volume\": 14927678, \"date\": \"2016-10-01T00:00:00\"}, {\"ticker\": \"AAPL\", \"year\": 2016, \"month\": 11, \"__index_level_0__\": 61771, \"open\": 28.36, \"high\": 28.44, \"low\": 28.24, \"close\": 28.26, \"volume\": 14235758, \"date\": \"2016-11-01T00:00:00\"}, {\"ticker\": \"AAPL\", \"year\": 2016, \"month\": 12, \"__index_level_0__\": 62044, \"open\": 29.44, \"high\": 29.5, \"low\": 29.38, \"close\": 29.44, \"volume\": 10550029, \"date\": \"2016-12-01T00:00:00\"}, {\"ticker\": \"AAPL\", \"year\": 2017, \"month\": 1, \"__index_level_0__\": 62304, \"open\": 30.54, \"high\": 30.61, \"low\": 30.5, \"close\": 30.54, \"volume\": 7975068, \"date\": \"2017-01-01T00:00:00\"}, {\"ticker\": \"AAPL\", \"year\": 2017, \"month\": 2, \"__index_level_0__\": 62551, \"open\": 34.34, \"high\": 34.36, \"low\": 34.31, \"close\": 34.34, \"volume\": 24804174, \"date\": \"2017-02-01T00:00:00\"}, {\"ticker\": \"AAPL\", \"year\": 2017, \"month\": 3, \"__index_level_0__\": 62850, \"open\": 36.1, \"high\": 36.12, \"low\": 36.06, \"close\": 36.1, \"volume\": 11569369, \"date\": \"2017-03-01T00:00:00\"}, {\"ticker\": \"AAPL\", \"year\": 2017, \"month\": 4, \"__index_level_0__\": 63097, \"open\": 36.35, \"high\": 36.36, \"low\": 36.31, \"close\": 36.35, \"volume\": 5003775, \"date\": \"2017-04-01T00:00:00\"}, {\"ticker\": \"AAPL\", \"year\": 2017, \"month\": 5, \"__index_level_0__\": 63383, \"open\": 39.06, \"high\": 39.16, \"low\": 38.99, \"close\": 39.06, \"volume\": 8878003, \"date\": \"2017-05-01T00:00:00\"}, {\"ticker\": \"AAPL\", \"year\": 2017, \"month\": 6, \"__index_level_0__\": 63669, \"open\": 38.92, \"high\": 38.99, \"low\": 38.86, \"close\": 38.92, \"volume\": 18860325, \"date\": \"2017-06-01T00:00:00\"}, {\"ticker\": \"AAPL\", \"year\": 2017, \"month\": 7, \"__index_level_0__\": 63929, \"open\": 38.44, \"high\": 38.49, \"low\": 38.38, \"close\": 38.44, \"volume\": 5546035, \"date\": \"2017-07-01T00:00:00\"}, {\"ticker\": \"AAPL\", \"year\": 2017, \"month\": 8, \"__index_level_0__\": 64228, \"open\": 41.09, \"high\": 41.13, \"low\": 41.01, \"close\": 41.09, \"volume\": 17798424, \"date\": \"2017-08-01T00:00:00\"}, {\"ticker\": \"AAPL\", \"year\": 2017, \"month\": 9, \"__index_level_0__\": 64488, \"open\": 41.2, \"high\": 41.23, \"low\": 41.0, \"close\": 41.04, \"volume\": 11916068, \"date\": \"2017-09-01T00:00:00\"}, {\"ticker\": \"AAPL\", \"year\": 2017, \"month\": 10, \"__index_level_0__\": 64774, \"open\": 42.34, \"high\": 42.41, \"low\": 42.26, \"close\": 42.34, \"volume\": 8705128, \"date\": \"2017-10-01T00:00:00\"}, {\"ticker\": \"AAPL\", \"year\": 2017, \"month\": 11, \"__index_level_0__\": 65047, \"open\": 43.99, \"high\": 44.06, \"low\": 43.97, \"close\": 44.06, \"volume\": 13973136, \"date\": \"2017-11-01T00:00:00\"}, {\"ticker\": \"AAPL\", \"year\": 2017, \"month\": 12, \"__index_level_0__\": 65307, \"open\": 44.27, \"high\": 44.3, \"low\": 44.2, \"close\": 44.27, \"volume\": 10486053, \"date\": \"2017-12-01T00:00:00\"}, {\"ticker\": \"AAPL\", \"year\": 2018, \"month\": 1, \"__index_level_0__\": 65580, \"open\": 44.99, \"high\": 45.02, \"low\": 44.95, \"close\": 44.99, \"volume\": 9029335, \"date\": \"2018-01-01T00:00:00\"}, {\"ticker\": \"AAPL\", \"year\": 2018, \"month\": 2, \"__index_level_0__\": 65827, \"open\": 45.07, \"high\": 45.15, \"low\": 45.05, \"close\": 45.08, \"volume\": 15291749, \"date\": \"2018-02-01T00:00:00\"}, {\"ticker\": \"AAPL\", \"year\": 2018, \"month\": 3, \"__index_level_0__\": 66100, \"open\": 45.79, \"high\": 45.87, \"low\": 45.71, \"close\": 45.79, \"volume\": 7487460, \"date\": \"2018-03-01T00:00:00\"}, {\"ticker\": \"AAPL\", \"year\": 2018, \"month\": 4, \"__index_level_0__\": 66373, \"open\": 44.69, \"high\": 44.73, \"low\": 44.6, \"close\": 44.68, \"volume\": 14650144, \"date\": \"2018-04-01T00:00:00\"}, {\"ticker\": \"AAPL\", \"year\": 2018, \"month\": 5, \"__index_level_0__\": 66659, \"open\": 47.52, \"high\": 47.59, \"low\": 47.45, \"close\": 47.52, \"volume\": 16200606, \"date\": \"2018-05-01T00:00:00\"}, {\"ticker\": \"AAPL\", \"year\": 2018, \"month\": 6, \"__index_level_0__\": 66932, \"open\": 48.53, \"high\": 48.55, \"low\": 48.32, \"close\": 48.51, \"volume\": 9919010, \"date\": \"2018-06-01T00:00:00\"}, {\"ticker\": \"AAPL\", \"year\": 2018, \"month\": 7, \"__index_level_0__\": 67205, \"open\": 48.8, \"high\": 48.99, \"low\": 48.72, \"close\": 48.79, \"volume\": 4450587, \"date\": \"2018-07-01T00:00:00\"}, {\"ticker\": \"AAPL\", \"year\": 2018, \"month\": 8, \"__index_level_0__\": 67504, \"open\": 57.11, \"high\": 57.21, \"low\": 56.94, \"close\": 57.11, \"volume\": 11044597, \"date\": \"2018-08-01T00:00:00\"}, {\"ticker\": \"AAPL\", \"year\": 2018, \"month\": 9, \"__index_level_0__\": 67751, \"open\": 57.24, \"high\": 57.41, \"low\": 57.05, \"close\": 57.16, \"volume\": 11308408, \"date\": \"2018-09-01T00:00:00\"}, {\"ticker\": \"AAPL\", \"year\": 2018, \"month\": 10, \"__index_level_0__\": 68050, \"open\": 58.26, \"high\": 58.36, \"low\": 58.12, \"close\": 58.27, \"volume\": 9212869, \"date\": \"2018-10-01T00:00:00\"}, {\"ticker\": \"AAPL\", \"year\": 2018, \"month\": 11, \"__index_level_0__\": 68323, \"open\": 55.2, \"high\": 55.59, \"low\": 55.17, \"close\": 55.51, \"volume\": 17658958, \"date\": \"2018-11-01T00:00:00\"}, {\"ticker\": \"AAPL\", \"year\": 2018, \"month\": 12, \"__index_level_0__\": 68570, \"open\": 46.09, \"high\": 46.23, \"low\": 46.0, \"close\": 46.23, \"volume\": 12830808, \"date\": \"2018-12-01T00:00:00\"}, {\"ticker\": \"AAPL\", \"year\": 2019, \"month\": 1, \"__index_level_0__\": 68843, \"open\": 42.22, \"high\": 42.25, \"low\": 41.99, \"close\": 42.22, \"volume\": 17246263, \"date\": \"2019-01-01T00:00:00\"}, {\"ticker\": \"AAPL\", \"year\": 2019, \"month\": 2, \"__index_level_0__\": 69090, \"open\": 43.85, \"high\": 43.96, \"low\": 43.77, \"close\": 43.85, \"volume\": 5621044, \"date\": \"2019-02-01T00:00:00\"}, {\"ticker\": \"AAPL\", \"year\": 2019, \"month\": 3, \"__index_level_0__\": 69363, \"open\": 49.04, \"high\": 49.42, \"low\": 48.88, \"close\": 49.04, \"volume\": 8986361, \"date\": \"2019-03-01T00:00:00\"}, {\"ticker\": \"AAPL\", \"year\": 2019, \"month\": 4, \"__index_level_0__\": 69636, \"open\": 52.04, \"high\": 52.12, \"low\": 51.97, \"close\": 52.04, \"volume\": 6098485, \"date\": \"2019-04-01T00:00:00\"}, {\"ticker\": \"AAPL\", \"year\": 2019, \"month\": 5, \"__index_level_0__\": 69922, \"open\": 53.72, \"high\": 53.83, \"low\": 53.55, \"close\": 53.71, \"volume\": 11428016, \"date\": \"2019-05-01T00:00:00\"}, {\"ticker\": \"AAPL\", \"year\": 2019, \"month\": 6, \"__index_level_0__\": 70182, \"open\": 50.3, \"high\": 50.39, \"low\": 50.17, \"close\": 50.31, \"volume\": 6702647, \"date\": \"2019-06-01T00:00:00\"}, {\"ticker\": \"AAPL\", \"year\": 2019, \"month\": 7, \"__index_level_0__\": 70468, \"open\": 54.78, \"high\": 55.34, \"low\": 54.45, \"close\": 54.77, \"volume\": 17216568, \"date\": \"2019-07-01T00:00:00\"}, {\"ticker\": \"AAPL\", \"year\": 2019, \"month\": 8, \"__index_level_0__\": 70754, \"open\": 54.41, \"high\": 54.5, \"low\": 54.26, \"close\": 54.41, \"volume\": 9980818, \"date\": \"2019-08-01T00:00:00\"}, {\"ticker\": \"AAPL\", \"year\": 2019, \"month\": 9, \"__index_level_0__\": 71014, \"open\": 56.47, \"high\": 56.6, \"low\": 56.28, \"close\": 56.48, \"volume\": 8598176, \"date\": \"2019-09-01T00:00:00\"}, {\"ticker\": \"AAPL\", \"year\": 2019, \"month\": 10, \"__index_level_0__\": 71313, \"open\": 62.25, \"high\": 62.43, \"low\": 62.19, \"close\": 62.26, \"volume\": 7094146, \"date\": \"2019-10-01T00:00:00\"}, {\"ticker\": \"AAPL\", \"year\": 2019, \"month\": 11, \"__index_level_0__\": 71573, \"open\": 66.97, \"high\": 67.0, \"low\": 66.86, \"close\": 66.97, \"volume\": 5933009, \"date\": \"2019-11-01T00:00:00\"}, {\"ticker\": \"AAPL\", \"year\": 2019, \"month\": 12, \"__index_level_0__\": 71846, \"open\": 73.29, \"high\": 73.49, \"low\": 73.23, \"close\": 73.34, \"volume\": 9329112, \"date\": \"2019-12-01T00:00:00\"}, {\"ticker\": \"AAPL\", \"year\": 2020, \"month\": 1, \"__index_level_0__\": 72119, \"open\": 81.8, \"high\": 81.96, \"low\": 81.63, \"close\": 81.8, \"volume\": 10119062, \"date\": \"2020-01-01T00:00:00\"}, {\"ticker\": \"AAPL\", \"year\": 2020, \"month\": 2, \"__index_level_0__\": 72366, \"open\": 81.51, \"high\": 81.8, \"low\": 81.37, \"close\": 81.79, \"volume\": 14879374, \"date\": \"2020-02-01T00:00:00\"}, {\"ticker\": \"AAPL\", \"year\": 2020, \"month\": 3, \"__index_level_0__\": 72652, \"open\": 75.91, \"high\": 76.0, \"low\": 74.7, \"close\": 75.7, \"volume\": 16289092, \"date\": \"2020-03-01T00:00:00\"}, {\"ticker\": \"AAPL\", \"year\": 2020, \"month\": 4, \"__index_level_0__\": 72925, \"open\": 73.09, \"high\": 73.63, \"low\": 72.75, \"close\": 73.49, \"volume\": 8460180, \"date\": \"2020-04-01T00:00:00\"}, {\"ticker\": \"AAPL\", \"year\": 2020, \"month\": 5, \"__index_level_0__\": 73185, \"open\": 80.87, \"high\": 81.06, \"low\": 80.56, \"close\": 80.71, \"volume\": 9799454, \"date\": \"2020-05-01T00:00:00\"}, {\"ticker\": \"AAPL\", \"year\": 2020, \"month\": 6, \"__index_level_0__\": 73471, \"open\": 92.85, \"high\": 93.09, \"low\": 92.63, \"close\": 92.84, \"volume\": 7330456, \"date\": \"2020-06-01T00:00:00\"}, {\"ticker\": \"AAPL\", \"year\": 2020, \"month\": 7, \"__index_level_0__\": 73757, \"open\": 105.3, \"high\": 106.41, \"low\": 105.25, \"close\": 106.29, \"volume\": 13827730, \"date\": \"2020-07-01T00:00:00\"}, {\"ticker\": \"AAPL\", \"year\": 2020, \"month\": 8, \"__index_level_0__\": 74030, \"open\": 130.68, \"high\": 131.01, \"low\": 130.5, \"close\": 130.69, \"volume\": 30973142, \"date\": \"2020-08-01T00:00:00\"}, {\"ticker\": \"AAPL\", \"year\": 2020, \"month\": 9, \"__index_level_0__\": 74303, \"open\": 137.59, \"high\": 137.98, \"low\": 133.96, \"close\": 134.67, \"volume\": 48890303, \"date\": \"2020-09-01T00:00:00\"}, {\"ticker\": \"AAPL\", \"year\": 2020, \"month\": 10, \"__index_level_0__\": 74589, \"open\": 125.27, \"high\": 125.39, \"low\": 124.3, \"close\": 125.05, \"volume\": 33566297, \"date\": \"2020-10-01T00:00:00\"}, {\"ticker\": \"AAPL\", \"year\": 2020, \"month\": 11, \"__index_level_0__\": 74844, \"open\": 121.61, \"high\": 121.99, \"low\": 120.55, \"close\": 121.61, \"volume\": 21841650, \"date\": \"2020-11-01T00:00:00\"}, {\"ticker\": \"AAPL\", \"year\": 2020, \"month\": 12, \"__index_level_0__\": 75130, \"open\": 138.05, \"high\": 138.79, \"low\": 136.9, \"close\": 137.3, \"volume\": 36705925, \"date\": \"2020-12-01T00:00:00\"}, {\"ticker\": \"AAPL\", \"year\": 2021, \"month\": 1, \"__index_level_0__\": 75377, \"open\": 144.94, \"high\": 145.09, \"low\": 143.88, \"close\": 144.94, \"volume\": 21956084, \"date\": \"2021-01-01T00:00:00\"}, {\"ticker\": \"AAPL\", \"year\": 2021, \"month\": 2, \"__index_level_0__\": 75624, \"open\": 137.35, \"high\": 137.88, \"low\": 137.1, \"close\": 137.4, \"volume\": 29704449, \"date\": \"2021-02-01T00:00:00\"}, {\"ticker\": \"AAPL\", \"year\": 2021, \"month\": 3, \"__index_level_0__\": 75923, \"open\": 128.41, \"high\": 128.72, \"low\": 127.29, \"close\": 127.79, \"volume\": 22787975, \"date\": \"2021-03-01T00:00:00\"}, {\"ticker\": \"AAPL\", \"year\": 2021, \"month\": 4, \"__index_level_0__\": 76196, \"open\": 136.47, \"high\": 137.07, \"low\": 134.84, \"close\": 135.22, \"volume\": 28273413, \"date\": \"2021-04-01T00:00:00\"}, {\"ticker\": \"AAPL\", \"year\": 2021, \"month\": 5, \"__index_level_0__\": 76456, \"open\": 133.84, \"high\": 134.07, \"low\": 132.99, \"close\": 133.84, \"volume\": 18545598, \"date\": \"2021-05-01T00:00:00\"}, {\"ticker\": \"AAPL\", \"year\": 2021, \"month\": 6, \"__index_level_0__\": 76760, \"open\": 137.23, \"high\": 137.41, \"low\": 136.91, \"close\": 137.23, \"volume\": 20178353, \"date\": \"2021-06-01T00:00:00\"}, {\"ticker\": \"AAPL\", \"year\": 2021, \"month\": 7, \"__index_level_0__\": 77054, \"open\": 149.78, \"high\": 150.0, \"low\": 149.39, \"close\": 149.78, \"volume\": 20613310, \"date\": \"2021-07-01T00:00:00\"}, {\"ticker\": \"AAPL\", \"year\": 2021, \"month\": 8, \"__index_level_0__\": 77362, \"open\": 153.4, \"high\": 153.49, \"low\": 153.11, \"close\": 153.41, \"volume\": 19228008, \"date\": \"2021-08-01T00:00:00\"}, {\"ticker\": \"AAPL\", \"year\": 2021, \"month\": 9, \"__index_level_0__\": 77656, \"open\": 157.1, \"high\": 157.26, \"low\": 156.81, \"close\": 157.1, \"volume\": 24143442, \"date\": \"2021-09-01T00:00:00\"}, {\"ticker\": \"AAPL\", \"year\": 2021, \"month\": 10, \"__index_level_0__\": 77950, \"open\": 153.1, \"high\": 153.17, \"low\": 152.54, \"close\": 153.1, \"volume\": 22328764, \"date\": \"2021-10-01T00:00:00\"}, {\"ticker\": \"AAPL\", \"year\": 2021, \"month\": 11, \"__index_level_0__\": 78223, \"open\": 165.3, \"high\": 165.7, \"low\": 164.64, \"close\": 165.47, \"volume\": 21284605, \"date\": \"2021-11-01T00:00:00\"}, {\"ticker\": \"AAPL\", \"year\": 2021, \"month\": 12, \"__index_level_0__\": 78522, \"open\": 181.12, \"high\": 182.13, \"low\": 180.29, \"close\": 180.94, \"volume\": 45551690, \"date\": \"2021-12-01T00:00:00\"}, {\"ticker\": \"AAPL\", \"year\": 2022, \"month\": 1, \"__index_level_0__\": 78802, \"open\": 182.63, \"high\": 182.94, \"low\": 182.21, \"close\": 182.39, \"volume\": 21749207, \"date\": \"2022-01-01T00:00:00\"}, {\"ticker\": \"AAPL\", \"year\": 2022, \"month\": 2, \"__index_level_0__\": 79068, \"open\": 176.25, \"high\": 176.65, \"low\": 176.25, \"close\": 176.28, \"volume\": 23681039, \"date\": \"2022-02-01T00:00:00\"}, {\"ticker\": \"AAPL\", \"year\": 2022, \"month\": 3, \"__index_level_0__\": 79391, \"open\": 178.98, \"high\": 179.61, \"low\": 178.85, \"close\": 178.98, \"volume\": 23967314, \"date\": \"2022-03-01T00:00:00\"}, {\"ticker\": \"AAPL\", \"year\": 2022, \"month\": 4, \"__index_level_0__\": 79671, \"open\": 178.47, \"high\": 178.49, \"low\": 178.44, \"close\": 178.48, \"volume\": 18445450, \"date\": \"2022-04-01T00:00:00\"}, {\"ticker\": \"AAPL\", \"year\": 2022, \"month\": 5, \"__index_level_0__\": 79965, \"open\": 166.11, \"high\": 166.48, \"low\": 166.02, \"close\": 166.12, \"volume\": 26222535, \"date\": \"2022-05-01T00:00:00\"}, {\"ticker\": \"AAPL\", \"year\": 2022, \"month\": 6, \"__index_level_0__\": 80258, \"open\": 151.34, \"high\": 151.74, \"low\": 150.34, \"close\": 151.38, \"volume\": 24012467, \"date\": \"2022-06-01T00:00:00\"}, {\"ticker\": \"AAPL\", \"year\": 2022, \"month\": 7, \"__index_level_0__\": 80538, \"open\": 163.27, \"high\": 163.63, \"low\": 162.59, \"close\": 163.27, \"volume\": 16969363, \"date\": \"2022-07-01T00:00:00\"}, {\"ticker\": \"AAPL\", \"year\": 2022, \"month\": 8, \"__index_level_0__\": 80860, \"open\": 175.67, \"high\": 176.15, \"low\": 175.28, \"close\": 175.67, \"volume\": 15686246, \"date\": \"2022-08-01T00:00:00\"}, {\"ticker\": \"AAPL\", \"year\": 2022, \"month\": 9, \"__index_level_0__\": 81154, \"open\": 164.13, \"high\": 164.26, \"low\": 163.52, \"close\": 164.12, \"volume\": 44402604, \"date\": \"2022-09-01T00:00:00\"}, {\"ticker\": \"AAPL\", \"year\": 2022, \"month\": 10, \"__index_level_0__\": 81448, \"open\": 156.75, \"high\": 157.5, \"low\": 156.44, \"close\": 156.74, \"volume\": 20943636, \"date\": \"2022-10-01T00:00:00\"}, {\"ticker\": \"AAPL\", \"year\": 2022, \"month\": 11, \"__index_level_0__\": 81734, \"open\": 155.08, \"high\": 155.45, \"low\": 152.68, \"close\": 153.17, \"volume\": 18653523, \"date\": \"2022-11-01T00:00:00\"}, {\"ticker\": \"AAPL\", \"year\": 2022, \"month\": 12, \"__index_level_0__\": 82029, \"open\": 149.96, \"high\": 150.92, \"low\": 148.79, \"close\": 149.96, \"volume\": 48390012, \"date\": \"2022-12-01T00:00:00\"}, {\"ticker\": \"AAPL\", \"year\": 2023, \"month\": 1, \"__index_level_0__\": 82308, \"open\": 146.96, \"high\": 147.23, \"low\": 146.62, \"close\": 146.96, \"volume\": 13120535, \"date\": \"2023-01-01T00:00:00\"}, {\"ticker\": \"AAPL\", \"year\": 2023, \"month\": 2, \"__index_level_0__\": 82574, \"open\": 156.5, \"high\": 157.38, \"low\": 156.06, \"close\": 156.49, \"volume\": 20149876, \"date\": \"2023-02-01T00:00:00\"}, {\"ticker\": \"AAPL\", \"year\": 2023, \"month\": 3, \"__index_level_0__\": 82897, \"open\": 164.88, \"high\": 165.0, \"low\": 164.73, \"close\": 164.9, \"volume\": 20460514, \"date\": \"2023-03-01T00:00:00\"}, {\"ticker\": \"AAPL\", \"year\": 2023, \"month\": 4, \"__index_level_0__\": 83163, \"open\": 169.83, \"high\": 169.85, \"low\": 169.62, \"close\": 169.84, \"volume\": 11218962, \"date\": \"2023-04-01T00:00:00\"}, {\"ticker\": \"AAPL\", \"year\": 2023, \"month\": 5, \"__index_level_0__\": 83471, \"open\": 179.17, \"high\": 179.35, \"low\": 178.82, \"close\": 179.17, \"volume\": 22121844, \"date\": \"2023-05-01T00:00:00\"}, {\"ticker\": \"AAPL\", \"year\": 2023, \"month\": 6, \"__index_level_0__\": 83765, \"open\": 193.97, \"high\": 194.48, \"low\": 193.78, \"close\": 193.96, \"volume\": 13961156, \"date\": \"2023-06-01T00:00:00\"}, {\"ticker\": \"AAPL\", \"year\": 2023, \"month\": 7, \"__index_level_0__\": 84039, \"open\": 196.92, \"high\": 198.23, \"low\": 196.36, \"close\": 196.91, \"volume\": 20457289, \"date\": \"2023-07-01T00:00:00\"}, {\"ticker\": \"AAPL\", \"year\": 2023, \"month\": 8, \"__index_level_0__\": 84361, \"open\": 196.45, \"high\": 196.73, \"low\": 195.98, \"close\": 196.43, \"volume\": 19273924, \"date\": \"2023-08-01T00:00:00\"}, {\"ticker\": \"AAPL\", \"year\": 2023, \"month\": 9, \"__index_level_0__\": 84641, \"open\": 189.93, \"high\": 189.98, \"low\": 189.68, \"close\": 189.94, \"volume\": 29136872, \"date\": \"2023-09-01T00:00:00\"}, {\"ticker\": \"AAPL\", \"year\": 2023, \"month\": 10, \"__index_level_0__\": 84949, \"open\": 182.28, \"high\": 182.34, \"low\": 181.87, \"close\": 182.27, \"volume\": 8621494, \"date\": \"2023-10-01T00:00:00\"}, {\"ticker\": \"AAPL\", \"year\": 2023, \"month\": 11, \"__index_level_0__\": 85236, \"open\": 192.01, \"high\": 192.93, \"low\": 191.68, \"close\": 192.01, \"volume\": 13732477, \"date\": \"2023-11-01T00:00:00\"}, {\"ticker\": \"AAPL\", \"year\": 2023, \"month\": 12, \"__index_level_0__\": 85517, \"open\": 199.19, \"high\": 199.62, \"low\": 198.75, \"close\": 199.2, \"volume\": 10714586, \"date\": \"2023-12-01T00:00:00\"}, {\"ticker\": \"AAPL\", \"year\": 2024, \"month\": 1, \"__index_level_0__\": 85810, \"open\": 195.99, \"high\": 196.38, \"low\": 195.74, \"close\": 196.0, \"volume\": 10323669, \"date\": \"2024-01-01T00:00:00\"}, {\"ticker\": \"AAPL\", \"year\": 2024, \"month\": 2, \"__index_level_0__\": 86090, \"open\": 190.64, \"high\": 191.05, \"low\": 189.53, \"close\": 190.37, \"volume\": 14782382, \"date\": \"2024-02-01T00:00:00\"}, {\"ticker\": \"AAPL\", \"year\": 2024, \"month\": 3, \"__index_level_0__\": 86217, \"open\": 180.74, \"high\": 180.75, \"low\": 180.57, \"close\": 180.72, \"volume\": 13475202, \"date\": \"2024-03-01T00:00:00\"}, {\"ticker\": \"AMZN\", \"year\": 1998, \"month\": 1, \"__index_level_0__\": 259, \"open\": 3.2, \"high\": 3.2, \"low\": 3.11, \"close\": 3.12, \"volume\": 4522000, \"date\": \"1998-01-01T00:00:00\"}, {\"ticker\": \"AMZN\", \"year\": 1998, \"month\": 2, \"__index_level_0__\": 505, \"open\": 3.94, \"high\": 3.98, \"low\": 3.86, \"close\": 3.94, \"volume\": 11018240, \"date\": \"1998-02-01T00:00:00\"}, {\"ticker\": \"AMZN\", \"year\": 1998, \"month\": 3, \"__index_level_0__\": 791, \"open\": 4.4, \"high\": 4.41, \"low\": 4.32, \"close\": 4.4, \"volume\": 8726140, \"date\": \"1998-03-01T00:00:00\"}, {\"ticker\": \"AMZN\", \"year\": 1998, \"month\": 4, \"__index_level_0__\": 1064, \"open\": 4.96, \"high\": 5.0, \"low\": 4.94, \"close\": 4.96, \"volume\": 28586680, \"date\": \"1998-04-01T00:00:00\"}, {\"ticker\": \"AMZN\", \"year\": 1998, \"month\": 5, \"__index_level_0__\": 1324, \"open\": 4.77, \"high\": 4.79, \"low\": 4.75, \"close\": 4.77, \"volume\": 8410040, \"date\": \"1998-05-01T00:00:00\"}, {\"ticker\": \"AMZN\", \"year\": 1998, \"month\": 6, \"__index_level_0__\": 1610, \"open\": 5.18, \"high\": 5.23, \"low\": 5.13, \"close\": 5.18, \"volume\": 33260160, \"date\": \"1998-06-01T00:00:00\"}, {\"ticker\": \"AMZN\", \"year\": 1998, \"month\": 7, \"__index_level_0__\": 1896, \"open\": 7.3, \"high\": 7.35, \"low\": 7.21, \"close\": 7.3, \"volume\": 42630880, \"date\": \"1998-07-01T00:00:00\"}, {\"ticker\": \"AMZN\", \"year\": 1998, \"month\": 8, \"__index_level_0__\": 2169, \"open\": 6.87, \"high\": 6.87, \"low\": 6.78, \"close\": 6.8, \"volume\": 18458760, \"date\": \"1998-08-01T00:00:00\"}, {\"ticker\": \"AMZN\", \"year\": 1998, \"month\": 9, \"__index_level_0__\": 2442, \"open\": 5.96, \"high\": 6.0, \"low\": 5.91, \"close\": 5.96, \"volume\": 30029200, \"date\": \"1998-09-01T00:00:00\"}, {\"ticker\": \"AMZN\", \"year\": 1998, \"month\": 10, \"__index_level_0__\": 2728, \"open\": 6.46, \"high\": 6.49, \"low\": 6.43, \"close\": 6.46, \"volume\": 23734700, \"date\": \"1998-10-01T00:00:00\"}, {\"ticker\": \"AMZN\", \"year\": 1998, \"month\": 11, \"__index_level_0__\": 2983, \"open\": 11.41, \"high\": 11.65, \"low\": 11.24, \"close\": 11.45, \"volume\": 49296000, \"date\": \"1998-11-01T00:00:00\"}, {\"ticker\": \"AMZN\", \"year\": 1998, \"month\": 12, \"__index_level_0__\": 3264, \"open\": 18.01, \"high\": 18.09, \"low\": 17.85, \"close\": 18.0, \"volume\": 61996000, \"date\": \"1998-12-01T00:00:00\"}, {\"ticker\": \"AMZN\", \"year\": 1999, \"month\": 1, \"__index_level_0__\": 3511, \"open\": 17.35, \"high\": 17.75, \"low\": 17.25, \"close\": 17.75, \"volume\": 110934000, \"date\": \"1999-01-01T00:00:00\"}, {\"ticker\": \"AMZN\", \"year\": 1999, \"month\": 2, \"__index_level_0__\": 3758, \"open\": 6.45, \"high\": 6.5, \"low\": 6.42, \"close\": 6.45, \"volume\": 66546000, \"date\": \"1999-02-01T00:00:00\"}, {\"ticker\": \"AMZN\", \"year\": 1999, \"month\": 3, \"__index_level_0__\": 4057, \"open\": 8.78, \"high\": 8.9, \"low\": 8.74, \"close\": 8.78, \"volume\": 81486000, \"date\": \"1999-03-01T00:00:00\"}, {\"ticker\": \"AMZN\", \"year\": 1999, \"month\": 4, \"__index_level_0__\": 4330, \"open\": 10.85, \"high\": 11.06, \"low\": 10.75, \"close\": 10.79, \"volume\": 98780000, \"date\": \"1999-04-01T00:00:00\"}, {\"ticker\": \"AMZN\", \"year\": 1999, \"month\": 5, \"__index_level_0__\": 4590, \"open\": 8.34, \"high\": 8.35, \"low\": 7.89, \"close\": 8.01, \"volume\": 42234000, \"date\": \"1999-05-01T00:00:00\"}, {\"ticker\": \"AMZN\", \"year\": 1999, \"month\": 6, \"__index_level_0__\": 4876, \"open\": 6.45, \"high\": 6.47, \"low\": 6.38, \"close\": 6.45, \"volume\": 48950000, \"date\": \"1999-06-01T00:00:00\"}, {\"ticker\": \"AMZN\", \"year\": 1999, \"month\": 7, \"__index_level_0__\": 5149, \"open\": 7.02, \"high\": 7.12, \"low\": 6.96, \"close\": 7.02, \"volume\": 114934000, \"date\": \"1999-07-01T00:00:00\"}, {\"ticker\": \"AMZN\", \"year\": 1999, \"month\": 8, \"__index_level_0__\": 5435, \"open\": 6.7, \"high\": 6.77, \"low\": 6.64, \"close\": 6.71, \"volume\": 63080000, \"date\": \"1999-08-01T00:00:00\"}, {\"ticker\": \"AMZN\", \"year\": 1999, \"month\": 9, \"__index_level_0__\": 5708, \"open\": 6.35, \"high\": 6.35, \"low\": 6.17, \"close\": 6.22, \"volume\": 231412000, \"date\": \"1999-09-01T00:00:00\"}, {\"ticker\": \"AMZN\", \"year\": 1999, \"month\": 10, \"__index_level_0__\": 5981, \"open\": 4.48, \"high\": 4.5, \"low\": 4.4, \"close\": 4.48, \"volume\": 156832000, \"date\": \"1999-10-01T00:00:00\"}, {\"ticker\": \"AMZN\", \"year\": 1999, \"month\": 11, \"__index_level_0__\": 6248, \"open\": 4.8100000000000005, \"high\": 4.84, \"low\": 4.78, \"close\": 4.8100000000000005, \"volume\": 175762000, \"date\": \"1999-11-01T00:00:00\"}, {\"ticker\": \"AMZN\", \"year\": 1999, \"month\": 12, \"__index_level_0__\": 6529, \"open\": 5.59, \"high\": 5.65, \"low\": 5.34, \"close\": 5.4, \"volume\": 137226000, \"date\": \"1999-12-01T00:00:00\"}, {\"ticker\": \"AMZN\", \"year\": 2000, \"month\": 1, \"__index_level_0__\": 6789, \"open\": 4.51, \"high\": 4.57, \"low\": 4.42, \"close\": 4.51, \"volume\": 153140000, \"date\": \"2000-01-01T00:00:00\"}, {\"ticker\": \"AMZN\", \"year\": 2000, \"month\": 2, \"__index_level_0__\": 7049, \"open\": 4.23, \"high\": 4.26, \"low\": 4.16, \"close\": 4.23, \"volume\": 168794000, \"date\": \"2000-02-01T00:00:00\"}, {\"ticker\": \"AMZN\", \"year\": 2000, \"month\": 3, \"__index_level_0__\": 7348, \"open\": 3.74, \"high\": 3.76, \"low\": 3.7, \"close\": 3.75, \"volume\": 60586000, \"date\": \"2000-03-01T00:00:00\"}, {\"ticker\": \"AMZN\", \"year\": 2000, \"month\": 4, \"__index_level_0__\": 7595, \"open\": 3.4, \"high\": 3.43, \"low\": 3.38, \"close\": 3.4, \"volume\": 52352000, \"date\": \"2000-04-01T00:00:00\"}, {\"ticker\": \"AMZN\", \"year\": 2000, \"month\": 5, \"__index_level_0__\": 7881, \"open\": 3.09, \"high\": 3.11, \"low\": 3.03, \"close\": 3.09, \"volume\": 38034000, \"date\": \"2000-05-01T00:00:00\"}, {\"ticker\": \"AMZN\", \"year\": 2000, \"month\": 6, \"__index_level_0__\": 8167, \"open\": 2.82, \"high\": 2.9, \"low\": 2.81, \"close\": 2.89, \"volume\": 123036000, \"date\": \"2000-06-01T00:00:00\"}, {\"ticker\": \"AMZN\", \"year\": 2000, \"month\": 7, \"__index_level_0__\": 8422, \"open\": 2.15, \"high\": 2.19, \"low\": 2.14, \"close\": 2.15, \"volume\": 98824000, \"date\": \"2000-07-01T00:00:00\"}, {\"ticker\": \"AMZN\", \"year\": 2000, \"month\": 8, \"__index_level_0__\": 8721, \"open\": 2.17, \"high\": 2.19, \"low\": 2.15, \"close\": 2.17, \"volume\": 82876000, \"date\": \"2000-08-01T00:00:00\"}, {\"ticker\": \"AMZN\", \"year\": 2000, \"month\": 9, \"__index_level_0__\": 8981, \"open\": 2.41, \"high\": 2.48, \"low\": 2.4, \"close\": 2.41, \"volume\": 110040000, \"date\": \"2000-09-01T00:00:00\"}, {\"ticker\": \"AMZN\", \"year\": 2000, \"month\": 10, \"__index_level_0__\": 9267, \"open\": 1.9, \"high\": 1.92, \"low\": 1.88, \"close\": 1.89, \"volume\": 79654000, \"date\": \"2000-10-01T00:00:00\"}, {\"ticker\": \"AMZN\", \"year\": 2000, \"month\": 11, \"__index_level_0__\": 9535, \"open\": 2.01, \"high\": 2.04, \"low\": 1.99, \"close\": 2.01, \"volume\": 55552000, \"date\": \"2000-11-01T00:00:00\"}, {\"ticker\": \"AMZN\", \"year\": 2000, \"month\": 12, \"__index_level_0__\": 9795, \"open\": 1.35, \"high\": 1.38, \"low\": 1.34, \"close\": 1.35, \"volume\": 54622000, \"date\": \"2000-12-01T00:00:00\"}, {\"ticker\": \"AMZN\", \"year\": 2001, \"month\": 1, \"__index_level_0__\": 10068, \"open\": 1.11, \"high\": 1.11, \"low\": 1.07, \"close\": 1.11, \"volume\": 74878000, \"date\": \"2001-01-01T00:00:00\"}, {\"ticker\": \"AMZN\", \"year\": 2001, \"month\": 2, \"__index_level_0__\": 10315, \"open\": 0.85, \"high\": 0.85, \"low\": 0.81, \"close\": 0.83, \"volume\": 58460000, \"date\": \"2001-02-01T00:00:00\"}, {\"ticker\": \"AMZN\", \"year\": 2001, \"month\": 3, \"__index_level_0__\": 10601, \"open\": 0.69, \"high\": 0.7, \"low\": 0.67, \"close\": 0.69, \"volume\": 126070000, \"date\": \"2001-03-01T00:00:00\"}, {\"ticker\": \"AMZN\", \"year\": 2001, \"month\": 4, \"__index_level_0__\": 10861, \"open\": 0.88, \"high\": 0.9, \"low\": 0.87, \"close\": 0.88, \"volume\": 132066000, \"date\": \"2001-04-01T00:00:00\"}, {\"ticker\": \"AMZN\", \"year\": 2001, \"month\": 5, \"__index_level_0__\": 11147, \"open\": 0.87, \"high\": 0.88, \"low\": 0.86, \"close\": 0.87, \"volume\": 53944000, \"date\": \"2001-05-01T00:00:00\"}, {\"ticker\": \"AMZN\", \"year\": 2001, \"month\": 6, \"__index_level_0__\": 11420, \"open\": 0.86, \"high\": 0.87, \"low\": 0.85, \"close\": 0.85, \"volume\": 77428000, \"date\": \"2001-06-01T00:00:00\"}, {\"ticker\": \"AMZN\", \"year\": 2001, \"month\": 7, \"__index_level_0__\": 11688, \"open\": 0.87, \"high\": 0.87, \"low\": 0.85, \"close\": 0.86, \"volume\": 150786000, \"date\": \"2001-07-01T00:00:00\"}, {\"ticker\": \"AMZN\", \"year\": 2001, \"month\": 8, \"__index_level_0__\": 11987, \"open\": 0.63, \"high\": 0.64, \"low\": 0.62, \"close\": 0.62, \"volume\": 30176000, \"date\": \"2001-08-01T00:00:00\"}, {\"ticker\": \"AMZN\", \"year\": 2001, \"month\": 9, \"__index_level_0__\": 12182, \"open\": 0.45, \"high\": 0.45, \"low\": 0.45, \"close\": 0.45, \"volume\": 58498000, \"date\": \"2001-09-01T00:00:00\"}, {\"ticker\": \"AMZN\", \"year\": 2001, \"month\": 10, \"__index_level_0__\": 12481, \"open\": 0.49, \"high\": 0.49, \"low\": 0.47, \"close\": 0.48, \"volume\": 114244000, \"date\": \"2001-10-01T00:00:00\"}, {\"ticker\": \"AMZN\", \"year\": 2001, \"month\": 11, \"__index_level_0__\": 12749, \"open\": 0.61, \"high\": 0.62, \"low\": 0.6, \"close\": 0.61, \"volume\": 191466000, \"date\": \"2001-11-01T00:00:00\"}, {\"ticker\": \"AMZN\", \"year\": 2001, \"month\": 12, \"__index_level_0__\": 13003, \"open\": 0.63, \"high\": 0.64, \"low\": 0.62, \"close\": 0.63, \"volume\": 137074000, \"date\": \"2001-12-01T00:00:00\"}, {\"ticker\": \"AMZN\", \"year\": 2002, \"month\": 1, \"__index_level_0__\": 13276, \"open\": 0.77, \"high\": 0.78, \"low\": 0.77, \"close\": 0.77, \"volume\": 247232000, \"date\": \"2002-01-01T00:00:00\"}, {\"ticker\": \"AMZN\", \"year\": 2002, \"month\": 2, \"__index_level_0__\": 13523, \"open\": 0.72, \"high\": 0.73, \"low\": 0.72, \"close\": 0.72, \"volume\": 64892000, \"date\": \"2002-02-01T00:00:00\"}, {\"ticker\": \"AMZN\", \"year\": 2002, \"month\": 3, \"__index_level_0__\": 13783, \"open\": 0.83, \"high\": 0.84, \"low\": 0.83, \"close\": 0.83, \"volume\": 85640000, \"date\": \"2002-03-01T00:00:00\"}, {\"ticker\": \"AMZN\", \"year\": 2002, \"month\": 4, \"__index_level_0__\": 14069, \"open\": 0.84, \"high\": 0.85, \"low\": 0.84, \"close\": 0.84, \"volume\": 136316000, \"date\": \"2002-04-01T00:00:00\"}, {\"ticker\": \"AMZN\", \"year\": 2002, \"month\": 5, \"__index_level_0__\": 14355, \"open\": 1.01, \"high\": 1.02, \"low\": 0.99, \"close\": 1.01, \"volume\": 58962000, \"date\": \"2002-05-01T00:00:00\"}, {\"ticker\": \"AMZN\", \"year\": 2002, \"month\": 6, \"__index_level_0__\": 14615, \"open\": 0.95, \"high\": 0.95, \"low\": 0.94, \"close\": 0.95, \"volume\": 50986000, \"date\": \"2002-06-01T00:00:00\"}, {\"ticker\": \"AMZN\", \"year\": 2002, \"month\": 7, \"__index_level_0__\": 14896, \"open\": 0.85, \"high\": 0.85, \"low\": 0.84, \"close\": 0.85, \"volume\": 78615500, \"date\": \"2002-07-01T00:00:00\"}, {\"ticker\": \"AMZN\", \"year\": 2002, \"month\": 8, \"__index_level_0__\": 15182, \"open\": 0.79, \"high\": 0.79, \"low\": 0.79, \"close\": 0.79, \"volume\": 27008360, \"date\": \"2002-08-01T00:00:00\"}, {\"ticker\": \"AMZN\", \"year\": 2002, \"month\": 9, \"__index_level_0__\": 15439, \"open\": 0.89, \"high\": 0.89, \"low\": 0.88, \"close\": 0.89, \"volume\": 34916220, \"date\": \"2002-09-01T00:00:00\"}, {\"ticker\": \"AMZN\", \"year\": 2002, \"month\": 10, \"__index_level_0__\": 15738, \"open\": 1.0, \"high\": 1.01, \"low\": 1.0, \"close\": 1.0, \"volume\": 71424100, \"date\": \"2002-10-01T00:00:00\"}, {\"ticker\": \"AMZN\", \"year\": 2002, \"month\": 11, \"__index_level_0__\": 15993, \"open\": 1.22, \"high\": 1.22, \"low\": 1.21, \"close\": 1.22, \"volume\": 75716160, \"date\": \"2002-11-01T00:00:00\"}, {\"ticker\": \"AMZN\", \"year\": 2002, \"month\": 12, \"__index_level_0__\": 16260, \"open\": 1.24, \"high\": 1.25, \"low\": 1.22, \"close\": 1.24, \"volume\": 44352700, \"date\": \"2002-12-01T00:00:00\"}, {\"ticker\": \"AMZN\", \"year\": 2003, \"month\": 1, \"__index_level_0__\": 16533, \"open\": 1.16, \"high\": 1.16, \"low\": 1.13, \"close\": 1.16, \"volume\": 95591540, \"date\": \"2003-01-01T00:00:00\"}, {\"ticker\": \"AMZN\", \"year\": 2003, \"month\": 2, \"__index_level_0__\": 16780, \"open\": 1.12, \"high\": 1.12, \"low\": 1.11, \"close\": 1.12, \"volume\": 42757480, \"date\": \"2003-02-01T00:00:00\"}, {\"ticker\": \"AMZN\", \"year\": 2003, \"month\": 3, \"__index_level_0__\": 17053, \"open\": 1.39, \"high\": 1.4, \"low\": 1.39, \"close\": 1.4, \"volume\": 40517100, \"date\": \"2003-03-01T00:00:00\"}, {\"ticker\": \"AMZN\", \"year\": 2003, \"month\": 4, \"__index_level_0__\": 17326, \"open\": 1.45, \"high\": 1.45, \"low\": 1.45, \"close\": 1.45, \"volume\": 174958800, \"date\": \"2003-04-01T00:00:00\"}, {\"ticker\": \"AMZN\", \"year\": 2003, \"month\": 5, \"__index_level_0__\": 17599, \"open\": 1.79, \"high\": 1.8, \"low\": 1.78, \"close\": 1.79, \"volume\": 48274320, \"date\": \"2003-05-01T00:00:00\"}, {\"ticker\": \"AMZN\", \"year\": 2003, \"month\": 6, \"__index_level_0__\": 17872, \"open\": 1.85, \"high\": 1.86, \"low\": 1.83, \"close\": 1.85, \"volume\": 42609600, \"date\": \"2003-06-01T00:00:00\"}, {\"ticker\": \"AMZN\", \"year\": 2003, \"month\": 7, \"__index_level_0__\": 18153, \"open\": 2.12, \"high\": 2.15, \"low\": 2.12, \"close\": 2.12, \"volume\": 144471820, \"date\": \"2003-07-01T00:00:00\"}, {\"ticker\": \"AMZN\", \"year\": 2003, \"month\": 8, \"__index_level_0__\": 18426, \"open\": 2.32, \"high\": 2.34, \"low\": 2.31, \"close\": 2.32, \"volume\": 54436020, \"date\": \"2003-08-01T00:00:00\"}, {\"ticker\": \"AMZN\", \"year\": 2003, \"month\": 9, \"__index_level_0__\": 18699, \"open\": 2.54, \"high\": 2.56, \"low\": 2.53, \"close\": 2.53, \"volume\": 51842680, \"date\": \"2003-09-01T00:00:00\"}, {\"ticker\": \"AMZN\", \"year\": 2003, \"month\": 10, \"__index_level_0__\": 18998, \"open\": 3.04, \"high\": 3.05, \"low\": 3.04, \"close\": 3.04, \"volume\": 157884660, \"date\": \"2003-10-01T00:00:00\"}, {\"ticker\": \"AMZN\", \"year\": 2003, \"month\": 11, \"__index_level_0__\": 19240, \"open\": 2.86, \"high\": 2.87, \"low\": 2.85, \"close\": 2.86, \"volume\": 44282460, \"date\": \"2003-11-01T00:00:00\"}, {\"ticker\": \"AMZN\", \"year\": 2003, \"month\": 12, \"__index_level_0__\": 19516, \"open\": 2.73, \"high\": 2.74, \"low\": 2.72, \"close\": 2.73, \"volume\": 43259660, \"date\": \"2003-12-01T00:00:00\"}, {\"ticker\": \"AMZN\", \"year\": 2004, \"month\": 1, \"__index_level_0__\": 19776, \"open\": 2.88, \"high\": 2.89, \"low\": 2.86, \"close\": 2.88, \"volume\": 82375360, \"date\": \"2004-01-01T00:00:00\"}, {\"ticker\": \"AMZN\", \"year\": 2004, \"month\": 2, \"__index_level_0__\": 20023, \"open\": 2.52, \"high\": 2.53, \"low\": 2.47, \"close\": 2.48, \"volume\": 101035920, \"date\": \"2004-02-01T00:00:00\"}, {\"ticker\": \"AMZN\", \"year\": 2004, \"month\": 3, \"__index_level_0__\": 20322, \"open\": 2.24, \"high\": 2.25, \"low\": 2.23, \"close\": 2.24, \"volume\": 29647140, \"date\": \"2004-03-01T00:00:00\"}, {\"ticker\": \"AMZN\", \"year\": 2004, \"month\": 4, \"__index_level_0__\": 20595, \"open\": 2.42, \"high\": 2.45, \"low\": 2.41, \"close\": 2.44, \"volume\": 91753840, \"date\": \"2004-04-01T00:00:00\"}, {\"ticker\": \"AMZN\", \"year\": 2004, \"month\": 5, \"__index_level_0__\": 20855, \"open\": 2.42, \"high\": 2.43, \"low\": 2.41, \"close\": 2.42, \"volume\": 38411720, \"date\": \"2004-05-01T00:00:00\"}, {\"ticker\": \"AMZN\", \"year\": 2004, \"month\": 6, \"__index_level_0__\": 21128, \"open\": 2.72, \"high\": 2.73, \"low\": 2.71, \"close\": 2.73, \"volume\": 41633860, \"date\": \"2004-06-01T00:00:00\"}, {\"ticker\": \"AMZN\", \"year\": 2004, \"month\": 7, \"__index_level_0__\": 21401, \"open\": 2.69, \"high\": 2.7, \"low\": 2.67, \"close\": 2.68, \"volume\": 157345940, \"date\": \"2004-07-01T00:00:00\"}, {\"ticker\": \"AMZN\", \"year\": 2004, \"month\": 8, \"__index_level_0__\": 21687, \"open\": 2.03, \"high\": 2.04, \"low\": 2.02, \"close\": 2.03, \"volume\": 41030940, \"date\": \"2004-08-01T00:00:00\"}, {\"ticker\": \"AMZN\", \"year\": 2004, \"month\": 9, \"__index_level_0__\": 21960, \"open\": 2.2, \"high\": 2.21, \"low\": 2.19, \"close\": 2.2, \"volume\": 51561740, \"date\": \"2004-09-01T00:00:00\"}, {\"ticker\": \"AMZN\", \"year\": 2004, \"month\": 10, \"__index_level_0__\": 22233, \"open\": 2.11, \"high\": 2.13, \"low\": 2.09, \"close\": 2.11, \"volume\": 150921820, \"date\": \"2004-10-01T00:00:00\"}, {\"ticker\": \"AMZN\", \"year\": 2004, \"month\": 11, \"__index_level_0__\": 22501, \"open\": 2.06, \"high\": 2.07, \"low\": 2.05, \"close\": 2.06, \"volume\": 43379800, \"date\": \"2004-11-01T00:00:00\"}, {\"ticker\": \"AMZN\", \"year\": 2004, \"month\": 12, \"__index_level_0__\": 22787, \"open\": 2.27, \"high\": 2.28, \"low\": 2.26, \"close\": 2.27, \"volume\": 112869340, \"date\": \"2004-12-01T00:00:00\"}, {\"ticker\": \"AMZN\", \"year\": 2005, \"month\": 1, \"__index_level_0__\": 23047, \"open\": 2.24, \"high\": 2.27, \"low\": 2.23, \"close\": 2.24, \"volume\": 121184440, \"date\": \"2005-01-01T00:00:00\"}, {\"ticker\": \"AMZN\", \"year\": 2005, \"month\": 2, \"__index_level_0__\": 23294, \"open\": 2.15, \"high\": 2.16, \"low\": 2.14, \"close\": 2.14, \"volume\": 266606300, \"date\": \"2005-02-01T00:00:00\"}, {\"ticker\": \"AMZN\", \"year\": 2005, \"month\": 3, \"__index_level_0__\": 23580, \"open\": 1.81, \"high\": 1.82, \"low\": 1.81, \"close\": 1.81, \"volume\": 27917680, \"date\": \"2005-03-01T00:00:00\"}, {\"ticker\": \"AMZN\", \"year\": 2005, \"month\": 4, \"__index_level_0__\": 23853, \"open\": 1.76, \"high\": 1.76, \"low\": 1.76, \"close\": 1.76, \"volume\": 134592100, \"date\": \"2005-04-01T00:00:00\"}, {\"ticker\": \"AMZN\", \"year\": 2005, \"month\": 5, \"__index_level_0__\": 24126, \"open\": 1.8, \"high\": 1.8, \"low\": 1.79, \"close\": 1.8, \"volume\": 33089120, \"date\": \"2005-05-01T00:00:00\"}, {\"ticker\": \"AMZN\", \"year\": 2005, \"month\": 6, \"__index_level_0__\": 24412, \"open\": 1.84, \"high\": 1.84, \"low\": 1.84, \"close\": 1.84, \"volume\": 33306380, \"date\": \"2005-06-01T00:00:00\"}, {\"ticker\": \"AMZN\", \"year\": 2005, \"month\": 7, \"__index_level_0__\": 24672, \"open\": 2.28, \"high\": 2.29, \"low\": 2.27, \"close\": 2.28, \"volume\": 187272500, \"date\": \"2005-07-01T00:00:00\"}, {\"ticker\": \"AMZN\", \"year\": 2005, \"month\": 8, \"__index_level_0__\": 24971, \"open\": 2.34, \"high\": 2.34, \"low\": 2.33, \"close\": 2.34, \"volume\": 41837180, \"date\": \"2005-08-01T00:00:00\"}, {\"ticker\": \"AMZN\", \"year\": 2005, \"month\": 9, \"__index_level_0__\": 25244, \"open\": 2.28, \"high\": 2.29, \"low\": 2.27, \"close\": 2.28, \"volume\": 31044920, \"date\": \"2005-09-01T00:00:00\"}, {\"ticker\": \"AMZN\", \"year\": 2005, \"month\": 10, \"__index_level_0__\": 25517, \"open\": 2.34, \"high\": 2.35, \"low\": 2.33, \"close\": 2.34, \"volume\": 141783740, \"date\": \"2005-10-01T00:00:00\"}, {\"ticker\": \"AMZN\", \"year\": 2005, \"month\": 11, \"__index_level_0__\": 25785, \"open\": 2.46, \"high\": 2.47, \"low\": 2.43, \"close\": 2.46, \"volume\": 269947900, \"date\": \"2005-11-01T00:00:00\"}, {\"ticker\": \"AMZN\", \"year\": 2005, \"month\": 12, \"__index_level_0__\": 26058, \"open\": 2.49, \"high\": 2.5, \"low\": 2.48, \"close\": 2.49, \"volume\": 37187440, \"date\": \"2005-12-01T00:00:00\"}, {\"ticker\": \"AMZN\", \"year\": 2006, \"month\": 1, \"__index_level_0__\": 26318, \"open\": 2.41, \"high\": 2.42, \"low\": 2.4, \"close\": 2.41, \"volume\": 34253280, \"date\": \"2006-01-01T00:00:00\"}, {\"ticker\": \"AMZN\", \"year\": 2006, \"month\": 2, \"__index_level_0__\": 26565, \"open\": 2.22, \"high\": 2.23, \"low\": 2.2, \"close\": 2.22, \"volume\": 141756260, \"date\": \"2006-02-01T00:00:00\"}, {\"ticker\": \"AMZN\", \"year\": 2006, \"month\": 3, \"__index_level_0__\": 26864, \"open\": 1.88, \"high\": 1.89, \"low\": 1.87, \"close\": 1.88, \"volume\": 55930640, \"date\": \"2006-03-01T00:00:00\"}, {\"ticker\": \"AMZN\", \"year\": 2006, \"month\": 4, \"__index_level_0__\": 27111, \"open\": 1.93, \"high\": 1.94, \"low\": 1.92, \"close\": 1.93, \"volume\": 63556980, \"date\": \"2006-04-01T00:00:00\"}, {\"ticker\": \"AMZN\", \"year\": 2006, \"month\": 5, \"__index_level_0__\": 27397, \"open\": 1.82, \"high\": 1.82, \"low\": 1.81, \"close\": 1.82, \"volume\": 32114320, \"date\": \"2006-05-01T00:00:00\"}, {\"ticker\": \"AMZN\", \"year\": 2006, \"month\": 6, \"__index_level_0__\": 27683, \"open\": 1.94, \"high\": 1.94, \"low\": 1.93, \"close\": 1.94, \"volume\": 27145180, \"date\": \"2006-06-01T00:00:00\"}, {\"ticker\": \"AMZN\", \"year\": 2006, \"month\": 7, \"__index_level_0__\": 27938, \"open\": 1.93, \"high\": 1.93, \"low\": 1.93, \"close\": 1.93, \"volume\": 191024520, \"date\": \"2006-07-01T00:00:00\"}, {\"ticker\": \"AMZN\", \"year\": 2006, \"month\": 8, \"__index_level_0__\": 28237, \"open\": 1.54, \"high\": 1.54, \"low\": 1.53, \"close\": 1.54, \"volume\": 32328480, \"date\": \"2006-08-01T00:00:00\"}, {\"ticker\": \"AMZN\", \"year\": 2006, \"month\": 9, \"__index_level_0__\": 28497, \"open\": 1.63, \"high\": 1.64, \"low\": 1.62, \"close\": 1.63, \"volume\": 54459260, \"date\": \"2006-09-01T00:00:00\"}, {\"ticker\": \"AMZN\", \"year\": 2006, \"month\": 10, \"__index_level_0__\": 28783, \"open\": 1.92, \"high\": 1.92, \"low\": 1.91, \"close\": 1.92, \"volume\": 181664220, \"date\": \"2006-10-01T00:00:00\"}, {\"ticker\": \"AMZN\", \"year\": 2006, \"month\": 11, \"__index_level_0__\": 29051, \"open\": 2.15, \"high\": 2.16, \"low\": 2.15, \"close\": 2.15, \"volume\": 43710280, \"date\": \"2006-11-01T00:00:00\"}, {\"ticker\": \"AMZN\", \"year\": 2006, \"month\": 12, \"__index_level_0__\": 29311, \"open\": 2.02, \"high\": 2.03, \"low\": 2.01, \"close\": 2.02, \"volume\": 35597380, \"date\": \"2006-12-01T00:00:00\"}, {\"ticker\": \"AMZN\", \"year\": 2007, \"month\": 1, \"__index_level_0__\": 29571, \"open\": 1.94, \"high\": 1.95, \"low\": 1.94, \"close\": 1.94, \"volume\": 25289780, \"date\": \"2007-01-01T00:00:00\"}, {\"ticker\": \"AMZN\", \"year\": 2007, \"month\": 2, \"__index_level_0__\": 29818, \"open\": 2.08, \"high\": 2.1, \"low\": 2.07, \"close\": 2.08, \"volume\": 75887140, \"date\": \"2007-02-01T00:00:00\"}, {\"ticker\": \"AMZN\", \"year\": 2007, \"month\": 3, \"__index_level_0__\": 30104, \"open\": 2.0, \"high\": 2.01, \"low\": 2.0, \"close\": 2.0, \"volume\": 31702780, \"date\": \"2007-03-01T00:00:00\"}, {\"ticker\": \"AMZN\", \"year\": 2007, \"month\": 4, \"__index_level_0__\": 30364, \"open\": 3.16, \"high\": 3.19, \"low\": 3.12, \"close\": 3.16, \"volume\": 332665980, \"date\": \"2007-04-01T00:00:00\"}, {\"ticker\": \"AMZN\", \"year\": 2007, \"month\": 5, \"__index_level_0__\": 30650, \"open\": 3.62, \"high\": 3.66, \"low\": 3.61, \"close\": 3.62, \"volume\": 96950840, \"date\": \"2007-05-01T00:00:00\"}, {\"ticker\": \"AMZN\", \"year\": 2007, \"month\": 6, \"__index_level_0__\": 30923, \"open\": 3.71, \"high\": 3.73, \"low\": 3.69, \"close\": 3.71, \"volume\": 79271960, \"date\": \"2007-06-01T00:00:00\"}, {\"ticker\": \"AMZN\", \"year\": 2007, \"month\": 7, \"__index_level_0__\": 31194, \"open\": 4.41, \"high\": 4.45, \"low\": 4.37, \"close\": 4.41, \"volume\": 303039480, \"date\": \"2007-07-01T00:00:00\"}, {\"ticker\": \"AMZN\", \"year\": 2007, \"month\": 8, \"__index_level_0__\": 31493, \"open\": 4.02, \"high\": 4.04, \"low\": 4.0, \"close\": 4.02, \"volume\": 48524880, \"date\": \"2007-08-01T00:00:00\"}, {\"ticker\": \"AMZN\", \"year\": 2007, \"month\": 9, \"__index_level_0__\": 31740, \"open\": 4.7, \"high\": 4.71, \"low\": 4.67, \"close\": 4.69, \"volume\": 35904400, \"date\": \"2007-09-01T00:00:00\"}, {\"ticker\": \"AMZN\", \"year\": 2007, \"month\": 10, \"__index_level_0__\": 32039, \"open\": 4.95, \"high\": 5.05, \"low\": 4.95, \"close\": 5.05, \"volume\": 168778920, \"date\": \"2007-10-01T00:00:00\"}, {\"ticker\": \"AMZN\", \"year\": 2007, \"month\": 11, \"__index_level_0__\": 32311, \"open\": 4.54, \"high\": 4.57, \"low\": 4.52, \"close\": 4.54, \"volume\": 44748340, \"date\": \"2007-11-01T00:00:00\"}, {\"ticker\": \"AMZN\", \"year\": 2007, \"month\": 12, \"__index_level_0__\": 32569, \"open\": 4.79, \"high\": 4.79, \"low\": 4.75, \"close\": 4.79, \"volume\": 38116780, \"date\": \"2007-12-01T00:00:00\"}, {\"ticker\": \"AMZN\", \"year\": 2008, \"month\": 1, \"__index_level_0__\": 32842, \"open\": 4.85, \"high\": 4.87, \"low\": 4.84, \"close\": 4.85, \"volume\": 214222960, \"date\": \"2008-01-01T00:00:00\"}, {\"ticker\": \"AMZN\", \"year\": 2008, \"month\": 2, \"__index_level_0__\": 33102, \"open\": 3.95, \"high\": 3.97, \"low\": 3.91, \"close\": 3.92, \"volume\": 56786560, \"date\": \"2008-02-01T00:00:00\"}, {\"ticker\": \"AMZN\", \"year\": 2008, \"month\": 3, \"__index_level_0__\": 33362, \"open\": 3.81, \"high\": 3.84, \"low\": 3.79, \"close\": 3.81, \"volume\": 52028540, \"date\": \"2008-03-01T00:00:00\"}, {\"ticker\": \"AMZN\", \"year\": 2008, \"month\": 4, \"__index_level_0__\": 33648, \"open\": 4.12, \"high\": 4.13, \"low\": 4.09, \"close\": 4.12, \"volume\": 93140180, \"date\": \"2008-04-01T00:00:00\"}, {\"ticker\": \"AMZN\", \"year\": 2008, \"month\": 5, \"__index_level_0__\": 33921, \"open\": 4.21, \"high\": 4.23, \"low\": 4.19, \"close\": 4.21, \"volume\": 43692340, \"date\": \"2008-05-01T00:00:00\"}, {\"ticker\": \"AMZN\", \"year\": 2008, \"month\": 6, \"__index_level_0__\": 34194, \"open\": 4.22, \"high\": 4.24, \"low\": 4.21, \"close\": 4.22, \"volume\": 32122400, \"date\": \"2008-06-01T00:00:00\"}, {\"ticker\": \"AMZN\", \"year\": 2008, \"month\": 7, \"__index_level_0__\": 34478, \"open\": 4.08, \"high\": 4.11, \"low\": 4.06, \"close\": 4.08, \"volume\": 129006720, \"date\": \"2008-07-01T00:00:00\"}, {\"ticker\": \"AMZN\", \"year\": 2008, \"month\": 8, \"__index_level_0__\": 34751, \"open\": 4.5600000000000005, \"high\": 4.58, \"low\": 4.46, \"close\": 4.5600000000000005, \"volume\": 76117420, \"date\": \"2008-08-01T00:00:00\"}, {\"ticker\": \"AMZN\", \"year\": 2008, \"month\": 9, \"__index_level_0__\": 35024, \"open\": 4.18, \"high\": 4.33, \"low\": 4.16, \"close\": 4.18, \"volume\": 79534140, \"date\": \"2008-09-01T00:00:00\"}, {\"ticker\": \"AMZN\", \"year\": 2008, \"month\": 10, \"__index_level_0__\": 35323, \"open\": 3.58, \"high\": 3.59, \"low\": 3.5, \"close\": 3.52, \"volume\": 115759820, \"date\": \"2008-10-01T00:00:00\"}, {\"ticker\": \"AMZN\", \"year\": 2008, \"month\": 11, \"__index_level_0__\": 35567, \"open\": 2.91, \"high\": 2.93, \"low\": 2.88, \"close\": 2.92, \"volume\": 60544000, \"date\": \"2008-11-01T00:00:00\"}, {\"ticker\": \"AMZN\", \"year\": 2008, \"month\": 12, \"__index_level_0__\": 35851, \"open\": 2.71, \"high\": 2.74, \"low\": 2.69, \"close\": 2.71, \"volume\": 75257960, \"date\": \"2008-12-01T00:00:00\"}, {\"ticker\": \"AMZN\", \"year\": 2009, \"month\": 1, \"__index_level_0__\": 36111, \"open\": 2.96, \"high\": 2.98, \"low\": 2.93, \"close\": 2.96, \"volume\": 165075820, \"date\": \"2009-01-01T00:00:00\"}, {\"ticker\": \"AMZN\", \"year\": 2009, \"month\": 2, \"__index_level_0__\": 36358, \"open\": 3.36, \"high\": 3.36, \"low\": 3.32, \"close\": 3.36, \"volume\": 60890520, \"date\": \"2009-02-01T00:00:00\"}, {\"ticker\": \"AMZN\", \"year\": 2009, \"month\": 3, \"__index_level_0__\": 36644, \"open\": 3.74, \"high\": 3.78, \"low\": 3.73, \"close\": 3.78, \"volume\": 51350840, \"date\": \"2009-03-01T00:00:00\"}, {\"ticker\": \"AMZN\", \"year\": 2009, \"month\": 4, \"__index_level_0__\": 36917, \"open\": 4.32, \"high\": 4.33, \"low\": 4.29, \"close\": 4.32, \"volume\": 89089280, \"date\": \"2009-04-01T00:00:00\"}, {\"ticker\": \"AMZN\", \"year\": 2009, \"month\": 5, \"__index_level_0__\": 37177, \"open\": 4.15, \"high\": 4.17, \"low\": 4.12, \"close\": 4.15, \"volume\": 26752820, \"date\": \"2009-05-01T00:00:00\"}, {\"ticker\": \"AMZN\", \"year\": 2009, \"month\": 6, \"__index_level_0__\": 37463, \"open\": 4.37, \"high\": 4.42, \"low\": 4.36, \"close\": 4.38, \"volume\": 37186360, \"date\": \"2009-06-01T00:00:00\"}, {\"ticker\": \"AMZN\", \"year\": 2009, \"month\": 7, \"__index_level_0__\": 37749, \"open\": 4.7, \"high\": 4.72, \"low\": 4.69, \"close\": 4.7, \"volume\": 90855580, \"date\": \"2009-07-01T00:00:00\"}, {\"ticker\": \"AMZN\", \"year\": 2009, \"month\": 8, \"__index_level_0__\": 38022, \"open\": 4.39, \"high\": 4.41, \"low\": 4.38, \"close\": 4.39, \"volume\": 27418600, \"date\": \"2009-08-01T00:00:00\"}, {\"ticker\": \"AMZN\", \"year\": 2009, \"month\": 9, \"__index_level_0__\": 38295, \"open\": 4.7, \"high\": 4.72, \"low\": 4.68, \"close\": 4.7, \"volume\": 41258120, \"date\": \"2009-09-01T00:00:00\"}, {\"ticker\": \"AMZN\", \"year\": 2009, \"month\": 10, \"__index_level_0__\": 38581, \"open\": 6.23, \"high\": 6.28, \"low\": 6.22, \"close\": 6.23, \"volume\": 201958040, \"date\": \"2009-10-01T00:00:00\"}, {\"ticker\": \"AMZN\", \"year\": 2009, \"month\": 11, \"__index_level_0__\": 38840, \"open\": 6.77, \"high\": 6.8, \"low\": 6.76, \"close\": 6.79, \"volume\": 56499480, \"date\": \"2009-11-01T00:00:00\"}, {\"ticker\": \"AMZN\", \"year\": 2009, \"month\": 12, \"__index_level_0__\": 39126, \"open\": 7.27, \"high\": 7.29, \"low\": 7.25, \"close\": 7.27, \"volume\": 56584060, \"date\": \"2009-12-01T00:00:00\"}, {\"ticker\": \"AMZN\", \"year\": 2010, \"month\": 1, \"__index_level_0__\": 39373, \"open\": 6.8, \"high\": 6.83, \"low\": 6.75, \"close\": 6.8, \"volume\": 115006120, \"date\": \"2010-01-01T00:00:00\"}, {\"ticker\": \"AMZN\", \"year\": 2010, \"month\": 2, \"__index_level_0__\": 39620, \"open\": 6.16, \"high\": 6.24, \"low\": 6.06, \"close\": 6.08, \"volume\": 84991680, \"date\": \"2010-02-01T00:00:00\"}, {\"ticker\": \"AMZN\", \"year\": 2010, \"month\": 3, \"__index_level_0__\": 39919, \"open\": 6.88, \"high\": 6.9, \"low\": 6.85, \"close\": 6.87, \"volume\": 60440020, \"date\": \"2010-03-01T00:00:00\"}, {\"ticker\": \"AMZN\", \"year\": 2010, \"month\": 4, \"__index_level_0__\": 40192, \"open\": 7.5, \"high\": 7.55, \"low\": 7.47, \"close\": 7.5, \"volume\": 99420240, \"date\": \"2010-04-01T00:00:00\"}, {\"ticker\": \"AMZN\", \"year\": 2010, \"month\": 5, \"__index_level_0__\": 40452, \"open\": 6.97, \"high\": 6.97, \"low\": 6.93, \"close\": 6.96, \"volume\": 41026920, \"date\": \"2010-05-01T00:00:00\"}, {\"ticker\": \"AMZN\", \"year\": 2010, \"month\": 6, \"__index_level_0__\": 40738, \"open\": 6.42, \"high\": 6.45, \"low\": 6.41, \"close\": 6.43, \"volume\": 76831200, \"date\": \"2010-06-01T00:00:00\"}, {\"ticker\": \"AMZN\", \"year\": 2010, \"month\": 7, \"__index_level_0__\": 41011, \"open\": 6.2, \"high\": 6.24, \"low\": 6.18, \"close\": 6.2, \"volume\": 178961500, \"date\": \"2010-07-01T00:00:00\"}, {\"ticker\": \"AMZN\", \"year\": 2010, \"month\": 8, \"__index_level_0__\": 41297, \"open\": 6.52, \"high\": 6.54, \"low\": 6.51, \"close\": 6.52, \"volume\": 33820720, \"date\": \"2010-08-01T00:00:00\"}, {\"ticker\": \"AMZN\", \"year\": 2010, \"month\": 9, \"__index_level_0__\": 41570, \"open\": 8.05, \"high\": 8.08, \"low\": 8.03, \"close\": 8.06, \"volume\": 35033220, \"date\": \"2010-09-01T00:00:00\"}, {\"ticker\": \"AMZN\", \"year\": 2010, \"month\": 10, \"__index_level_0__\": 41843, \"open\": 8.57, \"high\": 8.59, \"low\": 8.51, \"close\": 8.57, \"volume\": 72840640, \"date\": \"2010-10-01T00:00:00\"}, {\"ticker\": \"AMZN\", \"year\": 2010, \"month\": 11, \"__index_level_0__\": 42116, \"open\": 9.03, \"high\": 9.09, \"low\": 8.99, \"close\": 9.03, \"volume\": 53742620, \"date\": \"2010-11-01T00:00:00\"}, {\"ticker\": \"AMZN\", \"year\": 2010, \"month\": 12, \"__index_level_0__\": 42402, \"open\": 9.26, \"high\": 9.28, \"low\": 9.24, \"close\": 9.26, \"volume\": 30963400, \"date\": \"2010-12-01T00:00:00\"}, {\"ticker\": \"AMZN\", \"year\": 2011, \"month\": 1, \"__index_level_0__\": 42662, \"open\": 9.55, \"high\": 9.58, \"low\": 9.54, \"close\": 9.56, \"volume\": 110460500, \"date\": \"2011-01-01T00:00:00\"}, {\"ticker\": \"AMZN\", \"year\": 2011, \"month\": 2, \"__index_level_0__\": 42909, \"open\": 9.53, \"high\": 9.57, \"low\": 9.52, \"close\": 9.53, \"volume\": 29826040, \"date\": \"2011-02-01T00:00:00\"}, {\"ticker\": \"AMZN\", \"year\": 2011, \"month\": 3, \"__index_level_0__\": 43208, \"open\": 9.05, \"high\": 9.07, \"low\": 9.03, \"close\": 9.05, \"volume\": 30282320, \"date\": \"2011-03-01T00:00:00\"}, {\"ticker\": \"AMZN\", \"year\": 2011, \"month\": 4, \"__index_level_0__\": 43468, \"open\": 9.82, \"high\": 9.89, \"low\": 9.8, \"close\": 9.83, \"volume\": 96057060, \"date\": \"2011-04-01T00:00:00\"}, {\"ticker\": \"AMZN\", \"year\": 2011, \"month\": 5, \"__index_level_0__\": 43741, \"open\": 10.3, \"high\": 10.31, \"low\": 10.27, \"close\": 10.3, \"volume\": 28619520, \"date\": \"2011-05-01T00:00:00\"}, {\"ticker\": \"AMZN\", \"year\": 2011, \"month\": 6, \"__index_level_0__\": 44027, \"open\": 10.26, \"high\": 10.31, \"low\": 10.23, \"close\": 10.26, \"volume\": 34879300, \"date\": \"2011-06-01T00:00:00\"}, {\"ticker\": \"AMZN\", \"year\": 2011, \"month\": 7, \"__index_level_0__\": 44287, \"open\": 11.31, \"high\": 11.36, \"low\": 11.25, \"close\": 11.31, \"volume\": 63436080, \"date\": \"2011-07-01T00:00:00\"}, {\"ticker\": \"AMZN\", \"year\": 2011, \"month\": 8, \"__index_level_0__\": 44586, \"open\": 11.27, \"high\": 11.37, \"low\": 11.2, \"close\": 11.27, \"volume\": 32894640, \"date\": \"2011-08-01T00:00:00\"}, {\"ticker\": \"AMZN\", \"year\": 2011, \"month\": 9, \"__index_level_0__\": 44859, \"open\": 12.14, \"high\": 12.2, \"low\": 12.08, \"close\": 12.14, \"volume\": 59709420, \"date\": \"2011-09-01T00:00:00\"}, {\"ticker\": \"AMZN\", \"year\": 2011, \"month\": 10, \"__index_level_0__\": 45132, \"open\": 12.24, \"high\": 12.33, \"low\": 12.24, \"close\": 12.33, \"volume\": 101427320, \"date\": \"2011-10-01T00:00:00\"}, {\"ticker\": \"AMZN\", \"year\": 2011, \"month\": 11, \"__index_level_0__\": 45405, \"open\": 11.06, \"high\": 11.11, \"low\": 11.03, \"close\": 11.06, \"volume\": 53199640, \"date\": \"2011-11-01T00:00:00\"}, {\"ticker\": \"AMZN\", \"year\": 2011, \"month\": 12, \"__index_level_0__\": 45678, \"open\": 9.96, \"high\": 9.98, \"low\": 9.9, \"close\": 9.96, \"volume\": 36318340, \"date\": \"2011-12-01T00:00:00\"}, {\"ticker\": \"AMZN\", \"year\": 2012, \"month\": 1, \"__index_level_0__\": 45938, \"open\": 9.77, \"high\": 9.82, \"low\": 9.75, \"close\": 9.77, \"volume\": 33253880, \"date\": \"2012-01-01T00:00:00\"}, {\"ticker\": \"AMZN\", \"year\": 2012, \"month\": 2, \"__index_level_0__\": 46198, \"open\": 9.64, \"high\": 9.67, \"low\": 9.57, \"close\": 9.64, \"volume\": 110962860, \"date\": \"2012-02-01T00:00:00\"}, {\"ticker\": \"AMZN\", \"year\": 2012, \"month\": 3, \"__index_level_0__\": 46484, \"open\": 10.48, \"high\": 10.49, \"low\": 10.46, \"close\": 10.48, \"volume\": 33870500, \"date\": \"2012-03-01T00:00:00\"}, {\"ticker\": \"AMZN\", \"year\": 2012, \"month\": 4, \"__index_level_0__\": 46744, \"open\": 11.66, \"high\": 11.69, \"low\": 11.62, \"close\": 11.66, \"volume\": 114277960, \"date\": \"2012-04-01T00:00:00\"}, {\"ticker\": \"AMZN\", \"year\": 2012, \"month\": 5, \"__index_level_0__\": 47030, \"open\": 11.61, \"high\": 11.64, \"low\": 11.59, \"close\": 11.61, \"volume\": 38885400, \"date\": \"2012-05-01T00:00:00\"}, {\"ticker\": \"AMZN\", \"year\": 2012, \"month\": 6, \"__index_level_0__\": 47303, \"open\": 11.41, \"high\": 11.41, \"low\": 11.39, \"close\": 11.41, \"volume\": 16511080, \"date\": \"2012-06-01T00:00:00\"}, {\"ticker\": \"AMZN\", \"year\": 2012, \"month\": 7, \"__index_level_0__\": 47576, \"open\": 11.86, \"high\": 12.03, \"low\": 11.82, \"close\": 11.87, \"volume\": 65762920, \"date\": \"2012-07-01T00:00:00\"}, {\"ticker\": \"AMZN\", \"year\": 2012, \"month\": 8, \"__index_level_0__\": 47875, \"open\": 12.45, \"high\": 12.5, \"low\": 12.43, \"close\": 12.45, \"volume\": 20677260, \"date\": \"2012-08-01T00:00:00\"}, {\"ticker\": \"AMZN\", \"year\": 2012, \"month\": 9, \"__index_level_0__\": 48122, \"open\": 13.17, \"high\": 13.2, \"low\": 13.12, \"close\": 13.17, \"volume\": 29176880, \"date\": \"2012-09-01T00:00:00\"}, {\"ticker\": \"AMZN\", \"year\": 2012, \"month\": 10, \"__index_level_0__\": 48395, \"open\": 13.06, \"high\": 13.09, \"low\": 13.03, \"close\": 13.06, \"volume\": 53516400, \"date\": \"2012-10-01T00:00:00\"}, {\"ticker\": \"AMZN\", \"year\": 2012, \"month\": 11, \"__index_level_0__\": 48668, \"open\": 12.61, \"high\": 12.63, \"low\": 12.58, \"close\": 12.61, \"volume\": 22563000, \"date\": \"2012-11-01T00:00:00\"}, {\"ticker\": \"AMZN\", \"year\": 2012, \"month\": 12, \"__index_level_0__\": 48927, \"open\": 13.15, \"high\": 13.15, \"low\": 13.08, \"close\": 13.15, \"volume\": 36982580, \"date\": \"2012-12-01T00:00:00\"}, {\"ticker\": \"AMZN\", \"year\": 2013, \"month\": 1, \"__index_level_0__\": 49200, \"open\": 14.18, \"high\": 14.23, \"low\": 14.15, \"close\": 14.2, \"volume\": 76284180, \"date\": \"2013-01-01T00:00:00\"}, {\"ticker\": \"AMZN\", \"year\": 2013, \"month\": 2, \"__index_level_0__\": 49447, \"open\": 13.7, \"high\": 13.71, \"low\": 13.61, \"close\": 13.7, \"volume\": 19662780, \"date\": \"2013-02-01T00:00:00\"}, {\"ticker\": \"AMZN\", \"year\": 2013, \"month\": 3, \"__index_level_0__\": 49707, \"open\": 13.83, \"high\": 13.87, \"low\": 13.75, \"close\": 13.84, \"volume\": 27245540, \"date\": \"2013-03-01T00:00:00\"}, {\"ticker\": \"AMZN\", \"year\": 2013, \"month\": 4, \"__index_level_0__\": 49993, \"open\": 13.75, \"high\": 13.79, \"low\": 13.75, \"close\": 13.75, \"volume\": 51810420, \"date\": \"2013-04-01T00:00:00\"}, {\"ticker\": \"AMZN\", \"year\": 2013, \"month\": 5, \"__index_level_0__\": 50279, \"open\": 13.59, \"high\": 13.59, \"low\": 13.57, \"close\": 13.59, \"volume\": 17111180, \"date\": \"2013-05-01T00:00:00\"}, {\"ticker\": \"AMZN\", \"year\": 2013, \"month\": 6, \"__index_level_0__\": 50539, \"open\": 14.14, \"high\": 14.16, \"low\": 14.12, \"close\": 14.14, \"volume\": 27120840, \"date\": \"2013-06-01T00:00:00\"}, {\"ticker\": \"AMZN\", \"year\": 2013, \"month\": 7, \"__index_level_0__\": 50824, \"open\": 15.65, \"high\": 15.68, \"low\": 15.58, \"close\": 15.65, \"volume\": 34775860, \"date\": \"2013-07-01T00:00:00\"}, {\"ticker\": \"AMZN\", \"year\": 2013, \"month\": 8, \"__index_level_0__\": 51106, \"open\": 15.23, \"high\": 15.31, \"low\": 15.23, \"close\": 15.27, \"volume\": 14536240, \"date\": \"2013-08-01T00:00:00\"}, {\"ticker\": \"AMZN\", \"year\": 2013, \"month\": 9, \"__index_level_0__\": 51366, \"open\": 15.98, \"high\": 16.02, \"low\": 15.91, \"close\": 15.98, \"volume\": 21519580, \"date\": \"2013-09-01T00:00:00\"}, {\"ticker\": \"AMZN\", \"year\": 2013, \"month\": 10, \"__index_level_0__\": 51665, \"open\": 18.27, \"high\": 18.41, \"low\": 18.23, \"close\": 18.27, \"volume\": 80713280, \"date\": \"2013-10-01T00:00:00\"}, {\"ticker\": \"AMZN\", \"year\": 2013, \"month\": 11, \"__index_level_0__\": 51925, \"open\": 19.69, \"high\": 19.7, \"low\": 19.69, \"close\": 19.69, \"volume\": 19727260, \"date\": \"2013-11-01T00:00:00\"}, {\"ticker\": \"AMZN\", \"year\": 2013, \"month\": 12, \"__index_level_0__\": 52195, \"open\": 20.23, \"high\": 20.28, \"low\": 20.2, \"close\": 20.24, \"volume\": 24710740, \"date\": \"2013-12-01T00:00:00\"}, {\"ticker\": \"AMZN\", \"year\": 2014, \"month\": 1, \"__index_level_0__\": 52468, \"open\": 20.39, \"high\": 20.4, \"low\": 20.28, \"close\": 20.35, \"volume\": 53607160, \"date\": \"2014-01-01T00:00:00\"}, {\"ticker\": \"AMZN\", \"year\": 2014, \"month\": 2, \"__index_level_0__\": 52715, \"open\": 18.28, \"high\": 18.29, \"low\": 18.22, \"close\": 18.27, \"volume\": 27072040, \"date\": \"2014-02-01T00:00:00\"}, {\"ticker\": \"AMZN\", \"year\": 2014, \"month\": 3, \"__index_level_0__\": 52988, \"open\": 19.05, \"high\": 19.15, \"low\": 18.96, \"close\": 19.04, \"volume\": 24776280, \"date\": \"2014-03-01T00:00:00\"}, {\"ticker\": \"AMZN\", \"year\": 2014, \"month\": 4, \"__index_level_0__\": 53261, \"open\": 17.29, \"high\": 17.41, \"low\": 17.21, \"close\": 17.24, \"volume\": 80956240, \"date\": \"2014-04-01T00:00:00\"}, {\"ticker\": \"AMZN\", \"year\": 2014, \"month\": 5, \"__index_level_0__\": 53534, \"open\": 15.72, \"high\": 15.74, \"low\": 15.68, \"close\": 15.72, \"volume\": 25147040, \"date\": \"2014-05-01T00:00:00\"}, {\"ticker\": \"AMZN\", \"year\": 2014, \"month\": 6, \"__index_level_0__\": 53807, \"open\": 16.95, \"high\": 17.03, \"low\": 16.92, \"close\": 16.95, \"volume\": 26223220, \"date\": \"2014-06-01T00:00:00\"}, {\"ticker\": \"AMZN\", \"year\": 2014, \"month\": 7, \"__index_level_0__\": 54091, \"open\": 18.11, \"high\": 18.24, \"low\": 18.06, \"close\": 18.11, \"volume\": 84516020, \"date\": \"2014-07-01T00:00:00\"}, {\"ticker\": \"AMZN\", \"year\": 2014, \"month\": 8, \"__index_level_0__\": 54364, \"open\": 17.31, \"high\": 17.33, \"low\": 17.19, \"close\": 17.31, \"volume\": 24939240, \"date\": \"2014-08-01T00:00:00\"}, {\"ticker\": \"AMZN\", \"year\": 2014, \"month\": 9, \"__index_level_0__\": 54637, \"open\": 17.43, \"high\": 17.46, \"low\": 17.4, \"close\": 17.43, \"volume\": 31085040, \"date\": \"2014-09-01T00:00:00\"}, {\"ticker\": \"AMZN\", \"year\": 2014, \"month\": 10, \"__index_level_0__\": 54936, \"open\": 16.25, \"high\": 16.25, \"low\": 16.19, \"close\": 16.24, \"volume\": 85501480, \"date\": \"2014-10-01T00:00:00\"}, {\"ticker\": \"AMZN\", \"year\": 2014, \"month\": 11, \"__index_level_0__\": 55181, \"open\": 17.04, \"high\": 17.06, \"low\": 16.96, \"close\": 17.04, \"volume\": 22134560, \"date\": \"2014-11-01T00:00:00\"}, {\"ticker\": \"AMZN\", \"year\": 2014, \"month\": 12, \"__index_level_0__\": 55465, \"open\": 16.9, \"high\": 17.03, \"low\": 16.65, \"close\": 16.71, \"volume\": 31649160, \"date\": \"2014-12-01T00:00:00\"}, {\"ticker\": \"AMZN\", \"year\": 2015, \"month\": 1, \"__index_level_0__\": 55725, \"open\": 17.94, \"high\": 17.97, \"low\": 17.86, \"close\": 17.93, \"volume\": 92848500, \"date\": \"2015-01-01T00:00:00\"}, {\"ticker\": \"AMZN\", \"year\": 2015, \"month\": 2, \"__index_level_0__\": 55972, \"open\": 19.38, \"high\": 19.46, \"low\": 19.33, \"close\": 19.38, \"volume\": 25932920, \"date\": \"2015-02-01T00:00:00\"}, {\"ticker\": \"AMZN\", \"year\": 2015, \"month\": 3, \"__index_level_0__\": 56258, \"open\": 19.39, \"high\": 19.42, \"low\": 19.37, \"close\": 19.39, \"volume\": 17584460, \"date\": \"2015-03-01T00:00:00\"}, {\"ticker\": \"AMZN\", \"year\": 2015, \"month\": 4, \"__index_level_0__\": 56531, \"open\": 22.57, \"high\": 22.63, \"low\": 22.4, \"close\": 22.57, \"volume\": 92042040, \"date\": \"2015-04-01T00:00:00\"}, {\"ticker\": \"AMZN\", \"year\": 2015, \"month\": 5, \"__index_level_0__\": 56791, \"open\": 21.85, \"high\": 21.95, \"low\": 21.76, \"close\": 21.86, \"volume\": 26706400, \"date\": \"2015-05-01T00:00:00\"}, {\"ticker\": \"AMZN\", \"year\": 2015, \"month\": 6, \"__index_level_0__\": 57077, \"open\": 22.32, \"high\": 22.35, \"low\": 22.26, \"close\": 22.32, \"volume\": 27125920, \"date\": \"2015-06-01T00:00:00\"}, {\"ticker\": \"AMZN\", \"year\": 2015, \"month\": 7, \"__index_level_0__\": 57363, \"open\": 28.94, \"high\": 29.02, \"low\": 27.8, \"close\": 28.06, \"volume\": 94136840, \"date\": \"2015-07-01T00:00:00\"}, {\"ticker\": \"AMZN\", \"year\": 2015, \"month\": 8, \"__index_level_0__\": 57636, \"open\": 27.04, \"high\": 27.13, \"low\": 26.93, \"close\": 27.02, \"volume\": 37890240, \"date\": \"2015-08-01T00:00:00\"}, {\"ticker\": \"AMZN\", \"year\": 2015, \"month\": 9, \"__index_level_0__\": 57909, \"open\": 27.45, \"high\": 27.48, \"low\": 27.38, \"close\": 27.45, \"volume\": 24488780, \"date\": \"2015-09-01T00:00:00\"}, {\"ticker\": \"AMZN\", \"year\": 2015, \"month\": 10, \"__index_level_0__\": 58195, \"open\": 31.48, \"high\": 31.53, \"low\": 31.42, \"close\": 31.49, \"volume\": 55232200, \"date\": \"2015-10-01T00:00:00\"}, {\"ticker\": \"AMZN\", \"year\": 2015, \"month\": 11, \"__index_level_0__\": 58455, \"open\": 34.08, \"high\": 34.13, \"low\": 34.04, \"close\": 34.09, \"volume\": 23864880, \"date\": \"2015-11-01T00:00:00\"}, {\"ticker\": \"AMZN\", \"year\": 2015, \"month\": 12, \"__index_level_0__\": 58739, \"open\": 34.78, \"high\": 34.82, \"low\": 34.68, \"close\": 34.79, \"volume\": 23527740, \"date\": \"2015-12-01T00:00:00\"}, {\"ticker\": \"AMZN\", \"year\": 2016, \"month\": 1, \"__index_level_0__\": 58986, \"open\": 32.81, \"high\": 32.88, \"low\": 32.4, \"close\": 32.45, \"volume\": 67134100, \"date\": \"2016-01-01T00:00:00\"}, {\"ticker\": \"AMZN\", \"year\": 2016, \"month\": 2, \"__index_level_0__\": 59246, \"open\": 28.94, \"high\": 29.08, \"low\": 28.77, \"close\": 28.94, \"volume\": 41291440, \"date\": \"2016-02-01T00:00:00\"}, {\"ticker\": \"AMZN\", \"year\": 2016, \"month\": 3, \"__index_level_0__\": 59532, \"open\": 30.09, \"high\": 30.16, \"low\": 29.98, \"close\": 30.09, \"volume\": 28134340, \"date\": \"2016-03-01T00:00:00\"}, {\"ticker\": \"AMZN\", \"year\": 2016, \"month\": 4, \"__index_level_0__\": 59805, \"open\": 33.29, \"high\": 33.49, \"low\": 32.93, \"close\": 33.1, \"volume\": 53300180, \"date\": \"2016-04-01T00:00:00\"}, {\"ticker\": \"AMZN\", \"year\": 2016, \"month\": 5, \"__index_level_0__\": 60078, \"open\": 36.12, \"high\": 36.21, \"low\": 36.08, \"close\": 36.13, \"volume\": 23481120, \"date\": \"2016-05-01T00:00:00\"}, {\"ticker\": \"AMZN\", \"year\": 2016, \"month\": 6, \"__index_level_0__\": 60364, \"open\": 36.49, \"high\": 36.57, \"low\": 36.39, \"close\": 36.43, \"volume\": 23892700, \"date\": \"2016-06-01T00:00:00\"}, {\"ticker\": \"AMZN\", \"year\": 2016, \"month\": 7, \"__index_level_0__\": 60624, \"open\": 38.25, \"high\": 38.29, \"low\": 38.18, \"close\": 38.25, \"volume\": 33473100, \"date\": \"2016-07-01T00:00:00\"}, {\"ticker\": \"AMZN\", \"year\": 2016, \"month\": 8, \"__index_level_0__\": 60923, \"open\": 38.72, \"high\": 38.74, \"low\": 38.68, \"close\": 38.72, \"volume\": 13099540, \"date\": \"2016-08-01T00:00:00\"}, {\"ticker\": \"AMZN\", \"year\": 2016, \"month\": 9, \"__index_level_0__\": 61196, \"open\": 41.97, \"high\": 41.99, \"low\": 41.93, \"close\": 41.98, \"volume\": 24615920, \"date\": \"2016-09-01T00:00:00\"}, {\"ticker\": \"AMZN\", \"year\": 2016, \"month\": 10, \"__index_level_0__\": 61469, \"open\": 42.28, \"high\": 42.36, \"low\": 42.22, \"close\": 42.29, \"volume\": 43267420, \"date\": \"2016-10-01T00:00:00\"}, {\"ticker\": \"AMZN\", \"year\": 2016, \"month\": 11, \"__index_level_0__\": 61741, \"open\": 39.94, \"high\": 40.04, \"low\": 39.67, \"close\": 39.76, \"volume\": 38267020, \"date\": \"2016-11-01T00:00:00\"}, {\"ticker\": \"AMZN\", \"year\": 2016, \"month\": 12, \"__index_level_0__\": 62014, \"open\": 39.07, \"high\": 39.12, \"low\": 39.0, \"close\": 39.07, \"volume\": 18808000, \"date\": \"2016-12-01T00:00:00\"}, {\"ticker\": \"AMZN\", \"year\": 2017, \"month\": 1, \"__index_level_0__\": 62274, \"open\": 42.12, \"high\": 42.19, \"low\": 42.1, \"close\": 42.13, \"volume\": 18646060, \"date\": \"2017-01-01T00:00:00\"}, {\"ticker\": \"AMZN\", \"year\": 2017, \"month\": 2, \"__index_level_0__\": 62521, \"open\": 42.89, \"high\": 43.04, \"low\": 42.87, \"close\": 42.89, \"volume\": 49511400, \"date\": \"2017-02-01T00:00:00\"}, {\"ticker\": \"AMZN\", \"year\": 2017, \"month\": 3, \"__index_level_0__\": 62820, \"open\": 44.48, \"high\": 44.51, \"low\": 44.46, \"close\": 44.49, \"volume\": 18806540, \"date\": \"2017-03-01T00:00:00\"}, {\"ticker\": \"AMZN\", \"year\": 2017, \"month\": 4, \"__index_level_0__\": 63067, \"open\": 47.45, \"high\": 47.47, \"low\": 46.87, \"close\": 46.92, \"volume\": 26991100, \"date\": \"2017-04-01T00:00:00\"}, {\"ticker\": \"AMZN\", \"year\": 2017, \"month\": 5, \"__index_level_0__\": 63353, \"open\": 50.0, \"high\": 50.06, \"low\": 49.89, \"close\": 49.99, \"volume\": 18251960, \"date\": \"2017-05-01T00:00:00\"}, {\"ticker\": \"AMZN\", \"year\": 2017, \"month\": 6, \"__index_level_0__\": 63639, \"open\": 50.85, \"high\": 50.85, \"low\": 50.66, \"close\": 50.7, \"volume\": 53261320, \"date\": \"2017-06-01T00:00:00\"}, {\"ticker\": \"AMZN\", \"year\": 2017, \"month\": 7, \"__index_level_0__\": 63898, \"open\": 54.08, \"high\": 54.16, \"low\": 53.87, \"close\": 54.08, \"volume\": 27883900, \"date\": \"2017-07-01T00:00:00\"}, {\"ticker\": \"AMZN\", \"year\": 2017, \"month\": 8, \"__index_level_0__\": 64197, \"open\": 50.1, \"high\": 50.32, \"low\": 49.97, \"close\": 50.11, \"volume\": 16220800, \"date\": \"2017-08-01T00:00:00\"}, {\"ticker\": \"AMZN\", \"year\": 2017, \"month\": 9, \"__index_level_0__\": 64457, \"open\": 49.83, \"high\": 50.0, \"low\": 49.76, \"close\": 49.98, \"volume\": 18993960, \"date\": \"2017-09-01T00:00:00\"}, {\"ticker\": \"AMZN\", \"year\": 2017, \"month\": 10, \"__index_level_0__\": 64743, \"open\": 55.98, \"high\": 56.13, \"low\": 55.7, \"close\": 55.97, \"volume\": 63874800, \"date\": \"2017-10-01T00:00:00\"}, {\"ticker\": \"AMZN\", \"year\": 2017, \"month\": 11, \"__index_level_0__\": 65016, \"open\": 60.46, \"high\": 60.67, \"low\": 60.25, \"close\": 60.46, \"volume\": 29182560, \"date\": \"2017-11-01T00:00:00\"}, {\"ticker\": \"AMZN\", \"year\": 2017, \"month\": 12, \"__index_level_0__\": 65276, \"open\": 59.69, \"high\": 59.73, \"low\": 59.54, \"close\": 59.68, \"volume\": 19924440, \"date\": \"2017-12-01T00:00:00\"}, {\"ticker\": \"AMZN\", \"year\": 2018, \"month\": 1, \"__index_level_0__\": 65549, \"open\": 73.4, \"high\": 73.62, \"low\": 73.27, \"close\": 73.42, \"volume\": 19790400, \"date\": \"2018-01-01T00:00:00\"}, {\"ticker\": \"AMZN\", \"year\": 2018, \"month\": 2, \"__index_level_0__\": 65796, \"open\": 76.29, \"high\": 76.43, \"low\": 76.18, \"close\": 76.31, \"volume\": 40704060, \"date\": \"2018-02-01T00:00:00\"}, {\"ticker\": \"AMZN\", \"year\": 2018, \"month\": 3, \"__index_level_0__\": 66069, \"open\": 80.79, \"high\": 80.87, \"low\": 80.3, \"close\": 80.44, \"volume\": 37961400, \"date\": \"2018-03-01T00:00:00\"}, {\"ticker\": \"AMZN\", \"year\": 2018, \"month\": 4, \"__index_level_0__\": 66342, \"open\": 81.7, \"high\": 81.9, \"low\": 79.39, \"close\": 79.97, \"volume\": 47606840, \"date\": \"2018-04-01T00:00:00\"}, {\"ticker\": \"AMZN\", \"year\": 2018, \"month\": 5, \"__index_level_0__\": 66628, \"open\": 81.63, \"high\": 81.75, \"low\": 81.5, \"close\": 81.62, \"volume\": 15496440, \"date\": \"2018-05-01T00:00:00\"}, {\"ticker\": \"AMZN\", \"year\": 2018, \"month\": 6, \"__index_level_0__\": 66901, \"open\": 88.09, \"high\": 88.19, \"low\": 87.96, \"close\": 88.08, \"volume\": 21574500, \"date\": \"2018-06-01T00:00:00\"}, {\"ticker\": \"AMZN\", \"year\": 2018, \"month\": 7, \"__index_level_0__\": 67174, \"open\": 93.8, \"high\": 94.0, \"low\": 92.41, \"close\": 93.19, \"volume\": 28795020, \"date\": \"2018-07-01T00:00:00\"}, {\"ticker\": \"AMZN\", \"year\": 2018, \"month\": 8, \"__index_level_0__\": 67473, \"open\": 101.2, \"high\": 101.27, \"low\": 101.03, \"close\": 101.21, \"volume\": 18428160, \"date\": \"2018-08-01T00:00:00\"}, {\"ticker\": \"AMZN\", \"year\": 2018, \"month\": 9, \"__index_level_0__\": 67720, \"open\": 102.37, \"high\": 102.52, \"low\": 102.09, \"close\": 102.36, \"volume\": 20412920, \"date\": \"2018-09-01T00:00:00\"}, {\"ticker\": \"AMZN\", \"year\": 2018, \"month\": 10, \"__index_level_0__\": 68019, \"open\": 101.48, \"high\": 101.65, \"low\": 101.18, \"close\": 101.48, \"volume\": 40724000, \"date\": \"2018-10-01T00:00:00\"}, {\"ticker\": \"AMZN\", \"year\": 2018, \"month\": 11, \"__index_level_0__\": 68291, \"open\": 88.69, \"high\": 89.2, \"low\": 88.3, \"close\": 88.67, \"volume\": 28935060, \"date\": \"2018-11-01T00:00:00\"}, {\"ticker\": \"AMZN\", \"year\": 2018, \"month\": 12, \"__index_level_0__\": 68538, \"open\": 88.47, \"high\": 88.91, \"low\": 88.25, \"close\": 88.64, \"volume\": 27040600, \"date\": \"2018-12-01T00:00:00\"}, {\"ticker\": \"AMZN\", \"year\": 2019, \"month\": 1, \"__index_level_0__\": 68811, \"open\": 86.37, \"high\": 86.82, \"low\": 86.21, \"close\": 86.38, \"volume\": 22298000, \"date\": \"2019-01-01T00:00:00\"}, {\"ticker\": \"AMZN\", \"year\": 2019, \"month\": 2, \"__index_level_0__\": 69058, \"open\": 83.53, \"high\": 83.65, \"low\": 82.92, \"close\": 83.09, \"volume\": 34202660, \"date\": \"2019-02-01T00:00:00\"}, {\"ticker\": \"AMZN\", \"year\": 2019, \"month\": 3, \"__index_level_0__\": 69331, \"open\": 90.91, \"high\": 91.18, \"low\": 90.83, \"close\": 90.92, \"volume\": 21447140, \"date\": \"2019-03-01T00:00:00\"}, {\"ticker\": \"AMZN\", \"year\": 2019, \"month\": 4, \"__index_level_0__\": 69604, \"open\": 97.44, \"high\": 97.81, \"low\": 97.22, \"close\": 97.54, \"volume\": 20905680, \"date\": \"2019-04-01T00:00:00\"}, {\"ticker\": \"AMZN\", \"year\": 2019, \"month\": 5, \"__index_level_0__\": 69890, \"open\": 98.21, \"high\": 98.22, \"low\": 98.03, \"close\": 98.22, \"volume\": 16993760, \"date\": \"2019-05-01T00:00:00\"}, {\"ticker\": \"AMZN\", \"year\": 2019, \"month\": 6, \"__index_level_0__\": 70150, \"open\": 96.65, \"high\": 96.76, \"low\": 96.33, \"close\": 96.63, \"volume\": 18907540, \"date\": \"2019-06-01T00:00:00\"}, {\"ticker\": \"AMZN\", \"year\": 2019, \"month\": 7, \"__index_level_0__\": 70435, \"open\": 101.66, \"high\": 101.78, \"low\": 101.47, \"close\": 101.66, \"volume\": 14447560, \"date\": \"2019-07-01T00:00:00\"}, {\"ticker\": \"AMZN\", \"year\": 2019, \"month\": 8, \"__index_level_0__\": 70721, \"open\": 94.76, \"high\": 94.89, \"low\": 94.51, \"close\": 94.75, \"volume\": 12262420, \"date\": \"2019-08-01T00:00:00\"}, {\"ticker\": \"AMZN\", \"year\": 2019, \"month\": 9, \"__index_level_0__\": 70981, \"open\": 92.63, \"high\": 92.68, \"low\": 92.35, \"close\": 92.63, \"volume\": 13561420, \"date\": \"2019-09-01T00:00:00\"}, {\"ticker\": \"AMZN\", \"year\": 2019, \"month\": 10, \"__index_level_0__\": 71280, \"open\": 89.82, \"high\": 89.94, \"low\": 89.64, \"close\": 89.72, \"volume\": 29346540, \"date\": \"2019-10-01T00:00:00\"}, {\"ticker\": \"AMZN\", \"year\": 2019, \"month\": 11, \"__index_level_0__\": 71539, \"open\": 91.18, \"high\": 91.23, \"low\": 91.05, \"close\": 91.18, \"volume\": 8389500, \"date\": \"2019-11-01T00:00:00\"}, {\"ticker\": \"AMZN\", \"year\": 2019, \"month\": 12, \"__index_level_0__\": 71809, \"open\": 94.86, \"high\": 95.07, \"low\": 94.66, \"close\": 94.84, \"volume\": 19247660, \"date\": \"2019-12-01T00:00:00\"}, {\"ticker\": \"AMZN\", \"year\": 2020, \"month\": 1, \"__index_level_0__\": 72082, \"open\": 102.57, \"high\": 102.78, \"low\": 102.0, \"close\": 102.27, \"volume\": 67052200, \"date\": \"2020-01-01T00:00:00\"}, {\"ticker\": \"AMZN\", \"year\": 2020, \"month\": 2, \"__index_level_0__\": 72329, \"open\": 109.15, \"high\": 109.29, \"low\": 109.06, \"close\": 109.14, \"volume\": 18943520, \"date\": \"2020-02-01T00:00:00\"}, {\"ticker\": \"AMZN\", \"year\": 2020, \"month\": 3, \"__index_level_0__\": 72615, \"open\": 99.25, \"high\": 99.81, \"low\": 98.81, \"close\": 99.28, \"volume\": 26527480, \"date\": \"2020-03-01T00:00:00\"}, {\"ticker\": \"AMZN\", \"year\": 2020, \"month\": 4, \"__index_level_0__\": 72888, \"open\": 122.44, \"high\": 123.52, \"low\": 121.7, \"close\": 123.44, \"volume\": 21132800, \"date\": \"2020-04-01T00:00:00\"}, {\"ticker\": \"AMZN\", \"year\": 2020, \"month\": 5, \"__index_level_0__\": 73148, \"open\": 125.15, \"high\": 126.27, \"low\": 124.75, \"close\": 125.09, \"volume\": 19902320, \"date\": \"2020-05-01T00:00:00\"}, {\"ticker\": \"AMZN\", \"year\": 2020, \"month\": 6, \"__index_level_0__\": 73434, \"open\": 139.0, \"high\": 139.8, \"low\": 138.72, \"close\": 138.98, \"volume\": 12445860, \"date\": \"2020-06-01T00:00:00\"}, {\"ticker\": \"AMZN\", \"year\": 2020, \"month\": 7, \"__index_level_0__\": 73720, \"open\": 166.85, \"high\": 167.21, \"low\": 166.2, \"close\": 166.87, \"volume\": 19709480, \"date\": \"2020-07-01T00:00:00\"}, {\"ticker\": \"AMZN\", \"year\": 2020, \"month\": 8, \"__index_level_0__\": 73993, \"open\": 174.6, \"high\": 174.75, \"low\": 174.01, \"close\": 174.5, \"volume\": 11805400, \"date\": \"2020-08-01T00:00:00\"}, {\"ticker\": \"AMZN\", \"year\": 2020, \"month\": 9, \"__index_level_0__\": 74266, \"open\": 177.35, \"high\": 177.61, \"low\": 176.25, \"close\": 176.62, \"volume\": 13974200, \"date\": \"2020-09-01T00:00:00\"}, {\"ticker\": \"AMZN\", \"year\": 2020, \"month\": 10, \"__index_level_0__\": 74552, \"open\": 174.61, \"high\": 174.81, \"low\": 173.83, \"close\": 174.58, \"volume\": 15232740, \"date\": \"2020-10-01T00:00:00\"}, {\"ticker\": \"AMZN\", \"year\": 2020, \"month\": 11, \"__index_level_0__\": 74807, \"open\": 167.65, \"high\": 168.34, \"low\": 166.93, \"close\": 167.65, \"volume\": 13663220, \"date\": \"2020-11-01T00:00:00\"}, {\"ticker\": \"AMZN\", \"year\": 2020, \"month\": 12, \"__index_level_0__\": 75093, \"open\": 167.43, \"high\": 167.53, \"low\": 166.9, \"close\": 167.45, \"volume\": 10937900, \"date\": \"2020-12-01T00:00:00\"}, {\"ticker\": \"AMZN\", \"year\": 2021, \"month\": 1, \"__index_level_0__\": 75340, \"open\": 167.3, \"high\": 168.19, \"low\": 166.85, \"close\": 167.22, \"volume\": 11141720, \"date\": \"2021-01-01T00:00:00\"}, {\"ticker\": \"AMZN\", \"year\": 2021, \"month\": 2, \"__index_level_0__\": 75587, \"open\": 171.25, \"high\": 171.7, \"low\": 170.62, \"close\": 170.78, \"volume\": 17004000, \"date\": \"2021-02-01T00:00:00\"}, {\"ticker\": \"AMZN\", \"year\": 2021, \"month\": 3, \"__index_level_0__\": 75886, \"open\": 158.78, \"high\": 159.1, \"low\": 158.49, \"close\": 158.69, \"volume\": 10208420, \"date\": \"2021-03-01T00:00:00\"}, {\"ticker\": \"AMZN\", \"year\": 2021, \"month\": 4, \"__index_level_0__\": 76159, \"open\": 177.42, \"high\": 177.7, \"low\": 176.25, \"close\": 177.47, \"volume\": 18775840, \"date\": \"2021-04-01T00:00:00\"}, {\"ticker\": \"AMZN\", \"year\": 2021, \"month\": 5, \"__index_level_0__\": 76419, \"open\": 174.23, \"high\": 174.33, \"low\": 171.97, \"close\": 173.59, \"volume\": 12413140, \"date\": \"2021-05-01T00:00:00\"}, {\"ticker\": \"AMZN\", \"year\": 2021, \"month\": 6, \"__index_level_0__\": 76723, \"open\": 176.13, \"high\": 176.24, \"low\": 175.86, \"close\": 176.12, \"volume\": 14196320, \"date\": \"2021-06-01T00:00:00\"}, {\"ticker\": \"AMZN\", \"year\": 2021, \"month\": 7, \"__index_level_0__\": 77017, \"open\": 188.31, \"high\": 188.65, \"low\": 187.67, \"close\": 188.31, \"volume\": 30163000, \"date\": \"2021-07-01T00:00:00\"}, {\"ticker\": \"AMZN\", \"year\": 2021, \"month\": 8, \"__index_level_0__\": 77325, \"open\": 173.62, \"high\": 173.62, \"low\": 173.53, \"close\": 173.62, \"volume\": 20847880, \"date\": \"2021-08-01T00:00:00\"}, {\"ticker\": \"AMZN\", \"year\": 2021, \"month\": 9, \"__index_level_0__\": 77619, \"open\": 177.21, \"high\": 177.49, \"low\": 176.37, \"close\": 177.17, \"volume\": 19190440, \"date\": \"2021-09-01T00:00:00\"}, {\"ticker\": \"AMZN\", \"year\": 2021, \"month\": 10, \"__index_level_0__\": 77913, \"open\": 173.73, \"high\": 173.95, \"low\": 173.4, \"close\": 173.75, \"volume\": 16037440, \"date\": \"2021-10-01T00:00:00\"}, {\"ticker\": \"AMZN\", \"year\": 2021, \"month\": 11, \"__index_level_0__\": 78186, \"open\": 187.8, \"high\": 188.1, \"low\": 187.38, \"close\": 187.74, \"volume\": 11757340, \"date\": \"2021-11-01T00:00:00\"}, {\"ticker\": \"AMZN\", \"year\": 2021, \"month\": 12, \"__index_level_0__\": 78485, \"open\": 177.77, \"high\": 177.99, \"low\": 176.95, \"close\": 177.66, \"volume\": 19600400, \"date\": \"2021-12-01T00:00:00\"}, {\"ticker\": \"AMZN\", \"year\": 2022, \"month\": 1, \"__index_level_0__\": 78765, \"open\": 170.43, \"high\": 171.4, \"low\": 170.37, \"close\": 170.43, \"volume\": 11780080, \"date\": \"2022-01-01T00:00:00\"}, {\"ticker\": \"AMZN\", \"year\": 2022, \"month\": 2, \"__index_level_0__\": 79031, \"open\": 162.87, \"high\": 163.83, \"low\": 161.64, \"close\": 162.4, \"volume\": 24133460, \"date\": \"2022-02-01T00:00:00\"}, {\"ticker\": \"AMZN\", \"year\": 2022, \"month\": 3, \"__index_level_0__\": 79354, \"open\": 170.38, \"high\": 170.83, \"low\": 169.68, \"close\": 170.03, \"volume\": 14912180, \"date\": \"2022-03-01T00:00:00\"}, {\"ticker\": \"AMZN\", \"year\": 2022, \"month\": 4, \"__index_level_0__\": 79634, \"open\": 168.35, \"high\": 168.39, \"low\": 168.34, \"close\": 168.34, \"volume\": 27677540, \"date\": \"2022-04-01T00:00:00\"}, {\"ticker\": \"AMZN\", \"year\": 2022, \"month\": 5, \"__index_level_0__\": 79928, \"open\": 125.93, \"high\": 126.22, \"low\": 125.9, \"close\": 125.93, \"volume\": 12729220, \"date\": \"2022-05-01T00:00:00\"}, {\"ticker\": \"AMZN\", \"year\": 2022, \"month\": 6, \"__index_level_0__\": 80221, \"open\": 128.13, \"high\": 128.99, \"low\": 127.67, \"close\": 128.13, \"volume\": 21190787, \"date\": \"2022-06-01T00:00:00\"}, {\"ticker\": \"AMZN\", \"year\": 2022, \"month\": 7, \"__index_level_0__\": 80501, \"open\": 137.24, \"high\": 137.65, \"low\": 136.48, \"close\": 137.24, \"volume\": 32015905, \"date\": \"2022-07-01T00:00:00\"}, {\"ticker\": \"AMZN\", \"year\": 2022, \"month\": 8, \"__index_level_0__\": 80823, \"open\": 145.96, \"high\": 146.57, \"low\": 145.69, \"close\": 145.97, \"volume\": 10878771, \"date\": \"2022-08-01T00:00:00\"}, {\"ticker\": \"AMZN\", \"year\": 2022, \"month\": 9, \"__index_level_0__\": 81117, \"open\": 136.48, \"high\": 136.49, \"low\": 136.45, \"close\": 136.48, \"volume\": 22943273, \"date\": \"2022-09-01T00:00:00\"}, {\"ticker\": \"AMZN\", \"year\": 2022, \"month\": 10, \"__index_level_0__\": 81411, \"open\": 122.98, \"high\": 123.0, \"low\": 122.31, \"close\": 122.98, \"volume\": 39624596, \"date\": \"2022-10-01T00:00:00\"}, {\"ticker\": \"AMZN\", \"year\": 2022, \"month\": 11, \"__index_level_0__\": 81697, \"open\": 103.99, \"high\": 104.58, \"low\": 101.87, \"close\": 102.17, \"volume\": 24607670, \"date\": \"2022-11-01T00:00:00\"}, {\"ticker\": \"AMZN\", \"year\": 2022, \"month\": 12, \"__index_level_0__\": 81992, \"open\": 96.99, \"high\": 97.23, \"low\": 96.49, \"close\": 96.77, \"volume\": 45433826, \"date\": \"2022-12-01T00:00:00\"}, {\"ticker\": \"AMZN\", \"year\": 2023, \"month\": 1, \"__index_level_0__\": 82271, \"open\": 103.1, \"high\": 103.49, \"low\": 102.82, \"close\": 103.16, \"volume\": 16789066, \"date\": \"2023-01-01T00:00:00\"}, {\"ticker\": \"AMZN\", \"year\": 2023, \"month\": 2, \"__index_level_0__\": 82537, \"open\": 113.74, \"high\": 114.0, \"low\": 112.79, \"close\": 113.74, \"volume\": 21161852, \"date\": \"2023-02-01T00:00:00\"}, {\"ticker\": \"AMZN\", \"year\": 2023, \"month\": 3, \"__index_level_0__\": 82860, \"open\": 103.3, \"high\": 103.42, \"low\": 103.24, \"close\": 103.32, \"volume\": 16746604, \"date\": \"2023-03-01T00:00:00\"}, {\"ticker\": \"AMZN\", \"year\": 2023, \"month\": 4, \"__index_level_0__\": 83126, \"open\": 110.46, \"high\": 110.86, \"low\": 110.18, \"close\": 110.45, \"volume\": 25033476, \"date\": \"2023-04-01T00:00:00\"}, {\"ticker\": \"AMZN\", \"year\": 2023, \"month\": 5, \"__index_level_0__\": 83434, \"open\": 122.37, \"high\": 122.92, \"low\": 121.73, \"close\": 122.05, \"volume\": 11745365, \"date\": \"2023-05-01T00:00:00\"}, {\"ticker\": \"AMZN\", \"year\": 2023, \"month\": 6, \"__index_level_0__\": 83728, \"open\": 131.21, \"high\": 131.49, \"low\": 130.73, \"close\": 131.21, \"volume\": 12585297, \"date\": \"2023-06-01T00:00:00\"}, {\"ticker\": \"AMZN\", \"year\": 2023, \"month\": 7, \"__index_level_0__\": 84002, \"open\": 136.26, \"high\": 136.65, \"low\": 136.09, \"close\": 136.25, \"volume\": 11993618, \"date\": \"2023-07-01T00:00:00\"}, {\"ticker\": \"AMZN\", \"year\": 2023, \"month\": 8, \"__index_level_0__\": 84324, \"open\": 143.1, \"high\": 143.63, \"low\": 142.76, \"close\": 143.08, \"volume\": 31436302, \"date\": \"2023-08-01T00:00:00\"}, {\"ticker\": \"AMZN\", \"year\": 2023, \"month\": 9, \"__index_level_0__\": 84604, \"open\": 145.57, \"high\": 145.86, \"low\": 145.23, \"close\": 145.57, \"volume\": 16947964, \"date\": \"2023-09-01T00:00:00\"}, {\"ticker\": \"AMZN\", \"year\": 2023, \"month\": 10, \"__index_level_0__\": 84912, \"open\": 134.36, \"high\": 134.48, \"low\": 133.81, \"close\": 134.37, \"volume\": 25131676, \"date\": \"2023-10-01T00:00:00\"}, {\"ticker\": \"AMZN\", \"year\": 2023, \"month\": 11, \"__index_level_0__\": 85199, \"open\": 148.9, \"high\": 149.26, \"low\": 148.69, \"close\": 148.9, \"volume\": 10996398, \"date\": \"2023-11-01T00:00:00\"}, {\"ticker\": \"AMZN\", \"year\": 2023, \"month\": 12, \"__index_level_0__\": 85480, \"open\": 155.23, \"high\": 155.63, \"low\": 154.96, \"close\": 155.23, \"volume\": 18117366, \"date\": \"2023-12-01T00:00:00\"}, {\"ticker\": \"AMZN\", \"year\": 2024, \"month\": 1, \"__index_level_0__\": 85773, \"open\": 161.23, \"high\": 161.73, \"low\": 161.23, \"close\": 161.28, \"volume\": 9234410, \"date\": \"2024-01-01T00:00:00\"}, {\"ticker\": \"AMZN\", \"year\": 2024, \"month\": 2, \"__index_level_0__\": 86053, \"open\": 175.7, \"high\": 177.22, \"low\": 175.21, \"close\": 176.76, \"volume\": 20209349, \"date\": \"2024-02-01T00:00:00\"}, {\"ticker\": \"AMZN\", \"year\": 2024, \"month\": 3, \"__index_level_0__\": 86180, \"open\": 179.93, \"high\": 180.14, \"low\": 179.44, \"close\": 179.93, \"volume\": 5090343, \"date\": \"2024-03-01T00:00:00\"}]}}, {\"mode\": \"vega-lite\"});\n",
       "</script>"
      ],
      "text/plain": [
       "alt.Chart(...)"
      ]
     },
     "execution_count": 24,
     "metadata": {},
     "output_type": "execute_result"
    }
   ],
   "source": [
    "%%time\n",
    "# plot AMZN vs AAPL\n",
    "(stocks_lazy\n",
    " .filter((pl.col('ticker') == 'AMZN') | (pl.col('ticker') == 'AAPL'))\n",
    " .with_columns(year=pl.col('datetime').dt.year(),\n",
    "               month=pl.col('datetime').dt.month())\n",
    " .group_by(['ticker','year', 'month'])\n",
    " .agg(cs.numeric().max())\n",
    " .sort(['ticker', 'year', 'month'])\n",
    " .collect(engine='gpu')\n",
    " .with_columns(date=pl.date('year', 'month', day=1))\n",
    " # pivot not needed for altair\n",
    " # .pivot(index='date', values='close', on='ticker')\n",
    " .plot.line(x='date', y='close', color='ticker')\n",
    " )"
   ]
  },
  {
   "cell_type": "markdown",
   "metadata": {
    "id": "ROKhGa_GbI2h"
   },
   "source": [
    "  "
   ]
  },
  {
   "cell_type": "markdown",
   "metadata": {
    "id": "ROKhGa_GbI2h"
   },
   "source": [
    "  "
   ]
  },
  {
   "cell_type": "markdown",
   "metadata": {
    "id": "6VZlaMYuuPi1"
   },
   "source": [
    "## Conclusion\n",
    "\n",
    "- Easy to install\n",
    "- Works with existing Polars code\n",
    "- Up to 13x speed improvement\n",
    "\n",
    "Connect with me on social media and check out *Effective Polars* by Matt Harrison for getting started with the library.\n"
   ]
  },
  {
   "cell_type": "markdown",
   "metadata": {
    "id": "ROKhGa_GbI2h"
   },
   "source": [
    "  "
   ]
  },
  {
   "cell_type": "markdown",
   "metadata": {
    "id": "ROKhGa_GbI2h"
   },
   "source": [
    "  "
   ]
  },
  {
   "cell_type": "markdown",
   "metadata": {
    "id": "ROKhGa_GbI2h"
   },
   "source": [
    "  "
   ]
  },
  {
   "cell_type": "markdown",
   "metadata": {
    "id": "Guv3QEKn9VJX"
   },
   "source": [
    "# END"
   ]
  }
 ],
 "metadata": {
  "accelerator": "GPU",
  "colab": {
   "collapsed_sections": [
    "Guv3QEKn9VJX",
    "yErGk4Yb4pwo",
    "XU7Arq0N4OIV"
   ],
   "gpuType": "L4",
   "machine_shape": "hm",
   "provenance": []
  },
  "kernelspec": {
   "display_name": "Python 3 (ipykernel)",
   "language": "python",
   "name": "python3"
  },
  "language_info": {
   "codemirror_mode": {
    "name": "ipython",
    "version": 3
   },
   "file_extension": ".py",
   "mimetype": "text/x-python",
   "name": "python",
   "nbconvert_exporter": "python",
   "pygments_lexer": "ipython3",
   "version": "3.12.3"
  }
 },
 "nbformat": 4,
 "nbformat_minor": 4
}

{
  "cells": [
    {
      "cell_type": "code",
      "source": [
        "%whos"
      ],
      "metadata": {
        "id": "KThI5g481-SL",
        "colab": {
          "base_uri": "https://localhost:8080/"
        },
        "outputId": "9269b04f-d4d2-409f-dc8e-0516afabd5a5"
      },
      "execution_count": null,
      "outputs": [
        {
          "output_type": "stream",
          "name": "stdout",
          "text": [
            "Interactive namespace is empty.\n"
          ]
        }
      ]
    },
    {
      "cell_type": "code",
      "source": [
        "!nproc"
      ],
      "metadata": {
        "id": "RG1329Md2LZ9",
        "colab": {
          "base_uri": "https://localhost:8080/"
        },
        "outputId": "b02d1333-8173-4fd7-840f-74cb79014a37"
      },
      "execution_count": null,
      "outputs": [
        {
          "output_type": "stream",
          "name": "stdout",
          "text": [
            "12\n"
          ]
        }
      ]
    },
    {
      "cell_type": "code",
      "source": [
        "!free -h"
      ],
      "metadata": {
        "id": "U1Jtc4YS2NxI",
        "colab": {
          "base_uri": "https://localhost:8080/"
        },
        "outputId": "bebef346-39c5-4a3c-8ed8-250927b70c7a"
      },
      "execution_count": null,
      "outputs": [
        {
          "output_type": "stream",
          "name": "stdout",
          "text": [
            "               total        used        free      shared  buff/cache   available\n",
            "Mem:            83Gi       1.2Gi        78Gi       1.0Mi       3.6Gi        81Gi\n",
            "Swap:             0B          0B          0B\n"
          ]
        }
      ]
    },
    {
      "cell_type": "code",
      "source": [
        "!nvidia-smi"
      ],
      "metadata": {
        "id": "P_1O0A4IV4Dy",
        "colab": {
          "base_uri": "https://localhost:8080/"
        },
        "outputId": "e6bbb844-04a0-4137-b74c-6b6fc3082a20"
      },
      "execution_count": null,
      "outputs": [
        {
          "output_type": "stream",
          "name": "stdout",
          "text": [
            "Thu Jan  9 21:13:23 2025       \n",
            "+---------------------------------------------------------------------------------------+\n",
            "| NVIDIA-SMI 535.104.05             Driver Version: 535.104.05   CUDA Version: 12.2     |\n",
            "|-----------------------------------------+----------------------+----------------------+\n",
            "| GPU  Name                 Persistence-M | Bus-Id        Disp.A | Volatile Uncorr. ECC |\n",
            "| Fan  Temp   Perf          Pwr:Usage/Cap |         Memory-Usage | GPU-Util  Compute M. |\n",
            "|                                         |                      |               MIG M. |\n",
            "|=========================================+======================+======================|\n",
            "|   0  NVIDIA A100-SXM4-40GB          Off | 00000000:00:04.0 Off |                    0 |\n",
            "| N/A   31C    P0              45W / 400W |      2MiB / 40960MiB |      0%      Default |\n",
            "|                                         |                      |             Disabled |\n",
            "+-----------------------------------------+----------------------+----------------------+\n",
            "                                                                                         \n",
            "+---------------------------------------------------------------------------------------+\n",
            "| Processes:                                                                            |\n",
            "|  GPU   GI   CI        PID   Type   Process name                            GPU Memory |\n",
            "|        ID   ID                                                             Usage      |\n",
            "|=======================================================================================|\n",
            "|  No running processes found                                                           |\n",
            "+---------------------------------------------------------------------------------------+\n"
          ]
        }
      ]
    },
    {
      "cell_type": "code",
      "source": [
        "import locale\n",
        "locale.getpreferredencoding = lambda: \"UTF-8\""
      ],
      "metadata": {
        "id": "KJtuwHYRqWxO"
      },
      "execution_count": null,
      "outputs": []
    },
    {
      "cell_type": "markdown",
      "source": [
        "<br/>"
      ],
      "metadata": {
        "id": "YdHiMnteqYzJ"
      }
    },
    {
      "cell_type": "markdown",
      "source": [
        "<br/>"
      ],
      "metadata": {
        "id": "siTOCd1TqbJp"
      }
    },
    {
      "cell_type": "markdown",
      "source": [
        "<br/>"
      ],
      "metadata": {
        "id": "keVhax2BqbMW"
      }
    },
    {
      "cell_type": "markdown",
      "source": [
        "<br/>"
      ],
      "metadata": {
        "id": "7aQ-2TQhqbPK"
      }
    },
    {
      "cell_type": "markdown",
      "source": [
        "<br/>"
      ],
      "metadata": {
        "id": "T4q3fHaiqbR-"
      }
    },
    {
      "cell_type": "markdown",
      "source": [
        "<br/>"
      ],
      "metadata": {
        "id": "SuCQbakTqbXJ"
      }
    },
    {
      "cell_type": "markdown",
      "source": [
        "<br/>"
      ],
      "metadata": {
        "id": "bEs6Dv3wqbab"
      }
    },
    {
      "cell_type": "markdown",
      "source": [
        "# GPU Verification"
      ],
      "metadata": {
        "id": "FzrKLQCEo01n"
      }
    },
    {
      "cell_type": "code",
      "source": [
        "!nvidia-smi"
      ],
      "metadata": {
        "id": "ephy3SqGoz2f"
      },
      "execution_count": null,
      "outputs": []
    },
    {
      "cell_type": "markdown",
      "source": [
        "<br/>"
      ],
      "metadata": {
        "id": "Cg3rZ7Y8qnsq"
      }
    },
    {
      "cell_type": "markdown",
      "source": [
        "<br/>"
      ],
      "metadata": {
        "id": "xqTr-z3JqnvY"
      }
    },
    {
      "cell_type": "markdown",
      "source": [
        "<br/>"
      ],
      "metadata": {
        "id": "2KoF_ryeqnys"
      }
    },
    {
      "cell_type": "code",
      "source": [
        "import xgboost as xgb\n",
        "import pandas as pd\n",
        "import numpy as np"
      ],
      "metadata": {
        "id": "47nkZG1TQFvx"
      },
      "execution_count": null,
      "outputs": []
    },
    {
      "cell_type": "markdown",
      "source": [
        "# XGBoost Verification"
      ],
      "metadata": {
        "id": "n8KD24gdqf_p"
      }
    },
    {
      "cell_type": "code",
      "source": [
        "xgb.__version__"
      ],
      "metadata": {
        "id": "J5LU9mcCQHo0"
      },
      "execution_count": null,
      "outputs": []
    },
    {
      "cell_type": "code",
      "source": [
        "XGBRegressor(device='cuda', objective='reg:squarederror', max_depth=10, learning_rate=0.1, n_estimators=250, enable_categorical=True, verbosity=0)\n",
        "\n",
        "DEFAULT_N_ESTIMATORS = 100 # xgboost.sklearn.DEFAULT_N_ESTIMATORS"
      ],
      "metadata": {
        "id": "1OOJmMGOavTE"
      },
      "execution_count": null,
      "outputs": []
    },
    {
      "cell_type": "code",
      "source": [
        "# create a pandas dataframe with 3 columns of 100 random float values\n",
        "df = pd.DataFrame(np.random.rand(100, 3), columns=['y', 'x1', 'x2'])\n",
        "X = df.drop(columns=['y'])\n",
        "y = df['y']\n",
        "\n",
        "param_checker = xgb.XGBRegressor()\n",
        "param_checker.fit(X, y)"
      ],
      "metadata": {
        "id": "XM7R8crLSZJH"
      },
      "execution_count": null,
      "outputs": []
    },
    {
      "cell_type": "code",
      "source": [
        "default_values = param_checker.__dict__\n",
        "default_values['device'], default_values['objective'], default_values['max_depth'], default_values['learning_rate'], default_values['n_estimators'], default_values['enable_categorical'], default_values['verbosity']"
      ],
      "metadata": {
        "id": "BeGRwuNqXQ3E"
      },
      "execution_count": null,
      "outputs": []
    },
    {
      "cell_type": "code",
      "source": [
        "default_values = xgb.XGBRegressor().__dict__\n",
        "\n",
        "default_values['device'], default_values['objective'], default_values['max_depth'], default_values['learning_rate'], default_values['n_estimators'], default_values['enable_categorical'], default_values['verbosity']"
      ],
      "metadata": {
        "id": "Bo1nABYiQ4Ph"
      },
      "execution_count": null,
      "outputs": []
    },
    {
      "cell_type": "code",
      "source": [],
      "metadata": {
        "id": "fn_olPDeRpRP"
      },
      "execution_count": null,
      "outputs": []
    },
    {
      "cell_type": "code",
      "source": [
        "# FROM engg approved notebook:\n",
        "XGBRegressor(device='cuda', objective='reg:squarederror', max_depth=10, learning_rate=0.1, n_estimators=250, enable_categorical=True, verbosity=0)"
      ],
      "metadata": {
        "id": "HFkdvzKpQtGh"
      },
      "execution_count": null,
      "outputs": []
    },
    {
      "cell_type": "code",
      "source": [],
      "metadata": {
        "id": "NJakMU7yQKdG"
      },
      "execution_count": null,
      "outputs": []
    },
    {
      "cell_type": "code",
      "source": [
        "\n",
        "XGBRegressor(objective='reg:squarederror', max_depth=10, learning_rate=0.1, n_estimators=250, enable_categorical=True, verbosity=0)\n",
        "\n",
        "# defaults"
      ],
      "metadata": {
        "id": "zm7XtawJP6dV"
      },
      "execution_count": null,
      "outputs": []
    },
    {
      "cell_type": "markdown",
      "metadata": {
        "id": "UC-tSU8breXN"
      },
      "source": [
        "<br/>"
      ]
    },
    {
      "cell_type": "markdown",
      "metadata": {
        "id": "WWIcfDV6rg55"
      },
      "source": [
        "<br/>"
      ]
    },
    {
      "cell_type": "markdown",
      "metadata": {
        "id": "NRaXO74ieSy9"
      },
      "source": [
        "<br/>"
      ]
    },
    {
      "cell_type": "markdown",
      "metadata": {
        "id": "nXwPzmGoeS2A"
      },
      "source": [
        "<br/>"
      ]
    },
    {
      "cell_type": "markdown",
      "metadata": {
        "id": "9rF6J-6ReS5T"
      },
      "source": [
        "<br/>"
      ]
    },
    {
      "cell_type": "markdown",
      "metadata": {
        "id": "V4NY8Q-2rg9A"
      },
      "source": [
        "<br/>"
      ]
    },
    {
      "cell_type": "markdown",
      "source": [
        "# NVIDA RAPIDS Verification"
      ],
      "metadata": {
        "id": "Plv5qnVveP5r"
      }
    },
    {
      "cell_type": "code",
      "source": [
        "# 0. Enable NVIDIA GPU in Colab\n",
        "# a. Runtime OR Resources Tool > Change runtime type"
      ],
      "metadata": {
        "id": "Qew8k5HWelE5"
      },
      "execution_count": null,
      "outputs": []
    },
    {
      "cell_type": "code",
      "source": [
        "# 1. verify GPU and CUDA\n",
        "# a. nvidia-smi\n",
        "# b. nvcc --version"
      ],
      "metadata": {
        "id": "CM3CaV7JeQVb"
      },
      "execution_count": null,
      "outputs": []
    },
    {
      "cell_type": "code",
      "source": [
        "# 2. verify NVIDIA RAPIDS cuDF\n",
        "# a. !pip freeze | grep cudf\n",
        "# b. %load_ext cudf.pandas\n",
        "# c. import pandas as pd\n",
        "# d. %whos"
      ],
      "metadata": {
        "id": "jwK822l2ef71"
      },
      "execution_count": null,
      "outputs": []
    },
    {
      "cell_type": "code",
      "source": [
        "%load_ext cudf.pandas"
      ],
      "metadata": {
        "id": "IdSZhjswgYNR"
      },
      "execution_count": null,
      "outputs": []
    },
    {
      "cell_type": "code",
      "source": [
        "import pandas as pd"
      ],
      "metadata": {
        "id": "QKHGrHGlgkde"
      },
      "execution_count": null,
      "outputs": []
    },
    {
      "cell_type": "code",
      "source": [
        "# 3. verify lastest XGBoost version\n",
        "# a. get latest version - rapids.ai\n",
        "# b. pip freeze | grep xgboost\n",
        "# c. import xgboost as xgb ; xgb.__version__"
      ],
      "metadata": {
        "id": "p30vFCG9fg6T"
      },
      "execution_count": null,
      "outputs": []
    },
    {
      "cell_type": "code",
      "source": [
        "import xgboost as xgb ; xgb.__version__"
      ],
      "metadata": {
        "colab": {
          "base_uri": "https://localhost:8080/",
          "height": 35
        },
        "id": "StaxRMqwgt8v",
        "outputId": "c418eaab-ed41-4202-b10e-7571ca31a1dc"
      },
      "execution_count": null,
      "outputs": [
        {
          "output_type": "execute_result",
          "data": {
            "text/plain": [
              "'2.1.3'"
            ],
            "application/vnd.google.colaboratory.intrinsic+json": {
              "type": "string"
            }
          },
          "metadata": {},
          "execution_count": 10
        }
      ]
    },
    {
      "cell_type": "markdown",
      "metadata": {
        "id": "t_SBZAm4rg_l"
      },
      "source": [
        "<br/>"
      ]
    },
    {
      "cell_type": "markdown",
      "metadata": {
        "id": "1w8FNQereR9w"
      },
      "source": [
        "<br/>"
      ]
    },
    {
      "cell_type": "markdown",
      "metadata": {
        "id": "_9wa0XsmeSPG"
      },
      "source": [
        "<br/>"
      ]
    },
    {
      "cell_type": "markdown",
      "metadata": {
        "id": "fIKYggjCe19o"
      },
      "source": [
        "<br/>"
      ]
    },
    {
      "cell_type": "markdown",
      "metadata": {
        "id": "_vpiE_Ywe2A5"
      },
      "source": [
        "<br/>"
      ]
    },
    {
      "cell_type": "markdown",
      "metadata": {
        "id": "XVFi6BFge2IK"
      },
      "source": [
        "<br/>"
      ]
    },
    {
      "cell_type": "markdown",
      "metadata": {
        "id": "9_1kCy0-e2P5"
      },
      "source": [
        "<br/>"
      ]
    },
    {
      "cell_type": "markdown",
      "metadata": {
        "id": "DNdIYAwEeSRr"
      },
      "source": [
        "<br/>"
      ]
    },
    {
      "cell_type": "markdown",
      "metadata": {
        "id": "izgr7YEZeSUk"
      },
      "source": [
        "<br/>"
      ]
    },
    {
      "cell_type": "markdown",
      "metadata": {
        "id": "yTyNZwd4eSZP"
      },
      "source": [
        "<br/>"
      ]
    },
    {
      "cell_type": "markdown",
      "metadata": {
        "id": "JLyU0xkEeScN"
      },
      "source": [
        "<br/>"
      ]
    },
    {
      "cell_type": "markdown",
      "metadata": {
        "id": "xb7K8TIqrhCq"
      },
      "source": [
        "<br/>"
      ]
    },
    {
      "cell_type": "markdown",
      "source": [
        "# City of Chicago Taxi Trips Data\n",
        "##### Dowload Data From Here:\n",
        "https://data.cityofchicago.org/Transportation/Taxi-Trips-2013-2023-/wrvz-psew/data_preview\n"
      ],
      "metadata": {
        "id": "T74PeQ6sfej0"
      }
    },
    {
      "cell_type": "code",
      "execution_count": null,
      "metadata": {
        "id": "eBKfcM1Ta37S"
      },
      "outputs": [],
      "source": [
        "!cp /content/drive/MyDrive/Taxi_Trips__2013-2023__20241218.csv ."
      ]
    },
    {
      "cell_type": "code",
      "execution_count": null,
      "metadata": {
        "id": "JSU_Oqz-a7bg",
        "colab": {
          "base_uri": "https://localhost:8080/"
        },
        "outputId": "70e37626-8ed5-4092-9293-e68c382da8e8"
      },
      "outputs": [
        {
          "output_type": "stream",
          "name": "stdout",
          "text": [
            "1972429 Taxi_Trips__2013-2023__20241218.csv\n"
          ]
        }
      ],
      "source": [
        "!wc -l Taxi_Trips__2013-2023__20241218.csv"
      ]
    },
    {
      "cell_type": "code",
      "source": [
        "# xgb_device = \"cpu\"\n",
        "xgb_device = \"cuda\"\n",
        "xgb_device"
      ],
      "metadata": {
        "colab": {
          "base_uri": "https://localhost:8080/",
          "height": 35
        },
        "id": "uiKzWYESkYDU",
        "outputId": "72e4e0d6-497b-4fc6-d0c9-4e7bf4c3c87c"
      },
      "execution_count": null,
      "outputs": [
        {
          "output_type": "execute_result",
          "data": {
            "text/plain": [
              "'cuda'"
            ],
            "application/vnd.google.colaboratory.intrinsic+json": {
              "type": "string"
            }
          },
          "metadata": {},
          "execution_count": 13
        }
      ]
    },
    {
      "cell_type": "code",
      "execution_count": null,
      "metadata": {
        "id": "KpnRn2o6iQhF"
      },
      "outputs": [],
      "source": [
        "import pandas as pd\n",
        "import numpy as np\n",
        "from time import time\n",
        "import seaborn as sns\n",
        "import matplotlib.pyplot as plt\n",
        "from sklearn.model_selection import KFold"
      ]
    },
    {
      "cell_type": "markdown",
      "source": [
        "<br/>"
      ],
      "metadata": {
        "id": "fX2mGYHPpne8"
      }
    },
    {
      "cell_type": "markdown",
      "source": [
        "<br/>"
      ],
      "metadata": {
        "id": "mxBKOvHOpp24"
      }
    },
    {
      "cell_type": "markdown",
      "source": [
        "<br/>"
      ],
      "metadata": {
        "id": "CQBgJW_Jpp6G"
      }
    },
    {
      "cell_type": "markdown",
      "source": [
        "# CSV"
      ],
      "metadata": {
        "id": "uhZDyzGYycPx"
      }
    },
    {
      "cell_type": "code",
      "source": [
        "%%time\n",
        "\n",
        "start = time()\n",
        "# RAPIDS OFF  - 22.04\n",
        "# RAPIDS A100 - 0.408 (x33) / 1.95 ()\n",
        "\n",
        "df = pd.read_csv('Taxi_Trips__2013-2023__20241218.csv')  # read in data"
      ],
      "metadata": {
        "id": "A4byxIggWZPW",
        "colab": {
          "base_uri": "https://localhost:8080/"
        },
        "outputId": "57b7aedc-38e4-41ed-88e9-93b5b6698eac"
      },
      "execution_count": null,
      "outputs": [
        {
          "output_type": "stream",
          "name": "stdout",
          "text": [
            "CPU times: user 382 ms, sys: 247 ms, total: 629 ms\n",
            "Wall time: 839 ms\n"
          ]
        }
      ]
    },
    {
      "cell_type": "code",
      "source": [
        "%%time\n",
        "# RAPIDS OFF  - 22.04\n",
        "# RAPIDS A100 - 0.051\n",
        "\n",
        "df = df.rename(columns={'Trip Total': 'trip_ttl'})  # abbreviate target column name\n",
        "\n",
        "df = df[df[\"trip_ttl\"]>0]\n",
        "\n",
        "df = df.sample(frac=1, random_state=42).reset_index(drop=True)\n",
        "\n",
        "X = df.drop(columns=[\"trip_ttl\"])\n",
        "y = df[\"trip_ttl\"]"
      ],
      "metadata": {
        "id": "RW6oatklWdPc",
        "colab": {
          "base_uri": "https://localhost:8080/"
        },
        "outputId": "8fd5a314-7f3b-46e6-f5f9-3c1cd620b83c"
      },
      "execution_count": null,
      "outputs": [
        {
          "output_type": "stream",
          "name": "stdout",
          "text": [
            "CPU times: user 772 ms, sys: 114 ms, total: 886 ms\n",
            "Wall time: 1.27 s\n"
          ]
        }
      ]
    },
    {
      "cell_type": "code",
      "execution_count": null,
      "metadata": {
        "id": "LeBJe2q8lKoA",
        "colab": {
          "base_uri": "https://localhost:8080/"
        },
        "outputId": "24f966ef-3c1d-4e9f-a3ae-25794526eb11"
      },
      "outputs": [
        {
          "output_type": "stream",
          "name": "stdout",
          "text": [
            "CPU times: user 334 ms, sys: 75.2 ms, total: 409 ms\n",
            "Wall time: 389 ms\n"
          ]
        },
        {
          "output_type": "execute_result",
          "data": {
            "text/plain": [
              "0.3886454105377197"
            ]
          },
          "metadata": {},
          "execution_count": 17
        }
      ],
      "source": [
        "%%time\n",
        "\n",
        "start = time()\n",
        "# RAPIDS OFF  - 22.04\n",
        "# RAPIDS A100 - 0.408 (x33) / 1.95 (x11)\n",
        "\n",
        "df = pd.read_csv('Taxi_Trips__2013-2023__20241218.csv')  # read in data\n",
        "\n",
        "df = df.rename(columns={'Trip Total': 'trip_ttl'})  # abbreviate target column name\n",
        "\n",
        "df = df[df[\"trip_ttl\"]>0]\n",
        "\n",
        "df = df.sample(frac=1, random_state=42).reset_index(drop=True)\n",
        "\n",
        "X = df.drop(columns=[\"trip_ttl\"])\n",
        "y = df[\"trip_ttl\"]\n",
        "\n",
        "time() - start"
      ]
    },
    {
      "cell_type": "code",
      "execution_count": null,
      "metadata": {
        "id": "hdKoOa2Vq4G7",
        "colab": {
          "base_uri": "https://localhost:8080/"
        },
        "outputId": "47c9968a-c57f-4697-8fcd-c1fdad97ddd5"
      },
      "outputs": [
        {
          "output_type": "execute_result",
          "data": {
            "text/plain": [
              "1971068"
            ]
          },
          "metadata": {},
          "execution_count": 18
        }
      ],
      "source": [
        "len(df)"
      ]
    },
    {
      "cell_type": "markdown",
      "metadata": {
        "id": "WTZXDYuhq0BZ"
      },
      "source": [
        "<br/>"
      ]
    },
    {
      "cell_type": "markdown",
      "metadata": {
        "id": "Ed1xs-4Pq3Sf"
      },
      "source": [
        "<br/>"
      ]
    },
    {
      "cell_type": "markdown",
      "metadata": {
        "id": "Cybpg00Eq3ZR"
      },
      "source": [
        "<br/>"
      ]
    },
    {
      "cell_type": "markdown",
      "metadata": {
        "id": "GpDIT9cWq3dh"
      },
      "source": [
        "<br/>"
      ]
    },
    {
      "cell_type": "markdown",
      "metadata": {
        "id": "8YcjHQKcl0FL"
      },
      "source": [
        "# Mean Model"
      ]
    },
    {
      "cell_type": "code",
      "execution_count": null,
      "metadata": {
        "id": "5-CQY1KQllOp",
        "colab": {
          "base_uri": "https://localhost:8080/"
        },
        "outputId": "edf67989-0ffe-40b5-e783-7cd2d7c2f97b"
      },
      "outputs": [
        {
          "output_type": "execute_result",
          "data": {
            "text/plain": [
              "17.58"
            ]
          },
          "metadata": {},
          "execution_count": 19
        }
      ],
      "source": [
        "y.mean().round(2).item()"
      ]
    },
    {
      "cell_type": "code",
      "execution_count": null,
      "metadata": {
        "id": "uZHjca7vBoMT",
        "colab": {
          "base_uri": "https://localhost:8080/",
          "height": 242
        },
        "outputId": "b81fcb8f-9562-430e-ab18-b7bb72716679"
      },
      "outputs": [
        {
          "output_type": "stream",
          "name": "stdout",
          "text": [
            "CPU times: user 726 ms, sys: 210 ms, total: 936 ms\n",
            "Wall time: 1.1 s\n"
          ]
        },
        {
          "output_type": "execute_result",
          "data": {
            "text/plain": [
              "         avg          mse       rmse        mae            r2      max_err\n",
              "0  17.532107  9141.875107  95.613153  13.542402 -6.023739e-06  9782.767893\n",
              "1  17.617675  7639.707685  87.405421  13.250784 -4.884284e-06  9882.682325\n",
              "2  17.616017  6383.971635  79.899760  13.259757 -5.354304e-06  9034.833983\n",
              "3  17.549724  8855.465930  94.103485  13.516449 -2.426406e-06  9957.770276\n",
              "4  17.579680  8401.307659  91.658647  13.400753 -1.217141e-09  9682.670320"
            ],
            "text/html": [
              "<div>\n",
              "<style scoped>\n",
              "    .dataframe tbody tr th:only-of-type {\n",
              "        vertical-align: middle;\n",
              "    }\n",
              "\n",
              "    .dataframe tbody tr th {\n",
              "        vertical-align: top;\n",
              "    }\n",
              "\n",
              "    .dataframe thead th {\n",
              "        text-align: right;\n",
              "    }\n",
              "</style>\n",
              "<table border=\"1\" class=\"dataframe\">\n",
              "  <thead>\n",
              "    <tr style=\"text-align: right;\">\n",
              "      <th></th>\n",
              "      <th>avg</th>\n",
              "      <th>mse</th>\n",
              "      <th>rmse</th>\n",
              "      <th>mae</th>\n",
              "      <th>r2</th>\n",
              "      <th>max_err</th>\n",
              "    </tr>\n",
              "  </thead>\n",
              "  <tbody>\n",
              "    <tr>\n",
              "      <th>0</th>\n",
              "      <td>17.532107</td>\n",
              "      <td>9141.875107</td>\n",
              "      <td>95.613153</td>\n",
              "      <td>13.542402</td>\n",
              "      <td>-6.023739e-06</td>\n",
              "      <td>9782.767893</td>\n",
              "    </tr>\n",
              "    <tr>\n",
              "      <th>1</th>\n",
              "      <td>17.617675</td>\n",
              "      <td>7639.707685</td>\n",
              "      <td>87.405421</td>\n",
              "      <td>13.250784</td>\n",
              "      <td>-4.884284e-06</td>\n",
              "      <td>9882.682325</td>\n",
              "    </tr>\n",
              "    <tr>\n",
              "      <th>2</th>\n",
              "      <td>17.616017</td>\n",
              "      <td>6383.971635</td>\n",
              "      <td>79.899760</td>\n",
              "      <td>13.259757</td>\n",
              "      <td>-5.354304e-06</td>\n",
              "      <td>9034.833983</td>\n",
              "    </tr>\n",
              "    <tr>\n",
              "      <th>3</th>\n",
              "      <td>17.549724</td>\n",
              "      <td>8855.465930</td>\n",
              "      <td>94.103485</td>\n",
              "      <td>13.516449</td>\n",
              "      <td>-2.426406e-06</td>\n",
              "      <td>9957.770276</td>\n",
              "    </tr>\n",
              "    <tr>\n",
              "      <th>4</th>\n",
              "      <td>17.579680</td>\n",
              "      <td>8401.307659</td>\n",
              "      <td>91.658647</td>\n",
              "      <td>13.400753</td>\n",
              "      <td>-1.217141e-09</td>\n",
              "      <td>9682.670320</td>\n",
              "    </tr>\n",
              "  </tbody>\n",
              "</table>\n",
              "</div>"
            ],
            "application/vnd.google.colaboratory.intrinsic+json": {
              "type": "dataframe",
              "variable_name": "mean_fold_results_df",
              "summary": "{\n  \"name\": \"mean_fold_results_df\",\n  \"rows\": 5,\n  \"fields\": [\n    {\n      \"column\": \"avg\",\n      \"properties\": {\n        \"dtype\": \"number\",\n        \"std\": 0.038478710464679655,\n        \"min\": 17.532107493781925,\n        \"max\": 17.617674527889076,\n        \"num_unique_values\": 5,\n        \"samples\": [\n          17.54972388076266,\n          17.532107493781925,\n          17.57968020521862\n        ],\n        \"semantic_type\": \"\",\n        \"description\": \"\"\n      }\n    },\n    {\n      \"column\": \"mse\",\n      \"properties\": {\n        \"dtype\": \"number\",\n        \"std\": 1107.0721059225675,\n        \"min\": 6383.971635420476,\n        \"max\": 9141.87510657433,\n        \"num_unique_values\": 5,\n        \"samples\": [\n          8855.46592993672,\n          9141.87510657433,\n          8401.307659350205\n        ],\n        \"semantic_type\": \"\",\n        \"description\": \"\"\n      }\n    },\n    {\n      \"column\": \"rmse\",\n      \"properties\": {\n        \"dtype\": \"number\",\n        \"std\": 6.314579328656591,\n        \"min\": 79.89975992091888,\n        \"max\": 95.61315341821089,\n        \"num_unique_values\": 5,\n        \"samples\": [\n          94.10348521673743,\n          95.61315341821089,\n          91.65864748811322\n        ],\n        \"semantic_type\": \"\",\n        \"description\": \"\"\n      }\n    },\n    {\n      \"column\": \"mae\",\n      \"properties\": {\n        \"dtype\": \"number\",\n        \"std\": 0.13747245713884815,\n        \"min\": 13.250783622249726,\n        \"max\": 13.542402315125404,\n        \"num_unique_values\": 5,\n        \"samples\": [\n          13.51644909784389,\n          13.542402315125404,\n          13.4007534312558\n        ],\n        \"semantic_type\": \"\",\n        \"description\": \"\"\n      }\n    },\n    {\n      \"column\": \"r2\",\n      \"properties\": {\n        \"dtype\": \"number\",\n        \"std\": 2.491727989740835e-06,\n        \"min\": -6.023738555294145e-06,\n        \"max\": -1.217140832565633e-09,\n        \"num_unique_values\": 5,\n        \"samples\": [\n          -2.4264055842326826e-06,\n          -6.023738555294145e-06,\n          -1.217140832565633e-09\n        ],\n        \"semantic_type\": \"\",\n        \"description\": \"\"\n      }\n    },\n    {\n      \"column\": \"max_err\",\n      \"properties\": {\n        \"dtype\": \"number\",\n        \"std\": 368.89744560373975,\n        \"min\": 9034.833982803733,\n        \"max\": 9957.770276119238,\n        \"num_unique_values\": 5,\n        \"samples\": [\n          9957.770276119238,\n          9782.767892506217,\n          9682.67031979478\n        ],\n        \"semantic_type\": \"\",\n        \"description\": \"\"\n      }\n    }\n  ]\n}"
            }
          },
          "metadata": {},
          "execution_count": 20
        }
      ],
      "source": [
        "%%time\n",
        "\n",
        "# RAPIDS OFF  - 1.22\n",
        "# RAPIDS A100 - 0.724\n",
        "\n",
        "kf = KFold(n_splits=5, shuffle=True, random_state=42)\n",
        "\n",
        "mean_fold_results = {\"avg\":[], \"mse\": [], \"rmse\": [], \"mae\": [], \"r2\": [], \"max_err\": []}\n",
        "\n",
        "for fold, (train_index, test_index) in enumerate(kf.split(y)):\n",
        "\n",
        "  # get folds\n",
        "  y_train, y_true = y[train_index], y[test_index]\n",
        "\n",
        "  # \"mean model\"\n",
        "  y_pred = y_train.mean()\n",
        "  mean_fold_results[\"avg\"].append(y_pred)\n",
        "\n",
        "  # calculate metrics\n",
        "  mse = ((y_true - y_pred) ** 2).mean()\n",
        "  mean_fold_results[\"mse\"].append(mse)\n",
        "  mean_fold_results[\"rmse\"].append(mse  ** 0.5)\n",
        "  mae = (y_true - y_pred).abs().mean()\n",
        "  mean_fold_results[\"mae\"].append(mae)\n",
        "  ss_residual = ((y_true - y_pred) ** 2).sum()\n",
        "  ss_total = ((y_true - y_true.mean()) ** 2).sum()\n",
        "  r_squared = 1 - (ss_residual / ss_total)\n",
        "  mean_fold_results[\"r2\"].append(1 - (ss_residual / ss_total))\n",
        "  mean_fold_results[\"max_err\"].append((y_true - y_pred).abs().max())\n",
        "\n",
        "mean_fold_results_df = pd.DataFrame(mean_fold_results)\n",
        "mean_fold_results_df"
      ]
    },
    {
      "cell_type": "code",
      "execution_count": null,
      "metadata": {
        "id": "dkFs2gWxcjwx",
        "colab": {
          "base_uri": "https://localhost:8080/",
          "height": 81
        },
        "outputId": "f25028ac-0360-4055-8274-d1978b0fee19"
      },
      "outputs": [
        {
          "output_type": "execute_result",
          "data": {
            "text/plain": [
              "  model    avg      mse   rmse    mae   r2  max_err\n",
              "0  mean  17.58  8084.47  89.74  13.39 -0.0  9957.77"
            ],
            "text/html": [
              "<div>\n",
              "<style scoped>\n",
              "    .dataframe tbody tr th:only-of-type {\n",
              "        vertical-align: middle;\n",
              "    }\n",
              "\n",
              "    .dataframe tbody tr th {\n",
              "        vertical-align: top;\n",
              "    }\n",
              "\n",
              "    .dataframe thead th {\n",
              "        text-align: right;\n",
              "    }\n",
              "</style>\n",
              "<table border=\"1\" class=\"dataframe\">\n",
              "  <thead>\n",
              "    <tr style=\"text-align: right;\">\n",
              "      <th></th>\n",
              "      <th>model</th>\n",
              "      <th>avg</th>\n",
              "      <th>mse</th>\n",
              "      <th>rmse</th>\n",
              "      <th>mae</th>\n",
              "      <th>r2</th>\n",
              "      <th>max_err</th>\n",
              "    </tr>\n",
              "  </thead>\n",
              "  <tbody>\n",
              "    <tr>\n",
              "      <th>0</th>\n",
              "      <td>mean</td>\n",
              "      <td>17.58</td>\n",
              "      <td>8084.47</td>\n",
              "      <td>89.74</td>\n",
              "      <td>13.39</td>\n",
              "      <td>-0.0</td>\n",
              "      <td>9957.77</td>\n",
              "    </tr>\n",
              "  </tbody>\n",
              "</table>\n",
              "</div>"
            ],
            "application/vnd.google.colaboratory.intrinsic+json": {
              "type": "dataframe",
              "summary": "{\n  \"name\": \"mean_results_df\",\n  \"rows\": 1,\n  \"fields\": [\n    {\n      \"column\": \"model\",\n      \"properties\": {\n        \"dtype\": \"string\",\n        \"num_unique_values\": 1,\n        \"samples\": [\n          \"mean\"\n        ],\n        \"semantic_type\": \"\",\n        \"description\": \"\"\n      }\n    },\n    {\n      \"column\": \"avg\",\n      \"properties\": {\n        \"dtype\": \"number\",\n        \"std\": null,\n        \"min\": 17.58,\n        \"max\": 17.58,\n        \"num_unique_values\": 1,\n        \"samples\": [\n          17.58\n        ],\n        \"semantic_type\": \"\",\n        \"description\": \"\"\n      }\n    },\n    {\n      \"column\": \"mse\",\n      \"properties\": {\n        \"dtype\": \"number\",\n        \"std\": null,\n        \"min\": 8084.47,\n        \"max\": 8084.47,\n        \"num_unique_values\": 1,\n        \"samples\": [\n          8084.47\n        ],\n        \"semantic_type\": \"\",\n        \"description\": \"\"\n      }\n    },\n    {\n      \"column\": \"rmse\",\n      \"properties\": {\n        \"dtype\": \"number\",\n        \"std\": null,\n        \"min\": 89.74,\n        \"max\": 89.74,\n        \"num_unique_values\": 1,\n        \"samples\": [\n          89.74\n        ],\n        \"semantic_type\": \"\",\n        \"description\": \"\"\n      }\n    },\n    {\n      \"column\": \"mae\",\n      \"properties\": {\n        \"dtype\": \"number\",\n        \"std\": null,\n        \"min\": 13.39,\n        \"max\": 13.39,\n        \"num_unique_values\": 1,\n        \"samples\": [\n          13.39\n        ],\n        \"semantic_type\": \"\",\n        \"description\": \"\"\n      }\n    },\n    {\n      \"column\": \"r2\",\n      \"properties\": {\n        \"dtype\": \"number\",\n        \"std\": null,\n        \"min\": -0.0,\n        \"max\": -0.0,\n        \"num_unique_values\": 1,\n        \"samples\": [\n          -0.0\n        ],\n        \"semantic_type\": \"\",\n        \"description\": \"\"\n      }\n    },\n    {\n      \"column\": \"max_err\",\n      \"properties\": {\n        \"dtype\": \"number\",\n        \"std\": null,\n        \"min\": 9957.77,\n        \"max\": 9957.77,\n        \"num_unique_values\": 1,\n        \"samples\": [\n          9957.77\n        ],\n        \"semantic_type\": \"\",\n        \"description\": \"\"\n      }\n    }\n  ]\n}"
            }
          },
          "metadata": {},
          "execution_count": 21
        }
      ],
      "source": [
        "mean_results_df = pd.DataFrame({'model': 'mean',**mean_fold_results_df.drop(columns=['max_err']).mean(), 'max_err': mean_fold_results_df['max_err'].max()}, index=[0])\n",
        "mean_results_df.round(2)"
      ]
    },
    {
      "cell_type": "markdown",
      "metadata": {
        "id": "GVm2CMs6T-VJ"
      },
      "source": [
        "<br/>"
      ]
    },
    {
      "cell_type": "markdown",
      "metadata": {
        "id": "rCWvYHhEqlwx"
      },
      "source": [
        "<br/>"
      ]
    },
    {
      "cell_type": "markdown",
      "metadata": {
        "id": "XyUTLNs4ql7U"
      },
      "source": [
        "<br/>"
      ]
    },
    {
      "cell_type": "markdown",
      "metadata": {
        "id": "ZVkIfcgeql-1"
      },
      "source": [
        "<br/>"
      ]
    },
    {
      "cell_type": "markdown",
      "metadata": {
        "id": "a8cO_yc4qmB4"
      },
      "source": [
        "<br/>"
      ]
    },
    {
      "cell_type": "markdown",
      "metadata": {
        "id": "2D7fkLn8qmFp"
      },
      "source": [
        "<br/>"
      ]
    },
    {
      "cell_type": "markdown",
      "metadata": {
        "id": "T_Zy1s75T75G"
      },
      "source": [
        "# Median Model"
      ]
    },
    {
      "cell_type": "code",
      "execution_count": null,
      "metadata": {
        "id": "VTMRNuxhJbJY",
        "colab": {
          "base_uri": "https://localhost:8080/"
        },
        "outputId": "4b159db6-c4b8-446c-c3e9-6d94ed7a4b7e"
      },
      "outputs": [
        {
          "output_type": "execute_result",
          "data": {
            "text/plain": [
              "9.75"
            ]
          },
          "metadata": {},
          "execution_count": 22
        }
      ],
      "source": [
        "y.median()"
      ]
    },
    {
      "cell_type": "code",
      "execution_count": null,
      "metadata": {
        "id": "us0mchq3UCQc",
        "colab": {
          "base_uri": "https://localhost:8080/"
        },
        "outputId": "c0393289-8561-40d3-a5e2-036185050c42"
      },
      "outputs": [
        {
          "output_type": "stream",
          "name": "stdout",
          "text": [
            "CPU times: user 615 ms, sys: 125 ms, total: 740 ms\n",
            "Wall time: 704 ms\n"
          ]
        }
      ],
      "source": [
        "%%time\n",
        "# RAPIDS OFF  - 0.959\n",
        "# RAPIDS A100 -\n",
        "\n",
        "median_fold_results = {\"avg\":[], \"mse\": [], \"rmse\": [], \"mae\": [], \"r2\": [], \"max_err\": []}\n",
        "for fold, (train_index, test_index) in enumerate(kf.split(y)):\n",
        "\n",
        "  # get folds\n",
        "  y_train, y_true = y[train_index], y[test_index]\n",
        "\n",
        "  # \"median model\"\n",
        "  y_pred = y_train.median()\n",
        "  median_fold_results[\"avg\"].append(y_pred)\n",
        "\n",
        "  # calculate metrics\n",
        "  mse = ((y_true - y_pred) ** 2).mean()\n",
        "  median_fold_results[\"mse\"].append(mse)\n",
        "  median_fold_results[\"rmse\"].append(mse ** 0.5)\n",
        "  mae = (y_true - y_pred).abs().mean()\n",
        "  median_fold_results[\"mae\"].append(mae)\n",
        "  ss_residual = ((y_true - y_pred) ** 2).sum()\n",
        "  ss_total = ((y_true - y_true.mean()) ** 2).sum()\n",
        "  r_squared = 1 - (ss_residual / ss_total)\n",
        "  median_fold_results[\"r2\"].append(1 - (ss_residual / ss_total))\n",
        "  median_fold_results[\"max_err\"].append((y_true - y_pred).abs().max())\n",
        "\n",
        "median_fold_results_df = pd.DataFrame(median_fold_results)"
      ]
    },
    {
      "cell_type": "code",
      "execution_count": null,
      "metadata": {
        "id": "SoHjCz3qUNJe",
        "colab": {
          "base_uri": "https://localhost:8080/",
          "height": 112
        },
        "outputId": "01be3dcd-8783-416a-abce-09c9ca05ca38"
      },
      "outputs": [
        {
          "output_type": "execute_result",
          "data": {
            "text/plain": [
              "    model    avg      mse   rmse    mae    r2  max_err\n",
              "0    mean  17.58  8084.47  89.74  13.39 -0.00  9957.77\n",
              "0  median   9.75  8145.75  90.08  10.52 -0.01  9965.57"
            ],
            "text/html": [
              "<div>\n",
              "<style scoped>\n",
              "    .dataframe tbody tr th:only-of-type {\n",
              "        vertical-align: middle;\n",
              "    }\n",
              "\n",
              "    .dataframe tbody tr th {\n",
              "        vertical-align: top;\n",
              "    }\n",
              "\n",
              "    .dataframe thead th {\n",
              "        text-align: right;\n",
              "    }\n",
              "</style>\n",
              "<table border=\"1\" class=\"dataframe\">\n",
              "  <thead>\n",
              "    <tr style=\"text-align: right;\">\n",
              "      <th></th>\n",
              "      <th>model</th>\n",
              "      <th>avg</th>\n",
              "      <th>mse</th>\n",
              "      <th>rmse</th>\n",
              "      <th>mae</th>\n",
              "      <th>r2</th>\n",
              "      <th>max_err</th>\n",
              "    </tr>\n",
              "  </thead>\n",
              "  <tbody>\n",
              "    <tr>\n",
              "      <th>0</th>\n",
              "      <td>mean</td>\n",
              "      <td>17.58</td>\n",
              "      <td>8084.47</td>\n",
              "      <td>89.74</td>\n",
              "      <td>13.39</td>\n",
              "      <td>-0.00</td>\n",
              "      <td>9957.77</td>\n",
              "    </tr>\n",
              "    <tr>\n",
              "      <th>0</th>\n",
              "      <td>median</td>\n",
              "      <td>9.75</td>\n",
              "      <td>8145.75</td>\n",
              "      <td>90.08</td>\n",
              "      <td>10.52</td>\n",
              "      <td>-0.01</td>\n",
              "      <td>9965.57</td>\n",
              "    </tr>\n",
              "  </tbody>\n",
              "</table>\n",
              "</div>"
            ],
            "application/vnd.google.colaboratory.intrinsic+json": {
              "type": "dataframe",
              "summary": "{\n  \"name\": \"pd\",\n  \"rows\": 2,\n  \"fields\": [\n    {\n      \"column\": \"model\",\n      \"properties\": {\n        \"dtype\": \"string\",\n        \"num_unique_values\": 2,\n        \"samples\": [\n          \"mean\",\n          \"median\"\n        ],\n        \"semantic_type\": \"\",\n        \"description\": \"\"\n      }\n    },\n    {\n      \"column\": \"avg\",\n      \"properties\": {\n        \"dtype\": \"number\",\n        \"std\": 5.536646096690667,\n        \"min\": 9.75,\n        \"max\": 17.58,\n        \"num_unique_values\": 2,\n        \"samples\": [\n          17.58,\n          9.75\n        ],\n        \"semantic_type\": \"\",\n        \"description\": \"\"\n      }\n    },\n    {\n      \"column\": \"mse\",\n      \"properties\": {\n        \"dtype\": \"number\",\n        \"std\": 43.33150355101039,\n        \"min\": 8084.47,\n        \"max\": 8145.75,\n        \"num_unique_values\": 2,\n        \"samples\": [\n          8084.47,\n          8145.75\n        ],\n        \"semantic_type\": \"\",\n        \"description\": \"\"\n      }\n    },\n    {\n      \"column\": \"rmse\",\n      \"properties\": {\n        \"dtype\": \"number\",\n        \"std\": 0.2404163056044612,\n        \"min\": 89.74,\n        \"max\": 90.08,\n        \"num_unique_values\": 2,\n        \"samples\": [\n          89.74,\n          90.08\n        ],\n        \"semantic_type\": \"\",\n        \"description\": \"\"\n      }\n    },\n    {\n      \"column\": \"mae\",\n      \"properties\": {\n        \"dtype\": \"number\",\n        \"std\": 2.02939646200539,\n        \"min\": 10.52,\n        \"max\": 13.39,\n        \"num_unique_values\": 2,\n        \"samples\": [\n          13.39,\n          10.52\n        ],\n        \"semantic_type\": \"\",\n        \"description\": \"\"\n      }\n    },\n    {\n      \"column\": \"r2\",\n      \"properties\": {\n        \"dtype\": \"number\",\n        \"std\": 0.007071067811865475,\n        \"min\": -0.01,\n        \"max\": -0.0,\n        \"num_unique_values\": 2,\n        \"samples\": [\n          -0.0,\n          -0.01\n        ],\n        \"semantic_type\": \"\",\n        \"description\": \"\"\n      }\n    },\n    {\n      \"column\": \"max_err\",\n      \"properties\": {\n        \"dtype\": \"number\",\n        \"std\": 5.515432892066314,\n        \"min\": 9957.77,\n        \"max\": 9965.57,\n        \"num_unique_values\": 2,\n        \"samples\": [\n          9957.77,\n          9965.57\n        ],\n        \"semantic_type\": \"\",\n        \"description\": \"\"\n      }\n    }\n  ]\n}"
            }
          },
          "metadata": {},
          "execution_count": 24
        }
      ],
      "source": [
        "median_results_df = pd.DataFrame({'model': 'median', **median_fold_results_df.drop(columns=['max_err']).mean(), 'max_err': median_fold_results_df['max_err'].max()}, index=[0])\n",
        "pd.concat([mean_results_df, median_results_df]).round(2)"
      ]
    },
    {
      "cell_type": "markdown",
      "metadata": {
        "id": "DFveMgtWXaWG"
      },
      "source": [
        "<br/>"
      ]
    },
    {
      "cell_type": "markdown",
      "metadata": {
        "id": "p_23hFzrqnE6"
      },
      "source": [
        "<br/>"
      ]
    },
    {
      "cell_type": "markdown",
      "metadata": {
        "id": "bm-6Ix85qnHu"
      },
      "source": [
        "<br/>"
      ]
    },
    {
      "cell_type": "markdown",
      "metadata": {
        "id": "zHs-02ZlqnKi"
      },
      "source": [
        "<br/>"
      ]
    },
    {
      "cell_type": "markdown",
      "metadata": {
        "id": "Fes73O_7qnNU"
      },
      "source": [
        "<br/>"
      ]
    },
    {
      "cell_type": "markdown",
      "metadata": {
        "id": "AfyNHsJnqnQL"
      },
      "source": [
        "<br/>"
      ]
    },
    {
      "cell_type": "markdown",
      "metadata": {
        "id": "Gf9e5Y9cXbj2"
      },
      "source": [
        "# Naive XGBoost\n",
        "##### Min Feature Engineering and no Hyperparameter Tuning"
      ]
    },
    {
      "cell_type": "code",
      "execution_count": null,
      "metadata": {
        "id": "958cK414XZSk",
        "colab": {
          "base_uri": "https://localhost:8080/"
        },
        "outputId": "fff52970-f29d-4824-ea93-47232af7b38e"
      },
      "outputs": [
        {
          "output_type": "stream",
          "name": "stdout",
          "text": [
            "CPU times: user 479 ms, sys: 98.1 ms, total: 577 ms\n",
            "Wall time: 612 ms\n"
          ]
        }
      ],
      "source": [
        "%%time\n",
        "\n",
        "# RAPIDS OFF  - 48.2, 40.5\n",
        "# RAPIDS A100 - 0.597 (x68)\n",
        "\n",
        "df = pd.read_csv('Taxi_Trips__2013-2023__20241218.csv')  # read in data\n",
        "\n",
        "df = df.rename(columns={'Trip Total': 'trip_ttl'})  # abbreviate target column name\n",
        "\n",
        "df = df[df[\"trip_ttl\"]>0]\n",
        "\n",
        "df = df.sample(frac=1, random_state=42).reset_index(drop=True)\n",
        "\n",
        "df = df.drop(columns=[\"Fare\", \"Tips\", \"Tolls\", \"Extras\"])\n",
        "df = df.drop(columns=[\"Trip ID\", \"Taxi ID\", \"Pickup Centroid Location\", \"Dropoff Centroid  Location\", \"Payment Type\", \"Company\"])\n",
        "\n",
        "df[\"Trip Start Timestamp\"] = pd.to_datetime(df[\"Trip Start Timestamp\"], format=\"%m/%d/%Y %I:%M:%S %p\")\n",
        "df[\"Trip End Timestamp\"] = pd.to_datetime(df[\"Trip End Timestamp\"], format=\"%m/%d/%Y %I:%M:%S %p\")\n",
        "df[\"Trip Start Timestamp\"] = (df[\"Trip Start Timestamp\"] - pd.Timestamp(\"1970-01-01\")) // pd.Timedelta('1s')\n",
        "df[\"Trip End Timestamp\"] = (df[\"Trip End Timestamp\"] - pd.Timestamp(\"1970-01-01\")) // pd.Timedelta('1s')\n",
        "\n",
        "y = df[\"trip_ttl\"]\n",
        "X = df.drop(columns=[\"trip_ttl\"])"
      ]
    },
    {
      "cell_type": "code",
      "execution_count": null,
      "metadata": {
        "id": "Tx6AKAVtX4Sy",
        "colab": {
          "base_uri": "https://localhost:8080/"
        },
        "outputId": "da68543d-98c7-46af-bc7d-039eed027543"
      },
      "outputs": [
        {
          "output_type": "stream",
          "name": "stdout",
          "text": [
            "CPU times: user 5.92 s, sys: 1.45 s, total: 7.37 s\n",
            "Wall time: 6.91 s\n"
          ]
        }
      ],
      "source": [
        "%%time\n",
        "\n",
        "# RAPIDS OFF  - 117.26\n",
        "# RAPIDS A100 - 6.66 (x17), 5.35\n",
        "\n",
        "import xgboost as xgb\n",
        "\n",
        "xgb_naive_fold_results = {\"avg\": [], \"mse\": [], \"rmse\": [], \"mae\": [], \"r2\": [], \"max_err\": []}\n",
        "\n",
        "for fold, (train_index, test_index) in enumerate(KFold(n_splits=5, shuffle=True, random_state=42).split(df)):\n",
        "  X_train, X_test = X.iloc[train_index], X.iloc[test_index]\n",
        "  y_train, y_test = y.iloc[train_index], y.iloc[test_index]\n",
        "\n",
        "  # train\n",
        "  xgb_model = xgb.XGBRegressor(device=xgb_device)\n",
        "\n",
        "  xgb_model.fit(X_train, y_train)\n",
        "  y_pred = xgb_model.predict(X_test)\n",
        "  xgb_naive_fold_results[\"avg\"].append(y_pred.mean())\n",
        "\n",
        "  # metrics\n",
        "  mse = ((y_test - y_pred) ** 2).mean()\n",
        "  xgb_naive_fold_results[\"mse\"].append(mse)\n",
        "  xgb_naive_fold_results[\"rmse\"].append(mse ** 0.5)\n",
        "  mae = (y_test - y_pred).abs().mean()\n",
        "  xgb_naive_fold_results[\"mae\"].append(mae)\n",
        "  ss_residual = ((y_test - y_pred) ** 2).sum()\n",
        "  ss_total = ((y_test - y_test.mean()) ** 2).sum()\n",
        "  r_squared = 1 - (ss_residual / ss_total)\n",
        "  xgb_naive_fold_results[\"r2\"].append(1 - (ss_residual / ss_total))\n",
        "  xgb_naive_fold_results[\"max_err\"].append((y_test - y_pred).abs().max())"
      ]
    },
    {
      "cell_type": "markdown",
      "metadata": {
        "id": "hFFpUwlbeacY"
      },
      "source": [
        "### All Naïve Results"
      ]
    },
    {
      "cell_type": "code",
      "execution_count": null,
      "metadata": {
        "id": "ePaMsMInmlBS",
        "colab": {
          "base_uri": "https://localhost:8080/",
          "height": 143
        },
        "outputId": "fac50eef-03c7-4c8b-a035-9eae17d1a453"
      },
      "outputs": [
        {
          "output_type": "execute_result",
          "data": {
            "text/plain": [
              "       model    avg      mse   rmse    mae    r2  max_err\n",
              "0  xgb_naïve  17.58  7055.60  83.87   5.16  0.13  9788.08\n",
              "0     median   9.75  8145.75  90.08  10.52 -0.01  9965.57\n",
              "0       mean  17.58  8084.47  89.74  13.39 -0.00  9957.77"
            ],
            "text/html": [
              "<div>\n",
              "<style scoped>\n",
              "    .dataframe tbody tr th:only-of-type {\n",
              "        vertical-align: middle;\n",
              "    }\n",
              "\n",
              "    .dataframe tbody tr th {\n",
              "        vertical-align: top;\n",
              "    }\n",
              "\n",
              "    .dataframe thead th {\n",
              "        text-align: right;\n",
              "    }\n",
              "</style>\n",
              "<table border=\"1\" class=\"dataframe\">\n",
              "  <thead>\n",
              "    <tr style=\"text-align: right;\">\n",
              "      <th></th>\n",
              "      <th>model</th>\n",
              "      <th>avg</th>\n",
              "      <th>mse</th>\n",
              "      <th>rmse</th>\n",
              "      <th>mae</th>\n",
              "      <th>r2</th>\n",
              "      <th>max_err</th>\n",
              "    </tr>\n",
              "  </thead>\n",
              "  <tbody>\n",
              "    <tr>\n",
              "      <th>0</th>\n",
              "      <td>xgb_naïve</td>\n",
              "      <td>17.58</td>\n",
              "      <td>7055.60</td>\n",
              "      <td>83.87</td>\n",
              "      <td>5.16</td>\n",
              "      <td>0.13</td>\n",
              "      <td>9788.08</td>\n",
              "    </tr>\n",
              "    <tr>\n",
              "      <th>0</th>\n",
              "      <td>median</td>\n",
              "      <td>9.75</td>\n",
              "      <td>8145.75</td>\n",
              "      <td>90.08</td>\n",
              "      <td>10.52</td>\n",
              "      <td>-0.01</td>\n",
              "      <td>9965.57</td>\n",
              "    </tr>\n",
              "    <tr>\n",
              "      <th>0</th>\n",
              "      <td>mean</td>\n",
              "      <td>17.58</td>\n",
              "      <td>8084.47</td>\n",
              "      <td>89.74</td>\n",
              "      <td>13.39</td>\n",
              "      <td>-0.00</td>\n",
              "      <td>9957.77</td>\n",
              "    </tr>\n",
              "  </tbody>\n",
              "</table>\n",
              "</div>"
            ],
            "application/vnd.google.colaboratory.intrinsic+json": {
              "type": "dataframe",
              "summary": "{\n  \"name\": \"all_results\",\n  \"rows\": 3,\n  \"fields\": [\n    {\n      \"column\": \"model\",\n      \"properties\": {\n        \"dtype\": \"string\",\n        \"num_unique_values\": 3,\n        \"samples\": [\n          \"xgb_na\\u00efve\",\n          \"median\",\n          \"mean\"\n        ],\n        \"semantic_type\": \"\",\n        \"description\": \"\"\n      }\n    },\n    {\n      \"column\": \"avg\",\n      \"properties\": {\n        \"dtype\": \"number\",\n        \"std\": 4.520652607754766,\n        \"min\": 9.75,\n        \"max\": 17.58,\n        \"num_unique_values\": 2,\n        \"samples\": [\n          17.58,\n          9.75\n        ],\n        \"semantic_type\": \"\",\n        \"description\": \"\"\n      }\n    },\n    {\n      \"column\": \"mse\",\n      \"properties\": {\n        \"dtype\": \"number\",\n        \"std\": 612.4752699497509,\n        \"min\": 7055.6,\n        \"max\": 8145.75,\n        \"num_unique_values\": 3,\n        \"samples\": [\n          7055.6,\n          8145.75\n        ],\n        \"semantic_type\": \"\",\n        \"description\": \"\"\n      }\n    },\n    {\n      \"column\": \"rmse\",\n      \"properties\": {\n        \"dtype\": \"number\",\n        \"std\": 3.4913368977131096,\n        \"min\": 83.87,\n        \"max\": 90.08,\n        \"num_unique_values\": 3,\n        \"samples\": [\n          83.87,\n          90.08\n        ],\n        \"semantic_type\": \"\",\n        \"description\": \"\"\n      }\n    },\n    {\n      \"column\": \"mae\",\n      \"properties\": {\n        \"dtype\": \"number\",\n        \"std\": 4.177307745426474,\n        \"min\": 5.16,\n        \"max\": 13.39,\n        \"num_unique_values\": 3,\n        \"samples\": [\n          5.16,\n          10.52\n        ],\n        \"semantic_type\": \"\",\n        \"description\": \"\"\n      }\n    },\n    {\n      \"column\": \"r2\",\n      \"properties\": {\n        \"dtype\": \"number\",\n        \"std\": 0.07810249675906655,\n        \"min\": -0.01,\n        \"max\": 0.13,\n        \"num_unique_values\": 3,\n        \"samples\": [\n          0.13,\n          -0.01\n        ],\n        \"semantic_type\": \"\",\n        \"description\": \"\"\n      }\n    },\n    {\n      \"column\": \"max_err\",\n      \"properties\": {\n        \"dtype\": \"number\",\n        \"std\": 100.29808589045672,\n        \"min\": 9788.08,\n        \"max\": 9965.57,\n        \"num_unique_values\": 3,\n        \"samples\": [\n          9788.08,\n          9965.57\n        ],\n        \"semantic_type\": \"\",\n        \"description\": \"\"\n      }\n    }\n  ]\n}"
            }
          },
          "metadata": {},
          "execution_count": 27
        }
      ],
      "source": [
        "xgb_naïve_fold_results_df = pd.DataFrame(xgb_naive_fold_results)\n",
        "xgb_naïve_results_df = pd.DataFrame({'model': 'xgb_naïve',**xgb_naïve_fold_results_df.drop(columns=['max_err']).mean(), 'max_err': xgb_naïve_fold_results_df['max_err'].max()}, index=[0])\n",
        "all_results = pd.concat([mean_results_df, median_results_df, xgb_naïve_results_df]).sort_values(by=[\"mae\", \"mse\", \"rmse\", \"r2\", \"max_err\"], ascending=[True, True, True, False, True])\n",
        "all_results.round(2)"
      ]
    },
    {
      "cell_type": "markdown",
      "metadata": {
        "id": "GPlhRR75X4-T"
      },
      "source": [
        "<br/>"
      ]
    },
    {
      "cell_type": "markdown",
      "metadata": {
        "id": "_TOSNl4QqoHP"
      },
      "source": [
        "<br/>"
      ]
    },
    {
      "cell_type": "markdown",
      "metadata": {
        "id": "ZXelrKt6qoKu"
      },
      "source": [
        "<br/>"
      ]
    },
    {
      "cell_type": "markdown",
      "metadata": {
        "id": "KwixAtYrqoNg"
      },
      "source": [
        "<br/>"
      ]
    },
    {
      "cell_type": "markdown",
      "metadata": {
        "id": "vnW5EwuhqoRy"
      },
      "source": [
        "<br/>"
      ]
    },
    {
      "cell_type": "markdown",
      "metadata": {
        "id": "oMZrcaYVn07Q"
      },
      "source": [
        "<br/>"
      ]
    },
    {
      "cell_type": "markdown",
      "metadata": {
        "id": "Oe5asoiHn2wN"
      },
      "source": [
        "### Feature Importance"
      ]
    },
    {
      "cell_type": "code",
      "execution_count": null,
      "metadata": {
        "id": "DyFB4fWCnztR",
        "colab": {
          "base_uri": "https://localhost:8080/",
          "height": 452
        },
        "outputId": "a2710370-03c8-42d2-c2cf-7138e6fb77f6"
      },
      "outputs": [
        {
          "output_type": "display_data",
          "data": {
            "text/plain": [
              "<Figure size 1000x800 with 1 Axes>"
            ],
            "image/png": "[encoded data removed]"
          },
          "metadata": {}
        }
      ],
      "source": [
        "booster = xgb_model.get_booster()\n",
        "importance = booster.get_score(importance_type='weight')  # You can also use 'gain', 'cover', etc.\n",
        "\n",
        "# Convert to DataFrame\n",
        "importance_df = pd.DataFrame({\n",
        "    'Feature': list(importance.keys()),\n",
        "    'Importance': list(importance.values())\n",
        "})\n",
        "\n",
        "# Sort by importance\n",
        "importance_df = importance_df.sort_values(by='Importance', ascending=False)\n",
        "\n",
        "# Plot using Seaborn\n",
        "plt.figure(figsize=(10, 8))\n",
        "sns.barplot(x='Importance', y='Feature', data=importance_df, hue='Feature', palette=\"viridis\", dodge=False, legend=False)\n",
        "plt.title('Feature Importance')\n",
        "plt.xlabel('Importance Score')\n",
        "plt.ylabel('Features')\n",
        "plt.show()"
      ]
    },
    {
      "cell_type": "markdown",
      "metadata": {
        "id": "hpfXB_DS4UkF"
      },
      "source": [
        "<br/>"
      ]
    },
    {
      "cell_type": "markdown",
      "metadata": {
        "id": "hT5ylX6x4W8y"
      },
      "source": [
        "<br/>"
      ]
    },
    {
      "cell_type": "markdown",
      "metadata": {
        "id": "h3uEuh2j4XAP"
      },
      "source": [
        "<br/>"
      ]
    },
    {
      "cell_type": "markdown",
      "metadata": {
        "id": "iqauFarZeIfA"
      },
      "source": [
        "# XGBoost + Feature Engineering"
      ]
    },
    {
      "cell_type": "code",
      "execution_count": null,
      "metadata": {
        "id": "3RTaatiM0kwn",
        "colab": {
          "base_uri": "https://localhost:8080/"
        },
        "outputId": "600a1911-5f20-47bc-862f-41608162f515"
      },
      "outputs": [
        {
          "output_type": "stream",
          "name": "stdout",
          "text": [
            "CPU times: user 348 ms, sys: 72.7 ms, total: 421 ms\n",
            "Wall time: 400 ms\n"
          ]
        }
      ],
      "source": [
        "%%time\n",
        "\n",
        "# RAPIDS OFF  - 20.28\n",
        "# RAPIDS A100 - 0.40 (x50)\n",
        "\n",
        "df = pd.read_csv('Taxi_Trips__2013-2023__20241218.csv')  # read in data\n",
        "\n",
        "df = df.rename(columns={'Trip Total': 'trip_ttl'})  # abbreviate target column name\n",
        "\n",
        "df = df.drop(columns=[\"Fare\", \"Tips\", \"Tolls\", \"Extras\"])\n",
        "\n",
        "df = df.drop(columns=[\"Trip ID\", \"Taxi ID\"])\n",
        "\n",
        "df[\"Trip Start Timestamp\"] = pd.to_datetime(df[\"Trip Start Timestamp\"], format=\"%m/%d/%Y %I:%M:%S %p\")\n",
        "df[\"Trip End Timestamp\"] = pd.to_datetime(df[\"Trip End Timestamp\"], format=\"%m/%d/%Y %I:%M:%S %p\")\n",
        "\n",
        "df = df[df[\"trip_ttl\"]>0]"
      ]
    },
    {
      "cell_type": "markdown",
      "metadata": {
        "id": "59tHE0-UtMPx"
      },
      "source": [
        "### Feature Classification"
      ]
    },
    {
      "cell_type": "code",
      "execution_count": null,
      "metadata": {
        "id": "H1Ut46Z_0pDO",
        "colab": {
          "base_uri": "https://localhost:8080/",
          "height": 653
        },
        "outputId": "ff56ec61-2b20-4430-9330-de47c36b7ff4"
      },
      "outputs": [
        {
          "output_type": "stream",
          "name": "stdout",
          "text": [
            "CPU times: user 17.3 ms, sys: 1.42 ms, total: 18.8 ms\n",
            "Wall time: 25.6 ms\n"
          ]
        },
        {
          "output_type": "execute_result",
          "data": {
            "text/plain": [
              "Payment Type                      9\n",
              "Company                          42\n",
              "Pickup Community Area            77\n",
              "Dropoff Community Area           77\n",
              "Pickup Census Tract             292\n",
              "Pickup Centroid Latitude        366\n",
              "Pickup Centroid Longitude       366\n",
              "Pickup Centroid Location        369\n",
              "Dropoff Centroid Latitude       475\n",
              "Dropoff Centroid Longitude      475\n",
              "Dropoff Centroid  Location      480\n",
              "Dropoff Census Tract            485\n",
              "Trip Miles                     4532\n",
              "trip_ttl                       6665\n",
              "Trip Seconds                   8989\n",
              "Trip Start Timestamp          19380\n",
              "Trip End Timestamp            19405\n",
              "dtype: int64"
            ],
            "text/html": [
              "<div>\n",
              "<style scoped>\n",
              "    .dataframe tbody tr th:only-of-type {\n",
              "        vertical-align: middle;\n",
              "    }\n",
              "\n",
              "    .dataframe tbody tr th {\n",
              "        vertical-align: top;\n",
              "    }\n",
              "\n",
              "    .dataframe thead th {\n",
              "        text-align: right;\n",
              "    }\n",
              "</style>\n",
              "<table border=\"1\" class=\"dataframe\">\n",
              "  <thead>\n",
              "    <tr style=\"text-align: right;\">\n",
              "      <th></th>\n",
              "      <th>0</th>\n",
              "    </tr>\n",
              "  </thead>\n",
              "  <tbody>\n",
              "    <tr>\n",
              "      <th>Payment Type</th>\n",
              "      <td>9</td>\n",
              "    </tr>\n",
              "    <tr>\n",
              "      <th>Company</th>\n",
              "      <td>42</td>\n",
              "    </tr>\n",
              "    <tr>\n",
              "      <th>Pickup Community Area</th>\n",
              "      <td>77</td>\n",
              "    </tr>\n",
              "    <tr>\n",
              "      <th>Dropoff Community Area</th>\n",
              "      <td>77</td>\n",
              "    </tr>\n",
              "    <tr>\n",
              "      <th>Pickup Census Tract</th>\n",
              "      <td>292</td>\n",
              "    </tr>\n",
              "    <tr>\n",
              "      <th>Pickup Centroid Latitude</th>\n",
              "      <td>366</td>\n",
              "    </tr>\n",
              "    <tr>\n",
              "      <th>Pickup Centroid Longitude</th>\n",
              "      <td>366</td>\n",
              "    </tr>\n",
              "    <tr>\n",
              "      <th>Pickup Centroid Location</th>\n",
              "      <td>369</td>\n",
              "    </tr>\n",
              "    <tr>\n",
              "      <th>Dropoff Centroid Latitude</th>\n",
              "      <td>475</td>\n",
              "    </tr>\n",
              "    <tr>\n",
              "      <th>Dropoff Centroid Longitude</th>\n",
              "      <td>475</td>\n",
              "    </tr>\n",
              "    <tr>\n",
              "      <th>Dropoff Centroid  Location</th>\n",
              "      <td>480</td>\n",
              "    </tr>\n",
              "    <tr>\n",
              "      <th>Dropoff Census Tract</th>\n",
              "      <td>485</td>\n",
              "    </tr>\n",
              "    <tr>\n",
              "      <th>Trip Miles</th>\n",
              "      <td>4532</td>\n",
              "    </tr>\n",
              "    <tr>\n",
              "      <th>trip_ttl</th>\n",
              "      <td>6665</td>\n",
              "    </tr>\n",
              "    <tr>\n",
              "      <th>Trip Seconds</th>\n",
              "      <td>8989</td>\n",
              "    </tr>\n",
              "    <tr>\n",
              "      <th>Trip Start Timestamp</th>\n",
              "      <td>19380</td>\n",
              "    </tr>\n",
              "    <tr>\n",
              "      <th>Trip End Timestamp</th>\n",
              "      <td>19405</td>\n",
              "    </tr>\n",
              "  </tbody>\n",
              "</table>\n",
              "</div><br><label><b>dtype:</b> int64</label>"
            ]
          },
          "metadata": {},
          "execution_count": 30
        }
      ],
      "source": [
        "%%time\n",
        "\n",
        "# RAPIDS OFF  - 1.75\n",
        "# RAPIDS A100 - 0.0247 (x70)\n",
        "\n",
        "df.nunique().sort_values()"
      ]
    },
    {
      "cell_type": "code",
      "execution_count": null,
      "metadata": {
        "id": "6C1LoUh902eB",
        "colab": {
          "base_uri": "https://localhost:8080/"
        },
        "outputId": "304c2eb6-5481-4909-a556-ee7c8e6c66af"
      },
      "outputs": [
        {
          "output_type": "stream",
          "name": "stdout",
          "text": [
            "['Payment Type', 'Company', 'Dropoff Community Area', 'Pickup Community Area', 'Pickup Centroid Location', 'Pickup Census Tract', 'Dropoff Centroid  Location', 'Dropoff Census Tract']\n",
            "CPU times: user 3.89 ms, sys: 155 µs, total: 4.04 ms\n",
            "Wall time: 3.33 ms\n"
          ]
        }
      ],
      "source": [
        "%%time\n",
        "\n",
        "# RAPIDS OFF  - 0.31\n",
        "# RAPIDS A100 - 0.0048 (x62)\n",
        "\n",
        "target = [\"trip_ttl\"]\n",
        "assert len(df[target]) > 0\n",
        "\n",
        "num_cols = [\"Pickup Centroid Latitude\", \"Pickup Centroid Longitude\", \"Dropoff Centroid Latitude\", \"Dropoff Centroid Longitude\", \"Trip Miles\", \"Trip Seconds\", \"Trip Start Timestamp\", \"Trip End Timestamp\"]\n",
        "assert len(df[num_cols]) > 0\n",
        "\n",
        "cat_cols = list(set(df.columns) - set(target + num_cols))\n",
        "assert len(df[cat_cols]) > 0\n",
        "print(cat_cols)\n",
        "\n",
        "assert len(df.columns) == len(target) + len(num_cols) + len(cat_cols)\n",
        "assert len(target + num_cols + cat_cols) == len(set(target + num_cols + cat_cols))"
      ]
    },
    {
      "cell_type": "markdown",
      "metadata": {
        "id": "DE9eNS_W0RCt"
      },
      "source": [
        "### Impute"
      ]
    },
    {
      "cell_type": "code",
      "execution_count": null,
      "metadata": {
        "id": "p28iWnh50S_2",
        "colab": {
          "base_uri": "https://localhost:8080/"
        },
        "outputId": "5f858f9d-3c01-4b6c-ccb3-2a2f52c1805f"
      },
      "outputs": [
        {
          "output_type": "stream",
          "name": "stdout",
          "text": [
            "CPU times: user 3.68 s, sys: 986 ms, total: 4.66 s\n",
            "Wall time: 4.48 s\n"
          ]
        }
      ],
      "source": [
        "%%time\n",
        "\n",
        "# RAPIDS OFF  - 3.33\n",
        "# RAPIDS A100 - 4.04\n",
        "\n",
        "# impute num cols\n",
        "for col in num_cols:\n",
        "  df[col] = df[col].fillna(df[col].mean())\n",
        "\n",
        "#impute cat cols\n",
        "df[cat_cols] = df[cat_cols].fillna(df[cat_cols].mode().iloc[0])"
      ]
    },
    {
      "cell_type": "markdown",
      "metadata": {
        "id": "iw26R-DBfJZ5"
      },
      "source": [
        "### Outlier Analysis"
      ]
    },
    {
      "cell_type": "code",
      "execution_count": null,
      "metadata": {
        "id": "3Muderma2wyb",
        "colab": {
          "base_uri": "https://localhost:8080/",
          "height": 459
        },
        "outputId": "132f0f7d-b923-4777-cc8b-a79de7f569e4"
      },
      "outputs": [
        {
          "output_type": "stream",
          "name": "stdout",
          "text": [
            "CPU times: user 15.8 ms, sys: 2.96 ms, total: 18.8 ms\n",
            "Wall time: 16 ms\n"
          ]
        },
        {
          "output_type": "execute_result",
          "data": {
            "text/plain": [
              "         trip_ttl  Trip Seconds  Trip Miles Payment Type\n",
              "1000042   9975.32        1500.0        0.00         Cash\n",
              "171827    9900.30        1158.0        0.00         Cash\n",
              "1664624   9800.30        1074.0        0.00         Cash\n",
              "285324    9746.85        1080.0       57.90  Credit Card\n",
              "161771    9700.25        1007.0        0.00         Cash\n",
              "...           ...           ...         ...          ...\n",
              "1017382      0.01          40.0        0.00         Cash\n",
              "1038230      0.01          38.0        0.09         Cash\n",
              "1037939      0.01          38.0        0.01         Cash\n",
              "1227769      0.01          36.0        0.04         Cash\n",
              "1132887      0.01           0.0        0.00  Credit Card\n",
              "\n",
              "[1971068 rows x 4 columns]"
            ],
            "text/html": [
              "<div>\n",
              "<style scoped>\n",
              "    .dataframe tbody tr th:only-of-type {\n",
              "        vertical-align: middle;\n",
              "    }\n",
              "\n",
              "    .dataframe tbody tr th {\n",
              "        vertical-align: top;\n",
              "    }\n",
              "\n",
              "    .dataframe thead th {\n",
              "        text-align: right;\n",
              "    }\n",
              "</style>\n",
              "<table border=\"1\" class=\"dataframe\">\n",
              "  <thead>\n",
              "    <tr style=\"text-align: right;\">\n",
              "      <th></th>\n",
              "      <th>trip_ttl</th>\n",
              "      <th>Trip Seconds</th>\n",
              "      <th>Trip Miles</th>\n",
              "      <th>Payment Type</th>\n",
              "    </tr>\n",
              "  </thead>\n",
              "  <tbody>\n",
              "    <tr>\n",
              "      <th>1000042</th>\n",
              "      <td>9975.32</td>\n",
              "      <td>1500.0</td>\n",
              "      <td>0.00</td>\n",
              "      <td>Cash</td>\n",
              "    </tr>\n",
              "    <tr>\n",
              "      <th>171827</th>\n",
              "      <td>9900.30</td>\n",
              "      <td>1158.0</td>\n",
              "      <td>0.00</td>\n",
              "      <td>Cash</td>\n",
              "    </tr>\n",
              "    <tr>\n",
              "      <th>1664624</th>\n",
              "      <td>9800.30</td>\n",
              "      <td>1074.0</td>\n",
              "      <td>0.00</td>\n",
              "      <td>Cash</td>\n",
              "    </tr>\n",
              "    <tr>\n",
              "      <th>285324</th>\n",
              "      <td>9746.85</td>\n",
              "      <td>1080.0</td>\n",
              "      <td>57.90</td>\n",
              "      <td>Credit Card</td>\n",
              "    </tr>\n",
              "    <tr>\n",
              "      <th>161771</th>\n",
              "      <td>9700.25</td>\n",
              "      <td>1007.0</td>\n",
              "      <td>0.00</td>\n",
              "      <td>Cash</td>\n",
              "    </tr>\n",
              "    <tr>\n",
              "      <th>...</th>\n",
              "      <td>...</td>\n",
              "      <td>...</td>\n",
              "      <td>...</td>\n",
              "      <td>...</td>\n",
              "    </tr>\n",
              "    <tr>\n",
              "      <th>1017382</th>\n",
              "      <td>0.01</td>\n",
              "      <td>40.0</td>\n",
              "      <td>0.00</td>\n",
              "      <td>Cash</td>\n",
              "    </tr>\n",
              "    <tr>\n",
              "      <th>1038230</th>\n",
              "      <td>0.01</td>\n",
              "      <td>38.0</td>\n",
              "      <td>0.09</td>\n",
              "      <td>Cash</td>\n",
              "    </tr>\n",
              "    <tr>\n",
              "      <th>1037939</th>\n",
              "      <td>0.01</td>\n",
              "      <td>38.0</td>\n",
              "      <td>0.01</td>\n",
              "      <td>Cash</td>\n",
              "    </tr>\n",
              "    <tr>\n",
              "      <th>1227769</th>\n",
              "      <td>0.01</td>\n",
              "      <td>36.0</td>\n",
              "      <td>0.04</td>\n",
              "      <td>Cash</td>\n",
              "    </tr>\n",
              "    <tr>\n",
              "      <th>1132887</th>\n",
              "      <td>0.01</td>\n",
              "      <td>0.0</td>\n",
              "      <td>0.00</td>\n",
              "      <td>Credit Card</td>\n",
              "    </tr>\n",
              "  </tbody>\n",
              "</table>\n",
              "<p>1971068 rows × 4 columns</p>\n",
              "</div>"
            ],
            "application/vnd.google.colaboratory.intrinsic+json": {
              "type": "dataframe"
            }
          },
          "metadata": {},
          "execution_count": 33
        }
      ],
      "source": [
        "%%time\n",
        "\n",
        "# RAPIDS OFF  - 2.51\n",
        "# RAPIDS A100 - 0.02 (x125)\n",
        "df.sort_values([\"trip_ttl\", \"Trip Seconds\", \"Trip Miles\"], ascending=False)[[\"trip_ttl\", \"Trip Seconds\", \"Trip Miles\", \"Payment Type\"]]"
      ]
    },
    {
      "cell_type": "code",
      "execution_count": null,
      "metadata": {
        "id": "1xZLZbZeokXm",
        "colab": {
          "base_uri": "https://localhost:8080/"
        },
        "outputId": "1b1921f7-0001-4103-820f-0b5df1ec5ea0"
      },
      "outputs": [
        {
          "output_type": "stream",
          "name": "stdout",
          "text": [
            "CPU times: user 11.1 ms, sys: 3.65 ms, total: 14.8 ms\n",
            "Wall time: 19.4 ms\n"
          ]
        }
      ],
      "source": [
        "%%time\n",
        "\n",
        "# RAPIDS OFF  - 0.216\n",
        "# RAPIDS A100 - 0.021\n",
        "\n",
        "df = df[(df['Trip Seconds'] * df['Trip Miles']) > 0]"
      ]
    },
    {
      "cell_type": "code",
      "execution_count": null,
      "metadata": {
        "id": "jBW1IXnXjIF0"
      },
      "outputs": [],
      "source": [
        "def filter_by_modified_z_score(df, column, threshold=4.0):\n",
        "    # median and MAD (median abs deviation)\n",
        "    median = df[column].median()\n",
        "    mad = (df[column] - median).abs().median()\n",
        "    return df[(0.6745 * (df[column] - median) / mad).abs() <= threshold]"
      ]
    },
    {
      "cell_type": "code",
      "execution_count": null,
      "metadata": {
        "id": "C1C_-2RbnhZW",
        "colab": {
          "base_uri": "https://localhost:8080/",
          "height": 459
        },
        "outputId": "98439914-9fca-419e-f58f-550d5cc5a27c"
      },
      "outputs": [
        {
          "output_type": "stream",
          "name": "stdout",
          "text": [
            "CPU times: user 32 ms, sys: 8.62 ms, total: 40.7 ms\n",
            "Wall time: 39.9 ms\n"
          ]
        },
        {
          "output_type": "execute_result",
          "data": {
            "text/plain": [
              "         trip_ttl  Trip Seconds  Trip Miles\n",
              "426325      26.60        2880.0        3.30\n",
              "653444      26.60        2460.0        5.20\n",
              "1871234     26.60        2340.0        5.50\n",
              "1224153     26.60        2220.0        6.10\n",
              "845132      26.60        2100.0        4.50\n",
              "...           ...           ...         ...\n",
              "1944300      0.01          58.0        0.32\n",
              "1528258      0.01          40.0        0.10\n",
              "1038230      0.01          38.0        0.09\n",
              "1037939      0.01          38.0        0.01\n",
              "1227769      0.01          36.0        0.04\n",
              "\n",
              "[1613824 rows x 3 columns]"
            ],
            "text/html": [
              "<div>\n",
              "<style scoped>\n",
              "    .dataframe tbody tr th:only-of-type {\n",
              "        vertical-align: middle;\n",
              "    }\n",
              "\n",
              "    .dataframe tbody tr th {\n",
              "        vertical-align: top;\n",
              "    }\n",
              "\n",
              "    .dataframe thead th {\n",
              "        text-align: right;\n",
              "    }\n",
              "</style>\n",
              "<table border=\"1\" class=\"dataframe\">\n",
              "  <thead>\n",
              "    <tr style=\"text-align: right;\">\n",
              "      <th></th>\n",
              "      <th>trip_ttl</th>\n",
              "      <th>Trip Seconds</th>\n",
              "      <th>Trip Miles</th>\n",
              "    </tr>\n",
              "  </thead>\n",
              "  <tbody>\n",
              "    <tr>\n",
              "      <th>426325</th>\n",
              "      <td>26.60</td>\n",
              "      <td>2880.0</td>\n",
              "      <td>3.30</td>\n",
              "    </tr>\n",
              "    <tr>\n",
              "      <th>653444</th>\n",
              "      <td>26.60</td>\n",
              "      <td>2460.0</td>\n",
              "      <td>5.20</td>\n",
              "    </tr>\n",
              "    <tr>\n",
              "      <th>1871234</th>\n",
              "      <td>26.60</td>\n",
              "      <td>2340.0</td>\n",
              "      <td>5.50</td>\n",
              "    </tr>\n",
              "    <tr>\n",
              "      <th>1224153</th>\n",
              "      <td>26.60</td>\n",
              "      <td>2220.0</td>\n",
              "      <td>6.10</td>\n",
              "    </tr>\n",
              "    <tr>\n",
              "      <th>845132</th>\n",
              "      <td>26.60</td>\n",
              "      <td>2100.0</td>\n",
              "      <td>4.50</td>\n",
              "    </tr>\n",
              "    <tr>\n",
              "      <th>...</th>\n",
              "      <td>...</td>\n",
              "      <td>...</td>\n",
              "      <td>...</td>\n",
              "    </tr>\n",
              "    <tr>\n",
              "      <th>1944300</th>\n",
              "      <td>0.01</td>\n",
              "      <td>58.0</td>\n",
              "      <td>0.32</td>\n",
              "    </tr>\n",
              "    <tr>\n",
              "      <th>1528258</th>\n",
              "      <td>0.01</td>\n",
              "      <td>40.0</td>\n",
              "      <td>0.10</td>\n",
              "    </tr>\n",
              "    <tr>\n",
              "      <th>1038230</th>\n",
              "      <td>0.01</td>\n",
              "      <td>38.0</td>\n",
              "      <td>0.09</td>\n",
              "    </tr>\n",
              "    <tr>\n",
              "      <th>1037939</th>\n",
              "      <td>0.01</td>\n",
              "      <td>38.0</td>\n",
              "      <td>0.01</td>\n",
              "    </tr>\n",
              "    <tr>\n",
              "      <th>1227769</th>\n",
              "      <td>0.01</td>\n",
              "      <td>36.0</td>\n",
              "      <td>0.04</td>\n",
              "    </tr>\n",
              "  </tbody>\n",
              "</table>\n",
              "<p>1613824 rows × 3 columns</p>\n",
              "</div>"
            ],
            "application/vnd.google.colaboratory.intrinsic+json": {
              "type": "dataframe"
            }
          },
          "metadata": {},
          "execution_count": 36
        }
      ],
      "source": [
        "%%time\n",
        "\n",
        "# RAPIDS OFF  - 1.18\n",
        "# RAPIDS A100 - 0.04 (x29)\n",
        "\n",
        "df = filter_by_modified_z_score(df, \"trip_ttl\", threshold=3.5)\n",
        "df.sort_values([\"trip_ttl\", \"Trip Seconds\", \"Trip Miles\"], ascending=False)[[\"trip_ttl\", \"Trip Seconds\", \"Trip Miles\"]]"
      ]
    },
    {
      "cell_type": "markdown",
      "metadata": {
        "id": "9_4EfgKhp6HU"
      },
      "source": [
        "### Feature Extraction"
      ]
    },
    {
      "cell_type": "code",
      "execution_count": null,
      "metadata": {
        "id": "uIjDY5BQp9JL",
        "colab": {
          "base_uri": "https://localhost:8080/"
        },
        "outputId": "5fd189d4-230b-47e4-ba34-412529b193b8"
      },
      "outputs": [
        {
          "output_type": "stream",
          "name": "stdout",
          "text": [
            "CPU times: user 14.8 ms, sys: 3.29 ms, total: 18 ms\n",
            "Wall time: 26.5 ms\n"
          ]
        }
      ],
      "source": [
        "%%time\n",
        "\n",
        "# RAPIDS OFF  - 0.36, 0.25\n",
        "# RAPIDS A100 - 0.0315 (x8)\n",
        "\n",
        "df['avg_speed'] = df['Trip Miles'] / (df['Trip Seconds'] / 3600)\n",
        "num_cols.append('avg_speed')\n",
        "\n",
        "df['day_of_week'] = df['Trip Start Timestamp'].dt.dayofweek\n",
        "df['hour_of_day'] = df['Trip Start Timestamp'].dt.hour\n",
        "df['month'] = df['Trip Start Timestamp'].dt.month\n",
        "df['year'] = df['Trip Start Timestamp'].dt.year\n",
        "cat_cols.extend(['day_of_week', 'hour_of_day', 'month', 'year'])\n",
        "\n",
        "\n",
        "# convert to timestamp seconds since epoch\n",
        "df['Trip Start Timestamp'] = df['Trip Start Timestamp'].astype(int) // 10**9\n",
        "df['Trip End Timestamp'] = df['Trip End Timestamp'].astype(int) // 10**9\n",
        "\n",
        "num_cols.extend(['Trip Start Timestamp', 'Trip End Timestamp'])"
      ]
    },
    {
      "cell_type": "markdown",
      "metadata": {
        "id": "gAUMtmPrxc4T"
      },
      "source": [
        "### Encode Categorical Features"
      ]
    },
    {
      "cell_type": "code",
      "execution_count": null,
      "metadata": {
        "id": "MQj8ii6gfz_9",
        "colab": {
          "base_uri": "https://localhost:8080/"
        },
        "outputId": "6cf80dec-d596-4a19-918f-5a5c1c3cd097"
      },
      "outputs": [
        {
          "output_type": "stream",
          "name": "stdout",
          "text": [
            "CPU times: user 261 ms, sys: 41.5 ms, total: 302 ms\n",
            "Wall time: 278 ms\n"
          ]
        }
      ],
      "source": [
        "%%time\n",
        "\n",
        "# RAPIDS OFF  - 2.39\n",
        "# RAPIDS A100 - 0.268 (x9)\n",
        "\n",
        "# target encode cat_cols\n",
        "for col in cat_cols:\n",
        "  df[col] = df[col].map(df.groupby(col)[\"trip_ttl\"].mean())"
      ]
    },
    {
      "cell_type": "code",
      "execution_count": null,
      "metadata": {
        "id": "NAiLP7cj5S9z",
        "colab": {
          "base_uri": "https://localhost:8080/",
          "height": 514
        },
        "outputId": "c0f39946-2658-4013-a091-1a491438a6ca"
      },
      "outputs": [
        {
          "output_type": "stream",
          "name": "stdout",
          "text": [
            "CPU times: user 7.1 ms, sys: 1.01 ms, total: 8.12 ms\n",
            "Wall time: 6.22 ms\n"
          ]
        },
        {
          "output_type": "execute_result",
          "data": {
            "text/plain": [
              "         Trip Start Timestamp  Trip End Timestamp  Trip Seconds  Trip Miles  \\\n",
              "5665               1542992400          1542994200        1620.0        5.60   \n",
              "27000              1541611800          1541612700        1140.0        6.90   \n",
              "58577              1542400200          1542401100         960.0        7.20   \n",
              "75585              1541952000          1541952900        1260.0        7.20   \n",
              "80664              1541943000          1541943000         480.0        3.60   \n",
              "...                       ...                 ...           ...         ...   \n",
              "1953038            1549127700          1549128600        1581.0       21.89   \n",
              "1953494            1548666000          1548666900        1211.0        7.33   \n",
              "1957942            1549026900          1549028700        1818.0       13.11   \n",
              "1963097            1549472400          1549472400          61.0        0.07   \n",
              "1970600            1549549800          1549553400        3752.0       34.30   \n",
              "\n",
              "         Pickup Census Tract  Dropoff Census Tract  Pickup Community Area  \\\n",
              "5665                9.026736             13.491123               9.673293   \n",
              "27000              11.230968             11.209385               9.673293   \n",
              "58577              11.230968             11.209385               9.636544   \n",
              "75585              11.230968             11.209385              11.398014   \n",
              "80664              11.230968             11.209385              16.560212   \n",
              "...                      ...                   ...                    ...   \n",
              "1953038            14.084110             11.209385              16.560212   \n",
              "1953494            14.084110             11.209385              16.560212   \n",
              "1957942            11.230968             11.209385              16.560212   \n",
              "1963097            10.388689             10.567145              15.545739   \n",
              "1970600            11.230968             11.209385              16.560212   \n",
              "\n",
              "         Dropoff Community Area  trip_ttl  Payment Type    Company  \\\n",
              "5665                   9.515685     26.60     11.589782   9.991409   \n",
              "27000                 13.134676     26.60     11.589782  10.028170   \n",
              "58577                 18.599468     26.60     11.589782  10.063929   \n",
              "75585                 14.519452     26.60     11.589782   9.789769   \n",
              "80664                  9.141873     26.60     11.589782  10.063929   \n",
              "...                         ...       ...           ...        ...   \n",
              "1953038                9.141873      0.01      8.846531  10.430743   \n",
              "1953494                9.141873      0.01      8.846531  10.430743   \n",
              "1957942                9.141873      0.01      8.846531  10.430743   \n",
              "1963097               12.695346      0.01      8.846531  10.430743   \n",
              "1970600                9.141873      0.01      8.846531  10.430743   \n",
              "\n",
              "         Pickup Centroid Latitude  Pickup Centroid Longitude  \\\n",
              "5665                    41.899156                 -87.626211   \n",
              "27000                   41.899602                 -87.633308   \n",
              "58577                   41.878866                 -87.625192   \n",
              "75585                   41.953582                 -87.723452   \n",
              "80664                   41.980264                 -87.913625   \n",
              "...                           ...                        ...   \n",
              "1953038                 41.979071                 -87.903040   \n",
              "1953494                 41.979071                 -87.903040   \n",
              "1957942                 41.980264                 -87.913625   \n",
              "1963097                 41.785999                 -87.750934   \n",
              "1970600                 41.980264                 -87.913625   \n",
              "\n",
              "         Pickup Centroid Location  Dropoff Centroid Latitude  \\\n",
              "5665                     9.026736                  41.878667   \n",
              "27000                   13.312175                  41.975171   \n",
              "58577                   15.722639                  41.794090   \n",
              "75585                   11.390095                  41.953582   \n",
              "80664                   19.607906                  41.897622   \n",
              "...                           ...                        ...   \n",
              "1953038                 14.084110                  41.897622   \n",
              "1953494                 14.084110                  41.897622   \n",
              "1957942                 19.607906                  41.897622   \n",
              "1963097                 10.388689                  41.785999   \n",
              "1970600                 19.607906                  41.897622   \n",
              "\n",
              "         Dropoff Centroid Longitude  Dropoff Centroid  Location  avg_speed  \\\n",
              "5665                     -87.671654                   13.491123  12.444444   \n",
              "27000                    -87.687516                   12.937062  21.789474   \n",
              "58577                    -87.592311                   17.837765  27.000000   \n",
              "75585                    -87.723452                   14.437584  20.571429   \n",
              "80664                    -87.650391                    8.712605  27.000000   \n",
              "...                             ...                         ...        ...   \n",
              "1953038                  -87.650391                    8.712605  49.844402   \n",
              "1953494                  -87.650391                    8.712605  21.790256   \n",
              "1957942                  -87.650391                    8.712605  25.960396   \n",
              "1963097                  -87.750934                   10.567145   4.131148   \n",
              "1970600                  -87.650391                    8.712605  32.910448   \n",
              "\n",
              "         day_of_week  hour_of_day      month       year  \n",
              "5665       10.034090    10.666388  10.287562  10.135737  \n",
              "27000       9.944505    10.666388  10.287562  10.135737  \n",
              "58577      10.034090    10.690281  10.287562  10.135737  \n",
              "75585      10.561506     9.987022  10.287562  10.135737  \n",
              "80664      10.561506     9.421587  10.287562  10.135737  \n",
              "...              ...          ...        ...        ...  \n",
              "1953038    10.461210    10.666388  10.077806   9.969116  \n",
              "1953494     9.882814     9.812430   9.927262   9.969116  \n",
              "1957942    10.034090     9.421587  10.077806   9.969116  \n",
              "1963097     9.944505    10.666388  10.077806   9.969116  \n",
              "1970600     9.993680     9.590097  10.077806   9.969116  \n",
              "\n",
              "[1613824 rows x 22 columns]"
            ],
            "text/html": [
              "<div>\n",
              "<style scoped>\n",
              "    .dataframe tbody tr th:only-of-type {\n",
              "        vertical-align: middle;\n",
              "    }\n",
              "\n",
              "    .dataframe tbody tr th {\n",
              "        vertical-align: top;\n",
              "    }\n",
              "\n",
              "    .dataframe thead th {\n",
              "        text-align: right;\n",
              "    }\n",
              "</style>\n",
              "<table border=\"1\" class=\"dataframe\">\n",
              "  <thead>\n",
              "    <tr style=\"text-align: right;\">\n",
              "      <th></th>\n",
              "      <th>Trip Start Timestamp</th>\n",
              "      <th>Trip End Timestamp</th>\n",
              "      <th>Trip Seconds</th>\n",
              "      <th>Trip Miles</th>\n",
              "      <th>Pickup Census Tract</th>\n",
              "      <th>Dropoff Census Tract</th>\n",
              "      <th>Pickup Community Area</th>\n",
              "      <th>Dropoff Community Area</th>\n",
              "      <th>trip_ttl</th>\n",
              "      <th>Payment Type</th>\n",
              "      <th>Company</th>\n",
              "      <th>Pickup Centroid Latitude</th>\n",
              "      <th>Pickup Centroid Longitude</th>\n",
              "      <th>Pickup Centroid Location</th>\n",
              "      <th>Dropoff Centroid Latitude</th>\n",
              "      <th>Dropoff Centroid Longitude</th>\n",
              "      <th>Dropoff Centroid  Location</th>\n",
              "      <th>avg_speed</th>\n",
              "      <th>day_of_week</th>\n",
              "      <th>hour_of_day</th>\n",
              "      <th>month</th>\n",
              "      <th>year</th>\n",
              "    </tr>\n",
              "  </thead>\n",
              "  <tbody>\n",
              "    <tr>\n",
              "      <th>5665</th>\n",
              "      <td>1542992400</td>\n",
              "      <td>1542994200</td>\n",
              "      <td>1620.0</td>\n",
              "      <td>5.60</td>\n",
              "      <td>9.026736</td>\n",
              "      <td>13.491123</td>\n",
              "      <td>9.673293</td>\n",
              "      <td>9.515685</td>\n",
              "      <td>26.60</td>\n",
              "      <td>11.589782</td>\n",
              "      <td>9.991409</td>\n",
              "      <td>41.899156</td>\n",
              "      <td>-87.626211</td>\n",
              "      <td>9.026736</td>\n",
              "      <td>41.878667</td>\n",
              "      <td>-87.671654</td>\n",
              "      <td>13.491123</td>\n",
              "      <td>12.444444</td>\n",
              "      <td>10.034090</td>\n",
              "      <td>10.666388</td>\n",
              "      <td>10.287562</td>\n",
              "      <td>10.135737</td>\n",
              "    </tr>\n",
              "    <tr>\n",
              "      <th>27000</th>\n",
              "      <td>1541611800</td>\n",
              "      <td>1541612700</td>\n",
              "      <td>1140.0</td>\n",
              "      <td>6.90</td>\n",
              "      <td>11.230968</td>\n",
              "      <td>11.209385</td>\n",
              "      <td>9.673293</td>\n",
              "      <td>13.134676</td>\n",
              "      <td>26.60</td>\n",
              "      <td>11.589782</td>\n",
              "      <td>10.028170</td>\n",
              "      <td>41.899602</td>\n",
              "      <td>-87.633308</td>\n",
              "      <td>13.312175</td>\n",
              "      <td>41.975171</td>\n",
              "      <td>-87.687516</td>\n",
              "      <td>12.937062</td>\n",
              "      <td>21.789474</td>\n",
              "      <td>9.944505</td>\n",
              "      <td>10.666388</td>\n",
              "      <td>10.287562</td>\n",
              "      <td>10.135737</td>\n",
              "    </tr>\n",
              "    <tr>\n",
              "      <th>58577</th>\n",
              "      <td>1542400200</td>\n",
              "      <td>1542401100</td>\n",
              "      <td>960.0</td>\n",
              "      <td>7.20</td>\n",
              "      <td>11.230968</td>\n",
              "      <td>11.209385</td>\n",
              "      <td>9.636544</td>\n",
              "      <td>18.599468</td>\n",
              "      <td>26.60</td>\n",
              "      <td>11.589782</td>\n",
              "      <td>10.063929</td>\n",
              "      <td>41.878866</td>\n",
              "      <td>-87.625192</td>\n",
              "      <td>15.722639</td>\n",
              "      <td>41.794090</td>\n",
              "      <td>-87.592311</td>\n",
              "      <td>17.837765</td>\n",
              "      <td>27.000000</td>\n",
              "      <td>10.034090</td>\n",
              "      <td>10.690281</td>\n",
              "      <td>10.287562</td>\n",
              "      <td>10.135737</td>\n",
              "    </tr>\n",
              "    <tr>\n",
              "      <th>75585</th>\n",
              "      <td>1541952000</td>\n",
              "      <td>1541952900</td>\n",
              "      <td>1260.0</td>\n",
              "      <td>7.20</td>\n",
              "      <td>11.230968</td>\n",
              "      <td>11.209385</td>\n",
              "      <td>11.398014</td>\n",
              "      <td>14.519452</td>\n",
              "      <td>26.60</td>\n",
              "      <td>11.589782</td>\n",
              "      <td>9.789769</td>\n",
              "      <td>41.953582</td>\n",
              "      <td>-87.723452</td>\n",
              "      <td>11.390095</td>\n",
              "      <td>41.953582</td>\n",
              "      <td>-87.723452</td>\n",
              "      <td>14.437584</td>\n",
              "      <td>20.571429</td>\n",
              "      <td>10.561506</td>\n",
              "      <td>9.987022</td>\n",
              "      <td>10.287562</td>\n",
              "      <td>10.135737</td>\n",
              "    </tr>\n",
              "    <tr>\n",
              "      <th>80664</th>\n",
              "      <td>1541943000</td>\n",
              "      <td>1541943000</td>\n",
              "      <td>480.0</td>\n",
              "      <td>3.60</td>\n",
              "      <td>11.230968</td>\n",
              "      <td>11.209385</td>\n",
              "      <td>16.560212</td>\n",
              "      <td>9.141873</td>\n",
              "      <td>26.60</td>\n",
              "      <td>11.589782</td>\n",
              "      <td>10.063929</td>\n",
              "      <td>41.980264</td>\n",
              "      <td>-87.913625</td>\n",
              "      <td>19.607906</td>\n",
              "      <td>41.897622</td>\n",
              "      <td>-87.650391</td>\n",
              "      <td>8.712605</td>\n",
              "      <td>27.000000</td>\n",
              "      <td>10.561506</td>\n",
              "      <td>9.421587</td>\n",
              "      <td>10.287562</td>\n",
              "      <td>10.135737</td>\n",
              "    </tr>\n",
              "    <tr>\n",
              "      <th>...</th>\n",
              "      <td>...</td>\n",
              "      <td>...</td>\n",
              "      <td>...</td>\n",
              "      <td>...</td>\n",
              "      <td>...</td>\n",
              "      <td>...</td>\n",
              "      <td>...</td>\n",
              "      <td>...</td>\n",
              "      <td>...</td>\n",
              "      <td>...</td>\n",
              "      <td>...</td>\n",
              "      <td>...</td>\n",
              "      <td>...</td>\n",
              "      <td>...</td>\n",
              "      <td>...</td>\n",
              "      <td>...</td>\n",
              "      <td>...</td>\n",
              "      <td>...</td>\n",
              "      <td>...</td>\n",
              "      <td>...</td>\n",
              "      <td>...</td>\n",
              "      <td>...</td>\n",
              "    </tr>\n",
              "    <tr>\n",
              "      <th>1953038</th>\n",
              "      <td>1549127700</td>\n",
              "      <td>1549128600</td>\n",
              "      <td>1581.0</td>\n",
              "      <td>21.89</td>\n",
              "      <td>14.084110</td>\n",
              "      <td>11.209385</td>\n",
              "      <td>16.560212</td>\n",
              "      <td>9.141873</td>\n",
              "      <td>0.01</td>\n",
              "      <td>8.846531</td>\n",
              "      <td>10.430743</td>\n",
              "      <td>41.979071</td>\n",
              "      <td>-87.903040</td>\n",
              "      <td>14.084110</td>\n",
              "      <td>41.897622</td>\n",
              "      <td>-87.650391</td>\n",
              "      <td>8.712605</td>\n",
              "      <td>49.844402</td>\n",
              "      <td>10.461210</td>\n",
              "      <td>10.666388</td>\n",
              "      <td>10.077806</td>\n",
              "      <td>9.969116</td>\n",
              "    </tr>\n",
              "    <tr>\n",
              "      <th>1953494</th>\n",
              "      <td>1548666000</td>\n",
              "      <td>1548666900</td>\n",
              "      <td>1211.0</td>\n",
              "      <td>7.33</td>\n",
              "      <td>14.084110</td>\n",
              "      <td>11.209385</td>\n",
              "      <td>16.560212</td>\n",
              "      <td>9.141873</td>\n",
              "      <td>0.01</td>\n",
              "      <td>8.846531</td>\n",
              "      <td>10.430743</td>\n",
              "      <td>41.979071</td>\n",
              "      <td>-87.903040</td>\n",
              "      <td>14.084110</td>\n",
              "      <td>41.897622</td>\n",
              "      <td>-87.650391</td>\n",
              "      <td>8.712605</td>\n",
              "      <td>21.790256</td>\n",
              "      <td>9.882814</td>\n",
              "      <td>9.812430</td>\n",
              "      <td>9.927262</td>\n",
              "      <td>9.969116</td>\n",
              "    </tr>\n",
              "    <tr>\n",
              "      <th>1957942</th>\n",
              "      <td>1549026900</td>\n",
              "      <td>1549028700</td>\n",
              "      <td>1818.0</td>\n",
              "      <td>13.11</td>\n",
              "      <td>11.230968</td>\n",
              "      <td>11.209385</td>\n",
              "      <td>16.560212</td>\n",
              "      <td>9.141873</td>\n",
              "      <td>0.01</td>\n",
              "      <td>8.846531</td>\n",
              "      <td>10.430743</td>\n",
              "      <td>41.980264</td>\n",
              "      <td>-87.913625</td>\n",
              "      <td>19.607906</td>\n",
              "      <td>41.897622</td>\n",
              "      <td>-87.650391</td>\n",
              "      <td>8.712605</td>\n",
              "      <td>25.960396</td>\n",
              "      <td>10.034090</td>\n",
              "      <td>9.421587</td>\n",
              "      <td>10.077806</td>\n",
              "      <td>9.969116</td>\n",
              "    </tr>\n",
              "    <tr>\n",
              "      <th>1963097</th>\n",
              "      <td>1549472400</td>\n",
              "      <td>1549472400</td>\n",
              "      <td>61.0</td>\n",
              "      <td>0.07</td>\n",
              "      <td>10.388689</td>\n",
              "      <td>10.567145</td>\n",
              "      <td>15.545739</td>\n",
              "      <td>12.695346</td>\n",
              "      <td>0.01</td>\n",
              "      <td>8.846531</td>\n",
              "      <td>10.430743</td>\n",
              "      <td>41.785999</td>\n",
              "      <td>-87.750934</td>\n",
              "      <td>10.388689</td>\n",
              "      <td>41.785999</td>\n",
              "      <td>-87.750934</td>\n",
              "      <td>10.567145</td>\n",
              "      <td>4.131148</td>\n",
              "      <td>9.944505</td>\n",
              "      <td>10.666388</td>\n",
              "      <td>10.077806</td>\n",
              "      <td>9.969116</td>\n",
              "    </tr>\n",
              "    <tr>\n",
              "      <th>1970600</th>\n",
              "      <td>1549549800</td>\n",
              "      <td>1549553400</td>\n",
              "      <td>3752.0</td>\n",
              "      <td>34.30</td>\n",
              "      <td>11.230968</td>\n",
              "      <td>11.209385</td>\n",
              "      <td>16.560212</td>\n",
              "      <td>9.141873</td>\n",
              "      <td>0.01</td>\n",
              "      <td>8.846531</td>\n",
              "      <td>10.430743</td>\n",
              "      <td>41.980264</td>\n",
              "      <td>-87.913625</td>\n",
              "      <td>19.607906</td>\n",
              "      <td>41.897622</td>\n",
              "      <td>-87.650391</td>\n",
              "      <td>8.712605</td>\n",
              "      <td>32.910448</td>\n",
              "      <td>9.993680</td>\n",
              "      <td>9.590097</td>\n",
              "      <td>10.077806</td>\n",
              "      <td>9.969116</td>\n",
              "    </tr>\n",
              "  </tbody>\n",
              "</table>\n",
              "<p>1613824 rows × 22 columns</p>\n",
              "</div>"
            ],
            "application/vnd.google.colaboratory.intrinsic+json": {
              "type": "dataframe"
            }
          },
          "metadata": {},
          "execution_count": 39
        }
      ],
      "source": [
        "%%time\n",
        "\n",
        "# RAPIDS OFF  - 1.23, 0.833\n",
        "# RAPIDS A100 - 0.00823 (x100)\n",
        "\n",
        "pd.set_option('display.max_columns', None)\n",
        "\n",
        "df.sort_values(\"trip_ttl\", ascending=False)"
      ]
    },
    {
      "cell_type": "code",
      "source": [
        "%%time\n",
        "\n",
        "# RAPIDS OFF  - 0.969\n",
        "# RAPIDS A100 - 0.800\n",
        "\n",
        "# remove nulls/inf\n",
        "df = df.replace([np.inf, -np.inf], np.nan).dropna()\n",
        "df"
      ],
      "metadata": {
        "id": "U-LDV7_U82LC",
        "colab": {
          "base_uri": "https://localhost:8080/",
          "height": 514
        },
        "outputId": "481877b1-996b-48ff-ca84-82ba74b4df52"
      },
      "execution_count": null,
      "outputs": [
        {
          "output_type": "stream",
          "name": "stdout",
          "text": [
            "CPU times: user 554 ms, sys: 401 ms, total: 956 ms\n",
            "Wall time: 929 ms\n"
          ]
        },
        {
          "output_type": "execute_result",
          "data": {
            "text/plain": [
              "         Trip Start Timestamp  Trip End Timestamp  Trip Seconds  Trip Miles  \\\n",
              "0                  1543098600          1543098600         240.0        0.90   \n",
              "1                  1543068900          1543068900         342.0        0.91   \n",
              "2                  1542647700          1542647700         419.0        0.82   \n",
              "3                  1542815100          1542816000         479.0        1.37   \n",
              "4                  1542603600          1542605400        1038.0        8.74   \n",
              "...                       ...                 ...           ...         ...   \n",
              "1972423            1549474200          1549475100        1005.0        3.20   \n",
              "1972424            1549488600          1549489500         268.0        0.88   \n",
              "1972425            1549735200          1549735200         450.0        1.28   \n",
              "1972426            1549305900          1549306800        1288.0        4.10   \n",
              "1972427            1549544400          1549544400         300.0        1.20   \n",
              "\n",
              "         Pickup Census Tract  Dropoff Census Tract  Pickup Community Area  \\\n",
              "0                   8.889187              8.399119               9.673293   \n",
              "1                   8.840747              8.976772               9.636544   \n",
              "2                   9.269435             11.209385               9.933901   \n",
              "3                   8.840747              8.697326               9.636544   \n",
              "4                  11.230968             11.209385              11.932033   \n",
              "...                      ...                   ...                    ...   \n",
              "1972423            13.677037              8.411083              11.556345   \n",
              "1972424             8.840747              8.978773               9.636544   \n",
              "1972425             9.026736              8.733624               9.673293   \n",
              "1972426            11.230968             15.991460               9.636544   \n",
              "1972427            11.230968             10.017160               9.636544   \n",
              "\n",
              "         Dropoff Community Area  trip_ttl  Payment Type    Company  \\\n",
              "0                      8.648094      5.50      8.846531   9.918811   \n",
              "1                      9.141873      7.00      8.846531   9.991409   \n",
              "2                      8.648094      7.70     11.589782  10.063929   \n",
              "3                      9.141873      9.75     11.589782   9.991409   \n",
              "4                     13.692171     23.75      8.846531  10.063929   \n",
              "...                         ...       ...           ...        ...   \n",
              "1972423                9.141873     11.75      8.846531   9.918811   \n",
              "1972424                9.141873      8.00     11.589782  10.140592   \n",
              "1972425                9.141873     10.05     11.007876  10.063929   \n",
              "1972426               15.621674     14.75      8.846531   9.789769   \n",
              "1972427                9.515685      6.00      8.846531   9.918811   \n",
              "\n",
              "         Pickup Centroid Latitude  Pickup Centroid Longitude  \\\n",
              "0                       41.892508                 -87.626215   \n",
              "1                       41.884987                 -87.620993   \n",
              "2                       41.879255                 -87.642649   \n",
              "3                       41.884987                 -87.620993   \n",
              "4                       41.954028                 -87.763399   \n",
              "...                           ...                        ...   \n",
              "1972423                 41.938232                 -87.646782   \n",
              "1972424                 41.884987                 -87.620993   \n",
              "1972425                 41.899156                 -87.626211   \n",
              "1972426                 41.880994                 -87.632746   \n",
              "1972427                 41.880994                 -87.632746   \n",
              "\n",
              "         Pickup Centroid Location  Dropoff Centroid Latitude  \\\n",
              "0                        8.889187                  41.884987   \n",
              "1                        8.840747                  41.891972   \n",
              "2                        9.269435                  41.880994   \n",
              "3                        8.840747                  41.895033   \n",
              "4                       11.920188                  41.980264   \n",
              "...                           ...                        ...   \n",
              "1972423                 13.677037                  41.892042   \n",
              "1972424                  8.840747                  41.898332   \n",
              "1972425                  9.026736                  41.890922   \n",
              "1972426                  8.827250                  41.920452   \n",
              "1972427                  8.827250                  41.885281   \n",
              "\n",
              "         Dropoff Centroid Longitude  Dropoff Centroid  Location  avg_speed  \\\n",
              "0                        -87.620993                    8.399119  13.500000   \n",
              "1                        -87.612945                    8.976772   9.578947   \n",
              "2                        -87.632746                    8.712605   7.045346   \n",
              "3                        -87.619711                    8.697326  10.296451   \n",
              "4                        -87.913625                   18.763583  30.312139   \n",
              "...                             ...                         ...        ...   \n",
              "1972423                  -87.631864                    8.411083  11.462687   \n",
              "1972424                  -87.620763                    8.978773  11.820896   \n",
              "1972425                  -87.618868                    8.733624  10.240000   \n",
              "1972426                  -87.679955                   15.991460  11.459627   \n",
              "1972427                  -87.657233                   10.017160  14.400000   \n",
              "\n",
              "         day_of_week  hour_of_day      month       year  \n",
              "0          10.461210    10.907608  10.287562  10.135737  \n",
              "1          10.461210     9.590097  10.287562  10.135737  \n",
              "2           9.882814    10.666388  10.287562  10.135737  \n",
              "3           9.944505     9.706529  10.287562  10.135737  \n",
              "4           9.882814    10.416209  10.287562  10.135737  \n",
              "...              ...          ...        ...        ...  \n",
              "1972423     9.944505    10.666388  10.077806   9.969116  \n",
              "1972424     9.944505    10.876360  10.077806   9.969116  \n",
              "1972425    10.461210    10.594743  10.077806   9.969116  \n",
              "1972426     9.882814    10.594743  10.077806   9.969116  \n",
              "1972427     9.993680     9.421587  10.077806   9.969116  \n",
              "\n",
              "[1613824 rows x 22 columns]"
            ],
            "text/html": [
              "<div>\n",
              "<style scoped>\n",
              "    .dataframe tbody tr th:only-of-type {\n",
              "        vertical-align: middle;\n",
              "    }\n",
              "\n",
              "    .dataframe tbody tr th {\n",
              "        vertical-align: top;\n",
              "    }\n",
              "\n",
              "    .dataframe thead th {\n",
              "        text-align: right;\n",
              "    }\n",
              "</style>\n",
              "<table border=\"1\" class=\"dataframe\">\n",
              "  <thead>\n",
              "    <tr style=\"text-align: right;\">\n",
              "      <th></th>\n",
              "      <th>Trip Start Timestamp</th>\n",
              "      <th>Trip End Timestamp</th>\n",
              "      <th>Trip Seconds</th>\n",
              "      <th>Trip Miles</th>\n",
              "      <th>Pickup Census Tract</th>\n",
              "      <th>Dropoff Census Tract</th>\n",
              "      <th>Pickup Community Area</th>\n",
              "      <th>Dropoff Community Area</th>\n",
              "      <th>trip_ttl</th>\n",
              "      <th>Payment Type</th>\n",
              "      <th>Company</th>\n",
              "      <th>Pickup Centroid Latitude</th>\n",
              "      <th>Pickup Centroid Longitude</th>\n",
              "      <th>Pickup Centroid Location</th>\n",
              "      <th>Dropoff Centroid Latitude</th>\n",
              "      <th>Dropoff Centroid Longitude</th>\n",
              "      <th>Dropoff Centroid  Location</th>\n",
              "      <th>avg_speed</th>\n",
              "      <th>day_of_week</th>\n",
              "      <th>hour_of_day</th>\n",
              "      <th>month</th>\n",
              "      <th>year</th>\n",
              "    </tr>\n",
              "  </thead>\n",
              "  <tbody>\n",
              "    <tr>\n",
              "      <th>0</th>\n",
              "      <td>1543098600</td>\n",
              "      <td>1543098600</td>\n",
              "      <td>240.0</td>\n",
              "      <td>0.90</td>\n",
              "      <td>8.889187</td>\n",
              "      <td>8.399119</td>\n",
              "      <td>9.673293</td>\n",
              "      <td>8.648094</td>\n",
              "      <td>5.50</td>\n",
              "      <td>8.846531</td>\n",
              "      <td>9.918811</td>\n",
              "      <td>41.892508</td>\n",
              "      <td>-87.626215</td>\n",
              "      <td>8.889187</td>\n",
              "      <td>41.884987</td>\n",
              "      <td>-87.620993</td>\n",
              "      <td>8.399119</td>\n",
              "      <td>13.500000</td>\n",
              "      <td>10.461210</td>\n",
              "      <td>10.907608</td>\n",
              "      <td>10.287562</td>\n",
              "      <td>10.135737</td>\n",
              "    </tr>\n",
              "    <tr>\n",
              "      <th>1</th>\n",
              "      <td>1543068900</td>\n",
              "      <td>1543068900</td>\n",
              "      <td>342.0</td>\n",
              "      <td>0.91</td>\n",
              "      <td>8.840747</td>\n",
              "      <td>8.976772</td>\n",
              "      <td>9.636544</td>\n",
              "      <td>9.141873</td>\n",
              "      <td>7.00</td>\n",
              "      <td>8.846531</td>\n",
              "      <td>9.991409</td>\n",
              "      <td>41.884987</td>\n",
              "      <td>-87.620993</td>\n",
              "      <td>8.840747</td>\n",
              "      <td>41.891972</td>\n",
              "      <td>-87.612945</td>\n",
              "      <td>8.976772</td>\n",
              "      <td>9.578947</td>\n",
              "      <td>10.461210</td>\n",
              "      <td>9.590097</td>\n",
              "      <td>10.287562</td>\n",
              "      <td>10.135737</td>\n",
              "    </tr>\n",
              "    <tr>\n",
              "      <th>2</th>\n",
              "      <td>1542647700</td>\n",
              "      <td>1542647700</td>\n",
              "      <td>419.0</td>\n",
              "      <td>0.82</td>\n",
              "      <td>9.269435</td>\n",
              "      <td>11.209385</td>\n",
              "      <td>9.933901</td>\n",
              "      <td>8.648094</td>\n",
              "      <td>7.70</td>\n",
              "      <td>11.589782</td>\n",
              "      <td>10.063929</td>\n",
              "      <td>41.879255</td>\n",
              "      <td>-87.642649</td>\n",
              "      <td>9.269435</td>\n",
              "      <td>41.880994</td>\n",
              "      <td>-87.632746</td>\n",
              "      <td>8.712605</td>\n",
              "      <td>7.045346</td>\n",
              "      <td>9.882814</td>\n",
              "      <td>10.666388</td>\n",
              "      <td>10.287562</td>\n",
              "      <td>10.135737</td>\n",
              "    </tr>\n",
              "    <tr>\n",
              "      <th>3</th>\n",
              "      <td>1542815100</td>\n",
              "      <td>1542816000</td>\n",
              "      <td>479.0</td>\n",
              "      <td>1.37</td>\n",
              "      <td>8.840747</td>\n",
              "      <td>8.697326</td>\n",
              "      <td>9.636544</td>\n",
              "      <td>9.141873</td>\n",
              "      <td>9.75</td>\n",
              "      <td>11.589782</td>\n",
              "      <td>9.991409</td>\n",
              "      <td>41.884987</td>\n",
              "      <td>-87.620993</td>\n",
              "      <td>8.840747</td>\n",
              "      <td>41.895033</td>\n",
              "      <td>-87.619711</td>\n",
              "      <td>8.697326</td>\n",
              "      <td>10.296451</td>\n",
              "      <td>9.944505</td>\n",
              "      <td>9.706529</td>\n",
              "      <td>10.287562</td>\n",
              "      <td>10.135737</td>\n",
              "    </tr>\n",
              "    <tr>\n",
              "      <th>4</th>\n",
              "      <td>1542603600</td>\n",
              "      <td>1542605400</td>\n",
              "      <td>1038.0</td>\n",
              "      <td>8.74</td>\n",
              "      <td>11.230968</td>\n",
              "      <td>11.209385</td>\n",
              "      <td>11.932033</td>\n",
              "      <td>13.692171</td>\n",
              "      <td>23.75</td>\n",
              "      <td>8.846531</td>\n",
              "      <td>10.063929</td>\n",
              "      <td>41.954028</td>\n",
              "      <td>-87.763399</td>\n",
              "      <td>11.920188</td>\n",
              "      <td>41.980264</td>\n",
              "      <td>-87.913625</td>\n",
              "      <td>18.763583</td>\n",
              "      <td>30.312139</td>\n",
              "      <td>9.882814</td>\n",
              "      <td>10.416209</td>\n",
              "      <td>10.287562</td>\n",
              "      <td>10.135737</td>\n",
              "    </tr>\n",
              "    <tr>\n",
              "      <th>...</th>\n",
              "      <td>...</td>\n",
              "      <td>...</td>\n",
              "      <td>...</td>\n",
              "      <td>...</td>\n",
              "      <td>...</td>\n",
              "      <td>...</td>\n",
              "      <td>...</td>\n",
              "      <td>...</td>\n",
              "      <td>...</td>\n",
              "      <td>...</td>\n",
              "      <td>...</td>\n",
              "      <td>...</td>\n",
              "      <td>...</td>\n",
              "      <td>...</td>\n",
              "      <td>...</td>\n",
              "      <td>...</td>\n",
              "      <td>...</td>\n",
              "      <td>...</td>\n",
              "      <td>...</td>\n",
              "      <td>...</td>\n",
              "      <td>...</td>\n",
              "      <td>...</td>\n",
              "    </tr>\n",
              "    <tr>\n",
              "      <th>1972423</th>\n",
              "      <td>1549474200</td>\n",
              "      <td>1549475100</td>\n",
              "      <td>1005.0</td>\n",
              "      <td>3.20</td>\n",
              "      <td>13.677037</td>\n",
              "      <td>8.411083</td>\n",
              "      <td>11.556345</td>\n",
              "      <td>9.141873</td>\n",
              "      <td>11.75</td>\n",
              "      <td>8.846531</td>\n",
              "      <td>9.918811</td>\n",
              "      <td>41.938232</td>\n",
              "      <td>-87.646782</td>\n",
              "      <td>13.677037</td>\n",
              "      <td>41.892042</td>\n",
              "      <td>-87.631864</td>\n",
              "      <td>8.411083</td>\n",
              "      <td>11.462687</td>\n",
              "      <td>9.944505</td>\n",
              "      <td>10.666388</td>\n",
              "      <td>10.077806</td>\n",
              "      <td>9.969116</td>\n",
              "    </tr>\n",
              "    <tr>\n",
              "      <th>1972424</th>\n",
              "      <td>1549488600</td>\n",
              "      <td>1549489500</td>\n",
              "      <td>268.0</td>\n",
              "      <td>0.88</td>\n",
              "      <td>8.840747</td>\n",
              "      <td>8.978773</td>\n",
              "      <td>9.636544</td>\n",
              "      <td>9.141873</td>\n",
              "      <td>8.00</td>\n",
              "      <td>11.589782</td>\n",
              "      <td>10.140592</td>\n",
              "      <td>41.884987</td>\n",
              "      <td>-87.620993</td>\n",
              "      <td>8.840747</td>\n",
              "      <td>41.898332</td>\n",
              "      <td>-87.620763</td>\n",
              "      <td>8.978773</td>\n",
              "      <td>11.820896</td>\n",
              "      <td>9.944505</td>\n",
              "      <td>10.876360</td>\n",
              "      <td>10.077806</td>\n",
              "      <td>9.969116</td>\n",
              "    </tr>\n",
              "    <tr>\n",
              "      <th>1972425</th>\n",
              "      <td>1549735200</td>\n",
              "      <td>1549735200</td>\n",
              "      <td>450.0</td>\n",
              "      <td>1.28</td>\n",
              "      <td>9.026736</td>\n",
              "      <td>8.733624</td>\n",
              "      <td>9.673293</td>\n",
              "      <td>9.141873</td>\n",
              "      <td>10.05</td>\n",
              "      <td>11.007876</td>\n",
              "      <td>10.063929</td>\n",
              "      <td>41.899156</td>\n",
              "      <td>-87.626211</td>\n",
              "      <td>9.026736</td>\n",
              "      <td>41.890922</td>\n",
              "      <td>-87.618868</td>\n",
              "      <td>8.733624</td>\n",
              "      <td>10.240000</td>\n",
              "      <td>10.461210</td>\n",
              "      <td>10.594743</td>\n",
              "      <td>10.077806</td>\n",
              "      <td>9.969116</td>\n",
              "    </tr>\n",
              "    <tr>\n",
              "      <th>1972426</th>\n",
              "      <td>1549305900</td>\n",
              "      <td>1549306800</td>\n",
              "      <td>1288.0</td>\n",
              "      <td>4.10</td>\n",
              "      <td>11.230968</td>\n",
              "      <td>15.991460</td>\n",
              "      <td>9.636544</td>\n",
              "      <td>15.621674</td>\n",
              "      <td>14.75</td>\n",
              "      <td>8.846531</td>\n",
              "      <td>9.789769</td>\n",
              "      <td>41.880994</td>\n",
              "      <td>-87.632746</td>\n",
              "      <td>8.827250</td>\n",
              "      <td>41.920452</td>\n",
              "      <td>-87.679955</td>\n",
              "      <td>15.991460</td>\n",
              "      <td>11.459627</td>\n",
              "      <td>9.882814</td>\n",
              "      <td>10.594743</td>\n",
              "      <td>10.077806</td>\n",
              "      <td>9.969116</td>\n",
              "    </tr>\n",
              "    <tr>\n",
              "      <th>1972427</th>\n",
              "      <td>1549544400</td>\n",
              "      <td>1549544400</td>\n",
              "      <td>300.0</td>\n",
              "      <td>1.20</td>\n",
              "      <td>11.230968</td>\n",
              "      <td>10.017160</td>\n",
              "      <td>9.636544</td>\n",
              "      <td>9.515685</td>\n",
              "      <td>6.00</td>\n",
              "      <td>8.846531</td>\n",
              "      <td>9.918811</td>\n",
              "      <td>41.880994</td>\n",
              "      <td>-87.632746</td>\n",
              "      <td>8.827250</td>\n",
              "      <td>41.885281</td>\n",
              "      <td>-87.657233</td>\n",
              "      <td>10.017160</td>\n",
              "      <td>14.400000</td>\n",
              "      <td>9.993680</td>\n",
              "      <td>9.421587</td>\n",
              "      <td>10.077806</td>\n",
              "      <td>9.969116</td>\n",
              "    </tr>\n",
              "  </tbody>\n",
              "</table>\n",
              "<p>1613824 rows × 22 columns</p>\n",
              "</div>"
            ],
            "application/vnd.google.colaboratory.intrinsic+json": {
              "type": "dataframe",
              "variable_name": "df"
            }
          },
          "metadata": {},
          "execution_count": 40
        }
      ]
    },
    {
      "cell_type": "markdown",
      "metadata": {
        "id": "WzRrDJZR5Y-4"
      },
      "source": [
        "### XGBoost Model"
      ]
    },
    {
      "cell_type": "code",
      "execution_count": null,
      "metadata": {
        "id": "Ao6gIX7GxfP4",
        "colab": {
          "base_uri": "https://localhost:8080/"
        },
        "outputId": "4e74791e-7e48-4eec-eb79-2e7961b66c3d"
      },
      "outputs": [
        {
          "output_type": "stream",
          "name": "stdout",
          "text": [
            "CPU times: user 6.53 s, sys: 1.68 s, total: 8.21 s\n",
            "Wall time: 7.25 s\n"
          ]
        },
        {
          "output_type": "execute_result",
          "data": {
            "text/plain": [
              "7.249994516372681"
            ]
          },
          "metadata": {},
          "execution_count": 41
        }
      ],
      "source": [
        "%%time\n",
        "\n",
        "# RAPIDS OFF  - 102.90\n",
        "# RAPIDS A100 - 6.33 (x16)\n",
        "start = time()\n",
        "\n",
        "X = df.drop(columns=[\"trip_ttl\"])\n",
        "y = df[\"trip_ttl\"]\n",
        "\n",
        "xgb_fold_results = {\"avg\": [], \"mse\": [], \"rmse\": [], \"mae\": [], \"r2\": [], \"max_err\": []}\n",
        "\n",
        "for fold, (train_index, test_index) in enumerate(KFold(n_splits=5, shuffle=True, random_state=42).split(df)):\n",
        "  X_train, X_test = X.iloc[train_index], X.iloc[test_index]\n",
        "  y_train, y_test = y.iloc[train_index], y.iloc[test_index]\n",
        "\n",
        "  # train\n",
        "  xgb_model = xgb.XGBRegressor(device=xgb_device)\n",
        "\n",
        "  xgb_model.fit(X_train, y_train)\n",
        "  y_pred = xgb_model.predict(X_test)\n",
        "  xgb_fold_results[\"avg\"].append(y_pred.mean())\n",
        "\n",
        "  # metrics\n",
        "  mse = ((y_test - y_pred) ** 2).mean()\n",
        "  xgb_fold_results[\"mse\"].append(mse)\n",
        "  xgb_fold_results[\"rmse\"].append(mse ** 0.5)\n",
        "  mae = (y_test - y_pred).abs().mean()\n",
        "  xgb_fold_results[\"mae\"].append(mae)\n",
        "  ss_residual = ((y_test - y_pred) ** 2).sum()\n",
        "  ss_total = ((y_test - y_test.mean()) ** 2).sum()\n",
        "  r_squared = 1 - (ss_residual / ss_total)\n",
        "  xgb_fold_results[\"r2\"].append(1 - (ss_residual / ss_total))\n",
        "  xgb_fold_results[\"max_err\"].append((y_test - y_pred).abs().max())\n",
        "\n",
        "xgb_fe_fold_results_df = pd.DataFrame(xgb_fold_results)\n",
        "\n",
        "time() - start"
      ]
    },
    {
      "cell_type": "markdown",
      "metadata": {
        "id": "srrVgXBbHych"
      },
      "source": [
        "### Results"
      ]
    },
    {
      "cell_type": "code",
      "execution_count": null,
      "metadata": {
        "id": "FMpyy4BzflMY",
        "colab": {
          "base_uri": "https://localhost:8080/",
          "height": 175
        },
        "outputId": "6a691894-9188-4353-8a4a-c6846bf04460"
      },
      "outputs": [
        {
          "output_type": "execute_result",
          "data": {
            "text/plain": [
              "       model    avg      mse   rmse    mae    r2  max_err\n",
              "0     xgb_fe  10.08     1.12   1.06   0.70  0.94    28.07\n",
              "0  xgb_naïve  17.58  7055.60  83.87   5.16  0.13  9788.08\n",
              "0     median   9.75  8145.75  90.08  10.52 -0.01  9965.57\n",
              "0       mean  17.58  8084.47  89.74  13.39 -0.00  9957.77"
            ],
            "text/html": [
              "<div>\n",
              "<style scoped>\n",
              "    .dataframe tbody tr th:only-of-type {\n",
              "        vertical-align: middle;\n",
              "    }\n",
              "\n",
              "    .dataframe tbody tr th {\n",
              "        vertical-align: top;\n",
              "    }\n",
              "\n",
              "    .dataframe thead th {\n",
              "        text-align: right;\n",
              "    }\n",
              "</style>\n",
              "<table border=\"1\" class=\"dataframe\">\n",
              "  <thead>\n",
              "    <tr style=\"text-align: right;\">\n",
              "      <th></th>\n",
              "      <th>model</th>\n",
              "      <th>avg</th>\n",
              "      <th>mse</th>\n",
              "      <th>rmse</th>\n",
              "      <th>mae</th>\n",
              "      <th>r2</th>\n",
              "      <th>max_err</th>\n",
              "    </tr>\n",
              "  </thead>\n",
              "  <tbody>\n",
              "    <tr>\n",
              "      <th>0</th>\n",
              "      <td>xgb_fe</td>\n",
              "      <td>10.08</td>\n",
              "      <td>1.12</td>\n",
              "      <td>1.06</td>\n",
              "      <td>0.70</td>\n",
              "      <td>0.94</td>\n",
              "      <td>28.07</td>\n",
              "    </tr>\n",
              "    <tr>\n",
              "      <th>0</th>\n",
              "      <td>xgb_naïve</td>\n",
              "      <td>17.58</td>\n",
              "      <td>7055.60</td>\n",
              "      <td>83.87</td>\n",
              "      <td>5.16</td>\n",
              "      <td>0.13</td>\n",
              "      <td>9788.08</td>\n",
              "    </tr>\n",
              "    <tr>\n",
              "      <th>0</th>\n",
              "      <td>median</td>\n",
              "      <td>9.75</td>\n",
              "      <td>8145.75</td>\n",
              "      <td>90.08</td>\n",
              "      <td>10.52</td>\n",
              "      <td>-0.01</td>\n",
              "      <td>9965.57</td>\n",
              "    </tr>\n",
              "    <tr>\n",
              "      <th>0</th>\n",
              "      <td>mean</td>\n",
              "      <td>17.58</td>\n",
              "      <td>8084.47</td>\n",
              "      <td>89.74</td>\n",
              "      <td>13.39</td>\n",
              "      <td>-0.00</td>\n",
              "      <td>9957.77</td>\n",
              "    </tr>\n",
              "  </tbody>\n",
              "</table>\n",
              "</div>"
            ],
            "application/vnd.google.colaboratory.intrinsic+json": {
              "type": "dataframe",
              "summary": "{\n  \"name\": \"all_results\",\n  \"rows\": 4,\n  \"fields\": [\n    {\n      \"column\": \"model\",\n      \"properties\": {\n        \"dtype\": \"string\",\n        \"num_unique_values\": 4,\n        \"samples\": [\n          \"mean\",\n          \"xgb_fe\",\n          \"xgb_na\\u00efve\"\n        ],\n        \"semantic_type\": \"\",\n        \"description\": \"\"\n      }\n    },\n    {\n      \"column\": \"avg\",\n      \"properties\": {\n        \"dtype\": \"number\",\n        \"std\": 4.427440005240049,\n        \"min\": 9.75,\n        \"max\": 17.58,\n        \"num_unique_values\": 3,\n        \"samples\": [\n          10.08,\n          17.58,\n          9.75\n        ],\n        \"semantic_type\": \"\",\n        \"description\": \"\"\n      }\n    },\n    {\n      \"column\": \"mse\",\n      \"properties\": {\n        \"dtype\": \"number\",\n        \"std\": 3912.5012126473093,\n        \"min\": 1.12,\n        \"max\": 8145.75,\n        \"num_unique_values\": 4,\n        \"samples\": [\n          8084.47,\n          1.12,\n          7055.6\n        ],\n        \"semantic_type\": \"\",\n        \"description\": \"\"\n      }\n    },\n    {\n      \"column\": \"rmse\",\n      \"properties\": {\n        \"dtype\": \"number\",\n        \"std\": 43.511814008764716,\n        \"min\": 1.06,\n        \"max\": 90.08,\n        \"num_unique_values\": 4,\n        \"samples\": [\n          89.74,\n          1.06,\n          83.87\n        ],\n        \"semantic_type\": \"\",\n        \"description\": \"\"\n      }\n    },\n    {\n      \"column\": \"mae\",\n      \"properties\": {\n        \"dtype\": \"number\",\n        \"std\": 5.642543014161848,\n        \"min\": 0.7,\n        \"max\": 13.39,\n        \"num_unique_values\": 4,\n        \"samples\": [\n          13.39,\n          0.7,\n          5.16\n        ],\n        \"semantic_type\": \"\",\n        \"description\": \"\"\n      }\n    },\n    {\n      \"column\": \"r2\",\n      \"properties\": {\n        \"dtype\": \"number\",\n        \"std\": 0.45449605792203157,\n        \"min\": -0.01,\n        \"max\": 0.94,\n        \"num_unique_values\": 4,\n        \"samples\": [\n          -0.0,\n          0.94,\n          0.13\n        ],\n        \"semantic_type\": \"\",\n        \"description\": \"\"\n      }\n    },\n    {\n      \"column\": \"max_err\",\n      \"properties\": {\n        \"dtype\": \"number\",\n        \"std\": 4938.547372256849,\n        \"min\": 28.07,\n        \"max\": 9965.57,\n        \"num_unique_values\": 4,\n        \"samples\": [\n          9957.77,\n          28.07,\n          9788.08\n        ],\n        \"semantic_type\": \"\",\n        \"description\": \"\"\n      }\n    }\n  ]\n}"
            }
          },
          "metadata": {},
          "execution_count": 42
        }
      ],
      "source": [
        "xgb_fe_results_df = pd.DataFrame({'model': 'xgb_fe',**xgb_fe_fold_results_df.drop(columns=['max_err']).mean(), 'max_err': xgb_fe_fold_results_df['max_err'].max()}, index=[0])\n",
        "all_results = pd.concat([mean_results_df, median_results_df, xgb_naïve_results_df, xgb_fe_results_df]).sort_values(by=[\"mae\", \"mse\", \"rmse\", \"r2\", \"max_err\"], ascending=[True, True, True, False, True])\n",
        "all_results.round(2)"
      ]
    },
    {
      "cell_type": "markdown",
      "metadata": {
        "id": "9a4NvUawyn2V"
      },
      "source": [
        "### Feature Importance"
      ]
    },
    {
      "cell_type": "code",
      "execution_count": null,
      "metadata": {
        "id": "csSnDbvh7NEA"
      },
      "outputs": [],
      "source": [
        "import seaborn as sns\n",
        "import matplotlib.pyplot as plt\n",
        "\n",
        "booster = xgb_model.get_booster()\n",
        "importance = booster.get_score(importance_type='weight')  # You can also use 'gain', 'cover', etc.\n",
        "\n",
        "# Convert to DataFrame\n",
        "importance_df = pd.DataFrame({\n",
        "    'Feature': list(importance.keys()),\n",
        "    'Importance': list(importance.values())\n",
        "})\n",
        "\n",
        "# Sort by importance\n",
        "importance_df = importance_df.sort_values(by='Importance', ascending=False)"
      ]
    },
    {
      "cell_type": "code",
      "execution_count": null,
      "metadata": {
        "id": "dQvuluXfyYrz",
        "colab": {
          "base_uri": "https://localhost:8080/",
          "height": 406
        },
        "outputId": "70dddce5-2e77-4b91-c421-dad082499d85"
      },
      "outputs": [
        {
          "output_type": "display_data",
          "data": {
            "text/plain": [
              "<Figure size 640x480 with 1 Axes>"
            ],
            "image/png": "[encoded data removed]"
          },
          "metadata": {}
        }
      ],
      "source": [
        "sns.barplot(x='Importance', y='Feature', data=importance_df.head(50), hue='Feature', palette=\"viridis\", dodge=False, legend=False)\n",
        "plt.title('Feature Importance')\n",
        "plt.xlabel('Importance Score')\n",
        "plt.ylabel('Features')\n",
        "plt.show()"
      ]
    },
    {
      "cell_type": "markdown",
      "metadata": {
        "id": "aM6JnU5d6-eM"
      },
      "source": [
        "<br/>"
      ]
    },
    {
      "cell_type": "markdown",
      "source": [
        "<br/>"
      ],
      "metadata": {
        "id": "z_7rl__pgiZn"
      }
    },
    {
      "cell_type": "markdown",
      "source": [
        "# XGBoost Hyperparamter Tuning"
      ],
      "metadata": {
        "id": "kEd8KDMHgmxD"
      }
    },
    {
      "cell_type": "code",
      "source": [
        "%%time\n",
        "# RAPIDS OFF  - 270.82 (100), 543.42 (250)\n",
        "# RAPIDS A100 -             , 14.1(500)(x19)\n",
        "\n",
        "X = df.drop(columns=[\"trip_ttl\"])\n",
        "y = df[\"trip_ttl\"]\n",
        "\n",
        "xgb_fold_results = {\"avg\": [], \"mse\": [], \"rmse\": [], \"mae\": [], \"r2\": [], \"max_err\": []}\n",
        "\n",
        "for fold, (train_index, test_index) in enumerate(KFold(n_splits=5, shuffle=True, random_state=42).split(df)):\n",
        "  X_train, X_test = X.iloc[train_index], X.iloc[test_index]\n",
        "  y_train, y_test = y.iloc[train_index], y.iloc[test_index]\n",
        "\n",
        "  # train\n",
        "  xgb_model = xgb.XGBRegressor(device=xgb_device,\n",
        "                               n_estimators=500,\n",
        "                               learning_rate=0.05,\n",
        "                               max_depth=6,\n",
        "                               eval_metric=\"mae\",\n",
        "                               objective=\"reg:gamma\",\n",
        "                               min_child_weight=5\n",
        "  )\n",
        "  # xgb_model = xgb.XGBRegressor(device=xgb_device)\n",
        "\n",
        "  xgb_model.fit(X_train, y_train)\n",
        "  y_pred = xgb_model.predict(X_test)\n",
        "  xgb_fold_results[\"avg\"].append(y_pred.mean())\n",
        "\n",
        "  # metrics\n",
        "  mse = ((y_test - y_pred) ** 2).mean()\n",
        "  xgb_fold_results[\"mse\"].append(mse)\n",
        "  xgb_fold_results[\"rmse\"].append(mse ** 0.5)\n",
        "  mae = (y_test - y_pred).abs().mean()\n",
        "  xgb_fold_results[\"mae\"].append(mae)\n",
        "  ss_residual = ((y_test - y_pred) ** 2).sum()\n",
        "  ss_total = ((y_test - y_test.mean()) ** 2).sum()\n",
        "  r_squared = 1 - (ss_residual / ss_total)\n",
        "  xgb_fold_results[\"r2\"].append(1 - (ss_residual / ss_total))\n",
        "  xgb_fold_results[\"max_err\"].append((y_test - y_pred).abs().max())"
      ],
      "metadata": {
        "id": "jpetoUUOLGxh",
        "colab": {
          "base_uri": "https://localhost:8080/"
        },
        "outputId": "73fef9e7-0c0d-47dd-bbbb-66b90912795c"
      },
      "execution_count": null,
      "outputs": [
        {
          "output_type": "stream",
          "name": "stdout",
          "text": [
            "CPU times: user 13.9 s, sys: 1.94 s, total: 15.8 s\n",
            "Wall time: 14.5 s\n"
          ]
        }
      ]
    },
    {
      "cell_type": "code",
      "source": [
        "xgb_tuned_fold_results_df = pd.DataFrame(xgb_fold_results)\n",
        "xgb_tuned_results_df = pd.DataFrame({'model': 'xgb_tuned',**xgb_tuned_fold_results_df.drop(columns=['max_err']).mean(), 'max_err': xgb_tuned_fold_results_df['max_err'].max()}, index=[0])\n",
        "\n",
        "all_results = pd.concat([mean_results_df, median_results_df, xgb_naïve_results_df, xgb_fe_results_df, xgb_tuned_results_df])[[\"model\", \"mae\", \"rmse\", \"mse\", \"r2\", \"max_err\", \"avg\"]]\n",
        "all_results.sort_values(by=[\"mae\", \"mse\", \"rmse\", \"r2\", \"max_err\"], ascending=[True, True, True, False, True]).round(3)"
      ],
      "metadata": {
        "id": "tgEp-S0EeDr4",
        "colab": {
          "base_uri": "https://localhost:8080/",
          "height": 206
        },
        "outputId": "6a1f6b8a-6a26-4c27-b848-3d31c7942b6e"
      },
      "execution_count": null,
      "outputs": [
        {
          "output_type": "execute_result",
          "data": {
            "text/plain": [
              "       model     mae    rmse       mse     r2   max_err     avg\n",
              "0  xgb_tuned   0.692   1.051     1.105  0.945    23.547  10.080\n",
              "0     xgb_fe   0.698   1.056     1.115  0.944    28.065  10.084\n",
              "0  xgb_naïve   5.157  83.868  7055.597  0.125  9788.077  17.581\n",
              "0     median  10.521  90.078  8145.749 -0.008  9965.570   9.750\n",
              "0       mean  13.394  89.736  8084.466 -0.000  9957.770  17.579"
            ],
            "text/html": [
              "<div>\n",
              "<style scoped>\n",
              "    .dataframe tbody tr th:only-of-type {\n",
              "        vertical-align: middle;\n",
              "    }\n",
              "\n",
              "    .dataframe tbody tr th {\n",
              "        vertical-align: top;\n",
              "    }\n",
              "\n",
              "    .dataframe thead th {\n",
              "        text-align: right;\n",
              "    }\n",
              "</style>\n",
              "<table border=\"1\" class=\"dataframe\">\n",
              "  <thead>\n",
              "    <tr style=\"text-align: right;\">\n",
              "      <th></th>\n",
              "      <th>model</th>\n",
              "      <th>mae</th>\n",
              "      <th>rmse</th>\n",
              "      <th>mse</th>\n",
              "      <th>r2</th>\n",
              "      <th>max_err</th>\n",
              "      <th>avg</th>\n",
              "    </tr>\n",
              "  </thead>\n",
              "  <tbody>\n",
              "    <tr>\n",
              "      <th>0</th>\n",
              "      <td>xgb_tuned</td>\n",
              "      <td>0.692</td>\n",
              "      <td>1.051</td>\n",
              "      <td>1.105</td>\n",
              "      <td>0.945</td>\n",
              "      <td>23.547</td>\n",
              "      <td>10.080</td>\n",
              "    </tr>\n",
              "    <tr>\n",
              "      <th>0</th>\n",
              "      <td>xgb_fe</td>\n",
              "      <td>0.698</td>\n",
              "      <td>1.056</td>\n",
              "      <td>1.115</td>\n",
              "      <td>0.944</td>\n",
              "      <td>28.065</td>\n",
              "      <td>10.084</td>\n",
              "    </tr>\n",
              "    <tr>\n",
              "      <th>0</th>\n",
              "      <td>xgb_naïve</td>\n",
              "      <td>5.157</td>\n",
              "      <td>83.868</td>\n",
              "      <td>7055.597</td>\n",
              "      <td>0.125</td>\n",
              "      <td>9788.077</td>\n",
              "      <td>17.581</td>\n",
              "    </tr>\n",
              "    <tr>\n",
              "      <th>0</th>\n",
              "      <td>median</td>\n",
              "      <td>10.521</td>\n",
              "      <td>90.078</td>\n",
              "      <td>8145.749</td>\n",
              "      <td>-0.008</td>\n",
              "      <td>9965.570</td>\n",
              "      <td>9.750</td>\n",
              "    </tr>\n",
              "    <tr>\n",
              "      <th>0</th>\n",
              "      <td>mean</td>\n",
              "      <td>13.394</td>\n",
              "      <td>89.736</td>\n",
              "      <td>8084.466</td>\n",
              "      <td>-0.000</td>\n",
              "      <td>9957.770</td>\n",
              "      <td>17.579</td>\n",
              "    </tr>\n",
              "  </tbody>\n",
              "</table>\n",
              "</div>"
            ],
            "application/vnd.google.colaboratory.intrinsic+json": {
              "type": "dataframe",
              "summary": "{\n  \"name\": \"all_results\",\n  \"rows\": 5,\n  \"fields\": [\n    {\n      \"column\": \"model\",\n      \"properties\": {\n        \"dtype\": \"string\",\n        \"num_unique_values\": 5,\n        \"samples\": [\n          \"median\",\n          \"xgb_tuned\",\n          \"mean\"\n        ],\n        \"semantic_type\": \"\",\n        \"description\": \"\"\n      }\n    },\n    {\n      \"column\": \"mae\",\n      \"properties\": {\n        \"dtype\": \"number\",\n        \"std\": 5.745970440230265,\n        \"min\": 0.692,\n        \"max\": 13.394,\n        \"num_unique_values\": 5,\n        \"samples\": [\n          10.521,\n          0.692,\n          13.394\n        ],\n        \"semantic_type\": \"\",\n        \"description\": \"\"\n      }\n    },\n    {\n      \"column\": \"rmse\",\n      \"properties\": {\n        \"dtype\": \"number\",\n        \"std\": 47.62850626673065,\n        \"min\": 1.051,\n        \"max\": 90.078,\n        \"num_unique_values\": 5,\n        \"samples\": [\n          90.078,\n          1.051,\n          89.736\n        ],\n        \"semantic_type\": \"\",\n        \"description\": \"\"\n      }\n    },\n    {\n      \"column\": \"mse\",\n      \"properties\": {\n        \"dtype\": \"number\",\n        \"std\": 4272.785446292945,\n        \"min\": 1.105,\n        \"max\": 8145.749,\n        \"num_unique_values\": 5,\n        \"samples\": [\n          8145.749,\n          1.105,\n          8084.466\n        ],\n        \"semantic_type\": \"\",\n        \"description\": \"\"\n      }\n    },\n    {\n      \"column\": \"r2\",\n      \"properties\": {\n        \"dtype\": \"number\",\n        \"std\": 0.49875916031688083,\n        \"min\": -0.008,\n        \"max\": 0.945,\n        \"num_unique_values\": 5,\n        \"samples\": [\n          -0.008,\n          0.945,\n          -0.0\n        ],\n        \"semantic_type\": \"\",\n        \"description\": \"\"\n      }\n    },\n    {\n      \"column\": \"max_err\",\n      \"properties\": {\n        \"dtype\": \"number\",\n        \"std\": 5410.868303936874,\n        \"min\": 23.547,\n        \"max\": 9965.57,\n        \"num_unique_values\": 5,\n        \"samples\": [\n          9965.57,\n          23.547,\n          9957.77\n        ],\n        \"semantic_type\": \"\",\n        \"description\": \"\"\n      }\n    },\n    {\n      \"column\": \"avg\",\n      \"properties\": {\n        \"dtype\": \"number\",\n        \"std\": 4.169642154909689,\n        \"min\": 9.75,\n        \"max\": 17.581,\n        \"num_unique_values\": 5,\n        \"samples\": [\n          9.75,\n          10.08,\n          17.579\n        ],\n        \"semantic_type\": \"\",\n        \"description\": \"\"\n      }\n    }\n  ]\n}"
            }
          },
          "metadata": {},
          "execution_count": 46
        }
      ]
    },
    {
      "cell_type": "markdown",
      "source": [
        "<br/>"
      ],
      "metadata": {
        "id": "DhXGuk7Cgm4y"
      }
    },
    {
      "cell_type": "markdown",
      "source": [
        "<br/>"
      ],
      "metadata": {
        "id": "qR2ggYPmgm7l"
      }
    },
    {
      "cell_type": "markdown",
      "source": [
        "<br/>"
      ],
      "metadata": {
        "id": "eSUAhDMwnW2e"
      }
    },
    {
      "cell_type": "markdown",
      "source": [
        "<br/>"
      ],
      "metadata": {
        "id": "EDF6FfORnW6M"
      }
    },
    {
      "cell_type": "markdown",
      "source": [
        "<br/>"
      ],
      "metadata": {
        "id": "33g0NNTmnW-K"
      }
    },
    {
      "cell_type": "markdown",
      "source": [
        "<br/>"
      ],
      "metadata": {
        "id": "x3OMT2LcnXBs"
      }
    },
    {
      "cell_type": "markdown",
      "source": [
        "<br/>"
      ],
      "metadata": {
        "id": "XENEuu7UnXFT"
      }
    },
    {
      "cell_type": "markdown",
      "source": [
        "# x20 Performance Boost - All Code"
      ],
      "metadata": {
        "id": "7WDHa-TSgm-L"
      }
    },
    {
      "cell_type": "markdown",
      "source": [
        "### RAPIDS OFF"
      ],
      "metadata": {
        "id": "wv6gRyjZ6BAR"
      }
    },
    {
      "cell_type": "code",
      "source": [
        "226.7 / 10"
      ],
      "metadata": {
        "colab": {
          "base_uri": "https://localhost:8080/"
        },
        "id": "6IRRqHNw6LlP",
        "outputId": "8dd64913-d56e-49bd-f51d-d9dc474aa50a"
      },
      "execution_count": null,
      "outputs": [
        {
          "output_type": "execute_result",
          "data": {
            "text/plain": [
              "22.669999999999998"
            ]
          },
          "metadata": {},
          "execution_count": 6
        }
      ]
    },
    {
      "cell_type": "markdown",
      "source": [
        "### RAPIDS ON A100"
      ],
      "metadata": {
        "id": "wpxI73m56Djn"
      }
    },
    {
      "cell_type": "code",
      "source": [
        "10"
      ],
      "metadata": {
        "id": "0i3IE92Y4-on"
      },
      "execution_count": null,
      "outputs": []
    },
    {
      "cell_type": "markdown",
      "source": [
        "<br/>"
      ],
      "metadata": {
        "id": "9TAG-yJR4K6b"
      }
    },
    {
      "cell_type": "code",
      "source": [
        "!cp /content/drive/MyDrive/Taxi_Trips__2013-2023__20241218.csv ."
      ],
      "metadata": {
        "id": "GjR-rN6X2YeV"
      },
      "execution_count": null,
      "outputs": []
    },
    {
      "cell_type": "code",
      "source": [
        "xgb_device = \"cpu\"\n",
        "\n",
        "# %load_ext cudf.pandas\n",
        "# xgb_device = \"cuda\""
      ],
      "metadata": {
        "id": "kUQrq5itZCUc"
      },
      "execution_count": null,
      "outputs": []
    },
    {
      "cell_type": "code",
      "source": [
        "import pandas as pd\n",
        "import numpy as np\n",
        "import xgboost as xgb\n",
        "from time import time\n",
        "import seaborn as sns\n",
        "import matplotlib.pyplot as plt\n",
        "from sklearn.model_selection import KFold"
      ],
      "metadata": {
        "id": "NdwuZX-cyjG5"
      },
      "execution_count": null,
      "outputs": []
    },
    {
      "cell_type": "code",
      "source": [
        "start = time()\n",
        "# RAPIDS OFF  - 243.32\n",
        "# RAPIDS A100 - 9.91\n",
        "\n",
        "#----------MEAN/MEDIAN DATA PREP--------------#\n",
        "df = pd.read_csv('Taxi_Trips__2013-2023__20241218.csv')  # read in data\n",
        "df = df.rename(columns={'Trip Total': 'trip_ttl'})  # abbreviate target column name\n",
        "df = df[df[\"trip_ttl\"]>0]\n",
        "\n",
        "df = df.sample(frac=1, random_state=42).reset_index(drop=True)\n",
        "split_index = int(0.8 * len(df))  # 80% train, 20% test\n",
        "train_df = df[:split_index]\n",
        "test_df = df[split_index:]\n",
        "del df\n",
        "\n",
        "X_test = test_df.drop(columns=[\"trip_ttl\"])\n",
        "y_test = test_df[\"trip_ttl\"]\n",
        "\n",
        "X_train = train_df.drop(columns=[\"trip_ttl\"])\n",
        "y_train = train_df[\"trip_ttl\"]\n",
        "\n",
        "#----------MEAN--------------#\n",
        "mean_fold_results = {\"avg\":[], \"mse\": [], \"rmse\": [], \"mae\": [], \"r2\": [], \"max_err\": []}\n",
        "\n",
        "\n",
        "y_pred = y_train.mean()\n",
        "mean_fold_results[\"avg\"].append(y_pred)\n",
        "\n",
        "mse = ((y_test - y_pred) ** 2).mean()\n",
        "mean_fold_results[\"mse\"].append(mse)\n",
        "mean_fold_results[\"rmse\"].append(mse  ** 0.5)\n",
        "mae = (y_test - y_pred).abs().mean()\n",
        "mean_fold_results[\"mae\"].append(mae)\n",
        "ss_residual = ((y_test - y_pred) ** 2).sum()\n",
        "ss_total = ((y_test - y_test.mean()) ** 2).sum()\n",
        "r_squared = 1 - (ss_residual / ss_total)\n",
        "mean_fold_results[\"r2\"].append(1 - (ss_residual / ss_total))\n",
        "mean_fold_results[\"max_err\"].append((y_test - y_pred).abs().max())\n",
        "\n",
        "\n",
        "#----------MEDIAN--------------#\n",
        "median_fold_results = {\"avg\":[], \"mse\": [], \"rmse\": [], \"mae\": [], \"r2\": [], \"max_err\": []}\n",
        "\n",
        "y_pred = y_train.median()\n",
        "median_fold_results[\"avg\"].append(y_pred)\n",
        "\n",
        "mse = ((y_test - y_pred) ** 2).mean()\n",
        "median_fold_results[\"mse\"].append(mse)\n",
        "median_fold_results[\"rmse\"].append(mse ** 0.5)\n",
        "mae = (y_test - y_pred).abs().mean()\n",
        "median_fold_results[\"mae\"].append(mae)\n",
        "ss_residual = ((y_test - y_pred) ** 2).sum()\n",
        "ss_total = ((y_test - y_test.mean()) ** 2).sum()\n",
        "r_squared = 1 - (ss_residual / ss_total)\n",
        "median_fold_results[\"r2\"].append(1 - (ss_residual / ss_total))\n",
        "median_fold_results[\"max_err\"].append((y_test - y_pred).abs().max())\n",
        "\n",
        "\n",
        "#---------------------XGB NAIVE DATA PREP---------------------#\n",
        "df = pd.read_csv('Taxi_Trips__2013-2023__20241218.csv')  # read in data\n",
        "df = df.rename(columns={'Trip Total': 'trip_ttl'})  # abbreviate target column name\n",
        "df = df[df[\"trip_ttl\"]>0]\n",
        "_ = df.sort_values([\"trip_ttl\"], ascending=False)[[\"trip_ttl\", \"Trip Seconds\", \"Trip Miles\"]]\n",
        "\n",
        "df = df.drop(columns=[\"Fare\", \"Tips\", \"Tolls\", \"Extras\"])\n",
        "df = df.drop(columns=[\"Trip ID\", \"Taxi ID\", \"Pickup Centroid Location\", \"Dropoff Centroid  Location\", \"Payment Type\", \"Company\"])\n",
        "\n",
        "df[\"Trip Start Timestamp\"] = pd.to_datetime(df[\"Trip Start Timestamp\"], format=\"%m/%d/%Y %I:%M:%S %p\")\n",
        "df[\"Trip End Timestamp\"] = pd.to_datetime(df[\"Trip End Timestamp\"], format=\"%m/%d/%Y %I:%M:%S %p\")\n",
        "df[\"Trip Start Timestamp\"] = (df[\"Trip Start Timestamp\"] - pd.Timestamp(\"1970-01-01\")) // pd.Timedelta('1s')\n",
        "df[\"Trip End Timestamp\"] = (df[\"Trip End Timestamp\"] - pd.Timestamp(\"1970-01-01\")) // pd.Timedelta('1s')\n",
        "\n",
        "df = df.sample(frac=1, random_state=42).reset_index(drop=True)\n",
        "split_index = int(0.8 * len(df))  # 80% train, 20% test\n",
        "train_df = df[:split_index]\n",
        "test_df = df[split_index:]\n",
        "del df\n",
        "\n",
        "X_test = test_df.drop(columns=[\"trip_ttl\"])\n",
        "y_test = test_df[\"trip_ttl\"]\n",
        "\n",
        "X_train = train_df.drop(columns=[\"trip_ttl\"])\n",
        "y_train = train_df[\"trip_ttl\"]\n",
        "\n",
        "\n",
        "#----------------XGB NAIVE-------------------#\n",
        "xgb_naive_fold_results = {\"avg\": [], \"mse\": [], \"rmse\": [], \"mae\": [], \"r2\": [], \"max_err\": []}\n",
        "\n",
        "\n",
        "# train\n",
        "xgb_model = xgb.XGBRegressor(device=xgb_device)\n",
        "\n",
        "xgb_model.fit(X_train, y_train)\n",
        "y_pred = xgb_model.predict(X_test)\n",
        "xgb_naive_fold_results[\"avg\"].append(y_pred.mean())\n",
        "\n",
        "# metrics\n",
        "mse = ((y_test - y_pred) ** 2).mean()\n",
        "xgb_naive_fold_results[\"mse\"].append(mse)\n",
        "xgb_naive_fold_results[\"rmse\"].append(mse ** 0.5)\n",
        "mae = (y_test - y_pred).abs().mean()\n",
        "xgb_naive_fold_results[\"mae\"].append(mae)\n",
        "ss_residual = ((y_test - y_pred) ** 2).sum()\n",
        "ss_total = ((y_test - y_test.mean()) ** 2).sum()\n",
        "r_squared = 1 - (ss_residual / ss_total)\n",
        "xgb_naive_fold_results[\"r2\"].append(1 - (ss_residual / ss_total))\n",
        "xgb_naive_fold_results[\"max_err\"].append((y_test - y_pred).abs().max())\n",
        "\n",
        "\n",
        "#----------------------XGB FEATURE ENGINEERING - DATA PREP-----------------------#\n",
        "df = pd.read_csv('Taxi_Trips__2013-2023__20241218.csv')  # read in data\n",
        "df = df.rename(columns={'Trip Total': 'trip_ttl'})  # abbreviate target column name\n",
        "df = df.drop(columns=[\"Fare\", \"Tips\", \"Tolls\", \"Extras\"])\n",
        "df = df.drop(columns=[\"Trip ID\", \"Taxi ID\"])\n",
        "\n",
        "df[\"Trip Start Timestamp\"] = pd.to_datetime(df[\"Trip Start Timestamp\"], format=\"%m/%d/%Y %I:%M:%S %p\")\n",
        "df[\"Trip End Timestamp\"] = pd.to_datetime(df[\"Trip End Timestamp\"], format=\"%m/%d/%Y %I:%M:%S %p\")\n",
        "\n",
        "df = df[df[\"trip_ttl\"]>0]\n",
        "_ = df.nunique().sort_values()\n",
        "\n",
        "target = [\"trip_ttl\"]\n",
        "num_cols = [\"Pickup Centroid Latitude\", \"Pickup Centroid Longitude\", \"Dropoff Centroid Latitude\", \"Dropoff Centroid Longitude\", \"Trip Miles\", \"Trip Seconds\", \"Trip Start Timestamp\", \"Trip End Timestamp\"]\n",
        "cat_cols = list(set(df.columns) - set(target + num_cols))\n",
        "\n",
        "for col in num_cols:\n",
        "  df[col] = df[col].fillna(df[col].mean())\n",
        "\n",
        "df[cat_cols] = df[cat_cols].fillna(df[cat_cols].mode().iloc[0])\n",
        "\n",
        "df.sort_values([\"trip_ttl\", \"Trip Seconds\", \"Trip Miles\"], ascending=False)[[\"trip_ttl\", \"Trip Seconds\", \"Trip Miles\", \"Payment Type\"]]\n",
        "\n",
        "df = df[(df['Trip Seconds'] * df['Trip Miles']) > 0]\n",
        "\n",
        "def filter_by_modified_z_score(df, column, threshold=4.0):\n",
        "    # median and MAD (median abs deviation)\n",
        "    median = df[column].median()\n",
        "    mad = (df[column] - median).abs().median()\n",
        "    return df[(0.6745 * (df[column] - median) / mad).abs() <= threshold]\n",
        "\n",
        "df = filter_by_modified_z_score(df, \"trip_ttl\", threshold=3.5)\n",
        "_ = df.sort_values([\"trip_ttl\", \"Trip Seconds\", \"Trip Miles\"], ascending=False)[[\"trip_ttl\", \"Trip Seconds\", \"Trip Miles\"]]\n",
        "\n",
        "### Feature Extraction\n",
        "\n",
        "df['avg_speed'] = df['Trip Miles'] / (df['Trip Seconds'] / 3600)\n",
        "num_cols.append('avg_speed')\n",
        "\n",
        "df['day_of_week'] = df['Trip Start Timestamp'].dt.dayofweek\n",
        "df['hour_of_day'] = df['Trip Start Timestamp'].dt.hour\n",
        "df['month'] = df['Trip Start Timestamp'].dt.month\n",
        "df['year'] = df['Trip Start Timestamp'].dt.year\n",
        "cat_cols.extend(['day_of_week', 'hour_of_day', 'month', 'year'])\n",
        "\n",
        "# convert to timestamp seconds since epoch\n",
        "df['Trip Start Timestamp'] = df['Trip Start Timestamp'].astype(int) // 10**9\n",
        "df['Trip End Timestamp'] = df['Trip End Timestamp'].astype(int) // 10**9\n",
        "\n",
        "num_cols.extend(['Trip Start Timestamp', 'Trip End Timestamp'])\n",
        "\n",
        "for col in cat_cols:\n",
        "  df[col] = df[col].map(df.groupby(col)[\"trip_ttl\"].mean())\n",
        "\n",
        "_ = df.sort_values(\"trip_ttl\", ascending=False)\n",
        "\n",
        "df = df.replace([np.inf, -np.inf], np.nan).dropna()\n",
        "\n",
        "df = df.sample(frac=1, random_state=42).reset_index(drop=True)\n",
        "split_index = int(0.8 * len(df))  # 80% train, 20% test\n",
        "train_df = df[:split_index]\n",
        "test_df = df[split_index:]\n",
        "del df\n",
        "\n",
        "X_test = test_df.drop(columns=[\"trip_ttl\"])\n",
        "y_test = test_df[\"trip_ttl\"]\n",
        "\n",
        "X_train = train_df.drop(columns=[\"trip_ttl\"])\n",
        "y_train = train_df[\"trip_ttl\"]\n",
        "\n",
        "\n",
        "#--------------------XGB FE----------------------------#\n",
        "xgb_fe_fold_results = {\"avg\": [], \"mse\": [], \"rmse\": [], \"mae\": [], \"r2\": [], \"max_err\": []}\n",
        "\n",
        "# train\n",
        "xgb_model = xgb.XGBRegressor(device=xgb_device)\n",
        "\n",
        "xgb_model.fit(X_train, y_train)\n",
        "y_pred = xgb_model.predict(X_test)\n",
        "xgb_fe_fold_results[\"avg\"].append(y_pred.mean())\n",
        "\n",
        "# metrics\n",
        "mse = ((y_test - y_pred) ** 2).mean()\n",
        "xgb_fe_fold_results[\"mse\"].append(mse)\n",
        "xgb_fe_fold_results[\"rmse\"].append(mse ** 0.5)\n",
        "mae = (y_test - y_pred).abs().mean()\n",
        "xgb_fe_fold_results[\"mae\"].append(mae)\n",
        "ss_residual = ((y_test - y_pred) ** 2).sum()\n",
        "ss_total = ((y_test - y_test.mean()) ** 2).sum()\n",
        "r_squared = 1 - (ss_residual / ss_total)\n",
        "xgb_fe_fold_results[\"r2\"].append(1 - (ss_residual / ss_total))\n",
        "xgb_fe_fold_results[\"max_err\"].append((y_test - y_pred).abs().max())\n",
        "\n",
        "\n",
        "#--------------XGB HYPERPARAMETER TUNING--------------#\n",
        "xgb_tune_fold_results = {\"avg\": [], \"mse\": [], \"rmse\": [], \"mae\": [], \"r2\": [], \"max_err\": []}\n",
        "\n",
        "# train\n",
        "xgb_model = xgb.XGBRegressor(device=xgb_device,\n",
        "                              n_estimators=500,\n",
        "                              learning_rate=0.05,\n",
        "                              max_depth=6,\n",
        "                              eval_metric=\"mae\",\n",
        "                              objective=\"reg:gamma\",\n",
        "                              min_child_weight=5\n",
        ")\n",
        "\n",
        "xgb_model.fit(X_train, y_train)\n",
        "y_pred = xgb_model.predict(X_test)\n",
        "xgb_tune_fold_results[\"avg\"].append(y_pred.mean())\n",
        "\n",
        "mse = ((y_test - y_pred) ** 2).mean()\n",
        "xgb_tune_fold_results[\"mse\"].append(mse)\n",
        "xgb_tune_fold_results[\"rmse\"].append(mse ** 0.5)\n",
        "mae = (y_test - y_pred).abs().mean()\n",
        "xgb_tune_fold_results[\"mae\"].append(mae)\n",
        "ss_residual = ((y_test - y_pred) ** 2).sum()\n",
        "ss_total = ((y_test - y_test.mean()) ** 2).sum()\n",
        "r_squared = 1 - (ss_residual / ss_total)\n",
        "xgb_tune_fold_results[\"r2\"].append(1 - (ss_residual / ss_total))\n",
        "xgb_tune_fold_results[\"max_err\"].append((y_test - y_pred).abs().max())\n",
        "\n",
        "time() - start"
      ],
      "metadata": {
        "id": "2GZItVou1NjS",
        "colab": {
          "base_uri": "https://localhost:8080/"
        },
        "outputId": "b41a62b8-19af-44b6-d62b-81521a5977bf"
      },
      "execution_count": null,
      "outputs": [
        {
          "output_type": "execute_result",
          "data": {
            "text/plain": [
              "226.7055914402008"
            ]
          },
          "metadata": {},
          "execution_count": 4
        }
      ]
    },
    {
      "cell_type": "markdown",
      "source": [
        "<br/>"
      ],
      "metadata": {
        "id": "kiEz2uNxMfPk"
      }
    },
    {
      "cell_type": "markdown",
      "source": [
        "<br/>"
      ],
      "metadata": {
        "id": "8_cbUcIQMfSR"
      }
    },
    {
      "cell_type": "markdown",
      "source": [
        "<br/>"
      ],
      "metadata": {
        "id": "bMsJ9rylMfVF"
      }
    },
    {
      "cell_type": "markdown",
      "source": [
        "<br/>"
      ],
      "metadata": {
        "id": "1uCtgAUmMfX5"
      }
    },
    {
      "cell_type": "markdown",
      "source": [
        "### results"
      ],
      "metadata": {
        "id": "kmaE7PxBL5_z"
      }
    },
    {
      "cell_type": "code",
      "source": [
        "del xgb_fold_results"
      ],
      "metadata": {
        "id": "kBu_0H1aYTBB"
      },
      "execution_count": null,
      "outputs": []
    },
    {
      "cell_type": "code",
      "source": [
        "mean_fold_results_df = pd.DataFrame(mean_fold_results)\n",
        "mean_results_df = pd.DataFrame({'model': 'mean',**mean_fold_results_df.drop(columns=['max_err']).mean(), 'max_err': mean_fold_results_df['max_err'].max()}, index=[0])\n",
        "\n",
        "median_fold_results_df = pd.DataFrame(median_fold_results)\n",
        "median_results_df = pd.DataFrame({'model': 'median', **median_fold_results_df.drop(columns=['max_err']).mean(), 'max_err': median_fold_results_df['max_err'].max()}, index=[0])\n",
        "\n",
        "xgb_naïve_fold_results_df = pd.DataFrame(xgb_naive_fold_results)\n",
        "xgb_naïve_results_df = pd.DataFrame({'model': 'xgb_naïve',**xgb_naïve_fold_results_df.drop(columns=['max_err']).mean(), 'max_err': xgb_naïve_fold_results_df['max_err'].max()}, index=[0])\n",
        "\n",
        "xgb_fe_fold_results_df = pd.DataFrame(xgb_fe_fold_results)\n",
        "xgb_fe_results_df = pd.DataFrame({'model': 'xgb_fe',**xgb_fe_fold_results_df.drop(columns=['max_err']).mean(), 'max_err': xgb_fe_fold_results_df['max_err'].max()}, index=[0])\n",
        "\n",
        "xgb_tuned_fold_results_df = pd.DataFrame(xgb_tune_fold_results)\n",
        "xgb_tuned_results_df = pd.DataFrame({'model': 'xgb_tuned',**xgb_tuned_fold_results_df.drop(columns=['max_err']).mean(), 'max_err': xgb_tuned_fold_results_df['max_err'].max()}, index=[0])\n",
        "\n",
        "all_results = pd.concat([mean_results_df, median_results_df, xgb_naïve_results_df, xgb_fe_results_df, xgb_tuned_results_df]).sort_values(by=[\"mae\", \"mse\", \"rmse\", \"r2\", \"max_err\"], ascending=[True, True, True, False, True])\n",
        "\n",
        "all_results.round(2)"
      ],
      "metadata": {
        "id": "wmZyiVx7Jj_n"
      },
      "execution_count": null,
      "outputs": []
    },
    {
      "cell_type": "code",
      "source": [
        "mean_fold_results_df = pd.DataFrame(mean_fold_results)\n",
        "mean_results_df = pd.DataFrame({'model': 'mean',**mean_fold_results_df.drop(columns=['max_err']).mean(), 'max_err': mean_fold_results_df['max_err'].max()}, index=[0])\n",
        "\n",
        "median_fold_results_df = pd.DataFrame(median_fold_results)\n",
        "median_results_df = pd.DataFrame({'model': 'median', **median_fold_results_df.drop(columns=['max_err']).mean(), 'max_err': median_fold_results_df['max_err'].max()}, index=[0])\n",
        "\n",
        "xgb_naïve_fold_results_df = pd.DataFrame(xgb_naive_fold_results)\n",
        "xgb_naïve_results_df = pd.DataFrame({'model': 'xgb_naïve',**xgb_naïve_fold_results_df.drop(columns=['max_err']).mean(), 'max_err': xgb_naïve_fold_results_df['max_err'].max()}, index=[0])\n",
        "\n",
        "all_results = pd.concat([mean_results_df, median_results_df, xgb_naïve_results_df]).sort_values(by=[\"mae\", \"mse\", \"rmse\", \"r2\", \"max_err\"], ascending=[True, True, True, False, True])\n",
        "\n",
        "all_results.round(2)"
      ],
      "metadata": {
        "id": "fpgm2ZpUgsBr"
      },
      "execution_count": null,
      "outputs": []
    },
    {
      "cell_type": "code",
      "source": [
        "melted_df = all_results.melt(id_vars='model', var_name='metric', value_name='value')\n",
        "filtered_df = melted_df[melted_df['metric'] != 'avg']\n",
        "unique_metrics = filtered_df['metric'].unique()\n",
        "n_metrics = len(unique_metrics)\n",
        "n_cols = 2\n",
        "n_rows = (n_metrics + 1) // n_cols\n",
        "\n",
        "fig, axes = plt.subplots(n_rows, n_cols, figsize=(11, 8))\n",
        "axes = axes.flatten()\n",
        "\n",
        "for i, metric in enumerate(unique_metrics):\n",
        "    ax = axes[i]\n",
        "    sns.barplot(\n",
        "        x='model',\n",
        "        y='value',\n",
        "        hue='model',  # Assign 'model' to hue\n",
        "        data=filtered_df[filtered_df['metric'] == metric],\n",
        "        palette='viridis',\n",
        "        ax=ax,\n",
        "        dodge=False)\n",
        "\n",
        "    ax.set_title(f'Comparison of {metric.upper()}')\n",
        "    ax.set_ylabel(metric.upper())\n",
        "    ax.set_xlabel('Model')\n",
        "\n",
        "for j in range(i + 1, len(axes)):\n",
        "    fig.delaxes(axes[j])\n",
        "\n",
        "plt.tight_layout()\n",
        "plt.show()"
      ],
      "metadata": {
        "id": "WUKUGlQ1LotY"
      },
      "execution_count": null,
      "outputs": []
    },
    {
      "cell_type": "code",
      "source": [
        "booster = xgb_model.get_booster()\n",
        "importance = booster.get_score(importance_type='weight')  # You can also use 'gain', 'cover', etc.\n",
        "\n",
        "# Convert to DataFrame\n",
        "importance_df = pd.DataFrame({\n",
        "    'Feature': list(importance.keys()),\n",
        "    'Importance': list(importance.values())\n",
        "})\n",
        "\n",
        "# Sort by importance\n",
        "importance_df = importance_df.sort_values(by='Importance', ascending=False)\n",
        "\n",
        "# Plot using Seaborn\n",
        "plt.figure(figsize=(10, 8))\n",
        "sns.barplot(x='Importance', y='Feature', data=importance_df, hue='Feature', palette=\"viridis\", dodge=False, legend=False)\n",
        "plt.title('Feature Importance')\n",
        "plt.xlabel('Importance Score')\n",
        "plt.ylabel('Features')\n",
        "plt.show()"
      ],
      "metadata": {
        "id": "1DnDKRwGhDeO"
      },
      "execution_count": null,
      "outputs": []
    },
    {
      "cell_type": "markdown",
      "source": [
        "<br/>"
      ],
      "metadata": {
        "id": "BsdHucCegnAw"
      }
    },
    {
      "cell_type": "markdown",
      "source": [
        "<br/>"
      ],
      "metadata": {
        "id": "P2ryD33agnJ4"
      }
    },
    {
      "cell_type": "markdown",
      "source": [
        "<br/>"
      ],
      "metadata": {
        "id": "nKUOINVvMd-Q"
      }
    },
    {
      "cell_type": "markdown",
      "source": [
        "<br/>"
      ],
      "metadata": {
        "id": "VKEvGJojMeDJ"
      }
    },
    {
      "cell_type": "markdown",
      "source": [
        "<br/>"
      ],
      "metadata": {
        "id": "RTnb6r00MeIv"
      }
    },
    {
      "cell_type": "markdown",
      "source": [
        "<br/>"
      ],
      "metadata": {
        "id": "vXCYymtlMeLt"
      }
    },
    {
      "cell_type": "markdown",
      "source": [
        "<br/>"
      ],
      "metadata": {
        "id": "LaUfZ78VMePB"
      }
    },
    {
      "cell_type": "markdown",
      "source": [
        "<br/>"
      ],
      "metadata": {
        "id": "6GjOYpXVMeSC"
      }
    },
    {
      "cell_type": "markdown",
      "metadata": {
        "id": "Ku_M8S7E4X4w"
      },
      "source": [
        "# XGBoost Parameter Tuning"
      ]
    },
    {
      "cell_type": "code",
      "execution_count": null,
      "metadata": {
        "id": "oXLX_TN_4g6d"
      },
      "outputs": [],
      "source": [
        "!pip install -q optuna"
      ]
    },
    {
      "cell_type": "code",
      "execution_count": null,
      "metadata": {
        "id": "RqCfSL33Vksu"
      },
      "outputs": [],
      "source": [
        "import optuna"
      ]
    },
    {
      "cell_type": "code",
      "execution_count": null,
      "metadata": {
        "id": "PeNCk5sp7i6k"
      },
      "outputs": [],
      "source": [
        "def xgb_params_objective(trial):\n",
        "\n",
        "  xgb_params = {\n",
        "      \"device\": xgb_device,\n",
        "      \"eval_metric\": \"mae\",\n",
        "\n",
        "      \"booster\": trial.suggest_categorical(\"booster\", [\"gbtree\", \"gblinear\", \"dart\"]),\n",
        "\n",
        "      \"n_estimators\": trial.suggest_int(\"n_estimators\", 25, 500),\n",
        "\n",
        "      \"learning_rate\": trial.suggest_float(\"learning_rate\", 0.0001, 0.9),\n",
        "\n",
        "      \"objective\": trial.suggest_categorical(\"objective\", [\"reg:squarederror\", \"reg:squaredlogerror\", \"reg:gamma\", \"reg:tweedie\"])\n",
        "  }\n",
        "\n",
        "  if xgb_params['booster'] == 'gbtree':\n",
        "      xgb_params[\"max_depth\"] = trial.suggest_int(\"max_depth\", 1, 10)\n",
        "      xgb_params[\"min_child_weight\"] = trial.suggest_int(\"min_child_weight\", 1, 10)\n",
        "      xgb_params[\"subsample\"] = trial.suggest_float(\"subsample\", 0.5, 1.0)\n",
        "      xgb_params[\"colsample_bytree\"] = trial.suggest_float(\"colsample_bytree\", 0.5, 1.0)\n",
        "\n",
        "  elif xgb_params['booster'] == 'gblinear':\n",
        "      xgb_params[\"alpha\"] = trial.suggest_float(\"alpha\", 0, 1)\n",
        "      xgb_params[\"lambda\"] = trial.suggest_float(\"lambda\", 0, 1)\n",
        "      xgb_params[\"feature_selector\"] = trial.suggest_categorical(\"feature_selector\", [\"cyclic\", \"shuffle\"])\n",
        "\n",
        "  elif xgb_params['booster'] == 'dart':\n",
        "      xgb_params[\"sample_type\"] = trial.suggest_categorical(\"sample_type\", [\"uniform\", \"weighted\"])\n",
        "      xgb_params[\"normalize_type\"] = trial.suggest_categorical(\"normalize_type\", [\"tree\", \"forest\"])\n",
        "      xgb_params[\"rate_drop\"] = trial.suggest_float(\"rate_drop\", 0.0, 1.0)\n",
        "      xgb_params[\"skip_drop\"] = trial.suggest_float(\"skip_drop\", 0.0, 1.0)\n",
        "\n",
        "  return xgb_params"
      ]
    },
    {
      "cell_type": "code",
      "execution_count": null,
      "metadata": {
        "id": "G8EeWhJW4fG3"
      },
      "outputs": [],
      "source": [
        "def objective(trial):\n",
        "\n",
        "  xgb_params = xgb_params_objective(trial)\n",
        "\n",
        "  xgb_auto_tune_fold_results = {\"avg\": [], \"mse\": [], \"rmse\": [], \"mae\": [], \"r2\": [], \"max_err\": []}\n",
        "\n",
        "  X = df.drop(columns=[\"trip_ttl\"])\n",
        "  y = df[\"trip_ttl\"]\n",
        "\n",
        "  for fold, (train_index, test_index) in enumerate(KFold(n_splits=5, shuffle=True, random_state=42).split(df)):\n",
        "\n",
        "    X_train, X_test = X.iloc[train_index], X.iloc[test_index]\n",
        "    y_train, y_test = y.iloc[train_index], y.iloc[test_index]\n",
        "\n",
        "    # train\n",
        "    xgb_model = xgb.XGBRegressor(**xgb_params)\n",
        "\n",
        "    start = time()\n",
        "    xgb_model.fit(X_train, y_train)\n",
        "    fit_time = time() - start\n",
        "    trial.set_user_attr(\"fit_time\", fit_time)\n",
        "\n",
        "    y_pred = xgb_model.predict(X_test)\n",
        "    xgb_auto_tune_fold_results[\"avg\"].append(y_pred.mean())\n",
        "\n",
        "    # metrics\n",
        "    mse = ((y_test - y_pred) ** 2).mean()\n",
        "    xgb_auto_tune_fold_results[\"mse\"].append(mse)\n",
        "\n",
        "    xgb_auto_tune_fold_results[\"rmse\"].append(mse ** 0.5)\n",
        "\n",
        "    xgb_auto_tune_fold_results[\"mae\"].append((y_test - y_pred).abs().mean())\n",
        "\n",
        "    ss_residual = ((y_test - y_pred) ** 2).sum()\n",
        "    ss_total = ((y_test - y_test.mean()) ** 2).sum()\n",
        "    xgb_auto_tune_fold_results[\"r2\"].append(1 - (ss_residual / ss_total))\n",
        "\n",
        "    xgb_auto_tune_fold_results[\"max_err\"].append((y_test - y_pred).abs().max())\n",
        "\n",
        "  xgb_auto_tune_fold_results_df = pd.DataFrame(xgb_auto_tune_fold_results)\n",
        "  xgb_auto_tune_results_df = pd.DataFrame({'model': 'xgb_auto_tune',\n",
        "                                           **xgb_auto_tune_fold_results_df.drop(columns=['max_err']).mean(),\n",
        "                                           'max_err': xgb_auto_tune_fold_results_df['max_err'].max()}, index=[0])\n",
        "\n",
        "\n",
        "  return xgb_auto_tune_fold_results_df[\"mae\"].mean()"
      ]
    },
    {
      "cell_type": "code",
      "execution_count": null,
      "metadata": {
        "id": "TA3uCfH86QUv"
      },
      "outputs": [],
      "source": [
        "study = optuna.create_study(direction=\"minimize\")"
      ]
    },
    {
      "cell_type": "code",
      "execution_count": null,
      "metadata": {
        "id": "aVVTRQam6TEw"
      },
      "outputs": [],
      "source": [
        "!date\n",
        "study.optimize(objective, timeout=10)\n",
        "!date"
      ]
    },
    {
      "cell_type": "code",
      "source": [
        "!date\n",
        "study.optimize(objective, timeout=10)\n",
        "!date"
      ],
      "metadata": {
        "id": "hSdN7EMvvNPO"
      },
      "execution_count": null,
      "outputs": []
    }
  ],
  "metadata": {
    "colab": {
      "provenance": []
    },
    "kernelspec": {
      "display_name": "Python 3",
      "name": "python3"
    },
    "language_info": {
      "name": "python"
    }
  },
  "nbformat": 4,
  "nbformat_minor": 0
}
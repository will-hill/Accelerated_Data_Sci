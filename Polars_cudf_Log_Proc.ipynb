{
 "cells": [
  {
   "cell_type": "markdown",
   "id": "ee075771-dcc0-4dbe-9a35-0edf5a2ba985",
   "metadata": {},
   "source": [
    "# Large-Scale Log Processing"
   ]
  },
  {
   "cell_type": "markdown",
   "id": "2a719bda-0d33-4ae4-afa8-a0b970170c43",
   "metadata": {},
   "source": [
    "* <b>pl.DataFrame</b> v <b>pl.LazyFrame</b> - complex, pipeline queries\n",
    "* <b>pl.scan_csv()</b> v <b>pl.read_csv()</b>\n",
    "* visual query optimization w/ <b>.describe_optimized_plan()</b>\n",
    "* demonstrate <b>.collect()</b> w/ and w/out <b>GPU</b>"
   ]
  },
  {
   "cell_type": "markdown",
   "id": "6e48e107-946f-4d45-bc6e-fd29215b8a4d",
   "metadata": {},
   "source": [
    "# Data --> NASA HTTP logs\n",
    "\n",
    "* Convert to Apache Parquet for faster querying\n",
    "* <b>Parse timestamps\n",
    "* <b>Filter efficiently\n",
    "* <b>Groupby IPs, URLs, or status codes"
   ]
  },
  {
   "cell_type": "code",
   "execution_count": 1,
   "id": "a836acfb-a9c6-46bc-8496-6bf1c63b5db6",
   "metadata": {},
   "outputs": [],
   "source": [
    "!wget -qqq ftp://ita.ee.lbl.gov/traces/NASA_access_log_Aug95.gz\n",
    "!wget -qqq ftp://ita.ee.lbl.gov/traces/NASA_access_log_Jul95.gz"
   ]
  },
  {
   "cell_type": "code",
   "execution_count": 2,
   "id": "3db7cf41-9481-4f8c-aa36-05b1a4d098ff",
   "metadata": {},
   "outputs": [],
   "source": [
    "import polars as pl\n",
    "import gzip\n",
    "import time\n",
    "import re"
   ]
  },
  {
   "cell_type": "code",
   "execution_count": 16,
   "id": "510b5ee3-81e6-4fdf-b073-e84dc35d2199",
   "metadata": {},
   "outputs": [],
   "source": [
    "lines = []\n",
    "\n",
    "with gzip.open(\"NASA_access_log_Aug95.gz\", \"rb\") as f:\n",
    "    # Decode as UTF-8 but replace any invalid sequences\n",
    "    lines += [line.decode(\"utf-8\", errors=\"replace\") for line in f]\n",
    "\n",
    "with gzip.open(\"NASA_access_log_Jul95.gz\", \"rb\") as f:\n",
    "    # Decode as UTF-8 but replace any invalid sequences\n",
    "    lines += [line.decode(\"utf-8\", errors=\"replace\") for line in f]"
   ]
  },
  {
   "cell_type": "code",
   "execution_count": 26,
   "id": "23e8169a-f7d2-458c-bb09-8b396b6b86e9",
   "metadata": {},
   "outputs": [],
   "source": [
    "# Regex pattern for log parsing\n",
    "log_pattern = re.compile(\n",
    "    r'^(?P<host>\\S+) '               # Hostname or IP\n",
    "    r'\\S+ '                           # Skip 'ident' column\n",
    "    r'\\S+ '                           # Skip 'authuser' column\n",
    "    r'\\[(?P<datetime>[^\\]]+)\\] '     # Timestamp inside square brackets\n",
    "    r'\"(?P<request>[^\"]+)\" '         # Request method/path/protocol\n",
    "    r'(?P<status>\\d{3}) '            # HTTP Status code\n",
    "    r'(?P<bytes>\\S+)'                # Bytes transferred (or '-')\n",
    ")"
   ]
  },
  {
   "cell_type": "code",
   "execution_count": 27,
   "id": "a0671c02-d4ed-47ea-b499-5b34807539fa",
   "metadata": {},
   "outputs": [],
   "source": [
    "# Function to parse a log line into a dictionary\n",
    "def parse_log_line(line: str):\n",
    "    match = log_pattern.match(line)\n",
    "    if match:\n",
    "        data = match.groupdict()\n",
    "        data[\"bytes\"] = int(data[\"bytes\"]) if data[\"bytes\"].isdigit() else 0\n",
    "        data[\"status\"] = int(data[\"status\"])\n",
    "        return data\n",
    "    else:\n",
    "        return {\"host\": None, \"datetime\": None, \"request\": None, \"status\": None, \"bytes\": None}"
   ]
  },
  {
   "cell_type": "code",
   "execution_count": 28,
   "id": "74592766-41d7-4fad-8256-20069eaa6e36",
   "metadata": {},
   "outputs": [],
   "source": [
    "# Convert the raw column into structured data\n",
    "df = (\n",
    "    pl.DataFrame({\"raw_line\": lines})\n",
    "    .with_columns(\n",
    "        pl.col(\"raw_line\").map_elements(parse_log_line, return_dtype=pl.Struct)  # Apply parsing\n",
    "    )\n",
    "    .unnest(\"raw_line\")  # Extract dictionary into separate columns\n",
    ")"
   ]
  },
  {
   "cell_type": "code",
   "execution_count": 29,
   "id": "3ec5fc32-bb74-45e3-addf-744753620798",
   "metadata": {},
   "outputs": [
    {
     "data": {
      "text/html": [
       "<div><style>\n",
       ".dataframe > thead > tr,\n",
       ".dataframe > tbody > tr {\n",
       "  text-align: right;\n",
       "  white-space: pre-wrap;\n",
       "}\n",
       "</style>\n",
       "<small>shape: (50, 5)</small><table border=\"1\" class=\"dataframe\"><thead><tr><th>host</th><th>datetime</th><th>request</th><th>status</th><th>bytes</th></tr><tr><td>str</td><td>str</td><td>str</td><td>i64</td><td>i64</td></tr></thead><tbody><tr><td>&quot;156.98.204.13&quot;</td><td>&quot;06/Jul/1995:13:51:07&nbsp;-0400&quot;</td><td>&quot;GET&nbsp;/shuttle/countdown/&nbsp;HTTP/1…</td><td>200</td><td>3985</td></tr><tr><td>&quot;ns.scn.de&quot;</td><td>&quot;14/Aug/1995:09:14:09&nbsp;-0400&quot;</td><td>&quot;GET&nbsp;/history/apollo/images/apo…</td><td>304</td><td>0</td></tr><tr><td>&quot;husehime.students.chiba-u.ac.j…</td><td>&quot;04/Jul/1995:22:54:31&nbsp;-0400&quot;</td><td>&quot;GET&nbsp;/images/ksclogo-medium.gif…</td><td>200</td><td>5866</td></tr><tr><td>&quot;cs1-02.mil.ptd.net&quot;</td><td>&quot;25/Aug/1995:23:18:08&nbsp;-0400&quot;</td><td>&quot;GET&nbsp;/shuttle/missions/51-b/mis…</td><td>200</td><td>6387</td></tr><tr><td>&quot;cmos.engr.siu.edu&quot;</td><td>&quot;30/Aug/1995:12:29:32&nbsp;-0400&quot;</td><td>&quot;GET&nbsp;/history/apollo/apollo-13/…</td><td>200</td><td>12859</td></tr><tr><td>&hellip;</td><td>&hellip;</td><td>&hellip;</td><td>&hellip;</td><td>&hellip;</td></tr><tr><td>&quot;cs27port.netvoyage.net&quot;</td><td>&quot;09/Jul/1995:23:05:20&nbsp;-0400&quot;</td><td>&quot;GET&nbsp;/images/ksclogo-medium.gif…</td><td>200</td><td>5866</td></tr><tr><td>&quot;slip136-137.pt.uk.ibm.net&quot;</td><td>&quot;18/Aug/1995:03:45:30&nbsp;-0400&quot;</td><td>&quot;GET&nbsp;/images/MOSAIC-logosmall.g…</td><td>200</td><td>363</td></tr><tr><td>&quot;136.205.124.45&quot;</td><td>&quot;17/Jul/1995:12:43:57&nbsp;-0400&quot;</td><td>&quot;GET&nbsp;/history/apollo/apollo-13/…</td><td>200</td><td>18114</td></tr><tr><td>&quot;131.176.12.122&quot;</td><td>&quot;28/Aug/1995:03:24:47&nbsp;-0400&quot;</td><td>&quot;GET&nbsp;/history/apollo/apollo.htm…</td><td>200</td><td>3260</td></tr><tr><td>&quot;ix-gra2-15.ix.netcom.com&quot;</td><td>&quot;08/Jul/1995:17:39:16&nbsp;-0400&quot;</td><td>&quot;GET&nbsp;/shuttle/missions/sts-71/i…</td><td>304</td><td>0</td></tr></tbody></table></div>"
      ],
      "text/plain": [
       "shape: (50, 5)\n",
       "┌─────────────────────────────┬──────────────────────┬────────────────────────────┬────────┬───────┐\n",
       "│ host                        ┆ datetime             ┆ request                    ┆ status ┆ bytes │\n",
       "│ ---                         ┆ ---                  ┆ ---                        ┆ ---    ┆ ---   │\n",
       "│ str                         ┆ str                  ┆ str                        ┆ i64    ┆ i64   │\n",
       "╞═════════════════════════════╪══════════════════════╪════════════════════════════╪════════╪═══════╡\n",
       "│ 156.98.204.13               ┆ 06/Jul/1995:13:51:07 ┆ GET /shuttle/countdown/    ┆ 200    ┆ 3985  │\n",
       "│                             ┆ -0400                ┆ HTTP/1…                    ┆        ┆       │\n",
       "│ ns.scn.de                   ┆ 14/Aug/1995:09:14:09 ┆ GET /history/apollo/images ┆ 304    ┆ 0     │\n",
       "│                             ┆ -0400                ┆ /apo…                      ┆        ┆       │\n",
       "│ husehime.students.chiba-u.a ┆ 04/Jul/1995:22:54:31 ┆ GET /images/ksclogo-medium ┆ 200    ┆ 5866  │\n",
       "│ c.j…                        ┆ -0400                ┆ .gif…                      ┆        ┆       │\n",
       "│ cs1-02.mil.ptd.net          ┆ 25/Aug/1995:23:18:08 ┆ GET /shuttle/missions/51-b ┆ 200    ┆ 6387  │\n",
       "│                             ┆ -0400                ┆ /mis…                      ┆        ┆       │\n",
       "│ cmos.engr.siu.edu           ┆ 30/Aug/1995:12:29:32 ┆ GET /history/apollo/apollo ┆ 200    ┆ 12859 │\n",
       "│                             ┆ -0400                ┆ -13/…                      ┆        ┆       │\n",
       "│ …                           ┆ …                    ┆ …                          ┆ …      ┆ …     │\n",
       "│ cs27port.netvoyage.net      ┆ 09/Jul/1995:23:05:20 ┆ GET /images/ksclogo-medium ┆ 200    ┆ 5866  │\n",
       "│                             ┆ -0400                ┆ .gif…                      ┆        ┆       │\n",
       "│ slip136-137.pt.uk.ibm.net   ┆ 18/Aug/1995:03:45:30 ┆ GET /images/MOSAIC-logosma ┆ 200    ┆ 363   │\n",
       "│                             ┆ -0400                ┆ ll.g…                      ┆        ┆       │\n",
       "│ 136.205.124.45              ┆ 17/Jul/1995:12:43:57 ┆ GET /history/apollo/apollo ┆ 200    ┆ 18114 │\n",
       "│                             ┆ -0400                ┆ -13/…                      ┆        ┆       │\n",
       "│ 131.176.12.122              ┆ 28/Aug/1995:03:24:47 ┆ GET /history/apollo/apollo ┆ 200    ┆ 3260  │\n",
       "│                             ┆ -0400                ┆ .htm…                      ┆        ┆       │\n",
       "│ ix-gra2-15.ix.netcom.com    ┆ 08/Jul/1995:17:39:16 ┆ GET /shuttle/missions/sts- ┆ 304    ┆ 0     │\n",
       "│                             ┆ -0400                ┆ 71/i…                      ┆        ┆       │\n",
       "└─────────────────────────────┴──────────────────────┴────────────────────────────┴────────┴───────┘"
      ]
     },
     "execution_count": 29,
     "metadata": {},
     "output_type": "execute_result"
    }
   ],
   "source": [
    "df.sample(50)"
   ]
  },
  {
   "cell_type": "markdown",
   "id": "4ba0996c-e5b4-42a0-b225-7085f7c6bb04",
   "metadata": {},
   "source": [
    "  "
   ]
  },
  {
   "cell_type": "markdown",
   "id": "38301918-2fa5-46ff-a8be-4215d0724c3b",
   "metadata": {},
   "source": [
    "  "
   ]
  },
  {
   "cell_type": "markdown",
   "id": "f0911643-3de2-475d-8c4a-2835b0009602",
   "metadata": {},
   "source": [
    "  "
   ]
  },
  {
   "cell_type": "markdown",
   "id": "155ffeb1-e8dd-47b6-bf37-cdd4957b9ff4",
   "metadata": {},
   "source": [
    "  "
   ]
  },
  {
   "cell_type": "markdown",
   "id": "808e7d30-84a0-478d-ba01-881b522e8b39",
   "metadata": {},
   "source": [
    "  "
   ]
  },
  {
   "cell_type": "markdown",
   "id": "4f117d01-895e-4375-a9da-18a3018788a1",
   "metadata": {},
   "source": [
    "  "
   ]
  },
  {
   "cell_type": "markdown",
   "id": "a9f8e494-0917-4587-a117-eb80dd01ce10",
   "metadata": {},
   "source": [
    "  "
   ]
  },
  {
   "cell_type": "code",
   "execution_count": null,
   "id": "fe446862-5b94-4390-b8bf-5a6f727f29f9",
   "metadata": {},
   "outputs": [],
   "source": [
    "# -------------------------------------------------------------------------\n",
    "# 2. Read NASA Log lines into Polars Eager DataFrame\n",
    "# -------------------------------------------------------------------------\n",
    "def read_logs_eager(filepath: str) -> pl.DataFrame:\n",
    "    parsed_rows = []\n",
    "    with open(filepath, \"r\", encoding=\"utf-8\", errors=\"ignore\") as f:\n",
    "        for line in f:\n",
    "            row = parse_log_line(line)\n",
    "            if row:\n",
    "                parsed_rows.append(row)\n",
    "    \n",
    "    # Create an eager Polars DataFrame immediately\n",
    "    df_eager = pl.DataFrame(parsed_rows)\n",
    "    return df_eager"
   ]
  },
  {
   "cell_type": "code",
   "execution_count": null,
   "id": "8cb0635f-8859-44c2-9005-8bd2c3203a78",
   "metadata": {},
   "outputs": [],
   "source": [
    "# -------------------------------------------------------------------------\n",
    "# 3. Demonstrate Eager processing\n",
    "# -------------------------------------------------------------------------\n",
    "def process_eager(df: pl.DataFrame) -> pl.DataFrame:\n",
    "    # Example: Filter out status < 400, group by host, and sum bytes\n",
    "    result = (\n",
    "        df.filter(pl.col(\"status\") < 400)\n",
    "          .groupby(\"host\")\n",
    "          .agg([\n",
    "              pl.count().alias(\"num_requests\"),\n",
    "              pl.sum(\"bytes\").alias(\"total_bytes\")\n",
    "          ])\n",
    "          .sort(\"total_bytes\", descending=True)\n",
    "    )\n",
    "    return result"
   ]
  },
  {
   "cell_type": "code",
   "execution_count": null,
   "id": "6f2ce3f0-ce3c-4c9a-b463-32bace4e61e5",
   "metadata": {},
   "outputs": [],
   "source": [
    "# -------------------------------------------------------------------------\n",
    "# 4. Demonstrate Lazy processing\n",
    "# -------------------------------------------------------------------------\n",
    "def read_logs_lazy(filepath: str) -> pl.LazyFrame:\n",
    "    # We'll read lines similarly but create a LazyFrame from them\n",
    "    # Note: Polars does not (yet) have a direct \"read lines lazily\" method,\n",
    "    # so we parse into a standard DF, then convert to LazyFrame. \n",
    "    # Alternatively, you could build a LazyFrame from a scan of a CSV\n",
    "    # if the logs were converted to CSV, or from an IPC/Parquet file.\n",
    "\n",
    "    parsed_rows = []\n",
    "    with open(filepath, \"r\", encoding=\"utf-8\", errors=\"ignore\") as f:\n",
    "        for line in f:\n",
    "            row = parse_log_line(line)\n",
    "            if row:\n",
    "                parsed_rows.append(row)\n",
    "\n",
    "    df = pl.DataFrame(parsed_rows)\n",
    "    # Convert to lazy\n",
    "    return df.lazy()"
   ]
  },
  {
   "cell_type": "code",
   "execution_count": null,
   "id": "a34cafdf-d9a5-4ab5-a243-a1f850adf033",
   "metadata": {},
   "outputs": [],
   "source": [
    "def process_lazy(lf: pl.LazyFrame) -> pl.DataFrame:\n",
    "    # Build up the query plan\n",
    "    result_lf = (\n",
    "        lf.filter(pl.col(\"status\") < 400)\n",
    "          .groupby(\"host\")\n",
    "          .agg([\n",
    "              pl.count().alias(\"num_requests\"),\n",
    "              pl.sum(\"bytes\").alias(\"total_bytes\")\n",
    "          ])\n",
    "          .sort(\"total_bytes\", descending=True)\n",
    "    )\n",
    "    # Collect triggers the actual computation\n",
    "    return result_lf.collect()"
   ]
  },
  {
   "cell_type": "code",
   "execution_count": null,
   "id": "c1ede6eb-6f4f-4c1f-abbb-9265a05ce4d2",
   "metadata": {},
   "outputs": [],
   "source": [
    "# -------------------------------------------------------------------------\n",
    "# 5. Main Benchmark\n",
    "# -------------------------------------------------------------------------\n",
    "if __name__ == \"__main__\":\n",
    "    log_file = \"nasa_aug_95.log\"  # Adjust to your path\n",
    "\n",
    "    # --- Eager ---\n",
    "    start_eager = time.time()\n",
    "    df_eager = read_logs_eager(log_file)\n",
    "    eager_result = process_eager(df_eager)\n",
    "    end_eager = time.time()\n",
    "    eager_time = end_eager - start_eager\n",
    "\n",
    "    print(f\"[EAGER] Processed rows: {df_eager.shape[0]}\")\n",
    "    print(f\"[EAGER] Time elapsed: {eager_time:.4f} seconds\")\n",
    "    print(eager_result.head(5))\n",
    "\n",
    "    # --- Lazy ---\n",
    "    start_lazy = time.time()\n",
    "    lf = read_logs_lazy(log_file)\n",
    "    lazy_result = process_lazy(lf)\n",
    "    end_lazy = time.time()\n",
    "    lazy_time = end_lazy - start_lazy\n",
    "\n",
    "    print(f\"[LAZY] Processed rows: {lazy_result.shape[0]}\")\n",
    "    print(f\"[LAZY] Time elapsed: {lazy_time:.4f} seconds\")\n",
    "    print(lazy_result.head(5))"
   ]
  }
 ],
 "metadata": {
  "kernelspec": {
   "display_name": "Python 3 (ipykernel)",
   "language": "python",
   "name": "python3"
  },
  "language_info": {
   "codemirror_mode": {
    "name": "ipython",
    "version": 3
   },
   "file_extension": ".py",
   "mimetype": "text/x-python",
   "name": "python",
   "nbconvert_exporter": "python",
   "pygments_lexer": "ipython3",
   "version": "3.12.3"
  }
 },
 "nbformat": 4,
 "nbformat_minor": 5
}

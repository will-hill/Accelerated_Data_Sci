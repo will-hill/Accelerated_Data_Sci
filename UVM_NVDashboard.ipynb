{
 "cells": [
  {
   "cell_type": "code",
   "execution_count": 1,
   "id": "4f9c3833-a1ea-4e5e-8ce9-01d569ea8d07",
   "metadata": {},
   "outputs": [
    {
     "name": "stdout",
     "output_type": "stream",
     "text": [
      "Thu Jan 30 12:11:00 2025       \n",
      "+-----------------------------------------------------------------------------------------+\n",
      "| NVIDIA-SMI 550.120                Driver Version: 550.120        CUDA Version: 12.4     |\n",
      "|-----------------------------------------+------------------------+----------------------+\n",
      "| GPU  Name                 Persistence-M | Bus-Id          Disp.A | Volatile Uncorr. ECC |\n",
      "| Fan  Temp   Perf          Pwr:Usage/Cap |           Memory-Usage | GPU-Util  Compute M. |\n",
      "|                                         |                        |               MIG M. |\n",
      "|=========================================+========================+======================|\n",
      "|   0  NVIDIA RTX 6000 Ada Gene...    Off |   00000000:01:00.0 Off |                    0 |\n",
      "| 30%   28C    P8             14W /  300W |       2MiB /  46068MiB |      0%      Default |\n",
      "|                                         |                        |                  N/A |\n",
      "+-----------------------------------------+------------------------+----------------------+\n",
      "                                                                                         \n",
      "+-----------------------------------------------------------------------------------------+\n",
      "| Processes:                                                                              |\n",
      "|  GPU   GI   CI        PID   Type   Process name                              GPU Memory |\n",
      "|        ID   ID                                                               Usage      |\n",
      "|=========================================================================================|\n",
      "|  No running processes found                                                             |\n",
      "+-----------------------------------------------------------------------------------------+\n"
     ]
    }
   ],
   "source": [
    "!nvidia-smi"
   ]
  },
  {
   "cell_type": "code",
   "execution_count": 5,
   "id": "547f74ff-7136-4285-be61-ad299ebc8f08",
   "metadata": {},
   "outputs": [
    {
     "data": {
      "text/plain": [
       "<module 'pandas' from '/home/will/git/uvm-demo/venv/lib/python3.12/site-packages/pandas/__init__.py'>"
      ]
     },
     "execution_count": 5,
     "metadata": {},
     "output_type": "execute_result"
    }
   ],
   "source": [
    "import numpy as np\n",
    "import cupy as cp\n",
    "import pandas as pd_cpu\n",
    "pd_cpu"
   ]
  },
  {
   "cell_type": "code",
   "execution_count": 6,
   "id": "99510801-2002-483a-aee7-17c8e39c7fa3",
   "metadata": {},
   "outputs": [],
   "source": [
    "def get_mem_tracker(curr_mem_df, phase, pd_var):\n",
    "    \n",
    "    # get sys stats\n",
    "    host_mem_list = !free -m | awk 'NR==2{print $2, $3, $4}'\n",
    "    gpu_mem_list = !nvidia-smi --query-gpu=memory.total,memory.used,memory.free --format=csv,noheader,nounits\n",
    "\n",
    "    # create new mem df\n",
    "    data=[['host', phase] + [mb // 1024 for mb in list(map(int, host_mem_list[0].split()))]]\n",
    "    data += [['device', phase] + [mb // 1000 for mb in list(map(int, gpu_mem_list[0].split(', ')))]]    \n",
    "    new_mem_df = pd_var.DataFrame(data=data, columns=['arch', 'phase', 'ttl', 'used', 'free'])    \n",
    "\n",
    "    # concat \n",
    "    if curr_mem_df is not None and not curr_mem_df.empty:\n",
    "        new_mem_df = pd_var.concat([curr_mem_df, new_mem_df])\n",
    "    \n",
    "    return new_mem_df"
   ]
  },
  {
   "cell_type": "code",
   "execution_count": 7,
   "id": "9a50887a-d1bd-4d81-8100-2383a3ee9b20",
   "metadata": {},
   "outputs": [
    {
     "data": {
      "text/html": [
       "<div>\n",
       "<style scoped>\n",
       "    .dataframe tbody tr th:only-of-type {\n",
       "        vertical-align: middle;\n",
       "    }\n",
       "\n",
       "    .dataframe tbody tr th {\n",
       "        vertical-align: top;\n",
       "    }\n",
       "\n",
       "    .dataframe thead th {\n",
       "        text-align: right;\n",
       "    }\n",
       "</style>\n",
       "<table border=\"1\" class=\"dataframe\">\n",
       "  <thead>\n",
       "    <tr style=\"text-align: right;\">\n",
       "      <th></th>\n",
       "      <th>arch</th>\n",
       "      <th>phase</th>\n",
       "      <th>ttl</th>\n",
       "      <th>used</th>\n",
       "      <th>free</th>\n",
       "    </tr>\n",
       "  </thead>\n",
       "  <tbody>\n",
       "    <tr>\n",
       "      <th>0</th>\n",
       "      <td>host</td>\n",
       "      <td>init</td>\n",
       "      <td>62</td>\n",
       "      <td>1</td>\n",
       "      <td>51</td>\n",
       "    </tr>\n",
       "    <tr>\n",
       "      <th>1</th>\n",
       "      <td>device</td>\n",
       "      <td>init</td>\n",
       "      <td>46</td>\n",
       "      <td>0</td>\n",
       "      <td>45</td>\n",
       "    </tr>\n",
       "  </tbody>\n",
       "</table>\n",
       "</div>"
      ],
      "text/plain": [
       "     arch phase  ttl  used  free\n",
       "0    host  init   62     1    51\n",
       "1  device  init   46     0    45"
      ]
     },
     "execution_count": 7,
     "metadata": {},
     "output_type": "execute_result"
    }
   ],
   "source": [
    "mem_df = get_mem_tracker(None, 'init', pd_var=pd_cpu)\n",
    "mem_df"
   ]
  },
  {
   "cell_type": "markdown",
   "id": "76e2596a-548f-432b-ad9d-fb9c48783b58",
   "metadata": {},
   "source": [
    "    "
   ]
  },
  {
   "cell_type": "markdown",
   "id": "ee27df6e-8196-4b3f-8bfd-5770f5fbb046",
   "metadata": {},
   "source": [
    "    "
   ]
  },
  {
   "cell_type": "markdown",
   "id": "8834c322-6e9c-44cf-b3ff-97082a197a2f",
   "metadata": {},
   "source": [
    "    "
   ]
  },
  {
   "cell_type": "markdown",
   "id": "5a366f29-56de-416e-beba-5af98ef88c07",
   "metadata": {},
   "source": [
    "### GB in bytes    "
   ]
  },
  {
   "cell_type": "code",
   "execution_count": 8,
   "id": "3337b7dc-2153-45db-838b-ba30a58d01fb",
   "metadata": {},
   "outputs": [
    {
     "data": {
      "text/plain": [
       "1073741824"
      ]
     },
     "execution_count": 8,
     "metadata": {},
     "output_type": "execute_result"
    }
   ],
   "source": [
    "GB_bytes = 1024 ** 3\n",
    "\n",
    "GB_bytes"
   ]
  },
  {
   "cell_type": "markdown",
   "id": "f2d6368d-a9f9-487b-bbb1-33e4ca6dbba7",
   "metadata": {},
   "source": [
    "    "
   ]
  },
  {
   "cell_type": "markdown",
   "id": "76739fbc-fa59-4566-ac5c-aa23e2d0d2c4",
   "metadata": {},
   "source": [
    "### float64 bytes"
   ]
  },
  {
   "cell_type": "code",
   "execution_count": 9,
   "id": "9989e0d1-af4f-49d2-8813-b51731beb40d",
   "metadata": {},
   "outputs": [
    {
     "data": {
      "text/plain": [
       "8"
      ]
     },
     "execution_count": 9,
     "metadata": {},
     "output_type": "execute_result"
    }
   ],
   "source": [
    "float64_bytes = np.float64().itemsize\n",
    "\n",
    "float64_bytes"
   ]
  },
  {
   "cell_type": "markdown",
   "id": "b105585b-0d41-4247-bb0a-17b4f110b57b",
   "metadata": {},
   "source": [
    "    "
   ]
  },
  {
   "cell_type": "markdown",
   "id": "e524cd0b-141d-4f54-a420-da20daa690be",
   "metadata": {},
   "source": [
    "### GB / float64_bytes"
   ]
  },
  {
   "cell_type": "code",
   "execution_count": 10,
   "id": "ea17b85b-e4a0-4182-8fd5-46de40c44978",
   "metadata": {},
   "outputs": [
    {
     "data": {
      "text/plain": [
       "134217728"
      ]
     },
     "execution_count": 10,
     "metadata": {},
     "output_type": "execute_result"
    }
   ],
   "source": [
    "float_array_1GB_len = GB_bytes // float64_bytes\n",
    "\n",
    "float_array_1GB_len"
   ]
  },
  {
   "cell_type": "markdown",
   "id": "271d5332-27c7-4547-b0d2-c3061fecd337",
   "metadata": {},
   "source": [
    "    "
   ]
  },
  {
   "cell_type": "markdown",
   "id": "c482eea5-714a-494d-aee6-5100844ad6e5",
   "metadata": {},
   "source": [
    "### 1 GB array"
   ]
  },
  {
   "cell_type": "code",
   "execution_count": 11,
   "id": "eda0dfde-d384-4a9c-8b59-87e3a8568a70",
   "metadata": {},
   "outputs": [
    {
     "data": {
      "text/plain": [
       "1073741824"
      ]
     },
     "execution_count": 11,
     "metadata": {},
     "output_type": "execute_result"
    }
   ],
   "source": [
    "ary_1GB = np.random.rand(float_array_1GB_len)\n",
    "\n",
    "del GB_bytes, float64_bytes\n",
    "\n",
    "ary_1GB.nbytes"
   ]
  },
  {
   "cell_type": "code",
   "execution_count": 12,
   "id": "f980efd5-e117-41ec-9579-8858392c247d",
   "metadata": {},
   "outputs": [],
   "source": [
    "df_cpu_1GB = pd_cpu.DataFrame(data=ary_1GB)\n",
    "del ary_1GB"
   ]
  },
  {
   "cell_type": "markdown",
   "id": "d3802713-c2dd-4fb1-bed8-c3a911d32cfc",
   "metadata": {},
   "source": [
    "    "
   ]
  },
  {
   "cell_type": "markdown",
   "id": "e4e23498-9c0e-4602-a062-30f05f7c59dc",
   "metadata": {},
   "source": [
    "### 40 GB array"
   ]
  },
  {
   "cell_type": "code",
   "execution_count": 13,
   "id": "b08b0ab5-bea8-4609-bc7c-b3780432c6a5",
   "metadata": {},
   "outputs": [],
   "source": [
    "del df_cpu_1GB"
   ]
  },
  {
   "cell_type": "code",
   "execution_count": 14,
   "id": "1c3d1594-dcaa-4c7f-9291-cee41156f1b8",
   "metadata": {},
   "outputs": [
    {
     "name": "stdout",
     "output_type": "stream",
     "text": [
      "CPU times: user 14 s, sys: 3.44 s, total: 17.5 s\n",
      "Wall time: 17.5 s\n"
     ]
    }
   ],
   "source": [
    "%%time\n",
    "## 19 s\n",
    "\n",
    "ary_40GB = np.random.rand(float_array_1GB_len * 40)"
   ]
  },
  {
   "cell_type": "markdown",
   "id": "990a40d3-766d-467d-b3f8-a821be519088",
   "metadata": {},
   "source": [
    "    "
   ]
  },
  {
   "cell_type": "markdown",
   "id": "0adec943-a4ae-440e-a40e-b74b281b28da",
   "metadata": {},
   "source": [
    "    "
   ]
  },
  {
   "cell_type": "markdown",
   "id": "eb927f1b-ae3c-4ece-9237-3be94fdb79d6",
   "metadata": {},
   "source": [
    "    "
   ]
  },
  {
   "cell_type": "markdown",
   "id": "4ec25631-3507-4eb7-a64e-328ade6e5c1c",
   "metadata": {},
   "source": [
    "    "
   ]
  },
  {
   "cell_type": "markdown",
   "id": "99cfb58c-5943-402b-8719-e0380506d813",
   "metadata": {},
   "source": [
    "---"
   ]
  },
  {
   "cell_type": "markdown",
   "id": "82a81cd8-aae1-4d39-93e4-d4f62d01d59a",
   "metadata": {},
   "source": [
    "---"
   ]
  },
  {
   "cell_type": "code",
   "execution_count": 15,
   "id": "0466ba28-5036-4d35-a97a-0ece8291e3f0",
   "metadata": {},
   "outputs": [
    {
     "data": {
      "text/html": [
       "<div>\n",
       "<style scoped>\n",
       "    .dataframe tbody tr th:only-of-type {\n",
       "        vertical-align: middle;\n",
       "    }\n",
       "\n",
       "    .dataframe tbody tr th {\n",
       "        vertical-align: top;\n",
       "    }\n",
       "\n",
       "    .dataframe thead th {\n",
       "        text-align: right;\n",
       "    }\n",
       "</style>\n",
       "<table border=\"1\" class=\"dataframe\">\n",
       "  <thead>\n",
       "    <tr style=\"text-align: right;\">\n",
       "      <th></th>\n",
       "      <th>arch</th>\n",
       "      <th>phase</th>\n",
       "      <th>ttl</th>\n",
       "      <th>used</th>\n",
       "      <th>free</th>\n",
       "    </tr>\n",
       "  </thead>\n",
       "  <tbody>\n",
       "    <tr>\n",
       "      <th>0</th>\n",
       "      <td>host</td>\n",
       "      <td>init</td>\n",
       "      <td>62</td>\n",
       "      <td>1</td>\n",
       "      <td>51</td>\n",
       "    </tr>\n",
       "    <tr>\n",
       "      <th>1</th>\n",
       "      <td>device</td>\n",
       "      <td>init</td>\n",
       "      <td>46</td>\n",
       "      <td>0</td>\n",
       "      <td>45</td>\n",
       "    </tr>\n",
       "    <tr>\n",
       "      <th>0</th>\n",
       "      <td>host</td>\n",
       "      <td>cpu_1GB</td>\n",
       "      <td>62</td>\n",
       "      <td>41</td>\n",
       "      <td>11</td>\n",
       "    </tr>\n",
       "    <tr>\n",
       "      <th>1</th>\n",
       "      <td>device</td>\n",
       "      <td>cpu_1GB</td>\n",
       "      <td>46</td>\n",
       "      <td>0</td>\n",
       "      <td>45</td>\n",
       "    </tr>\n",
       "  </tbody>\n",
       "</table>\n",
       "</div>"
      ],
      "text/plain": [
       "     arch    phase  ttl  used  free\n",
       "0    host     init   62     1    51\n",
       "1  device     init   46     0    45\n",
       "0    host  cpu_1GB   62    41    11\n",
       "1  device  cpu_1GB   46     0    45"
      ]
     },
     "execution_count": 15,
     "metadata": {},
     "output_type": "execute_result"
    }
   ],
   "source": [
    "mem_df = get_mem_tracker(mem_df, phase='cpu_1GB', pd_var=pd_cpu)\n",
    "mem_df"
   ]
  },
  {
   "cell_type": "code",
   "execution_count": 16,
   "id": "4ef96ea4-33bd-4a54-93ee-12b57e8a11d7",
   "metadata": {},
   "outputs": [
    {
     "name": "stdout",
     "output_type": "stream",
     "text": [
      "Variable              Type         Data/Info\n",
      "--------------------------------------------\n",
      "ary_40GB              ndarray      5368709120: 5368709120 elems, type `float64`, 42949672960 bytes (40960.0 Mb)\n",
      "cp                    module       <module 'cupy' from '/hom<...>ckages/cupy/__init__.py'>\n",
      "float_array_1GB_len   int          134217728\n",
      "get_mem_tracker       function     <function get_mem_tracker at 0x7a1ef0d5ca40>\n",
      "mem_df                DataFrame         arch    phase  ttl  <...> cpu_1GB   46     0    45\n",
      "np                    module       <module 'numpy' from '/ho<...>kages/numpy/__init__.py'>\n",
      "pd_cpu                module       <module 'pandas' from '/h<...>ages/pandas/__init__.py'>\n"
     ]
    }
   ],
   "source": [
    "%whos"
   ]
  },
  {
   "cell_type": "code",
   "execution_count": 17,
   "id": "c17a1e33-6228-4683-9f1a-9ea542d1eb53",
   "metadata": {},
   "outputs": [],
   "source": [
    "del ary_40GB"
   ]
  },
  {
   "cell_type": "code",
   "execution_count": 18,
   "id": "3f99aad6-9db3-4dad-ada8-36910ca6d0fd",
   "metadata": {},
   "outputs": [
    {
     "data": {
      "text/html": [
       "<div>\n",
       "<style scoped>\n",
       "    .dataframe tbody tr th:only-of-type {\n",
       "        vertical-align: middle;\n",
       "    }\n",
       "\n",
       "    .dataframe tbody tr th {\n",
       "        vertical-align: top;\n",
       "    }\n",
       "\n",
       "    .dataframe thead th {\n",
       "        text-align: right;\n",
       "    }\n",
       "</style>\n",
       "<table border=\"1\" class=\"dataframe\">\n",
       "  <thead>\n",
       "    <tr style=\"text-align: right;\">\n",
       "      <th></th>\n",
       "      <th>arch</th>\n",
       "      <th>phase</th>\n",
       "      <th>ttl</th>\n",
       "      <th>used</th>\n",
       "      <th>free</th>\n",
       "    </tr>\n",
       "  </thead>\n",
       "  <tbody>\n",
       "    <tr>\n",
       "      <th>0</th>\n",
       "      <td>host</td>\n",
       "      <td>init</td>\n",
       "      <td>62</td>\n",
       "      <td>1</td>\n",
       "      <td>51</td>\n",
       "    </tr>\n",
       "    <tr>\n",
       "      <th>1</th>\n",
       "      <td>device</td>\n",
       "      <td>init</td>\n",
       "      <td>46</td>\n",
       "      <td>0</td>\n",
       "      <td>45</td>\n",
       "    </tr>\n",
       "    <tr>\n",
       "      <th>0</th>\n",
       "      <td>host</td>\n",
       "      <td>cpu_1GB</td>\n",
       "      <td>62</td>\n",
       "      <td>41</td>\n",
       "      <td>11</td>\n",
       "    </tr>\n",
       "    <tr>\n",
       "      <th>1</th>\n",
       "      <td>device</td>\n",
       "      <td>cpu_1GB</td>\n",
       "      <td>46</td>\n",
       "      <td>0</td>\n",
       "      <td>45</td>\n",
       "    </tr>\n",
       "    <tr>\n",
       "      <th>0</th>\n",
       "      <td>host</td>\n",
       "      <td>del_cpu_1GB</td>\n",
       "      <td>62</td>\n",
       "      <td>1</td>\n",
       "      <td>51</td>\n",
       "    </tr>\n",
       "    <tr>\n",
       "      <th>1</th>\n",
       "      <td>device</td>\n",
       "      <td>del_cpu_1GB</td>\n",
       "      <td>46</td>\n",
       "      <td>0</td>\n",
       "      <td>45</td>\n",
       "    </tr>\n",
       "  </tbody>\n",
       "</table>\n",
       "</div>"
      ],
      "text/plain": [
       "     arch        phase  ttl  used  free\n",
       "0    host         init   62     1    51\n",
       "1  device         init   46     0    45\n",
       "0    host      cpu_1GB   62    41    11\n",
       "1  device      cpu_1GB   46     0    45\n",
       "0    host  del_cpu_1GB   62     1    51\n",
       "1  device  del_cpu_1GB   46     0    45"
      ]
     },
     "execution_count": 18,
     "metadata": {},
     "output_type": "execute_result"
    }
   ],
   "source": [
    "mem_df = get_mem_tracker(mem_df, phase='del_cpu_1GB', pd_var=pd_cpu)\n",
    "mem_df"
   ]
  },
  {
   "cell_type": "code",
   "execution_count": 19,
   "id": "22837306-4f41-4a42-94b8-ebe882556661",
   "metadata": {},
   "outputs": [
    {
     "name": "stdout",
     "output_type": "stream",
     "text": [
      "Variable              Type         Data/Info\n",
      "--------------------------------------------\n",
      "cp                    module       <module 'cupy' from '/hom<...>ckages/cupy/__init__.py'>\n",
      "float_array_1GB_len   int          134217728\n",
      "get_mem_tracker       function     <function get_mem_tracker at 0x7a1ef0d5ca40>\n",
      "mem_df                DataFrame         arch        phase  t<...>_cpu_1GB   46     0    45\n",
      "np                    module       <module 'numpy' from '/ho<...>kages/numpy/__init__.py'>\n",
      "pd_cpu                module       <module 'pandas' from '/h<...>ages/pandas/__init__.py'>\n"
     ]
    }
   ],
   "source": [
    "%whos"
   ]
  },
  {
   "cell_type": "code",
   "execution_count": 20,
   "id": "937386e9-9261-49c3-9e3c-9258c08beb89",
   "metadata": {},
   "outputs": [],
   "source": [
    "ary_40GB = cp.random.rand(float_array_1GB_len * 40)"
   ]
  },
  {
   "cell_type": "code",
   "execution_count": null,
   "id": "b096fbca-84a1-48cc-ab7b-3ddaa2236722",
   "metadata": {},
   "outputs": [],
   "source": []
  }
 ],
 "metadata": {
  "kernelspec": {
   "display_name": "Python 3 (ipykernel)",
   "language": "python",
   "name": "python3"
  },
  "language_info": {
   "codemirror_mode": {
    "name": "ipython",
    "version": 3
   },
   "file_extension": ".py",
   "mimetype": "text/x-python",
   "name": "python",
   "nbconvert_exporter": "python",
   "pygments_lexer": "ipython3",
   "version": "3.12.3"
  }
 },
 "nbformat": 4,
 "nbformat_minor": 5
}

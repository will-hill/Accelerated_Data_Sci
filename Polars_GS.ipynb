{
 "cells": [
  {
   "cell_type": "markdown",
   "id": "d9cb146d-ebf6-4e8f-a71c-7672e4cfc991",
   "metadata": {},
   "source": [
    "# Polars - Getting Started"
   ]
  },
  {
   "cell_type": "code",
   "execution_count": 3,
   "id": "ed621f1c-7ff9-4cac-8d41-5f65c430ea09",
   "metadata": {},
   "outputs": [],
   "source": [
    "import polars as pl\n",
    "import numpy as np\n",
    "import random\n",
    "import string"
   ]
  },
  {
   "cell_type": "markdown",
   "id": "6bf78fe8-6f3d-4153-b520-4f5c6a25bdbb",
   "metadata": {},
   "source": [
    "# Create Parquet\n",
    "### Create a Parquet file with `n` rows and `m` columns that are assigned round-robin as int, float, or string"
   ]
  },
  {
   "cell_type": "code",
   "execution_count": 4,
   "id": "67e43f80-e6a8-4c22-b184-67b7503151fd",
   "metadata": {},
   "outputs": [
    {
     "name": "stdout",
     "output_type": "stream",
     "text": [
      "CPU times: user 2min 43s, sys: 6.31 s, total: 2min 49s\n",
      "Wall time: 2min 49s\n"
     ]
    },
    {
     "data": {
      "text/html": [
       "<div><style>\n",
       ".dataframe > thead > tr,\n",
       ".dataframe > tbody > tr {\n",
       "  text-align: right;\n",
       "  white-space: pre-wrap;\n",
       "}\n",
       "</style>\n",
       "<small>shape: (100_000_000, 12)</small><table border=\"1\" class=\"dataframe\"><thead><tr><th>int_col_0</th><th>float_col_1</th><th>str_col_2</th><th>int_col_3</th><th>float_col_4</th><th>str_col_5</th><th>int_col_6</th><th>float_col_7</th><th>str_col_8</th><th>int_col_9</th><th>float_col_10</th><th>str_col_11</th></tr><tr><td>i64</td><td>f64</td><td>str</td><td>i64</td><td>f64</td><td>str</td><td>i64</td><td>f64</td><td>str</td><td>i64</td><td>f64</td><td>str</td></tr></thead><tbody><tr><td>93</td><td>0.652884</td><td>&quot;pntcm&quot;</td><td>8</td><td>0.811316</td><td>&quot;nbxyc&quot;</td><td>87</td><td>0.367002</td><td>&quot;ariyq&quot;</td><td>51</td><td>0.030269</td><td>&quot;ppoav&quot;</td></tr><tr><td>11</td><td>0.333926</td><td>&quot;uvrqb&quot;</td><td>65</td><td>0.499348</td><td>&quot;giuem&quot;</td><td>62</td><td>0.551787</td><td>&quot;pimrp&quot;</td><td>64</td><td>0.178633</td><td>&quot;khtfv&quot;</td></tr><tr><td>31</td><td>0.017871</td><td>&quot;ezaiv&quot;</td><td>50</td><td>0.677592</td><td>&quot;lxtox&quot;</td><td>67</td><td>0.601547</td><td>&quot;sjbft&quot;</td><td>33</td><td>0.757437</td><td>&quot;tsroh&quot;</td></tr><tr><td>51</td><td>0.657203</td><td>&quot;ckcwh&quot;</td><td>89</td><td>0.708234</td><td>&quot;oqash&quot;</td><td>51</td><td>0.971546</td><td>&quot;cumrs&quot;</td><td>65</td><td>0.173563</td><td>&quot;fauyl&quot;</td></tr><tr><td>9</td><td>0.742658</td><td>&quot;fdxkx&quot;</td><td>90</td><td>0.115617</td><td>&quot;wlihc&quot;</td><td>42</td><td>0.778501</td><td>&quot;oktvk&quot;</td><td>38</td><td>0.317014</td><td>&quot;vodkv&quot;</td></tr><tr><td>&hellip;</td><td>&hellip;</td><td>&hellip;</td><td>&hellip;</td><td>&hellip;</td><td>&hellip;</td><td>&hellip;</td><td>&hellip;</td><td>&hellip;</td><td>&hellip;</td><td>&hellip;</td><td>&hellip;</td></tr><tr><td>12</td><td>0.617882</td><td>&quot;fwjwk&quot;</td><td>12</td><td>0.274015</td><td>&quot;ozwnf&quot;</td><td>67</td><td>0.786789</td><td>&quot;akuhk&quot;</td><td>81</td><td>0.08208</td><td>&quot;blzdt&quot;</td></tr><tr><td>42</td><td>0.695621</td><td>&quot;kqdpg&quot;</td><td>46</td><td>0.453561</td><td>&quot;vvnpv&quot;</td><td>8</td><td>0.342684</td><td>&quot;wwglw&quot;</td><td>56</td><td>0.56422</td><td>&quot;ekjud&quot;</td></tr><tr><td>53</td><td>0.17968</td><td>&quot;wuohd&quot;</td><td>60</td><td>0.43204</td><td>&quot;apdzg&quot;</td><td>96</td><td>0.264924</td><td>&quot;oarof&quot;</td><td>10</td><td>0.259905</td><td>&quot;auuil&quot;</td></tr><tr><td>33</td><td>0.130465</td><td>&quot;zpcyg&quot;</td><td>19</td><td>0.503983</td><td>&quot;vlqxx&quot;</td><td>82</td><td>0.839144</td><td>&quot;znctb&quot;</td><td>70</td><td>0.377668</td><td>&quot;pxqpc&quot;</td></tr><tr><td>62</td><td>0.176269</td><td>&quot;ckjfi&quot;</td><td>82</td><td>0.624364</td><td>&quot;tfhwb&quot;</td><td>26</td><td>0.162189</td><td>&quot;fjlrl&quot;</td><td>52</td><td>0.37295</td><td>&quot;bjwfz&quot;</td></tr></tbody></table></div>"
      ],
      "text/plain": [
       "shape: (100_000_000, 12)\n",
       "┌───────────┬───────────┬───────────┬───────────┬───┬───────────┬───────────┬───────────┬──────────┐\n",
       "│ int_col_0 ┆ float_col ┆ str_col_2 ┆ int_col_3 ┆ … ┆ str_col_8 ┆ int_col_9 ┆ float_col ┆ str_col_ │\n",
       "│ ---       ┆ _1        ┆ ---       ┆ ---       ┆   ┆ ---       ┆ ---       ┆ _10       ┆ 11       │\n",
       "│ i64       ┆ ---       ┆ str       ┆ i64       ┆   ┆ str       ┆ i64       ┆ ---       ┆ ---      │\n",
       "│           ┆ f64       ┆           ┆           ┆   ┆           ┆           ┆ f64       ┆ str      │\n",
       "╞═══════════╪═══════════╪═══════════╪═══════════╪═══╪═══════════╪═══════════╪═══════════╪══════════╡\n",
       "│ 93        ┆ 0.652884  ┆ pntcm     ┆ 8         ┆ … ┆ ariyq     ┆ 51        ┆ 0.030269  ┆ ppoav    │\n",
       "│ 11        ┆ 0.333926  ┆ uvrqb     ┆ 65        ┆ … ┆ pimrp     ┆ 64        ┆ 0.178633  ┆ khtfv    │\n",
       "│ 31        ┆ 0.017871  ┆ ezaiv     ┆ 50        ┆ … ┆ sjbft     ┆ 33        ┆ 0.757437  ┆ tsroh    │\n",
       "│ 51        ┆ 0.657203  ┆ ckcwh     ┆ 89        ┆ … ┆ cumrs     ┆ 65        ┆ 0.173563  ┆ fauyl    │\n",
       "│ 9         ┆ 0.742658  ┆ fdxkx     ┆ 90        ┆ … ┆ oktvk     ┆ 38        ┆ 0.317014  ┆ vodkv    │\n",
       "│ …         ┆ …         ┆ …         ┆ …         ┆ … ┆ …         ┆ …         ┆ …         ┆ …        │\n",
       "│ 12        ┆ 0.617882  ┆ fwjwk     ┆ 12        ┆ … ┆ akuhk     ┆ 81        ┆ 0.08208   ┆ blzdt    │\n",
       "│ 42        ┆ 0.695621  ┆ kqdpg     ┆ 46        ┆ … ┆ wwglw     ┆ 56        ┆ 0.56422   ┆ ekjud    │\n",
       "│ 53        ┆ 0.17968   ┆ wuohd     ┆ 60        ┆ … ┆ oarof     ┆ 10        ┆ 0.259905  ┆ auuil    │\n",
       "│ 33        ┆ 0.130465  ┆ zpcyg     ┆ 19        ┆ … ┆ znctb     ┆ 70        ┆ 0.377668  ┆ pxqpc    │\n",
       "│ 62        ┆ 0.176269  ┆ ckjfi     ┆ 82        ┆ … ┆ fjlrl     ┆ 52        ┆ 0.37295   ┆ bjwfz    │\n",
       "└───────────┴───────────┴───────────┴───────────┴───┴───────────┴───────────┴───────────┴──────────┘"
      ]
     },
     "execution_count": 4,
     "metadata": {},
     "output_type": "execute_result"
    }
   ],
   "source": [
    "%%time\n",
    "\n",
    "n = 100_000_000 # 100M rows ~ 1 minute\n",
    "\n",
    "df = pl.DataFrame({\n",
    "    \n",
    "    \"int_col_0\":   np.random.randint(0, 100, n),    # integers in [0, 100)\n",
    "    \"float_col_1\": np.random.random(n),            # floats in [0.0, 1.0)\n",
    "    \"str_col_2\": [\"\".join(random.choices(string.ascii_lowercase, k=5)) for _ in range(n)],\n",
    "\n",
    "    \"int_col_3\":   np.random.randint(0, 100, n),\n",
    "    \"float_col_4\": np.random.random(n),         \n",
    "    \"str_col_5\": [\"\".join(random.choices(string.ascii_lowercase, k=5)) for _ in range(n)],\n",
    "\n",
    "    \"int_col_6\":   np.random.randint(0, 100, n),\n",
    "    \"float_col_7\": np.random.random(n),         \n",
    "    \"str_col_8\": [\"\".join(random.choices(string.ascii_lowercase, k=5)) for _ in range(n)],\n",
    "\n",
    "    \"int_col_9\":   np.random.randint(0, 100, n),\n",
    "    \"float_col_10\": np.random.random(n),\n",
    "    \"str_col_11\": [\"\".join(random.choices(string.ascii_lowercase, k=5)) for _ in range(n)],\n",
    "})\n",
    "\n",
    "df"
   ]
  },
  {
   "cell_type": "code",
   "execution_count": 5,
   "id": "b8c96edb-1fb7-4879-92c4-d4e0b2b72e4e",
   "metadata": {},
   "outputs": [],
   "source": [
    "# create a Polars DataFrame\n",
    "\n",
    "df = pl.DataFrame(data)"
   ]
  },
  {
   "cell_type": "code",
   "execution_count": 6,
   "id": "3cdffaef-2c1b-47e2-919b-a3418d2e28df",
   "metadata": {},
   "outputs": [
    {
     "name": "stdout",
     "output_type": "stream",
     "text": [
      "CPU times: user 19.7 s, sys: 1.69 s, total: 21.4 s\n",
      "Wall time: 18.2 s\n"
     ]
    }
   ],
   "source": [
    "%%time\n",
    "# write to file\n",
    "df.write_parquet(filename)"
   ]
  },
  {
   "cell_type": "code",
   "execution_count": 12,
   "id": "de2d828d-b873-4e61-be27-901deefecc84",
   "metadata": {},
   "outputs": [
    {
     "data": {
      "text/plain": [
       "['xemvz', 'hdxmb', 'cxkrc']"
      ]
     },
     "execution_count": 12,
     "metadata": {},
     "output_type": "execute_result"
    }
   ],
   "source": [
    "n = 3\n",
    "[\"\".join(random.choices(string.ascii_lowercase, k=5)) for _ in range(n)]"
   ]
  },
  {
   "cell_type": "code",
   "execution_count": 7,
   "id": "200c6674-7236-4ec4-9a52-2855b1686c29",
   "metadata": {},
   "outputs": [
    {
     "name": "stdout",
     "output_type": "stream",
     "text": [
      "CPU times: user 41.5 s, sys: 1.59 s, total: 43.1 s\n",
      "Wall time: 43.1 s\n"
     ]
    },
    {
     "data": {
      "text/html": [
       "<div><style>\n",
       ".dataframe > thead > tr,\n",
       ".dataframe > tbody > tr {\n",
       "  text-align: right;\n",
       "  white-space: pre-wrap;\n",
       "}\n",
       "</style>\n",
       "<small>shape: (100_000_000, 3)</small><table border=\"1\" class=\"dataframe\"><thead><tr><th>int_col_0</th><th>float_col_1</th><th>str_col_2</th></tr><tr><td>i64</td><td>f64</td><td>str</td></tr></thead><tbody><tr><td>23</td><td>0.665972</td><td>&quot;gnnlr&quot;</td></tr><tr><td>42</td><td>0.069425</td><td>&quot;xszhk&quot;</td></tr><tr><td>82</td><td>0.874121</td><td>&quot;mlldz&quot;</td></tr><tr><td>70</td><td>0.244381</td><td>&quot;pndgg&quot;</td></tr><tr><td>11</td><td>0.618358</td><td>&quot;moqah&quot;</td></tr><tr><td>&hellip;</td><td>&hellip;</td><td>&hellip;</td></tr><tr><td>61</td><td>0.031972</td><td>&quot;uekyx&quot;</td></tr><tr><td>24</td><td>0.444002</td><td>&quot;pgmfz&quot;</td></tr><tr><td>89</td><td>0.134568</td><td>&quot;mnmpk&quot;</td></tr><tr><td>97</td><td>0.826676</td><td>&quot;eeccc&quot;</td></tr><tr><td>62</td><td>0.538978</td><td>&quot;feznm&quot;</td></tr></tbody></table></div>"
      ],
      "text/plain": [
       "shape: (100_000_000, 3)\n",
       "┌───────────┬─────────────┬───────────┐\n",
       "│ int_col_0 ┆ float_col_1 ┆ str_col_2 │\n",
       "│ ---       ┆ ---         ┆ ---       │\n",
       "│ i64       ┆ f64         ┆ str       │\n",
       "╞═══════════╪═════════════╪═══════════╡\n",
       "│ 23        ┆ 0.665972    ┆ gnnlr     │\n",
       "│ 42        ┆ 0.069425    ┆ xszhk     │\n",
       "│ 82        ┆ 0.874121    ┆ mlldz     │\n",
       "│ 70        ┆ 0.244381    ┆ pndgg     │\n",
       "│ 11        ┆ 0.618358    ┆ moqah     │\n",
       "│ …         ┆ …           ┆ …         │\n",
       "│ 61        ┆ 0.031972    ┆ uekyx     │\n",
       "│ 24        ┆ 0.444002    ┆ pgmfz     │\n",
       "│ 89        ┆ 0.134568    ┆ mnmpk     │\n",
       "│ 97        ┆ 0.826676    ┆ eeccc     │\n",
       "│ 62        ┆ 0.538978    ┆ feznm     │\n",
       "└───────────┴─────────────┴───────────┘"
      ]
     },
     "execution_count": 7,
     "metadata": {},
     "output_type": "execute_result"
    }
   ],
   "source": []
  },
  {
   "cell_type": "code",
   "execution_count": null,
   "id": "ab3d44db-03d4-40f5-86f3-ce7499d858d8",
   "metadata": {},
   "outputs": [],
   "source": [
    "# 2) Using Python's random.choices() for random letters\n",
    "letters = [\"a\", \"b\", \"c\", \"d\", \"e\"]\n",
    "df2 = pl.DataFrame({\n",
    "    \"rand_letter\": random.choices(letters, k=5)   # 5 random letters\n",
    "})\n",
    "print(\"\\nRandom data from Python random:\")\n",
    "print(df2)"
   ]
  },
  {
   "cell_type": "code",
   "execution_count": 4,
   "id": "29affdf9-5e85-431e-ae4f-9ccfd261cd6b",
   "metadata": {},
   "outputs": [],
   "source": [
    "# create a Polars DataFrame\n",
    "lf = pl.LazyFrame(data)"
   ]
  },
  {
   "cell_type": "code",
   "execution_count": 5,
   "id": "94e90d69-63f1-48d7-84bf-b7e7560f34e9",
   "metadata": {},
   "outputs": [],
   "source": [
    "del data"
   ]
  },
  {
   "cell_type": "code",
   "execution_count": 9,
   "id": "e6f38a6e-2333-49b8-9269-1ff9d4432b85",
   "metadata": {},
   "outputs": [
    {
     "name": "stdout",
     "output_type": "stream",
     "text": [
      "CPU times: user 23.9 s, sys: 4.63 s, total: 28.6 s\n",
      "Wall time: 22 s\n"
     ]
    }
   ],
   "source": [
    "%%time\n",
    "# 22 s - GPU (A6K)\n",
    "# write to Parquet file\n",
    "lf.collect(engine=\"gpu\").write_parquet(filename)"
   ]
  },
  {
   "cell_type": "code",
   "execution_count": 10,
   "id": "e8735429-d370-4fd2-bc3c-6dd208d86f37",
   "metadata": {},
   "outputs": [
    {
     "name": "stdout",
     "output_type": "stream",
     "text": [
      "-rw-rw-r-- 1 will will 4932501216 Feb 24 13:58 sample.12x100000000.parquet\n"
     ]
    }
   ],
   "source": [
    "!ls -l {filename}"
   ]
  },
  {
   "cell_type": "markdown",
   "id": "c85d85dd-79a8-4f6a-a20d-3734d0189fe6",
   "metadata": {},
   "source": [
    "# Parquet Demo \n",
    "### restart session"
   ]
  },
  {
   "cell_type": "code",
   "execution_count": null,
   "id": "c95e1aee-0e6f-4012-83a8-e111ff0c18e5",
   "metadata": {},
   "outputs": [],
   "source": [
    "import polars as pl\n",
    "import time\n",
    "\n",
    "filename = 'sample.12x100000000.parquet'"
   ]
  },
  {
   "cell_type": "markdown",
   "id": "1a42d3b8-82fc-41e9-a519-806f0d8ec89c",
   "metadata": {},
   "source": [
    "### Get Schema w/out Loading File"
   ]
  },
  {
   "cell_type": "code",
   "execution_count": 3,
   "id": "6fc1ffdf-3ecc-4f9b-8762-6210f3f2c986",
   "metadata": {},
   "outputs": [
    {
     "data": {
      "text/plain": [
       "Schema([('int_col_0', Int64),\n",
       "        ('float_col_1', Float64),\n",
       "        ('str_col_2', String),\n",
       "        ('int_col_3', Int64),\n",
       "        ('float_col_4', Float64),\n",
       "        ('str_col_5', String),\n",
       "        ('int_col_6', Int64),\n",
       "        ('float_col_7', Float64),\n",
       "        ('str_col_8', String),\n",
       "        ('int_col_9', Int64),\n",
       "        ('float_col_10', Float64),\n",
       "        ('str_col_11', String)])"
      ]
     },
     "execution_count": 3,
     "metadata": {},
     "output_type": "execute_result"
    }
   ],
   "source": [
    "pl.scan_parquet(filename).collect_schema()"
   ]
  },
  {
   "cell_type": "markdown",
   "id": "6c104023-f794-4e24-a754-c072f22e6398",
   "metadata": {},
   "source": [
    "### Slow Operations accelerated with GPU \n",
    "* Large aggregations (e.g., groupby(...).agg(...))  \n",
    "* Sorting (especially multi-column sorts on large datasets)  \n",
    "* Joins (hash or sort-merge joins)  \n",
    "* Projections (selecting or transforming multiple columns in parallel)  \n",
    "* Filters (predicate pushdowns where the GPU can scan/filter billions of rows quickly)  "
   ]
  },
  {
   "cell_type": "markdown",
   "id": "6d9b4623-3835-42d5-8a85-457599c4ad05",
   "metadata": {},
   "source": [
    "---"
   ]
  },
  {
   "cell_type": "markdown",
   "id": "5d88e9a3-43f5-4d07-affa-b285944ca958",
   "metadata": {},
   "source": [
    "# Lazy Execution"
   ]
  },
  {
   "cell_type": "code",
   "execution_count": 5,
   "id": "1c9c2f45-8e53-4ec2-ae68-eb9c20ee488d",
   "metadata": {},
   "outputs": [],
   "source": [
    "import polars as pl\n",
    "import time\n",
    "\n",
    "filename = 'sample.12x100000000.parquet'"
   ]
  },
  {
   "cell_type": "code",
   "execution_count": 6,
   "id": "ad38fd01-66f1-4f20-9953-4d2e64e2e7e2",
   "metadata": {},
   "outputs": [],
   "source": [
    "lf = (\n",
    "\n",
    "    # scan_parquet (lazy) - read_parquet (eager)\n",
    "    pl.scan_parquet(filename)\n",
    "\n",
    "    # row filter\n",
    "    .filter(pl.col(\"int_col_0\") > 50)\n",
    "\n",
    "    # sorting\n",
    "    .sort([\"float_col_7\", \"int_col_6\"], descending=[True, False])\n",
    "\n",
    "    # grouping & aggregating\n",
    "    .group_by(\"str_col_2\").agg([\n",
    "        pl.col(\"int_col_0\").mean(),\n",
    "        pl.col(\"float_col_1\").mean(),\n",
    "        pl.col(\"int_col_3\").mean(),\n",
    "        pl.col(\"float_col_4\").mean(),\n",
    "        pl.col(\"int_col_6\").mean(),\n",
    "        pl.col(\"float_col_7\").mean(),\n",
    "    ])\n",
    "    \n",
    "    # column filter    \n",
    "    .select([\"int_col_0\", \"float_col_1\", \"str_col_2\", \"int_col_3\"])    \n",
    ")"
   ]
  },
  {
   "cell_type": "code",
   "execution_count": 7,
   "id": "6e605e35-b90a-42ee-8f5f-29c33b0176d4",
   "metadata": {},
   "outputs": [
    {
     "name": "stdout",
     "output_type": "stream",
     "text": [
      "0.99\n",
      "\n"
     ]
    }
   ],
   "source": [
    "start = time.time()\n",
    "\n",
    "df = lf.collect(engine=\"gpu\")\n",
    "\n",
    "print(round(time.time() - start,2), end=\"\\n\\n\")"
   ]
  },
  {
   "cell_type": "markdown",
   "id": "ccf3ba17-058a-4bed-9f3e-037453fd9672",
   "metadata": {},
   "source": [
    "# Eager Execution"
   ]
  },
  {
   "cell_type": "code",
   "execution_count": 12,
   "id": "3762250d-6227-4830-a36f-6281a6763829",
   "metadata": {},
   "outputs": [
    {
     "name": "stdout",
     "output_type": "stream",
     "text": [
      "5.0305\n",
      "\n"
     ]
    }
   ],
   "source": [
    "# 5.22 s\n",
    "start = time.time()\n",
    "\n",
    "df = (\n",
    "    # scan_parquet (lazy) - read_parquet (eager)\n",
    "    pl.read_parquet(filename)\n",
    "    \n",
    "     # row filter\n",
    "    .filter(pl.col(\"int_col_0\") > 50)\n",
    "\n",
    "    # sorting\n",
    "    .sort([\"float_col_7\", \"int_col_6\"], descending=[True, False])\n",
    "\n",
    "    # grouping & aggregating\n",
    "    .group_by(\"str_col_2\").agg([\n",
    "        pl.col(\"int_col_0\").mean(),\n",
    "        pl.col(\"float_col_1\").mean(),\n",
    "        pl.col(\"int_col_3\").mean(),\n",
    "        pl.col(\"float_col_4\").mean(),\n",
    "        pl.col(\"int_col_6\").mean(),\n",
    "        pl.col(\"float_col_7\").mean(),\n",
    "    ])\n",
    "    \n",
    "    # column filter    \n",
    "    .select([\"int_col_0\", \"float_col_1\", \"str_col_2\", \"int_col_3\"])    \n",
    ")\n",
    "\n",
    "print(round(time.time() - start,4), end=\"\\n\\n\")"
   ]
  },
  {
   "cell_type": "code",
   "execution_count": 13,
   "id": "9093f17e-235c-465f-a77d-5136b9ee9bc6",
   "metadata": {},
   "outputs": [
    {
     "data": {
      "text/html": [
       "<div><style>\n",
       ".dataframe > thead > tr,\n",
       ".dataframe > tbody > tr {\n",
       "  text-align: right;\n",
       "  white-space: pre-wrap;\n",
       "}\n",
       "</style>\n",
       "<small>shape: (11_688_597, 4)</small><table border=\"1\" class=\"dataframe\"><thead><tr><th>int_col_0</th><th>float_col_1</th><th>str_col_2</th><th>int_col_3</th></tr><tr><td>f64</td><td>f64</td><td>str</td><td>f64</td></tr></thead><tbody><tr><td>71.0</td><td>0.509543</td><td>&quot;zpmwr&quot;</td><td>63.0</td></tr><tr><td>75.363636</td><td>0.524108</td><td>&quot;ztgjs&quot;</td><td>46.181818</td></tr><tr><td>75.666667</td><td>0.477204</td><td>&quot;kfasx&quot;</td><td>62.833333</td></tr><tr><td>74.0</td><td>0.057641</td><td>&quot;eicll&quot;</td><td>85.0</td></tr><tr><td>87.0</td><td>0.207514</td><td>&quot;uzryj&quot;</td><td>74.333333</td></tr><tr><td>&hellip;</td><td>&hellip;</td><td>&hellip;</td><td>&hellip;</td></tr><tr><td>75.0</td><td>0.67616</td><td>&quot;bwwib&quot;</td><td>41.0</td></tr><tr><td>74.2</td><td>0.294168</td><td>&quot;iguka&quot;</td><td>50.4</td></tr><tr><td>97.0</td><td>0.266422</td><td>&quot;qzoib&quot;</td><td>26.0</td></tr><tr><td>76.5</td><td>0.65473</td><td>&quot;tjbeu&quot;</td><td>58.375</td></tr><tr><td>74.375</td><td>0.649077</td><td>&quot;qyxed&quot;</td><td>46.0</td></tr></tbody></table></div>"
      ],
      "text/plain": [
       "shape: (11_688_597, 4)\n",
       "┌───────────┬─────────────┬───────────┬───────────┐\n",
       "│ int_col_0 ┆ float_col_1 ┆ str_col_2 ┆ int_col_3 │\n",
       "│ ---       ┆ ---         ┆ ---       ┆ ---       │\n",
       "│ f64       ┆ f64         ┆ str       ┆ f64       │\n",
       "╞═══════════╪═════════════╪═══════════╪═══════════╡\n",
       "│ 71.0      ┆ 0.509543    ┆ zpmwr     ┆ 63.0      │\n",
       "│ 75.363636 ┆ 0.524108    ┆ ztgjs     ┆ 46.181818 │\n",
       "│ 75.666667 ┆ 0.477204    ┆ kfasx     ┆ 62.833333 │\n",
       "│ 74.0      ┆ 0.057641    ┆ eicll     ┆ 85.0      │\n",
       "│ 87.0      ┆ 0.207514    ┆ uzryj     ┆ 74.333333 │\n",
       "│ …         ┆ …           ┆ …         ┆ …         │\n",
       "│ 75.0      ┆ 0.67616     ┆ bwwib     ┆ 41.0      │\n",
       "│ 74.2      ┆ 0.294168    ┆ iguka     ┆ 50.4      │\n",
       "│ 97.0      ┆ 0.266422    ┆ qzoib     ┆ 26.0      │\n",
       "│ 76.5      ┆ 0.65473     ┆ tjbeu     ┆ 58.375    │\n",
       "│ 74.375    ┆ 0.649077    ┆ qyxed     ┆ 46.0      │\n",
       "└───────────┴─────────────┴───────────┴───────────┘"
      ]
     },
     "metadata": {},
     "output_type": "display_data"
    }
   ],
   "source": [
    "display(df)"
   ]
  }
 ],
 "metadata": {
  "kernelspec": {
   "display_name": "Python 3 (ipykernel)",
   "language": "python",
   "name": "python3"
  },
  "language_info": {
   "codemirror_mode": {
    "name": "ipython",
    "version": 3
   },
   "file_extension": ".py",
   "mimetype": "text/x-python",
   "name": "python",
   "nbconvert_exporter": "python",
   "pygments_lexer": "ipython3",
   "version": "3.12.3"
  }
 },
 "nbformat": 4,
 "nbformat_minor": 5
}

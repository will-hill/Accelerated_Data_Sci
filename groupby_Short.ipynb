{
 "cells": [
  {
   "cell_type": "code",
   "execution_count": null,
   "id": "efae1549-9cf8-4086-9f92-f6ea3fa493e2",
   "metadata": {},
   "outputs": [],
   "source": [
    "import pandas as pd\n",
    "import numpy as np\n",
    "pd"
   ]
  },
  {
   "cell_type": "markdown",
   "id": "6300c854-f987-4e8e-a25f-1dd3f7c9a389",
   "metadata": {},
   "source": [
    "  "
   ]
  },
  {
   "cell_type": "markdown",
   "id": "26277cef-e0e7-465d-a6ed-48d94b436e56",
   "metadata": {},
   "source": [
    "### Student Styling Code"
   ]
  },
  {
   "cell_type": "code",
   "execution_count": null,
   "id": "89699211-f82e-4715-acbb-8c80ee1213fa",
   "metadata": {},
   "outputs": [],
   "source": [
    "def color_student_column(student):\n",
    "    return {\n",
    "        'Ada': 'background-color: lightgreen; color: black;',\n",
    "        'Bob': 'background-color: lightblue; color: black;',\n",
    "        'Cam': 'background-color: lightgoldenrodyellow; color: black;',\n",
    "        'Dan': 'background-color: lightcoral; color: black;'\n",
    "    }.get(student, '')"
   ]
  },
  {
   "cell_type": "markdown",
   "id": "1c328848-1ba9-472f-a1d9-eaab2221134f",
   "metadata": {},
   "source": [
    "  "
   ]
  },
  {
   "cell_type": "markdown",
   "id": "f25ca0b0-62e8-464c-af8d-b4bf2052203a",
   "metadata": {},
   "source": [
    "  "
   ]
  },
  {
   "cell_type": "markdown",
   "id": "6f523e64-ea2f-4656-8d71-ff95f59ac61f",
   "metadata": {},
   "source": [
    "# Single Value Column Example"
   ]
  },
  {
   "cell_type": "code",
   "execution_count": null,
   "id": "1a3b7938-e651-4838-9c28-2dcb710eb608",
   "metadata": {},
   "outputs": [],
   "source": [
    "n_grades = 5\n",
    "\n",
    "grades_df = (pd.DataFrame({\n",
    "                    \"Ada\": np.random.randint(low=87, high=100, size=n_grades),\n",
    "                    \"Bob\": np.random.randint(low=77, high=93, size=n_grades),\n",
    "                    \"Cam\": np.random.randint(low=67, high=85, size=n_grades),\n",
    "                    \"Dan\": np.random.randint(low=60, high=76, size=n_grades)\n",
    "              })\n",
    "             .melt(var_name=\"student\", value_name=\"grade\")\n",
    "             .sample(frac=1, random_state=42)\n",
    "             .reset_index(drop=True)\n",
    "             .sort_values([\"student\", \"grade\"], ascending=[True, False]))\n",
    "\n",
    "(\n",
    "    grades_df\n",
    "    .style.map(color_student_column, subset=['student'])\n",
    "    .background_gradient(subset=['grade'], cmap=\"RdYlGn\", vmin=65, vmax=100)  # add color to grades table\n",
    ")"
   ]
  },
  {
   "cell_type": "markdown",
   "id": "0bf617e6-f0a2-4ef4-b14e-d40c0dce01d0",
   "metadata": {},
   "source": [
    "  "
   ]
  },
  {
   "cell_type": "code",
   "execution_count": null,
   "id": "ee54f0c3-6df6-4abd-95ad-60ae24f012d5",
   "metadata": {},
   "outputs": [],
   "source": [
    "(\n",
    "    grades_df\n",
    "    .groupby(\"student\")\n",
    "    .mean() \n",
    "    \n",
    "    .reset_index(drop=False) # change 'student' from index to column for styling    \n",
    "    .style.map(color_student_column, subset=['student']) # color code students    \n",
    "    .background_gradient(subset=['grade'], cmap=\"RdYlGn\", vmin=65, vmax=100) # color code grades    \n",
    "    .format(precision=2) # round to 2 decimals\n",
    ")"
   ]
  },
  {
   "cell_type": "markdown",
   "id": "d2a5dcb5-2002-4324-9dd5-53d4725edd7e",
   "metadata": {},
   "source": [
    "## groupby.agg - <i>canonical w/dict</i>"
   ]
  },
  {
   "cell_type": "code",
   "execution_count": null,
   "id": "e62fb340-c9bd-40dc-a588-4684ffb07977",
   "metadata": {},
   "outputs": [],
   "source": [
    "(\n",
    "    grades_df\n",
    "    .groupby(by=[\"student\"])\n",
    "    .agg( {\"grade\": [\"mean\"]} )\n",
    "\n",
    "    .reset_index(drop=False) # change 'student' from index to column for styling    \n",
    "    .style.map(color_student_column, subset=['student']) # color code students    \n",
    "    .background_gradient(subset=['grade'], cmap=\"RdYlGn\", vmin=65, vmax=100) # color code grades    \n",
    "    .format(precision=2) # round to 2 decimals       \n",
    ")"
   ]
  },
  {
   "cell_type": "markdown",
   "id": "e7404851-c6f5-4f35-a68b-1f8a108fbc4d",
   "metadata": {},
   "source": [
    "## groupby.agg - <i>canonical w/parens</i>"
   ]
  },
  {
   "cell_type": "code",
   "execution_count": null,
   "id": "16739399-e58e-425e-94db-b4c4b2b23091",
   "metadata": {},
   "outputs": [],
   "source": [
    "(\n",
    "    grades_df\n",
    "    .groupby(by=[\"student\"])\n",
    "    .agg( grade_mean=(\"grade\", \"mean\") )\n",
    "        \n",
    "    .reset_index(drop=False) # change 'student' from index to column for styling    \n",
    "    .style.map(color_student_column, subset=['student']) # color code students    \n",
    "    .background_gradient(subset=['grade_mean'], cmap=\"RdYlGn\", vmin=65, vmax=100) # color code grades    \n",
    "    .format(precision=2) # round to 2 decimals\n",
    ")"
   ]
  },
  {
   "cell_type": "markdown",
   "id": "292a6e22-e4a2-4b02-82dc-2fe7b3f88295",
   "metadata": {},
   "source": [
    "<br/>"
   ]
  },
  {
   "cell_type": "markdown",
   "id": "a5d77f44-52db-476a-a09e-c74f6ad221d5",
   "metadata": {},
   "source": [
    "# 2 Value Columns Example"
   ]
  },
  {
   "cell_type": "code",
   "execution_count": null,
   "id": "e89eecf1-6057-42ed-83d6-d191998fa366",
   "metadata": {},
   "outputs": [],
   "source": [
    "students = [\"Ada\", \"Bob\", \"Cam\", \"Dan\"]\n",
    "quarters = list(range(1,5))\n",
    "\n",
    "data = []\n",
    "for student in students:\n",
    "    for quarter in quarters:\n",
    "        \n",
    "        if student == \"Ada\":\n",
    "            grade = np.random.randint(90, 101)\n",
    "            absences = np.random.randint(0, 2)\n",
    "        \n",
    "        elif student == \"Bob\":\n",
    "            grade = np.random.randint(80, 90) \n",
    "            absences = np.random.randint(1, 3)\n",
    "        \n",
    "        elif student == \"Cam\":\n",
    "            grade = np.random.randint(70, 80)  \n",
    "            absences = np.random.randint(2, 4)  \n",
    "        \n",
    "        elif student == \"Dan\":\n",
    "            grade = np.random.randint(65, 72)     \n",
    "            absences = np.random.randint(3, 5)\n",
    "        \n",
    "        data.append([quarter, student, grade, absences])\n",
    "\n",
    "df = (\n",
    "    pd.DataFrame(data, columns=[\"qtr\", \"student\", \"grade\", \"absences\"])\n",
    "    .sort_values([\"qtr\", \"student\"])\n",
    "    .reset_index(drop=True)\n",
    ")\n",
    "(\n",
    "    df    \n",
    "    .style.map(color_student_column, subset=['student']) # color code students    \n",
    "    .background_gradient(subset=['grade'], cmap=\"PuBuGn\", vmin=65, vmax=100) # color code grades    \n",
    "    .background_gradient(subset=['qtr'], cmap=\"Grays\", vmin=1, vmax=4) # color code qtr    \n",
    "    .background_gradient(subset=['absences'], cmap=\"GnBu\", vmin=0, vmax=10) # color code absences\n",
    ")"
   ]
  },
  {
   "cell_type": "markdown",
   "id": "b44e72a8-a76b-4852-bca9-79cd3c12346a",
   "metadata": {},
   "source": [
    "# groupby.agg - <i>simplest form</i>"
   ]
  },
  {
   "cell_type": "code",
   "execution_count": null,
   "id": "87d0c1fd-a3e4-4338-a371-54be96bc68bb",
   "metadata": {},
   "outputs": [],
   "source": [
    "(\n",
    "    df\n",
    "    [[\"student\", \"grade\"]]\n",
    "    .groupby(\"student\")\n",
    "    .mean()\n",
    "\n",
    "    .reset_index(drop=False)  # change 'student' from index to column for styling\n",
    "    .style.map(color_student_column, subset=['student'])  # color code students\n",
    "    .background_gradient(subset=['grade'], cmap=\"PuBuGn\", vmin=65, vmax=100) # color code grades    \n",
    "    .format(precision=2) # round to 2 decimals\n",
    ")"
   ]
  },
  {
   "cell_type": "markdown",
   "id": "01920044-0b2a-40bd-827b-0c9ab843724f",
   "metadata": {},
   "source": [
    "# groupby.agg - <i>canonical w/dict</i>"
   ]
  },
  {
   "cell_type": "code",
   "execution_count": null,
   "id": "e1f9051b-9ef9-40a0-bb00-091e5228751f",
   "metadata": {},
   "outputs": [],
   "source": [
    "(\n",
    "    df\n",
    "    .groupby(by=[\"student\"])\n",
    "    .agg(\n",
    "        {\"grade\":[\"mean\", \"std\"],\n",
    "         \"absences\":[\"sum\"]},\n",
    "    )\n",
    "\n",
    "    .reset_index(drop=False)  # change 'student' from index to column for styling\n",
    "    .style.map(color_student_column, subset=['student'])  # color code students\n",
    "    .background_gradient(subset=[('grade', 'mean')], cmap=\"PuBuGn\", vmin=65, vmax=100)  # color code grades\n",
    "    .background_gradient(subset=[('grade', 'std')], cmap=\"Blues\", vmin=0, vmax=10) # color code std\n",
    "    .background_gradient(subset=[('absences', 'sum')], cmap=\"GnBu\", vmin=0, vmax=20) # color code absences        \n",
    "    .format(precision=2) # round to 2 decimals\n",
    ")"
   ]
  },
  {
   "cell_type": "markdown",
   "id": "00fc95af-732d-4ed6-9224-4be41fc97bf5",
   "metadata": {},
   "source": [
    "# groupby.agg - <i>canonical w/parens</i>"
   ]
  },
  {
   "cell_type": "code",
   "execution_count": null,
   "id": "316324c2-a60d-42be-87d8-c2e3efb701ac",
   "metadata": {},
   "outputs": [],
   "source": [
    "(\n",
    "    df\n",
    "    .groupby(by=[\"student\"])\n",
    "    .agg(\n",
    "        grade_mean=(\"grade\", \"mean\"),\n",
    "        grade_std=(\"grade\", \"std\"),\n",
    "        absences_sum=(\"absences\", \"sum\"))\n",
    "    \n",
    "    .reset_index(drop=False)  # change 'student' from index to column for styling\n",
    "    .style.map(color_student_column, subset=['student']) # color code students    \n",
    "    .background_gradient(subset=['grade_mean'], cmap=\"PuBuGn\", vmin=65, vmax=100) # color code grades    \n",
    "    .background_gradient(subset=['grade_std'], cmap=\"Blues\", vmin=0, vmax=10) # color code std    \n",
    "    .background_gradient(subset=['absences_sum'], cmap=\"GnBu\", vmin=0, vmax=20) # color code absences    \n",
    "    .format(precision=2) # round to 2 decimals\n",
    ")"
   ]
  },
  {
   "cell_type": "markdown",
   "id": "0d87eb57-2cf9-4574-a3f3-14418b33f4b4",
   "metadata": {},
   "source": [
    "<br/>"
   ]
  },
  {
   "cell_type": "markdown",
   "id": "c511815f-5c38-4450-91b6-d60449384dee",
   "metadata": {},
   "source": [
    "<br/>"
   ]
  },
  {
   "cell_type": "markdown",
   "id": "0d39de2d-17b3-4b95-bd60-c48ac4c93f38",
   "metadata": {},
   "source": [
    "<br/>"
   ]
  },
  {
   "cell_type": "markdown",
   "id": "cdab0f2e-b292-4352-8d3c-9a2860af503f",
   "metadata": {},
   "source": [
    "<br/>"
   ]
  },
  {
   "cell_type": "markdown",
   "id": "07b64f47-a1b2-4936-88d5-491098df5b0e",
   "metadata": {},
   "source": [
    "<br/>"
   ]
  },
  {
   "cell_type": "markdown",
   "id": "5d2be622-ee06-4572-b806-04fdc8cc766c",
   "metadata": {},
   "source": [
    "# RAPIDS ON/OFF - 400M Rows"
   ]
  },
  {
   "cell_type": "code",
   "execution_count": 1,
   "id": "68767e23-7846-45ef-b78b-082c5847742a",
   "metadata": {},
   "outputs": [],
   "source": [
    "%load_ext cudf.pandas"
   ]
  },
  {
   "cell_type": "code",
   "execution_count": 2,
   "id": "4e7b9956-0d73-4fee-82a6-88cb4614a4d6",
   "metadata": {},
   "outputs": [
    {
     "data": {
      "text/plain": [
       "<module 'pandas' (ModuleAccelerator(fast=cudf, slow=pandas))>"
      ]
     },
     "execution_count": 2,
     "metadata": {},
     "output_type": "execute_result"
    }
   ],
   "source": [
    "import pandas as pd\n",
    "import numpy as np\n",
    "pd"
   ]
  },
  {
   "cell_type": "markdown",
   "id": "8685f574-25ed-471c-b5d2-0747c3353766",
   "metadata": {},
   "source": [
    "<br/>"
   ]
  },
  {
   "cell_type": "markdown",
   "id": "d207565a-81fe-4838-9c3a-7be082802a51",
   "metadata": {},
   "source": [
    "## Host"
   ]
  },
  {
   "cell_type": "code",
   "execution_count": 3,
   "id": "5a3fe31a-2eae-48ad-bc04-9cf8b205f4b8",
   "metadata": {},
   "outputs": [
    {
     "name": "stdout",
     "output_type": "stream",
     "text": [
      "32 CPU cores\n"
     ]
    }
   ],
   "source": [
    "!echo $(nproc) \"CPU cores\""
   ]
  },
  {
   "cell_type": "code",
   "execution_count": 4,
   "id": "56ed52bd-3739-44b5-b420-61e330f6791c",
   "metadata": {},
   "outputs": [
    {
     "name": "stdout",
     "output_type": "stream",
     "text": [
      "62 GB\n"
     ]
    }
   ],
   "source": [
    "!free -g | awk 'NR==2 {print $2 \" GB\"}'"
   ]
  },
  {
   "cell_type": "markdown",
   "id": "8b66d8db-d930-451b-8641-63ef0eeccb6c",
   "metadata": {},
   "source": [
    "<br/>"
   ]
  },
  {
   "cell_type": "markdown",
   "id": "4cd028ba-5c39-42ec-8b44-81cfbeff0fe9",
   "metadata": {},
   "source": [
    "### GPU"
   ]
  },
  {
   "cell_type": "code",
   "execution_count": 5,
   "id": "388eba5d-4ef5-4179-8695-9a1b1c03ab41",
   "metadata": {},
   "outputs": [
    {
     "name": "stdout",
     "output_type": "stream",
     "text": [
      "|   0  NVIDIA RTX 6000 Ada Gene...    Off |   00000000:01:00.0 Off |                    0 |\n"
     ]
    }
   ],
   "source": [
    "!nvidia-smi | grep 'NVIDIA RTX 6000 Ada'"
   ]
  },
  {
   "cell_type": "code",
   "execution_count": 6,
   "id": "dbd4bee7-1298-4aac-9eee-f101d775a856",
   "metadata": {},
   "outputs": [
    {
     "name": "stdout",
     "output_type": "stream",
     "text": [
      "| 30%   46C    P2             67W /  300W |     870MiB /  46068MiB |      0%      Default |\n"
     ]
    }
   ],
   "source": [
    "!nvidia-smi | grep 46068MiB"
   ]
  },
  {
   "cell_type": "markdown",
   "id": "5c2ce1c0-7c3d-4eb5-8948-7042fce1e5c2",
   "metadata": {},
   "source": [
    "<br/>"
   ]
  },
  {
   "cell_type": "markdown",
   "id": "68563f2d-308c-4cac-b68f-323ad3872abc",
   "metadata": {},
   "source": [
    "<br/>"
   ]
  },
  {
   "cell_type": "markdown",
   "id": "4a33b31f-96a6-464c-91f6-a69777919d50",
   "metadata": {},
   "source": [
    "# <span style=\"color: green;\">x 13 speedup</span> - 🏎️🏎️🏎️🏎️🏎️🏎️🏎️🏎️🏎️🏎️🏎️🏎️🏎️"
   ]
  },
  {
   "cell_type": "code",
   "execution_count": 7,
   "id": "244a1477-2e7d-4e3e-971d-5ac3985e5494",
   "metadata": {},
   "outputs": [
    {
     "name": "stdout",
     "output_type": "stream",
     "text": [
      "CPU times: user 5.82 s, sys: 1.79 s, total: 7.61 s\n",
      "Wall time: 3.03 s\n"
     ]
    }
   ],
   "source": [
    "%%time\n",
    "# CPU - 39.2  s\n",
    "# GPU -  3.02 s\n",
    "\n",
    "grades_df = pd.read_csv(\"400M_grades.csv\")"
   ]
  },
  {
   "cell_type": "code",
   "execution_count": 8,
   "id": "a4a74bbd-27c5-4164-952a-ed2bfbcbe156",
   "metadata": {},
   "outputs": [
    {
     "data": {
      "text/html": [
       "<div>\n",
       "<style scoped>\n",
       "    .dataframe tbody tr th:only-of-type {\n",
       "        vertical-align: middle;\n",
       "    }\n",
       "\n",
       "    .dataframe tbody tr th {\n",
       "        vertical-align: top;\n",
       "    }\n",
       "\n",
       "    .dataframe thead th {\n",
       "        text-align: right;\n",
       "    }\n",
       "</style>\n",
       "<table border=\"1\" class=\"dataframe\">\n",
       "  <thead>\n",
       "    <tr style=\"text-align: right;\">\n",
       "      <th></th>\n",
       "      <th>student</th>\n",
       "      <th>exam</th>\n",
       "      <th>quiz</th>\n",
       "    </tr>\n",
       "  </thead>\n",
       "  <tbody>\n",
       "    <tr>\n",
       "      <th>288497474</th>\n",
       "      <td>Dan</td>\n",
       "      <td>75.129105</td>\n",
       "      <td>56.334813</td>\n",
       "    </tr>\n",
       "  </tbody>\n",
       "</table>\n",
       "</div>"
      ],
      "text/plain": [
       "          student       exam       quiz\n",
       "288497474     Dan  75.129105  56.334813"
      ]
     },
     "execution_count": 8,
     "metadata": {},
     "output_type": "execute_result"
    }
   ],
   "source": [
    "grades_df.sample(1)"
   ]
  },
  {
   "cell_type": "markdown",
   "id": "22f0dadb-6361-4d96-9bc8-e1403ea82cef",
   "metadata": {},
   "source": [
    "  "
   ]
  },
  {
   "cell_type": "markdown",
   "id": "2662afb9-f3f8-4f14-a9b3-e77503094f00",
   "metadata": {},
   "source": [
    "  "
   ]
  },
  {
   "cell_type": "markdown",
   "id": "7125b40c-3969-45b0-917e-c95ae90a7bfb",
   "metadata": {},
   "source": [
    "  "
   ]
  },
  {
   "cell_type": "markdown",
   "id": "e36f15f0-567e-46ee-b5cf-3d9059dfa2db",
   "metadata": {},
   "source": [
    "# groupby.agg - <i>simplest form</i>"
   ]
  },
  {
   "cell_type": "markdown",
   "id": "b087615b-e00f-451b-8350-e9eccf4de949",
   "metadata": {},
   "source": [
    "# <span style=\"color: green;\">x 61 speedup</span> - 🏎️🏎️🏎️🏎️🏎️🏎️🏎️🏎️🏎️🏎️🏎️🏎️🏎️🏎️🏎️🏎️🏎️🏎️🏎️🏎️🏎️🏎️🏎️🏎️🏎️🏎️🏎️🏎️🏎️🏎️🏎️🏎️🏎️🏎️🏎️🏎️🏎️🏎️🏎️🏎️🏎️🏎️🏎️🏎️🏎️🏎️🏎️🏎️🏎️🏎️🏎️🏎️🏎️🏎️🏎️🏎️🏎️🏎️🏎️🏎️🏎️"
   ]
  },
  {
   "cell_type": "code",
   "execution_count": 9,
   "id": "e93317b9-08bd-4ef1-860b-4eaf43c08834",
   "metadata": {},
   "outputs": [
    {
     "name": "stdout",
     "output_type": "stream",
     "text": [
      "CPU times: user 96.7 ms, sys: 96.4 ms, total: 193 ms\n",
      "Wall time: 144 ms\n"
     ]
    }
   ],
   "source": [
    "%%time\n",
    "# CPU - 9.12 s\n",
    "# GPU - 0.148\n",
    "\n",
    "summary = (\n",
    "    grades_df\n",
    "    .groupby(\"student\")\n",
    "    .mean()\n",
    ")"
   ]
  },
  {
   "cell_type": "markdown",
   "id": "7302d093-3967-4460-bcc8-4c8ebe915504",
   "metadata": {},
   "source": [
    "  "
   ]
  },
  {
   "cell_type": "markdown",
   "id": "3a62cf83-7e82-4835-abf0-ba79d5b1501f",
   "metadata": {},
   "source": [
    "  "
   ]
  },
  {
   "cell_type": "markdown",
   "id": "ba1325fa-7f7b-4f09-b2cb-a06c4449c750",
   "metadata": {},
   "source": [
    "  "
   ]
  },
  {
   "cell_type": "markdown",
   "id": "6aa872d6-438f-4bf4-8a53-7244fec847e4",
   "metadata": {},
   "source": [
    "# groupby.agg - <i>canonical w/dict</i>"
   ]
  },
  {
   "cell_type": "markdown",
   "id": "bf69d856-2e7d-4578-8592-d7c7ed261c3d",
   "metadata": {},
   "source": [
    "# <span style=\"color: green;\">x 11 speedup</span> - 🏎️🏎️🏎️🏎️🏎️🏎️🏎️🏎️🏎️🏎️🏎️"
   ]
  },
  {
   "cell_type": "code",
   "execution_count": 10,
   "id": "d8828f1e-f7c2-4e91-8b74-6126eb4369ab",
   "metadata": {},
   "outputs": [
    {
     "name": "stdout",
     "output_type": "stream",
     "text": [
      "CPU times: user 1.05 s, sys: 660 ms, total: 1.71 s\n",
      "Wall time: 1.24 s\n"
     ]
    }
   ],
   "source": [
    "%%time\n",
    "# CPU - 12.9  s\n",
    "# GPU -  1.22 s\n",
    "\n",
    "summary = (\n",
    "    grades_df\n",
    "    .groupby(by=[\"student\"])\n",
    "    .agg({\n",
    "        \"exam\":[\"mean\", \"min\", \"max\", \"std\"],\n",
    "        \"quiz\":[\"mean\", \"min\", \"max\", \"std\"],\n",
    "    })    \n",
    ")"
   ]
  },
  {
   "cell_type": "markdown",
   "id": "60b08e12-7106-46c9-86d4-8c7c0ef9e91f",
   "metadata": {},
   "source": [
    "  "
   ]
  },
  {
   "cell_type": "markdown",
   "id": "060fd809-de05-423b-aa5c-9744af648fd8",
   "metadata": {},
   "source": [
    "  "
   ]
  },
  {
   "cell_type": "markdown",
   "id": "73f40c56-940f-40eb-a991-4bd300b46ac8",
   "metadata": {},
   "source": [
    "  "
   ]
  },
  {
   "cell_type": "markdown",
   "id": "865451f1-92f0-4000-bf68-b29864519a9a",
   "metadata": {},
   "source": [
    "# groupby.agg - <i>canonical w/parens</i>"
   ]
  },
  {
   "cell_type": "markdown",
   "id": "01f3922f-7d3f-40bc-a2b9-daee2248dcd4",
   "metadata": {},
   "source": [
    "# <span style=\"color: green;\">x 6 Speedup</span> - 🏎️🏎️🏎️🏎️🏎️🏎️"
   ]
  },
  {
   "cell_type": "code",
   "execution_count": 11,
   "id": "357e8f6a-cf96-485e-8e19-237b1ac98982",
   "metadata": {},
   "outputs": [
    {
     "name": "stdout",
     "output_type": "stream",
     "text": [
      "CPU times: user 1.2 s, sys: 1.05 s, total: 2.25 s\n",
      "Wall time: 1.9 s\n"
     ]
    }
   ],
   "source": [
    "%%time\n",
    "# CPU - 12.8  s\n",
    "# GPU -  1.95 s \n",
    "\n",
    "summary = (\n",
    "    grades_df\n",
    "    .groupby(by=[\"student\"])\n",
    "    .agg(\n",
    "        exam_mean=(\"exam\", \"mean\"),\n",
    "        exam_min=(\"exam\", \"min\"),\n",
    "        exam_max=(\"exam\", \"max\"),\n",
    "        exam_std=(\"exam\", \"std\"),\n",
    "\n",
    "        quiz_mean=(\"quiz\", \"mean\"),\n",
    "        quiz_min=(\"quiz\", \"min\"),\n",
    "        quiz_max=(\"quiz\", \"max\"),\n",
    "        quiz_std=(\"quiz\", \"std\")\n",
    "    )    \n",
    ")"
   ]
  },
  {
   "cell_type": "markdown",
   "id": "e51d74e4-b948-4e6a-949e-1b6090577bb5",
   "metadata": {},
   "source": [
    "  "
   ]
  },
  {
   "cell_type": "markdown",
   "id": "4aa1cf03-1403-4ed0-99ac-573f4598afca",
   "metadata": {},
   "source": [
    "  "
   ]
  },
  {
   "cell_type": "markdown",
   "id": "6934c828-7331-4b06-826e-25198f22056b",
   "metadata": {},
   "source": [
    "  "
   ]
  },
  {
   "cell_type": "markdown",
   "id": "2c987669-b749-4c84-a059-125e30c32f47",
   "metadata": {},
   "source": [
    "  "
   ]
  },
  {
   "cell_type": "markdown",
   "id": "b3e071d7-b813-4c16-9ef1-e288f05aa35f",
   "metadata": {},
   "source": [
    "  "
   ]
  },
  {
   "cell_type": "markdown",
   "id": "b7d1a99f-9925-48ed-8e4e-aeefcca2bdcd",
   "metadata": {},
   "source": [
    "  "
   ]
  },
  {
   "cell_type": "markdown",
   "id": "c68561c9-2663-4ba7-a372-5ca2d4d9c060",
   "metadata": {},
   "source": [
    "  "
   ]
  },
  {
   "cell_type": "markdown",
   "id": "567a6320-56de-45cb-927c-6a8b93367ce1",
   "metadata": {},
   "source": [
    "  "
   ]
  },
  {
   "cell_type": "markdown",
   "id": "3c254c76-d45a-4cf3-b7d6-541ba8ff5e83",
   "metadata": {},
   "source": [
    "  "
   ]
  },
  {
   "cell_type": "markdown",
   "id": "f4e8c9d5-2b7e-404c-af6a-bffd4fc1259c",
   "metadata": {},
   "source": [
    "  "
   ]
  },
  {
   "cell_type": "markdown",
   "id": "1ddf2c60-8f82-4472-ae54-28a6c3c922d1",
   "metadata": {},
   "source": [
    "  "
   ]
  }
 ],
 "metadata": {
  "kernelspec": {
   "display_name": "Python 3 (ipykernel)",
   "language": "python",
   "name": "python3"
  },
  "language_info": {
   "codemirror_mode": {
    "name": "ipython",
    "version": 3
   },
   "file_extension": ".py",
   "mimetype": "text/x-python",
   "name": "python",
   "nbconvert_exporter": "python",
   "pygments_lexer": "ipython3",
   "version": "3.12.3"
  }
 },
 "nbformat": 4,
 "nbformat_minor": 5
}
